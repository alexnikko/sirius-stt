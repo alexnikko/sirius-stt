{
 "cells": [
  {
   "cell_type": "code",
   "execution_count": 1,
   "metadata": {
    "ExecuteTime": {
     "end_time": "2021-03-21T08:15:31.909139Z",
     "start_time": "2021-03-21T08:15:31.884224Z"
    }
   },
   "outputs": [],
   "source": [
    "%config Completer.use_jedi = False\n",
    "%load_ext autoreload\n",
    "%autoreload 2"
   ]
  },
  {
   "cell_type": "code",
   "execution_count": 2,
   "metadata": {
    "ExecuteTime": {
     "end_time": "2021-03-21T08:15:32.109613Z",
     "start_time": "2021-03-21T08:15:32.102263Z"
    }
   },
   "outputs": [],
   "source": [
    "import warnings\n",
    "from pprint import pprint\n",
    "\n",
    "warnings.filterwarnings(\"ignore\", category=DeprecationWarning) \n",
    "warnings.filterwarnings(\"ignore\", category=UserWarning)"
   ]
  },
  {
   "cell_type": "code",
   "execution_count": 3,
   "metadata": {
    "ExecuteTime": {
     "end_time": "2021-03-21T08:15:32.860137Z",
     "start_time": "2021-03-21T08:15:32.298818Z"
    },
    "tags": [
     "torch"
    ]
   },
   "outputs": [],
   "source": [
    "import os\n",
    "import torch\n",
    "import numpy as np"
   ]
  },
  {
   "cell_type": "markdown",
   "metadata": {},
   "source": [
    "Распределите в команде гпу, задайте свой номер."
   ]
  },
  {
   "cell_type": "code",
   "execution_count": 4,
   "metadata": {
    "ExecuteTime": {
     "end_time": "2021-03-21T08:15:33.760134Z",
     "start_time": "2021-03-21T08:15:32.862159Z"
    }
   },
   "outputs": [
    {
     "name": "stdout",
     "output_type": "stream",
     "text": [
      "Sun Mar 21 08:15:33 2021       \n",
      "+-----------------------------------------------------------------------------+\n",
      "| NVIDIA-SMI 450.80.02    Driver Version: 450.80.02    CUDA Version: 11.0     |\n",
      "|-------------------------------+----------------------+----------------------+\n",
      "| GPU  Name        Persistence-M| Bus-Id        Disp.A | Volatile Uncorr. ECC |\n",
      "| Fan  Temp  Perf  Pwr:Usage/Cap|         Memory-Usage | GPU-Util  Compute M. |\n",
      "|                               |                      |               MIG M. |\n",
      "|===============================+======================+======================|\n",
      "|   0  Tesla V100-SXM2...  On   | 00000000:00:1B.0 Off |                    0 |\n",
      "| N/A   48C    P0    37W / 300W |      5MiB / 16160MiB |      0%      Default |\n",
      "|                               |                      |                  N/A |\n",
      "+-------------------------------+----------------------+----------------------+\n",
      "|   1  Tesla V100-SXM2...  On   | 00000000:00:1C.0 Off |                    0 |\n",
      "| N/A   44C    P0    56W / 300W |   1472MiB / 16160MiB |      0%      Default |\n",
      "|                               |                      |                  N/A |\n",
      "+-------------------------------+----------------------+----------------------+\n",
      "|   2  Tesla V100-SXM2...  On   | 00000000:00:1D.0 Off |                    0 |\n",
      "| N/A   40C    P0    40W / 300W |      5MiB / 16160MiB |      0%      Default |\n",
      "|                               |                      |                  N/A |\n",
      "+-------------------------------+----------------------+----------------------+\n",
      "|   3  Tesla V100-SXM2...  On   | 00000000:00:1E.0 Off |                    0 |\n",
      "| N/A   49C    P0    59W / 300W |   7372MiB / 16160MiB |      0%      Default |\n",
      "|                               |                      |                  N/A |\n",
      "+-------------------------------+----------------------+----------------------+\n",
      "                                                                               \n",
      "+-----------------------------------------------------------------------------+\n",
      "| Processes:                                                                  |\n",
      "|  GPU   GI   CI        PID   Type   Process name                  GPU Memory |\n",
      "|        ID   ID                                                   Usage      |\n",
      "|=============================================================================|\n",
      "+-----------------------------------------------------------------------------+\n"
     ]
    }
   ],
   "source": [
    "! nvidia-smi"
   ]
  },
  {
   "cell_type": "code",
   "execution_count": 5,
   "metadata": {
    "ExecuteTime": {
     "end_time": "2021-03-21T08:15:33.834811Z",
     "start_time": "2021-03-21T08:15:33.762417Z"
    },
    "scrolled": true,
    "tags": [
     "torch"
    ]
   },
   "outputs": [
    {
     "name": "stdout",
     "output_type": "stream",
     "text": [
      "dtype: torch.float32, device: cuda:0, cuda_device_id 0\n"
     ]
    }
   ],
   "source": [
    "# Set proper device for computations,\n",
    "dtype, device, cuda_device_id = torch.float32, None, 0\n",
    "os.environ[\"CUDA_VISIBLE_DEVICES\"] = '{0}'.format(str(cuda_device_id) if cuda_device_id is not None else '')\n",
    "if cuda_device_id is not None and torch.cuda.is_available():\n",
    "    device = 'cuda:{0:d}'.format(0)\n",
    "else:\n",
    "    device = torch.device('cpu')\n",
    "    \n",
    "print(f'dtype: {dtype}, device: {device}, cuda_device_id {cuda_device_id}')"
   ]
  },
  {
   "cell_type": "markdown",
   "metadata": {},
   "source": [
    "Импортируем полезную либу `attrdict`. Чем она хороша: позволяет обращаться к элементам словаря, как к его атрибутам"
   ]
  },
  {
   "cell_type": "code",
   "execution_count": 6,
   "metadata": {
    "ExecuteTime": {
     "end_time": "2021-03-21T08:15:33.848621Z",
     "start_time": "2021-03-21T08:15:33.836470Z"
    },
    "scrolled": true
   },
   "outputs": [],
   "source": [
    "from attrdict import AttrDict"
   ]
  },
  {
   "cell_type": "markdown",
   "metadata": {},
   "source": [
    "# Работа с аудио и текстом"
   ]
  },
  {
   "cell_type": "markdown",
   "metadata": {},
   "source": [
    "В распознавании речи нейронная сеть обучается на парах аудио+текст.\n",
    "\n",
    "Давайте научимся открывать аудиофайлы и подготавливать их для работы с нейронной сетью.\n"
   ]
  },
  {
   "cell_type": "markdown",
   "metadata": {},
   "source": [
    "\n",
    "На лекциях мы обсуждали, что аудио может быть записано с разной частотой дискретизации (sample rate), но для обучения нейронной сети обычно все аудио приводят к одной частоте дискретизации. (В этом проекте мы будем использовать sample rate 8000).\n",
    "\n",
    "Так же аудио может быть одноканальным или многоканальным. Проблема с многоканальным аудио может быть в том, что речь в двух каналах может звучать одновременно, такие аудио надо разделять на 2 дорожки. В нашем же случае данные подобраны таким образом, что такой ситуации не возникет, поэтому несколько каналов можно просто усреднить.\n",
    "\n",
    "\n",
    "Будем использовать библиотеку `torchaudio` [docs](https://pytorch.org/audio/).\n",
    "\n",
    "Реализуйте функцию `open_audio`, которая открывает аудио (искать [тут](https://pytorch.org/audio/stable/torchaudio.html)), усредняет аудио по всем каналам (это можно сделать обычным усреднением) и приводит к необходимой частоте дискретизации (искать [тут](https://pytorch.org/audio/stable/transforms.html))."
   ]
  },
  {
   "cell_type": "code",
   "execution_count": 7,
   "metadata": {
    "ExecuteTime": {
     "end_time": "2021-03-21T08:15:35.215949Z",
     "start_time": "2021-03-21T08:15:35.182224Z"
    },
    "scrolled": true,
    "tags": [
     "torchaudio"
    ]
   },
   "outputs": [],
   "source": [
    "import torchaudio"
   ]
  },
  {
   "cell_type": "code",
   "execution_count": 13,
   "metadata": {
    "ExecuteTime": {
     "end_time": "2021-03-21T16:24:33.695336Z",
     "start_time": "2021-03-21T16:24:33.011220Z"
    }
   },
   "outputs": [
    {
     "name": "stdout",
     "output_type": "stream",
     "text": [
      "spectrogram.npy  test_dataset.txt\t   test_open_audio.npy\r\n",
      "test_audio.mp3\t test_open_audio16000.npy\r\n",
      "test_audio.opus  test_open_audio2.npy\r\n"
     ]
    }
   ],
   "source": [
    "! ls test_files/"
   ]
  },
  {
   "cell_type": "code",
   "execution_count": 14,
   "metadata": {
    "ExecuteTime": {
     "end_time": "2021-03-21T16:46:32.344531Z",
     "start_time": "2021-03-21T16:46:32.328912Z"
    },
    "code_folding": [],
    "scrolled": true,
    "tags": [
     "open_audio"
    ]
   },
   "outputs": [],
   "source": [
    "def open_audio(audio_path, desired_sample_rate, effects=None):\n",
    "    \n",
    "    \"\"\" Open and resample audio, average across channels\n",
    "        Inputs:\n",
    "\n",
    "            audio_path: str, path to audio\n",
    "            desired_sample_rate: int, the sampling rate to which we would like to convert the audio\n",
    "        Returns:\n",
    "            audio: 1D tensor with shape (num_timesteps)\n",
    "            audio_len: int, len of audio\n",
    "    \"\"\"\n",
    "    ### write your code here ###\n",
    "    if effects is None:\n",
    "        audio_data, orig_sample_rate = torchaudio.load(audio_path, channels_first=True)\n",
    "        resampler = torchaudio.transforms.Resample(orig_freq=orig_sample_rate, new_freq=desired_sample_rate)\n",
    "        audio_data = resampler(audio_data)\n",
    "    else:\n",
    "        # Sampling method is inconsistent with torchaudio.transforms.Resample\n",
    "        audio_data, _ = torchaudio.sox_effects.apply_effects_file(\n",
    "            audio_path, effects=[*effects, ['rate', str(desired_sample_rate)]], channels_first=True\n",
    "        )\n",
    "    \n",
    "    audio_data = torch.mean(audio_data, axis=0)\n",
    "    return audio_data, audio_data.shape[0]"
   ]
  },
  {
   "cell_type": "markdown",
   "metadata": {},
   "source": [
    "Запустите тесты, чтобы проверить себя.\n",
    "<img src=\"images/tests_are_all_we_need.png\" width=\"400\" height=\"600\">\n",
    "\n",
    "\n",
    "**Перед каждым запуском тестов не забывайте сохранять ноутбук.**"
   ]
  },
  {
   "cell_type": "code",
   "execution_count": 15,
   "metadata": {
    "ExecuteTime": {
     "end_time": "2021-03-21T16:46:39.014936Z",
     "start_time": "2021-03-21T16:46:35.818641Z"
    },
    "scrolled": true
   },
   "outputs": [
    {
     "name": "stdout",
     "output_type": "stream",
     "text": [
      "Don't forget to save Jupyter Notebook! \n",
      "\n",
      "\n",
      "\u001b[1m============================= test session starts ==============================\u001b[0m\n",
      "platform linux -- Python 3.6.9, pytest-6.2.2, py-1.10.0, pluggy-0.13.1\n",
      "rootdir: /home/mnakhodnov/sirius-stt, configfile: pytest.ini\n",
      "collected 2 items                                                              \u001b[0m\u001b[1m\n",
      "\n",
      "tests/test_open_audio.py \u001b[32m.\u001b[0m\u001b[32m.\u001b[0m\u001b[32m                                              [100%]\u001b[0m\n",
      "\n",
      "\u001b[32m============================== \u001b[32m\u001b[1m2 passed\u001b[0m\u001b[32m in 1.90s\u001b[0m\u001b[32m ===============================\u001b[0m\n"
     ]
    }
   ],
   "source": [
    "! pytest tests/test_open_audio.py"
   ]
  },
  {
   "cell_type": "markdown",
   "metadata": {},
   "source": [
    " "
   ]
  },
  {
   "cell_type": "markdown",
   "metadata": {},
   "source": [
    "Теперь давайте откроем аудио, и послушаем, что у нас получилось."
   ]
  },
  {
   "cell_type": "code",
   "execution_count": 16,
   "metadata": {
    "ExecuteTime": {
     "end_time": "2021-03-21T16:46:40.176852Z",
     "start_time": "2021-03-21T16:46:40.159557Z"
    },
    "scrolled": true
   },
   "outputs": [],
   "source": [
    "from IPython.display import Audio"
   ]
  },
  {
   "cell_type": "code",
   "execution_count": 17,
   "metadata": {
    "ExecuteTime": {
     "end_time": "2021-03-21T16:46:40.377300Z",
     "start_time": "2021-03-21T16:46:40.344834Z"
    },
    "scrolled": true
   },
   "outputs": [
    {
     "data": {
      "text/html": [
       "\n",
       "                <audio  controls=\"controls\" >\n",
       "                    <source src=\"data:audio/wav;base64,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\" type=\"audio/wav\" />\n",
       "                    Your browser does not support the audio element.\n",
       "                </audio>\n",
       "              "
      ],
      "text/plain": [
       "<IPython.lib.display.Audio object>"
      ]
     },
     "execution_count": 17,
     "metadata": {},
     "output_type": "execute_result"
    }
   ],
   "source": [
    "sample_rate = 8000\n",
    "audio, audio_len = open_audio('test_files/test_audio.mp3', sample_rate)\n",
    "Audio(data=audio.numpy(), rate=sample_rate)"
   ]
  },
  {
   "cell_type": "markdown",
   "metadata": {},
   "source": [
    "Так же послушать аудио можно через путь к аудио файлу.\n",
    "\n",
    "Можно заметить, что звучание немного поменялось. Это произошло из-за того, что мы поменяли оригинальный sample rate 48000Hz на 8000Hz."
   ]
  },
  {
   "cell_type": "code",
   "execution_count": 18,
   "metadata": {
    "ExecuteTime": {
     "end_time": "2021-03-21T16:46:48.444801Z",
     "start_time": "2021-03-21T16:46:48.428906Z"
    },
    "scrolled": true
   },
   "outputs": [
    {
     "data": {
      "text/html": [
       "\n",
       "                <audio  controls=\"controls\" >\n",
       "                    <source src=\"data:audio/mpeg;base64,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\" type=\"audio/mpeg\" />\n",
       "                    Your browser does not support the audio element.\n",
       "                </audio>\n",
       "              "
      ],
      "text/plain": [
       "<IPython.lib.display.Audio object>"
      ]
     },
     "execution_count": 18,
     "metadata": {},
     "output_type": "execute_result"
    }
   ],
   "source": [
    "Audio('test_files/test_audio.mp3')"
   ]
  },
  {
   "cell_type": "markdown",
   "metadata": {},
   "source": [
    " "
   ]
  },
  {
   "cell_type": "markdown",
   "metadata": {},
   "source": [
    " "
   ]
  },
  {
   "cell_type": "markdown",
   "metadata": {},
   "source": [
    "Speech2text  —  это не только speech, но и text, поэтому теперь давайте поговорим о предобработке текста. \n",
    "\n",
    "Первым шагом необходимо привести текст к нижнему регистру и удалить пунктуацию. Если на этом этапе в тексте содержатся символы кроме русского алфавита и пробела (например, цифры), то такие примеры лучше вообще убрать из обучающей выборки (если просто убрать символ из строки, то может нарушиться соответствие аудио-текст).\n",
    "\n",
    "В размеченных данных для обучения и валидации уже произедена очистка и удаление ненужных символов, поэтому нам надо только извлечь токены из текста.\n",
    "\n",
    "В качестве токенов для обучения нейронной сети будем использовать буквы русского алфавита и пробел. Так же, как было сказано в лекциях, нам потребуется специальный символ `<blank>` для построения выравниваний."
   ]
  },
  {
   "cell_type": "code",
   "execution_count": 19,
   "metadata": {
    "ExecuteTime": {
     "end_time": "2021-03-21T16:46:59.884807Z",
     "start_time": "2021-03-21T16:46:59.872143Z"
    },
    "scrolled": true,
    "tags": [
     "alphabet"
    ]
   },
   "outputs": [],
   "source": [
    "alphabet = ['а', 'б', 'в', 'г', 'д', 'е', 'ё', 'ж', 'з', 'и', 'й', 'к',\n",
    "            'л', 'м', 'н', 'о', 'п', 'р', 'с', 'т', 'у', 'ф', 'х', 'ц',\n",
    "            'ч', 'ш', 'щ', 'ь', 'ы', 'ъ', 'э', 'ю', 'я',\n",
    "            ' ', '<blank>']"
   ]
  },
  {
   "cell_type": "markdown",
   "metadata": {},
   "source": [
    "Но, естественно, в таком виде передавать буквы в нейронную сеть мы не можем — их нужно закодировать в числа. Для этого будем использовать уже готовую функцию Vocab.\n",
    "\n",
    "Обратите внимание, что Vocab добавляет дополнительный токен `<unk>`, ответственный за все символы, которых нет в словаре."
   ]
  },
  {
   "cell_type": "code",
   "execution_count": 20,
   "metadata": {
    "ExecuteTime": {
     "end_time": "2021-03-21T16:47:00.382781Z",
     "start_time": "2021-03-21T16:47:00.297981Z"
    },
    "scrolled": true,
    "tags": [
     "vocab"
    ]
   },
   "outputs": [
    {
     "name": "stdout",
     "output_type": "stream",
     "text": [
      "The `unk_token` '<unk>' wasn't found in the tokens. Adding the `unk_token` to the end of the Vocab.\n"
     ]
    }
   ],
   "source": [
    "from vocabulary import Vocab\n",
    "vocab = Vocab(alphabet)"
   ]
  },
  {
   "cell_type": "markdown",
   "metadata": {},
   "source": [
    "Попрактикуйтесь с Vocab. Для того, чтобы понять все возможности Vocab можно заглянуть в код vocabulary.py и почитать докстринги.\n",
    "\n",
    "* переведите \"привет\" в индексы\n",
    "* переведите [11, 0, 11, 33, 4, 5, 12, 0] в текст\n",
    "* что будет если перевести в индексы слово \"hi\"?\n",
    "* а [44, 5] в текст?\n"
   ]
  },
  {
   "cell_type": "code",
   "execution_count": 21,
   "metadata": {
    "ExecuteTime": {
     "end_time": "2021-03-21T16:47:00.773490Z",
     "start_time": "2021-03-21T16:47:00.759052Z"
    }
   },
   "outputs": [
    {
     "data": {
      "text/plain": [
       "[16, 17, 9, 2, 5, 19]"
      ]
     },
     "execution_count": 21,
     "metadata": {},
     "output_type": "execute_result"
    }
   ],
   "source": [
    "vocab.lookup_indices('привет')"
   ]
  },
  {
   "cell_type": "code",
   "execution_count": 22,
   "metadata": {
    "ExecuteTime": {
     "end_time": "2021-03-21T16:47:00.909887Z",
     "start_time": "2021-03-21T16:47:00.895217Z"
    }
   },
   "outputs": [
    {
     "data": {
      "text/plain": [
       "['к', 'а', 'к', ' ', 'д', 'е', 'л', 'а']"
      ]
     },
     "execution_count": 22,
     "metadata": {},
     "output_type": "execute_result"
    }
   ],
   "source": [
    "vocab.lookup_tokens([11, 0, 11, 33, 4, 5, 12, 0])"
   ]
  },
  {
   "cell_type": "code",
   "execution_count": 23,
   "metadata": {
    "ExecuteTime": {
     "end_time": "2021-03-21T16:47:01.104022Z",
     "start_time": "2021-03-21T16:47:01.090206Z"
    }
   },
   "outputs": [
    {
     "data": {
      "text/plain": [
       "[35, 35]"
      ]
     },
     "execution_count": 23,
     "metadata": {},
     "output_type": "execute_result"
    }
   ],
   "source": [
    "vocab.lookup_indices('hi')"
   ]
  },
  {
   "cell_type": "code",
   "execution_count": 24,
   "metadata": {
    "ExecuteTime": {
     "end_time": "2021-03-21T16:47:01.301954Z",
     "start_time": "2021-03-21T16:47:01.288344Z"
    }
   },
   "outputs": [
    {
     "name": "stdout",
     "output_type": "stream",
     "text": [
      "lookup_indices() Expected a value of type 'List[str]' for argument '_1' but instead found type 'list'.\n",
      "Position: 1\n",
      "Value: [45, 5]\n",
      "Declaration: lookup_indices(__torch__.torch.classes.torchtext.Vocab _0, str[] _1) -> (int[] _0)\n",
      "Cast error details: Unable to cast Python instance to C++ type (compile in debug mode for details)\n"
     ]
    }
   ],
   "source": [
    "try:\n",
    "    vocab.lookup_indices([45, 5])\n",
    "except Exception as ex:\n",
    "    print(ex)"
   ]
  },
  {
   "cell_type": "markdown",
   "metadata": {},
   "source": [
    "Какие еще у Vocab возможности?\n",
    "\n",
    "Если в процессе исследования вы изменили текущий vocab (путем добавления нового токена, например), не забудьте вернуть vocab к начальному состоянию  `vocab = Vocab(alphabet)`"
   ]
  },
  {
   "cell_type": "markdown",
   "metadata": {},
   "source": [
    "Давайте извлечем из Vocab и сохраним в переменные два важных значения - длину алфавита и значения индекса `<blank>`.\n",
    "    \n",
    "Эти значения нам еще много раз пригодятся."
   ]
  },
  {
   "cell_type": "code",
   "execution_count": 25,
   "metadata": {
    "ExecuteTime": {
     "end_time": "2021-03-21T16:47:01.863237Z",
     "start_time": "2021-03-21T16:47:01.849415Z"
    },
    "scrolled": true,
    "tags": [
     "get_num_tokens",
     "get_blank_index"
    ]
   },
   "outputs": [],
   "source": [
    "def get_num_tokens(vocab):\n",
    "    ### write your code here ###\n",
    "    num_tokens = len(vocab.tokens2indices())\n",
    "    return num_tokens\n",
    "\n",
    "def get_blank_index(vocab):\n",
    "    ### write your code here ###\n",
    "    blank_index = vocab['<blank>']\n",
    "    return blank_index"
   ]
  },
  {
   "cell_type": "code",
   "execution_count": 26,
   "metadata": {
    "ExecuteTime": {
     "end_time": "2021-03-21T16:47:08.180753Z",
     "start_time": "2021-03-21T16:47:02.025971Z"
    },
    "scrolled": true
   },
   "outputs": [
    {
     "name": "stdout",
     "output_type": "stream",
     "text": [
      "Don't forget to save Jupyter Notebook! \n",
      "\n",
      "\n",
      "\u001b[1m============================= test session starts ==============================\u001b[0m\n",
      "platform linux -- Python 3.6.9, pytest-6.2.2, py-1.10.0, pluggy-0.13.1\n",
      "rootdir: /home/mnakhodnov/sirius-stt, configfile: pytest.ini\n",
      "collected 1 item                                                               \u001b[0m\u001b[1m\n",
      "\n",
      "tests/test_num_tokens.py \u001b[32m.\u001b[0m\u001b[32m                                               [100%]\u001b[0m\n",
      "\n",
      "\u001b[32m============================== \u001b[32m\u001b[1m1 passed\u001b[0m\u001b[32m in 1.81s\u001b[0m\u001b[32m ===============================\u001b[0m\n",
      "Don't forget to save Jupyter Notebook! \n",
      "\n",
      "\n",
      "\u001b[1m============================= test session starts ==============================\u001b[0m\n",
      "platform linux -- Python 3.6.9, pytest-6.2.2, py-1.10.0, pluggy-0.13.1\n",
      "rootdir: /home/mnakhodnov/sirius-stt, configfile: pytest.ini\n",
      "collected 1 item                                                               \u001b[0m\u001b[1m\n",
      "\n",
      "tests/test_blank_index.py \u001b[32m.\u001b[0m\u001b[32m                                              [100%]\u001b[0m\n",
      "\n",
      "\u001b[32m============================== \u001b[32m\u001b[1m1 passed\u001b[0m\u001b[32m in 1.81s\u001b[0m\u001b[32m ===============================\u001b[0m\n"
     ]
    }
   ],
   "source": [
    "! pytest tests/test_num_tokens.py\n",
    "! pytest tests/test_blank_index.py"
   ]
  },
  {
   "cell_type": "code",
   "execution_count": 27,
   "metadata": {
    "ExecuteTime": {
     "end_time": "2021-03-21T16:47:08.198409Z",
     "start_time": "2021-03-21T16:47:08.183116Z"
    },
    "scrolled": true
   },
   "outputs": [],
   "source": [
    "num_tokens = get_num_tokens(vocab) \n",
    "blank_index = get_blank_index(vocab)"
   ]
  },
  {
   "cell_type": "markdown",
   "metadata": {},
   "source": [
    "# Подготовка датасета"
   ]
  },
  {
   "cell_type": "markdown",
   "metadata": {},
   "source": [
    "Обучать нейронную сеть мы будем на подготовленном датасете. Для удобства мы сгруппировали обучающие и валидационные данные в текстовые файлы, где в каждой строке через запятую указан путь к файлу, соответствующий текст, длина аудио (в секундах).\n",
    "\n",
    "\n",
    "Давайте реализуем функцию AudioDataset, которая подготавливает текст и аудио для каждого элемента датастета.\n",
    "\n",
    "\n",
    "На этих данных мы будем обучать модель с помощью ctc лосса, а мы уже знаем, что для обучения с ctc аудио лучше отсортировать по длине - так модели будет проще обучиться.\n",
    "\n",
    "Изучить документацию по Dataset и DataLoader (пригодится далее) можно найти [тут](https://pytorch.org/docs/stable/data.html)."
   ]
  },
  {
   "cell_type": "code",
   "execution_count": 28,
   "metadata": {
    "ExecuteTime": {
     "end_time": "2021-03-21T16:47:08.413882Z",
     "start_time": "2021-03-21T16:47:08.200764Z"
    },
    "scrolled": true
   },
   "outputs": [],
   "source": [
    "import pandas as pd"
   ]
  },
  {
   "cell_type": "code",
   "execution_count": 452,
   "metadata": {
    "ExecuteTime": {
     "end_time": "2021-03-21T18:41:44.992550Z",
     "start_time": "2021-03-21T18:41:44.963023Z"
    },
    "code_folding": [],
    "scrolled": true
   },
   "outputs": [],
   "source": [
    " class AudioDataset(torch.utils.data.Dataset):\n",
    "    def __init__(self, dataset_path, vocab, sample_rate=8000, audio_transforms=None):\n",
    "        self.vocab = vocab\n",
    "        self.sample_rate = sample_rate\n",
    "        self.audio_transforms = audio_transforms\n",
    "        \n",
    "        data = pd.read_csv(dataset_path, header=None, names=['audio_path', 'text', 'duration'])\n",
    "        data['duration'] = data['duration'].astype(float)\n",
    "        self.data = data.sort_values(by='duration')\n",
    "        \n",
    "        self.idx_to_text_len = dict()\n",
    "        self.idx_to_audio_len = dict()\n",
    "#         for idx in range(self.data.shape[0]):\n",
    "#             self.idx_to_text_len[idx] = len(self.data.iloc[idx]['text'])\n",
    "#             self.idx_to_audio_len[idx] = self.data.iloc[idx]['duration']\n",
    "        \n",
    "    def __len__(self):\n",
    "        return self.data.shape[0]\n",
    "\n",
    "    def __getitem__(self, idx, supress_effects=False):\n",
    "        audio_path = self.data.audio_path[idx]\n",
    "        text = self.data.text[idx]\n",
    "\n",
    "        ### write your code here ###\n",
    "        text_len = len(text)\n",
    "        tokens = torch.tensor(self.vocab.lookup_indices(text))\n",
    "        audio, audio_len = open_audio(\n",
    "            audio_path, self.sample_rate, \n",
    "            effects=self.audio_transforms.sample() if not supress_effects else None\n",
    "        )\n",
    "        \n",
    "        return {\"audio\":  audio,  # torch tensor, (num_timesteps)\n",
    "                \"audio_len\": audio_len, # int\n",
    "                \"text\": text, # str\n",
    "                \"text_len\": text_len, # int\n",
    "                'tokens': tokens, # torch tensor, (text_len)\n",
    "               }"
   ]
  },
  {
   "cell_type": "code",
   "execution_count": 503,
   "metadata": {
    "ExecuteTime": {
     "end_time": "2021-03-21T18:48:09.338844Z",
     "start_time": "2021-03-21T18:48:09.310554Z"
    }
   },
   "outputs": [],
   "source": [
    "class AudioTransformsChain():\n",
    "    def __init__(self):\n",
    "        self.probas = []\n",
    "        self.transforms_chain = []\n",
    "    \n",
    "    def add_group(self, proba, transforms):\n",
    "        self.probas.append(proba)\n",
    "        self.transforms_chain.append(transforms)\n",
    "        return self\n",
    "    \n",
    "    def sample(self):\n",
    "        sampled_effects = []\n",
    "        for proba, transforms_group in zip(self.probas, self.transforms_chain):\n",
    "            if np.random.uniform(0.0, 1.0) > proba:\n",
    "                continue\n",
    "            for transform in transforms_group:\n",
    "                sampled_effects += transform.sample()\n",
    "        return sampled_effects\n",
    "\n",
    "class AudioTransformsExclusive():\n",
    "    def __init__(self):\n",
    "        self.probas = []\n",
    "        self.transforms = []\n",
    "        \n",
    "    def add(self, proba, transform):\n",
    "        self.probas.append(proba)\n",
    "        self.transforms.append(transform)\n",
    "        return self\n",
    "        \n",
    "    def sample(self):\n",
    "        probas = np.array(self.probas) / np.sum(self.probas)\n",
    "        selected_idx = np.random.choice(len(probas), size=1, p=probas)[0]\n",
    "        return self.transforms[selected_idx].sample()\n",
    "    \n",
    "class _AbstractAudioTransform:\n",
    "    _name = None\n",
    "    \n",
    "    def __init__(self, proba, *options):\n",
    "        self.proba = proba\n",
    "        self.options = options\n",
    "        \n",
    "    def sample(self):\n",
    "        if np.random.uniform(0.0, 1.0) < self.proba:\n",
    "            effect = []\n",
    "            for option in self.options:\n",
    "                if isinstance(option, list):\n",
    "                    low, high, *option = option\n",
    "                    magnitude = np.random.uniform(low=low, high=high)\n",
    "                    magnitude = magnitude if len(option) == 0 else np.power(10, magnitude)\n",
    "                else:\n",
    "                    magnitude = option\n",
    "                effect.append(str(magnitude))\n",
    "            return [[self._name] + effect]\n",
    "    \n",
    "def make_transform(name):\n",
    "    class _AudioTransform(_AbstractAudioTransform):\n",
    "        _name = name\n",
    "        \n",
    "    class_name = name.title() + 'AudioTransform'\n",
    "    _AudioTransform.__name__ = class_name\n",
    "    _AudioTransform.__qualname__ = class_name\n",
    "    return _AudioTransform"
   ]
  },
  {
   "cell_type": "code",
   "execution_count": 504,
   "metadata": {
    "ExecuteTime": {
     "end_time": "2021-03-21T18:48:09.564927Z",
     "start_time": "2021-03-21T18:48:09.543035Z"
    }
   },
   "outputs": [],
   "source": [
    "audio_transforms = AudioTransformsChain(\n",
    ").add_group(\n",
    "    0.5, [\n",
    "        AudioTransformsExclusive(\n",
    "        ).add(\n",
    "            0.5,\n",
    "            # The frequency response drops logarithmically around the center frequency. band center width\n",
    "            make_transform('band')(1.0, [2, 4, 'log'], [2.5, 5, 'log'])\n",
    "        ).add(\n",
    "            0.5,\n",
    "            # Non linear distortion.\n",
    "            make_transform('overdrive')(1.0, [0, 10], 20)\n",
    "        )\n",
    "    ]\n",
    ").add_group(\n",
    "    0.7, [       \n",
    "        AudioTransformsExclusive(\n",
    "        ).add(\n",
    "            0.33,\n",
    "            # Change the audio pitch (but not tempo).\n",
    "            make_transform('pitch')(1.0, [-100, 100]),\n",
    "        ).add(\n",
    "            0.33,\n",
    "            # Adjust the audio speed (pitch and tempo together)\n",
    "            make_transform('speed')(1.0, [0.9, 1.1]),\n",
    "        ).add(\n",
    "            0.33,\n",
    "            # Change the audio playback speed but not its pitch.\n",
    "            make_transform('tempo')(1.0, [0.8, 1.2])\n",
    "        )\n",
    "    ]\n",
    ").add_group(\n",
    "    1.0, [\n",
    "        AudioTransformsExclusive(\n",
    "        ).add(\n",
    "            0.5,\n",
    "            # Boost or cut the bass (lower) frequencies. bass gain frequency width\n",
    "            make_transform('bass')(1.0, [-20, 20]),\n",
    "        ).add(\n",
    "            0.5,\n",
    "            # Boost or cut the treble (upper) frequencies. treble gain frequency width\n",
    "            make_transform('treble')(1.0, [-20, 20])\n",
    "        )\n",
    "    ]\n",
    ").add_group(\n",
    "    0.5, [     \n",
    "        AudioTransformsExclusive(\n",
    "        ).add(\n",
    "            0.5,\n",
    "            # Add a chorus effect to the audio. gain-in gain-out <delay decay speed depth −s|−t>\n",
    "            make_transform('chorus')(1.0, [0.5, 1.0], [0.5, 1.0], [40, 60], 0.4, 0.25, 2, '-t'),\n",
    "        ).add(\n",
    "            0.5,\n",
    "            # Add reverberation to the audio\n",
    "            make_transform('reverb')(1.0)\n",
    "        )\n",
    "    ]\n",
    ").add_group(\n",
    "    0.5, [\n",
    "        # DC shift to the audio\n",
    "        make_transform('dcshift')(1.0, [-0.2, 0.2]),\n",
    "\n",
    "        # Delay one or more audio channels such that they start at the given position.\n",
    "        make_transform('delay')(1.0, [0.0, 1.0])\n",
    "    ]\n",
    ")"
   ]
  },
  {
   "cell_type": "code",
   "execution_count": 505,
   "metadata": {
    "ExecuteTime": {
     "end_time": "2021-03-21T18:48:10.986018Z",
     "start_time": "2021-03-21T18:48:10.964730Z"
    }
   },
   "outputs": [
    {
     "data": {
      "text/plain": [
       "[['band', '953.5668731000552', '7262.184263951042'],\n",
       " ['speed', '1.0939663589082687'],\n",
       " ['treble', '-18.252044560951916']]"
      ]
     },
     "execution_count": 505,
     "metadata": {},
     "output_type": "execute_result"
    }
   ],
   "source": [
    "audio_transforms.sample()"
   ]
  },
  {
   "cell_type": "code",
   "execution_count": 29,
   "metadata": {
    "ExecuteTime": {
     "end_time": "2021-03-19T23:26:29.314188Z",
     "start_time": "2021-03-19T23:26:26.245048Z"
    },
    "scrolled": true
   },
   "outputs": [
    {
     "name": "stdout",
     "output_type": "stream",
     "text": [
      "Don't forget to save Jupyter Notebook! \n",
      "\n",
      "\n",
      "\u001b[1m============================= test session starts ==============================\u001b[0m\n",
      "platform linux -- Python 3.6.9, pytest-6.2.2, py-1.10.0, pluggy-0.13.1\n",
      "rootdir: /home/mnakhodnov/sirius-stt, configfile: pytest.ini\n",
      "collected 2 items                                                              \u001b[0m\u001b[1m\n",
      "\n",
      "tests/test_dataset.py \u001b[32m.\u001b[0m\u001b[32m.\u001b[0m\u001b[32m                                                 [100%]\u001b[0m\n",
      "\n",
      "\u001b[32m============================== \u001b[32m\u001b[1m2 passed\u001b[0m\u001b[32m in 1.89s\u001b[0m\u001b[32m ===============================\u001b[0m\n"
     ]
    }
   ],
   "source": [
    "! pytest tests/test_dataset.py"
   ]
  },
  {
   "cell_type": "markdown",
   "metadata": {},
   "source": [
    "Давайте посмотрим, как будут выглядеть элементы полученного датасета."
   ]
  },
  {
   "cell_type": "code",
   "execution_count": 32,
   "metadata": {
    "ExecuteTime": {
     "end_time": "2021-03-21T16:47:28.474005Z",
     "start_time": "2021-03-21T16:47:28.272643Z"
    }
   },
   "outputs": [],
   "source": [
    "train_dataset_path = '/home/e.chuykova/data/train.txt'\n",
    "test_dataset_path = '/home/e.chuykova/data/test.txt'\n",
    "val_dataset_path = '/home/e.chuykova/data/val.txt'\n",
    "\n",
    "train_dataset = AudioDataset(train_dataset_path, vocab)\n",
    "test_dataset = AudioDataset(test_dataset_path, vocab)\n",
    "val_dataset = AudioDataset(val_dataset_path,vocab)"
   ]
  },
  {
   "cell_type": "code",
   "execution_count": 25,
   "metadata": {
    "ExecuteTime": {
     "end_time": "2021-03-21T08:20:05.591800Z",
     "start_time": "2021-03-21T08:20:05.389899Z"
    }
   },
   "outputs": [],
   "source": [
    "import matplotlib.pyplot as plt"
   ]
  },
  {
   "cell_type": "code",
   "execution_count": 31,
   "metadata": {
    "ExecuteTime": {
     "end_time": "2021-03-19T23:26:58.683173Z",
     "start_time": "2021-03-19T23:26:56.724477Z"
    }
   },
   "outputs": [
    {
     "data": {
      "image/png": "[encoded data removed]",
      "text/plain": [
       "<Figure size 1080x432 with 2 Axes>"
      ]
     },
     "metadata": {
      "needs_background": "light"
     },
     "output_type": "display_data"
    }
   ],
   "source": [
    "fig, axes = plt.subplots(1, 2, figsize=(15, 6))\n",
    "_ = axes[0].hist(train_dataset.idx_to_text_len.values(), bins=50, label='train', density=True)\n",
    "_ = axes[0].hist(test_dataset.idx_to_text_len.values(), bins=50, label='test', density=True)\n",
    "_ = axes[0].hist(val_dataset.idx_to_text_len.values(), bins=50, label='val', density=True)\n",
    "\n",
    "_ = axes[1].hist(train_dataset.idx_to_audio_len.values(), bins=50, label='train', density=True)\n",
    "_ = axes[1].hist(test_dataset.idx_to_audio_len.values(), bins=50, label='test', density=True)\n",
    "_ = axes[1].hist(val_dataset.idx_to_audio_len.values(), bins=50, label='val', density=True)\n",
    "\n",
    "axes[0].set_title('Text length')\n",
    "axes[1].set_title('Audio length')\n",
    "\n",
    "axes[0].legend()\n",
    "axes[1].legend()\n",
    "\n",
    "plt.show()"
   ]
  },
  {
   "cell_type": "code",
   "execution_count": 32,
   "metadata": {
    "ExecuteTime": {
     "end_time": "2021-03-19T23:26:58.797242Z",
     "start_time": "2021-03-19T23:26:58.684967Z"
    }
   },
   "outputs": [
    {
     "name": "stdout",
     "output_type": "stream",
     "text": [
      "element number: 0\n",
      "{'audio': tensor([ 0.0000,  0.0000,  0.0000,  ...,  0.0005, -0.0008, -0.0006]),\n",
      " 'audio_len': 8360,\n",
      " 'text': 'один',\n",
      " 'text_len': 4,\n",
      " 'tokens': tensor([15,  4,  9, 14])}\n",
      "\n",
      "element number: 1\n",
      "{'audio': tensor([-1.3758e-09, -2.2855e-09, -1.3640e-09,  ..., -2.1114e-04,\n",
      "        -4.1249e-04, -2.6402e-04]),\n",
      " 'audio_len': 8640,\n",
      " 'text': 'ноль',\n",
      " 'text_len': 4,\n",
      " 'tokens': tensor([14, 15, 12, 27])}\n",
      "\n",
      "element number: 2\n",
      "{'audio': tensor([0.0000, 0.0000, 0.0000,  ..., 0.0068, 0.0080, 0.0038]),\n",
      " 'audio_len': 8987,\n",
      " 'text': 'два',\n",
      " 'text_len': 3,\n",
      " 'tokens': tensor([4, 2, 0])}\n",
      "\n"
     ]
    }
   ],
   "source": [
    "for i, element in enumerate(train_dataset):\n",
    "    print(f'element number: {i}')\n",
    "    pprint(element)\n",
    "    print()\n",
    "    if i > 1:\n",
    "        break"
   ]
  },
  {
   "cell_type": "markdown",
   "metadata": {},
   "source": [
    " "
   ]
  },
  {
   "cell_type": "markdown",
   "metadata": {},
   "source": [
    "Чтобы эффективно обучать нейронную сеть, необходимо подавать в нее данные батчами. В этом нам поможет функция `torch.utils.data.DataLoader`. \n",
    "\n",
    "Обратите внимание, что некоторые данные в датасете разной длины (например, `audio`), для формирования батча из таких данных  необходимо использовать паддинг. Для этого можно реализовать фукцию `collate_fn`. Подробнее про то, как именно использовать `collate_fn` можно почитатать в доках к `torch.utils.data.DataLoader`."
   ]
  },
  {
   "cell_type": "code",
   "execution_count": 33,
   "metadata": {
    "ExecuteTime": {
     "end_time": "2021-03-19T23:27:02.657167Z",
     "start_time": "2021-03-19T23:27:02.654372Z"
    },
    "scrolled": true
   },
   "outputs": [],
   "source": [
    "from torch.nn.utils.rnn import pad_sequence"
   ]
  },
  {
   "cell_type": "code",
   "execution_count": 34,
   "metadata": {
    "ExecuteTime": {
     "end_time": "2021-03-19T23:27:03.160566Z",
     "start_time": "2021-03-19T23:27:03.155048Z"
    },
    "code_folding": [
     0
    ],
    "scrolled": true
   },
   "outputs": [],
   "source": [
    "def collate_fn(batch):\n",
    "    \"\"\" \n",
    "        Inputs:\n",
    "            batch: list of elements with length=batch_ize\n",
    "        Returns:\n",
    "            dict\n",
    "    \"\"\"\n",
    "    ### write your code here ###\n",
    "    audios = torch.nn.utils.rnn.pad_sequence(\n",
    "        [obj['audio'] for obj in batch], batch_first=True, padding_value=0.0\n",
    "    )\n",
    "    audio_lens = torch.tensor([obj['audio'].shape[0] for obj in batch])\n",
    "    \n",
    "    texts = [obj['text'] for obj in batch]\n",
    "    text_lens = torch.tensor([len(obj['text']) for obj in batch])\n",
    "    tokens = torch.nn.utils.rnn.pad_sequence(\n",
    "        [obj['tokens'] for obj in batch], batch_first=True, padding_value=0.0\n",
    "    )\n",
    "    \n",
    "    return {'audios': audios, # torch tensor, (batch_size, max_num_timesteps)\n",
    "            'audio_lens': audio_lens, # torch tensor, (batch_size)\n",
    "            'texts': texts,  # list, len=(batch_size)\n",
    "            \"text_lens\": text_lens, # torch tensor, (batch_size)\n",
    "            'tokens': tokens,  # torch tensor, (batch_size, max_text_len)\n",
    "           }"
   ]
  },
  {
   "cell_type": "code",
   "execution_count": 35,
   "metadata": {
    "ExecuteTime": {
     "end_time": "2021-03-19T23:27:06.371182Z",
     "start_time": "2021-03-19T23:27:03.403848Z"
    },
    "scrolled": true
   },
   "outputs": [
    {
     "name": "stdout",
     "output_type": "stream",
     "text": [
      "Don't forget to save Jupyter Notebook! \n",
      "\n",
      "\n",
      "\u001b[1m============================= test session starts ==============================\u001b[0m\n",
      "platform linux -- Python 3.6.9, pytest-6.2.2, py-1.10.0, pluggy-0.13.1\n",
      "rootdir: /home/mnakhodnov/sirius-stt, configfile: pytest.ini\n",
      "collected 1 item                                                               \u001b[0m\u001b[1m\n",
      "\n",
      "tests/test_collate_fn.py \u001b[32m.\u001b[0m\u001b[32m                                               [100%]\u001b[0m\n",
      "\n",
      "\u001b[32m============================== \u001b[32m\u001b[1m1 passed\u001b[0m\u001b[32m in 1.79s\u001b[0m\u001b[32m ===============================\u001b[0m\n"
     ]
    }
   ],
   "source": [
    "! pytest tests/test_collate_fn.py"
   ]
  },
  {
   "cell_type": "code",
   "execution_count": 36,
   "metadata": {
    "ExecuteTime": {
     "end_time": "2021-03-19T23:27:06.376297Z",
     "start_time": "2021-03-19T23:27:06.373512Z"
    },
    "scrolled": true
   },
   "outputs": [],
   "source": [
    "batch_size = 90\n",
    "num_workers = 8"
   ]
  },
  {
   "cell_type": "markdown",
   "metadata": {},
   "source": [
    "При создании DataLoader не забудьте использовать параметры `batch_size`, `num_workers`.\n",
    "\n",
    "Так же в DataLoader есть параметр `shuffle`, который используется для перемешивания данных. Сейчас наши аудио отсортированы по длине, т.е. длины аудио внутри одного батча максимально близки друг другу - и это самый эффективный способ формировать батчи в распознавании речи. Если включить shuffle=True, то короткие аудио могут попасть в один батч с длинными, средний размер батча увеличится, это будет менее эффективно. Поэтому необходимо **перемешивать сформированные батчи**, а не элементы датасета.\n",
    "    \n",
    "Реализовать перемешивание батчей в PyTorch - это не самая простая задача, поэтому советую сейчас пропустить этот шаг."
   ]
  },
  {
   "cell_type": "code",
   "execution_count": 37,
   "metadata": {
    "ExecuteTime": {
     "end_time": "2021-03-19T23:27:06.747344Z",
     "start_time": "2021-03-19T23:27:06.744561Z"
    }
   },
   "outputs": [],
   "source": [
    "from torch.utils.data import DataLoader, BatchSampler, SequentialSampler, RandomSampler"
   ]
  },
  {
   "cell_type": "code",
   "execution_count": 38,
   "metadata": {
    "ExecuteTime": {
     "end_time": "2021-03-19T23:27:07.621938Z",
     "start_time": "2021-03-19T23:27:07.616315Z"
    },
    "code_folding": [
     0
    ]
   },
   "outputs": [],
   "source": [
    "class AudioDatasetSampler:\n",
    "    def __init__(self, dataset, batch_size):\n",
    "        self.epoch = 0\n",
    "        self.dataset = dataset\n",
    "        self.batch_size = batch_size\n",
    "\n",
    "        # Assume that data in dataset is sorted w.r. to duration\n",
    "        self.batches = list(BatchSampler(SequentialSampler(self.dataset), batch_size=self.batch_size, drop_last=False))\n",
    "    \n",
    "    def __iter__(self):\n",
    "        if self.epoch == 0:\n",
    "            for batch_idx in SequentialSampler(self.batches):\n",
    "                for idx in self.batches[batch_idx]:\n",
    "                    yield idx\n",
    "        else:\n",
    "            for batch_idx in RandomSampler(self.batches):\n",
    "                for idx in self.batches[batch_idx]:\n",
    "                    yield idx\n",
    "        self.epoch += 1\n",
    "        \n",
    "    def __len__(self):\n",
    "        return len(self.dataset)"
   ]
  },
  {
   "cell_type": "code",
   "execution_count": 39,
   "metadata": {
    "ExecuteTime": {
     "end_time": "2021-03-19T23:27:07.886730Z",
     "start_time": "2021-03-19T23:27:07.873618Z"
    },
    "scrolled": true
   },
   "outputs": [],
   "source": [
    "# YOUR CODE\n",
    "train_dataloader = DataLoader(\n",
    "    train_dataset, batch_size=batch_size, sampler=AudioDatasetSampler(train_dataset, batch_size=batch_size),\n",
    "    num_workers=num_workers, pin_memory=True, collate_fn=collate_fn\n",
    ")\n",
    "# YOUR CODE\n",
    "val_dataloader = DataLoader(\n",
    "    val_dataset, batch_size=batch_size, shuffle=False, num_workers=num_workers, pin_memory=True, collate_fn=collate_fn\n",
    ")"
   ]
  },
  {
   "cell_type": "markdown",
   "metadata": {},
   "source": [
    "Давайте посмотрим, что у нас хранится в даталоадере. Обратите внимание, что из-за `batch_size=90` выведется достаточно много значений. Можно уменьшить `batch_size`, чтобы посмотреть на выход, но обучать сеть лучше с `batch_size=90`."
   ]
  },
  {
   "cell_type": "code",
   "execution_count": 40,
   "metadata": {
    "ExecuteTime": {
     "end_time": "2021-03-19T23:27:13.939898Z",
     "start_time": "2021-03-19T23:27:09.086135Z"
    },
    "scrolled": true
   },
   "outputs": [
    {
     "name": "stdout",
     "output_type": "stream",
     "text": [
      "element number: 0\n",
      "{'audio_lens': tensor([ 8360,  8640,  8987,  9196,  9196,  9405,  9405,  9600,  9823, 10032,\n",
      "        10176, 10176, 10368, 10449, 10560, 10560, 10560, 10560, 10560, 10560,\n",
      "        10560, 10560, 10560, 10560, 10658, 10752, 10752, 11136, 11136, 11136,\n",
      "        11136, 11285, 11328, 11328, 11520, 11520, 11520, 11520, 11520, 11520,\n",
      "        11520, 11520, 11712, 11712, 11712, 11712, 11703, 11904, 11904, 11904,\n",
      "        12096, 12096, 12096, 12096, 12096, 12096, 12096, 12096, 12096, 12096,\n",
      "        12096, 12096, 12096, 12096, 12096, 12096, 12096, 12096, 12096, 12096,\n",
      "        12096, 12288, 12288, 12288, 12288, 12288, 12330, 12480, 12480, 12480,\n",
      "        12480, 12480, 12480, 12480, 12480, 12480, 12480, 12480, 12480, 12480]),\n",
      " 'audios': tensor([[ 0.0000e+00,  0.0000e+00,  0.0000e+00,  ...,  0.0000e+00,\n",
      "          0.0000e+00,  0.0000e+00],\n",
      "        [-1.3758e-09, -2.2855e-09, -1.3640e-09,  ...,  0.0000e+00,\n",
      "          0.0000e+00,  0.0000e+00],\n",
      "        [ 0.0000e+00,  0.0000e+00,  0.0000e+00,  ...,  0.0000e+00,\n",
      "          0.0000e+00,  0.0000e+00],\n",
      "        ...,\n",
      "        [-2.3419e-11, -2.0890e-09, -1.6021e-09,  ..., -3.6762e-03,\n",
      "         -3.0726e-03, -3.9459e-03],\n",
      "        [ 0.0000e+00,  0.0000e+00,  0.0000e+00,  ..., -8.7997e-04,\n",
      "         -1.7371e-03, -1.0839e-03],\n",
      "        [-1.3403e-10, -1.5786e-09, -1.9822e-09,  ..., -1.1050e-03,\n",
      "         -9.6490e-04, -7.1196e-04]]),\n",
      " 'text_lens': tensor([4, 4, 3, 5, 3, 4, 3, 3, 5, 4, 2, 4, 3, 6, 4, 3, 6, 4, 3, 3, 3, 3, 6, 6,\n",
      "        3, 4, 2, 4, 4, 4, 2, 5, 5, 2, 3, 6, 2, 4, 4, 4, 6, 5, 2, 4, 2, 6, 2, 5,\n",
      "        3, 5, 8, 5, 3, 4, 6, 4, 2, 4, 4, 4, 4, 2, 4, 5, 5, 4, 2, 2, 2, 2, 4, 2,\n",
      "        4, 5, 4, 4, 6, 3, 2, 4, 3, 4, 4, 2, 3, 3, 4, 3, 4, 6]),\n",
      " 'texts': ['один',\n",
      "           'ноль',\n",
      "           'два',\n",
      "           'шесть',\n",
      "           'нет',\n",
      "           'пять',\n",
      "           'три',\n",
      "           'два',\n",
      "           'шесть',\n",
      "           'ноль',\n",
      "           'да',\n",
      "           'пять',\n",
      "           'нет',\n",
      "           'четыре',\n",
      "           'пять',\n",
      "           'нет',\n",
      "           'четыре',\n",
      "           'пять',\n",
      "           'два',\n",
      "           'нет',\n",
      "           'три',\n",
      "           'два',\n",
      "           'восемь',\n",
      "           'девять',\n",
      "           'два',\n",
      "           'пять',\n",
      "           'да',\n",
      "           'один',\n",
      "           'ноль',\n",
      "           'один',\n",
      "           'да',\n",
      "           'шесть',\n",
      "           'шесть',\n",
      "           'да',\n",
      "           'два',\n",
      "           'восемь',\n",
      "           'да',\n",
      "           'пять',\n",
      "           'один',\n",
      "           'пять',\n",
      "           'четыре',\n",
      "           'шесть',\n",
      "           'да',\n",
      "           'один',\n",
      "           'да',\n",
      "           'девять',\n",
      "           'да',\n",
      "           'шесть',\n",
      "           'два',\n",
      "           'шесть',\n",
      "           'с дороги',\n",
      "           'каких',\n",
      "           'два',\n",
      "           'пять',\n",
      "           'девять',\n",
      "           'семь',\n",
      "           'эй',\n",
      "           'ноль',\n",
      "           'семь',\n",
      "           'один',\n",
      "           'пять',\n",
      "           'да',\n",
      "           'ноль',\n",
      "           'шесть',\n",
      "           'шесть',\n",
      "           'семь',\n",
      "           'эй',\n",
      "           'да',\n",
      "           'да',\n",
      "           'эй',\n",
      "           'один',\n",
      "           'эй',\n",
      "           'семь',\n",
      "           'шесть',\n",
      "           'семь',\n",
      "           'семь',\n",
      "           'восемь',\n",
      "           'нет',\n",
      "           'да',\n",
      "           'пять',\n",
      "           'два',\n",
      "           'семь',\n",
      "           'а он',\n",
      "           'эй',\n",
      "           'нет',\n",
      "           'три',\n",
      "           'ноль',\n",
      "           'три',\n",
      "           'ноль',\n",
      "           'четыре'],\n",
      " 'tokens': tensor([[15,  4,  9, 14,  0,  0,  0,  0],\n",
      "        [14, 15, 12, 27,  0,  0,  0,  0],\n",
      "        [ 4,  2,  0,  0,  0,  0,  0,  0],\n",
      "        [25,  5, 18, 19, 27,  0,  0,  0],\n",
      "        [14,  5, 19,  0,  0,  0,  0,  0],\n",
      "        [16, 32, 19, 27,  0,  0,  0,  0],\n",
      "        [19, 17,  9,  0,  0,  0,  0,  0],\n",
      "        [ 4,  2,  0,  0,  0,  0,  0,  0],\n",
      "        [25,  5, 18, 19, 27,  0,  0,  0],\n",
      "        [14, 15, 12, 27,  0,  0,  0,  0],\n",
      "        [ 4,  0,  0,  0,  0,  0,  0,  0],\n",
      "        [16, 32, 19, 27,  0,  0,  0,  0],\n",
      "        [14,  5, 19,  0,  0,  0,  0,  0],\n",
      "        [24,  5, 19, 28, 17,  5,  0,  0],\n",
      "        [16, 32, 19, 27,  0,  0,  0,  0],\n",
      "        [14,  5, 19,  0,  0,  0,  0,  0],\n",
      "        [24,  5, 19, 28, 17,  5,  0,  0],\n",
      "        [16, 32, 19, 27,  0,  0,  0,  0],\n",
      "        [ 4,  2,  0,  0,  0,  0,  0,  0],\n",
      "        [14,  5, 19,  0,  0,  0,  0,  0],\n",
      "        [19, 17,  9,  0,  0,  0,  0,  0],\n",
      "        [ 4,  2,  0,  0,  0,  0,  0,  0],\n",
      "        [ 2, 15, 18,  5, 13, 27,  0,  0],\n",
      "        [ 4,  5,  2, 32, 19, 27,  0,  0],\n",
      "        [ 4,  2,  0,  0,  0,  0,  0,  0],\n",
      "        [16, 32, 19, 27,  0,  0,  0,  0],\n",
      "        [ 4,  0,  0,  0,  0,  0,  0,  0],\n",
      "        [15,  4,  9, 14,  0,  0,  0,  0],\n",
      "        [14, 15, 12, 27,  0,  0,  0,  0],\n",
      "        [15,  4,  9, 14,  0,  0,  0,  0],\n",
      "        [ 4,  0,  0,  0,  0,  0,  0,  0],\n",
      "        [25,  5, 18, 19, 27,  0,  0,  0],\n",
      "        [25,  5, 18, 19, 27,  0,  0,  0],\n",
      "        [ 4,  0,  0,  0,  0,  0,  0,  0],\n",
      "        [ 4,  2,  0,  0,  0,  0,  0,  0],\n",
      "        [ 2, 15, 18,  5, 13, 27,  0,  0],\n",
      "        [ 4,  0,  0,  0,  0,  0,  0,  0],\n",
      "        [16, 32, 19, 27,  0,  0,  0,  0],\n",
      "        [15,  4,  9, 14,  0,  0,  0,  0],\n",
      "        [16, 32, 19, 27,  0,  0,  0,  0],\n",
      "        [24,  5, 19, 28, 17,  5,  0,  0],\n",
      "        [25,  5, 18, 19, 27,  0,  0,  0],\n",
      "        [ 4,  0,  0,  0,  0,  0,  0,  0],\n",
      "        [15,  4,  9, 14,  0,  0,  0,  0],\n",
      "        [ 4,  0,  0,  0,  0,  0,  0,  0],\n",
      "        [ 4,  5,  2, 32, 19, 27,  0,  0],\n",
      "        [ 4,  0,  0,  0,  0,  0,  0,  0],\n",
      "        [25,  5, 18, 19, 27,  0,  0,  0],\n",
      "        [ 4,  2,  0,  0,  0,  0,  0,  0],\n",
      "        [25,  5, 18, 19, 27,  0,  0,  0],\n",
      "        [18, 33,  4, 15, 17, 15,  3,  9],\n",
      "        [11,  0, 11,  9, 22,  0,  0,  0],\n",
      "        [ 4,  2,  0,  0,  0,  0,  0,  0],\n",
      "        [16, 32, 19, 27,  0,  0,  0,  0],\n",
      "        [ 4,  5,  2, 32, 19, 27,  0,  0],\n",
      "        [18,  5, 13, 27,  0,  0,  0,  0],\n",
      "        [30, 10,  0,  0,  0,  0,  0,  0],\n",
      "        [14, 15, 12, 27,  0,  0,  0,  0],\n",
      "        [18,  5, 13, 27,  0,  0,  0,  0],\n",
      "        [15,  4,  9, 14,  0,  0,  0,  0],\n",
      "        [16, 32, 19, 27,  0,  0,  0,  0],\n",
      "        [ 4,  0,  0,  0,  0,  0,  0,  0],\n",
      "        [14, 15, 12, 27,  0,  0,  0,  0],\n",
      "        [25,  5, 18, 19, 27,  0,  0,  0],\n",
      "        [25,  5, 18, 19, 27,  0,  0,  0],\n",
      "        [18,  5, 13, 27,  0,  0,  0,  0],\n",
      "        [30, 10,  0,  0,  0,  0,  0,  0],\n",
      "        [ 4,  0,  0,  0,  0,  0,  0,  0],\n",
      "        [ 4,  0,  0,  0,  0,  0,  0,  0],\n",
      "        [30, 10,  0,  0,  0,  0,  0,  0],\n",
      "        [15,  4,  9, 14,  0,  0,  0,  0],\n",
      "        [30, 10,  0,  0,  0,  0,  0,  0],\n",
      "        [18,  5, 13, 27,  0,  0,  0,  0],\n",
      "        [25,  5, 18, 19, 27,  0,  0,  0],\n",
      "        [18,  5, 13, 27,  0,  0,  0,  0],\n",
      "        [18,  5, 13, 27,  0,  0,  0,  0],\n",
      "        [ 2, 15, 18,  5, 13, 27,  0,  0],\n",
      "        [14,  5, 19,  0,  0,  0,  0,  0],\n",
      "        [ 4,  0,  0,  0,  0,  0,  0,  0],\n",
      "        [16, 32, 19, 27,  0,  0,  0,  0],\n",
      "        [ 4,  2,  0,  0,  0,  0,  0,  0],\n",
      "        [18,  5, 13, 27,  0,  0,  0,  0],\n",
      "        [ 0, 33, 15, 14,  0,  0,  0,  0],\n",
      "        [30, 10,  0,  0,  0,  0,  0,  0],\n",
      "        [14,  5, 19,  0,  0,  0,  0,  0],\n",
      "        [19, 17,  9,  0,  0,  0,  0,  0],\n",
      "        [14, 15, 12, 27,  0,  0,  0,  0],\n",
      "        [19, 17,  9,  0,  0,  0,  0,  0],\n",
      "        [14, 15, 12, 27,  0,  0,  0,  0],\n",
      "        [24,  5, 19, 28, 17,  5,  0,  0]])}\n",
      "\n",
      "element number: 1\n",
      "{'audio_lens': tensor([12480, 12480, 12480, 12480, 12480, 12480, 12480, 12480, 12480, 12480,\n",
      "        12480, 12480, 12480, 12480, 12480, 12539, 12672, 12672, 12672, 12672,\n",
      "        12672, 12672, 12672, 12672, 12672, 12672, 12748, 12748, 12864, 12864,\n",
      "        12864, 12864, 12864, 12864, 12864, 12957, 13056, 13056, 13056, 13056,\n",
      "        13056, 13056, 13056, 13056, 13056, 13056, 13056, 13056, 13056, 13056,\n",
      "        13056, 13056, 13056, 13056, 13056, 13056, 13056, 13056, 13056, 13056,\n",
      "        13056, 13056, 13056, 13056, 13248, 13248, 13248, 13248, 13248, 13248,\n",
      "        13248, 13248, 13248, 13375, 13440, 13440, 13440, 13440, 13440, 13440,\n",
      "        13440, 13440, 13440, 13440, 13440, 13440, 13440, 13440, 13440, 13440]),\n",
      " 'audios': tensor([[-1.2158e-10,  2.9273e-10, -2.1168e-09,  ...,  0.0000e+00,\n",
      "          0.0000e+00,  0.0000e+00],\n",
      "        [ 0.0000e+00,  0.0000e+00,  0.0000e+00,  ...,  0.0000e+00,\n",
      "          0.0000e+00,  0.0000e+00],\n",
      "        [-3.5852e-10, -1.5307e-09, -1.0943e-09,  ...,  0.0000e+00,\n",
      "          0.0000e+00,  0.0000e+00],\n",
      "        ...,\n",
      "        [-4.6291e-10, -2.6118e-09, -1.3767e-09,  ..., -1.5512e-03,\n",
      "         -2.6215e-03, -2.5480e-04],\n",
      "        [ 0.0000e+00,  0.0000e+00,  0.0000e+00,  ...,  0.0000e+00,\n",
      "          0.0000e+00,  0.0000e+00],\n",
      "        [-7.0829e-10, -2.4083e-09, -3.4318e-09,  ...,  1.3470e-03,\n",
      "          1.4858e-03,  9.4302e-04]]),\n",
      " 'text_lens': tensor([ 3,  6,  4,  4,  3,  4,  3,  6,  3,  3,  2,  4,  4,  6,  4,  2,  2,  3,\n",
      "         4,  6,  4,  4,  4,  5,  4,  3,  2,  6,  4,  4,  4,  3,  5,  2,  3,  6,\n",
      "         3,  6,  4,  4,  5,  3,  6,  5,  4,  3,  3,  3,  3,  4,  3,  3,  4,  2,\n",
      "         3,  3,  3,  4,  6,  4,  5,  4,  3,  2,  3,  3,  4, 13,  5, 12,  2,  4,\n",
      "         2,  4,  3,  2,  3,  6,  3,  2,  4,  2,  5,  6,  3,  4,  4, 11,  3,  7]),\n",
      " 'texts': ['нет',\n",
      "           'девять',\n",
      "           'пять',\n",
      "           'ноль',\n",
      "           'три',\n",
      "           'семь',\n",
      "           'два',\n",
      "           'восемь',\n",
      "           'нет',\n",
      "           'два',\n",
      "           'да',\n",
      "           'ноль',\n",
      "           'дура',\n",
      "           'девять',\n",
      "           'ноль',\n",
      "           'да',\n",
      "           'эй',\n",
      "           'три',\n",
      "           'ноль',\n",
      "           'девять',\n",
      "           'пять',\n",
      "           'ноль',\n",
      "           'один',\n",
      "           'шесть',\n",
      "           'один',\n",
      "           'два',\n",
      "           'эй',\n",
      "           'девять',\n",
      "           'пять',\n",
      "           'вами',\n",
      "           'пять',\n",
      "           'три',\n",
      "           'шесть',\n",
      "           'эй',\n",
      "           'три',\n",
      "           'восемь',\n",
      "           'три',\n",
      "           'я слаб',\n",
      "           'семь',\n",
      "           'ноль',\n",
      "           'шесть',\n",
      "           'два',\n",
      "           'девять',\n",
      "           'шесть',\n",
      "           'один',\n",
      "           'два',\n",
      "           'три',\n",
      "           'три',\n",
      "           'три',\n",
      "           'один',\n",
      "           'два',\n",
      "           'нет',\n",
      "           'ноль',\n",
      "           'да',\n"
     ]
    },
    {
     "data": {
      "text/html": [
       "<b>limit_output extension: Maximum message size of 10000 exceeded with 10965 characters</b>"
      ]
     },
     "metadata": {},
     "output_type": "display_data"
    }
   ],
   "source": [
    "for i, element in enumerate(train_dataloader):\n",
    "    print(f'element number: {i}')\n",
    "    pprint(element)\n",
    "    print()\n",
    "    if i > 0:\n",
    "        break"
   ]
  },
  {
   "cell_type": "markdown",
   "metadata": {},
   "source": [
    "# Акустические фичи"
   ]
  },
  {
   "cell_type": "markdown",
   "metadata": {},
   "source": [
    "Как мы обсуждали на лекциях, есть разные способы построить аудио фичи. Мы будем использовать log mel spectrogram.\n"
   ]
  },
  {
   "cell_type": "code",
   "execution_count": 41,
   "metadata": {
    "ExecuteTime": {
     "end_time": "2021-03-19T23:27:13.948305Z",
     "start_time": "2021-03-19T23:27:13.942127Z"
    },
    "code_folding": [
     0
    ],
    "scrolled": true
   },
   "outputs": [],
   "source": [
    "def compute_log_mel_spectrogram(audio, sequence_lengths,\n",
    "                            sample_rate=8000,\n",
    "                            window_size=0.02,\n",
    "                            window_step=0.01,\n",
    "                            f_min=20,\n",
    "                            f_max=3800,\n",
    "                            n_mels=64,\n",
    "                            window_fn=torch.hamming_window,\n",
    "                            power=1.0,\n",
    "                            eps=1e-6\n",
    "                            ):\n",
    "    \"\"\" Compute log-mel spectrogram.\n",
    "        Input shape:\n",
    "            audio: 3D tensor with shape (batch_size, num_timesteps)\n",
    "            sequence_lengths: 1D tensor with shape (batch_size)\n",
    "        Returns:\n",
    "            4D tensor with shape (batch_size, n_mels, new_num_timesteps)\n",
    "            1D tensor with shape (batch_size)\n",
    "    \"\"\"\n",
    "\n",
    "    win_length = int(window_size * sample_rate)\n",
    "    hop_length = int(window_step * sample_rate)\n",
    "    \n",
    "    ### write your code here ###\n",
    "    mel_transformer = torchaudio.transforms.MelSpectrogram(\n",
    "        sample_rate=sample_rate, win_length=win_length, hop_length=hop_length, n_fft=win_length,\n",
    "        f_min=f_min, f_max=f_max, pad=0, n_mels=n_mels, power=power, window_fn=window_fn\n",
    "    ).to(device=audio.device)\n",
    "\n",
    "    log_mel_spectrogram = torch.log(mel_transformer(audio) + eps)\n",
    "    seq_len = ((sequence_lengths + 2 * hop_length - win_length) // hop_length + 1).to(dtype=torch.long)    \n",
    "    \n",
    "    return log_mel_spectrogram, seq_len"
   ]
  },
  {
   "cell_type": "code",
   "execution_count": 42,
   "metadata": {
    "ExecuteTime": {
     "end_time": "2021-03-19T23:27:15.856346Z",
     "start_time": "2021-03-19T23:27:14.066421Z"
    }
   },
   "outputs": [
    {
     "name": "stdout",
     "output_type": "stream",
     "text": [
      "torch.Size([90, 64, 157]) torch.Size([90])\n"
     ]
    }
   ],
   "source": [
    "batch = next(iter(train_dataloader))\n",
    "log_mel_spectrogram, sequence_lengths = compute_log_mel_spectrogram(batch['audios'], batch['audio_lens'])\n",
    "print(log_mel_spectrogram.shape, sequence_lengths.shape)"
   ]
  },
  {
   "cell_type": "code",
   "execution_count": 43,
   "metadata": {
    "ExecuteTime": {
     "end_time": "2021-03-19T23:27:18.845756Z",
     "start_time": "2021-03-19T23:27:15.858514Z"
    },
    "scrolled": true
   },
   "outputs": [
    {
     "name": "stdout",
     "output_type": "stream",
     "text": [
      "Don't forget to save Jupyter Notebook! \n",
      "\n",
      "\n",
      "\u001b[1m============================= test session starts ==============================\u001b[0m\n",
      "platform linux -- Python 3.6.9, pytest-6.2.2, py-1.10.0, pluggy-0.13.1\n",
      "rootdir: /home/mnakhodnov/sirius-stt, configfile: pytest.ini\n",
      "collected 1 item                                                               \u001b[0m\u001b[1m\n",
      "\n",
      "tests/test_compute_log_mel_spectrogram.py \u001b[32m.\u001b[0m\u001b[32m                              [100%]\u001b[0m\n",
      "\n",
      "\u001b[32m============================== \u001b[32m\u001b[1m1 passed\u001b[0m\u001b[32m in 1.74s\u001b[0m\u001b[32m ===============================\u001b[0m\n"
     ]
    }
   ],
   "source": [
    "! pytest tests/test_compute_log_mel_spectrogram.py"
   ]
  },
  {
   "cell_type": "markdown",
   "metadata": {},
   "source": [
    "Давайте посмотрим, как выглядит log-mel спектрограмма."
   ]
  },
  {
   "cell_type": "code",
   "execution_count": 44,
   "metadata": {
    "ExecuteTime": {
     "end_time": "2021-03-19T23:27:19.033550Z",
     "start_time": "2021-03-19T23:27:18.848322Z"
    },
    "scrolled": false
   },
   "outputs": [
    {
     "data": {
      "image/png": "[encoded data removed]",
      "text/plain": [
       "<Figure size 432x288 with 1 Axes>"
      ]
     },
     "metadata": {
      "needs_background": "light"
     },
     "output_type": "display_data"
    },
    {
     "data": {
      "text/html": [
       "\n",
       "                <audio  controls=\"controls\" >\n",
       "                    <source src=\"data:audio/wav;base64,UklGRiSgAABXQVZFZm10IBAAAAABAAEAQB8AAIA+AAACABAAZGF0YQCgAAAAAAAAAAAAAAAAAAAAAAAAAAAAAAAAAAAAAAAAAAAAAAAAAAAAAAAAAAAAAAAAAAAAAAAAAAAAAAAAAAAAAAAAAAAAAAAAAAAAAAAAAAAAAAAAAAAAAAAAAAAAAAAAAAAAAAAAAAAAAAAAAAAAAAAAAAAAAAAAAAAAAAAAAAAAAAAAAAAAAAAAAAAAAAAAAAAAAAAAAAAAAAAAAAAAAAAAAAAAAAAAAAAAAAAAAAAAAAAAAAAAAAAAAAAAAAAAAAAAAAAAAAAAAAAAAAAAAAAAAAAAAAAAAAABAAAAAAAAAAAAAAAAAAAAAAAAAAAAAAAAAAAAAAAAAAAAAAAAAAAAAAAAAAAAAAAAAAAAAAAAAAAAAAAAAAAAAAAAAAAAAAAAAAAAAAAAAAAAAAAAAAAAAAAAAAAAAAAAAAAAAAAAAAAAAAAAAAAAAAAAAAAAAAAAAAAAAAAAAAAAAAAAAAAAAAAAAAAAAAAAAAAAAAAAAAAAAAAAAAAAAAAAAAAAAQAAAAAAAAAAAAAAAAAAAAAAAAAAAAAAAAAAAAAAAAAAAAAAAAAAAAAAAAAAAAAAAAAAAAAAAAAAAAAAAAAAAAAAAAAAAAAAAAAAAAAAAAAAAAAAAAAAAAAAAAAAAAAAAAAAAAAAAAAAAAAAAAAAAAAAAAAAAAAAAAAAAAAAAAAAAAAAAAAAAAAAAAAAAAAAAAAAAAAAAAAAAAAAAAAAAAAAAAAAAAAAAAAAAAAAAAAAAAAAAAAAAAAAAAAAAAAAAAAAAAAAAAAAAAAAAAAAAAAAAAAAAAAAAAAAAAAAAAAAAAAAAAAAAAAAAAAAAAAAAAAAAAAAAAAAAAAAAAAAAAAAAAAAAAAAAAAAAAAA//8AAAAAAAAAAAAAAAAAAAAAAAAAAAAAAAAAAAAAAAAAAAAAAAAAAAAAAAAAAAAAAAAAAAAAAAAAAAAAAAAAAAAA//8AAAAAAAAAAAAAAAAAAAAAAAAAAAAAAAAAAAAAAAAAAAAAAAAAAAAAAAAAAAAAAAAAAAAAAAAAAAAAAAAAAAAAAAAAAAAAAAAAAAAAAAAAAAAAAAAAAAAAAAAAAAAAAAAAAAAAAAAAAAAAAAAAAAAAAAAAAAAAAAAAAAAAAAAAAAAAAAAAAAAAAAAAAAAAAAAAAAAAAAAAAAAAAAAAAAAAAAAAAAAAAAAAAAAAAAAAAAAAAAAAAAAAAAAAAAAAAAAAAAAAAAAAAAAAAAAAAAAAAAAAAAAAAAAAAAAAAAAAAAAAAAAAAAAAAAAAAAAAAAAAAAAAAAAAAAAAAAAAAAAAAAAAAAAAAAAAAAAAAAAAAAAAAAAAAAAAAAAAAAAAAAAAAAAAAAAAAAAAAAAAAAAAAAAAAAAAAAAAAAAAAAAAAAAAAAAAAAAAAAAAAAAAAAAAAAAAAAAAAAAAAAAAAAAAAAAAAAAAAAAAAAAAAAAAAAAAAAAAAAAAAAAAAAAAAAAAAAAAAAAAAAAAAAAAAAAAAAAAAAAAAAAAAAAAAAAAAAAAAAAAAAAAAAAAAAAAAAAAAAAAAAAAAAAAAAAAAAAAAAAAAAAAAAAAAAAAAAAAAAAAAAAAAAAAAAAAAAAAAAAAAAAAAAAAAAAAAAAAAAAAAAAAAAAAAAAAAAAAAAAAAAAAAAAAAAAAAAAAAAAAAAAAAAAAAAAAAAAAAAAAAAAAAAAAAAAAAAAAAAAAAAAAAAAAAAAAAAAAAAAAAAAAAAAAAAAAAAAAAAAAAAAAAAAAAAAAAAAAAAAAAAAAAAAAAAAAAAAAAAAAAAAAAAAAAAAAAAAAAAAAAAAAAAAAAAAAAAAAAAAAAAAAAAAAAAAAAAAAAAAAAAAAAAAAAAAAAAAAAAAAAAAAAAAAAAAAAAAAAAAAAAAAAAAAAAAAAAAAAAAAAAAAAAAAAAAAAAAAAAAAAAAAAAAAAAAAAAAAAAAAAAAAAAAAAAAAAAAAAAAAAAAAAAAAAAAAAAAAAAAAAAAAAAAAAAAAAAAAAAAAAAAAAAAAAAAAAAAAAAAAAAAAAAAAAAAAAAAAAAAAAAAAAAAAAAAAAAAAAAAAAAAAAAAAAAAAAAAAAAAAAAAAAAAAAAAAAAAAAAAAAAAAAAAAAAAAAAAAAAAAAAAAAAAAAAAAAAAAAAAAAAAAAAAAAAAAAAAAAAAAAAAAAAAAAAAAAAAAAAAAAAAAAAAAAAAAAAAAAAAAAAAAAAAAAAAAAAAAAAAAAAAAAAAAAAAAAAAAAAAAAAAAAAAAAAAAAAAAAAAAAAAAAAAAAAAAAAAAAAAAAAAAAAAAAAAAAAAAAAAAAAAAAAAAAAAAAAAAAAAAAAAAAAAAAAAAAAAAAAAAAAAAAAAAAAAAAAAAAAAAAAAAAAAAAAAAAAAAAAAAAAAAAAAAAAAAAAAAAAAAAAAAAAAAAAAAAAAAAAAAAAAAAAAAAAAAAAAAAAAAAAAAAAAAAAAAAAAAAAAAAAAAAAAAAAAAAAAAAAAAAAAAAAAAAAAAAAAAAAAAAAAAAAAAAAAAAAAAAAAAAAAAAAAAAAAAAAAAAAAAAAAAAAAAAAAAAAAAAAAAAAAAAAAAAAAAAAAAAAAAAAAAAAAAAAAAAAAAAAAAAAAAAAAAAAAAAAAAAAAAAAAAAAAAAAAAAAAAAAAAAAAAAAAAAAAAAAAAAAAAAAAAAAAAAAAAAAAAAAAAAAAAAAAAAAAAAAAAAAAAAAAAAAAAAAAAAAAAAAAAAAAAAAAAAAAAAAAAAAAAAAAAAAAAAAAAAAAAAAAAAAAAAAAAAAAAAAAAAAAAAAAAAAAAAAAAAAAAAAAAAAAAAAAAAAAAAAAAAAAAAAAAAAAAAAAAAAAAAAAAAAAAAAAAAAAAAAAAAAAAAAAAAAAAAAAAAAAAAAAAAAAAAAAAAAAAAAAAAAAAAAAAAAAAAAAAAAAAAAAAAAAAAAAAAAAAAAAAAAAAAAAAAAAAAAAAAAAAAAAAAAAAAAAAAAAAAAAAAAAAAAAAAAAAAAAAAAAAAAAAAAAAAAAAAAAAAAAAAAAAAAAAAAAAAAAAAAAAAAAAAAAAAAAAAAAAAAAAAAAAAAAAAAAAAAAAAAAAAAAAAAAAAAAAAAAAAAAAAAAAAAAAAAAAAAAAAAAAAAAAAAAAAAAAAAAAAAAAAAAAAAAAAAAAAAAAAAAAAAAAAAAAAAAAAAAAAAAAAAAAAAAAAAAAAAAAAAAAAAAAAAAAAAAAAAAAAAAAAAAAAAAAAAAAAAAAAAAAAAAAAAAAAAAAAAAAAAAAAAAAAAAAAAAAAAAAAAAAAAAAAAAAAAAAAAAAAAAAAAAAAAAAAAAAAAAAAAAAAAAAAAAAAAAAAAAAAAAAAAAAAAAAAAAAAAAAAAAAAAAAAAAAAAAAAAAAAAAAAAAAAAAAAAAAAAAAAAAAAAAAAAAAAAAAAAAAAAAAAAAAAAAAAAAAAAAAAAAAAAAAAAAAAAAAAAAAAAAAAAAAAAAAAAAAAAAAAAAAAAAAAAAAAAAAAAAAAAAAAAAAAAAAAAAAAAAAAAAAAAAAAAAAAAAAAAAAAAAAAAAAAAAAAAAAAAAAAAAAAAAAAAAAAAAAAAAAAAAAAAAAAAAAAAAAAAAAAAAAAAAAAAAAAAAAAAAAAAAAAAAAAAAAAAAAAAAAAAAAAAAAAAAAAAAAAAAAAAAAAAAAAAAAAAAAAAAAAAAAAAAAAAAAAAAAAAAAAAAAAAAAAAAAAAAAAAAAAAAAAAAAAAAAAAAAAAAAAAAAAAAAAAAAAAAAAAAAAAAAAAAAAAAAAAAAAAAAAAAAAAAAAAAAAAAAAAAAAAAAAAAAAAAAAAAAAAAAAAAAAAAAAAAAAAAAAAAAAAAAAAAAAAAAAAAAAAAAAAAAAAAAAAAAAAAAAAAAAAAAAAAAAAAAAAAAAAAAAAAAAAAAAAAAAAAAAAAAAAAAAAAAAAAAAAAAAAAAAAAAAAAAAAAAAAAAAAAAAAAAAAAAAAAAAAAAAAAAAAAAAAAAAAAAAAAAAAAAAAAAAAAAAAAAAAAAAAAAAAAAAAAAAAAAAAAAAAAAAAAAAAAAAAAAAAAAAAAAAAAAAAAAAAAAAAAAAAAAAAAAAAAAAAAAAAAAAAAAAAAAAAAAAAAAAAAAAAAAAAAAAAAAAAAAAAAAAAAAAAAAAAAAAAAAAAAAAAAAAAAAAAAAAAAAAAAAAAAAAAAAAAAAAAAAAAAAAAAAAAAAAAAAAAAAAAAAAAAAAAAAAAAAAAAAAAAAAAAAAAAAAAAAAAAAAAAAAAAAAAAAAAAAAAAAAAAAAAAAAAAAAAAAAAAAAAAAAAAAAAAAAAAAAAAAAAAAAAAAAAAAAAAAAAAAAAAAAAAAAAAAAAAAAAAAAAAAAAAAAAAAAAAAAAAAAAAAAAAAAAAAAAAAAAAAAAAAAAAAAAAAAAAAAAAAAAAAAAAAAAAAAAAAAAAAAAAAAAAAAAAAAAAAAAAAAAAAAAAAAAAAAAAAAAAAAAAAAAAAAAAAAAAAAAAAAAAAAAAAAAAAAAAAAAAAAAAAAAAAAAAAAAAAAAAAAAAAAAAAAAAAAAAAAAAAAAAAAAAAAAAAAAAAAAAAAAAAAAAAAAAAAAAAAAAAAAAAAAAAAAAAAAAAAAAAAAAAAAAAAAAAAAAAAAAAAAAAAAAAAAAAAAAAAAAAAAAAAAAAAAAAAAAAAAAAAAAAAAAAAAAAAAAAAAAAAAAAAAAAAAAAAAAAAAAAAAAAAAAAAAAAAAAAAAAAAAAAAAAAAAAAAAAAAAAAAAAAAAAAAAAAAAAAAAAAAAAAAAAAAAAAAAAAAAAAAAAAAAAAAAAAAAAAAAAAAAAAAAAAAAAAAAAAAAAAAAAAAAAAAAAAAAAAAAAAAAAAAAAAAAAAAAAAAAAAAAAAAAAAAAAAAAAAAAAAAAAAAAAAAAAAAAAAAAAAAAAAAAAAAAAAAAAAAAAAAAAAAAAAAAAAAAAAAAAAAAAAAAAAAAAAAAAAAAAAAAAAAAAAAAAAAAAAAAAAAAAAAAAAAAAAAAAAAAAAAAAAAAAAAAAAAAAAAAAAAAAAAAAAAAAAAAAAAAAAAAAAAAAAAAAAAAAAAAAAAAAAAAAAAAAAAAAAAAAAAAAAAAAAAAAAAAAAAAAAAAAAAAAAAAAAAAAAAAAAAAAAAAAAAAAAAAAAAAAAAAAAAAAAAAAAAAAAAAAAAAAAAAAAAAAAAAAAAAAAAAAAAAAAAAAAAAAAAAAAAAAAAAAAAAAAAAAAAAAAAAAAAAAAAAAAAAAAAAAAAAAAAAAAAAAAAAAAAAAAAAAAAAAAAAAAAAAAAAAAAAAAAAAAAAAAAAAAAAAAAAAAAAAAAAAAAAAAAAAAAAAAAAAAAAAAAAAAAAAAAAAAAAAAAAAAAAAAAAAAAAAAAAAAAAAAAAAAAAAAAAAAAAAAAAAAAAAAAAAAAAAAAAAAAAAAAAAAAAAAAAAAAAAAAAAAAAAAAAAAAAAAAAAAAAAAAAAAAAAAAAAAAAAAAAAAAAAAAAAAAAAAAAAAAAAAAAAAAAAAAAAAAAAAAAAAAAAAAAAAAAAAAAAAAAAAAAAAAAAAAAAAAAAAAAAAAAAAAAAAAAAAAAAAAAAAAAAAAAAAAAAAAAAAAAAAAAAAAAAAAAAAAAAAAAAAAAAAAAAAAAAAAAAAAAAAAAAAAAAAAAAAAAAAAAAAAAAAAAAAAAAAAAAAAAAAAAAAAAAAAAAAAAAAAAAAAAAAAAAAAAAAAAAAAAAAAAAAAAAAAAAAAAAAAAAAAAAAAAAAAAAAAAAAAAAAAAAAAAAAAAAAAAAAAAAAAAAAAAAAAAAAAAAAAAAAAAAAAAAAAAAAAAAAAAAAAAAAAAAAAAAAAAAAAAAAAAAAAAAAAAAAAAAAAAAAAAAAAAAAAAAAAAAAAAAAAAAAAAAAAAAAAAAAAAAAAAAAAAAAAAAAAAAAAAAAAAAAAAAAAAAAAAAAAAAAAAAAAAAAAAAAAAAAAAAAAAAAAAAAAAAAAAAAAAAAAAAAAAAAAAAAAAAAAAAAAAAAAAAAAAAAAAAAAAAAAAAAAAAAAAAAAAAAAAAAAAAAAAAAAAAAAAAAAAAAAAAAAAAAAAAAAAAAAAAAAAAAAAAAAAAAAAAAAAAAAAAAAAAAAAAAAAAAAAAAAAAAAAAAAAAAAAAAAAAAAAAAAAAAAAAAAAAAAAAAAAAAAAAAAAAAAAAAAAAAAAAAAAAAAAAAAAAAAAAAAAAAAAAAAAAAAAAAAAAAAAAAAAAAAAAAAAAAAAAAAAAAAAAAAAAAAAAAAAAAAAAAAAAAAAAAAAAAAAAAAAAAAAAAAAAAAAAAAAAAAAAAAAAAAAAAAAAAAAAAAAAAAAAAAAAAAAAAAAAAAAAAAAAAAAAAAAAAAAAAAAAAAAAAAAAAAAAAAAAAAAAAAAAAAAAAAAAAAAAAAAAAAAAAAAAAAAAAAAAAAAAAAAAAAAAAAAAAAAAAAAAAAAAAAAAAAAAAAAAAAAAAAAAAAAAAAAAAAAAAAAAAAAAAAAAAAAAAAAAAAAAAAAAAAAAAAAAAAAAAAAAAAAAAAAAAAAAAAAAAAAAAAAAAAAAAAAAAAAAAAAAAAAAAAAAAAAAAAAAAAAAAAAAAAAAAAAAAAAAAAAAAAAAAAAAAAAAAAAAAAAAAAAAAAAAAAAAAAAAAAAAAAAAAAAAAAAAAAAAAAAAAAAAAAAAAAAAAAAAAAAAAAAAAAAAAAAAAAAAAAAAAAAAAAAAAAAAAAAAAAAAAAAAAAAAAAAAAAAAAAAAAAAAAAAAAAAAAAAAAAAAAAAAAAAAAAAAAAAAAAAAAAAAAAAAAAAAAAAAAAAAAAAAAAAAAAAAAAAAAAAAAAAAAAAAAAAAAAAAAAAAAAAAAAAAAAAAAAAAAAAAAAAAAAAAAAAAAAAAAAAAAAAAAAAAAAAAAAAAAAAAAAAAAAAAAAAAAAAAAAAAAAAAAAAAAAAAAAAAAAAAAAAAAAAAAAAAAAAAAAAAAAAAAAAAAAAAAAAAAAAAAAAAAAAAAAAAAAAAAAAAAAAAAAAAAAAAAAAAAAAAAAAAAAAAAAAAAAAAAAAAAAAAAAAAAAAAAAAAAAAAAAAAAAAAAAAAAAAAAAAAAAAAAAAAAAAAAAAAAAAAAAAAAAAAAAAAAAAAAAAAAAAAAAAAAAAAAAAAAAAAAAAAAAAAAAAAAAAAAAAAAAAAAAAAAAAAAAAAAAAAAAAAAAAAAAAAAAAAAAAAAAAAAAAAAAAAAAAAAAAAAAAAAAAAAAAAAAAAAAAAAAAAAAAAAAAAAAAAAAAAAAAAAAAAAAAAAAAAAAAAAAAAAAAAAAAAAAAAAAAAAAAAAAAAAAAAAAAAAAAAAAAAAAAAAAAAAAAAAAAAAAAAAAAAAAAAAAAAAAAAAAAAAAAAAAAAAAAAAAAAAAAAAAAAAAAAAAAAAAAAAAAAAAAAAAAAAAAAAAAAAAAAAAAAAAAAAAAAAAAAAAAAAAAAAAAAAAAAAAAAAAAAAAAAAAAAAAAAAAAAAAAAAAAAAAAAAAAAAAAAAAAAAAAAAAAAAAAAAAAAAAAAAAAAAAAAAAAAAAAAAAAAAAAAAAAAAAAAAAAAAAAAAAAAAAAAAAAAAAAAAAAAAAAAAAAAAAAAAAAAAAAAAAAAAAAAAAAAAAAAAAAAAAAAAAAAAAAAAAAAAAAAAAAAAAAAAAAAAAAAAAAAAAAAAAAAAAAAAAAAAAAAAAAAAAAAAAAAAAAAAAAAAAAAAAAAAAAAAAAAAAAAAAAAAAAAAAAAAAAAAAAAAAAAAAAAAAAAAAAAAAAAAAAAAAAAAAAAAAAAAAAAAAAAAAAAAAAAAAAAAAAAAAAAAAAAAAAAAAAAAAAAAAAAAAAAAAAAAAAAAAAAAAAAAAAAAAAAAAAAAAAAAAAAAAAAAAAAAAAAAAAAAAAAAAAAAAAAAAAAAAAAAAAAAAAAAAAAAAAAAAAAAAAAAAAAAAAAAAAAAAAAAAAAAAAAAAAAAAAAAAAAAAAAAAAAAAAAAAAAAAAAAAAAAAAAAAAAAAAAAAAAAAAAAAAAAAAAAAAAAAAAAAAAAAAAAAAAAAAAAAAAAAAAAAAAAAAAAAAAAAAAAAAAAAAAAAAAAAQAAAAAAAAAAAAAAAAAAAAAAAAAAAAAAAAAAAAAAAAAAAAAAAAAAAAAAAAAAAAAAAAAAAAAAAAAAAAAAAAAAAAAAAAAAAAAAAAAAAAAAAAAAAAAAAAAAAAAAAAAAAAAAAAAAAAAAAAAAAAAAAAAAAAAAAAAAAAAAAAAAAAAAAAAAAAAAAAAAAAAAAAAAAAAAAAAAAAAAAAAAAAAAAAAAAAAAAAAAAAAAAAAAAAAAAAAAAAAAAAAAAAAAAAAAAAAAAAAAAAAAAAAAAAAAAAAAAAAAAAAAAAAAAAAAAAAAAAAAAAAAAAAAAAAAAAAAAAAAAAAAAAAAAAAAAAAAAAAAAAAAAAAAAAAAAAAAAAAAAAAAAAAAAAAAAAAAAAAAAAAAAAAAAAAAAAAAAAAAAAAAAAAAAAAAAAAAAAAAAAAAAAAAAAAAAAAAAAAAAAAAAAAAAAAAAAAAAAAAAAAAAAAAAAAAAAAAAAAAAAAAAAAAAAAAAAAAAAAAAAAAAAAAAAAAAAAAAAAAAAAAAAAAAAAAAAAAAAAAAAAAAAAAAAAAAAAAAAAAAAAAAAAAAAAAAAAAAAAAAAAAAAAAAAAAAAAAAAAA+f/v/+X/2f/M/8L/uv+3/7b/uP+3/8H/0f/d/+//+/8FAA4AGQAiAC0AMgAyAC8ALAArACMAGgAXABoAFQAUABcAFwAYABgAGgAZABMABQD///T/6v/f/9H/zf/E/73/v//B/8b/y//Q/9f/2//k/+//9f///wEACwAdAPX/rwAyAIT/GgDA/9L/nv/V/5//DwAiAB8AhACJALIAZgGMAHIASADe/7z/Hf8Z/7kASP9W/7X/zP88AKz/6v/V/8oA2f/n//r//P+R/4r/JP9x/xYAZv97/8v/CABEAOf/JgAAAEYAMgAlAEUATwBHAEYAPgBeAFUAoABcAGMAYgBLAPr/sv+p/2X/sv+w/+v/rP/W/8z/5/8EAK3/7v++/8X/mf/O/xMAsP+///f/EAAAALz/+P+9/xcA1/8kACUAFgAVAB4ANgAiAEEAOQB8AIUAPgA+APn/AADk/+3/ov/B/8z/nf+M/4b/mv+X/4f/h/+n/6v/sP/o/9v/GQBMAEAAVgBwAH4AagB0AFoAmAB4AGgAjQBbAFEAYgBoAFcAUgBKAEYANQDq/97/5f+5/5v/gP9n/1T/IP8k/zb/QP8p/2X/dP+f/9b/yv///zAAJABaAFgAXQB2AHQAaACOAHgAfwCLAIYAgABeAHYAJAAfAAwA2v+1/23/eP89/0L/L/8M/x7/Lf8n/2L/pv+4/wAAHAB5AJ0AzgAdAUIBRgFnAUAB7ADTAG4AEADw/3v/Iv8X/7z+sP65/pP+q/6y/mv+T/4d/q392f0g/gf+If8TAPwA6ALyA+kEKgacBk0G8wUVBY4DCwItAKf+TP3z+0f75vr/+jz7z/sU/N77aPtq+6L8yvob/Cr+Pf6SAYID7QSQB7kIYQhSCKoH0ASXA7wAVv5B/Z77kfpH+wb8Hv2+/w0B1QLKBJgEzASrA2MB//4q+0n27/Wy89bvkfQN9Sv4Xf94AlEHJw1PD4cPoxHMDk0LiAkAA13/m/wF+Ab3lvaH9nv53vvn/RgCKQTSBe0H8wZfBUoD0P7H+Xv05vP77rTt8PEY8kT4Xv9qA0sKHBCaErkTPxUjEbQN9wmkAtL+U/o49Z70tvPk86z3mvqF/ZQCPAVlB00J4gc/BmADDv6F+CDyXfFN7dzpAvBR8cT27/8JBcMLzR"
      ],
      "text/plain": [
       "<IPython.lib.display.Audio object>"
      ]
     },
     "execution_count": 44,
     "metadata": {},
     "output_type": "execute_result"
    },
    {
     "data": {
      "text/html": [
       "<b>limit_output extension: Maximum message size of 10000 exceeded with 54904 characters</b>"
      ]
     },
     "metadata": {},
     "output_type": "display_data"
    }
   ],
   "source": [
    "audio, audio_len = open_audio('test_files/test_audio.opus', 8000)\n",
    "spectrogram, new_len = compute_log_mel_spectrogram(audio, torch.tensor(audio_len))\n",
    "plt.pcolormesh(spectrogram)\n",
    "plt.xlabel('T')\n",
    "plt.ylabel('mels')\n",
    "plt.show()\n",
    "Audio(data=audio.numpy(), rate=sample_rate)"
   ]
  },
  {
   "cell_type": "markdown",
   "metadata": {},
   "source": [
    "# Нейронная сеть"
   ]
  },
  {
   "cell_type": "markdown",
   "metadata": {},
   "source": [
    "Мы подготовили все данные, теперь можно заняться реализацией нейронной сети. Будем реализовывать архитектуру [Deepspeech 2](https://arxiv.org/pdf/1512.02595.pdf) в немного упрощенном виде.\n",
    "\n",
    "\n",
    "<img src=\"images/cat_reproduction.jpg\" width=\"400\" height=\"400\">\n"
   ]
  },
  {
   "cell_type": "markdown",
   "metadata": {},
   "source": [
    "Вот так будет выглядеть архитектура сети:\n",
    "\n",
    "\n",
    "<img src=\"images/deepspeech.jpg\" width=\"200\" height=\"150\">"
   ]
  },
  {
   "cell_type": "code",
   "execution_count": 45,
   "metadata": {
    "ExecuteTime": {
     "end_time": "2021-03-19T23:27:20.438698Z",
     "start_time": "2021-03-19T23:27:20.435544Z"
    },
    "scrolled": true
   },
   "outputs": [],
   "source": [
    "import torch.nn as nn\n",
    "import torch.nn.functional as F"
   ]
  },
  {
   "cell_type": "code",
   "execution_count": 46,
   "metadata": {
    "ExecuteTime": {
     "end_time": "2021-03-19T23:27:20.930455Z",
     "start_time": "2021-03-19T23:27:20.912230Z"
    },
    "code_folding": [
     8
    ],
    "scrolled": true
   },
   "outputs": [],
   "source": [
    "def _calculate_fan(dimentions, conv_params, axis):\n",
    "    stride = conv_params.get('stride', [1, 1])[axis]\n",
    "    padding = conv_params.get('padding', [0, 0])[axis]\n",
    "    kernel_size = conv_params.get('kernel_size')[axis]\n",
    "    dillation = conv_params.get('dillation', [1, 1])[axis]\n",
    "    \n",
    "    return torch.floor((dimentions + 2 * padding - dillation * (kernel_size - 1) - 1) / stride + 1).to(dtype=torch.long)\n",
    "    \n",
    "class Model(nn.Module):\n",
    "    def __init__(self, num_mel_bins, hidden_size, num_layers, num_tokens):\n",
    "        super(Model, self).__init__()\n",
    "        \n",
    "        self.num_tokens = num_tokens\n",
    "        self.num_layers = num_layers\n",
    "        self.hidden_size = hidden_size\n",
    "        \n",
    "        self.bidirectional = True\n",
    "        self.num_directions = 2 if self.bidirectional else 1\n",
    "        \n",
    "        self.num_mel_bins = num_mel_bins\n",
    "        \n",
    "        conv1_params = AttrDict(\n",
    "            {\n",
    "                \"in_channels\": 1,\n",
    "                \"out_channels\": 32,\n",
    "                \"kernel_size\": [21, 11],\n",
    "                \"stride\": [1, 1] \n",
    "            })                             \n",
    "        conv2_params = AttrDict(\n",
    "            {\n",
    "                \"in_channels\": conv1_params['out_channels'],\n",
    "                \"out_channels\": 64,\n",
    "                \"kernel_size\": [11, 11],\n",
    "                \"stride\": [1, 3]\n",
    "            }\n",
    "        )\n",
    "        \n",
    "        self.conv1_params = conv1_params\n",
    "        self.conv2_params = conv2_params\n",
    "        \n",
    "        # [batch_size x 1 X num_mel_bins x time] -> [batch_size x conv2.out_channels x fan_num_mel_bins x fan_time]\n",
    "        self.conv = nn.Sequential(\n",
    "            ### write your code here ###\n",
    "        \n",
    "            # CONV 1\n",
    "            torch.nn.Conv2d(**self.conv1_params, bias=False),\n",
    "            # BATCH NORM 1\n",
    "            torch.nn.BatchNorm2d(num_features=self.conv1_params['out_channels'], momentum=0.9),\n",
    "            # RELU\n",
    "            torch.nn.ReLU(inplace=True),\n",
    "            \n",
    "            # CONV 2\n",
    "            torch.nn.Conv2d(**self.conv2_params, bias=False),\n",
    "            # BATCH NORM 2\n",
    "            torch.nn.BatchNorm2d(num_features=self.conv2_params['out_channels'], momentum=0.9),\n",
    "            # RELU\n",
    "            torch.nn.ReLU(inplace=True),            \n",
    "        )\n",
    "        \n",
    "        # YOUR CODE\n",
    "        fan_num_mel_bins = _calculate_fan(\n",
    "            _calculate_fan(torch.tensor(num_mel_bins), conv1_params, axis=0), \n",
    "            conv2_params, axis=0\n",
    "        ).item()\n",
    "        rnn_input_size = self.conv2_params['out_channels'] * fan_num_mel_bins\n",
    "\n",
    "        # 4 слоя бидир lstm\n",
    "        # YOUR CODE\n",
    "        # [batch_size x fan_time x rnn_input_size] -> [batch_size x fan_time x num_directions * hidden_size], (h_n, c_n)\n",
    "        self.lstm = torch.nn.LSTM(\n",
    "            input_size=rnn_input_size, hidden_size=hidden_size, num_layers=self.num_layers,\n",
    "            bias=True, batch_first=True, bidirectional=self.bidirectional\n",
    "        )\n",
    "        \n",
    "         # YOUR CODE\n",
    "        # [batch_size x num_directions * hidden_size] -> [batch_size, num_tokens]\n",
    "        self.output_layer = torch.nn.Linear(self.num_directions * self.hidden_size, self.num_tokens)\n",
    "    \n",
    "    def forward(self, inputs, seq_lens, state=None):\n",
    "        \"\"\"\n",
    "            Input shape:\n",
    "                audio: 3D tensor with shape (batch_size, num_mel_bins, num_timesteps)\n",
    "                sequence_lengths: 1D tensor with shape (batch_size)\n",
    "            Returns:\n",
    "                3D tensor with shape (new_num_timesteps, batch_size, alphabet_len)\n",
    "                1D tensor with shape (batch_size)\n",
    "            \"\"\"\n",
    "        \n",
    "        outputs = inputs.unsqueeze(1) # conv2d input should be four-dimensional\n",
    "        \n",
    "        ### write your code here ###\n",
    "        seq_lens = _calculate_fan(_calculate_fan(seq_lens, self.conv1_params, axis=1), self.conv2_params, axis=1)\n",
    "        \n",
    "        outputs = self.conv(outputs)\n",
    "\n",
    "        outputs = self.transpose_and_reshape(outputs)\n",
    "        outputs, (h_n, c_n) = self.lstm(outputs)\n",
    "\n",
    "        outputs = self.output_layer(outputs)\n",
    "        outputs = torch.transpose(outputs, 0, 1)\n",
    "        outputs = F.log_softmax(outputs, dim=-1)\n",
    "        \n",
    "        return outputs, seq_lens\n",
    "\n",
    "    @staticmethod\n",
    "    def transpose_and_reshape(inputs):\n",
    "    \n",
    "        \"\"\" This function will be very useful for converting the output of a convolutional layer \n",
    "            to the input of a lstm layer\n",
    "            \n",
    "            Input shape:\n",
    "                inputs: 4D tensor with shape (batch_size, num_filters, num_features, num_timesteps)\n",
    "            Returns:\n",
    "                3D tensor with shape (batch_size, num_timesteps, new_num_features)\n",
    "            \"\"\"\n",
    "            \n",
    "        sizes = inputs.size()\n",
    "                \n",
    "        # reshape # YOUR CODE\n",
    "        # (batch_size, num_filters * num_features, num_timesteps)\n",
    "        outputs = inputs.reshape(inputs.shape[0], inputs.shape[1] * inputs.shape[2], inputs.shape[3])\n",
    "        # transpose # YOUR CODE\n",
    "        # (batch_size, num_timesteps, new_num_features)\n",
    "        outputs = torch.transpose(outputs, 1, 2)\n",
    "        return outputs\n",
    "           \n",
    "    @staticmethod\n",
    "    def get_new_seq_lens(seq_lens, conv1_kernel_size, conv1_stride, conv2_kernel_size, conv2_stride):\n",
    "    \n",
    "        \"\"\" Compute sequence_lengths after convolutions\n",
    "            \"\"\"\n",
    "            \n",
    "        ### write your code here ###\n",
    "        seq_lens = _calculate_fan(seq_lens, {'kernel_size': [conv1_kernel_size], 'stride': [conv1_stride]}, axis=0)\n",
    "        seq_lens = _calculate_fan(seq_lens, {'kernel_size': [conv2_kernel_size], 'stride': [conv2_stride]}, axis=0)\n",
    "        return seq_lens"
   ]
  },
  {
   "cell_type": "code",
   "execution_count": 47,
   "metadata": {
    "ExecuteTime": {
     "end_time": "2021-03-19T23:27:22.010829Z",
     "start_time": "2021-03-19T23:27:22.007226Z"
    },
    "scrolled": true
   },
   "outputs": [],
   "source": [
    "num_tokens = len(vocab.tokens2indices()) - 1\n",
    "num_mel_bins = 64\n",
    "hidden_size= 512\n",
    "num_layers = 4"
   ]
  },
  {
   "cell_type": "code",
   "execution_count": 48,
   "metadata": {
    "ExecuteTime": {
     "end_time": "2021-03-19T23:27:22.656889Z",
     "start_time": "2021-03-19T23:27:22.386430Z"
    }
   },
   "outputs": [],
   "source": [
    "model = Model(num_mel_bins=num_mel_bins,\n",
    "              hidden_size=hidden_size,\n",
    "              num_layers=num_layers,\n",
    "              num_tokens=num_tokens)"
   ]
  },
  {
   "cell_type": "code",
   "execution_count": 49,
   "metadata": {
    "ExecuteTime": {
     "end_time": "2021-03-19T23:27:26.748666Z",
     "start_time": "2021-03-19T23:27:22.714793Z"
    }
   },
   "outputs": [
    {
     "name": "stdout",
     "output_type": "stream",
     "text": [
      "Don't forget to save Jupyter Notebook! \n",
      "\n",
      "\n",
      "\u001b[1m============================= test session starts ==============================\u001b[0m\n",
      "platform linux -- Python 3.6.9, pytest-6.2.2, py-1.10.0, pluggy-0.13.1\n",
      "rootdir: /home/mnakhodnov/sirius-stt, configfile: pytest.ini\n",
      "collected 5 items                                                              \u001b[0m\u001b[1m\n",
      "\n",
      "tests/test_model.py \u001b[32m.\u001b[0m\u001b[32m.\u001b[0m\u001b[32m.\u001b[0m\u001b[32m.\u001b[0m\u001b[32m.\u001b[0m\u001b[32m                                                [100%]\u001b[0m\n",
      "\n",
      "\u001b[32m============================== \u001b[32m\u001b[1m5 passed\u001b[0m\u001b[32m in 2.78s\u001b[0m\u001b[32m ===============================\u001b[0m\n"
     ]
    }
   ],
   "source": [
    "! pytest tests/test_model.py"
   ]
  },
  {
   "cell_type": "markdown",
   "metadata": {},
   "source": [
    "Инициализируем модель из чекпоинта, чтобы она обучилась быстрее."
   ]
  },
  {
   "cell_type": "code",
   "execution_count": 50,
   "metadata": {
    "ExecuteTime": {
     "end_time": "2021-03-19T23:27:26.754558Z",
     "start_time": "2021-03-19T23:27:26.751001Z"
    },
    "scrolled": true
   },
   "outputs": [],
   "source": [
    "def load_from_ckpt(model, ckpt_path):\n",
    "    checkpoint = torch.load(ckpt_path, map_location='cpu')\n",
    "    model.load_state_dict(checkpoint['model_state_dict'])"
   ]
  },
  {
   "cell_type": "code",
   "execution_count": 51,
   "metadata": {
    "ExecuteTime": {
     "end_time": "2021-03-19T23:27:27.602374Z",
     "start_time": "2021-03-19T23:27:27.511633Z"
    },
    "scrolled": true
   },
   "outputs": [],
   "source": [
    "load_from_ckpt(model, '/home/e.chuykova/data/ckpt.pt')"
   ]
  },
  {
   "cell_type": "markdown",
   "metadata": {},
   "source": [
    "Тест, чтобы проверить, что код модели корректно написан, модель правильно восстановилась из чекпоинта"
   ]
  },
  {
   "cell_type": "code",
   "execution_count": 52,
   "metadata": {
    "ExecuteTime": {
     "end_time": "2021-03-19T23:27:29.128903Z",
     "start_time": "2021-03-19T23:27:28.677303Z"
    }
   },
   "outputs": [],
   "source": [
    "audio, audio_len = open_audio('test_files/test_audio.mp3', sample_rate)\n",
    "output = model(*compute_log_mel_spectrogram(torch.unsqueeze(audio, 0), torch.unsqueeze(torch.tensor([audio_len]), 0)))\n",
    "assert torch.isclose(output[0][0][0][0], torch.tensor(-3.53916406))\n",
    "assert torch.isclose(output[0][15][0][30], torch.tensor(-3.605963468))"
   ]
  },
  {
   "cell_type": "markdown",
   "metadata": {},
   "source": [
    "Отправим модель на гпу.\n",
    "\n",
    "<img src=\"images/cuda_is_important.jpg\" width=\"400\" height=\"400\">\n"
   ]
  },
  {
   "cell_type": "code",
   "execution_count": 53,
   "metadata": {
    "ExecuteTime": {
     "end_time": "2021-03-19T23:27:31.352788Z",
     "start_time": "2021-03-19T23:27:31.321756Z"
    }
   },
   "outputs": [
    {
     "data": {
      "text/plain": [
       "Model(\n",
       "  (conv): Sequential(\n",
       "    (0): Conv2d(1, 32, kernel_size=[21, 11], stride=[1, 1], bias=False)\n",
       "    (1): BatchNorm2d(32, eps=1e-05, momentum=0.9, affine=True, track_running_stats=True)\n",
       "    (2): ReLU(inplace=True)\n",
       "    (3): Conv2d(32, 64, kernel_size=[11, 11], stride=[1, 3], bias=False)\n",
       "    (4): BatchNorm2d(64, eps=1e-05, momentum=0.9, affine=True, track_running_stats=True)\n",
       "    (5): ReLU(inplace=True)\n",
       "  )\n",
       "  (lstm): LSTM(2176, 512, num_layers=4, batch_first=True, bidirectional=True)\n",
       "  (output_layer): Linear(in_features=1024, out_features=35, bias=True)\n",
       ")"
      ]
     },
     "execution_count": 53,
     "metadata": {},
     "output_type": "execute_result"
    }
   ],
   "source": [
    "model.to(device=device)"
   ]
  },
  {
   "cell_type": "markdown",
   "metadata": {},
   "source": [
    "# Обучаем модельку"
   ]
  },
  {
   "cell_type": "code",
   "execution_count": 54,
   "metadata": {
    "ExecuteTime": {
     "end_time": "2021-03-19T23:27:32.778779Z",
     "start_time": "2021-03-19T23:27:32.776222Z"
    },
    "scrolled": true
   },
   "outputs": [],
   "source": [
    "from time import time\n",
    "from tqdm import tqdm_notebook as tqdm\n",
    "import os"
   ]
  },
  {
   "cell_type": "markdown",
   "metadata": {},
   "source": [
    "Давайте напишем несколько вспомогательных функций, которые будут нам нужны для обучения модели.\n",
    "\n",
    "Для начала займемся метриками. Основная метрика - wer (word error rate).\n",
    "\n",
    "Тут поможет библиотека `editdistance`."
   ]
  },
  {
   "cell_type": "code",
   "execution_count": 55,
   "metadata": {
    "ExecuteTime": {
     "end_time": "2021-03-19T23:27:34.031399Z",
     "start_time": "2021-03-19T23:27:34.027481Z"
    },
    "scrolled": true
   },
   "outputs": [],
   "source": [
    "import editdistance"
   ]
  },
  {
   "cell_type": "code",
   "execution_count": 56,
   "metadata": {
    "ExecuteTime": {
     "end_time": "2021-03-19T23:27:34.292530Z",
     "start_time": "2021-03-19T23:27:34.278808Z"
    }
   },
   "outputs": [],
   "source": [
    "import regex"
   ]
  },
  {
   "cell_type": "code",
   "execution_count": 57,
   "metadata": {
    "ExecuteTime": {
     "end_time": "2021-03-19T23:27:35.492950Z",
     "start_time": "2021-03-19T23:27:35.487095Z"
    },
    "scrolled": true
   },
   "outputs": [],
   "source": [
    "def calc_wer(predicted_text, gt_text):\n",
    "    \"\"\" Compute wer.\n",
    "        Inputs:\n",
    "            predicted_text: str\n",
    "            gt_text: str\n",
    "        Returns:\n",
    "            wer: int\n",
    "    \"\"\"\n",
    "    ### write your code here ###\n",
    "    words_split_pattern = regex.compile(r'\\b\\w+\\b')\n",
    "    \n",
    "    gt_words = regex.findall(words_split_pattern, gt_text)\n",
    "    predicted_words = regex.findall(words_split_pattern, predicted_text)\n",
    "    \n",
    "    if len(gt_words) == len(predicted_words) == 0:\n",
    "        return 0.0\n",
    "    if len(gt_words) == 0:\n",
    "        return 1.0\n",
    "    wer = editdistance.eval(predicted_words, gt_words) / len(gt_words)\n",
    "    return wer\n",
    "\n",
    "\n",
    "def calc_wer_for_batch(list_of_predicted_text, list_of_gt_text):\n",
    "    \"\"\" Compute mean wer for batch.\n",
    "            Inputs:\n",
    "                list_of_predicted_text: list\n",
    "                list_of_gt_text: list\n",
    "            Returns:int\n",
    "            \n",
    "    \"\"\"\n",
    "    \n",
    "    ### write your code here ###\n",
    "    mean_wer = np.mean([calc_wer(_, __) for _, __ in zip(list_of_predicted_text, list_of_gt_text)])\n",
    "    return mean_wer"
   ]
  },
  {
   "cell_type": "code",
   "execution_count": 58,
   "metadata": {
    "ExecuteTime": {
     "end_time": "2021-03-19T23:27:38.670926Z",
     "start_time": "2021-03-19T23:27:35.685765Z"
    },
    "scrolled": true
   },
   "outputs": [
    {
     "name": "stdout",
     "output_type": "stream",
     "text": [
      "Don't forget to save Jupyter Notebook! \n",
      "\n",
      "\n",
      "\u001b[1m============================= test session starts ==============================\u001b[0m\n",
      "platform linux -- Python 3.6.9, pytest-6.2.2, py-1.10.0, pluggy-0.13.1\n",
      "rootdir: /home/mnakhodnov/sirius-stt, configfile: pytest.ini\n",
      "collected 7 items                                                              \u001b[0m\u001b[1m\n",
      "\n",
      "tests/test_compute_wer.py \u001b[32m.\u001b[0m\u001b[32m.\u001b[0m\u001b[32m.\u001b[0m\u001b[32m.\u001b[0m\u001b[32m.\u001b[0m\u001b[32m.\u001b[0m\u001b[32m.\u001b[0m\u001b[32m                                        [100%]\u001b[0m\n",
      "\n",
      "\u001b[32m============================== \u001b[32m\u001b[1m7 passed\u001b[0m\u001b[32m in 1.74s\u001b[0m\u001b[32m ===============================\u001b[0m\n"
     ]
    }
   ],
   "source": [
    "! pytest tests/test_compute_wer.py"
   ]
  },
  {
   "cell_type": "markdown",
   "metadata": {},
   "source": [
    "Давайте реализуем greedy decoding. \n",
    "\n",
    "Сначала научимся получать greedy trn из выравниваний. Можно использовать `itertools`.\n",
    "\n",
    "Не забудьте выкинуть лишние пробелы в начале и конце полученного текста!"
   ]
  },
  {
   "cell_type": "code",
   "execution_count": 59,
   "metadata": {
    "ExecuteTime": {
     "end_time": "2021-03-19T23:27:39.492324Z",
     "start_time": "2021-03-19T23:27:39.488935Z"
    },
    "scrolled": true
   },
   "outputs": [],
   "source": [
    "import itertools"
   ]
  },
  {
   "cell_type": "code",
   "execution_count": 60,
   "metadata": {
    "ExecuteTime": {
     "end_time": "2021-03-19T23:27:39.717056Z",
     "start_time": "2021-03-19T23:27:39.712980Z"
    },
    "scrolled": true
   },
   "outputs": [],
   "source": [
    "def decode(alignment):\n",
    "    \"\"\" Get text from alignment.\n",
    "        Inputs:\n",
    "            alignment: str\n",
    "        Returns:\n",
    "            text: srt\n",
    "    \"\"\"\n",
    "    ### write your code here ###\n",
    "    alignment = regex.sub(r'(\\p{L})\\1+', r'\\1', alignment)\n",
    "    alignment = alignment.replace('<blank>', '')\n",
    "    alignment = regex.sub(' +', ' ', alignment)\n",
    "    text = alignment.strip()\n",
    "    return text"
   ]
  },
  {
   "cell_type": "code",
   "execution_count": 61,
   "metadata": {
    "ExecuteTime": {
     "end_time": "2021-03-19T23:27:42.931451Z",
     "start_time": "2021-03-19T23:27:39.954294Z"
    },
    "scrolled": true
   },
   "outputs": [
    {
     "name": "stdout",
     "output_type": "stream",
     "text": [
      "Don't forget to save Jupyter Notebook! \n",
      "\n",
      "\n",
      "\u001b[1m============================= test session starts ==============================\u001b[0m\n",
      "platform linux -- Python 3.6.9, pytest-6.2.2, py-1.10.0, pluggy-0.13.1\n",
      "rootdir: /home/mnakhodnov/sirius-stt, configfile: pytest.ini\n",
      "collected 4 items                                                              \u001b[0m\u001b[1m\n",
      "\n",
      "tests/test_decode.py \u001b[32m.\u001b[0m\u001b[32m.\u001b[0m\u001b[32m.\u001b[0m\u001b[32m.\u001b[0m\u001b[32m                                                [100%]\u001b[0m\n",
      "\n",
      "\u001b[32m============================== \u001b[32m\u001b[1m4 passed\u001b[0m\u001b[32m in 1.73s\u001b[0m\u001b[32m ===============================\u001b[0m\n"
     ]
    }
   ],
   "source": [
    "! pytest tests/test_decode.py"
   ]
  },
  {
   "cell_type": "markdown",
   "metadata": {},
   "source": [
    "Получим greedy text из выхода акустической модели (logprobs)."
   ]
  },
  {
   "cell_type": "code",
   "execution_count": 62,
   "metadata": {
    "ExecuteTime": {
     "end_time": "2021-03-19T23:27:43.515883Z",
     "start_time": "2021-03-19T23:27:43.510318Z"
    },
    "code_folding": [
     0
    ]
   },
   "outputs": [],
   "source": [
    "def greedy_decoder(logprobs, logprobs_lens, vocab):\n",
    "    predictions = []\n",
    "    \n",
    "    tokens = torch.argmax(logprobs, dim=-1)\n",
    "    for idx in range(logprobs.shape[1]):        \n",
    "        alligmnet_tokens = vocab.lookup_tokens(tokens[:, idx][:logprobs_lens[idx]].detach().cpu().numpy())\n",
    "        alligmnet = ''.join(alligmnet_tokens)\n",
    "        hypo = decode(alligmnet)\n",
    "        predictions += [[(hypo, 1.0)]]\n",
    "    \n",
    "    return predictions"
   ]
  },
  {
   "cell_type": "code",
   "execution_count": 63,
   "metadata": {
    "ExecuteTime": {
     "end_time": "2021-03-19T23:27:43.816696Z",
     "start_time": "2021-03-19T23:27:43.813558Z"
    }
   },
   "outputs": [],
   "source": [
    "from collections import defaultdict"
   ]
  },
  {
   "cell_type": "code",
   "execution_count": 64,
   "metadata": {
    "ExecuteTime": {
     "end_time": "2021-03-19T23:27:45.727871Z",
     "start_time": "2021-03-19T23:27:45.711506Z"
    },
    "code_folding": [
     0
    ]
   },
   "outputs": [],
   "source": [
    "def beam_search_decode(logprobs, logprobs_lens, vocab, beam_size, cutoff_top_n, cutoff_prob, ext_scoring_func, alpha):\n",
    "    '''\n",
    "    logprobs: [num_timesteps, alphabet_len]\n",
    "    '''\n",
    "    def _beam_search_decode(\n",
    "        _logprobs, _logprobs_len, \n",
    "        vocab, beam_size, cutoff_top_n, cutoff_prob, ext_scoring_func, alpha\n",
    "    ):\n",
    "        assert (cutoff_top_n is None) or (cutoff_prob is None)\n",
    "        if (cutoff_top_n is None) and (cutoff_prob is None):\n",
    "            cutoff_prob = 1.0\n",
    "\n",
    "        hypos = set()\n",
    "        indices2tokens = vocab.indices2tokens()\n",
    "        probs_b, probs_nb = defaultdict(float), defaultdict(float)\n",
    "\n",
    "        hypos.add('')\n",
    "        probs_b[''], probs_nb[''] = 1.0, 0.0\n",
    "        for t in range(_logprobs_len):\n",
    "            hypos_new = set()\n",
    "            probs_b_new, probs_nb_new = defaultdict(float), defaultdict(float)\n",
    "\n",
    "            probs_t = torch.exp(_logprobs[t]).detach().cpu()\n",
    "            decreace_idxs = torch.argsort(-probs_t).detach().cpu().numpy()\n",
    "            if cutoff_prob is not None:\n",
    "                cond_idxs = torch.where(torch.cumsum(probs_t[decreace_idxs], dim=0) > cutoff_prob)[0]\n",
    "                if len(cond_idxs) == 0:\n",
    "                    cutoff_top_n = len(decreace_idxs)\n",
    "                else:\n",
    "                    cutoff_top_n = cond_idxs[0].item()\n",
    "                if cutoff_top_n == 0:\n",
    "                    cutoff_top_n = 1\n",
    "\n",
    "            for l in hypos:\n",
    "                for c_idx in decreace_idxs[:cutoff_top_n]:\n",
    "                    c, c_prob = indices2tokens[c_idx], probs_t[c_idx]\n",
    "\n",
    "                    if c == '<blank>':\n",
    "                        probs_b_new[l] += c_prob * (probs_b[l] + probs_nb[l])\n",
    "                    else:\n",
    "                        l_end = l[-1] if len(l) > 0 else ''\n",
    "                        l_plus = l + c\n",
    "                        if c == l_end:\n",
    "                            probs_nb_new[l] += c_prob * probs_nb[l]\n",
    "                            probs_nb_new[l_plus] += c_prob * probs_b[l]\n",
    "                        elif c == ' ':\n",
    "                            if ext_scoring_func is None:\n",
    "                                p_W = 1.0\n",
    "                            else:\n",
    "                                p_W = ext_scoring_func(l)\n",
    "                            probs_b_new[l_plus] += np.power(p_W, alpha) * c_prob * (probs_b[l] + probs_nb[l])\n",
    "                        else:\n",
    "                            probs_nb_new[l_plus] += c_prob * (probs_b[l] + probs_nb[l])\n",
    "                        hypos_new.add(l_plus)                                        \n",
    "                hypos_new.add(l)\n",
    "\n",
    "\n",
    "            hypos_new = list(\n",
    "                sorted(hypos_new, key=lambda hypo: probs_b_new[hypo] + probs_nb_new[hypo], reverse=True)\n",
    "            )[:min(beam_size, len(hypos_new))]\n",
    "\n",
    "            hypos, probs_b, probs_nb = hypos_new, probs_b_new, probs_nb_new\n",
    "\n",
    "        return sorted(\n",
    "            [(hypo, probs_b_new[hypo] + probs_nb_new[hypo]) for hypo in hypos],\n",
    "            key=lambda key_value: key_value[1], reverse=True\n",
    "        )\n",
    "    \n",
    "    predictions = []\n",
    "    for idx in range(logprobs.shape[1]):\n",
    "        hypos =  _beam_search_decode(\n",
    "            logprobs[:, idx], logprobs_lens[idx],\n",
    "            vocab=vocab, beam_size=beam_size,\n",
    "            cutoff_top_n=cutoff_top_n, cutoff_prob=cutoff_prob,\n",
    "            ext_scoring_func=ext_scoring_func, alpha=alpha\n",
    "        )\n",
    "        predictions.append(hypos)\n",
    "\n",
    "    return predictions"
   ]
  },
  {
   "cell_type": "code",
   "execution_count": 65,
   "metadata": {
    "ExecuteTime": {
     "end_time": "2021-03-19T23:27:46.116564Z",
     "start_time": "2021-03-19T23:27:46.110659Z"
    }
   },
   "outputs": [],
   "source": [
    "from ctcdecode import CTCBeamDecoder"
   ]
  },
  {
   "cell_type": "code",
   "execution_count": 66,
   "metadata": {
    "ExecuteTime": {
     "end_time": "2021-03-19T23:27:46.373218Z",
     "start_time": "2021-03-19T23:27:46.365710Z"
    },
    "code_folding": [
     2
    ]
   },
   "outputs": [],
   "source": [
    "def fast_beam_search_decode(\n",
    "    logprobs, logprobs_lens, vocab, beam_size, cutoff_top_n, cutoff_prob, ext_scoring_func, alpha, beta, num_processes\n",
    "):\n",
    "    labels = ''.join(vocab.indices2tokens()).replace('<blank>', '_').replace('<unk>', '')\n",
    "    decoder = CTCBeamDecoder(\n",
    "        labels=labels, blank_id=blank_index,\n",
    "        cutoff_top_n=cutoff_top_n, cutoff_prob=cutoff_prob, beam_width=beam_size,\n",
    "        model_path=ext_scoring_func, alpha=alpha, beta=beta,\n",
    "        num_processes=num_processes,\n",
    "        log_probs_input=False\n",
    "    )\n",
    "    probs = torch.exp(logprobs)\n",
    "    beam_results, beam_scores, timesteps, out_lens = decoder.decode(torch.transpose(probs, 0, 1), logprobs_lens)\n",
    "    beam_probas = torch.exp(-beam_scores)\n",
    "    \n",
    "    predictions = []\n",
    "    for idx in range(beam_results.shape[0]):\n",
    "        beam = []\n",
    "        for jdx in range(beam_results.shape[1]):\n",
    "            hypo = ''.join(vocab.lookup_tokens(beam_results[idx, jdx, :out_lens[idx, jdx]].tolist()))\n",
    "            hypo_score = beam_probas[idx, jdx]\n",
    "            beam.append((hypo, hypo_score))\n",
    "        predictions.append(beam)\n",
    "        \n",
    "    return predictions"
   ]
  },
  {
   "cell_type": "code",
   "execution_count": 67,
   "metadata": {
    "ExecuteTime": {
     "end_time": "2021-03-19T23:27:46.659579Z",
     "start_time": "2021-03-19T23:27:46.655479Z"
    },
    "code_folding": [
     0
    ]
   },
   "outputs": [],
   "source": [
    "def get_prediction(logprobs, logprobs_lens, vocab, decoder=greedy_decoder, decoder_kwargs=None):\n",
    "    \"\"\" Compute greedy text from loglikes.\n",
    "            Input shape:\n",
    "                logprobs: 3D tensor with shape (num_timesteps, batch_size, alphabet_len)\n",
    "                logprobs_lens: 1D tensor with shape (batch_size)\n",
    "            Returns:\n",
    "                list of texts with len (batch_size)\n",
    "    \"\"\"\n",
    "    if decoder_kwargs is None:\n",
    "        decoder_kwargs = dict()\n",
    "        \n",
    "    predictions = decoder(logprobs=logprobs, logprobs_lens=logprobs_lens, vocab=vocab, **decoder_kwargs)\n",
    "    predictions = [sorted(hypos, key=lambda key_value: key_value[1], reverse=True)[0][0] for hypos in predictions]\n",
    "\n",
    "    return predictions"
   ]
  },
  {
   "cell_type": "code",
   "execution_count": 119,
   "metadata": {
    "ExecuteTime": {
     "end_time": "2021-03-20T00:04:57.719012Z",
     "start_time": "2021-03-20T00:04:55.699208Z"
    }
   },
   "outputs": [],
   "source": [
    "batch = next(iter(val_dataloader))\n",
    "batch = {\n",
    "    key: value.to(device=device) if isinstance(value, torch.Tensor) else value for key, value in batch.items()\n",
    "}\n",
    "\n",
    "log_mel_spectrogram, seq_lens = compute_log_mel_spectrogram(batch['audios'], batch['audio_lens'])\n",
    "logprobs, seq_lens = model(log_mel_spectrogram, seq_lens)"
   ]
  },
  {
   "cell_type": "code",
   "execution_count": 120,
   "metadata": {
    "ExecuteTime": {
     "end_time": "2021-03-20T00:04:58.484713Z",
     "start_time": "2021-03-20T00:04:58.415115Z"
    }
   },
   "outputs": [
    {
     "name": "stdout",
     "output_type": "stream",
     "text": [
      "['нет', 'нет', 'да', 'пять', 'эй', 'фемь', 'ноль', 'три', 'три', 'эй', 'семь', 'восемь', 'вот так', 'вами', 'ноль', 'три', 'пять', 'девять', 'четыре', 'восемь', 'два', 'четыре', 'вот чта я предлагаю', 'оставь', 'вот так', 'ну и что же', 'пять', 'эй', 'девять', 'ноль', 'ноль', 'ноль', 'пять', 'парки было шумна', 'нольли', 'и точно', 'хоту с вами', 'шесть', 'три', 'и точно', 'эй', 'семь', 'два', 'украйны несключенияе', 'восемь', 'эй', 'ноль', 'ван слово посеол', 'семь', 'вот смотри', 'девять', 'восемь', 'четыре', 'го', 'да', 'позе', 'восемь', 'благодарю вас за внимание', 'семь', 'нет', 'вось есть рецепт', 'и тимур вз дохнул', 'эй', 'показать список', 'вапо прижс крий', 'да', 'босемь', 'четыре', 'девять', 'ти морушл', 'эй', 'три', 'и это тоже факт', 'нет', 'я очень люблю летать', 'акко хорошо', 'не так ли', 'мы непросит за это прощения', 'он вновь не ответил', 'это тревога', 'мы здесь одни', 'лишнего мне не надо', 'этй', 'три', 'три', 'мир праху его', 'он в порядке', 'шесть', 'пять', 'один']\n"
     ]
    }
   ],
   "source": [
    "print(get_prediction(logprobs=logprobs, logprobs_lens=seq_lens, vocab=vocab, decoder=greedy_decoder))"
   ]
  },
  {
   "cell_type": "code",
   "execution_count": 121,
   "metadata": {
    "ExecuteTime": {
     "end_time": "2021-03-20T00:04:59.671378Z",
     "start_time": "2021-03-20T00:04:59.638509Z"
    }
   },
   "outputs": [],
   "source": [
    "beam_kwargs = {'beam_size': 10, 'cutoff_top_n': 1, 'cutoff_prob': None, 'ext_scoring_func': None, 'alpha': 1.0}"
   ]
  },
  {
   "cell_type": "code",
   "execution_count": 122,
   "metadata": {
    "ExecuteTime": {
     "end_time": "2021-03-20T00:05:03.553728Z",
     "start_time": "2021-03-20T00:04:59.961062Z"
    }
   },
   "outputs": [
    {
     "name": "stdout",
     "output_type": "stream",
     "text": [
      "['нет', 'нет', 'да', 'пять', 'эй', 'фемь', 'ноль', 'три', 'три', 'эй', 'семь', 'восемь', 'вот  так', 'вами', 'ноль', 'три', 'пять', 'девять', 'четыре', 'восемь', 'два', 'четыре', 'вот чта я предлагаю', 'оставь', 'вот  так', 'ну и что же', 'пять', 'эй', 'девять', 'ноль', 'ноль', 'ноль', 'пять', 'парки  было шумна', 'нольли', 'и  точно', ' хоту  с  вами', 'шесть', 'три', 'и  точно', 'эй', 'семь', 'два', 'украйны  несключенияе', 'восемь', 'эй', 'ноль', 'ван  слово  посеол', 'семь', 'вот  смотри', 'девять', 'восемь', 'четыре', 'го', 'да', 'позе', 'восемь', 'благодарю вас за внимание', 'семь', 'нет', 'вось  есть  рецепт', 'и тимур вз дохнул', 'эй', 'показать список', 'вапо  прижс  крий', 'да', 'босемь', 'четыре', 'девять', 'ти морушл', 'эй', 'три', 'и  это  тоже  факт', 'нет', 'я  очень  люблю  летать', 'акко  хорошо', 'не  так  ли', 'мы  непросит  за это прощения', 'он  вновь  не ответил', 'это  тревога', 'мы  здесь одни', 'лишнего мне  не  надо', 'этй', 'три', 'три', 'мир  праху его', 'он  в порядке', 'шесть', 'пять', 'один']\n"
     ]
    }
   ],
   "source": [
    "print(get_prediction(\n",
    "    logprobs=logprobs, logprobs_lens=seq_lens, vocab=vocab, \n",
    "    decoder=beam_search_decode, decoder_kwargs=beam_kwargs\n",
    "))"
   ]
  },
  {
   "cell_type": "code",
   "execution_count": 123,
   "metadata": {
    "ExecuteTime": {
     "end_time": "2021-03-20T00:05:03.589344Z",
     "start_time": "2021-03-20T00:05:03.555614Z"
    }
   },
   "outputs": [],
   "source": [
    "fast_beam_kwargs = {\n",
    "    'beam_size': 10, 'cutoff_top_n': 1, 'cutoff_prob': 1.0, \n",
    "    'ext_scoring_func': None, 'alpha': 1.0, 'beta': 0.0, 'num_processes': 16\n",
    "}"
   ]
  },
  {
   "cell_type": "code",
   "execution_count": 124,
   "metadata": {
    "ExecuteTime": {
     "end_time": "2021-03-20T00:05:03.666469Z",
     "start_time": "2021-03-20T00:05:03.591226Z"
    }
   },
   "outputs": [
    {
     "name": "stdout",
     "output_type": "stream",
     "text": [
      "['нет', 'нет', '', 'пять', 'эй', 'фемь', 'ноль', 'три', 'три', 'эй', 'семь', 'восемь', 'вот так', 'вами', 'ноль', 'три', 'пять', 'девять', 'четыре', 'восемь', 'два', 'четыре', 'вот чта я предлагаю', 'оставь', 'вот так', 'ну и что же', 'пять', 'эй', 'девять', 'ноль', 'ноль', 'ноль', 'пять', 'парки было шумна', 'нольли', 'и точно', ' хоту с вами', 'шесть', 'три', 'и точно', 'эй', 'семь', 'два', 'украйны несключенияе', 'восемь', 'эй', 'ноль', 'ван слово посеол', 'семь', 'вот смотри', 'девять', 'восемь', 'четыре', '', '', 'позе', 'восемь', 'благодарю вас за внимание', 'семь', 'нет', 'вось есть рецепт', 'и тимур вз дохнул', 'эй', 'показать список', 'вапо прижс крий', '', 'босемь', 'четыре', 'девять', 'ти морушл', 'эй', 'три', 'и это тоже факт', 'нет', 'я очень люблю летать', 'акко хорошо', 'не так ли', 'мы непросит за это прощения', 'он вновь не ответил', 'это тревога', 'мы здесь одни', 'лишнего мне не надо', 'этй', 'три', 'три', 'мир праху его', 'он в порядке', 'шесть', 'пять', 'один']\n"
     ]
    }
   ],
   "source": [
    "print(get_prediction(\n",
    "    logprobs=logprobs, logprobs_lens=seq_lens, vocab=vocab, \n",
    "    decoder=fast_beam_search_decode, decoder_kwargs=fast_beam_kwargs\n",
    "))"
   ]
  },
  {
   "cell_type": "code",
   "execution_count": 74,
   "metadata": {
    "ExecuteTime": {
     "end_time": "2021-03-19T23:28:15.546852Z",
     "start_time": "2021-03-19T23:28:12.609887Z"
    },
    "scrolled": true
   },
   "outputs": [
    {
     "name": "stdout",
     "output_type": "stream",
     "text": [
      "Don't forget to save Jupyter Notebook! \n",
      "\n",
      "\n",
      "\u001b[1m============================= test session starts ==============================\u001b[0m\n",
      "platform linux -- Python 3.6.9, pytest-6.2.2, py-1.10.0, pluggy-0.13.1\n",
      "rootdir: /home/mnakhodnov/sirius-stt, configfile: pytest.ini\n",
      "collected 1 item                                                               \u001b[0m\u001b[1m\n",
      "\n",
      "tests/test_get_prediction.py \u001b[32m.\u001b[0m\u001b[32m                                           [100%]\u001b[0m\n",
      "\n",
      "\u001b[32m============================== \u001b[32m\u001b[1m1 passed\u001b[0m\u001b[32m in 1.69s\u001b[0m\u001b[32m ===============================\u001b[0m\n"
     ]
    }
   ],
   "source": [
    "! pytest tests/test_get_prediction.py"
   ]
  },
  {
   "cell_type": "markdown",
   "metadata": {},
   "source": [
    "В этой функции надо из сырых данных, извлеченных из датасета, получить спектрограмму, прогнать через модель, посчитать средний лосс и wer для батча, list с текстами предсказанных гипотез для батча."
   ]
  },
  {
   "cell_type": "code",
   "execution_count": 75,
   "metadata": {
    "ExecuteTime": {
     "end_time": "2021-03-19T23:28:16.501842Z",
     "start_time": "2021-03-19T23:28:16.496113Z"
    },
    "scrolled": true
   },
   "outputs": [],
   "source": [
    "def get_model_results(\n",
    "    model, audios, audio_lens, tokens, texts, text_lens, \n",
    "    vocab, loss_fn, decoder, decoder_kwargs\n",
    "):\n",
    "    \"\"\" get mean loss, mean wer and prediction list for batch\n",
    "        Returns:\n",
    "            loss: int\n",
    "            wer: int\n",
    "            prediction: list of str\n",
    "            \n",
    "    \"\"\"\n",
    "    ### write your code here ###\n",
    "    log_mel_spectrogram, seq_lens = compute_log_mel_spectrogram(audios, audio_lens)\n",
    "    logprobs, seq_lens = model(log_mel_spectrogram, seq_lens)\n",
    "    loss = loss_fn(logprobs, tokens, seq_lens, text_lens)\n",
    "\n",
    "    with torch.no_grad():\n",
    "        predictions = get_prediction(logprobs, seq_lens, vocab, decoder=decoder, decoder_kwargs=decoder_kwargs)\n",
    "        wer = calc_wer_for_batch(predictions, texts)\n",
    "    \n",
    "    return loss, wer, predictions"
   ]
  },
  {
   "cell_type": "markdown",
   "metadata": {},
   "source": [
    "Для удобства будем логировать метрики в [tensorboard](https://pytorch.org/docs/stable/tensorboard.html)."
   ]
  },
  {
   "cell_type": "code",
   "execution_count": 76,
   "metadata": {
    "ExecuteTime": {
     "end_time": "2021-03-19T23:28:17.923120Z",
     "start_time": "2021-03-19T23:28:17.859242Z"
    },
    "scrolled": true
   },
   "outputs": [],
   "source": [
    "from torch.utils.tensorboard import SummaryWriter"
   ]
  },
  {
   "cell_type": "code",
   "execution_count": 77,
   "metadata": {
    "ExecuteTime": {
     "end_time": "2021-03-19T23:28:18.091672Z",
     "start_time": "2021-03-19T23:28:18.085734Z"
    },
    "code_folding": [
     0
    ],
    "scrolled": true
   },
   "outputs": [],
   "source": [
    "class TensorboardLogger:\n",
    "    def __init__(self, tensorboard_path):\n",
    "        self.writer = SummaryWriter(tensorboard_path)\n",
    "\n",
    "    def log(self, step, loss, wer, mode):\n",
    "        assert mode in ('train', 'val')\n",
    "        \n",
    "        ### write your code here ###\n",
    "        \n",
    "        # add loss to tb \n",
    "        # add wer to tb \n",
    "        self.writer.add_scalar(f'wer/{mode}', wer, global_step=step)\n",
    "        self.writer.add_scalar(f'loss/{mode}', loss, global_step=step)\n",
    "\n",
    "    def log_text(self, step, pred_texts, gt_texts, mode):\n",
    "        \n",
    "        ### write your code here ###\n",
    "        \n",
    "        for pred_text in pred_texts:\n",
    "            # add pred text to tb \n",
    "            self.writer.add_text(f'predict/{mode}', pred_text, global_step=step)\n",
    "            \n",
    "        for gt_text in gt_texts:\n",
    "            # add gt text to tb \n",
    "            self.writer.add_text(f'ground truth/{mode}', gt_text, global_step=step)\n",
    "      \n",
    "    def close(self):\n",
    "        self.writer.close()"
   ]
  },
  {
   "cell_type": "markdown",
   "metadata": {},
   "source": [
    " "
   ]
  },
  {
   "cell_type": "markdown",
   "metadata": {},
   "source": [
    "Теперь можем собрать функции в train loop. "
   ]
  },
  {
   "cell_type": "markdown",
   "metadata": {},
   "source": [
    "## Training parameters"
   ]
  },
  {
   "cell_type": "code",
   "execution_count": 78,
   "metadata": {
    "ExecuteTime": {
     "end_time": "2021-03-19T23:28:19.635905Z",
     "start_time": "2021-03-19T23:28:19.629442Z"
    },
    "code_folding": [
     0
    ]
   },
   "outputs": [],
   "source": [
    "def validate(model, dataloader, vocab, loss_fn, decoder, decoder_kwargs):\n",
    "    loss, wer = 0.0, 0.0\n",
    "    with torch.no_grad():\n",
    "        for batch in tqdm(dataloader, total=len(dataloader)):\n",
    "            batch = {\n",
    "                key: value.to(device=device) if isinstance(value, torch.Tensor) else value for key, value in batch.items()\n",
    "            }\n",
    "            loss_batch, wer_batch, prediction = get_model_results(\n",
    "                model, batch[\"audios\"], batch[\"audio_lens\"],\n",
    "                batch[\"tokens\"], batch[\"texts\"], batch[\"text_lens\"], vocab, loss_fn,\n",
    "                decoder=decoder, decoder_kwargs=decoder_kwargs\n",
    "            )\n",
    "\n",
    "            loss += loss_batch.item() * batch['audio_lens'].shape[0]\n",
    "            wer += wer_batch * batch['audio_lens'].shape[0]\n",
    "\n",
    "        loss /= len(dataloader.dataset)\n",
    "        wer /= len(dataloader.dataset)\n",
    "    return loss, wer"
   ]
  },
  {
   "cell_type": "code",
   "execution_count": 133,
   "metadata": {
    "ExecuteTime": {
     "end_time": "2021-03-20T00:09:04.452762Z",
     "start_time": "2021-03-20T00:09:04.407487Z"
    },
    "code_folding": [
     4
    ]
   },
   "outputs": [],
   "source": [
    "def training(\n",
    "    model, optimizer, loss_fn, num_epochs, \n",
    "    train_dataloader, val_dataloader, log_every_n_batch, model_dir,\n",
    "    vocab, beam_kwargs\n",
    "):\n",
    "\n",
    "    logger = TensorboardLogger(model_dir)\n",
    "\n",
    "    for epoch in range(num_epochs):\n",
    "        start_time = time()\n",
    "        train_loss, train_wer = 0, 0\n",
    "        \n",
    "        model.train(True)\n",
    "        for iteration, batch in enumerate(tqdm(train_dataloader, total=len(train_dataloader))):\n",
    "            batch = {\n",
    "                key: value.to(device=device) if isinstance(value, torch.Tensor) else value for key, value in batch.items()\n",
    "            }\n",
    "            loss, wer, prediction = get_model_results(\n",
    "                model, batch[\"audios\"], batch[\"audio_lens\"], \n",
    "                batch[\"tokens\"], batch[\"texts\"], batch[\"text_lens\"], vocab, loss_fn,\n",
    "                decoder=greedy_decoder, decoder_kwargs=dict()\n",
    "            )\n",
    "\n",
    "            # optimizer step\n",
    "            ### write your code here ###\n",
    "            optimizer.zero_grad()\n",
    "            loss.backward()\n",
    "            optimizer.step()\n",
    "\n",
    "            train_loss += loss.item() * batch['audio_lens'].shape[0]\n",
    "            train_wer += wer * batch['audio_lens'].shape[0]\n",
    "\n",
    "            step = len(train_dataloader) * epoch + iteration\n",
    "            if step % log_every_n_batch == 0:\n",
    "                logger.log(step, loss, wer, 'train')\n",
    "                logger.log_text(step, prediction, batch[\"texts\"], \"train\")\n",
    "        train_loss /= len(train_dataloader.dataset)\n",
    "        train_wer /= len(train_dataloader.dataset)\n",
    "\n",
    "        model.train(False)        \n",
    "        val_loss, val_wer = validate(\n",
    "            model=model, dataloader=val_dataloader, vocab=vocab, loss_fn=loss_fn,\n",
    "            decoder=fast_beam_search_decode, decoder_kwargs=beam_kwargs\n",
    "        )\n",
    "\n",
    "        logger.log(step, val_loss, val_wer, 'val')\n",
    "        logger.log_text(step, prediction, batch[\"texts\"], \"val\")\n",
    "\n",
    "        torch.save({\n",
    "            'epoch': epoch,\n",
    "            'model_state_dict': model.state_dict(),\n",
    "            'optimizer_state_dict': optimizer.state_dict(),\n",
    "            'loss': loss,\n",
    "        }, os.path.join(model_dir, f'epoch_{epoch}.pt'))\n",
    "\n",
    "        print(f'\\nEpoch {epoch + 1} of {num_epochs} took {time() - start_time}s, ' + \\\n",
    "              f'train loss: {train_loss}, val loss: {val_loss}, train wer: {train_wer}, val wer: {val_wer}')\n",
    "\n",
    "    logger.close()\n",
    "    print(\"Finished!\")"
   ]
  },
  {
   "cell_type": "code",
   "execution_count": 125,
   "metadata": {
    "ExecuteTime": {
     "end_time": "2021-03-20T00:05:30.263782Z",
     "start_time": "2021-03-20T00:05:30.225847Z"
    },
    "scrolled": true
   },
   "outputs": [],
   "source": [
    "num_epochs = 7\n",
    "model_dir = 'models/3'\n",
    "log_every_n_batch = 10"
   ]
  },
  {
   "cell_type": "code",
   "execution_count": 135,
   "metadata": {
    "ExecuteTime": {
     "end_time": "2021-03-20T00:09:11.737765Z",
     "start_time": "2021-03-20T00:09:11.703705Z"
    }
   },
   "outputs": [],
   "source": [
    "learning_rate = 6e-5\n",
    "opt = torch.optim.Adam(model.parameters(), lr=learning_rate)"
   ]
  },
  {
   "cell_type": "code",
   "execution_count": 136,
   "metadata": {
    "ExecuteTime": {
     "end_time": "2021-03-20T00:09:11.904274Z",
     "start_time": "2021-03-20T00:09:11.875204Z"
    },
    "scrolled": true
   },
   "outputs": [],
   "source": [
    "loss_fn = torch.nn.CTCLoss(blank=blank_index, reduction='mean')"
   ]
  },
  {
   "cell_type": "markdown",
   "metadata": {},
   "source": [
    "Про ctc loss очень хорошо написано [тут](https://distill.pub/2017/ctc/). А [это](https://www.cs.toronto.edu/~graves/icml_2006.pdf) исходная статья."
   ]
  },
  {
   "cell_type": "markdown",
   "metadata": {},
   "source": [
    "Если не используете перемешивание батчей (шафл), то при подборе batch size обратите внимание, что данные отсортированы (обучение будет замедляться с увеличением длины аудио)."
   ]
  },
  {
   "cell_type": "markdown",
   "metadata": {},
   "source": [
    "## Load LibriSpeech dataset"
   ]
  },
  {
   "cell_type": "code",
   "execution_count": 179,
   "metadata": {
    "ExecuteTime": {
     "end_time": "2021-03-21T07:40:36.007036Z",
     "start_time": "2021-03-21T07:40:35.970236Z"
    }
   },
   "outputs": [],
   "source": [
    "def convert_libri_manifest_to_common_voice(manifest_path):\n",
    "    with open(manifest_path, 'r') as in_file:\n",
    "        with open(manifest_path.replace('.json', '.csv'), 'w') as out_file:    \n",
    "            for line in in_file:\n",
    "                sample = json.loads(line, parse_float=lambda x: x)\n",
    "                audio_filepath = os.path.join(\n",
    "                    os.path.dirname(os.path.abspath(manifest_path)), sample['audio_filepath']\n",
    "                )\n",
    "                out_file.write(','.join([audio_filepath, sample['text'], sample['duration']]) + '\\n')\n",
    "    \n",
    "    return manifest_path.replace('.json', '.csv')"
   ]
  },
  {
   "cell_type": "code",
   "execution_count": 180,
   "metadata": {
    "ExecuteTime": {
     "end_time": "2021-03-21T07:40:38.245084Z",
     "start_time": "2021-03-21T07:40:36.895327Z"
    }
   },
   "outputs": [],
   "source": [
    "ls_dev_dataset_path = './../voice_data/libri_speech/dev/manifest.json'\n",
    "ls_test_dataset_path = './../voice_data/libri_speech/test/manifest.json'\n",
    "ls_train_dataset_path = './../voice_data/libri_speech/train/manifest.json'\n",
    "\n",
    "ls_dev_dataset_path = convert_libri_manifest_to_common_voice(ls_dev_dataset_path)\n",
    "ls_test_dataset_path = convert_libri_manifest_to_common_voice(ls_test_dataset_path)\n",
    "ls_train_dataset_path = convert_libri_manifest_to_common_voice(ls_train_dataset_path)"
   ]
  },
  {
   "cell_type": "code",
   "execution_count": 183,
   "metadata": {
    "ExecuteTime": {
     "end_time": "2021-03-21T07:41:57.808975Z",
     "start_time": "2021-03-21T07:41:37.238835Z"
    }
   },
   "outputs": [],
   "source": [
    "ls_dev_dataset = AudioDataset(ls_dev_dataset_path, vocab=vocab, sample_rate=8000)\n",
    "ls_test_dataset = AudioDataset(ls_test_dataset_path, vocab=vocab, sample_rate=8000)\n",
    "ls_train_dataset = AudioDataset(ls_train_dataset_path, vocab=vocab, sample_rate=8000)"
   ]
  },
  {
   "cell_type": "code",
   "execution_count": 184,
   "metadata": {
    "ExecuteTime": {
     "end_time": "2021-03-21T07:44:48.277567Z",
     "start_time": "2021-03-21T07:44:48.230760Z"
    }
   },
   "outputs": [],
   "source": [
    "ls_dev_dataloader = DataLoader(\n",
    "    ls_dev_dataset, batch_size=batch_size, shuffle=False, num_workers=num_workers, pin_memory=True, collate_fn=collate_fn\n",
    ")\n",
    "ls_dev_dataloader = DataLoader(\n",
    "    ls_test_dataset, batch_size=batch_size, shuffle=False, num_workers=num_workers, pin_memory=True, collate_fn=collate_fn\n",
    ")\n",
    "ls_train_dataloader = DataLoader(\n",
    "    ls_train_dataset, batch_size=batch_size, sampler=AudioDatasetSampler(ls_train_dataset, batch_size=batch_size),\n",
    "    num_workers=num_workers, pin_memory=True, collate_fn=collate_fn\n",
    ")"
   ]
  },
  {
   "cell_type": "markdown",
   "metadata": {},
   "source": [
    "## Train LM model for beam search"
   ]
  },
  {
   "cell_type": "code",
   "execution_count": 133,
   "metadata": {
    "ExecuteTime": {
     "end_time": "2021-03-21T15:46:56.994075Z",
     "start_time": "2021-03-21T15:46:56.923629Z"
    }
   },
   "outputs": [],
   "source": [
    "with open('./../language_data/common_voice/train.txt', 'w') as lm_data_file:\n",
    "    for text in train_dataset.data['text']:\n",
    "        lm_data_file.write(text + '\\n')"
   ]
  },
  {
   "cell_type": "code",
   "execution_count": 134,
   "metadata": {
    "ExecuteTime": {
     "end_time": "2021-03-21T15:47:12.516546Z",
     "start_time": "2021-03-21T15:47:12.487354Z"
    }
   },
   "outputs": [],
   "source": [
    "import regex"
   ]
  },
  {
   "cell_type": "code",
   "execution_count": 177,
   "metadata": {
    "ExecuteTime": {
     "end_time": "2021-03-21T16:16:52.622378Z",
     "start_time": "2021-03-21T16:16:52.606028Z"
    }
   },
   "outputs": [],
   "source": [
    "def preprocess_for_lm(document):\n",
    "    document = document.lower()\n",
    "    document = regex.sub(r'\\P{Cyrillic}', ' ', document)\n",
    "    document = regex.sub(' +', ' ', document)\n",
    "    return document"
   ]
  },
  {
   "cell_type": "code",
   "execution_count": 182,
   "metadata": {
    "ExecuteTime": {
     "end_time": "2021-03-21T16:17:55.800438Z",
     "start_time": "2021-03-21T16:17:55.775340Z"
    }
   },
   "outputs": [],
   "source": [
    "with open('./../language_data/cc100/ru.txt.40M', 'r') as data_file:\n",
    "    with open('./../language_data/cc100/ru.txt.40M.processed', 'w') as lm_data_file:\n",
    "        n_documnets, current_document = 0, []\n",
    "        for idx, line in enumerate(data_file):\n",
    "            line = line.strip()\n",
    "            if line == '':\n",
    "                # End of document\n",
    "                n_documnets += 1\n",
    "                current_document = preprocess_for_lm(' '.join(current_document))\n",
    "                lm_data_file.write(current_document + '\\n')\n",
    "                current_document = []\n",
    "            else:\n",
    "                # New paragraph in document\n",
    "                current_document.append(line)\n",
    "            \n",
    "            if n_documnets == 10:\n",
    "                break"
   ]
  },
  {
   "cell_type": "code",
   "execution_count": null,
   "metadata": {
    "ExecuteTime": {
     "start_time": "2021-03-21T16:22:31.627Z"
    }
   },
   "outputs": [],
   "source": [
    "! ls"
   ]
  },
  {
   "cell_type": "code",
   "execution_count": 95,
   "metadata": {
    "ExecuteTime": {
     "end_time": "2021-03-21T15:24:21.020231Z",
     "start_time": "2021-03-21T15:23:50.281051Z"
    }
   },
   "outputs": [
    {
     "name": "stdout",
     "output_type": "stream",
     "text": [
      "=== 1/5 Counting and sorting n-grams ===\n",
      "Reading /home/mnakhodnov/language_data/common_voice/train.txt\n",
      "----5---10---15---20---25---30---35---40---45---50---55---60---65---70---75---80---85---90---95--100\n",
      "****************************************************************************************************\n",
      "Unigram tokens 459788 types 30024\n",
      "=== 2/5 Calculating and sorting adjusted counts ===\n",
      "Chain sizes: 1:360288 2:71672954880 3:134386794496\n",
      "Statistics:\n",
      "1 30024 D1=0.649994 D2=1.08171 D3+=1.43642\n",
      "2 137335 D1=0.825257 D2=1.16211 D3+=1.22321\n",
      "3 190087 D1=0.409086 D2=1.76738 D3+=0.79414\n",
      "Memory estimate for binary LM:\n",
      "type      kB\n",
      "probing 7322 assuming -p 1.5\n",
      "probing 8244 assuming -r models -p 1.5\n",
      "trie    3380 without quantization\n",
      "trie    2061 assuming -q 8 -b 8 quantization \n",
      "trie    3202 assuming -a 22 array pointer compression\n",
      "trie    1883 assuming -a 22 -q 8 -b 8 array pointer compression and quantization\n",
      "=== 3/5 Calculating and sorting initial probabilities ===\n",
      "Chain sizes: 1:360288 2:2197360 3:3801740\n",
      "----5---10---15---20---25---30---35---40---45---50---55---60---65---70---75---80---85---90---95--100\n",
      "####################################################################################################\n",
      "=== 4/5 Calculating and writing order-interpolated probabilities ===\n",
      "Chain sizes: 1:360288 2:2197360 3:3801740\n",
      "----5---10---15---20---25---30---35---40---45---50---55---60---65---70---75---80---85---90---95--100\n",
      "####################################################################################################\n",
      "=== 5/5 Writing ARPA model ===\n",
      "----5---10---15---20---25---30---35---40---45---50---55---60---65---70---75---80---85---90---95--100\n",
      "****************************************************************************************************\n",
      "Name:lmplz\tVmPeak:201399316 kB\tVmRSS:12840 kB\tRSSMax:46465704 kB\tuser:7.34528\tsys:21.9641\tCPU:29.3094\treal:29.2359\n",
      "Reading ./../language_data/common_voice/train.arpa\n",
      "----5---10---15---20---25---30---35---40---45---50---55---60---65---70---75---80---85---90---95--100\n",
      "****************************************************************************************************\n",
      "SUCCESS\n"
     ]
    }
   ],
   "source": [
    "! ./../kenlm/build/bin/lmplz -o 3 <./../language_data/common_voice/train.txt >./../language_data/common_voice/train.arpa\n",
    "! ./../kenlm/build/bin/build_binary ./../language_data/common_voice/train.arpa ./../language_data/common_voice/train.binary"
   ]
  },
  {
   "cell_type": "code",
   "execution_count": null,
   "metadata": {},
   "outputs": [],
   "source": [
    "! ./../kenlm/build/bin/lmplz -o 3 <./../language_data/common_voice/train.txt >./../language_data/common_voice/train.arpa\n",
    "! ./../kenlm/build/bin/build_binary ./../language_data/common_voice/train.arpa ./../language_data/common_voice/train.binary"
   ]
  },
  {
   "cell_type": "code",
   "execution_count": 143,
   "metadata": {
    "ExecuteTime": {
     "end_time": "2021-03-21T07:17:35.747019Z",
     "start_time": "2021-03-21T07:17:35.700754Z"
    }
   },
   "outputs": [],
   "source": [
    "# with open('./../voice_data/libri_speech/test/manifest.json', 'r') as file:\n",
    "#     with open('./../language_data/libri_speech_train.txt', 'w') as lm_data_file:\n",
    "#         for line in file:\n",
    "#             sample = json.loads(line)\n",
    "#             lm_data_file.write(sample['text'] + '\\n')"
   ]
  },
  {
   "cell_type": "code",
   "execution_count": 134,
   "metadata": {
    "ExecuteTime": {
     "end_time": "2021-03-20T00:09:08.750582Z",
     "start_time": "2021-03-20T00:09:08.455645Z"
    }
   },
   "outputs": [],
   "source": [
    "load_from_ckpt(model, './models/2/epoch_6.pt')"
   ]
  },
  {
   "cell_type": "code",
   "execution_count": 131,
   "metadata": {
    "ExecuteTime": {
     "end_time": "2021-03-20T00:05:52.747965Z",
     "start_time": "2021-03-20T00:05:52.709664Z"
    }
   },
   "outputs": [],
   "source": [
    "beam_kwargs = {'beam_size': 10, 'cutoff_top_n': 5, 'cutoff_prob': None, 'ext_scoring_func': None, 'alpha': 1.0}\n",
    "fast_beam_kwargs = {\n",
    "    'beam_size': 10, 'cutoff_top_n': 5, 'cutoff_prob': 1.0, \n",
    "    'ext_scoring_func': './../language_data/train_lm_model.binary', 'alpha': 1.0, 'beta': 0.3, 'num_processes': 32\n",
    "}"
   ]
  },
  {
   "cell_type": "code",
   "execution_count": 106,
   "metadata": {
    "ExecuteTime": {
     "end_time": "2021-03-19T23:42:37.937742Z",
     "start_time": "2021-03-19T23:38:51.536846Z"
    }
   },
   "outputs": [
    {
     "data": {
      "application/vnd.jupyter.widget-view+json": {
       "model_id": "1a905564134a429fb33fc88c546e4864",
       "version_major": 2,
       "version_minor": 0
      },
      "text/plain": [
       "  0%|          | 0/56 [00:00<?, ?it/s]"
      ]
     },
     "metadata": {},
     "output_type": "display_data"
    },
    {
     "name": "stdout",
     "output_type": "stream",
     "text": [
      "Loss: 0.2857444478869438, WER: 0.4667327680652679\n"
     ]
    }
   ],
   "source": [
    "model.eval()\n",
    "loss, wer = validate(\n",
    "    model, val_dataloader, vocab, loss_fn,\n",
    "#     decoder=greedy_decoder, decoder_kwargs={}\n",
    "#     decoder=beam_search_decode, decoder_kwargs=beam_kwargs  \n",
    "    decoder=fast_beam_search_decode, decoder_kwargs=fast_beam_kwargs\n",
    ")\n",
    "model.train()\n",
    "\n",
    "print(f'Loss: {loss}, WER: {wer}')\n",
    "\n",
    "# greedy -> Loss: 0.2857444478869438, WER: 0.3258212143412143\n",
    "# fast_beam_search -> Loss: 0.2857444478869438, WER: 0.3172471955821956\n",
    "# fast_beam_search + LM (1.0, 0.0) -> Loss: 0.2857444478869438, WER: 0.26591688394938395\n",
    "# fast_beam_search + LM (1.0, 0.3) -> Loss: 0.2857444478869438, WER: 0.2645809271284272"
   ]
  },
  {
   "cell_type": "markdown",
   "metadata": {},
   "source": [
    "## And for now we finally train model"
   ]
  },
  {
   "cell_type": "code",
   "execution_count": 137,
   "metadata": {
    "ExecuteTime": {
     "end_time": "2021-03-20T06:40:01.672496Z",
     "start_time": "2021-03-20T00:09:26.271502Z"
    },
    "scrolled": true
   },
   "outputs": [
    {
     "data": {
      "application/vnd.jupyter.widget-view+json": {
       "model_id": "86c595799b7545b5bf8475c96d238ba8",
       "version_major": 2,
       "version_minor": 0
      },
      "text/plain": [
       "  0%|          | 0/553 [00:00<?, ?it/s]"
      ]
     },
     "metadata": {},
     "output_type": "display_data"
    },
    {
     "data": {
      "application/vnd.jupyter.widget-view+json": {
       "model_id": "374c61153bb14c9eaad70394ef338b47",
       "version_major": 2,
       "version_minor": 0
      },
      "text/plain": [
       "  0%|          | 0/56 [00:00<?, ?it/s]"
      ]
     },
     "metadata": {},
     "output_type": "display_data"
    },
    {
     "name": "stdout",
     "output_type": "stream",
     "text": [
      "\n",
      "Epoch 1 of 100 took 437.465989112854s, train loss: 0.04672805504859559, val loss: 0.3109671565592289, train wer: 0.07052799605821077, val wer: 0.2696103127428127\n"
     ]
    },
    {
     "data": {
      "application/vnd.jupyter.widget-view+json": {
       "model_id": "f2acf1e4fec14893aabf0bd642f81129",
       "version_major": 2,
       "version_minor": 0
      },
      "text/plain": [
       "  0%|          | 0/553 [00:00<?, ?it/s]"
      ]
     },
     "metadata": {},
     "output_type": "display_data"
    },
    {
     "data": {
      "application/vnd.jupyter.widget-view+json": {
       "model_id": "c88c892618824077991bf3ef3e549439",
       "version_major": 2,
       "version_minor": 0
      },
      "text/plain": [
       "  0%|          | 0/56 [00:00<?, ?it/s]"
      ]
     },
     "metadata": {},
     "output_type": "display_data"
    },
    {
     "name": "stdout",
     "output_type": "stream",
     "text": [
      "\n",
      "Epoch 2 of 100 took 419.8621027469635s, train loss: 0.03291329995946919, val loss: 0.30157077679038047, train wer: 0.04534452181605609, val wer: 0.26147449689199687\n"
     ]
    },
    {
     "data": {
      "application/vnd.jupyter.widget-view+json": {
       "model_id": "e49a01d9a7514c62a0df5f79bd66dd90",
       "version_major": 2,
       "version_minor": 0
      },
      "text/plain": [
       "  0%|          | 0/553 [00:00<?, ?it/s]"
      ]
     },
     "metadata": {},
     "output_type": "display_data"
    },
    {
     "data": {
      "application/vnd.jupyter.widget-view+json": {
       "model_id": "807cc0784651428e8d49fb4887f82684",
       "version_major": 2,
       "version_minor": 0
      },
      "text/plain": [
       "  0%|          | 0/56 [00:00<?, ?it/s]"
      ]
     },
     "metadata": {},
     "output_type": "display_data"
    },
    {
     "name": "stdout",
     "output_type": "stream",
     "text": [
      "\n",
      "Epoch 3 of 100 took 447.90864515304565s, train loss: 0.025469095309665016, val loss: 0.3156160186231136, train wer: 0.0329409066930175, val wer: 0.2627017413142413\n"
     ]
    },
    {
     "data": {
      "application/vnd.jupyter.widget-view+json": {
       "model_id": "6353c9ce7ea34928b753e92db5b08520",
       "version_major": 2,
       "version_minor": 0
      },
      "text/plain": [
       "  0%|          | 0/553 [00:00<?, ?it/s]"
      ]
     },
     "metadata": {},
     "output_type": "display_data"
    },
    {
     "data": {
      "application/vnd.jupyter.widget-view+json": {
       "model_id": "06ee04078b3e45529d0d6598b5a02aa6",
       "version_major": 2,
       "version_minor": 0
      },
      "text/plain": [
       "  0%|          | 0/56 [00:00<?, ?it/s]"
      ]
     },
     "metadata": {},
     "output_type": "display_data"
    },
    {
     "name": "stdout",
     "output_type": "stream",
     "text": [
      "\n",
      "Epoch 4 of 100 took 429.82770323753357s, train loss: 0.01947722843475108, val loss: 0.3327148035466671, train wer: 0.022805462407977286, val wer: 0.2644207922632921\n"
     ]
    },
    {
     "data": {
      "application/vnd.jupyter.widget-view+json": {
       "model_id": "4747d6489bb74e28b66cd8b29ff9397e",
       "version_major": 2,
       "version_minor": 0
      },
      "text/plain": [
       "  0%|          | 0/553 [00:00<?, ?it/s]"
      ]
     },
     "metadata": {},
     "output_type": "display_data"
    },
    {
     "name": "stderr",
     "output_type": "stream",
     "text": [
      "IOPub message rate exceeded.\n",
      "The notebook server will temporarily stop sending output\n",
      "to the client in order to avoid crashing it.\n",
      "To change this limit, set the config variable\n",
      "`--NotebookApp.iopub_msg_rate_limit`.\n",
      "\n",
      "Current values:\n",
      "NotebookApp.iopub_msg_rate_limit=1000.0 (msgs/sec)\n",
      "NotebookApp.rate_limit_window=3.0 (secs)\n",
      "\n"
     ]
    },
    {
     "data": {
      "application/vnd.jupyter.widget-view+json": {
       "model_id": "f6d91c86d8b244148963625396c82a37",
       "version_major": 2,
       "version_minor": 0
      },
      "text/plain": [
       "  0%|          | 0/56 [00:00<?, ?it/s]"
      ]
     },
     "metadata": {},
     "output_type": "display_data"
    },
    {
     "name": "stdout",
     "output_type": "stream",
     "text": [
      "\n",
      "Epoch 9 of 100 took 403.2232356071472s, train loss: 0.005938899862722661, val loss: 0.38911972534656525, train wer: 0.004831154927146402, val wer: 0.2684389801864802\n"
     ]
    },
    {
     "data": {
      "application/vnd.jupyter.widget-view+json": {
       "model_id": "5a3c7d28241347d8ae16862deb46794c",
       "version_major": 2,
       "version_minor": 0
      },
      "text/plain": [
       "  0%|          | 0/553 [00:00<?, ?it/s]"
      ]
     },
     "metadata": {},
     "output_type": "display_data"
    },
    {
     "data": {
      "application/vnd.jupyter.widget-view+json": {
       "model_id": "894eea6bcb314a0db88500f2609088d2",
       "version_major": 2,
       "version_minor": 0
      },
      "text/plain": [
       "  0%|          | 0/56 [00:00<?, ?it/s]"
      ]
     },
     "metadata": {},
     "output_type": "display_data"
    },
    {
     "name": "stdout",
     "output_type": "stream",
     "text": [
      "\n",
      "Epoch 10 of 100 took 404.9786205291748s, train loss: 0.004624581745737706, val loss: 0.4060340143442154, train wer: 0.0032979229947708577, val wer: 0.2702422213897214\n"
     ]
    },
    {
     "data": {
      "application/vnd.jupyter.widget-view+json": {
       "model_id": "2c6ce000c2a24d92a46c31e5b872848f",
       "version_major": 2,
       "version_minor": 0
      },
      "text/plain": [
       "  0%|          | 0/553 [00:00<?, ?it/s]"
      ]
     },
     "metadata": {},
     "output_type": "display_data"
    },
    {
     "name": "stderr",
     "output_type": "stream",
     "text": [
      "IOPub message rate exceeded.\n",
      "The notebook server will temporarily stop sending output\n",
      "to the client in order to avoid crashing it.\n",
      "To change this limit, set the config variable\n",
      "`--NotebookApp.iopub_msg_rate_limit`.\n",
      "\n",
      "Current values:\n",
      "NotebookApp.iopub_msg_rate_limit=1000.0 (msgs/sec)\n",
      "NotebookApp.rate_limit_window=3.0 (secs)\n",
      "\n"
     ]
    },
    {
     "data": {
      "application/vnd.jupyter.widget-view+json": {
       "model_id": "8c818465a23a41aba622c202e8304dd4",
       "version_major": 2,
       "version_minor": 0
      },
      "text/plain": [
       "  0%|          | 0/56 [00:00<?, ?it/s]"
      ]
     },
     "metadata": {},
     "output_type": "display_data"
    },
    {
     "name": "stdout",
     "output_type": "stream",
     "text": [
      "\n",
      "Epoch 14 of 100 took 452.3337230682373s, train loss: 0.0031548403837026954, val loss: 0.4411610639989376, train wer: 0.002614895981935223, val wer: 0.272904671994672\n"
     ]
    },
    {
     "data": {
      "application/vnd.jupyter.widget-view+json": {
       "model_id": "97069fe4d68a4630a5aa98f1a0dff185",
       "version_major": 2,
       "version_minor": 0
      },
      "text/plain": [
       "  0%|          | 0/553 [00:00<?, ?it/s]"
      ]
     },
     "metadata": {},
     "output_type": "display_data"
    },
    {
     "data": {
      "application/vnd.jupyter.widget-view+json": {
       "model_id": "516371bfd4e144f7bae59d8af5398ea6",
       "version_major": 2,
       "version_minor": 0
      },
      "text/plain": [
       "  0%|          | 0/56 [00:00<?, ?it/s]"
      ]
     },
     "metadata": {},
     "output_type": "display_data"
    },
    {
     "name": "stdout",
     "output_type": "stream",
     "text": [
      "\n",
      "Epoch 15 of 100 took 431.91887617111206s, train loss: 0.0026846694158703744, val loss: 0.44976906076073647, train wer: 0.002240803025822326, val wer: 0.2738764824064823\n"
     ]
    },
    {
     "data": {
      "application/vnd.jupyter.widget-view+json": {
       "model_id": "942c15fd69504937917c04249b28f4e1",
       "version_major": 2,
       "version_minor": 0
      },
      "text/plain": [
       "  0%|          | 0/553 [00:00<?, ?it/s]"
      ]
     },
     "metadata": {},
     "output_type": "display_data"
    },
    {
     "name": "stderr",
     "output_type": "stream",
     "text": [
      "IOPub message rate exceeded.\n",
      "The notebook server will temporarily stop sending output\n",
      "to the client in order to avoid crashing it.\n",
      "To change this limit, set the config variable\n",
      "`--NotebookApp.iopub_msg_rate_limit`.\n",
      "\n",
      "Current values:\n",
      "NotebookApp.iopub_msg_rate_limit=1000.0 (msgs/sec)\n",
      "NotebookApp.rate_limit_window=3.0 (secs)\n",
      "\n"
     ]
    },
    {
     "data": {
      "application/vnd.jupyter.widget-view+json": {
       "model_id": "6daeef648ce348c99d514c4af717cdac",
       "version_major": 2,
       "version_minor": 0
      },
      "text/plain": [
       "  0%|          | 0/56 [00:00<?, ?it/s]"
      ]
     },
     "metadata": {},
     "output_type": "display_data"
    },
    {
     "name": "stdout",
     "output_type": "stream",
     "text": [
      "\n",
      "Epoch 20 of 100 took 433.27441692352295s, train loss: 0.0024899811019389426, val loss: 0.48154886084794996, train wer: 0.003126851582444218, val wer: 0.277321126096126\n"
     ]
    },
    {
     "data": {
      "application/vnd.jupyter.widget-view+json": {
       "model_id": "0f56316fdf244f11bd9c0a45e318b7a3",
       "version_major": 2,
       "version_minor": 0
      },
      "text/plain": [
       "  0%|          | 0/553 [00:00<?, ?it/s]"
      ]
     },
     "metadata": {},
     "output_type": "display_data"
    },
    {
     "data": {
      "application/vnd.jupyter.widget-view+json": {
       "model_id": "cc2ec9a03b534537bd5746b8dc8540f5",
       "version_major": 2,
       "version_minor": 0
      },
      "text/plain": [
       "  0%|          | 0/56 [00:00<?, ?it/s]"
      ]
     },
     "metadata": {},
     "output_type": "display_data"
    },
    {
     "name": "stdout",
     "output_type": "stream",
     "text": [
      "\n",
      "Epoch 21 of 100 took 417.6137647628784s, train loss: 0.002046950100167643, val loss: 0.49366719436645506, train wer: 0.001975153467293224, val wer: 0.2789253971028971\n"
     ]
    },
    {
     "data": {
      "application/vnd.jupyter.widget-view+json": {
       "model_id": "17c2b8d77b97454ebae15b4d0a6002a7",
       "version_major": 2,
       "version_minor": 0
      },
      "text/plain": [
       "  0%|          | 0/553 [00:00<?, ?it/s]"
      ]
     },
     "metadata": {},
     "output_type": "display_data"
    },
    {
     "name": "stderr",
     "output_type": "stream",
     "text": [
      "IOPub message rate exceeded.\n",
      "The notebook server will temporarily stop sending output\n",
      "to the client in order to avoid crashing it.\n",
      "To change this limit, set the config variable\n",
      "`--NotebookApp.iopub_msg_rate_limit`.\n",
      "\n",
      "Current values:\n",
      "NotebookApp.iopub_msg_rate_limit=1000.0 (msgs/sec)\n",
      "NotebookApp.rate_limit_window=3.0 (secs)\n",
      "\n"
     ]
    },
    {
     "data": {
      "application/vnd.jupyter.widget-view+json": {
       "model_id": "33db1509e60f4ceba0dda360c57495a0",
       "version_major": 2,
       "version_minor": 0
      },
      "text/plain": [
       "  0%|          | 0/56 [00:00<?, ?it/s]"
      ]
     },
     "metadata": {},
     "output_type": "display_data"
    },
    {
     "name": "stdout",
     "output_type": "stream",
     "text": [
      "\n",
      "Epoch 25 of 100 took 412.54444909095764s, train loss: 0.0015450919067095108, val loss: 0.5067362834811211, train wer: 0.0017946542753554673, val wer: 0.27742904512154526\n"
     ]
    },
    {
     "data": {
      "application/vnd.jupyter.widget-view+json": {
       "model_id": "5ec96822f8a043d185b03b46fbb40325",
       "version_major": 2,
       "version_minor": 0
      },
      "text/plain": [
       "  0%|          | 0/553 [00:00<?, ?it/s]"
      ]
     },
     "metadata": {},
     "output_type": "display_data"
    },
    {
     "data": {
      "application/vnd.jupyter.widget-view+json": {
       "model_id": "83b2dee582dc4a02b2409b1f9db6b3e8",
       "version_major": 2,
       "version_minor": 0
      },
      "text/plain": [
       "  0%|          | 0/56 [00:00<?, ?it/s]"
      ]
     },
     "metadata": {},
     "output_type": "display_data"
    },
    {
     "name": "stdout",
     "output_type": "stream",
     "text": [
      "\n",
      "Epoch 26 of 100 took 409.2083435058594s, train loss: 0.0016578379338808948, val loss: 0.5143418534696103, train wer: 0.0019414716368117801, val wer: 0.2795189568764567\n"
     ]
    },
    {
     "data": {
      "application/vnd.jupyter.widget-view+json": {
       "model_id": "97940b65f0be4b24ae427c4d3003b80d",
       "version_major": 2,
       "version_minor": 0
      },
      "text/plain": [
       "  0%|          | 0/553 [00:00<?, ?it/s]"
      ]
     },
     "metadata": {},
     "output_type": "display_data"
    },
    {
     "name": "stderr",
     "output_type": "stream",
     "text": [
      "IOPub message rate exceeded.\n",
      "The notebook server will temporarily stop sending output\n",
      "to the client in order to avoid crashing it.\n",
      "To change this limit, set the config variable\n",
      "`--NotebookApp.iopub_msg_rate_limit`.\n",
      "\n",
      "Current values:\n",
      "NotebookApp.iopub_msg_rate_limit=1000.0 (msgs/sec)\n",
      "NotebookApp.rate_limit_window=3.0 (secs)\n",
      "\n"
     ]
    },
    {
     "name": "stdout",
     "output_type": "stream",
     "text": [
      "\n",
      "Epoch 30 of 100 took 429.09705924987793s, train loss: 0.0011275113274167347, val loss: 0.528838775575161, train wer: 0.0011877560250228326, val wer: 0.27791775585525585\n"
     ]
    },
    {
     "data": {
      "application/vnd.jupyter.widget-view+json": {
       "model_id": "f939895bc8ae4a06afe9f5f83fb6f8df",
       "version_major": 2,
       "version_minor": 0
      },
      "text/plain": [
       "  0%|          | 0/553 [00:00<?, ?it/s]"
      ]
     },
     "metadata": {},
     "output_type": "display_data"
    },
    {
     "data": {
      "application/vnd.jupyter.widget-view+json": {
       "model_id": "1c5932f26bdd46c4b7ef7a867330b632",
       "version_major": 2,
       "version_minor": 0
      },
      "text/plain": [
       "  0%|          | 0/56 [00:00<?, ?it/s]"
      ]
     },
     "metadata": {},
     "output_type": "display_data"
    },
    {
     "name": "stdout",
     "output_type": "stream",
     "text": [
      "\n",
      "Epoch 31 of 100 took 402.3787727355957s, train loss: 0.0007498564803939228, val loss: 0.5297184148728847, train wer: 0.0005533795905499025, val wer: 0.2775634512709512\n"
     ]
    },
    {
     "data": {
      "application/vnd.jupyter.widget-view+json": {
       "model_id": "1742542b14e94551942702d303bddca3",
       "version_major": 2,
       "version_minor": 0
      },
      "text/plain": [
       "  0%|          | 0/553 [00:00<?, ?it/s]"
      ]
     },
     "metadata": {},
     "output_type": "display_data"
    },
    {
     "data": {
      "application/vnd.jupyter.widget-view+json": {
       "model_id": "741decebbff945a29d9bc22b70ad6110",
       "version_major": 2,
       "version_minor": 0
      },
      "text/plain": [
       "  0%|          | 0/56 [00:00<?, ?it/s]"
      ]
     },
     "metadata": {},
     "output_type": "display_data"
    },
    {
     "name": "stdout",
     "output_type": "stream",
     "text": [
      "\n",
      "Epoch 32 of 100 took 443.630056142807s, train loss: 0.0011400003124411983, val loss: 0.5314865635931492, train wer: 0.0014109360025450419, val wer: 0.27945598401598404\n"
     ]
    },
    {
     "data": {
      "application/vnd.jupyter.widget-view+json": {
       "model_id": "a86b051ff62c4d6f8120a93cbb399d66",
       "version_major": 2,
       "version_minor": 0
      },
      "text/plain": [
       "  0%|          | 0/553 [00:00<?, ?it/s]"
      ]
     },
     "metadata": {},
     "output_type": "display_data"
    },
    {
     "name": "stderr",
     "output_type": "stream",
     "text": [
      "IOPub message rate exceeded.\n",
      "The notebook server will temporarily stop sending output\n",
      "to the client in order to avoid crashing it.\n",
      "To change this limit, set the config variable\n",
      "`--NotebookApp.iopub_msg_rate_limit`.\n",
      "\n",
      "Current values:\n",
      "NotebookApp.iopub_msg_rate_limit=1000.0 (msgs/sec)\n",
      "NotebookApp.rate_limit_window=3.0 (secs)\n",
      "\n"
     ]
    },
    {
     "data": {
      "application/vnd.jupyter.widget-view+json": {
       "model_id": "90c0e980adcf46d8a45f293de4c69d73",
       "version_major": 2,
       "version_minor": 0
      },
      "text/plain": [
       "  0%|          | 0/56 [00:00<?, ?it/s]"
      ]
     },
     "metadata": {},
     "output_type": "display_data"
    },
    {
     "name": "stdout",
     "output_type": "stream",
     "text": [
      "\n",
      "Epoch 36 of 100 took 444.40804290771484s, train loss: 0.001643142284904457, val loss: 0.5471574314832688, train wer: 0.0024019648934211517, val wer: 0.2801416541791542\n"
     ]
    },
    {
     "data": {
      "application/vnd.jupyter.widget-view+json": {
       "model_id": "a322d711212a45149feb3903b14802e0",
       "version_major": 2,
       "version_minor": 0
      },
      "text/plain": [
       "  0%|          | 0/553 [00:00<?, ?it/s]"
      ]
     },
     "metadata": {},
     "output_type": "display_data"
    },
    {
     "name": "stdout",
     "output_type": "stream",
     "text": [
      "\n",
      "Epoch 54 of 100 took 401.21378087997437s, train loss: 0.0006587285126428339, val loss: 0.581526175737381, train wer: 0.0008759317123139902, val wer: 0.2787805405705405\n"
     ]
    },
    {
     "data": {
      "application/vnd.jupyter.widget-view+json": {
       "model_id": "04461557237148bda6f80908e167777f",
       "version_major": 2,
       "version_minor": 0
      },
      "text/plain": [
       "  0%|          | 0/553 [00:00<?, ?it/s]"
      ]
     },
     "metadata": {},
     "output_type": "display_data"
    },
    {
     "data": {
      "application/vnd.jupyter.widget-view+json": {
       "model_id": "bcf11cc3de4145559c76579e6c0c99fc",
       "version_major": 2,
       "version_minor": 0
      },
      "text/plain": [
       "  0%|          | 0/56 [00:00<?, ?it/s]"
      ]
     },
     "metadata": {},
     "output_type": "display_data"
    },
    {
     "name": "stdout",
     "output_type": "stream",
     "text": [
      "\n",
      "Epoch 55 of 100 took 406.69397926330566s, train loss: 0.0012521836184397313, val loss: 0.582623540341854, train wer: 0.0021417439508063527, val wer: 0.28225443889443896\n"
     ]
    },
    {
     "data": {
      "application/vnd.jupyter.widget-view+json": {
       "model_id": "f41e2bda8cb14e54b326e54f8435a5d6",
       "version_major": 2,
       "version_minor": 0
      },
      "text/plain": [
       "  0%|          | 0/553 [00:00<?, ?it/s]"
      ]
     },
     "metadata": {},
     "output_type": "display_data"
    },
    {
     "ename": "KeyboardInterrupt",
     "evalue": "",
     "output_type": "error",
     "traceback": [
      "\u001b[0;31m---------------------------------------------------------------------------\u001b[0m",
      "\u001b[0;31mKeyboardInterrupt\u001b[0m                         Traceback (most recent call last)",
      "\u001b[0;32m<ipython-input-137-12d4f3d7a4c4>\u001b[0m in \u001b[0;36m<module>\u001b[0;34m\u001b[0m\n\u001b[1;32m      4\u001b[0m     \u001b[0mtrain_dataloader\u001b[0m\u001b[0;34m,\u001b[0m \u001b[0mval_dataloader\u001b[0m\u001b[0;34m,\u001b[0m\u001b[0;34m\u001b[0m\u001b[0;34m\u001b[0m\u001b[0m\n\u001b[1;32m      5\u001b[0m     \u001b[0mlog_every_n_batch\u001b[0m\u001b[0;34m,\u001b[0m \u001b[0mmodel_dir\u001b[0m\u001b[0;34m,\u001b[0m \u001b[0mvocab\u001b[0m\u001b[0;34m,\u001b[0m\u001b[0;34m\u001b[0m\u001b[0;34m\u001b[0m\u001b[0m\n\u001b[0;32m----> 6\u001b[0;31m     \u001b[0mbeam_kwargs\u001b[0m\u001b[0;34m=\u001b[0m\u001b[0mfast_beam_kwargs\u001b[0m\u001b[0;34m\u001b[0m\u001b[0;34m\u001b[0m\u001b[0m\n\u001b[0m\u001b[1;32m      7\u001b[0m )\n",
      "\u001b[0;32m<ipython-input-133-9fef30d92dbf>\u001b[0m in \u001b[0;36mtraining\u001b[0;34m(model, optimizer, loss_fn, num_epochs, train_dataloader, val_dataloader, log_every_n_batch, model_dir, vocab, beam_kwargs)\u001b[0m\n\u001b[1;32m     19\u001b[0m                 \u001b[0mmodel\u001b[0m\u001b[0;34m,\u001b[0m \u001b[0mbatch\u001b[0m\u001b[0;34m[\u001b[0m\u001b[0;34m\"audios\"\u001b[0m\u001b[0;34m]\u001b[0m\u001b[0;34m,\u001b[0m \u001b[0mbatch\u001b[0m\u001b[0;34m[\u001b[0m\u001b[0;34m\"audio_lens\"\u001b[0m\u001b[0;34m]\u001b[0m\u001b[0;34m,\u001b[0m\u001b[0;34m\u001b[0m\u001b[0;34m\u001b[0m\u001b[0m\n\u001b[1;32m     20\u001b[0m                 \u001b[0mbatch\u001b[0m\u001b[0;34m[\u001b[0m\u001b[0;34m\"tokens\"\u001b[0m\u001b[0;34m]\u001b[0m\u001b[0;34m,\u001b[0m \u001b[0mbatch\u001b[0m\u001b[0;34m[\u001b[0m\u001b[0;34m\"texts\"\u001b[0m\u001b[0;34m]\u001b[0m\u001b[0;34m,\u001b[0m \u001b[0mbatch\u001b[0m\u001b[0;34m[\u001b[0m\u001b[0;34m\"text_lens\"\u001b[0m\u001b[0;34m]\u001b[0m\u001b[0;34m,\u001b[0m \u001b[0mvocab\u001b[0m\u001b[0;34m,\u001b[0m \u001b[0mloss_fn\u001b[0m\u001b[0;34m,\u001b[0m\u001b[0;34m\u001b[0m\u001b[0;34m\u001b[0m\u001b[0m\n\u001b[0;32m---> 21\u001b[0;31m                 \u001b[0mdecoder\u001b[0m\u001b[0;34m=\u001b[0m\u001b[0mgreedy_decoder\u001b[0m\u001b[0;34m,\u001b[0m \u001b[0mdecoder_kwargs\u001b[0m\u001b[0;34m=\u001b[0m\u001b[0mdict\u001b[0m\u001b[0;34m(\u001b[0m\u001b[0;34m)\u001b[0m\u001b[0;34m\u001b[0m\u001b[0;34m\u001b[0m\u001b[0m\n\u001b[0m\u001b[1;32m     22\u001b[0m             )\n\u001b[1;32m     23\u001b[0m \u001b[0;34m\u001b[0m\u001b[0m\n",
      "\u001b[0;32m<ipython-input-75-2014c0579e17>\u001b[0m in \u001b[0;36mget_model_results\u001b[0;34m(model, audios, audio_lens, tokens, texts, text_lens, vocab, loss_fn, decoder, decoder_kwargs)\u001b[0m\n\u001b[1;32m     16\u001b[0m \u001b[0;34m\u001b[0m\u001b[0m\n\u001b[1;32m     17\u001b[0m     \u001b[0;32mwith\u001b[0m \u001b[0mtorch\u001b[0m\u001b[0;34m.\u001b[0m\u001b[0mno_grad\u001b[0m\u001b[0;34m(\u001b[0m\u001b[0;34m)\u001b[0m\u001b[0;34m:\u001b[0m\u001b[0;34m\u001b[0m\u001b[0;34m\u001b[0m\u001b[0m\n\u001b[0;32m---> 18\u001b[0;31m         \u001b[0mpredictions\u001b[0m \u001b[0;34m=\u001b[0m \u001b[0mget_prediction\u001b[0m\u001b[0;34m(\u001b[0m\u001b[0mlogprobs\u001b[0m\u001b[0;34m,\u001b[0m \u001b[0mseq_lens\u001b[0m\u001b[0;34m,\u001b[0m \u001b[0mvocab\u001b[0m\u001b[0;34m,\u001b[0m \u001b[0mdecoder\u001b[0m\u001b[0;34m=\u001b[0m\u001b[0mdecoder\u001b[0m\u001b[0;34m,\u001b[0m \u001b[0mdecoder_kwargs\u001b[0m\u001b[0;34m=\u001b[0m\u001b[0mdecoder_kwargs\u001b[0m\u001b[0;34m)\u001b[0m\u001b[0;34m\u001b[0m\u001b[0;34m\u001b[0m\u001b[0m\n\u001b[0m\u001b[1;32m     19\u001b[0m         \u001b[0mwer\u001b[0m \u001b[0;34m=\u001b[0m \u001b[0mcalc_wer_for_batch\u001b[0m\u001b[0;34m(\u001b[0m\u001b[0mpredictions\u001b[0m\u001b[0;34m,\u001b[0m \u001b[0mtexts\u001b[0m\u001b[0;34m)\u001b[0m\u001b[0;34m\u001b[0m\u001b[0;34m\u001b[0m\u001b[0m\n\u001b[1;32m     20\u001b[0m \u001b[0;34m\u001b[0m\u001b[0m\n",
      "\u001b[0;32m<ipython-input-67-318d14390f89>\u001b[0m in \u001b[0;36mget_prediction\u001b[0;34m(logprobs, logprobs_lens, vocab, decoder, decoder_kwargs)\u001b[0m\n\u001b[1;32m     10\u001b[0m         \u001b[0mdecoder_kwargs\u001b[0m \u001b[0;34m=\u001b[0m \u001b[0mdict\u001b[0m\u001b[0;34m(\u001b[0m\u001b[0;34m)\u001b[0m\u001b[0;34m\u001b[0m\u001b[0;34m\u001b[0m\u001b[0m\n\u001b[1;32m     11\u001b[0m \u001b[0;34m\u001b[0m\u001b[0m\n\u001b[0;32m---> 12\u001b[0;31m     \u001b[0mpredictions\u001b[0m \u001b[0;34m=\u001b[0m \u001b[0mdecoder\u001b[0m\u001b[0;34m(\u001b[0m\u001b[0mlogprobs\u001b[0m\u001b[0;34m=\u001b[0m\u001b[0mlogprobs\u001b[0m\u001b[0;34m,\u001b[0m \u001b[0mlogprobs_lens\u001b[0m\u001b[0;34m=\u001b[0m\u001b[0mlogprobs_lens\u001b[0m\u001b[0;34m,\u001b[0m \u001b[0mvocab\u001b[0m\u001b[0;34m=\u001b[0m\u001b[0mvocab\u001b[0m\u001b[0;34m,\u001b[0m \u001b[0;34m**\u001b[0m\u001b[0mdecoder_kwargs\u001b[0m\u001b[0;34m)\u001b[0m\u001b[0;34m\u001b[0m\u001b[0;34m\u001b[0m\u001b[0m\n\u001b[0m\u001b[1;32m     13\u001b[0m     \u001b[0mpredictions\u001b[0m \u001b[0;34m=\u001b[0m \u001b[0;34m[\u001b[0m\u001b[0msorted\u001b[0m\u001b[0;34m(\u001b[0m\u001b[0mhypos\u001b[0m\u001b[0;34m,\u001b[0m \u001b[0mkey\u001b[0m\u001b[0;34m=\u001b[0m\u001b[0;32mlambda\u001b[0m \u001b[0mkey_value\u001b[0m\u001b[0;34m:\u001b[0m \u001b[0mkey_value\u001b[0m\u001b[0;34m[\u001b[0m\u001b[0;36m1\u001b[0m\u001b[0;34m]\u001b[0m\u001b[0;34m,\u001b[0m \u001b[0mreverse\u001b[0m\u001b[0;34m=\u001b[0m\u001b[0;32mTrue\u001b[0m\u001b[0;34m)\u001b[0m\u001b[0;34m[\u001b[0m\u001b[0;36m0\u001b[0m\u001b[0;34m]\u001b[0m\u001b[0;34m[\u001b[0m\u001b[0;36m0\u001b[0m\u001b[0;34m]\u001b[0m \u001b[0;32mfor\u001b[0m \u001b[0mhypos\u001b[0m \u001b[0;32min\u001b[0m \u001b[0mpredictions\u001b[0m\u001b[0;34m]\u001b[0m\u001b[0;34m\u001b[0m\u001b[0;34m\u001b[0m\u001b[0m\n\u001b[1;32m     14\u001b[0m \u001b[0;34m\u001b[0m\u001b[0m\n",
      "\u001b[0;32m<ipython-input-62-bb1f3cf818b4>\u001b[0m in \u001b[0;36mgreedy_decoder\u001b[0;34m(logprobs, logprobs_lens, vocab)\u001b[0m\n\u001b[1;32m      6\u001b[0m         \u001b[0malligmnet_tokens\u001b[0m \u001b[0;34m=\u001b[0m \u001b[0mvocab\u001b[0m\u001b[0;34m.\u001b[0m\u001b[0mlookup_tokens\u001b[0m\u001b[0;34m(\u001b[0m\u001b[0mtokens\u001b[0m\u001b[0;34m[\u001b[0m\u001b[0;34m:\u001b[0m\u001b[0;34m,\u001b[0m \u001b[0midx\u001b[0m\u001b[0;34m]\u001b[0m\u001b[0;34m[\u001b[0m\u001b[0;34m:\u001b[0m\u001b[0mlogprobs_lens\u001b[0m\u001b[0;34m[\u001b[0m\u001b[0midx\u001b[0m\u001b[0;34m]\u001b[0m\u001b[0;34m]\u001b[0m\u001b[0;34m.\u001b[0m\u001b[0mdetach\u001b[0m\u001b[0;34m(\u001b[0m\u001b[0;34m)\u001b[0m\u001b[0;34m.\u001b[0m\u001b[0mcpu\u001b[0m\u001b[0;34m(\u001b[0m\u001b[0;34m)\u001b[0m\u001b[0;34m.\u001b[0m\u001b[0mnumpy\u001b[0m\u001b[0;34m(\u001b[0m\u001b[0;34m)\u001b[0m\u001b[0;34m)\u001b[0m\u001b[0;34m\u001b[0m\u001b[0;34m\u001b[0m\u001b[0m\n\u001b[1;32m      7\u001b[0m         \u001b[0malligmnet\u001b[0m \u001b[0;34m=\u001b[0m \u001b[0;34m''\u001b[0m\u001b[0;34m.\u001b[0m\u001b[0mjoin\u001b[0m\u001b[0;34m(\u001b[0m\u001b[0malligmnet_tokens\u001b[0m\u001b[0;34m)\u001b[0m\u001b[0;34m\u001b[0m\u001b[0;34m\u001b[0m\u001b[0m\n\u001b[0;32m----> 8\u001b[0;31m         \u001b[0mhypo\u001b[0m \u001b[0;34m=\u001b[0m \u001b[0mdecode\u001b[0m\u001b[0;34m(\u001b[0m\u001b[0malligmnet\u001b[0m\u001b[0;34m)\u001b[0m\u001b[0;34m\u001b[0m\u001b[0;34m\u001b[0m\u001b[0m\n\u001b[0m\u001b[1;32m      9\u001b[0m         \u001b[0mpredictions\u001b[0m \u001b[0;34m+=\u001b[0m \u001b[0;34m[\u001b[0m\u001b[0;34m[\u001b[0m\u001b[0;34m(\u001b[0m\u001b[0mhypo\u001b[0m\u001b[0;34m,\u001b[0m \u001b[0;36m1.0\u001b[0m\u001b[0;34m)\u001b[0m\u001b[0;34m]\u001b[0m\u001b[0;34m]\u001b[0m\u001b[0;34m\u001b[0m\u001b[0;34m\u001b[0m\u001b[0m\n\u001b[1;32m     10\u001b[0m \u001b[0;34m\u001b[0m\u001b[0m\n",
      "\u001b[0;32m<ipython-input-60-537c0c2a7873>\u001b[0m in \u001b[0;36mdecode\u001b[0;34m(alignment)\u001b[0m\n\u001b[1;32m      7\u001b[0m     \"\"\"\n\u001b[1;32m      8\u001b[0m     \u001b[0;31m### write your code here ###\u001b[0m\u001b[0;34m\u001b[0m\u001b[0;34m\u001b[0m\u001b[0;34m\u001b[0m\u001b[0m\n\u001b[0;32m----> 9\u001b[0;31m     \u001b[0malignment\u001b[0m \u001b[0;34m=\u001b[0m \u001b[0mregex\u001b[0m\u001b[0;34m.\u001b[0m\u001b[0msub\u001b[0m\u001b[0;34m(\u001b[0m\u001b[0;34mr'(\\p{L})\\1+'\u001b[0m\u001b[0;34m,\u001b[0m \u001b[0;34mr'\\1'\u001b[0m\u001b[0;34m,\u001b[0m \u001b[0malignment\u001b[0m\u001b[0;34m)\u001b[0m\u001b[0;34m\u001b[0m\u001b[0;34m\u001b[0m\u001b[0m\n\u001b[0m\u001b[1;32m     10\u001b[0m     \u001b[0malignment\u001b[0m \u001b[0;34m=\u001b[0m \u001b[0malignment\u001b[0m\u001b[0;34m.\u001b[0m\u001b[0mreplace\u001b[0m\u001b[0;34m(\u001b[0m\u001b[0;34m'<blank>'\u001b[0m\u001b[0;34m,\u001b[0m \u001b[0;34m''\u001b[0m\u001b[0;34m)\u001b[0m\u001b[0;34m\u001b[0m\u001b[0;34m\u001b[0m\u001b[0m\n\u001b[1;32m     11\u001b[0m     \u001b[0malignment\u001b[0m \u001b[0;34m=\u001b[0m \u001b[0mregex\u001b[0m\u001b[0;34m.\u001b[0m\u001b[0msub\u001b[0m\u001b[0;34m(\u001b[0m\u001b[0;34m' +'\u001b[0m\u001b[0;34m,\u001b[0m \u001b[0;34m' '\u001b[0m\u001b[0;34m,\u001b[0m \u001b[0malignment\u001b[0m\u001b[0;34m)\u001b[0m\u001b[0;34m\u001b[0m\u001b[0;34m\u001b[0m\u001b[0m\n",
      "\u001b[0;32m/usr/local/lib/python3.6/dist-packages/regex/regex.py\u001b[0m in \u001b[0;36msub\u001b[0;34m(pattern, repl, string, count, flags, pos, endpos, concurrent, timeout, ignore_unused, **kwargs)\u001b[0m\n\u001b[1;32m    276\u001b[0m     object and must return a replacement string to be used.\"\"\"\n\u001b[1;32m    277\u001b[0m     \u001b[0mpat\u001b[0m \u001b[0;34m=\u001b[0m \u001b[0m_compile\u001b[0m\u001b[0;34m(\u001b[0m\u001b[0mpattern\u001b[0m\u001b[0;34m,\u001b[0m \u001b[0mflags\u001b[0m\u001b[0;34m,\u001b[0m \u001b[0mignore_unused\u001b[0m\u001b[0;34m,\u001b[0m \u001b[0mkwargs\u001b[0m\u001b[0;34m,\u001b[0m \u001b[0;32mTrue\u001b[0m\u001b[0;34m)\u001b[0m\u001b[0;34m\u001b[0m\u001b[0;34m\u001b[0m\u001b[0m\n\u001b[0;32m--> 278\u001b[0;31m     \u001b[0;32mreturn\u001b[0m \u001b[0mpat\u001b[0m\u001b[0;34m.\u001b[0m\u001b[0msub\u001b[0m\u001b[0;34m(\u001b[0m\u001b[0mrepl\u001b[0m\u001b[0;34m,\u001b[0m \u001b[0mstring\u001b[0m\u001b[0;34m,\u001b[0m \u001b[0mcount\u001b[0m\u001b[0;34m,\u001b[0m \u001b[0mpos\u001b[0m\u001b[0;34m,\u001b[0m \u001b[0mendpos\u001b[0m\u001b[0;34m,\u001b[0m \u001b[0mconcurrent\u001b[0m\u001b[0;34m,\u001b[0m \u001b[0mtimeout\u001b[0m\u001b[0;34m)\u001b[0m\u001b[0;34m\u001b[0m\u001b[0;34m\u001b[0m\u001b[0m\n\u001b[0m\u001b[1;32m    279\u001b[0m \u001b[0;34m\u001b[0m\u001b[0m\n\u001b[1;32m    280\u001b[0m def subf(pattern, format, string, count=0, flags=0, pos=None, endpos=None,\n",
      "\u001b[0;31mKeyboardInterrupt\u001b[0m: "
     ]
    }
   ],
   "source": [
    "num_epochs = 100\n",
    "training(\n",
    "    model, opt, loss_fn, num_epochs, \n",
    "    train_dataloader, val_dataloader, \n",
    "    log_every_n_batch, model_dir, vocab,\n",
    "    beam_kwargs=fast_beam_kwargs\n",
    ")"
   ]
  },
  {
   "cell_type": "markdown",
   "metadata": {},
   "source": [
    " "
   ]
  },
  {
   "cell_type": "markdown",
   "metadata": {},
   "source": [
    "<img src=\"images/training.jpeg\" width=\"400\" height=\"400\">\n",
    "\n",
    "\n",
    "После того, как напишете весь код и запустите обучение вашей первой модели, примерно после 5-6 эпох качество модели достигнет 30-35% WER.\n",
    "\n",
    "# Как можно улучшить полученные результаты\n",
    "\n",
    "<img src=\"images/pronunciation_or_not.jpg\" width=\"400\" height=\"400\">\n",
    "\n",
    "Далее описаны несколько способов, которые могут помочь улучшить качество. Потенциальный прирост обозначим ★, чем больше звездочек, тем более хорошее улучшение качества можно ожидать."
   ]
  },
  {
   "cell_type": "markdown",
   "metadata": {},
   "source": [
    " "
   ]
  },
  {
   "cell_type": "markdown",
   "metadata": {},
   "source": [
    "## Beam search ★★\n",
    "\n",
    "На лекции обсуждали, что beam search помогает достичь более хорошего качества, чем greedy декодирование.\n",
    "\n",
    "Изучить алгоритм можно [тут](https://medium.com/corti-ai/ctc-networks-and-language-models-prefix-beam-search-explained-c11d1ee23306) и [тут](https://drive.google.com/viewerng/viewer?url=https://arxiv.org/pdf/1408.2873.pdf)\n",
    "\n",
    "Код для beam search посмотреть [тут](https://github.com/PaddlePaddle/DeepSpeech/blob/master/decoders/decoders_deprecated.py). (Отредактировать при необходимости )"
   ]
  },
  {
   "cell_type": "markdown",
   "metadata": {},
   "source": [
    " "
   ]
  },
  {
   "cell_type": "markdown",
   "metadata": {},
   "source": [
    "## Внешняя языковая модель ★★★\n",
    "\n",
    "\n",
    "Внешняя языковая модель позволяет улучшить качество, т.к. убирает условную независимость соседних символов, которая свойственна ctc лоссу.\n",
    "\n",
    "Этот пункт состоит из двух этапов: сначала надо обучить языковую модель, затем встроить ее в beam search.\n",
    "\n",
    "#### Обучение\n",
    "\n",
    "Для обучения n-gram языковой модели можно использовать фреймворк kenlm.\n",
    "Документация: \n",
    "* https://kheafield.com/code/kenlm/\n",
    "* https://github.com/kpu/kenlm\n",
    "\n",
    "Модель сначала строится в формате arpa, затем ее лучше перевести в формат trie. Вызывать полученную модель можно через питон [ссылка](https://github.com/kpu/kenlm#python-module)\n",
    "\n",
    "\n",
    "#### Данные\n",
    "\n",
    "Для обучения модели конечно нужны данные :) Тут есть варианты:\n",
    "\n",
    "1. Можно обучить маленькую языковую модель на текстах из акустических обучающих данных (из трейна!).\n",
    "\n",
    "минусы: этих данных мало\n",
    "\n",
    "плюсы: домен остается таким же\n",
    "\n",
    "2. Можно взять внешние данные, например, [отсюда](http://data.statmt.org/cc-100/). (46G).\n",
    "\n",
    "минусы: тексты из другого (произвольного) домена\n",
    "\n",
    "плюсы: данных много\n",
    "\n",
    "При необходимости, данные надо предобработать - привести к нижнему регистру, разделить на предложения. Убрать предложения, которые содержат символы не из русского алфавита \n",
    "\n",
    "\n",
    "#### Внедрение в beam search\n",
    "\n",
    "В разделе про beam search есть ссылки на алгоритм.\n",
    "\n",
    "Можно использовать аргумент `ext_scoring_func` [тут](https://github.com/PaddlePaddle/DeepSpeech/blob/master/decoders/decoders_deprecated.py#L47).\n",
    "\n",
    "Пример скорера можно найти [тут](https://github.com/PaddlePaddle/DeepSpeech/blob/master/decoders/scorer_deprecated.py)"
   ]
  },
  {
   "cell_type": "markdown",
   "metadata": {},
   "source": [
    " "
   ]
  },
  {
   "cell_type": "markdown",
   "metadata": {},
   "source": [
    "## Аугментации ★\n",
    "\n",
    "\n",
    "Позволяют искусственно увеличь размер обучающей выборки, сделать его более разнообразным.\n",
    "\n",
    "### Аугментации аудио \n",
    "\n",
    "Применяются к аудиосигналу. Аугментации обычно реализуются через [sox](https://ru.wikipedia.org/wiki/SoX_(%D0%BF%D1%80%D0%BE%D0%B3%D1%80%D0%B0%D0%BC%D0%BC%D0%B0)). [Тут](http://sox.sourceforge.net/sox.html#EFFECTS) можно посмотротреть полный список sox эффектов с описанием. \n",
    "\n",
    "Полный список sox эффектов, доступных в torchaudio, можно посмотреть [тут](https://github.com/pytorch/audio/issues/260).\n",
    "\n",
    "Эффекты можно комбинировать.\n",
    "\n",
    "Внимание!\n",
    "\n",
    "* Аугментации надо применять очень аккуратно (!) - слишком сильные аугментации только ухудшат качество. Лучше применять аугментации с некоторой вероятностью.\n",
    "* Применять **только на обучающую выборку, не на валидацию!**\n",
    "* Некоторые аугментации меняют sample rate и длину аудио.\n",
    "* Можно применять не открывая предварительно аудиофайл [ссылка](https://pytorch.org/audio/stable/sox_effects.html#applying-effects-on-file).\n",
    "\n",
    "\n",
    "Примеры:"
   ]
  },
  {
   "cell_type": "code",
   "execution_count": 81,
   "metadata": {
    "ExecuteTime": {
     "end_time": "2021-03-21T08:34:11.739128Z",
     "start_time": "2021-03-21T08:34:11.722298Z"
    }
   },
   "outputs": [],
   "source": [
    "def augment_audio(audio, sample_rate, effects):\n",
    "    \n",
    "    effects = [effects, ['rate', '8000']]\n",
    "\n",
    "    augmented_audio, sample_rate = torchaudio.sox_effects.apply_effects_tensor(\n",
    "        torch.unsqueeze(audio, 0),\n",
    "        sample_rate=sample_rate,\n",
    "        effects=effects,\n",
    "        channels_first=True)\n",
    "    \n",
    "    return augmented_audio"
   ]
  },
  {
   "cell_type": "code",
   "execution_count": 88,
   "metadata": {
    "ExecuteTime": {
     "end_time": "2021-03-21T08:34:27.027263Z",
     "start_time": "2021-03-21T08:34:26.995944Z"
    }
   },
   "outputs": [
    {
     "data": {
      "text/html": [
       "\n",
       "                <audio  controls=\"controls\" >\n",
       "                    <source src=\"data:audio/wav;base64,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"
      ],
      "text/plain": [
       "<IPython.lib.display.Audio object>"
      ]
     },
     "execution_count": 88,
     "metadata": {},
     "output_type": "execute_result"
    },
    {
     "data": {
      "text/html": [
       "<b>limit_output extension: Maximum message size of 10000 exceeded with 104740 characters</b>"
      ]
     },
     "metadata": {},
     "output_type": "display_data"
    }
   ],
   "source": [
    "sample_rate = 8000\n",
    "audio, audio_len = open_audio('test_files/test_audio.mp3', sample_rate)\n",
    "Audio(data=audio.numpy(), rate=sample_rate)"
   ]
  },
  {
   "cell_type": "code",
   "execution_count": 83,
   "metadata": {
    "ExecuteTime": {
     "end_time": "2021-03-21T08:34:14.607281Z",
     "start_time": "2021-03-21T08:34:14.588493Z"
    }
   },
   "outputs": [
    {
     "data": {
      "text/html": [
       "\n",
       "                <audio  controls=\"controls\" >\n",
       "                    <source src=\"data:audio/wav;base64,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"
      ],
      "text/plain": [
       "<IPython.lib.display.Audio object>"
      ]
     },
     "execution_count": 83,
     "metadata": {},
     "output_type": "execute_result"
    },
    {
     "data": {
      "text/html": [
       "<b>limit_output extension: Maximum message size of 10000 exceeded with 104740 characters</b>"
      ]
     },
     "metadata": {},
     "output_type": "display_data"
    }
   ],
   "source": [
    "augmented_audio = augment_audio(audio, sample_rate, ['treble', '20'])\n",
    "Audio(data=augmented_audio.numpy(), rate=sample_rate)"
   ]
  },
  {
   "cell_type": "code",
   "execution_count": 90,
   "metadata": {
    "ExecuteTime": {
     "end_time": "2021-03-21T08:36:13.483037Z",
     "start_time": "2021-03-21T08:36:13.461561Z"
    }
   },
   "outputs": [
    {
     "data": {
      "text/html": [
       "\n",
       "                <audio  controls=\"controls\" >\n",
       "                    <source src=\"data:audio/wav;base64,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"
      ],
      "text/plain": [
       "<IPython.lib.display.Audio object>"
      ]
     },
     "execution_count": 90,
     "metadata": {},
     "output_type": "execute_result"
    },
    {
     "data": {
      "text/html": [
       "<b>limit_output extension: Maximum message size of 10000 exceeded with 104740 characters</b>"
      ]
     },
     "metadata": {},
     "output_type": "display_data"
    }
   ],
   "source": [
    "augmented_audio = augment_audio(audio, sample_rate, ['bass', '20'])\n",
    "Audio(data=augmented_audio.numpy(), rate=sample_rate)"
   ]
  },
  {
   "cell_type": "code",
   "execution_count": 85,
   "metadata": {
    "ExecuteTime": {
     "end_time": "2021-03-21T08:34:15.040078Z",
     "start_time": "2021-03-21T08:34:15.017892Z"
    }
   },
   "outputs": [
    {
     "data": {
      "text/html": [
       "\n",
       "                <audio  controls=\"controls\" >\n",
       "                    <source src=\"data:audio/wav;base64,UklGRiQyAQBXQVZFZm10IBAAAAABAAEAQB8AAIA+AAACABAAZGF0YQAyAQAAAAAAAAAAAAAAAAAAAAAAAAAAAAAAAAAAAAAAAAAAAAAAAAAAAAAAAAAAAAAAAAAAAAAAAAAAAAAAAAAAAAAAAAAAAAAAAAAAAAAAAAAAAAAAAAAAAAAAAAAAAAAAAAAAAAAAAAAAAAAAAAAAAAAAAAAAAAAAAAAAAAAAAAAAAAAAAAAAAAAAAAAAAAAAAAAAAAAAAAAAAAAAAAAAAAAAAAAAAAAAAAAAAAAAAAAAAAAAAAAAAAAAAAAAAAAAAAAAAAAAAAAAAAAAAAAAAAAAAAAAAAAAAAAAAAAAAAAAAAAAAAAAAAAAAAAAAAAAAAAAAAAAAAAAAAAAAAAAAAAAAAAAAAAAAAAAAAAAAAAAAAAAAAAAAAAAAAAAAAAAAAAAAAAAAAAAAAAAAAAAAAEAAAD+/wAAAQABAAAA/f/7/wMAAQD///7/AgACAP//AAD9/wUACAAAAPf/+P8GAAcADAAGAPL/9v8KABkA8/8jAAIA/f8eACMA9v9E/wcAgwCN/67/kgCP/77/NgHr/87/swGDACL/gQGcAMP9WwDBAP39KwBCATb+df9HAeP+qv8iAdv+A/+5AUcAOP8SAm4AuP6UAVYAOf7oAFMA/P0zAPcALP4N/7UBjP+z/lcBiABv/i8BYAGG/rgANwGU/ngAbQHu/n7/cAAV/9r+UQAnAKT/QQB9AG8AEwC+/wUBBwCY/qgAYQDx/rkADAH3/pr/EQC1/mD/CAFM/0b/HgF0/5n/UwGWAPX/fwBuANT/j/9kAFYAH/90/44AEwAw/5cAdQFK/2T/MwG9/w//EAGfAIr+ZQD1AFj+CwAEAeT+NADcAPT+9P/mALj/x/8EAGz/BQBUADL/JwAGABr+qv9kAO3+EgBDAdv/w/9DAfH/pf5oAAwBx//u/zABJgAW/xsB9gBo/k4ACwFo/qgApQH//WH/QQIH/6j+cQITAO/9JwGEANL9DgDjAAf+sP81Ahv/n/57Ak0A+P07AdsA8/5NAOwAGwCQ/+7/wQCm/yj/YgCi/yz/UAAZAMD/VwAWANb/+P+s/+T/FgAvAMQA1/8BAPsADv+l/1kBh/9x/wEBsP+i/zoAUf8QAMYAhf+E/zcBqf/g/vEAFgA3/jIARwG//rP/EwJh/+3+zAHw/5X+xADHAEr/lf+gAR0AO/6gAQgAOv0fAaEACv7FAFoBRv/z/94Aj/8I/3IAfwA8/2wAEwGU/yAAxQDu/+P/UQBvAK//y//hAIH/uv+KAWf/sf6OARkAJv5BAe0AM/4UABYB6P5f/9MAOv8f/xABBADV/uYAxgCk/h8A9gBg/+n/tQArAMb/tv9vABYAGv8gAB8ALP8BAFAAt/8gAEUAzP/5/9f/xv8PABgAowAlALb//QCZ/xT/PwEeABH/1QAlAF7/SwB9/7f/ygDt/zD/9gBSAKb+fACuAGb+bf97AV//8P7lAVIAZv5UAcsAcP43ABQBnP87/zIB+QAg/r0AMQE2/QYAewEx/uH/uAGp/4z/3ADy/+P+AQC5AHv/AABCAcz/1P/YAPD/7P9RAB8ADgDM/4sAJABu/xUBWgCb/roA3AA9/icASQHG/k3//ADu/1H/TwAQAHf/4v/r/87/2//U/8v/qv8cAOr/5/9EAOL//v/U/8D/LwCD/7r/kwDK/57/VwD5/43/XwDn/67/hwD8/5z/OgAXAJn/UgB+AJ7/CAAcAef/hP+zAPD/dP+PAF0A9v8LAOL/ZgDI/2T/egAeAKX/AwDH/1gAyf9z/9cAOwBY/4sAaQCL/10AcQDN//T/qADY/4H/5QDp/9f+sQBKAEH/BgDT/+P/uf8aAHEAof8LAEQAm/+GAEoAO/8/AFkA4f/3//7/OQBi/6j/EgFQ/63/HAHL/tT/GgEC/6//jgATAML/oP/fAEIACf96AI0ABv/o/3cAO/9//3cAhP/v/mYAJwDd/jcAxwBS/0cAEQHH/7r/ngA5AJT/ZwB4AIr/OwBtAEX/4f9NAIj/y/+EAIcABADQ/7IAbQBV/yQALgCa/y0AaAAfAOr/5v8wAAsAIABIAHT/Yf+gAPf/HP9CAAIApP9GAAYAGQBOAMr/EgAdACQARAAPAE8A9v8YADQApv+IAGQA1/97AIf/2v+TADf/iP9VAMn/uv8YAEEA9v/L/5kA/f/8/k8AFgAa/zUAUgAu/4L/aADO/6r/LAAoAPL/hP/6/0cA4P+t/xUAYQDU/w8AFgCF/+z/CQCl//b/3v/y/4IA4P/1/2YA2/8dAAoA/P9uAML/qf/h/xgAaQBo/5X/aACG/7L/rQBfAEAAFADd/yMAvv9jAFMAeP+TAPL/l/+YAO//8/8xAMv/zv/6/y4AUABAADsAOQAAACoAEABwAMsA4P/3/0cAvP/P/8j/zf8kAHn/tv+HAAoA6/8jAPr/9f/0/1MATwDU/yMAAwC8/0oA+P+S/zgAAgC6/9X/FAA7AHj/5v9vAKL/9v8nAMP/+f/9/0sA7P+U/34A8f9q/24A4/93/1MAFwDC//D/RgA+AG//HgA3AEH/GgAKAJ3/IQABABwAaf+Q//8AwP+r/7YAxP+2/00AEQDs//X/SgD9/0H/cAA8ACP/UQDb/27/CwDF/1IAqP+l/50Aj/9+/6sA8f+E/9z/sP9BAKz/3P8BAVr/cP9EAJD/LgAPAEUAzwDE/7r/VgDm/ykAEwCj/yMAJgDR/xoAXQAAANL/BQDM/6z/8/9HACIA4P8NAJ//sP9qAA0AyP+JABsAgP/j/ygAQACq/wYApgDE/0QAjQCz/yQAegAAAAAAvgB/AK7/GgCpAK3/iv//ADQAIf+QAMMAh//k/7YAvv9+/0wAPwCN/+//IQGM/1b/bwAT/0j/LwAyAN3/sf9PAD7/PP9pALv/n/9VAC4AcP8YAJkAi/93/4gAxf8+/3sAJgC1//z/BwCY/2v/dAALAK3/FwE9AN/+OQA1AWL/gP9AAUYAav9SADYBdP9n/1ABDQAs/6AA3AC3//z/QACW/6b/3f8eANX/4v9dAHn/RwCbAMz/fwBLAHL/Vv8CAPD/Jf+J/1gAmP/4/iEA/P++/3oABwBPANn/0/+rALX/TQCbAJL/vP8zADgAb//+/4wArP+0/3wAEgBt/8IAegCG/14AfgDf/6H/jwBiAPP+DQDLAC7/v/8fAb7/uv8+AID/ff+R/2EA5f9u/3wA5P9y/37/lP/f/+P/FgA5AEwAa/8yAO8AwP85AOoAhQDz/zEABQEeAH7/pADjAFL/rf+PAOD/5v/q/4IA0/9H/4YAHQDr/y8A+P9UAOP/m//5/wUABQDT/6L/LQDa/4j/AADm/0cAHgBq/+D/DQDn//b/0f8lAAMAEgABALn/JAAJAAgA9v+q/1cAJgCl/ygAggDq/2n/KgBKAHj/0P8PAcf/O//NADoASf+P/7EAAgDe/jQAbAB+/47/cwD7/8P/3gC//zf/fADTAKj/jv8sAdf/8P6tAM8AhP8zABABSv+z/3cA3f98/8f/VAB2/6D/XgCq/wEAYACA/9f/GACN/4f/NwABAJz/rf9rAEYAIf9oAA0BU//b/wEB///X/2MAYACy/23/dwAmADL/SABJAKP/GABSAAgAm/9ZAG8Aa//Y/+4Awv9S/68AKACA//L/0wAKAC7/hgB+AIP/4f+jAM7/Jv84ADgAbP+u/3wAu//N/+oAt/9s/5UAigBc/8//CwGg/zH/vwCrAG3/TwDhAFT/2P9mANz/gf/m/0UAcf++/1EAnP8ZAEoAeP/o/w8Af/+Y/z8A8/+Y/7j/fwAiACL/mwDrADb/CgABAe3/5f91AF4AlP9z/5oAAAAS/3wARQCG/y4AYwAAAJj/cQB5ADr/3v8hAYX/bf/3APv/lv/8/7wAMwAJ/3AAuwCv/ywAfgCz/3D/JAAFAF//2P9zAGn/2P/+AM7/uP+YAPL//f4yAI4Ao/+c/6UAeQBP/yAAkgABAMr/TAAaAMv/JgAdAAMAz//Q/7f/ov8gAOP/6P83AGoAIwAMAFQAp//s/9n/4P8NALj/IwACANz/ewAiAGb/JgAxAIX/EgAnABEAwf95/6cA2P9B/04A0f9//w4AEwDk/+D/tf8yAKP/y/+IAHP/SwCGAG//egBLAGL/BQD0/9L/wv+x/0wASwC0/1EAuwDI/w4AZAAwACgABQAfACUAqf8UAFMA7v9MAA8As/+//8v/HAATAMD/HgCs/8D/KAD4/xYA3P8ZABMA+P/h/wgARAAWAOT/NAB9AIH/6P+WAMr/GwA5APP/+P/g/2AA6f/G/zYAGQAFANX/FAAKAL//GwCAAOz/sf+FAB8Alv/x/2AAIACw/4YACQBS/0EAWQCm/8f/EAAXAAcAtf9YAB0ALv81ADgAt/8HAP3/WgAqAOf/RwBEAMr/7f8nAOD/x/8hAPP/Mv/s/x8AiP8rAFIAAADO/8H/LwCY/4r/YwAIAJH/9P8yAJ7/IABwAOj/HwAgAML/m/+g/xEA9/+B/y8ACgBy//7/OwAEAAcA1f9AAC0Az/8hAEsAKQD4/1AALQD2/1EAHAAUACwAxv8YACUAAwA7AGYARwD///H/JQAzAM//AABNAN//pv8lAEEAxf/v/ykAxv+q/+X/RAAYAOv//f/i/8X/uv8UAC4AyP/p//v/0v/H/wYASwD3//7/FQAKAAMAIQBEADgANQA+AAgADgAYAAMABAALAAIACQC//77/VgAHALf/3/8sAAcA6f8HAC8AFwCy/+T/7/+u/57/8/8sAI//7/8XAJf/DQAfACIAKADx/x4AJgDP//b/DgDd/+j/IwAyABwA/P8TAE0Ayv+m/0EAIQDC/wMAXwAfAKD/5v9XAAkAyf8SACwA4/+k//7/PQDT/+D/IwDd/6r/0v8zADUA4f/Y//T/3//H/woALwDk/+r/8v/s/9b/AABIAP////8ZAA8AAwAiAEYAOQA1AD8ACAAOABgABAAEAAsAAgAJAL//vv9WAAgAt//e/ywABwDp/wcALwAYALL/4//w/67/nv/w/zAAkP/o/xkAm/8PABsAJwAuAPf/FgAmAM//6v/7/8X/4f8SADIALgDU/w0AawCV/5L/WgAfAJX/2/9YAAAATf/b/4UA4//A/ykABQDo/6H/yP82AOr/x/8ZAAYAq/+t/w4AdwDK/3j/IwAvAO3/6/8tAFoA6//H/3QALwDb/zIANAAOAD0AVQABAEMAoABjAOL/QgB/APv///9DAAkAvP81AFoA6P+w/9f/z//X/wcApv+Q/xMAx/97/wwAHQDQ//b/WwA7AIP/zv+EALX/ZP8CAOH/p//H/z0AWQB//9//5QD//z//BQCBANL/af8pAIMAvv/D/3sAMwDO/ygAYADD/7j/jwBMAL//KQCKADIArP9PAHAAo//2/2gAxv+i/2YARwCu/6z/fgBIAHr/HgBTAIz/df8AAAYA1f/w/yMA4/+p/w0A6v+W/9j/4/+F/5X/MwAbAFT/hP9MAOr/O/8YAG8Anf/m/30A3v90/ykAogAQAJ//kgC3AK3/EADFABYAo//w/5UAmgC4/yQAtQDS/7f/PADg/7D//f88AAQApv8mAIgA3f/F/ywAwv/V/w0A+P8LAO7/MQApAKf/vf8tAMf/pf9ZAEEAsv+x/1gAKgBn/xEAsgCh/1n/mQA3AIT/RQCbAAEATv8+AOIAtf/a/3oANAAUAAIADAAmAPD/6P8FABYAKAAdABAA///k/9//DwCz/6v/PAA2AND/+P8gAOv/rf/Q/zsA8f/a/wwA1v/U/xgANADo/3j/4v8PAJ3/u/81APb/wv8lABcA0//J/1QAVwDI/xIAWACs/7X/LwABAOT/+v8HAC8AFgAFAC0A+v8QAP3/+/8tAPr/6v9QAEgAAAABABAALgDz/wYAaQAXAOf/IgDx/+j//P/8/83/5v87ABQA3P/2////qv/B/wsA4P+t/wYAIADa/+z/EQAAALP/m/8hAB0Ayf8iACoA9v/y//b/AgAJAAAAAADj/+P/CAAmADoA4P/J/wYA3P/M/ygAFgDW/wsANgD2/8r/NQBbANr/7P9eAOv/vP8jAAoA3P/3/wkAHgALAAEAKgD8/wgAAgDx/x8AAQDo/0EATAAAAP//DQAqAPn//P9lACQA4/8hAPf/5v/7//7/0v/d/zcAHADe//H/AgCu/7b/CQDm/6D/+P8nANr/5v8aAAIAuP+T/xAAHwDD/ygANAD4/wgADgDs/wsAGAD8/+j/7v8BABUAZgA5AMX/8f8PAOf/HAAuAPj/7/9PACYA1f8TAFAA+P++/08ATwDp/w4AEgDQ/+3/FAD6/9T/+v8fAPn/8f8GANj/1/8AAAAADwAnAO3/4v8LAOD/y/8LADAAGgDl/wYAKwCb//T/UwD7/9L/TwBWANX/DQALAML/mv8YADUAzf8bAD4A1f+i/wsASQCy/+z/cAD+/6X/GABPALP/qP/3/wAA5/8FADQA+P/G/8f/3v/v/+3/7//z//X/yP8AADwACAAUACEAEwDq/ycAYQDs//L/RgBfADAAEABLABwA2f8aAF0AHwAOAEQADgD6/xIAEgAJAPz/9P/e/97/JgASAMr/BQDm/5//2P8GAPD/tP+x/yAA+//s/+n/3v8YAMn/f//6/zUAsP/a/wMA//+b/4D/NgATAIn/9v9wAPv/yv9lAHsACwAEAEsAMgD7/xgA+P8CAB8A+P/z//7/FwAUAAIAGQAsAA4AJABsAO3/zP9ZAGMACgABADMADADr//X/LAAXAL7/1f8JAAUA7f8AAEUACgCv/+b/AgD8//L/3P/3/+v/uf/5//3/xf8lADgAzf/4/0QAKQDd/9P/TQBFAN7/5f8tAO//rP/z/0gAKwDv/ycADQDo/ykAGwAFAEsAHgD3/zAAAgABAA0A7v/M/8f/DwAmAOT/tf80ABMAnf/Y/yEA+//y/ycAJgDo/9P/KgDq/6v/LgBNALn/2v8jADMA+//b/yYA/v/v/xQACQABAPv/2f8OAOr/l/8EACsAuv/k/ycA9//C//b/AwDa/w8AVQAoAPz/LQAIAPv/4P/0/9r/2P8sABkA5f8DADUABgDZ/yIASwDZ/+3/SAAWAOr/PwBiAPv/oP8iADwA2f/o/zYAIwCt/wIAEgDU/9n/UgBPALX/FABaAOb/j/8JAF0Ap/+o/2kAMwCQ/9n/OQDP/5L/JwBJALb/+P9wABsA2v8JABMA3v/P/wsA+v+n/87/FwDk/77/6v8rAAAAwP8dACsA2//z/wkA1v8DADgANgACABQAIQDx/+P/+v/0/8L/DgA3APz/5/8kACgA6P/u/04AFwDH/yMAQADw/wsAYgA+ALj/zv9RAAIA0v8IAE0A2f++/ygA9P/M/wgAhwD6/8z/WgAzAKv/qP9oABkAS/8EAJkAyf96/xgALQCL/5T/ZgAqAJv/YwB2ANn//P8PAPr/pv+8/x8AjP87/y8ABACK/yEAIwAiAPT/6P9nAA8ADQBKAK3/9P9sAPb/8/8NABAABAB3/xcAawCZ//n/ggBAAN//AAAvACcA6f8OAHUAIwDY//f/LgD3/7L/AQASALn/rP8CACMA0//m/xUA7f/W/x8AMQC2/9b/HADj/7//DABGALL/xP9UABMA+P8jACgA5P/p/0oAEwC4/3wAuQDF/9H/ZAAZAIn/2/96ANj/cf+FAFcAaP/Y/2YADQCh/zQA3AAHALL/jAAUAIT/5f82ABEAVv/W/2gAgf+b/0UA8f/k/zUAQAAyAO3//f8QAMH/zv8bAAIA+/8NAOD//v8OAAUA8f/a/wAA1P+//yUAGwDo/xoA+v8VAOX/sP9dADAAwf8dADwA+P/O/x0AsgAAAHz/gAA+AIr/+/8zAPX/jv8NAHkAvP+w/18A9P9a/wQATgD2/wEAPAAbAF//mv9vAAMA2f9EAD4AtP96/w0ASADD/8H/fADZ/4n/TQBMAA4A4/9CAGYAvv8IAIoA9P/8/zAA+P/M/+H/OADp/83/JQAxAPH/1/8UAPn/2P8gAA4Apv/+/xwA3//Y/77/JQDX/8b/jQAMAIr/GgAdALf/+f9oADYAsf8HAHQA6//J/2kAGgCF//z/FQDk//D/LQBPALr/m/8iAAUAyf8/ACQAyv/h/w4ALwAPAA4AUwD+/+D/aAD7/+v/PQDG/+v/9/+v//f/DQDc/9f/7v8OAOn/oP8YAA8A8P8xAPL/uP/L//3/DADr/w0ANgDQ/zAAagDf/+P/NgD5/7n/3P8xAOP/jP9YAD8AqP+8/0oAMgDL/2sAZAC2/9P/OgAYANP/BgBEANz/vP9BAB0Atv8IACUA0f/g/y8AUQDB/6L/HADd/93/KAAfAB4A8v8DABoA6f8LADcA4P/l/ysA4f/z//n/BgAXAL//DgA4AKr/7v82ANv/2P8JADEA4//V/18ARADQ/ysATQCy/9r/KQD//+3//P9FAPj/jf/6/yMAxP8MAEIA3f/R/wYALAAaAP3/PgAvAMn/QwA6AMz/OAD0/8f/CwC7/9X/EwDu/9L/5v8BAAgAp//j/y0A5v8jABMAxP+9/+z/DAD5//D/PADx//P/dwARAMn/IgAeAMT/xv8UAB0Ahv8HAHMA0f+g/xMAXgDW/yMAkADs/67/HgA1AOP/5f89AA8Aqf8TAEUAw//g/zAA3v/M/w4AXwAGAH7//P/5/8L/JQAgAB8ADwD2/yAAAAD5/zkAEwDb/ycA+f/g/yQADgAbAPn/wf8JAOL/zv86APv/5v/J/9j/BgDa/yUAeQAoAAEAPADw/+z/LwAvABAA0v/w/xQArf/h/ycAw//V/yEA+/+4/x0AZwAJAL//CQA0ANj/BwBoABkAAQAmABUA2P/n/14ABQDS/yQACQDM/83//P8OALv/u/8UAOD/uP/+/wsA0P8GADQADAAcAPn/+P8RAOn/JwBJAB0AGwAFAAAADQADAPf/4v/J/7z//v8jACMACwACAOL/4P8UAOT/PgBWAAoA4//d/xcADgD0/wAAJAAFANX/yv/1/wUA1f+2/5n/u/8EALj/2f84ALn/v//W/7T/BwAJAP3/QQASAPb/KAAkAC0AIgAkADAAIQAHAFQANwD0/0QAKgAJAB8ATQAdANn/HwBdAO//6/9CAPz/CQADAAEA/v/t/yEAEwDk//r/FAC8/7//EwABAMb/0P/d/+D/5P/r/+7/7P/4//3/HgAcAEEANwAVAEwANQAEAPr/6f8KAPP/xf8FAAoA3//m/xEAEwDn//T/CAANACsAKAAyADEABgAZAEUAJAAHABQA1v/G/+7/9f/W/9v/EADo/87/FQDy/5f/9f9FABIA9v8JAC4AAADe/w4ABwDf/xQAEADm/wcAFgD3//f/JgDV/+3//v/V//r/+/8LANf/4P8YAM7/u/8GAB0A9v/5/ygADgABAA0AMAARAP3/GQD0/9b/AQAPAOT//f8cABUA2f/3/xQArf/A/+b/7P/W/8H/IwAAAAcACwDz/xcA5P/1/w4AHAAoACAAIQAvADkAKgA3ADEACgAVABEA5v8GAPT/0//u/w4AMgD9//T/FQAdAB8AGAA2AEMAAgDn/x0AJQD8/+7/+v/L/8b////z/+7/CQD7/9b/7v8AALj/2P8+ACkA+P/6/ygABADZ/wAACwDp////HQDq//P/EgAAAOf/JADz/9n/CADX//H/+/8JAOv/zv8TAOr/sP/y/x8AAgDt/yAAGQABAAcAKAAiAPn/FQADANf/8f8WAOz/8P8WAB4A6v/g/x4Ayf+s/+T/6P/m/7f/CwAVAPn/GADu/xYA9f/n/w0AFgApACEAGgArAD0AJgA2AEcAHQAVAB8A9f"
      ],
      "text/plain": [
       "<IPython.lib.display.Audio object>"
      ]
     },
     "execution_count": 85,
     "metadata": {},
     "output_type": "execute_result"
    },
    {
     "data": {
      "text/html": [
       "<b>limit_output extension: Maximum message size of 10000 exceeded with 104740 characters</b>"
      ]
     },
     "metadata": {},
     "output_type": "display_data"
    }
   ],
   "source": [
    "augmented_audio = augment_audio(audio, sample_rate, ['pitch', '400'])\n",
    "Audio(data=augmented_audio.numpy(), rate=sample_rate)"
   ]
  },
  {
   "cell_type": "code",
   "execution_count": 86,
   "metadata": {
    "ExecuteTime": {
     "end_time": "2021-03-21T08:34:15.232224Z",
     "start_time": "2021-03-21T08:34:15.213735Z"
    }
   },
   "outputs": [
    {
     "data": {
      "text/html": [
       "\n",
       "                <audio  controls=\"controls\" >\n",
       "                    <source src=\"data:audio/wav;base64,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"
      ],
      "text/plain": [
       "<IPython.lib.display.Audio object>"
      ]
     },
     "execution_count": 86,
     "metadata": {},
     "output_type": "execute_result"
    },
    {
     "data": {
      "text/html": [
       "<b>limit_output extension: Maximum message size of 10000 exceeded with 69924 characters</b>"
      ]
     },
     "metadata": {},
     "output_type": "display_data"
    }
   ],
   "source": [
    "augmented_audio = augment_audio(audio, sample_rate, ['speed', '1.5'])\n",
    "Audio(data=augmented_audio.numpy(), rate=sample_rate)"
   ]
  },
  {
   "cell_type": "code",
   "execution_count": 87,
   "metadata": {
    "ExecuteTime": {
     "end_time": "2021-03-21T08:34:15.447809Z",
     "start_time": "2021-03-21T08:34:15.430075Z"
    }
   },
   "outputs": [
    {
     "data": {
      "text/html": [
       "\n",
       "                <audio  controls=\"controls\" >\n",
       "                    <source src=\"data:audio/wav;base64,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"
      ],
      "text/plain": [
       "<IPython.lib.display.Audio object>"
      ]
     },
     "execution_count": 87,
     "metadata": {},
     "output_type": "execute_result"
    },
    {
     "data": {
      "text/html": [
       "<b>limit_output extension: Maximum message size of 10000 exceeded with 69924 characters</b>"
      ]
     },
     "metadata": {},
     "output_type": "display_data"
    }
   ],
   "source": [
    "augmented_audio = augment_audio(audio, sample_rate, ['tempo', '1.5'])\n",
    "Audio(data=augmented_audio.numpy(), rate=sample_rate)"
   ]
  },
  {
   "cell_type": "markdown",
   "metadata": {},
   "source": [
    " "
   ]
  },
  {
   "cell_type": "markdown",
   "metadata": {},
   "source": [
    "### Аугментации спектрограммы\n",
    "\n",
    "[SpecAugment: A Simple Data Augmentation Method for Automatic Speech Recognition](https://arxiv.org/pdf/1904.08779.pdf)\n",
    "\n",
    "Методов [Frequency masking](https://pytorch.org/audio/stable/transforms.html#frequencymasking) и [Time masking](https://pytorch.org/audio/stable/transforms.html#timemasking) должно быть достаточно."
   ]
  },
  {
   "cell_type": "markdown",
   "metadata": {},
   "source": [
    " "
   ]
  },
  {
   "cell_type": "markdown",
   "metadata": {},
   "source": [
    "# Что еще можно попробовать: \n",
    "\n",
    "1. Поэкспериментировать с learning rate, оптимайзером (например, взять SGD). Можно добавить [lr decay](https://pytorch.org/docs/stable/optim.html#torch.optim.lr_scheduler.ExponentialLR) ★\n",
    "2. Поэкспериментировать с нейронной сетью и восттановлением из чекпоинта. Например, зафиксировать предобученные слои и дообучить остальные, потом с маленьким learning rate дообучить всю модель. ★\n",
    "3. Добавить новые слои в нейронную сеть. ★★\n",
    "4. Использовать больше данных. ★★★\n",
    "<img src=\"images/more_data.jpg\" width=\"400\" height=\"400\">\n",
    "\n",
    "В этом случае для ускорения можно запустить распределенное обучение на нескольких gpu с помощью [horovod](https://github.com/horovod/horovod). Данные можно взять тут:\n",
    "\n",
    "* [open_stt](https://github.com/snakers4/open_stt) (до 2.5 TB данных!)\n",
    "* [Russian LibriSpeech](https://openslr.org/96/) (9 GB данных)\n"
   ]
  },
  {
   "cell_type": "markdown",
   "metadata": {},
   "source": [
    "5\\. Не использовать чекпоинт и обучить свою сеть :) ★ (потребуется больше данных!)\n",
    "\n",
    "6\\. Shallow fusion - можно обучить дополнительную языковую модель и использовать в качестве рескорера \n",
    "[ссылка](https://arxiv.org/pdf/1503.03535.pdf). ★\n",
    "\n",
    "7\\. Реализовать перемешивание батчей. ★\n"
   ]
  },
  {
   "cell_type": "code",
   "execution_count": null,
   "metadata": {},
   "outputs": [],
   "source": []
  }
 ],
 "metadata": {
  "kernelspec": {
   "display_name": "Python 3",
   "language": "python",
   "name": "python3"
  },
  "language_info": {
   "codemirror_mode": {
    "name": "ipython",
    "version": 3
   },
   "file_extension": ".py",
   "mimetype": "text/x-python",
   "name": "python",
   "nbconvert_exporter": "python",
   "pygments_lexer": "ipython3",
   "version": "3.6.9"
  }
 },
 "nbformat": 4,
 "nbformat_minor": 4
}
