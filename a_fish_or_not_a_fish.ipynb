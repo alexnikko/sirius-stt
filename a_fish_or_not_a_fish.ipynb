{
 "cells": [
  {
   "cell_type": "code",
   "execution_count": 1,
   "metadata": {
    "ExecuteTime": {
     "end_time": "2021-03-23T11:57:45.953339Z",
     "start_time": "2021-03-23T11:57:45.923047Z"
    }
   },
   "outputs": [],
   "source": [
    "%config Completer.use_jedi = False\n",
    "%load_ext autoreload\n",
    "%autoreload 2"
   ]
  },
  {
   "cell_type": "code",
   "execution_count": 2,
   "metadata": {
    "ExecuteTime": {
     "end_time": "2021-03-23T11:57:46.794976Z",
     "start_time": "2021-03-23T11:57:46.785792Z"
    }
   },
   "outputs": [],
   "source": [
    "import warnings\n",
    "from pprint import pprint\n",
    "\n",
    "warnings.filterwarnings(\"ignore\", category=DeprecationWarning) \n",
    "warnings.filterwarnings(\"ignore\", category=UserWarning)"
   ]
  },
  {
   "cell_type": "code",
   "execution_count": 3,
   "metadata": {
    "ExecuteTime": {
     "end_time": "2021-03-23T11:57:48.300381Z",
     "start_time": "2021-03-23T11:57:47.286059Z"
    },
    "tags": [
     "torch"
    ]
   },
   "outputs": [],
   "source": [
    "import os\n",
    "import json\n",
    "import torch\n",
    "import regex\n",
    "import numpy as np\n",
    "import pandas as pd\n",
    "import matplotlib.pyplot as plt"
   ]
  },
  {
   "cell_type": "markdown",
   "metadata": {},
   "source": [
    "Распределите в команде гпу, задайте свой номер."
   ]
  },
  {
   "cell_type": "code",
   "execution_count": 4,
   "metadata": {
    "ExecuteTime": {
     "end_time": "2021-03-23T11:57:50.220804Z",
     "start_time": "2021-03-23T11:57:49.319739Z"
    }
   },
   "outputs": [
    {
     "name": "stdout",
     "output_type": "stream",
     "text": [
      "Tue Mar 23 11:57:49 2021       \n",
      "+-----------------------------------------------------------------------------+\n",
      "| NVIDIA-SMI 450.80.02    Driver Version: 450.80.02    CUDA Version: 11.0     |\n",
      "|-------------------------------+----------------------+----------------------+\n",
      "| GPU  Name        Persistence-M| Bus-Id        Disp.A | Volatile Uncorr. ECC |\n",
      "| Fan  Temp  Perf  Pwr:Usage/Cap|         Memory-Usage | GPU-Util  Compute M. |\n",
      "|                               |                      |               MIG M. |\n",
      "|===============================+======================+======================|\n",
      "|   0  Tesla V100-SXM2...  On   | 00000000:00:1B.0 Off |                    0 |\n",
      "| N/A   42C    P0    36W / 300W |      0MiB / 16160MiB |      0%      Default |\n",
      "|                               |                      |                  N/A |\n",
      "+-------------------------------+----------------------+----------------------+\n",
      "|   1  Tesla V100-SXM2...  On   | 00000000:00:1C.0 Off |                    0 |\n",
      "| N/A   38C    P0    55W / 300W |  15446MiB / 16160MiB |      0%      Default |\n",
      "|                               |                      |                  N/A |\n",
      "+-------------------------------+----------------------+----------------------+\n",
      "|   2  Tesla V100-SXM2...  On   | 00000000:00:1D.0 Off |                    0 |\n",
      "| N/A   36C    P0    54W / 300W |  12750MiB / 16160MiB |      0%      Default |\n",
      "|                               |                      |                  N/A |\n",
      "+-------------------------------+----------------------+----------------------+\n",
      "|   3  Tesla V100-SXM2...  On   | 00000000:00:1E.0 Off |                    0 |\n",
      "| N/A   37C    P0    55W / 300W |  13118MiB / 16160MiB |      0%      Default |\n",
      "|                               |                      |                  N/A |\n",
      "+-------------------------------+----------------------+----------------------+\n",
      "                                                                               \n",
      "+-----------------------------------------------------------------------------+\n",
      "| Processes:                                                                  |\n",
      "|  GPU   GI   CI        PID   Type   Process name                  GPU Memory |\n",
      "|        ID   ID                                                   Usage      |\n",
      "|=============================================================================|\n",
      "+-----------------------------------------------------------------------------+\n"
     ]
    }
   ],
   "source": [
    "! nvidia-smi"
   ]
  },
  {
   "cell_type": "code",
   "execution_count": 5,
   "metadata": {
    "ExecuteTime": {
     "end_time": "2021-03-23T12:00:24.737243Z",
     "start_time": "2021-03-23T12:00:24.593685Z"
    },
    "scrolled": true,
    "tags": [
     "torch"
    ]
   },
   "outputs": [
    {
     "name": "stdout",
     "output_type": "stream",
     "text": [
      "dtype: torch.float32, device: cuda:0, cuda_device_id 0\n"
     ]
    }
   ],
   "source": [
    "# Set proper device for computations,\n",
    "dtype, device, cuda_device_id = torch.float32, None, 0\n",
    "os.environ[\"CUDA_VISIBLE_DEVICES\"] = '{0}'.format(str(cuda_device_id) if cuda_device_id is not None else '')\n",
    "if cuda_device_id is not None and torch.cuda.is_available():\n",
    "    device = 'cuda:{0:d}'.format(0)\n",
    "else:\n",
    "    device = torch.device('cpu')\n",
    "    \n",
    "print(f'dtype: {dtype}, device: {device}, cuda_device_id {cuda_device_id}')"
   ]
  },
  {
   "cell_type": "markdown",
   "metadata": {},
   "source": [
    "Импортируем полезную либу `attrdict`. Чем она хороша: позволяет обращаться к элементам словаря, как к его атрибутам"
   ]
  },
  {
   "cell_type": "code",
   "execution_count": 6,
   "metadata": {
    "ExecuteTime": {
     "end_time": "2021-03-23T12:00:26.105609Z",
     "start_time": "2021-03-23T12:00:26.085831Z"
    },
    "scrolled": true
   },
   "outputs": [],
   "source": [
    "from attrdict import AttrDict"
   ]
  },
  {
   "cell_type": "markdown",
   "metadata": {},
   "source": [
    "# Работа с аудио и текстом"
   ]
  },
  {
   "cell_type": "markdown",
   "metadata": {},
   "source": [
    "В распознавании речи нейронная сеть обучается на парах аудио+текст.\n",
    "\n",
    "Давайте научимся открывать аудиофайлы и подготавливать их для работы с нейронной сетью.\n"
   ]
  },
  {
   "cell_type": "markdown",
   "metadata": {},
   "source": [
    "\n",
    "На лекциях мы обсуждали, что аудио может быть записано с разной частотой дискретизации (sample rate), но для обучения нейронной сети обычно все аудио приводят к одной частоте дискретизации. (В этом проекте мы будем использовать sample rate 8000).\n",
    "\n",
    "Так же аудио может быть одноканальным или многоканальным. Проблема с многоканальным аудио может быть в том, что речь в двух каналах может звучать одновременно, такие аудио надо разделять на 2 дорожки. В нашем же случае данные подобраны таким образом, что такой ситуации не возникет, поэтому несколько каналов можно просто усреднить.\n",
    "\n",
    "\n",
    "Будем использовать библиотеку `torchaudio` [docs](https://pytorch.org/audio/).\n",
    "\n",
    "Реализуйте функцию `open_audio`, которая открывает аудио (искать [тут](https://pytorch.org/audio/stable/torchaudio.html)), усредняет аудио по всем каналам (это можно сделать обычным усреднением) и приводит к необходимой частоте дискретизации (искать [тут](https://pytorch.org/audio/stable/transforms.html))."
   ]
  },
  {
   "cell_type": "code",
   "execution_count": 7,
   "metadata": {
    "ExecuteTime": {
     "end_time": "2021-03-23T12:00:26.995961Z",
     "start_time": "2021-03-23T12:00:26.954865Z"
    },
    "scrolled": true,
    "tags": [
     "torchaudio"
    ]
   },
   "outputs": [],
   "source": [
    "import torchaudio"
   ]
  },
  {
   "cell_type": "code",
   "execution_count": 8,
   "metadata": {
    "ExecuteTime": {
     "end_time": "2021-03-23T12:00:28.190440Z",
     "start_time": "2021-03-23T12:00:27.510596Z"
    }
   },
   "outputs": [
    {
     "name": "stdout",
     "output_type": "stream",
     "text": [
      "spectrogram.npy  test_dataset.txt\t   test_open_audio.npy\r\n",
      "test_audio.mp3\t test_open_audio16000.npy\r\n",
      "test_audio.opus  test_open_audio2.npy\r\n"
     ]
    }
   ],
   "source": [
    "! ls test_files/"
   ]
  },
  {
   "cell_type": "code",
   "execution_count": 9,
   "metadata": {
    "ExecuteTime": {
     "end_time": "2021-03-23T12:00:29.246145Z",
     "start_time": "2021-03-23T12:00:29.229325Z"
    }
   },
   "outputs": [],
   "source": [
    "SAMPLE_RATE = 8000\n",
    "\n",
    "# audio -> audio_tensor -> spectrogram\n",
    "# t -> rate * t -> rate * t / (wstep * rate) + 3 - wsize / wstep = (t - wsize) / wstep + 3"
   ]
  },
  {
   "cell_type": "code",
   "execution_count": 10,
   "metadata": {
    "ExecuteTime": {
     "end_time": "2021-03-23T12:00:29.492458Z",
     "start_time": "2021-03-23T12:00:29.476879Z"
    },
    "code_folding": [
     0
    ],
    "scrolled": true,
    "tags": [
     "open_audio"
    ]
   },
   "outputs": [],
   "source": [
    "def open_audio(audio_path, desired_sample_rate, effects=None):\n",
    "    \n",
    "    \"\"\" Open and resample audio, average across channels\n",
    "        Inputs:\n",
    "\n",
    "            audio_path: str, path to audio\n",
    "            desired_sample_rate: int, the sampling rate to which we would like to convert the audio\n",
    "        Returns:\n",
    "            audio: 1D tensor with shape (num_timesteps)\n",
    "            audio_len: int, len of audio\n",
    "    \"\"\"\n",
    "    ### write your code here ###\n",
    "    if effects is None:\n",
    "        audio_data, orig_sample_rate = torchaudio.load(audio_path, channels_first=True)\n",
    "        resampler = torchaudio.transforms.Resample(orig_freq=orig_sample_rate, new_freq=desired_sample_rate)\n",
    "        audio_data = resampler(audio_data)\n",
    "    else:\n",
    "        # Sampling method is inconsistent with torchaudio.transforms.Resample\n",
    "        audio_data, _ = torchaudio.sox_effects.apply_effects_file(\n",
    "            audio_path, effects=[*effects, ['rate', str(desired_sample_rate)]], channels_first=True\n",
    "        )\n",
    "    \n",
    "    audio_data = torch.mean(audio_data, axis=0)\n",
    "    return audio_data, audio_data.shape[0]"
   ]
  },
  {
   "cell_type": "markdown",
   "metadata": {},
   "source": [
    "Запустите тесты, чтобы проверить себя.\n",
    "<img src=\"images/tests_are_all_we_need.png\" width=\"400\" height=\"600\">\n",
    "\n",
    "\n",
    "**Перед каждым запуском тестов не забывайте сохранять ноутбук.**"
   ]
  },
  {
   "cell_type": "code",
   "execution_count": 12,
   "metadata": {
    "ExecuteTime": {
     "end_time": "2021-03-23T12:00:47.762426Z",
     "start_time": "2021-03-23T12:00:44.708756Z"
    },
    "scrolled": true
   },
   "outputs": [
    {
     "name": "stdout",
     "output_type": "stream",
     "text": [
      "Don't forget to save Jupyter Notebook! \n",
      "\n",
      "\n",
      "\u001b[1m============================= test session starts ==============================\u001b[0m\n",
      "platform linux -- Python 3.6.9, pytest-6.2.2, py-1.10.0, pluggy-0.13.1\n",
      "rootdir: /home/mnakhodnov/sirius-stt, configfile: pytest.ini\n",
      "collected 2 items                                                              \u001b[0m\u001b[1m\n",
      "\n",
      "tests/test_open_audio.py \u001b[32m.\u001b[0m\u001b[32m.\u001b[0m\u001b[32m                                              [100%]\u001b[0m\n",
      "\n",
      "\u001b[32m============================== \u001b[32m\u001b[1m2 passed\u001b[0m\u001b[32m in 1.84s\u001b[0m\u001b[32m ===============================\u001b[0m\n"
     ]
    }
   ],
   "source": [
    "! pytest tests/test_open_audio.py"
   ]
  },
  {
   "cell_type": "markdown",
   "metadata": {},
   "source": [
    " "
   ]
  },
  {
   "cell_type": "markdown",
   "metadata": {},
   "source": [
    "Теперь давайте откроем аудио, и послушаем, что у нас получилось."
   ]
  },
  {
   "cell_type": "code",
   "execution_count": 13,
   "metadata": {
    "ExecuteTime": {
     "end_time": "2021-03-23T12:00:49.291710Z",
     "start_time": "2021-03-23T12:00:49.274985Z"
    },
    "scrolled": true
   },
   "outputs": [],
   "source": [
    "from IPython.display import Audio"
   ]
  },
  {
   "cell_type": "code",
   "execution_count": 14,
   "metadata": {
    "ExecuteTime": {
     "end_time": "2021-03-23T12:00:49.498049Z",
     "start_time": "2021-03-23T12:00:49.462485Z"
    },
    "scrolled": true
   },
   "outputs": [
    {
     "data": {
      "text/html": [
       "\n",
       "                <audio  controls=\"controls\" >\n",
       "                    <source src=\"data:audio/wav;base64,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\" type=\"audio/wav\" />\n",
       "                    Your browser does not support the audio element.\n",
       "                </audio>\n",
       "              "
      ],
      "text/plain": [
       "<IPython.lib.display.Audio object>"
      ]
     },
     "execution_count": 14,
     "metadata": {},
     "output_type": "execute_result"
    }
   ],
   "source": [
    "sample_rate = SAMPLE_RATE\n",
    "audio, audio_len = open_audio('test_files/test_audio.mp3', sample_rate)\n",
    "Audio(data=audio.numpy(), rate=sample_rate)"
   ]
  },
  {
   "cell_type": "markdown",
   "metadata": {},
   "source": [
    "Так же послушать аудио можно через путь к аудио файлу.\n",
    "\n",
    "Можно заметить, что звучание немного поменялось. Это произошло из-за того, что мы поменяли оригинальный sample rate 48000Hz на 8000Hz."
   ]
  },
  {
   "cell_type": "code",
   "execution_count": 15,
   "metadata": {
    "ExecuteTime": {
     "end_time": "2021-03-23T12:00:49.935697Z",
     "start_time": "2021-03-23T12:00:49.918757Z"
    },
    "scrolled": true
   },
   "outputs": [
    {
     "data": {
      "text/html": [
       "\n",
       "                <audio  controls=\"controls\" >\n",
       "                    <source src=\"data:audio/mpeg;base64,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\" type=\"audio/mpeg\" />\n",
       "                    Your browser does not support the audio element.\n",
       "                </audio>\n",
       "              "
      ],
      "text/plain": [
       "<IPython.lib.display.Audio object>"
      ]
     },
     "execution_count": 15,
     "metadata": {},
     "output_type": "execute_result"
    }
   ],
   "source": [
    "Audio('test_files/test_audio.mp3')"
   ]
  },
  {
   "cell_type": "markdown",
   "metadata": {},
   "source": [
    " "
   ]
  },
  {
   "cell_type": "markdown",
   "metadata": {},
   "source": [
    " "
   ]
  },
  {
   "cell_type": "markdown",
   "metadata": {},
   "source": [
    "Speech2text  —  это не только speech, но и text, поэтому теперь давайте поговорим о предобработке текста. \n",
    "\n",
    "Первым шагом необходимо привести текст к нижнему регистру и удалить пунктуацию. Если на этом этапе в тексте содержатся символы кроме русского алфавита и пробела (например, цифры), то такие примеры лучше вообще убрать из обучающей выборки (если просто убрать символ из строки, то может нарушиться соответствие аудио-текст).\n",
    "\n",
    "В размеченных данных для обучения и валидации уже произедена очистка и удаление ненужных символов, поэтому нам надо только извлечь токены из текста.\n",
    "\n",
    "В качестве токенов для обучения нейронной сети будем использовать буквы русского алфавита и пробел. Так же, как было сказано в лекциях, нам потребуется специальный символ `<blank>` для построения выравниваний."
   ]
  },
  {
   "cell_type": "code",
   "execution_count": 16,
   "metadata": {
    "ExecuteTime": {
     "end_time": "2021-03-23T12:00:50.795881Z",
     "start_time": "2021-03-23T12:00:50.780035Z"
    },
    "scrolled": true,
    "tags": [
     "alphabet"
    ]
   },
   "outputs": [],
   "source": [
    "alphabet = ['а', 'б', 'в', 'г', 'д', 'е', 'ё', 'ж', 'з', 'и', 'й', 'к',\n",
    "            'л', 'м', 'н', 'о', 'п', 'р', 'с', 'т', 'у', 'ф', 'х', 'ц',\n",
    "            'ч', 'ш', 'щ', 'ь', 'ы', 'ъ', 'э', 'ю', 'я',\n",
    "            ' ', '<blank>']"
   ]
  },
  {
   "cell_type": "markdown",
   "metadata": {},
   "source": [
    "Но, естественно, в таком виде передавать буквы в нейронную сеть мы не можем — их нужно закодировать в числа. Для этого будем использовать уже готовую функцию Vocab.\n",
    "\n",
    "Обратите внимание, что Vocab добавляет дополнительный токен `<unk>`, ответственный за все символы, которых нет в словаре."
   ]
  },
  {
   "cell_type": "code",
   "execution_count": 17,
   "metadata": {
    "ExecuteTime": {
     "end_time": "2021-03-23T12:00:51.306052Z",
     "start_time": "2021-03-23T12:00:51.219341Z"
    },
    "scrolled": true,
    "tags": [
     "vocab"
    ]
   },
   "outputs": [
    {
     "name": "stdout",
     "output_type": "stream",
     "text": [
      "The `unk_token` '<unk>' wasn't found in the tokens. Adding the `unk_token` to the end of the Vocab.\n"
     ]
    }
   ],
   "source": [
    "from vocabulary import Vocab\n",
    "vocab = Vocab(alphabet)"
   ]
  },
  {
   "cell_type": "markdown",
   "metadata": {},
   "source": [
    "Попрактикуйтесь с Vocab. Для того, чтобы понять все возможности Vocab можно заглянуть в код vocabulary.py и почитать докстринги.\n",
    "\n",
    "* переведите \"привет\" в индексы\n",
    "* переведите [11, 0, 11, 33, 4, 5, 12, 0] в текст\n",
    "* что будет если перевести в индексы слово \"hi\"?\n",
    "* а [44, 5] в текст?\n"
   ]
  },
  {
   "cell_type": "code",
   "execution_count": 18,
   "metadata": {
    "ExecuteTime": {
     "end_time": "2021-03-23T12:00:51.707520Z",
     "start_time": "2021-03-23T12:00:51.689610Z"
    }
   },
   "outputs": [
    {
     "data": {
      "text/plain": [
       "[16, 17, 9, 2, 5, 19]"
      ]
     },
     "execution_count": 18,
     "metadata": {},
     "output_type": "execute_result"
    }
   ],
   "source": [
    "vocab.lookup_indices('привет')"
   ]
  },
  {
   "cell_type": "code",
   "execution_count": 19,
   "metadata": {
    "ExecuteTime": {
     "end_time": "2021-03-23T12:00:51.919578Z",
     "start_time": "2021-03-23T12:00:51.902967Z"
    }
   },
   "outputs": [
    {
     "data": {
      "text/plain": [
       "['к', 'а', 'к', ' ', 'д', 'е', 'л', 'а']"
      ]
     },
     "execution_count": 19,
     "metadata": {},
     "output_type": "execute_result"
    }
   ],
   "source": [
    "vocab.lookup_tokens([11, 0, 11, 33, 4, 5, 12, 0])"
   ]
  },
  {
   "cell_type": "code",
   "execution_count": 20,
   "metadata": {
    "ExecuteTime": {
     "end_time": "2021-03-23T12:00:52.113981Z",
     "start_time": "2021-03-23T12:00:52.099202Z"
    }
   },
   "outputs": [
    {
     "data": {
      "text/plain": [
       "[35, 35]"
      ]
     },
     "execution_count": 20,
     "metadata": {},
     "output_type": "execute_result"
    }
   ],
   "source": [
    "vocab.lookup_indices('hi')"
   ]
  },
  {
   "cell_type": "code",
   "execution_count": 21,
   "metadata": {
    "ExecuteTime": {
     "end_time": "2021-03-23T12:00:52.282968Z",
     "start_time": "2021-03-23T12:00:52.266749Z"
    }
   },
   "outputs": [
    {
     "name": "stdout",
     "output_type": "stream",
     "text": [
      "lookup_indices() Expected a value of type 'List[str]' for argument '_1' but instead found type 'list'.\n",
      "Position: 1\n",
      "Value: [45, 5]\n",
      "Declaration: lookup_indices(__torch__.torch.classes.torchtext.Vocab _0, str[] _1) -> (int[] _0)\n",
      "Cast error details: Unable to cast Python instance to C++ type (compile in debug mode for details)\n"
     ]
    }
   ],
   "source": [
    "try:\n",
    "    vocab.lookup_indices([45, 5])\n",
    "except Exception as ex:\n",
    "    print(ex)"
   ]
  },
  {
   "cell_type": "markdown",
   "metadata": {},
   "source": [
    "Какие еще у Vocab возможности?\n",
    "\n",
    "Если в процессе исследования вы изменили текущий vocab (путем добавления нового токена, например), не забудьте вернуть vocab к начальному состоянию  `vocab = Vocab(alphabet)`"
   ]
  },
  {
   "cell_type": "markdown",
   "metadata": {},
   "source": [
    "Давайте извлечем из Vocab и сохраним в переменные два важных значения - длину алфавита и значения индекса `<blank>`.\n",
    "    \n",
    "Эти значения нам еще много раз пригодятся."
   ]
  },
  {
   "cell_type": "code",
   "execution_count": 22,
   "metadata": {
    "ExecuteTime": {
     "end_time": "2021-03-23T12:00:52.790698Z",
     "start_time": "2021-03-23T12:00:52.776320Z"
    },
    "scrolled": true,
    "tags": [
     "get_num_tokens",
     "get_blank_index"
    ]
   },
   "outputs": [],
   "source": [
    "def get_num_tokens(vocab):\n",
    "    ### write your code here ###\n",
    "    num_tokens = len(vocab.tokens2indices())\n",
    "    return num_tokens\n",
    "\n",
    "def get_blank_index(vocab):\n",
    "    ### write your code here ###\n",
    "    blank_index = vocab['<blank>']\n",
    "    return blank_index"
   ]
  },
  {
   "cell_type": "code",
   "execution_count": 23,
   "metadata": {
    "ExecuteTime": {
     "end_time": "2021-03-23T12:00:58.874690Z",
     "start_time": "2021-03-23T12:00:52.987885Z"
    },
    "scrolled": true
   },
   "outputs": [
    {
     "name": "stdout",
     "output_type": "stream",
     "text": [
      "Don't forget to save Jupyter Notebook! \n",
      "\n",
      "\n",
      "\u001b[1m============================= test session starts ==============================\u001b[0m\n",
      "platform linux -- Python 3.6.9, pytest-6.2.2, py-1.10.0, pluggy-0.13.1\n",
      "rootdir: /home/mnakhodnov/sirius-stt, configfile: pytest.ini\n",
      "collected 1 item                                                               \u001b[0m\u001b[1m\n",
      "\n",
      "tests/test_num_tokens.py \u001b[32m.\u001b[0m\u001b[32m                                               [100%]\u001b[0m\n",
      "\n",
      "\u001b[32m============================== \u001b[32m\u001b[1m1 passed\u001b[0m\u001b[32m in 1.75s\u001b[0m\u001b[32m ===============================\u001b[0m\n",
      "Don't forget to save Jupyter Notebook! \n",
      "\n",
      "\n",
      "\u001b[1m============================= test session starts ==============================\u001b[0m\n",
      "platform linux -- Python 3.6.9, pytest-6.2.2, py-1.10.0, pluggy-0.13.1\n",
      "rootdir: /home/mnakhodnov/sirius-stt, configfile: pytest.ini\n",
      "collected 1 item                                                               \u001b[0m\u001b[1m\n",
      "\n",
      "tests/test_blank_index.py \u001b[32m.\u001b[0m\u001b[32m                                              [100%]\u001b[0m\n",
      "\n",
      "\u001b[32m============================== \u001b[32m\u001b[1m1 passed\u001b[0m\u001b[32m in 1.75s\u001b[0m\u001b[32m ===============================\u001b[0m\n"
     ]
    }
   ],
   "source": [
    "! pytest tests/test_num_tokens.py\n",
    "! pytest tests/test_blank_index.py"
   ]
  },
  {
   "cell_type": "code",
   "execution_count": 24,
   "metadata": {
    "ExecuteTime": {
     "end_time": "2021-03-23T12:00:58.895813Z",
     "start_time": "2021-03-23T12:00:58.877002Z"
    },
    "scrolled": true
   },
   "outputs": [],
   "source": [
    "num_tokens = get_num_tokens(vocab) \n",
    "blank_index = get_blank_index(vocab)"
   ]
  },
  {
   "cell_type": "markdown",
   "metadata": {},
   "source": [
    "# Подготовка датасета"
   ]
  },
  {
   "cell_type": "markdown",
   "metadata": {},
   "source": [
    "Обучать нейронную сеть мы будем на подготовленном датасете. Для удобства мы сгруппировали обучающие и валидационные данные в текстовые файлы, где в каждой строке через запятую указан путь к файлу, соответствующий текст, длина аудио (в секундах).\n",
    "\n",
    "\n",
    "Давайте реализуем функцию AudioDataset, которая подготавливает текст и аудио для каждого элемента датастета.\n",
    "\n",
    "\n",
    "На этих данных мы будем обучать модель с помощью ctc лосса, а мы уже знаем, что для обучения с ctc аудио лучше отсортировать по длине - так модели будет проще обучиться.\n",
    "\n",
    "Изучить документацию по Dataset и DataLoader (пригодится далее) можно найти [тут](https://pytorch.org/docs/stable/data.html)."
   ]
  },
  {
   "cell_type": "code",
   "execution_count": 25,
   "metadata": {
    "ExecuteTime": {
     "end_time": "2021-03-23T12:00:58.920467Z",
     "start_time": "2021-03-23T12:00:58.898262Z"
    },
    "code_folding": [],
    "scrolled": true
   },
   "outputs": [],
   "source": [
    " class AudioDataset(torch.utils.data.Dataset):\n",
    "    def __init__(\n",
    "        self, dataset_path, vocab, sample_rate=8000, \n",
    "        audio_transforms=None, min_duration=None, max_duration=None, evaluate_stats=False\n",
    "    ):\n",
    "        self.vocab = vocab\n",
    "        self.sample_rate = sample_rate\n",
    "        self.min_duration = min_duration\n",
    "        self.max_duration = max_duration\n",
    "        self.audio_transforms = audio_transforms\n",
    "        \n",
    "        data = pd.read_csv(dataset_path, header=None, names=['audio_path', 'text', 'duration'])\n",
    "        data['duration'] = data['duration'].astype(float)\n",
    "        self.data = data.sort_values(by='duration')\n",
    "        \n",
    "        if self.min_duration is not None:\n",
    "            self.data = self.data[self.data['duration'] > self.min_duration]\n",
    "        if self.max_duration is not None:\n",
    "            self.data = self.data[self.data['duration'] < self.max_duration]\n",
    "        \n",
    "        self.idx_to_text_len = dict()\n",
    "        self.idx_to_audio_len = dict()\n",
    "        if evaluate_stats:\n",
    "            for idx in range(self.data.shape[0]):\n",
    "                self.idx_to_text_len[idx] = len(self.data.iloc[idx]['text'])\n",
    "                self.idx_to_audio_len[idx] = self.data.iloc[idx]['duration']\n",
    "        \n",
    "    def __len__(self):\n",
    "        return self.data.shape[0]\n",
    "\n",
    "    def __getitem__(self, idx, supress_effects=False):\n",
    "        apply_transforms = (self.audio_transforms is not None) and (not supress_effects)\n",
    "        \n",
    "        text = self.data.iloc[idx]['text']\n",
    "        audio_path = self.data.iloc[idx]['audio_path']\n",
    "\n",
    "        ### write your code here ###\n",
    "        text_len = len(text)\n",
    "        tokens = torch.tensor(self.vocab.lookup_indices(text))\n",
    "        audio, audio_len = open_audio(\n",
    "            audio_path, self.sample_rate, \n",
    "            effects=self.audio_transforms.sample() if apply_transforms else None\n",
    "        )\n",
    "        \n",
    "        return {\"audio\":  audio,  # torch tensor, (num_timesteps)\n",
    "                \"audio_len\": audio_len, # int\n",
    "                \"text\": text, # str\n",
    "                \"text_len\": text_len, # int\n",
    "                'tokens': tokens, # torch tensor, (text_len)\n",
    "               }"
   ]
  },
  {
   "cell_type": "markdown",
   "metadata": {},
   "source": [
    "## Define AudioTransforms"
   ]
  },
  {
   "cell_type": "code",
   "execution_count": 26,
   "metadata": {
    "ExecuteTime": {
     "end_time": "2021-03-23T12:00:58.944939Z",
     "start_time": "2021-03-23T12:00:58.922387Z"
    },
    "code_folding": [
     0,
     19,
     34,
     54
    ]
   },
   "outputs": [],
   "source": [
    "class AudioTransformsChain():\n",
    "    def __init__(self):\n",
    "        self.probas = []\n",
    "        self.transforms_chain = []\n",
    "    \n",
    "    def add_group(self, proba, transforms):\n",
    "        self.probas.append(proba)\n",
    "        self.transforms_chain.append(transforms)\n",
    "        return self\n",
    "    \n",
    "    def sample(self):\n",
    "        sampled_effects = []\n",
    "        for proba, transforms_group in zip(self.probas, self.transforms_chain):\n",
    "            if np.random.uniform(0.0, 1.0) > proba:\n",
    "                continue\n",
    "            for transform in transforms_group:\n",
    "                sampled_effects += transform.sample()\n",
    "        return sampled_effects\n",
    "\n",
    "class AudioTransformsExclusive():\n",
    "    def __init__(self):\n",
    "        self.probas = []\n",
    "        self.transforms = []\n",
    "        \n",
    "    def add(self, proba, transform):\n",
    "        self.probas.append(proba)\n",
    "        self.transforms.append(transform)\n",
    "        return self\n",
    "        \n",
    "    def sample(self):\n",
    "        probas = np.array(self.probas) / np.sum(self.probas)\n",
    "        selected_idx = np.random.choice(len(probas), size=1, p=probas)[0]\n",
    "        return self.transforms[selected_idx].sample()\n",
    "    \n",
    "class _AbstractAudioTransform:\n",
    "    _name = None\n",
    "    \n",
    "    def __init__(self, proba, *options):\n",
    "        self.proba = proba\n",
    "        self.options = options\n",
    "        \n",
    "    def sample(self):\n",
    "        if np.random.uniform(0.0, 1.0) < self.proba:\n",
    "            effect = []\n",
    "            for option in self.options:\n",
    "                if isinstance(option, list):\n",
    "                    low, high, *option = option\n",
    "                    magnitude = np.random.uniform(low=low, high=high)\n",
    "                    magnitude = magnitude if len(option) == 0 else np.power(10, magnitude)\n",
    "                else:\n",
    "                    magnitude = option\n",
    "                effect.append(str(magnitude))\n",
    "            return [[self._name] + effect]\n",
    "    \n",
    "def make_transform(name):\n",
    "    class _AudioTransform(_AbstractAudioTransform):\n",
    "        _name = name\n",
    "        \n",
    "    class_name = name.title() + 'AudioTransform'\n",
    "    _AudioTransform.__name__ = class_name\n",
    "    _AudioTransform.__qualname__ = class_name\n",
    "    return _AudioTransform"
   ]
  },
  {
   "cell_type": "code",
   "execution_count": 27,
   "metadata": {
    "ExecuteTime": {
     "end_time": "2021-03-23T12:00:58.966290Z",
     "start_time": "2021-03-23T12:00:58.946654Z"
    },
    "code_folding": [
     0
    ]
   },
   "outputs": [],
   "source": [
    "def get_default_audio_transforms():\n",
    "    return AudioTransformsChain(\n",
    "    ).add_group(\n",
    "        0.5, [\n",
    "            AudioTransformsExclusive(\n",
    "            ).add(\n",
    "                0.5,\n",
    "                # The frequency response drops logarithmically around the center frequency. band center width\n",
    "                make_transform('band')(1.0, [2, 4, 'log'], [2.5, 5, 'log'])\n",
    "            ).add(\n",
    "                0.5,\n",
    "                # Non linear distortion.\n",
    "                make_transform('overdrive')(1.0, [0, 10], 20)\n",
    "            )\n",
    "        ]\n",
    "    ).add_group(\n",
    "        0.7, [       \n",
    "            AudioTransformsExclusive(\n",
    "            ).add(\n",
    "                0.33,\n",
    "                # Change the audio pitch (but not tempo).\n",
    "                make_transform('pitch')(1.0, [-100, 100]),\n",
    "            ).add(\n",
    "                0.33,\n",
    "                # Adjust the audio speed (pitch and tempo together)\n",
    "                make_transform('speed')(1.0, [0.9, 1.1]),\n",
    "            ).add(\n",
    "                0.33,\n",
    "                # Change the audio playback speed but not its pitch.\n",
    "                make_transform('tempo')(1.0, [0.8, 1.2])\n",
    "            )\n",
    "        ]\n",
    "    ).add_group(\n",
    "        1.0, [\n",
    "            AudioTransformsExclusive(\n",
    "            ).add(\n",
    "                0.5,\n",
    "                # Boost or cut the bass (lower) frequencies. bass gain frequency width\n",
    "                make_transform('bass')(1.0, [-20, 20]),\n",
    "            ).add(\n",
    "                0.5,\n",
    "                # Boost or cut the treble (upper) frequencies. treble gain frequency width\n",
    "                make_transform('treble')(1.0, [-20, 20])\n",
    "            )\n",
    "        ]\n",
    "    ).add_group(\n",
    "        0.5, [     \n",
    "            AudioTransformsExclusive(\n",
    "            ).add(\n",
    "                0.5,\n",
    "                # Add a chorus effect to the audio. gain-in gain-out <delay decay speed depth −s|−t>\n",
    "                make_transform('chorus')(1.0, [0.5, 1.0], [0.5, 1.0], [40, 60], 0.4, 0.25, 2, '-t'),\n",
    "            ).add(\n",
    "                0.5,\n",
    "                # Add reverberation to the audio\n",
    "                make_transform('reverb')(1.0)\n",
    "            )\n",
    "        ]\n",
    "    ).add_group(\n",
    "        0.5, [\n",
    "            # DC shift to the audio\n",
    "            make_transform('dcshift')(1.0, [-0.2, 0.2]),\n",
    "\n",
    "            # Delay one or more audio channels such that they start at the given position.\n",
    "            make_transform('delay')(1.0, [0.0, 1.0])\n",
    "        ]\n",
    "    )"
   ]
  },
  {
   "cell_type": "code",
   "execution_count": 28,
   "metadata": {
    "ExecuteTime": {
     "end_time": "2021-03-23T12:00:58.982022Z",
     "start_time": "2021-03-23T12:00:58.968089Z"
    }
   },
   "outputs": [],
   "source": [
    "audio_transforms = get_default_audio_transforms()"
   ]
  },
  {
   "cell_type": "code",
   "execution_count": 29,
   "metadata": {
    "ExecuteTime": {
     "end_time": "2021-03-23T12:00:58.999941Z",
     "start_time": "2021-03-23T12:00:58.983583Z"
    }
   },
   "outputs": [
    {
     "data": {
      "text/plain": [
       "[['overdrive', '4.9349974487035375', '20'],\n",
       " ['pitch', '79.39650728032376'],\n",
       " ['treble', '19.56017239333036'],\n",
       " ['reverb'],\n",
       " ['dcshift', '0.14859482285298758'],\n",
       " ['delay', '0.3375430371493633']]"
      ]
     },
     "execution_count": 29,
     "metadata": {},
     "output_type": "execute_result"
    }
   ],
   "source": [
    "audio_transforms.sample()"
   ]
  },
  {
   "cell_type": "code",
   "execution_count": 30,
   "metadata": {
    "ExecuteTime": {
     "end_time": "2021-03-23T12:01:02.138329Z",
     "start_time": "2021-03-23T12:00:59.002233Z"
    },
    "scrolled": true
   },
   "outputs": [
    {
     "name": "stdout",
     "output_type": "stream",
     "text": [
      "Don't forget to save Jupyter Notebook! \n",
      "\n",
      "\n",
      "\u001b[1m============================= test session starts ==============================\u001b[0m\n",
      "platform linux -- Python 3.6.9, pytest-6.2.2, py-1.10.0, pluggy-0.13.1\n",
      "rootdir: /home/mnakhodnov/sirius-stt, configfile: pytest.ini\n",
      "collected 2 items                                                              \u001b[0m\u001b[1m\n",
      "\n",
      "tests/test_dataset.py \u001b[32m.\u001b[0m\u001b[32m.\u001b[0m\u001b[32m                                                 [100%]\u001b[0m\n",
      "\n",
      "\u001b[32m============================== \u001b[32m\u001b[1m2 passed\u001b[0m\u001b[32m in 1.92s\u001b[0m\u001b[32m ===============================\u001b[0m\n"
     ]
    }
   ],
   "source": [
    "! pytest tests/test_dataset.py"
   ]
  },
  {
   "cell_type": "markdown",
   "metadata": {},
   "source": [
    "Давайте посмотрим, как будут выглядеть элементы полученного датасета."
   ]
  },
  {
   "cell_type": "code",
   "execution_count": 31,
   "metadata": {
    "ExecuteTime": {
     "end_time": "2021-03-23T12:01:02.167481Z",
     "start_time": "2021-03-23T12:01:02.140633Z"
    },
    "code_folding": [
     0,
     32
    ]
   },
   "outputs": [],
   "source": [
    "def convert_libri_manifest_to_common_voice(manifest_path):\n",
    "    cv_manifest_path = manifest_path.replace('.json', '.common_voice.csv')\n",
    "    with open(manifest_path, 'r') as in_file:\n",
    "        with open(cv_manifest_path, 'w') as out_file:    \n",
    "            for line in in_file:\n",
    "                sample = json.loads(line, parse_float=lambda x: x)\n",
    "                audio_filepath = os.path.join(\n",
    "                    os.path.dirname(os.path.abspath(manifest_path)), sample['audio_filepath']\n",
    "                )\n",
    "                out_file.write(','.join([audio_filepath, sample['text'], sample['duration']]) + '\\n')\n",
    "    \n",
    "    return cv_manifest_path\n",
    "\n",
    "def convert_open_stt_manifest_to_common_voice(manifest_path):\n",
    "    cv_manifest_path = manifest_path.replace('.csv', '.common_voice.csv')\n",
    "    \n",
    "    with open(manifest_path, 'r') as in_file:\n",
    "        with open(cv_manifest_path, 'w') as out_file:    \n",
    "            for line in in_file:\n",
    "                audio_filepath, test_filepath, duration = line.strip().split(',')\n",
    "\n",
    "                audio_filepath = os.path.join(\n",
    "                    os.path.dirname(os.path.abspath(manifest_path)), './..', audio_filepath\n",
    "                )\n",
    "                test_filepath = os.path.join(\n",
    "                    os.path.dirname(os.path.abspath(manifest_path)), './..', test_filepath\n",
    "                )\n",
    "                text = ' '.join(map(str.strip, open(test_filepath, 'r').readlines()))\n",
    "                text = regex.sub(r'\\P{Cyrillic}', ' ', text)\n",
    "                text = regex.sub(' +', ' ', text)\n",
    "                \n",
    "                out_file.write(','.join([audio_filepath, text, duration]) + '\\n')\n",
    "    return cv_manifest_path\n",
    "\n",
    "def manifest_train_test_split(manifest_path, ratio=0.3):\n",
    "    test_manifest_path = manifest_path.replace('.csv', '_test.csv')\n",
    "    train_manifest_path = manifest_path.replace('.csv', '_train.csv')\n",
    "    \n",
    "    data = pd.read_csv(manifest_path)\n",
    "    permutation = np.random.permutation(data.shape[0])\n",
    "    data = data.iloc[permutation]\n",
    "    \n",
    "    test_size = int(ratio * data.shape[0])\n",
    "    test_data = data[:test_size]\n",
    "    train_data = data[test_size:] \n",
    "    test_data.to_csv(test_manifest_path, index=False)\n",
    "    train_data.to_csv(train_manifest_path, index=False)\n",
    "    \n",
    "    return test_manifest_path, train_manifest_path"
   ]
  },
  {
   "cell_type": "code",
   "execution_count": 32,
   "metadata": {
    "ExecuteTime": {
     "end_time": "2021-03-23T12:01:02.182705Z",
     "start_time": "2021-03-23T12:01:02.169055Z"
    }
   },
   "outputs": [],
   "source": [
    "audio_transforms = None"
   ]
  },
  {
   "cell_type": "markdown",
   "metadata": {},
   "source": [
    "## Load Common Voice dataset"
   ]
  },
  {
   "cell_type": "code",
   "execution_count": 33,
   "metadata": {
    "ExecuteTime": {
     "end_time": "2021-03-23T12:01:02.387940Z",
     "start_time": "2021-03-23T12:01:02.184203Z"
    }
   },
   "outputs": [],
   "source": [
    "common_voice_val_manifest_path = '/home/e.chuykova/data/val.txt'\n",
    "common_voice_test_manifest_path = '/home/e.chuykova/data/test.txt'\n",
    "common_voice_train_manifest_path = '/home/e.chuykova/data/train.txt'\n",
    "\n",
    "common_voice_val_dataset = AudioDataset(\n",
    "    common_voice_val_manifest_path, vocab, sample_rate=SAMPLE_RATE,\n",
    "#     evaluate_stats=True\n",
    ")\n",
    "common_voice_test_dataset = AudioDataset(\n",
    "    common_voice_test_manifest_path, vocab, sample_rate=SAMPLE_RATE,\n",
    "#     evaluate_stats=True\n",
    ")\n",
    "common_voice_train_dataset = AudioDataset(\n",
    "    common_voice_train_manifest_path, vocab, sample_rate=SAMPLE_RATE,\n",
    "    audio_transforms=audio_transforms,\n",
    "#     evaluate_stats=True\n",
    ")"
   ]
  },
  {
   "cell_type": "markdown",
   "metadata": {},
   "source": [
    "## Load LibriSpeech dataset"
   ]
  },
  {
   "cell_type": "code",
   "execution_count": 34,
   "metadata": {
    "ExecuteTime": {
     "end_time": "2021-03-23T12:01:03.432553Z",
     "start_time": "2021-03-23T12:01:02.390194Z"
    }
   },
   "outputs": [],
   "source": [
    "ls_dev_manifest_path = '/data/mnakhodnov/voice_data/libri_speech/dev/manifest.json'\n",
    "ls_test_manifest_path = '/data/mnakhodnov/voice_data/libri_speech/test/manifest.json'\n",
    "ls_train_manifest_path = '/data/mnakhodnov/voice_data/libri_speech/train/manifest.json'\n",
    "\n",
    "ls_dev_manifest_path = convert_libri_manifest_to_common_voice(ls_dev_manifest_path)\n",
    "ls_test_manifest_path = convert_libri_manifest_to_common_voice(ls_test_manifest_path)\n",
    "ls_train_manifest_path = convert_libri_manifest_to_common_voice(ls_train_manifest_path)"
   ]
  },
  {
   "cell_type": "code",
   "execution_count": 35,
   "metadata": {
    "ExecuteTime": {
     "end_time": "2021-03-23T12:01:03.675169Z",
     "start_time": "2021-03-23T12:01:03.434517Z"
    }
   },
   "outputs": [],
   "source": [
    "ls_dev_dataset = AudioDataset(\n",
    "    ls_dev_manifest_path, vocab=vocab, sample_rate=SAMPLE_RATE, max_duration=10.0,\n",
    "#     evaluate_stats=True\n",
    ")\n",
    "ls_test_dataset = AudioDataset(\n",
    "    ls_test_manifest_path, vocab=vocab, sample_rate=SAMPLE_RATE, max_duration=10.0,\n",
    "#     evaluate_stats=True\n",
    ")\n",
    "ls_train_dataset = AudioDataset(\n",
    "    ls_train_manifest_path, vocab=vocab, sample_rate=SAMPLE_RATE, max_duration=10.0,\n",
    "    audio_transforms=audio_transforms,\n",
    "#     evaluate_stats=True\n",
    ")"
   ]
  },
  {
   "cell_type": "markdown",
   "metadata": {
    "ExecuteTime": {
     "end_time": "2021-03-22T11:00:14.720362Z",
     "start_time": "2021-03-22T11:00:14.703290Z"
    }
   },
   "source": [
    "## Load Open STT (radio_2) dataset"
   ]
  },
  {
   "cell_type": "code",
   "execution_count": 36,
   "metadata": {
    "ExecuteTime": {
     "end_time": "2021-03-23T12:02:15.406685Z",
     "start_time": "2021-03-23T12:01:03.676878Z"
    }
   },
   "outputs": [],
   "source": [
    "open_stt_manifest_path = '/data/mnakhodnov/voice_data/radio_2/radio_2.csv'\n",
    "\n",
    "open_stt_manifest_path = convert_open_stt_manifest_to_common_voice(open_stt_manifest_path)\n",
    "open_stt_test_manifest_path, open_stt_train_manifest_path = manifest_train_test_split(open_stt_manifest_path, ratio=0.005)"
   ]
  },
  {
   "cell_type": "code",
   "execution_count": 37,
   "metadata": {
    "ExecuteTime": {
     "end_time": "2021-03-23T12:02:18.502764Z",
     "start_time": "2021-03-23T12:02:15.408947Z"
    }
   },
   "outputs": [],
   "source": [
    "open_stt_test_dataset = AudioDataset(\n",
    "    open_stt_test_manifest_path, vocab=vocab, sample_rate=SAMPLE_RATE, min_duration=2.0, max_duration=10.0,\n",
    "#     evaluate_stats=True\n",
    ")\n",
    "open_stt_train_dataset = AudioDataset(\n",
    "    open_stt_train_manifest_path, vocab=vocab, sample_rate=SAMPLE_RATE, min_duration=2.0, max_duration=10.0,\n",
    "    audio_transforms=audio_transforms,\n",
    "#     evaluate_stats=True\n",
    ")"
   ]
  },
  {
   "cell_type": "code",
   "execution_count": 38,
   "metadata": {
    "ExecuteTime": {
     "end_time": "2021-03-23T12:02:18.589764Z",
     "start_time": "2021-03-23T12:02:18.505216Z"
    }
   },
   "outputs": [
    {
     "name": "stdout",
     "output_type": "stream",
     "text": [
      "LibreSpeech:  {'audio': tensor([-6.1725e-05, -1.0613e-04, -1.2939e-05,  ..., -3.7718e-02,\n",
      "        -2.3733e-02, -5.7495e-02]), 'audio_len': 8160, 'text': 'однако довольно', 'text_len': 15, 'tokens': tensor([15,  4, 14,  0, 11, 15, 33,  4, 15,  2, 15, 12, 27, 14, 15])} \n",
      "\n",
      "OpenSTT:  {'audio': tensor([-0.1315, -0.1946, -0.1604,  ..., -0.0080, -0.0098, -0.0109]), 'audio_len': 16160, 'text': 'не потепление а использование нас', 'text_len': 33, 'tokens': tensor([14,  5, 33, 16, 15, 19,  5, 16, 12,  5, 14,  9,  5, 33,  0, 33,  9, 18,\n",
      "        16, 15, 12, 27,  8, 15,  2,  0, 14,  9,  5, 33, 14,  0, 18])} \n",
      "\n",
      "CommonVoice:  {'audio': tensor([ 0.0000,  0.0000,  0.0000,  ...,  0.0005, -0.0008, -0.0006]), 'audio_len': 8360, 'text': 'один', 'text_len': 4, 'tokens': tensor([15,  4,  9, 14])} \n",
      "\n"
     ]
    }
   ],
   "source": [
    "print('LibreSpeech: ', ls_train_dataset[0], '\\n')\n",
    "print('OpenSTT: ', open_stt_train_dataset[0], '\\n')\n",
    "print('CommonVoice: ', common_voice_train_dataset[0], '\\n')"
   ]
  },
  {
   "cell_type": "code",
   "execution_count": 39,
   "metadata": {
    "ExecuteTime": {
     "end_time": "2021-03-23T12:02:18.624340Z",
     "start_time": "2021-03-23T12:02:18.591339Z"
    }
   },
   "outputs": [
    {
     "name": "stdout",
     "output_type": "stream",
     "text": [
      "и девяностые были столь трудны\n"
     ]
    },
    {
     "data": {
      "text/html": [
       "\n",
       "                <audio  controls=\"controls\" >\n",
       "                    <source src=\"data:audio/wav;base64,UklGRqR/AABXQVZFZm10IBAAAAABAAEAQB8AAIA+AAACABAAZGF0YYB/AADSAHMAkv/G/3kADgEYAo8BEQFnAgcEAgQbBsQGngW9BVEH4wclCKkIqwjBCYkJwAg4By4F8gSOA+IBRALMAHT+9fxR/Lb7F/r898T3E/bI81Hy6PGH8YHyYvXo9iH5hfuJ//cDjQdhC1UPwBCLE0MWYBUTFmcXNxbmEuEQ2A6jC/wI1ASe/9L5uvV0857tjejY5Zfjgd8v3Wbdl9173f/fx+Sl5s/qZPLZ+aQAtweZDWwTnRwuIo8lECvOLZcvPzIGMf0s+CueKZUjHx6PFkUO+wasAD75q/H/63PnjORV4MXbrtjo127XqdYB1xjWHdYr2W/bFtz93VPhr+M46Obs8fBc9Ob4SwCkBqoLnw+bFDYZJx50It8jYiXhJAEjziLjIeceORz/Gb4W5RP4EjgQXgw8CqsIqgViBCQC1/7U/bT7T/nQ99j1n/KQ8f/tjOi95Rni1t+Q3SnbldrA2lDb3N2g4Trktefy64Xw5/XQ+64BvQZ8D+sXIx0AIVgo3ywiMDc0jjXzNEQ1wTNQMScuAyqtJM8fFhsVFcwQWg29CGQFawJ5AOH9Z/sh+hf4HfVy8m7wWe667Bzr/OoE6tvpk+lY6vfo3+jl6fnoiOgl6UHq3evA7MntiO407/zw0vNH9IP1YvZZ+Kf5TfrI+1X8dP3L/6UAeAA9AecBcAGHBV0JhwlQC4wL4gv7DNENJw5QDCgKpwhnBzwDUQHx/9r7Gvlg9W/ywfGi8Zjuc+wr7tTs4epx6mjsYu3y75vzgvVE+rb9mQFWCMcNzhM2GuwfPyXIKmct3C5AMZMwUC5qK3UnCiQUILcctBgsEk0MqAkABQj+7Pc98jDumuqC5aLfRNxJ2vnYxdVL1EjWRNWA1K3Vx9gn3MHd5N/04EriEOM95hnn0eht69vs7e+i8En0OvY398P+wwRlCfAOtRj5HgslQi72MVg6OD+NQlhAZkCVOyw4FTIrLR0ojCINGp8SewypB+wBBf4C+bP36fE97h/pEujc5BXjy97J3iPc/d4n3PbfDebj5tzpKuxh8Lz1Q/aB+pv6gf1x/IL5X/gg+Gf38vSw88Hy3PPO8bvx3vIc8Sbxp+2n7LPuce0N78rv7O4Q9A7w0PVh+qD9UgYqAwUJagiwB9wKzgcxD6QQphDQEE8SERI4FFISIBjCFgQWnxb8EXYQgxC6DaANgwrADykOjgv2DdMPXw/YCyoQRxBNEFcRZRLvESsOGBDLCyoI1wy9Bq0J8fyOA2n3ofbR7q/1WOrO8PjoB+vm4r7obd896frYGPOs1JPrbtoj5dvfcNic7dvXgum04hTrCemL7Bb1ofWF8/sCD/61AocB/AnJBmsBsgsgCFwIwwjXD/cQWA62GS0c8B+4I8Es2DPQLRM+ZTfLQTo31j6JO6oxzDF2JrQi3Bg8Cw0NJvug/FLsCvD45grjX98G4gbZeuFg0HTmFc3t4cLQKeEq1BzbvOLP0Y/ocNbY55HYquTd5IngMeHa60foh+gU5xIA/+er+XP5jAes+sgCXREfDcQO4xODJpglYR1VQio5cj1TT7lFwV8mQhFYLEycQ9088jHYLMsXghNsEUf1bwMP9Ynxxu1p8+Lt9/HS57v4P/Wj6Hv0Y/4G7Jb1bvFzAu7kiPlE6FD4+tpH5bzVluXHt3DZCLzHx3m9ervrws7JRsDqxvzcgtJK36DX3Ps1497y6e1TClD3YPQaCv8S3fUzBZUXbAjMCfkLcSbnHlAXzDDjS5UrcU/SWBpk0WADZEV5qGTzX/hXLVhdQoIwuC6LJK8CoA+F9Uv0oPmQ4hr8evDZ8Cr1BvhF7iD79e+H9VT0h/BM473wLNNk3nzPQdbWvpPSpb1mulC4qbgjqsy+LKMizfa1sbQz1vTCt8po1EDfYeRB23Hy8+9p7gXxkfd8FGX1OSHvJMwwDDOOSPxbnFcZZCl7mm5jdcpm9GhDWWk+WD6jMl0SHQ9tAifxwuSv4pri2OAl5TzquvwF8jz6Eg+pAxcN5xGHFFARRQMYBTb5Bei13A3R4s7Eud2qKrNAmxukY5jeouGska5stIjCQ9lEyOzdE+sh6yP/meAkAuX/PPI+904AugpbHEcCoDf5Na04eFBPVXtkpG+lcD14VmvybPJYv09xPvwnXCUSD2D/PPuS5urgsdt1293cat9T5dHw4vi6+IgHcwZVC9oVQA6PFXcQtgiVB5H1EfVe3njQgtEvuBa8PLZCp22xY6mXvp6waLrpwPbU69Q81xnk0+I24hfzvuP58DLt0PFbGX0MBwxxMiw9MT+PTJlUWGaFabZhpWvjZLpXYkWnOwkyJh4LFdkDnfjP+yHsMen94sfnPe+F7D7vOv6u/vULXA8KDNkNVQ5PDLgHxfrB+obsGuYa3wbX9sOsxNTFs71Tu2S6/7uuxKjEIchZzUHJMNiJ2EzgM+TF4q/nx+o69AwJKQnkDJItVzg/Oz1KxlUOZT9qTWtSaUhkQlseS60/kzLpJTsWzASY+zX5bfD/7ZbpaOpC8fT0qv/wAjoDxgx2EZYK4AyzCbgCS/sR8Unqjd632BjM272Ov8O6nrhxtGmu67h4vHm6aMF8yKLModSV13vecNyf5fPh4OtY8vb9Zwq6DnMjdTBQMjBKDE+DW6RnfWBhZahiSFeRUXtGdjtAL0ol7hXgB/kGWP14+Jf0nPM59n/79Ph+/H4EMwFOBdgFH/4L/ELzdvKm4+/VbdcmyQbGK7j9tgC066tTq0GxarFXtteuwbS/xUTQzND1xpbYquYf8nnzbQROER4UgypLM/46vkcaTxpWUl3vWaJY1FznULlLvkHIPfAy1CX8IGAddhxvF7UTnhkSHgYU/hZoE4oU5BNnC2EJrQbqAJD2p+525TnjFN1c0d3MEcSRyjrT8sG8v8y7/LXGqNSkDqVBp9WoSLFitCa9F86V3u3s9vu/D1wlNzq5RYdOnVTgVMRWdklLRdc5ADSgKvIdsxJxDCIHYwH0BWwHGA+/GrQgRybKLqkzGDKJNEYr1iaSIFYXrAuWALnxZ+cj2yPReM4qyU/GucHDvdy5ALM6rNKsyqqkrM2sx7AbuoTIhduL6rn4LBMrKGY05kHxSb1UDlnvUUJNiUS3OgwvwSCaE6IFofrR+CHyXu9T9Z38gwU2DDETix69IhYpby9TLWAt+i2IJZYfUxR1CzwF9Pm/8FHmKNtK0p/HpbpFsrqnH6AKn+Kc45pOo1+0k8Nj1Dnld/o3FHUiPDGZPEdKqU8TTVNIzUI1NQQrVxtWD4AC9vUA8/3v5e8t9Lf55v1HBfIOfRdsHj4nRyspK6UtSipGKPUhzhpBFZ8MjwKk+ObqH+F81jTI774ftBeu36hXo6KmprZ0x/bWh+Q2/MsUhyQyLiE3Nz9AQu9AHj4eM74jdxgNDZYAiPHU6Sjo/eY36QzsTu9a9Zr6ZgI+CDcNBBb6Gv0bER1pG6QYqBT2DWELnQKB++j1++vH30XWicnKvhK1oK+/q7yumsEa18XhS/PvC6Migy6eNWZAJUekSThKLUNCNrgqjB6pEyoGi/n+8qvxA/Xr95D2SPbF9zX7p/4V/vP/nANKB6YJjgmQB5QHdAUkAtL6OPW87zXl29kY03PKisHSumG0KrYFw9DZ6ufN9AEL2CN4Lzw6X0IyRcdHYErjSm0/VzRCLAEi4xYTDYcBcP2wAscHNgfXA9EEYAaMBFwEIAPKAKf/DgBZ/7/6z/VD9l72TPRa7+3mOdyB05DLEMK6uGGzHrAwsvHCv9ZU4sPvngWZGfYm0TOhPVc9vTzVQKw68y0MJE4bCxS7D4AJyQQdA9IJ/A5sDkgPSw3iC54M1QqDCaEISASXAuUAQ/7X+tP24PPH7+DoPOD51eXLksKduuSy1600tfDEBNUx4grzZwV3ESsfEy9jNuE5zDygPdk5/S0WJC8X/Ql9BlYD+v2F/wQBcQG+A80GIQqrCtMMEw5KDyUUgBJbCv8EQgCH+mf1H/Fv7LHjK9ya1BrIsr6gt4KxlLTIwz7YXOKz8KMGFhGNHmoxczt0P3NC/EXKQ+k7HDRwIY4OzwqvBXP++P+EAGr7mvbd+Qf/bfvi/RUFEgeoDtgUmg+5CIwETftM8fPwQO0R4mHbiNGfvw+zcq9KqCitdsWp0eLZJ/UgB9YMnSRCPC9AzEa3WJdb208VUiFHmiWuHRsdEgtDBqsLngFN9Zb40/jC6wHw+vlw9ob9FQjbA9cA5wA5/L/0wvHY75PrguU13krQVMEjuAyzwbf+xk/Sedj56Ar7rAKYFfMrEi8bNKFCaUM+PbdDVjj3HHwaaRo9C+8PCBeCCw4BzASsAb359P9WAmX4g/yhAIz5tvNY9Z/rKN6D3ALftteZ0YbNlMWruwq58MI21OPa8OLl9pkAHAMmG6sqRiamMbE/GTgWNvs/pC4sF/IYJhbCCcQNgBNVC88FEAusB/oFUAkSCo0F8AOJBEn/Nvix+L3szeJ24Vrd0ddU1onQP8bVvnW+88Jq2EHkE+3a/mkHHgvHIMczvzKXNgpECzucNgk8Ki2qGrAY9hMOCpULpxGuCNQEIApTBW0CIQhGDKYGFwgoCqAAF/sg+F3se+MU3zPaqdBJzBzLHMPIt9+6PdAn3orhQvftBmMCLRJjKsolICQYODUy+SFlL5QpLBA1D0cTIwQpBPcROAxwCK4RUwvoBSYNkg7EB0IKYA2aA/L9vfpU7n3kYtzm1J3OUcs1yHm/YbgFuHLH3t0247/vJQVPDFQUaiuoMxQsvDTLN4IjsiYaKk8UiAeZC+z/QflUCM0KUQMZECoSpwpuD7UVqxAsD2cUaA5MAgP9e/XY7ALgrdhk1W3QJsjhw5y/CrlMwqjeEexG79IETRJWDV0dlTTVK7QnDjXKJ4sVsyDqFiv/BwGEAhn0Of9UDPcCKQbBFBoM+wn/EdsQxAykFF4Uqg3zDNsEs/Xi7TfnRuEh3k7XwsySxbnBYbvvzcrtyPkEATUZmR2RFqEqhD6qMUsx4TKCGQAPeBrBCP/1sv4O+u/vBwUgFBcKZgyGEkgK3QnZE64QxwkRCncI4Py7+dv4Vu3V3azcm9zr0vDOxM2KwHS55L0F0KvyhQlPD98cJCe2IoQplz+kMKYlzSyQGwEFNQ5MBpTqhezL/d30ifyjFq8WjA7UFRITPQSZBwYNRQaQAQkFnPuB8o3yG+vQ2QDd7Nc6z2LNCM6NvMCyb7VuvwTdvwjGD3wWgjERL8AwFEUzSHcrlSjnK8IPxQ3ZFcf3L+5E/o3+uf3CGJMiiRYOHIMdFQggB2wKngK4AaUIQQU//dv9ofmw7qnl/OGg3evWntBQxC26Xa8ho1KwbNtEAgUMwx2EMKolGjAUSr08AiutMtQnCQb3DGgPB+3X6UP9iPXq/TMkxyUZGa8f/B2eBd8DsAzcAMAAqAoMAsn9Ef/n+sfnOOf+7WjoouSu4RzQLLqOsfOkrqHZxgnyHwAzEbQtjyqJIGpCn0iqMkcwZDOaGOUHHxRX+tzfmPSd92X1XRELLVUeqhfAJPYPawTmDyIKhQCgCVAIYvylAtf7L+fD6Hfrxt6638jqoNVVxIC5o6TFl6CXwK9i1oP5dga3FAMy3yk4NTtSfU3dQwtD8Dg6GfUXKRat7Of0xwDD+DUG7CAoJk0UJCSoHWUEzRFmEAYCwwedFEcMdgJPFYoKlfZx/dP9E/GQ8C3rgdHGtFyqJ5TKiDWK8IW5nAnNNO3T+hUbaTCIJnVAI19UU11Kvk/6Ph8dEi7VKMIE0QeUE44AmgFTI9UmGwq/Fp0WJQXmBqQNXgVmBlcPWA3EBWASuAlY+835AfOC6ILjlNxGya6woaT6k2CIMIaggQGAsaMx2IH3uwBcHb0w+i01R+1f81KoTMxMPkFxJ+s0Eiq4C6YPYA/4+1AHsBwXHHUWNyiBIPEVCx7YGm0NYBgfHHAS9xNbFiMPaQUOAbvzheX64mHTv8P7vaSyNaNjnf6T+42Chx+SXJ54sKfY8/PmCdAcgDeyRFhNYFy1XQlUyFRBUydFEjnEN8UbcgvCCTMCdvplAwUQ8AGVDawZJBGXExQbxhfeFlUesBsTETIUmwqK88jsGue62nPaN9nI0ePM5sZ1wp+4CLjrsday3bS3ttbBQcVr0mDSztzA74UCCCE0Hng/hT70RcFOsFH5TdpF4EQlNdMn6i1pG84S8BOGCBkDSQOTDAf/Qgb1EKIPgAtEFA0OVA+xCCcKZwHXATsAPfYb90nunPLc5dHbh9/j0R7Z59g+00vVDcpW0ZfXIcaC3pnQO9wl423k8+oX7Sn1ruzwAUUDPxSIE5IfkR9IIWcrNzL3LMMwuSpwIlojiiBOHAMSVQy6CBIFWxMLD1UY1AfAG/MUBx85HKsaahEUExUNUQ1NCLv6ogPb8cHu3/is3P3t7uVj23LdMtkK1yrf2t433ZzaSdrd5CLpJ+476iPrfuMe9X7ybPKZ8Uzvxewb+ir8ovry+0L+YfhDClECCwjmC9cE9RMRE7sZFyAAIwknCSofMIwvNC8oOHYnkDTsIZsv4hiTKHoNNBk1AVAM7/m+9DP2s+Jy7l/g6etS2sPvYNjH9h7YPfzz11P4Qtl69YjVr/NM2B3rvOAg5xHobO4w8DX2k/hO+AsGCPswEwf7CRbL/vkRfQw9DhIMkhav/ZsnJvsvKiEHHh/TF8wYvSCBGHccLBkAFHsVPQ+ICgwNw/+tByP+0v0ZAzn2ygQe97kBvvv4/E3/OPdiANjxNP377iP2pu5K7zTtfe4+6ObzOOQr+W7mMPv87Jz9+vCzBP/vKw218FUOQPnKBpYFuf7GDGj81Q31+wgPDvjFEvvyeBOB9I8M0/w/BNkCaQM8AtYHhAILBxoKmABSESn+vg7iA30Djwun+T0L7vjhAi/7rv1X93YA2+5WBQnqoQRd7dz9QPTW+Kn1j/wl76oF5+e4C3LmqQps6rkFDe+GAffwIQBe8IkAae/8AN/wRQBb9XX/sftf/9sChACKCKwEZAqiCwQKDxHbC/YQVhByDWkSeQwrDYkQ5ALUFHb7ChNG/D0KowIEAdAG9v1aBdP/KQLIAJUB7P1CAwT6VwK2+aX8bfw49Z/9LPFG+l/xqfS88nHxEvKx8b/xufG99H/wgPk28Ub8XPY0/BH+JPz5A8L/lQW+Bh4FigygBuUN9wmkDJUL/wtVCXcMewUSDDUD5glyAwQHrwTIBQMFbwYZBDEH/AIrBl0CcwMQAYMAIv91/Un9Sfon/LX2T/sx9M/5q/I597PybvTV8r3ys/LJ8VnzSvMR9oH15vjD+cP8e/7V/1QCSgEsBR4Diwd7A7cGswNqBgUEpgWRBDgEAgaJBKMHCgQ8BbEDOgTEAqUCHwFxAb4ARgKAAnACJQIpAxgGqASGBsIEzwPMBP3/FgNd+7b8uPdW+xz4z/i3+Nr3WfuD+mH+Uv7L/Qj/xAAdAYz+Fv7E+mH8zvkl+436E/qR+ZT9Lf1F/iz9qf5U/wkBwf+1ASb/uf75/xYBjf+kAKIA7gPsBFwFwwUgBpQDigX4BZQD9wP0AEcDgwFVANb/1P42/9X9vgKS/xUCbwDSATsD7gAAAhgCLwIiAsUCzALu/x0Bi/69/7/9NfyS/d78Yvt3/XP64Pxx+qj9VP0hAJX93QDZ/y8A3/9L/iL+W/17/uL+zP61/+L+egGp/3UAqgJ6ANgCdgGxApQEggGfA+cByAIyAjMCdgJMASYBwABtAFAAlv/e/0D/Tv18/9L9FAAZ/GD+h/1jAKr9Zf/l/cz+jP2A/rD8NP3I/HH7H/3++7D9R/zB/E/94f0n/33/wv47//v+sf8C/jv+O/5M/dT+zP6pADQB5wGYArQCLgSUA0oERgIPBCACDgSmA5YDaQTJA8QD9QMfA7oD4QJgAmICPAE3AxwA5v/z/Wr+3/1F/Ur8mvss/IX78/uX+9z78/rL+x/8/vq+/PD6l/y6/Cn+qv4y/Ub++vxb/s38Fv3R+5L9zPuJ/MP6GPxy/JL9Uv6X/2ABHAK3AtACBAMnA9oDTQLHApYDAwBCAeYAQwGdATgCxwFyAWkDCAPpAAICpgLwA9sBSwTCAZcCAAMVAjkClwJkAeIBDALE/lMBTP13/7/98/+l/Hf9if1t/I/9dP2k/UT8CP+i/kL8c/xy/nn8r/8C/9X9/P9DAH//vf7Z/fP/cvwhAMr8Mf2s/vP9u/8PAVsAWwJtAzQDVAGYA1ED4gAvBDICnQQ7AEMDfwHn/uwBJ/+Y/6D+7v4s/jEB+/7O/HD+5/3PAoT6Efsq/Lb+5v0z/hP9+P6BA0EB0v+h/6v/UQIh+wwCyP1e+1b9GwNw/UX9fgHL/8cCJAJSA0MC5gDfCYEE7wOSArkHmACoBIgAaP6v/2z/cgH6/OUABgFQ/4v8qQR8/w36lPp7AO/+ovqk9rv9XQAI/D76pvqu/Xf/s/0T+jH9uv11BCn81P7Z/kIGnPuwAhYCIgDp/34DjwboAJkGWgepB2oCZgutBoUEYANjBy8B9gRNAZgCtP2wA/QAn/6A+mUDt/0dAHv8/ALgAU0CTwHUA6sDRASSBDUANwDNBbD/5/29+97/wv7E+ur6IP3z/cz/Af/t/If+YAW2AlsAFwFyA14BmQEU+2P8i/oS/uz2r/e8+gL3rfmS++H64fdG/6wGovl3/wkCLgRj/b//BAHq/vj8pP3B+a8AVfi69xn6uP8i/Bb66v+rAW8EfAL/AksGhQksBpcGugYrDsUEDAV1BbUFxAeBAmEChf/SAGEDFfxG/FL+Q/+2+kb5vPir9eH6QPXc79vvC/At7d7oXerI7IbtRPRz89X09AA/Bp4LNg5XGUsd0R7VI6cfGCMkJxEjCRjFFpoUhBHlC+YHDQQ4Arn7g/6a/hL2GfZK90D59vrh9x35qvgO8Yz0RPHJ5S3f5OHn5a3WVNOo1fPTNcUF0/LkKOrv6B/6MAxnHB4hGSsHOvdE+kuSQ4BEsD/fMssmHBm3ChcC3e+J6NHfutuf2kfc39mG5N301vooBk0V2iBmJF8oQC9oMOQu/SSeG8oW1Aeb/JjuK93A06fIvbdws4GrgqfEqJatrK3/uFPHWcpJ0nDwHBEJBzcJ2TisSCg7DUMuWNhZLExGSYVC6TKfLWAZQgKK/8z9VOhf1x7kPOzi3XXmA/U++x0I8xM4HesnujLQNF8zZDcGMkkkVRy4DpH+sepD3GPK7rijsAqnb51unG6buJy9pyWyWLOpxVnhDOhZAwwV7RhMNqxJTUjeSoxRbmBdUsJEEkLCMDcptBZ5+iX5CPSV3yzThtq65gbi1+XD8v//ABDhFFMfpzCSOjU5HjmCQSc+ZjC0KUwbuhADBszxdN9M0pDKSbtDsfOvoalSpUaqZa6rsECynb2oyY3OPNZH7aAQYQh4CtQ1aEBFNhlIRFgjVEBIKk1yRZ4rVygkGjwCpvVA9ILoFtL81pTiZtre51PwfPdECO4PSBpVJgsw4jgjN4U7AztIM34vSiUIF9oGQABd81PcY9JTyli/eLajqoeu8K+jqm6t2blSvKe6Lcgg28vaouE+A1Ya8AxgF5pBij9BOtdLuU/4ReZIVEnqLmoZwiVnFmn1O/He9Urs9t0i5P3wUfFL+icHMwv+FAEjRi5mL10zaziHOLI0US+BJq8dRxE6BlL5uejy2m/RnccKvUe3OLFwr3KwP7D8sxi35bsvwbHE2czk2oTh4ede/MkUlRcgHGs1IEMCRqNKO006R8xDjECNMiUdNxexDzj/n/T89P7w8eqY7/v2lPiI/0oKJBIEGakfkCpdMJAw5jAoLyUsfifhGv8Sqwrb+lPvT+dJ2qHNeMUdv0K3WrOSsz+yH7ICt0K6d7sjwOHIHs3G1JviAudx7H0BFhKDGIkhAiyQNH08c0LNQu0+jzq6NCErUyFHGSkORwFW+3j5BPfx83D1yPrd/zMF9ww/FFwX4xr7JJcoPiW7JbwipBxYF7wQ3wmkATj4LfCk5srek9elz33L7MhQxdPDfcRQxg7K0c7p1CbcKOI55hbrrfCT80j1n/n6/S0AlQXgCtsNFhDrEvcWiRnzHZcjmiOgI4AkCCIZIMUfhCDyHV4ctR2TG0YabRzJG94Z8BkuGhMYNhaoFZcS+w6vC7EGPQKpAOr+ufu4+R/5gfaS8szw1u1M6qbmmuIr4HncQtex1MHThtMw1NbVB9hr2oLdVt+74hzmzeYr6PTrr+/n9Ez83QHxBCQKExGYFpEcziX9K/As0TCwMvYwnDC5L80t5SzBKjMmqSG4HpYZYBRHEvoOTgrYBsYDFQBE/Fz6+fc/9L/z0fNN8/vyEPGg7j/tO+tq6BrlQeKf3gjcMdh8057SiNEBz7zNNM+f0mrUdtYV2gnekOKD5aXps+4c84/4xv5OBFIJ9A9rF7ocXSPUKv4vZDREODo56zjLOUA4rjPfLyIt0ijdJGoilx53GWYVKRL5Dq0LKgnuBtYDrwCR/Rf7dfgV9gX0ufHM73XtdOpB56rjpN/c2xbZjtcv1tfU9dPt1JLWtti72yzfx+KZ5p3qru2e8HHzjvXG90f6Ef26ABwFIQmVDboSdRdmHUwjHSezKhQuQy9oL/wv6C6vK6gpASjHJEgiySBaHn4aYhfaFMEROQ+3CxEHQwPW/8769/Tl8FftnelV5QHi2d+e3NzZE9g81orUV9Ra1KXTLdTC1ZDXqtn+2wjfROLN5RDp/evR7ofxvfMY9hz52vsb/0oDRQeHC04QrBTvGLMcXyC5I4YmwCduKEQpMSllKDgnJSagJZkksSOaIh4g1RyHGhEYcBSlELgMMwlNBCz/5vpZ9tjwMexL6FDkkuHb34LdmNsf2/jagdpc2iHa+tpF3DndsN7i38zhHOSW5gLpd+wT8NzygPWe+FX8HP8ZAswFeQlxDUEQ+RNAGJEc2CDyI4wnXyqoKxIsGyxiK+0ptyhWJ3olhyOBIfAeXRzHGd8VwxEZDSkI0AMi/xP6XfVE8b3tZOoy59XkxOKW4KDfHN8q3jjdBdwm273aJ9pq2mXbbdxy3Y3fPOIP5Obmo+lY7LTvb/K39I/3rvo1/hcC1AX5CRIOjRIBGGkcxiCWJDMnnSlYK1ksUyzqK5IqWCiqJvgkzyJ8IJwdFxpkFnwSLg4+CnAGPgKF/fj5Nvc29DLxYO7o6//px+d55aTjHOIu4N7dSdyh2ljZY9gk2HPY0Njp2TrcQt+74ZDkk+ig64PuWPIK9kT5gf1CAnkGFQvED3sUvxhjHPsf0CJjJbInyCg0KfEo2ycrJmQkYiLZHxkdCRt3GLkVnBLcDssLowjoBNcBDP/i+6H4VPZ49Hnxxu5u7F3qeejg5cfjtuFb3zLegN2u3DfcItzx23nc/N0H4JfiF+UB6Lrr6+5E8vj28vsHACsEGwltDc8QQRXUGYAdtiBtI7clxCZMJ90njifSJqMlWyTuItkgAR9fHBgZzBYEFNkQMQ6YC78IEQVXASP+7Pp59830qvLX7/XszOpj6OzlSeSy4i3hNOC33qrded1d3QPd892k3z7hEuOE5UDoQeoJ7cPwwPN399b7OwAjBagJ0g1UEsMWMxqoHBUfyyB1IVwiiiLOIVogah/PHjMddxsMGhEYchYsFBIRxA7BC+AHwgQ6AUP+n/tE+Xn26vO98XjvAu6m6wnpAOce5eTjD+Nw4uvhzOHG4bvh7eGG4uLj5+Q75l/oEesg7tLxEPYd+i3+UAInB9ILyg//EssVJBguGvQb7xyGHZ8daR2dGwUa1xldGYsXNha2FUYUUxIkENUOtQzgCZUI/AZDBI0BEP+l/Oz6bfnF9t30IfMD8SHvU+1n7DLrmOm36Avohue15hzmruay6LvpgOrI6/3tLvCj8h32C/nF+4n/cgQ1CGwLIA+0EnYWRRlyGZIaZBsuG5YahRjKF7sWTxaKFPgSlBKXELYOrgxYDO4KoAfZBT8E4gF0/+j9A/xS+QT4cPZZ9GfzEfLV77rts+tG6oDoXufr5kbm3eSZ5KDlNeaV5gno9+mW6ybuU/Ec9Mr3fPoF/5wCRQbYCZgNIBD2EVYUARY+FqgWxhXpFIUUTxNREa0QMg8GDloMzguQC94LvwgkB9cF0QO+AdMASv7b/OL7lvxT9xj5AfHbDugaD+kM4LbmSO5K7V/qgufQ4bPWP9lc2LDXE94b4+rqxPTcBa7/jAKsA4sLJBdLFWMWNxeEGx8bThpbFtATlQ5DC2cLoQ1REb4bxhIODDMH6gQgCMAP3hIEFEgMqAZPAUj/ngA6AKz/rvvh9DvwgOqs5prmZOQg4Wje2d3J2/Pfed+g2mbbYeVc8SD6EAEgDT8TbxWZGPggByfqJ1YpkCijHlQVHRE1C5kFEQWrAkL8yPqX/Xf+zAG+CHkQohTeF+Eb3x5pIFci6iL6HjAbOBT5C2ICI/4H+JzununG5SLfwNlr1G3S2dCf0PLRYNHqzs7T6ddu2PLhKPOR/f4Ddw8lH7Yl/ibEMMg3SzIpMW8zMShcGNIR5Q1mAib4wvQa71Tofe0s8zXzJPlgBxcOZxE8G48kYiQQIrYgfBwRFosQowbt+g7xp+is3GrR9cnfxcC+0bpRu0O6r7d7vADDvcNMw7zV4vEP/ZIAERdHLakw2TOURV5S9k3zR4VGHDeiJBQfXBP4/b30L/Gx5BjaAN8o6TzsDPR6BRoRURn2J+UyYDfWO38+IjnuLU8k2hpyCLH2P+vp21PIrL0ktnGqAqW9qAWl659hpmOwPq/mtinZzPkN/AoGKClSPaM5ykXKX71m81fSVJ9UxEEPLqUo2xfJA5T7X/I14FjZGN+047zgxerC/G8HFhKrJe4w2DYzPdVBVDv1MigsDiAnCjz7Ru8X3HfJUsD7s7entKHAoVycXpmQoN2pc6tEvbPfG/M19i4NrzCBOHQzTk1iYjFWlki6TgdKSy8HHQUb5wq485br3eQi1QnSAdhh2J7aJete+Sn/1RCmJ6ssoDWqQ+M/MzSdLmYrLh3OAr33WvEa3MXIir4GtLKriKgtpxWmualOsl20I7oP2iPxHvOyA4Mc1TBdN8k26Uc1VTVMcEQzP80xVCWFGecIBQBe/Uz04Oij6IrsZe4m71byRP+ECIgKshK8GgAgsCNUJPQhTCBnH5sZVBIXD5MKKADf9nfyb+kA5KDhENfL0k3VKczSxXvM880GynzPatcT4jLsmu5G+XIGOgvoFyIiHCRrLIMwDS0SMoQxzSmbLLImVhtsGVYU/wnNA5MB8P3x/fn7zPsyAXoDAgZ8CtQLJg4KEakNig41EOINkBzjCl/v2/Ms9CHxOebd0lTX9NbfwpS/Vcamu0C3Prvl04Phi8zx5jsFx/6mHXgpxCPOOsVIfEmBOzc76EYJMMAhrh3FEaIDLvp58QXrYekv5QrjvOwu83n1C/yIDNcPyBVMHdkaKyA8IXUcHRgkE9MOIwCR9mDxrOIg2zXSlMcfwqC+ProBt7m3druHvLrBHcxI5Gfy/vBbBqYZvB1nMNc7UT4nRhRNuE/fRGU5EThXLBcfNxiWByr9e/uF74Lower/7ZH1t/ysAqQJuBVGIGsgLijWLRspZSedIk8c4hL9Bt38K/JW5pDdKNFhzabHnLx6wRzCI7xawe3CzslDyqzMqdmI7tX0evJkCx4buxRbKR44GTFcNu1DqUBPNnEyPi5EIlgcdhaJBUf/dwGf9xv07fdx+T4A8gWtCWoQoxdtGwkdqCI2Iqgb5Bp6FWsLegfw/8/0mesr51fe2tLf0GbMRsXjxTXGg8YBwozF7MorzUHMm85c5Z3zv+T3910WRg0xFckzxTEbMixAx0RUOgI0jDddJ3UbgR1XCQ4BdQLi96Hy/POf9eTzevgvBa4FuwcmFQ4XGxlaHQYY0hp0GYMPmQs6Bkb79PA772blwNqG2KjUl82sxkjHRMdIxFrEAcRqx/rHnsnazl3jqPC25TH+zxjcEN4hzzXEMeo4bElCSJE8Yjj4MOEoHyLfEfgF0QHs+yL0BvB99N30H/US/WwIzgoODhwdbh0FHXojcSJTJrQgXRs9HEsRwgr2AWX4ZPJc5LffEdmC0NnKOsS/yDDFUr3ixiHKnMOoyijPmNCL6PPw9OrJAfUT3hgzJ1Q2PjwCO0hGvkwDPYozlDJCIpgbVBM7AUf9x/er8PnsJvBR8ZPtOPpSABoD2w2fEXcXfR8tIcAfeyMnIh4Z3xZzFMEJAv+5+S3ySOcO4SDYcs5czLnJwMLZxpXFn8BfyOjHPsyOzZTNrtk/4snrLvTN+qELHhmwHjIpmzRBNfg68D+EPRo2+SuWKJgfoRQUDXH9hflU90fvoe3L707tz/VQ++z7ewf4D/kPNBgfHBcbAB8FH5MboxUaFF8NDgSEAcX5+O2O6wvhC9aJ2MPMLsZeytbCNsX+xQPIyMmlzqnTv9cR46rlcemBATIFsQJzHN0k5h2fLZM3ETjKNe86Hz39MNotBCsnHPUachNICX4GzgQTBCT/fgVHDE4EcwklEDwOqBG8E7kSfRBmEgYPwg2IDWgMOwlTAz8DJ/w8+VjuaOlx58XbFNVy1EDN0sb8yQvKL8t6zKrN5dpm1Szb3ebA34Hqo/AX9y8Amvl5CkMUTAujI88r1CY6MM0yVjxONK4txDOOI7gmvyJyEy8ScA0HDoEFsAbGCcIAEwb6BWcEzQWeAjEGfgYGBPwIoAZ4AM0JsBfc9Dn3rvUd8A/vH97h4hngmNajzKvLRsZSzhDQas9ry+HR+9ex0oXaFdxc3o7kU/Hc+X/3ugBlD1kctCFhJjcssTSEO4o8qjOVL/Ix1SiNIZ4XqhHXEWoL4gsSCWgIGw5dD9YLmw+NEJ8RPBGSFSoRxw6PENQLFQc6BOQCvfvp+LP8eOyC7TLqyeIu18nTC9PkzGzLpMTXx2rHFsg4zOXNHNZe3zDcE+JD5ov1cwBMCNMDhha4Lb0rVy6+O8lEn0IvP60/kTpTMMAtAxsKEJwQ+AeP+dP2cf04+Iz6WAKKBtgN3hTAGLUe9CKhJ3ohoR+EI/wYABDnCmcBnvdw8N3lw9mC0zHRn8b1vhq+OLjDtbe2KryOwlvBLshdz/PKyNQi2Lji1O1Z7GIDoBxjE/wfRTzCQjZC50wWWQJTRExdTc49bTHvI2gVqQRa+5P7vOa05KXwlehK7rL3zwAJChUVEySvI/woAjWhMZMtLiqvKI0clgrmAT/0bOSB2jXN7MF4vSC6R65dqryz2rN1tl+6ysNpzA7QntTe2g/eyN9t40DlU+zg9jf5WQr/GDEbByxEPelE3EXmUe5cwFO3UPJMxUHtNxYpOx9mEecHHgf5+Hj4t/q7+l0AJgSJD7oXoSPOKlkonzXEM7oqGCrNIdoY9gs5/aXzJeFm0xvHXL7ZtMCtCLD2rZysxrK6uFa/XMKYymzZAt1O4Vzp/Onk7YTtDOyu7P/yAPV49LAA6QtqD9IabCriMio/KkeLUIBSMFWcVJNOd0iPQIM1ei4fJnUbFA9sC+IK/P2j/rkAcwPrBK0J7Q78EDkUvRb5E2IQtw6yBrj9KfNz62ncttKsy3G+6Li0t7i3WLCps5q6F76mwTTJcczx05LgreCO4S/ji+wy6Gbp0ed15oznQfDM8fTymvjECUsR+xt8KBEx5D3hSm1T9VNkVnNb61eUUddLLj8MN+wsBiWYFx4Ougn+Aqr+pgBI/aD98Px7AUoDTAIOA/39y/ob/M/1kfCN45XfSdre1+3QO8m0whHJrci8zDvFYcpB0EXZy9un2v3aeOIs6Bjsb+dv5vzqvvHw9S3z6fPj98ACfgeEDLYIvxObFxMjEiAYJEojyCpHLMkucSnaK0osQC+VLu0qxSxhKDEtASZEJ2MgnB6eGZcRsBH1BUcIYfZD/H3tMPlQ6FjvOuBZ7Yfnv+6u5aXmOOpw7s/xH+i46d/mI/FA7OTopuLm4VftkuQz67zYHOrk4wb0p+Yw7kro5v3/9GEGufBpCt7/BBY2CwcQbhDrF3UaER5vE58dMxTyHrsU6xFQEaUJdA7xBMoBwwHr+I7/PvYE+O34OPH5+s3uJfrH8t71VPMI80jyGPn/6w76n+X1+mzrGvfQ7Yvv8PJh86v0xvRq8Kj5WvUW/Ov3V/jp/ZH8hAK3/ggAdQW+AusMqgItDpAE9xKyBwgWewZbGBIILxgGDSQQOhUVBuoaav9UGFr/Ww8GAOMHZ/oyCLbt/wt94lgLF+DaAq3kO/oE52P5u+JkAHPbvwcd2uUHJOI0Adrszf1v8LUCHezpC+rmNxDC6dcJevXf/b0AcfdlA+35RwDp/jL/5v8/BEn9qwrf/ewLNQU5CIsOpQWZE9sHhhLHDSIOfBLfCuYS0wlMD9MJ4gl9CFQFfQRFA1b9UAN89UkDPvAjADPwoPlb9OfxL/lj7mP4PvOQ8FT+z+ZXB13jjQdS6cL/ovIK+Yb2RvjL9GH6LvMZ+fb18fQM+Q30vfbQ+TnwkADP7V8Ag/RF+JIAKfADCa/uIgpX9HIGA/x6AwYBjgPcAhEF1APcBagEJQagA7IIe/5iDbX3UhCr9OELN/koALkBFfUJBNjzJfz0+jnwmAJW6J8EiOcKAv7pMAAr62oALu3R/jjzvPmy/KjzBgXx8EQJgPLSCXX2qwhC+6IGwv9KBdYCLwTFBccCqgi+AH4LSP/pDK//wwucAqsIkAabBbcJjQP9CxMCoQ23ARcNsgPKCnIFhwpcA8MNa/5aEb778Q4WAB4GMQdo/h8JIP0VBbj/j//NAdL7OQIa+WUDYfW0BVbybgVE9LMAMPki/BL8T/uP+yb9TfoS/5n5ngAB+agCiPgwA3/7V/9cASL8hAKs/5r9fgUU+zYEIQFF/DIIOvlMBaMAwPumBnX7mv6PB8Tw7w/a7q8IaPnr/Lv/Z/uZ+tUBZfSpAqz3IPvu/gD25v7++WL4CQAD9dX///iY+jz/V/Z/Ak72CQJw+dD/Cf2L/nj+YwBM/eoCvf0JAl8BYgCjAZYFnPnUD83yfxGc+XsEkgkO+H0OJv1kAaYN0PNiE7D3+gcVBjL7RA2U+Y4KifyNCH37TQr7+eEHQv/H//AF6/quBlH7qgVP+SUJJvSWCwL11wR3/lL67QS2+H0AIP9A+5n+kAGM86MMiOwFDKf0YP8nATL3YgNf+nv+gP2xAEj2ZAsD7VsQa+9CCIn72vxOBJr5WgNV/i7+mQO/+vsFYfodBTX+YP5VCHXz2xF/7g0RQPUWB9P+TAE5/9gFzfeMDL/0SApQ+xoB9AMw+5gFqvwhAh4AIf/qAdj94wKA/BQEd/uDBGD7HgTX+1wDWP1GADwC8fmnCDf1PQoc990FOvz3Af79HgJH/UUCtP6//0IB6P4aAG8BdP5MAE0DKfn9CU72jAfE/Zv9lwYj+aMFDP4hAJ8A6QFp+0sHbPmWAxQCZvihC67zrwnn+iIAiwLH/L8A6gGz+jEG2PjxBcz5LwUO+rcEzPvcAKsBf/q0BtD4ywSK/dj/wQBMAHP9HgUp+tkFKf31AKQC0/0OA9wAo/7gBXT7TAes/O0ENADaASgDAQDJBDH/mgXZ/ukF9/7nBVb/ZQXe/9cEuwBZBGMArgSx/0kFzf+0AxcB0wH1AZkBXwDVAn7+9gK9/rwAqgB2/gsBhf0xAH7+Qf+0/RT/q/sjAh/5JQNS9wsCgvqL/338Q/wO/ff9gvwJ/8T59P95+tMAFvuL/vz8Jf3H/078Wf/w/ev9g/88/sv+WgHR/HIBvP2TABECov4YAZf+ZAHIAZcByP6RAaj+ogRZ/58BIv8nADUDmv5/Axz8KgON/iEBEwDV/vv/pP9C/icA+P6S/hYAsPuTAMP9EgBx/cL9/fyEAOr+Lf5t/kb8mAG3/4X+6v9f/D8CIgACAAgATf+sAH8CvP8FAoMAaQFKAucAWgLNARECDgHsAWsBQwPMAXkBnwBbAuYB7AKg/xwAAACFAT8A5v8e/Tb/DQBb/qoA0Prr/8L9Rv+i/rP8av1f/zL9ov9g/J/+bf73/iH+Xf/D/ggAnv8t/tMB+P5SAln+kQA6AJ4BFAH9/54AEAGBAkEC7AFuAooCgwPMA4ADmwMLAycDmwOYA1cDqAIGAx4D4QOqAq8ClAISAuoB9ABAADIB/f71/2L+WP9m/3P+xv7A/t7+RP/h/Qn/nf5e/7j+Cf8+/3oA2P9oAOb/tQB3ASkAKgFcALoBaQFdAWQB5AGnAc8CkwFMAk4BAALuAMQB//9kASoAIQGtAKP/nQD2/0cBeADRAOD/CQHe/6H/9P2H/i//Uf7j/dn9Jv5N/pX9Sf0e/Qf9qf0D/KT73vpP++36hfow+5H75/vH/Cb8QP0W/NP8tfyH/Rv+e/0Z/uH+kv/v/4X/tgB7AKoBAgFqAFsASwF6AdAAEAH9AWsCpgFQAjgCEQIgAiQC9wEUAsYBKQIOAbEBAAKXATEBLAGZAdQBrwFkAcgBIwJHAj8CQgH7AT0BqAFHAS0AXQAaAO0AKwB9APkAyQCfAAsBIgFbACMAOQDOAHf/OwDX/1kAhgC9ANwAbQCZAIwBGAFNAboAXgHbAZoAbgDH//sB6gCnAU8AsQDI/7b/1P+I/3H/JP9r/yn+0P16/Zf98f37/Yz+1f3y/fn8uPyD/F38N/wL/Oz7BPvU+rv6gPv7+y78B/1u/U79Jf3Z/YD9n/20/S/+cP4T/vj90f2e/Qj+RP6j/sj9Xf6f/ub94/0//tP+hv6+/on/3/7K/v7+of/X/+X++P8zAF4AMwBrAF0BXAEZAmQCwAGqAQIBcgE7AfkAJQFnAO8AKAF+AT4B+QHuAsQCmALKAi8CaQJWAh8ChQKVAhUD9AKWAlwCagOHBBwDUQORA3UDdgIGAvkBLQIvAhYBFgHrAB4BpwABAWABUQFoAW4B3wECAfAAqgD8/67/1v96//j/3v/j/+3//f+N/2X+zf5U/gv/R/8h/gr+wv7L/qX/FABpACYAQAEHAckAwACtAMMAOgEVAccAWADzAPsAuAAaAC4BSQHHAKYA4ADlANoA8P9bAI0Arf9cAEAASABM/1H/6f7r/i//nP5k/l/+nv6O/sL+A/6x/eb9Y/2L/dv8Iv2Y/Nn8ffxG/P374/tc/OT7Ufye/G/8L/w//Fb8jv19/XH9Pv1D/er8IP2p/H788v1g/X39if07/YX8LP16/ZX9iv7z/Wf+Kv5U/i3+Yf9nAIsAegA/ASUB3wA9AfQAtwDVAcUBHwI2An4CXAK+Ad0B6AG4AX0CiAIVAjQCZgNRAskCbAN9A/QD+QPUA48EAgUwBd4F0QNuBe4FsgRDBd8DzgR1BPsD4ANpA3QBzwLAAQYAXQFW/ukAaP/l/br/LP23/kP9Cv9W/OP9TP50/nX9R/2j/WEJIwU97LkNW/BOED359wPy/XXxiAU89ucFYPvp/6/7YwXNAgkFBA2H+SEDA/6KDg0M+QTm/KL7Nvih/vsFSfgy/271wPWNBeT81gTA/Vn5bQbaA+YCzAAPBVT/VAKkAwIG1Pp1/t0YH/B0GPbslAyO/un3Pv2O9m0Bke4p/o/3WwH08IjskQYK+Kv9d/d29MD+tPVvBEwLFO4/B67ufP8K6QkN2OR5+ZkOJusdCqHuwA2YAOcPOf7fDesCRgyJASQA5wej+r/91/UlDSkEJwlG+tsNq//CExYFswkRAeQCKviW/hcChAL3+znx4vlv9+QEKfv8Ajrvs/Js9xcCDgLr/r72OPOE8zT5W//A+/H3OfU87+D+zfwt/QD40vi6/AQFOxAgDiICEgvaDowVJyILIJcduRvNFl8lhSXUHh4bHA9XCwoJ1wpWCKQG2/3i+zv8tfRV/wQE1/kl8NzrLOoc693yXuDK3ajQeM2r1DjRB9n7z/DMMckT1Rjg0f8+Gt8SuSTwMDI0p0rhUzpYak+yQfE19B4gD7oG6fw34Hvi6NN32orjmugn9F74kgjIEd0mPTZPOZE8fDlyM6wtuSZiHHoIaPy+71bf7tPvzQ7LtL+euxevqrK0sAiyE7XNsB6vY65Drhy3msl74hQMShfJIsw20Tr3P4RXjWAEXCVTDkCLKEIKVvkA8m3h7tuY1u3Jnc9o4cTwHgdSICYskTXIPR9HoU2bTDhQaEFKLZIc4whv++Xvl+kw3nHWbNMez03ShtNk2ELWMdVW0fHLyc8F0DXJscYJxku+Jbnw7C4LlAyDLMY4syvKMiNPBFV8WVBc/EWHKjMHrQJU9ATj9eZ33vDObc7f2uvi5vwHFRkrLDdNPwJMGU4rVcNWOk6aQjQv/Be3BU/5RewU49/Wos45zNzELcb7xeLFa8hfwIq9Nrj6rlarzajkr5q51su199IClw9OKME1LTonTF9g/VwSX59GsjTNE7r2U/Dr02XQlM/9xy3E3M1p3G/qaQUUGwMw0TjVREhN6UYsTFND9zd9KG0ZVwhA+S7zDupy5q/fB+Sh4C7dTuHM42jnZueD5aPgB9nt0RjKUcbWwpS4ZLAPqTitYbW60zz7wg1zJBc7GUKDRptVhGInYX5ZVkaXKmENDvIJ4t3RbM3q0GPPVM7J2nHs8f7YFfsu30L2RB1LtUYjQUU34jIrK6cc6A1h+VPsR9t02mXeouHu6THqwOpL7cHwzfMD9aDzju1g4nTUacgLv0W1gq96qd+ye7zfwlfmFQwdH5M5CFG4UQRVrl2nX85UtUasNkQcwvhi6i/fE9Ew0VvYT91C35ruIQJxEl0nXUB+SqtLDU/aSL45eS2RInASWQLP80Lmytmx15zWCNws5QjsF/UK9Bz4u/xp/ZH69fF36wjdpMygxIa/wr4PvsS8mb28uv+5aMfd2q34lCB8M9VDRlCQSq5OMFJjUzdSDkDMK7QP6PJ53SbUL9es2fjhtenR8NP6AAtuIZc0AEWpS4JJbz7QMIUkzxfEDusBxPes693e9tit2bHfc+YV8rb5RvlY+sD34fbm9YLzgutl39bVGsojw23AYsH9v4G90b7pv47Kr9sZ7K4JByu6PFlCrEmOTjVNNUoDTsVH7y4iGwAKpvP94ULhXucE5hLsX/l6AuwL0hqHLKE6AkPeQu5AozP2JmIcmwta/rjyOuiq3pjZcNmG4CHlaOvn9af6YPwwAJUGbgM8/zT9Y/XG6Z3h2NxJ1B3Psstex2PG3cTQxaXL/c/N1l3eZOKN5M32JhBQJdIzGT1HSYFCbURJThpOnEt9Pu8xJh7zCE/5gfNM9XbxUfP39534qfrhBcgQ2xjMITkr0itTJiwihxn9E50JpQFp+EDsUuQn3zXh598l4g7ltuj96QPoCeqg6JHn/uf75i/c3tUd1wzS+ct3ydnKjMWAwBi+IMINy0zSpeEB/KEh7itjMCpIT1PhYsVoum1Ra8tG+jHXKPIR3fBQ5n3n3NVn1kLmmO7/8eoBbRlgKiUulTZ1P9cysCofJlwcogW79krsQ9g5zFXHrc+azeXHLc5Y2K3h9+m0+X0BsAA/Bt0IxP589RryxOlm3LLUctQ4zHi/xsEGywrPANCh1pffJegI7jL1oxCsLcY8Dzj8ORJPdlhBWRpPDUgnOOos5DBiIcIMfPxh+x//pf9DABX7hvjG/gIKUxBmE+4N9AnqDUEOXAvtAlj5C/Ke8QD0zO+85wPlnupA73fvyOuj6izs8u4s80Txme6Z6hLnNObV3xjY1dS01oXTes5Kzm7Pbs/QzBXSQtxA6PX1Ygv9JtUodi5bR85aQmPIXAxecFsZVzZPYzj3Kaga4QxJAAH2Ses+3nvg8OZF5x/n+esp9GT8GQTyCt4ImApXEGgOhws6BUX+2Pde+F70iemx5yPm/OS243znIOap4Gvloeb047XkJ+Vz43Hjz+Hv3Y/e3eHw4VLgtd8h5F7qOOqQ6zvwuPQW/EIGMg64HgYt8ipDN5FInVFHU51QglEYThJPe0fHNYgnkx+mGVcIlPxM9Dfod+a558Xgxt2S47/nfus+8IX0QPZF+63/mgFMBLYERgZjAxAE9wKIAJD9/vhy90HyHuy25fbh+N2t1hfTndKy0HHQndFO1CvaY9sT4LXj4OtJ8VfxCfTS9+3+cQGBBzsMbBusJkQdfixqPetBVEgUSsdMxUVZSARFRTSGKE0ddRQgCDf9cvQD6jXkXeTn4Ijcg9/T4jfm++o38r7wFvUW+yH9kvya/egBOwGHAsP/TPsU/NH5W/XG8B7rTOse6A7l2eBR32zcgN2n4W7ik+Ta5Fnm+Oy67vDt1/Bv9aH1K/dc+pH/l/2a/gsGMAr3EKEQphv6KAkgECXJMuoz3DVXONk5ZDSYOCg2AivAJGwc6hT9Cl0DQ/f37RLoBeP0383Xa9iJ3Z3aWuLK5wrnxe1u9Zn8SQCZBEMH0AexDLQMLQ5/CzsDiwI9AcT3UvJm7M/kGOJI3iPcEdju2GXb5d6H4uLkPe5L7132gQCbAcsDCQvYDBYN8g4GESYO/QjbDPwMqgjuD5QWtw9JFr4fKyI2JZUssi0RKhEvDy4AJ4ge9xntEVMGVACV95nu0uf75u/jGuD65EPlOuZA7G3xHvZ5+IX/twNcBV0LJgyqDHMNrQviCp0IwgMIAFX+Zfrk9GTwnuyn7IDpJORi6N3o3edG61DtaPBi9ET1r/uW/xACAQOcBUcHVAXcBtoFPgW7AngB6P61/pH7evsc+QP7ZPzX/CMAPQHJA5gIkAtyDd8QRxNQEhEUzxEQEGgMFAorB+4CCP+W/IH62fdN+YT3YPeB+jr8Jvs6/KD+a/5iAKX/vP+p/9L/hQD+/hYA+ABoAMgAxgGlAgACegQ9Ai4BMv5+/k/8+fud/EX6uPY29tX0rvRf9gf2g/Wd9fz2N/kB+m76NP5R/tP+lwAQAYkAlQA7AjsCHgGZASUBRACjAcQBjgLGA/UF6gc+CRILqgyhDbgOxA/pD3UQ6g5LDjINlQtMClsJMgiNBwEHLQUHBioGOAVIBQUEagLNAvQBNwElAr4A2/8SAHb/DQAMAND+u//C/gj9i/2b/Uf8V/v3+dP3Hfae9TfzRPLj8KLvgO+87wnvRe/j75TwHvJ49Oj1lPfK+Vn8pv5u/7QCwQMBBYcFSgZZBsMEwgSJBLMDMwOGAlAC4gBrAXIAhQDH/wAAwf86/2P/af+9/z8BqwEoA5sF0gVEBrcHOAheCcEIlgfIB+EFRwVSBNoBcQAK/8L8n/v4+Rn5l/bo9J30WPQy9A70sPTc9Lf12/bl9vb3tfhY+v76NfsI/Pj8uf64/yQAIAGtAhQEzwwbBXMBGwMcCr0JbgXtA8EFEQTABFsDLwSjBMcEdQQABPsDJAQ0BN8DQQTwA3MD3AJSAhwDOQNdAtoCAwMfBLEE9gSOBYQGRgdxBzwHbgdsBw8GGgW4BB4DiAF1ACL+cvxJ+1L5mffZ9oL2UvUj9Vb1RvYv9yj48PmU+rX8Rv5O/kr/SQACAWsB7QBzARACXAEmAQ8A3f+L/43/df8AAJH/Lv9J/4D/2f86ANT/nf+5/1j/Y/+N/xL/Bv6q/ZT9Rf3g/EH9Jf2F/FX82/wb/cv8lPxU/ev9FP0J/Tz+uf4N/lX+wv6z/oj+Cv5K/fz87vz8/Dv8q/sS/DH8a/xt/FD8ffyq/Qj+eP7a/wcBbAHpAhAD5gOLBOgExQQmBdQEOgSBA34DXwOcAgECOgIxAnABJwHCAIAAlwCXAPf/iwDMAH8AVgB3AH0ArADEAOkA9QAVAX8A2QBKAVABGwF1AOoAmgBJAEwASwD4/x4AKgCpAEMBqgFBAccAOAGxAcYBngGKAY0BwAF6AYgAhQBSAEsASgA3ABT/Av8x/4r+OP4m/tn+Pf76/e3+vP7l/hP/e/9x/+P+fv6t/mb+mf4Y/8z+gv7J/sX/tf9p//v9xP3h/Vr9cP2C/Gb8dP0v/fj8OP2//Bz9Wf0V/fH82v1X/mj+nP49/jUALAEDAfwA8QDLAlUBrQJzA6YCdwGUAmkDfwK1AkAC1gH+AYQBAQH6/47/m/9+/37/gf8b/40AV/8Z/xH/Mf/R/q//Pv9E/2z/gwCD/9wA4wD8AAoBFAIEASYD8AH4AFgAjAATAOYAOwH3APP/hwCIAFn+JAG8/jr9uP3r/zL+CP6s/kj86PzS/Cf/jf7c/Vb/vP0YACz/kwA8/zECTQTzApYDdwM8A5kEhgEDAowG/AG0BFsD4ALSAZUC+AIuCn/8vwDpAPn8mgKq/pj/Df0d/qUBBgXu/rD/EgeZAKALggPf/j0AtQCG/5QDgv0j/FMJj/b0ASYEyvrsBtL2vQRl/QYDDfKTBYf5NQPu++v4bwKt+nsAkfvgCe70AQhV/N8CZvHhBwT/qQIVCRAHaQe58/r/iAG+/xj/XvyR/OD1fwUN9ZT9K/ENBS3+SgrDCf3//gDo/eoHEgDZ/VX34wWRAxP3pvS99TL9rfNb76nyPvnc+Ej0sfc1+0n9Tfs6+5QFbQe9A3AE1AbyBoEIewLjCasAzA3DAUAJrgfcASwAHv3ZBWUHJQjDAbMAwQdhCU8IqwXF/9IDoQT8CcQItgWwAPcGJvyKAAP8NQcfAHMByvom91T2/vXc8pX19/D972jydfMZ+f30cfiK9yT9Mf5/+Y7/zfjOAR4D1ge7Br8CCAP9ByAQkw0xD8sPphJ0FWIbpxa4FBIV6xM7EsQSUgjRBZQE9wYGBIj+SPru+sT88fVb9gP2VfK9+Fv0sexg6HLq/uoc7Xfm0OPU4BvdmNmU3obhX+Sd4R3gFuUE61Xxwf7gBBEQeR5PKkEthjIjNck07jF2KksjmhIlB9kA2Pdw70rt2evu6pzz8PtFAssJ0RO8GCEaKByAIM8b8xV+EsMI0AFZ/i78ovr895311/V499/3pvoB/Ej5RPgR9tXzCO2R6H7jSN722uPX3tR/0SLVB9hE2sHZUtyf4YDkJ+af74jzlPSV/xcL8g70HV43DjllOAtBmD5dNWEycDWeKH4YDRJBBlz2CvLx9gH1BPY+/zgFegb5C6cW6RroHDof4x8eHAYToAy9B7z+bPkR9mTx5uwb6+TukPAO8574PvfD9Gz03vI98CDtC+zt6LrgRd2Q2kzYG9sL3GncJd8R4T3hg+Bm4xjrWu9q8cn0HPkZ/DgEKBPCGmEk6DDdNW42zTdzNkQxPi82LlQpVh5FExgMIAXT/gf+5P5l/7T+D/7s/l/+6ACtBHIG0wX1BNACOP6w+438zfs8+cn2UvSl8cTviu/N71HxU/E58fLwY/Bm71nxYfGw8UXx0u9f78/vwvDO7s7txe6E7jLuJe2t7k3xyfMP+fv6pP5sApUF6AgSDAoPdRBQEC8OIQ2tDBwM+AsYDrERlRaiGw4gdCKwIl8ioCJUIQIhMB0gFkANVQTB/MT2N/Rd8Wvwt/AO8SvvSvEk9HX3iPnJ/gACCgJjAn0D8AP/AioDlwLrAer+5/o39t/zbvJ88K7wZfHC8urx8fD27XPs0+028Cbwk+8N8InwXfG78yz2w/dC+e35Bfsd/JH5yvlU+7v9LADpBpQLlQ69FSQfgybqK5IvnC15KYslwCAxF3kO4gZy/rn0je5m69TmLOb+5wrsCO6X8vf3p/3RAU0GdAqICyAN6gx7Cp4GwwTKAsoAXP/g/IL5RfhF95L3R/c7+A76bfqd+pr5K/ny9pj1fvPm89f1OfQ+8QHuUu/y7xzw2e4k72fuMuxK7kDvOfC48W323foC/6MFcA+7HWYpGDLoNj43AzOTLoAqASVQHncWEg2/AO/0Cezi5PfhweXs6oDvxfUF/Kb/6AIMCRcQyxRiFg8X1RXhERwNhAhVAycAjf+s/Ir5j/jh9631UPNu8v/yF/Jc8eLwju5A7EvqB+hI5J7hoOHn47rku+Qd5EDjm+OP5f7nJ+kw7e3xDvMu9Qb+5QtTG2YqRjekP4BAoD1eOac0xC94KbsiXBrqDWj/g/Mf6+LmyOaT637yhPeL/AAAjgI7BqULkxFhFlgZyRkdFkEQhApnBbcBwP7e/ZD92flp9hj0DfB57ZbsC+yW6WLm5OOc31nczNs/24ja4dsI377hoeKn4ojiHOJv4yHmiOm77lv0ofoyAyIQpSBuLtc4Q0JcRgREGULcPyg5CjGdKVMgTRHjAqf3MO2W55boe+vD7pb0xvqa/swBTwiSD7sU8hgEGowWJxGkCdcBLPzL94D0q/FJ8Dvwoe+a7s/tSexK7G/s9eoi6Cjkh+HF4CffY9wQ2wfbI9wu4FrlxuXc4zHmYOjf543rfPEu9cj6UwYVFtYltTTgQPlHx0m2SCRHM0RHP2A4NDAcJTgVGga9+5fxc+sP7U3vl/Gm9P/3hvr4/OYCXggpDQwRIBIXEeMLigZ3AJn4QPRf8VLtZ+qW56XjeOKU42Dlaeif6ZDnPeYW47jc8tuh25rZLdxR3WfeEuG74t7j3eQJ6PfoXeov8rf50f95B7USfCPmMbo8Ukj+TMZMBU0ESrRCgTkVMiUnbxgCDfYAU/TL7czttO628ED03PYt+aL7XwBiBL8H4gziDbELaAjSA3X8GPZj88TuOus56LXkKOJp393gbOIx47XkMOTJ4h7hat9w3KTaONqt2O3Zk9sn3Xnhn+Sv5orpOexG8NjzPfY7+RICgQy9FWUo2zakPntKdU7RTrJO30n6Qvk50i8WI04VhgeY+kXx4eqq6ePqJOyt7xb1rPgs/NMB2QSJCHEMbg1lDscMhAjGA/3+Wftt+M/zLu867C3pROfz5ybomefR5lLksuNX4+LiouGr3EnbFt2t3h7io+Vz5pPmKenG7TryxvX9+yMBlAbFEZ8h0jF5PKxJQlPtVBlVjFMfUm5Iuz5rMlcgXhQsBQL5Le8b6lrpieNt5xDrTOyo8xn5A/9UA4AHLgrJCqILQguVCasF9QL8/qj4l/Oa76Tslukr6G7lC+Qm5evjIeNq4gTgXN/m3XfcT9262h/brN0D3i/jKORn5fPpaOxs72LvHvYc/c4APwsOFJwf/ylvMWw7wD8dRHBFLUIhPlY2eC/7IuQXzg9KA638nfS0767ql+Vo5rPjReWd6FXrPvAz8gf3hPvp/FMA4gJ0BN8E7ALPAoIBhADl/04A4fte+i/6IPe49qfySvDf7fjpMOgo5RDk0+Pt4tLkiugH6izv0PES9YT4Lfo2/qUAnwJcBsYI7AtcENsUHxl+HY0isCXzJwkqqiriK2ArVilaJokkeSFpHd4YshReEQML8AS7AXL8Cfi880Hw2+6t6/breeyW7CXuXe6H79zvbvE+9Ur3CPnS+9P9WgCdAgADlQJZAYn/fPzY91/zaO/R6pzm4OMc4tXge+H54R3jluUu6t3t/fFz98H64v9QA3wF9QnNDMcPkhLwFKIYhRo5HK8eHSBfI60krCQwJR8l0iPkIUIflhpCFn8RhwuJBTz/d/kD9PHw7O/T7BXrjOpU6QnpW+nG6QPrN+xM7UbwW/KK9Nz29PgU/GD+lf8w/2r+bvx2+bn2QvRN8evuWeyz6bHoeehC6B7p2OpD7AnuTPGv9E73cvoD/tsA3AJuBCIHoQnwDFMQdBJKFqYZSRw9IY0kvCb4Ka4rXSqjKH4ngCObHtca1RUgEAAL0wV9AWz9hfmW9uzyfPC27kbswOrg6i3r4Ouo7EDt0O5c8DjzUfUo9zX63/tB/YD+rv0R/f/8OfsC+R/3g/VI89nxc/Hr7yfvce7M7X7tyu1h77Hwn/L49Fj2APgA+k/7e/2tANYDawZhCdgNUREfFUkaHR9UIgAlBigEKCEnSyZ+I+MefxpqFu8QwQudB/IDTwBW/aj6hvfi9KHz8fHt71jv2u1e7Mrs1uw17SnvafEp9MD27fhb+jv8q/3q/Tj+lP2P/Hj75Pm793f1t/Qr8/Hwu+/67uDtBe3s7CDsROwk7qPuy+478B/y1PQW99/5Qv55AgcHRQwvEusWSRt3IWcm2yjMKmwrNyvSKegnrSMQH9saaRWeEOUMiQh5A3EA1v07+qr3hPXX8izxm/BX7w3ufe6a7wjwq/GS83j17vdr+oj83/2V/tv+a/4K/v38Rfv7+ID2/vTw8snws+517T7tqOtU6grqvulD6Rvq5+rw6jXsou2T76fyBfYe+bX9XAMnCXgPVBW8GlEh/SaVKuItHDA1MA0wDC+aK6wmbSK6HbcXRxLnDVQJNgUOARb9DPkD9oHzuPDf7gntL+xs7HrsNe1Z7rzwrfLO9AX3jfnK+tD7d/xY/E38bvuN+WD3X/Vv8zvw4O2u69TptueH5grmUOVO5YLkoOSk5Ybn3ui+6pnuX/GZ9Xz6//80BX4KORHbF08dmSOAKfAspi9nMo0zNjPEMVUv4iooJ9EiDB0gGFsT4g30CHQETf+T+t32f/MP8TvvZO06687pxOlD6lrrCO107mTwEfNW9Wz2rPfh+PH4pvgv+NT2PPUi9OjxV/CC7mLsAutf6iHpF+ev5dTlw+VV5pbntOn663Duq/E59Xf5Vv4mBAAKfA9dFmAdSiJiKPYtCTJNNRc34DezN9E1qzJFLg0p8iO6HZIX1BFeDFMHuQI7/mT6+Pax8+Hw6+7H7FzrmOqU6mnqievd7LLtM+8k8STyzvNK9TL2N/bT9Uv15fN38vXwKO677Ffqruj75iflM+QW5PjjBORH5QPma+bS6FnrMu1s71vzQ/cs+5IAvgVAC0oRXxgoHjIkkiocL8MydTVJNis2ATUFMxkvhypCJbIfQxr2FMsOUAkQBVcARPuU96DzW/AH7kLsw+lr6KPnUOct6Jbpveof7H/tPe4Q8EXya/JT8kTyFPJY8efwnfDg7hruSe3O66vqs+q86kjqXOpg6tLq7OvC7BDul+/z8XH0Ufd6+gT+HQI8BuIKwQ/YFLsahx/8I1cpri27MM8yZjT6M+gxhi8XLIknNSKOHCEXmxF9DA0HOgLQ/b/5YPYe81TwR+5M7P7pOejB5z/nbOeo6GPpcepR62fsf+708I/y8PMc9ID0YPVl9ez0qPSp8zfzsvJ48r3yl/J58wv02/Ox9Nn1CfaO9t730Pp1/Gb+0v9sAcwD+QVMCWsN4hBFFbEZgB2MIaclSCkaK60s+S2iLacrWykyJcgglxsAFdsPRAsfBi4BXvyI96fzCPFo7sbqFelk5/flFeUx5C7lT+ap5wXqMuui7RLvBvCD8ibzRPRy9d30QfXa9F70bPPF87Xzb/Pk85Hz0vP/8h30OvTR82n29/Zx+Av7vvvR/Mb9jgB5AvsCQQZGCh8NdREhFQQZHx2DIlEleycOKRgrnypsKVkovyVjIb0c+hg7E/UOAwraA2r+IPsj9f7w9u3R65boEegx59DkVOa65nrm7edC6nrqbu5g8XDyIvZz+mb6eALvAOQBrAFwAW/7g/Pf7pbkAeC82vjXctJj0+rO1M9+zRHPpNCX0yjYmuUl89v+3Q/sHSAr4Dp4StdVBl/aZnlqRmo5aApfylKzRAE1YSP8ElwEr/V96oze3NIazODJX8bXxw3Q+dRP3Qfo7u9C+EgC4wiQDKUVPRpZHGsd0RpBFEQP/Aa5+2HyCed92hTSj8tdww2+jLu+upW6iL1+wlLIcdJG26TiiOu19YT7WwN4DMETRB6dKSQwZje3QxxHXEtmUaZS5E4tUVtLW0DtOfAvyh6dEz0L7PrC8UftA+TC27zbKteD1C3Yw9nM2qzjieos7ej0If4QA90JPhBuEYMT8xZxEtwOzAuwA775NvSk6SffTtkv0RXJjcXVw3/BB8Nwwm3GYMtuzn/TE9zD3nbj5+lG7uP17P+UCYYbzSpMMXA/M03MT6pZs2QMYTdhUWekW19QZE9XPTAmzCCUE838CfiP8KPdwNmc2QDOJc4A1GfQltU/4p/lVewZ+nj/gQNqDo8SkRMHGrkaShV9E9gL1QAx+XTvvOIn29bQrsbswDW8w7jFt9i2Orn1u8G9o8WLzZDTiNv140bsDfcWA6IWOiUsLqA99UppToRcA2n3Y4xjYWdGWOxMNE2DOWQhWhwfDMHzkvFG7EzZMdcr2KPMEs+w1pHTOdrZ5R/nn+2D+5//lwLLDGkQyQ3SEnAUCw2BCeAEEvnQ8LXpR9+81EfNx8Ycv+O7y7u6uWO6E77twFbFA82W1ObZReEd7WD1UAF1FjQi1SqRP0xKkE4HYJhpyWMVaAds1Fy4UvdPETlFI/0evws09jr2euyv29jfU94T0jnXDd+X2hjiavDz78XzGAL1A6QEUA8BEAMNaRK9EYIKMgbt/2/1keu05EvcVNI/y6LGEcGIvSa+bL3ZvdDCf8cUyxXT5Nl83C7lLvHc9vgFDhwsIz4sY0RKSslLZmDlY1Za+mTwY5RPT03ERwErhB6OGW0AcvTs9gPoPN3x4WzbVNR83THhed6z6UPzQPGu+CoCTQGGBLcKxQjVB4cK2gd3Af78EPUM6dPgptmA0ZPL+MdfxEbAI74iwAzA/cHDx8nN+9BF2GnfEuLt6gT37vzFEPMknSdFOXhN5Eo+WCBrUmJGY1Fup2EbVeZX60W0LFUo4BqmASb/Yfu85/vjceYu2s7Wg+HI4D/hR+4d8g/yFP39/6/+xQMHBs4B1AKQBKD+1vfL9MDqfuDQ2tPU2cwpyJ/EcsGtvnu/6r7VwSvF7Mksz3XVMNv44TPmF/KS/boO1yAaKqQ3NEmGTOFXDmaVYydiGGnZX3FTZVDmQdcpcSL8FtIB+ftt+B7p/+Qj5l7d4NsP43rj7uaY8Z309vQC/fD/c/+fAtMEmgHJAXEBv/zr9qzwJ+dW3XPVbM+eyKPEXsGPvce79LsVvYnAA8KLyOrOfdNH20viKOlN9i8BGhJdI5coCzqLS69KUFjsZlthFmG1a9VfeFHoUBhD5yk6J6wbQgRwA9v/vfGj8FbxdeZi5eTrO+5C8ET8xvz39k4BPgFh/wYB0QLz/WH98P9t+BrwB+uo2erZ+NwHyBrBdrwqutO2jLOSsbKwAbZluzHCocu+0hrV5t4R7TsOViN6MncxEEHbVSJd6V4lZ+hVME3oVh5SOT3iLcEYgAXvCeMKivvs8jX39PdhAt0OawZd/NwEAA/OE+kZCRR+BH4HtQzgAAX79/Ic6TDpoevA5QXZxM0LyoDH4cUSvFa0yLEgthG5DbjOt0i9RsNyzgfWeNxI4nny8gQIFQYqnDvMRbNRwlsLV4JR1lNiTq4/RDhpK1cbUhJZCr/81vYv/Hv8owCUC1QNexL9H0oisBuJHG0fRBr0GtcXfg1eB9IEHvky8vntfOgP4o7hbtwJ1wLT086MxpnAkr3Gujm1TbZduUy5Nb4FxqrIj81R14XcmeDI8JMCnw8GIZg1gT1lSt5VSFHGSZdPOkvwO7o1Uy/eH1oWQRAbBNP+awKWAOkBag53FjUYqx9tIlQewSHiI1YcCRhMGH4S3QUbALL/gfbV7lDuiOpO5c/hyd0D1/nO5sjGw/66FrcttRuytbISuNa3jb0jxLPIr86z0tXb7uzj+cMKQx2WK3Y920fZRxJJclDmSuw9PT2BOtAm2RzOGIYLEQL1ASf+GAAkCPgNfQ6kGJsfORtWG9klZSKvHNMf0x6/EucMJgqBAqD7R/eE8ozszujj4mHYp9Mu0CbEpbwmumS03bDUrRaxbrWStyS+U8Q8zjfWYtk04fj0tQK6DNAZ6TBsPkw76kBJTOtKoj/jQHdCxjVcJ10mzh42EK8J4grgBU4EJgs4DigQeBevGkUb3h9XI98hUyJMJt8eUhdLF3wQaAMfAIH+8fF66g/qb+Hl1J7QQMypwnW8Z7nms2KxsrJMsQe2yb7qwsfJg9Nz3UfkoecZAFgN0AlpITM7qytKM0VIykAjML06JD4iK5givyqLHbQP+g7pD8oI1QNqDVIRLg0yFNkZWBkfG0YbUx73IHgeFxoOGrcY5AyfBMQGiwD/8aLwie8l4arYTtgGzwfGlMMEwbu1z7KruL2vZrIJwCjB4cIW0YrYFt1W4u73dwYjBlwbPjlMLDowckqWQkEvmT0aPwQsECJRKv0b2gmnCLoIMf1e+TABUgc+Ab8KLhe7FAAYbyPXJycl1itqMKIpziivJw8e8RcVEmkHev1J9/Hra+BQ2rTPMcMYvxe0EK3Nqm+nmKWtqPOs5LDHtsLHcdJD3uz+XQo2GMw58DubQMVVvU9ZSldPIEk2OeouMSgJEvECI/xt8U7qMOf96/DwcO7m908E6QTBCRAZISLAHaUqxjHWKQsqSiztIuQeFhoGFCMNIQXr+bfw6ubv1/rNmsfDvb6zlbS2r0KqEa4LscOw7LmewMnEKdAx1zDc+Ol+9C3+6A4iHCEqWDQzOfRDvEG7PRVAlzqGMa8rsiPHGCsLHAQg/T72+/TM+jf+xQHiCkIScRKEG+IeniBhKbInDCnALaskdiE9Hh8VPw0DCTcC6PmX9Hnt4uPd3YDUh86DyZjCnMKUv9W8AcB6wDPAH8VnzI/LAtWm3CLiBuvJ8OMBLwsYC6YnOzFzJZlDf0cdOHxEg0qNOv01sTgsLDgdIhc0ECUG0/uG/z8C6fuKAvkMYwl3CyAVzxe3Fd8dpiPwIPMfoSGfHL0R9g14Csb80/cs9bTptuJY3CvVeMzCxNnBRryit7K3o7aZt0G4C7wLvjXDPMYmzSnXVN+V6hECWQeVGccwZTC4Ot1LbESbQ4lMWUQxNz013SxoFikNIwb09dDwHO9W71Xy2/Nx/QgFkgZGEJ8YwRt1H9IlCScuJMAiHiAwGBsS6wv4BXr+K/ky82rs0OVy3dHWa9HVyJbF6sSEwCjAM8PWxGfEUsxs0J7TZNv04Knjjek8797zLPdMCOkMThJxKpstvCoVQo09gDTuP1g9Ii93L74ueh/qFqwXlgwJBrgK1gYvCQkOzwyFEsgUZBLyFpYauxb9Fpka2xNrCxIMfwWO+Rf4k/jv7Gnqn+vP4wbcGd0d2OXSvdB40AzN6clpyQnJcMhGyX/L087Qz/HPA9Yy0mvZX+HW4s70rAc3CDgicza0MDREYlJDSeZN+VSQSbdBQDwtMGoiVBb+DI8G5P/n+43/DwEu/u0BRglGA5MEJw/sCWAHixOmCwoGtgtpBSL7yf6/+67yffMc8hvrxuaI46DgLNvV1QrZsNWxzjbUIdJ7zBbQqNFHzpjTbNXN1ZXas90q3m3jHe1i7x33ow2mEYIa8zWnOUM6DFLzT/xLJVUlU8hHsUPdPNwtpiH2GekOmwrKBKgDAwdXAbwBtgZHACAB0AT8AQ0DtgEh/y7+Ufc89Dr0ve+w7d3vA+4M7UPqauvm6HLkveRG5ATfFt2C3MPZ4dPe1HbU/8710PzS7NEC1d7Yrd0W4YrkWOzo8lL24ADBE0gWsCNXPco6A0CJVI9Ln0YEUVVILD0aPEwz4yQIHAwSCgk7AyT7Kvow+6bzxvNs+HXzSPKM+G76zPfL+kAAavs7+JT8bPpl85T2oPja8VfxwfRT79/qdOz/6DDk1eHm35PctdZF07rU58xdzCPSfc6b0h/YsNmJ3wDi0OpT9dv5sA8EH0YlWkANSZRImlqcWSJR/VdRUa1FHz/MMxwmKhd4Cw0D2/p69Yn0Cfew9YbyRfnX+K7wBPgM+nvynfWW+h/0+PEG9yTyPO+R8vrwbO9W8gTvnPEi8LzqN+4z6vXimOYn4+bbnt8+3KHXedlN14TWP9oz24Dekubh6I3sQfVJ+GX8SwX/DtMWUyMSLzw5S0L2Rv1K+E61SoVGZkiYPWsy8S6dIa0TwQ1TA+L9uflV9FL2QPSA7iPyL/IG7v3wpvR+8zb0HfcE93/0QPYf9nnz2/W49cXyQfUY9RjwKPId8RPrtukP6azgJd9e3RLYZdYF2AvVmdaf2VjcRN7x4y7paeyp8GT3e/xDAtELihT8IaIpuTONQIJDOkToS+1IRkJ1QTI7szCxJn0dGxT5BysAc/2R9+7ztvQE9WXydfI+9drzE/Ps9qP1T/SR9cvzcvEM8SnxwfC/7/fzW/Ok8Sn1UfQl8AP0v/Ce7mbvwev66LLn6+MX4vPgAuGP4qXjR+dS7L/t9PHG9uv5MPswAEsEkQdbC4wRGxp6HqcjUy9MNHszmzpaPX42lDObMrQqRCBeGysWfQueBIUBuPy799fz6fSw88zuYPCB8zjuSe4+8c7vG+0e7xDww+727pvwVvIs8qbyfPXS9sP0OfZ7+Nf0s/N59Jry8e2N7aPsl+kI5+noWukj6YPqnvA68pDzbPhP/Qj9JgC/BGoJeAs3EHMaEB8XIWMqajCgLZ4vXTJqLcIndSUlIWcZ6xIDD70JDAIL/pL7y/eo82fyh/Hs7o7rP+xQ66vo0emO6zDrdewq7pjuSu/b76bwCvKM8030wvX19/v26PZp92j1p/PI8xjyxvDo8BzwNPDU8G3xL/Mt9qX3nPpe/40B0QNnCMwLrA3/EQQYphxpIGYmYizILCwtZS+PLLomySNPIKEYWBK/DYQJhwJi/mb9mfom9mL2Rfb38mPx7fHb8DXu1u7C7j/u8+247iXuXu9o7jLv2fD38HXxV/OM88HyA/Ro8zrzKPOa84vykvKz8lLzq/Iq9M32dPeb+ET9NP8nAcEFCgqEDNQPvBNKF/kZ1xzpIe0jrST5JZEmfyK+IDAemxngFJARowtIB6ID1v4u/Dr6qfdH9aX0HvIf8bzvyO5w7XDsJesH69HpWOmm6bPpRurP6k7rZ+yq7dnsae3i7uLufO0j75bwEfC88cP0bvXY9cT58v25/zQC7Qa2CWsLlw+/EwkWkRhRHHceyh50IBkh7h8bIJEgzx7PHcocMRmIFu4UYRF2DYoKmQaAAm//cPxC+jz39/PF8r/xpO8O77rt6uut7JDsYeod6hzpOedF6ODnKeak5ovnRefI6BXqnuvr7WLvpvF39AD3+Plt/NT9ngEqBU8GvQh0C+4Lgw0yD9kPHBG9ESoSPBTTFUEWvRcaGCIYABrlGloa9hkSGfoXnhdGFY0R8w/rDUUKWgdlBTQCFv9S/Ez45vT68iLwIu3u63Xqaeiq59rmfeUZ5QnlMOUU5vTmC+gf6lTsHO5C8Lvy7vRG9775Ufy0/toAOgKUBL8GSQYRB34K7QoQCQYLMwz4CqsLUA3IDHQMGQ0NDmkPVg9iEBAS5xFsEd0SVhJAEb0ROhCCDcMLPgrpBzAGwwNRAWz+GPvT+Pb2K/To8UXwnu2S69Tqferh6XHprOkn63nr2uo77ODuy+/h8DLzNPUn96z54/tD/dH+HwHjA2AF9QWFBjoHsgclCLMI/ghkCdsJugrJCigKmApnCyMLTgtQC5QKBAuOCzULvgo/CtAJsQk6CF8GIgaiBcQDygJAAvX/0P2n/PX6Gvm392v2QPXK8yLy5/AV8WLxvvDg8OPx4fIR9Ff0bPVd98/3xvgs+1D8Gf0D/1kBowISAz0FUgfKB8QIvwmTCucKIwrVCrkLrwrECjQLZgoxCjYKPArLCQgJKwnECCcIvwi+CDIHggZKBoQEqQLLAocCLwHy/2L+SP1P/Of64vnf+Lz3lvaC9WT0q/Ml8+/yefLQ8ivztfI09Gv1EPWX9Zb22PbJ9zb5EvpG+139hP4T/yMACgFEAp0D0gOiBJEFMQbfBhsHdga+Bo8HPwe6BhcHXAeJBt4F8gUrBkMGwAVYBuQGtwWtBIgE+APQAg8BuP+o/23/Ef41/H/7svu0+vL4HPnR+Vv48fZd92X3ffYz9s/2BveR90j4W/iP+N34VvkW+n/6g/tx/Kj8q/2O/ur+0/9xAE8BNAKMAskD+gQdBVIGcQdpB+8HcAhACP8HLwgzCBYH6wbsBiAG2gVmBUoE1AOWA68C4QHdAeMACAB9/8b+Q/60/Sr9U/3h/Dr8E/yj+8H6tvrh+k76xPnA+oP7//pI++T7ffs2/Ab9Tf0w/Sb9yv3Q/Sf+9/6e/y0ApQA0ATEBbgGBAqQCTwLlAnQDpAMKBBQFhgVFBdUFJQayBdIF4wXFBHkEWARHA+AC8QG/AMv/Wf+Z/uL9u/3K/S/9TPzE+/n7gvtv+kL6gvqR+lT6G/rB+gL7+/oF+7P7i/z2/BT9Mf3B/Nn8gP0I/iH+If5D/oD+zv4g//L/aABvANIA4AAdAe4BfgKCArQCEQMlBI8EegUCBqQF9AVMBlwG+gVOBt0FvgQuBNcCHgLnAQIBfgAxAMP/m/7u/YD9YP3D/Az8J/x1/KX8CP1q/Ir8cfyd/JL9T/0g/WH9bP2J/Xv9Of68/eL9rf7S/n7+ef5m/lb+D/79/Q/+aP5l/gT/bP8pAKoAswAAAc0BpgKBA3wDyQOyA+kDJgQSBEwE2QQdBVUFHQUIBW4E+APoA0ADWQI5AsgB/QBSAMr/IwC1/+3+QP/P/lL+Pv7C/tD+7v0s/p79Tv3C/fL9Cf7D/eL99P3X/cX9lv2Z/XX9Nf3C/Q/+pP21/Z/9lP0D/nX+Af/F/m7/wf+V/47/PP9q//f/JAAYAEoAygBkAKUAKwGEAVcB1AH5AUQBzQDuADIBBwH1AGUAdwC9AJ0BiQHvALAADgCR/1n/dv94/6v+uv4E/0D//P6R/s7+r/7K/rX+Mv7J/SP+HP72/Sf+v/3T/bL9x/2y/vv+h/7k/a7+N/9U/4r/v/+U/wkAggByAJMAHgEHATIB1AHNAVABswDLAMoAOAEJAbYAtAB3AUMBFQHzAM0AGAEGAU4AgQDBAH0AhABaAE8A3QDjANoA7QCSAeYAewAnADsAGgD+/y4A/v/T/y0AAwDe/0kASQAgAE//H/8z/4r/w/78/jj/Wv/F/zoAMQASAEEA8gC/AFwAeADqAPEA9wDUAKEAqwDEAL8A/gC0AAYBxABcAG8AjACOAHwAVABhAJsAhgCaAB8AAQBkAJ0AMAATADAACgAs/7f+z/4u/mT9Zv0W/nn9Pf2u/cX9Fv0t/YH9u/w0/IP8p/yv/KP8vPz7/Ir9Nf5l/mP+dv69/nD+TP53/oD+L/9X/4r/dP88//L/QwDy/wcAHADz/wcAq/8R/zj/m/+w////9v+QALYA3ADwACQBQAGAAYsBpwF8AT0BXAFGAukCZgLZARYCVwLqAXoBMQEGASMBPwHPAIUAQwBwANYASwGiAVgByQDOANIA9wBzAEIA8QAyAaAALAGYAZsBsAGAAV8BRwEfAbYA9gDJAEIAJABvADAAxP+8/+7/6f/z/wsAAABm/33/Ov+i/pj+hP5d/oj+r/6l/hb+D/4N/tX90v3m/d/9Kf23/Mv8Jf0H/dz8Jf3D/cv9hf2U/fL9yP5Y/0X/bf+I/z3/CP+7/y8AIwByAMwAQQHKAS0CMQLLAt8CvQLrApkCrwK9AscCqwI+AoAC5wK1AlgCMQITAicC2wHHARMCpQHOAIEAXgGEARYBmwBUAAAA3v+E/13/Q//B/8D/O//q/mf+Y/5V/jP+3/1u/W/9Cf2p/Qb+JP4G/pD+vP4w/4r/Hf/o/kT/F/9j/67/wv9b/37/6v85AGQAjwA1ADcAGwC+/+n/8//w/xEABgAJAAkAEwDU/+b//QA0ATQB9gBAALD/0v9JACAA4v+k/6b/NAA8AOz/CABqAH8AvgCeAHgAfgBzAFgANQBjAGsAawCNANIAvgBIAG8AmwD4AF0AJwAlAJsApwAAAGsA+AALARABrgAFACQAjAA/AL7/xP8pAE8AqgCUAJYAmgC7AIEBfQHcAKUAGAFwAagBzwGIAa4B0gGVAakAswAiAREBwgBkAEMAMwABAEIAAQDC/+D/BAD9/yv/PP48/rb+w/6p/Xn9x/2k/av9rP0J/fX8Ev3G/P77//tc/IH8cPwa/Gr8XPz4+6773ftJ/KH8Z/1R/Yf9Ff4M/oH+kf5q/5X/p/82AFMALwBWACMBZgGwAB8BwQG6AR8B3ABPAc4BfQE+AbsA3gDLAUgCPAF3AIgA6wAaAfAAbgBaAKIAMADT/0sA6f89/w7/Sv8j/2b+yv06/Wn9rv2T/Rv9gP2O/U79Rv2D/e79av7A/g//dv9AADIADgBpAAEBiwEaAl0CMwPzAvsCUQMFBJkEcwQRBLADpAPgA8cDxQNHAxADXQOSAywDPANFA/kCowKtArQCNQL/AVsC1gFXATsB7AAZAJT/t/97/8T+K/52/U79Svxy+z/73/ol+k/6n/pr+tj55/mz+XP6Gfvs+wz8JPyN/M38vfy//Kn98v0c/pT+b/5d/sf+1v5C/0kADwHyADYB8AEoAj0CawIcAnIC0QJ9Al0CSgKVAn8CkwJ/AsMBiQFTAQMBxQB4AJMAwgCcAPP//P82AF8AOP8x/3v/fv8y/3z+FP71/Sn+ZP7+/QL+MP4a/tD9Kv4e/vj9eP03/or+Dv73/qD/fP9S/xcAyADOAJsA1QC+ANYA+wBhAXwBsgE8Ak8COALgAuYCGwNWA40DGgNmA2ID9gIjAhkC3gLaAnECIALCASUCiAH5AGEAGgBFAE4AlwA7AKT/sP9oAG8AUQCaAOkACwEWANv/pf/x/6v/qv+O/2b/dP8S/9n+lf9W/yP/4/8AALL/MACHAOgAKAFjARgBYQFEAUMBBgHWADIBQAF6ASoBSwHCAWUBuQBpAHgAWQBVACYANQDIAO8AvQBIAJH/d/9m/9v+6P0//fv8/Pyi/OH78Pvw+9X7zPuF+8f7xfzC/N78G/3t/Vb+f/6i/hf/rP+S/3v/7//n/zIA6ABnAZEB5wH+AaQBnQESAtABzgEpAQEBJQE5AQQBYQC8ALkAwwAsAWQAqP8I/+j+I/5k/k/+rP1e/o3+Wv2Y/DP9uv2V/Vr9MP0O/fb81Pyb/Hb8GP18/UL9jv3P/SX+Vv4X/gL+Tf5i/j3+3v4o/27/2v9l/9r/CQAOAAAAlgC/ASwCVQIvAnoCxQLxAkcDxwIkA08DwAIkAvABRwJ6AiMClgGiAdQAfwCqAB0A4P+9//L/9f95//D+kv6+/hr/of5a/qL+aP5O/tn+a/87/4z/+f/l/ycAjAA8AG4AdAHIASICgAKSAuYCzQMQBM4D2QOnBIwEVASaA00D6AOvA4ID7gNYA8ECugLJATYB5ACdABsA5v/t/zf/2f7U/ln+SP5Z/jD+4/16/Y39H/3I/Hj8S/zO/Fv9L/1U/OP7hPuP+337Yfux+377Tvvg+xr8gPtt+7D7Cfwi/Br8XPwZ/Lj8Jv3D/PX8lv3E/dP9ZP5N/zH/KP+R/3f/hP+m/wAAnwDFAMQAIwDw/wAAOACoAFsA5P9u/63/iwDkAGkABgAtAKsAqQChAHYAVwBnAN//5/+TAHwATADNAIUBOQGLAEAAjACpAFoAIADxALYA3ACHAekAkAELAf7/aABzACIAcgD6AFQBUwHAABsBXgEuAeYAswE7AgICewIiA74CowGgARoCdgJLAq8BtwHqAY8BfQFgAd4AJgGaAQ0BQAA8ALMAJQFFAQsB9ACXAQYCqgHoAWwC6QEvAR8C7wFaASoBHQFuARMB0wAXAID/HgBKAOb/OACu/zf/1f89/9H+uv6x/vn+Gf+D/mP+hv7Q/mH/zf4z/v/9t/15/Y39xPy2/M39/v1v/XP9B/51/nz+mf5Z/tf9mf1t/cT9Gv7d/bL9fP2s/bf9M/3m/An9jvyN/GH8hPzh/Pn8dv3f/cH9Gf4q/tX9BP5r/qn+9f5y/9X/v/8nAAkBOgEDAQABMgGEAcYBUAEKAWgB+AE3Ao8CZAIsAoQCYAL1AVwB+QBEARoBEwEDASgBUgHxAVcB/wC2AXgBlQCSAIAA9gAGAWYA8f8GANT/tv9X/5b+Qv53/rX+Fv4K/rv9pv1e/ej8sf3R/dT9Y/1t/cr9df1h/YT9h/0k/vH+Lf8t/3T/IACMALAA6gCBAZ0BgALLAoMCugLoAhkDaQNCA5UD5APcA7IDawPZA90D1AOtA7YC0wKIA3oDKAMvArABOgKjAtcBPAGJAbcBmwHtANkAIQGxAIkAEgFMAb0Ayf/3/2gAyv95/9D/xf9T/xP/9/5g/+3+if7s/oD++v2w/Zz9b/2V/VT9Kfxu+4777fuM+6j7VfxB/Pr7AfzV/KH8Xfyk/LD8Tfz8+wL8R/zN/H79K/01/ev9Sf6W/ij+Ff4f/y3/Lf6N/d/9EP5Z/vz+0f6y/iX/g/9U/9v+F/84/9X+a/8gAEgAEgAjAcEB2QAWAYoBQQG2AJQAngCFAOD/Dv8t/x7/7/7b/vb+Mv+U/wcAcACC/4T/CwATADYA3/88ALQA1QAZAVkBUAFRAWkBpwEBAvUBiwINA6MDygPvAxIEJwRABDsEjASMBNMDnwO4AxID6AL/ArACkQLWAkgDcwNKA9gChgIcAgECtgG1Ab0BQwGkAZgBXwFsAWQBgwFeAWkBkgH2AM4AsAAeALb/h//2/0AArP9O/+r+mf4Q/iP+Pf7r/WP99/zi/Ev8SfxM/L788Pw3/Wr9JP0k/cr8Jv2P/eX8rfzi/PT8fvxP/J385vz3/Hj97v0V/rX9yf3f/R/+u/6u/zP/jf50/47/P/9J/+P/8f8sAFsBdACi/93/if8KAOj/4v+//0f/W/5T/gb/TP81/zH+Zv2s/Y79B/5z/kf/EP8P/+H+R/9WAHMAFwBdAP7/jv90/ysAIgBdAHcBQQE6AZcBdQE2AmcCsAJnAm4CNQJ0AhgD+QI2A8sCsAPJA2ADbwMBA64DagOUA00DwAIDA5ECoQLUAuUCdQLJAfoAbwC4AHcAhgDjAHEAJgBFAK//Wf8tAMr/j/8VAO3/cv+v/qX+Hf+H/2L/DP/b/mn+P/7D/rL/2v7V/vX+ZP5c/mP/6P/P/0gAqACJAO3/u//7/1IAQwCH/9H/+/84AM7/Rf+c/kP+Wf5U/jz9Lf0y/V/86Pse/MX8APwS/Hf8I/wI/Jf7bPzE/O78Kf0O/fj8Af3m/IL9UP5w/nH+xf6k/gD/yP9v/53/YAAyAJr/EwCUAJcApwDCAMQAywCPAOIAtgGoAQAC7QFRAlYC/gEuAsgCYgNdAzUDMAN7A/IClQJSAqgCLQOQAv8BCAKnAhcC3AHbAQIBmADXAD0Axf/G/5P/tv8//4z/Z/9+/zf/O/+Q/n3+HP6h/Wn9Kv0g/XT8Y/z8/Br9/P2z/c39FP5c/jH+UP7U/u7+V/8xAIcA1gCoASECQAKYAlcCGQJPAqEB9QHYAUUCnAJkAjsCEQIOA3oDkAJ0Am0CDwK/AGoAGAETAQgA5P+o/5n/Ff+S/on+af2o/cr9kvwX+7P63fpM+gz6B/r6+f75pfnk+cH5Pfll+SH6QfrJ+fD6fvuW+zD8qfyf/Q7+EP/1/ur+5/7M/8IAnwCtAAsB0AHbAe0B9gE8AgUD4QLZAgQDdAPBA6ADDQN7A5oDWgOuAuUCjwONA0gDcgKPAZ0BvAFAAbgAygCNAB4Ahv+0/tn+r/5I/jr+qf5n/h3+tf4N/qT+Iv+F/tr+8f4Y/4T/ef8bAN8AcgARAH4AtQA2AJ8AZgFaAFIBAQJ7AdwBPAItAusATAHsATgBiwEXAqcBJQFhAXcA4AAYAfsA2ACvAH8Aqf8XAFf/Sv8h/2r/sf8DAKf/cv8P/wX/mv+b/+L/sf8cACwALgC//9v/hQBdAa0B9gBdAFoASAEbAZEAeABIAVcBoAB6AH0AvQCFASACugHhAQEC1gGSAd4BugLzAsMC/AFyAa8BPQJyAkAChQFdAVcBBAEsAbYACAAyANj/PP/3/rT+VP1B/L/82/x5/Fn8tft4+7P7Ifx8/PP70vtw/ND8G/01/Xb9S/45/q7++f7J/tT+0v7+/gb/2v+jAFIAewDz//D/8f/B/0wAMQDs/zT/Zv51/qf/MwACAEMAJgEwAXIAdQC/APAACQAxAFUBJwHpAFsA2P9f/6T/RAAWALL/Qf9T/+L+JP5S/nv+l/46/jj+lf75/Sb9cvyE/Or8yPyx/Nb85fzA/Lz8cv2u/TT9jP3d/XD+i/7W/WD9G/6B/jX+l/7W/oD+Tf7W/kH/JP/C/1UA1gEqAgUCOQKZAuMCqwPCA2EDWgPsA5gEKgT4A10ErwTkBJEEhATKBDUFWAXoBAYFxgREBWgGvQXuBJ4EFAXeBB8EugOlA94DdgN6ArUBfAHfAX4B6ACXAPj/df9iAP//YP8W/9L+Y/4v/jj+Pv+s/j79LP3i/a79J/2G/Yr9uf1+/Tr90fyV/RX+vf3c/YP+CP9w/iX+Pv7C/eX9hf7a/jD/cv4O/gb+5f1M/h//qf7//RL+7/29/bz90/0P/Wn9zP3t/cf9mf1g/rb+wf2u/Qf+Hv+y/gr+m/77/hH/1/79/sf+kv4a/5H/s/9q/z7/NgAiACD/GP+I/2UA5gBoABAAFwCRAPYApgBHAYwBqgFmAbgA3gBwAQsCWQJgAksCmgFmAdEAjwCoAL8AJwFDASQBAADV/1AA1v9n/5j/PwBnAEQABgDy/zUAIgDE/2H/NgBIAA7/x/4U/kj+z/65/pv+jf4R/7v/xf+K/4f/ogAaAYsBiwHtAbIB/wCtAPb/ZgAVAfgAWAAmAN7/pP8AAGsAowBKAJ7/aP9v/1H/Jv+E/+//aQAFAQwBXADYALwAKwECAnoBtgAvADsA7//k//H/Sv+N/2//x/56/sn+m/4p/lz+tf08/Tf9jv1k/V79l/3W/U/+x/5c/+r/W/9v/zYAkAAcAO//rQDJALYA6AD3AAABXgGAAR8BpQDrANQA2gDCANsAzgDHACUBhgC8/7n//v9sAK4AKAAgAG8AJwFlAfUA1wC7AYQBSwGiAbsB7QFHAQkBBwHWAL0AVwB+ABkAl/+k/4T/jv9U/uz9EP4r/83+FP7G/fn96/7A/t7+jv5r/ywAPADW/8T/7/97/zsAIgASAAsBeAAJAJ3/a//Q/0wAlv9LALUAOf+P/kn+Y/5S/YH91P1k/cH9Q/4Z/jr+f/69/in/mf+q/1T/d/9t/5D+hP7z/mX++v3x/WX+d/6F/oL+iP61/uD/PAAQAKv/6P9RAAABSgHsAP8BbgL8AScCngE5AcoBogF5AXgBcgFdAXIBQAGDAeQBsAKuAp4CiAKsASEBNwEOAdMAHgDY//3/U//F/r/+Wv86/3z+o/5N/kv9c/3A/WX9y/yN/aj9cP6t/rP9x/12/of++f7U/83/BwAQAIL/yP/L/4wAXwHPAZIBnQG0ASACMQI1AlcC3wI+A7MCdwLnArYChwKoAloDaQPXAtoCngK+AncDZwNRAqgB4gGZAYEBKQGuAJgA0P9I/77/wP9T/nn+9P6g/hr/uv/X//z+Sf4j/57/z/6O/ygAegCYAI0AwgDyAM0BSAKnAQMCgQJXAkwCfQIBA7kCmgIQA2oDzALFAUACTAJrAnEBWACLAIIAVwBxAF0ACQA3AIf/dv8IAJH+zP0Q/n/9Uv0F/I378ftA+zH70foP+r75jPn/+XH5vvlm+hP6g/rT+wj8E/wX/Mz8Bv3R/Z3+SP7P/sz/kQCr/9H/mgCiABgB/QCwAHsAuwBrANEAcgG7ALwB9gGoAdUBgAFnAV4AZgClALr/Z/9D/+b+Of68/hn/NP9V/1D/2/5c/0n/T/63/lj/qv/y/lz+4P7u/hL/6f5v/uH9oP7t/kD/3f+Y/0sAUgBfAJgAXAEeAgwCCgIkAtIBzgGYAcIBAALMArsCpAE=\" type=\"audio/wav\" />\n",
       "                    Your browser does not support the audio element.\n",
       "                </audio>\n",
       "              "
      ],
      "text/plain": [
       "<IPython.lib.display.Audio object>"
      ]
     },
     "execution_count": 39,
     "metadata": {},
     "output_type": "execute_result"
    }
   ],
   "source": [
    "sample_rate, sample_idx = SAMPLE_RATE, 4000\n",
    "audio, audio_len = open_stt_train_dataset[sample_idx]['audio'], open_stt_train_dataset[sample_idx]['audio_len']\n",
    "print(open_stt_train_dataset[sample_idx]['text'])\n",
    "Audio(data=audio.numpy(), rate=sample_rate)"
   ]
  },
  {
   "cell_type": "code",
   "execution_count": null,
   "metadata": {
    "ExecuteTime": {
     "end_time": "2021-03-22T12:09:56.715666Z",
     "start_time": "2021-03-22T12:09:46.228111Z"
    },
    "code_folding": [
     0
    ],
    "deletable": false,
    "editable": false,
    "run_control": {
     "frozen": true
    }
   },
   "outputs": [],
   "source": [
    "def plot_stats(datasets, labels):\n",
    "    fig, axes = plt.subplots(1, 2, figsize=(15, 6))\n",
    "    for dataset, label in zip(datasets, labels):\n",
    "        _ = axes[0].hist(dataset.idx_to_text_len.values(), bins=50, label=label, density=True)\n",
    "        _ = axes[1].hist(dataset.idx_to_audio_len.values(), bins=50, label=label, density=True)\n",
    "\n",
    "    axes[0].set_title('Text length')\n",
    "    axes[1].set_title('Audio length')\n",
    "\n",
    "    axes[0].legend()\n",
    "    axes[1].legend()\n",
    "    \n",
    "plot_stats(\n",
    "    [common_voice_val_dataset, common_voice_test_dataset, common_voice_train_dataset], ['val', 'test', 'train']\n",
    ")\n",
    "plt.show()\n",
    "plot_stats(\n",
    "    [ls_dev_dataset, ls_test_dataset, ls_train_dataset], ['dev', 'test', 'train']\n",
    ")\n",
    "plt.show()\n",
    "plot_stats(\n",
    "    [open_stt_test_dataset, open_stt_train_dataset], ['test', 'train']\n",
    ")\n",
    "plt.show()"
   ]
  },
  {
   "cell_type": "markdown",
   "metadata": {},
   "source": [
    " "
   ]
  },
  {
   "cell_type": "markdown",
   "metadata": {},
   "source": [
    "Чтобы эффективно обучать нейронную сеть, необходимо подавать в нее данные батчами. В этом нам поможет функция `torch.utils.data.DataLoader`. \n",
    "\n",
    "Обратите внимание, что некоторые данные в датасете разной длины (например, `audio`), для формирования батча из таких данных  необходимо использовать паддинг. Для этого можно реализовать фукцию `collate_fn`. Подробнее про то, как именно использовать `collate_fn` можно почитатать в доках к `torch.utils.data.DataLoader`."
   ]
  },
  {
   "cell_type": "code",
   "execution_count": 40,
   "metadata": {
    "ExecuteTime": {
     "end_time": "2021-03-23T12:02:18.639668Z",
     "start_time": "2021-03-23T12:02:18.625898Z"
    },
    "scrolled": true
   },
   "outputs": [],
   "source": [
    "from torch.nn.utils.rnn import pad_sequence"
   ]
  },
  {
   "cell_type": "code",
   "execution_count": 41,
   "metadata": {
    "ExecuteTime": {
     "end_time": "2021-03-23T12:02:18.659048Z",
     "start_time": "2021-03-23T12:02:18.641274Z"
    },
    "code_folding": [
     0
    ],
    "scrolled": true
   },
   "outputs": [],
   "source": [
    "def collate_fn(batch, get_batch_memory_usage=True):\n",
    "    \"\"\" \n",
    "        Inputs:\n",
    "            batch: list of elements with length=batch_ize\n",
    "        Returns:\n",
    "            dict\n",
    "    \"\"\"\n",
    "    ### write your code here ###\n",
    "    audios = torch.nn.utils.rnn.pad_sequence(\n",
    "        [obj['audio'] for obj in batch], batch_first=True, padding_value=0.0\n",
    "    )\n",
    "    audio_lens = torch.tensor([obj['audio'].shape[0] for obj in batch])\n",
    "    \n",
    "    texts = [obj['text'] for obj in batch]\n",
    "    text_lens = torch.tensor([len(obj['text']) for obj in batch])\n",
    "    tokens = torch.nn.utils.rnn.pad_sequence(\n",
    "        [obj['tokens'] for obj in batch], batch_first=True, padding_value=0.0\n",
    "    )\n",
    "    batch = {\n",
    "        'audios': audios, # torch tensor, (batch_size, max_num_timesteps)\n",
    "        'audio_lens': audio_lens, # torch tensor, (batch_size)\n",
    "        'texts': texts,  # list, len=(batch_size)\n",
    "        'text_lens': text_lens, # torch tensor, (batch_size)\n",
    "        'tokens': tokens,  # torch tensor, (batch_size, max_text_len)\n",
    "    }\n",
    "    \n",
    "    if get_batch_memory_usage:\n",
    "        batch_memory_usage = 0.0\n",
    "        for key, value in batch.items():\n",
    "            if isinstance(value, torch.Tensor):\n",
    "                batch_memory_usage += value.numel()\n",
    "        batch['memory_usage'] = batch_memory_usage\n",
    "        \n",
    "    return batch "
   ]
  },
  {
   "cell_type": "code",
   "execution_count": 42,
   "metadata": {
    "ExecuteTime": {
     "end_time": "2021-03-23T12:02:21.701933Z",
     "start_time": "2021-03-23T12:02:18.660610Z"
    },
    "scrolled": true
   },
   "outputs": [
    {
     "name": "stdout",
     "output_type": "stream",
     "text": [
      "Don't forget to save Jupyter Notebook! \n",
      "\n",
      "\n",
      "\u001b[1m============================= test session starts ==============================\u001b[0m\n",
      "platform linux -- Python 3.6.9, pytest-6.2.2, py-1.10.0, pluggy-0.13.1\n",
      "rootdir: /home/mnakhodnov/sirius-stt, configfile: pytest.ini\n",
      "collected 1 item                                                               \u001b[0m\u001b[1m\n",
      "\n",
      "tests/test_collate_fn.py \u001b[32m.\u001b[0m\u001b[32m                                               [100%]\u001b[0m\n",
      "\n",
      "\u001b[32m============================== \u001b[32m\u001b[1m1 passed\u001b[0m\u001b[32m in 1.81s\u001b[0m\u001b[32m ===============================\u001b[0m\n"
     ]
    }
   ],
   "source": [
    "! pytest tests/test_collate_fn.py"
   ]
  },
  {
   "cell_type": "code",
   "execution_count": 43,
   "metadata": {
    "ExecuteTime": {
     "end_time": "2021-03-23T12:02:21.723994Z",
     "start_time": "2021-03-23T12:02:21.705464Z"
    },
    "scrolled": true
   },
   "outputs": [],
   "source": [
    "batch_size = 90\n",
    "\n",
    "num_workers = 8"
   ]
  },
  {
   "cell_type": "markdown",
   "metadata": {},
   "source": [
    "При создании DataLoader не забудьте использовать параметры `batch_size`, `num_workers`.\n",
    "\n",
    "Так же в DataLoader есть параметр `shuffle`, который используется для перемешивания данных. Сейчас наши аудио отсортированы по длине, т.е. длины аудио внутри одного батча максимально близки друг другу - и это самый эффективный способ формировать батчи в распознавании речи. Если включить shuffle=True, то короткие аудио могут попасть в один батч с длинными, средний размер батча увеличится, это будет менее эффективно. Поэтому необходимо **перемешивать сформированные батчи**, а не элементы датасета.\n",
    "    \n",
    "Реализовать перемешивание батчей в PyTorch - это не самая простая задача, поэтому советую сейчас пропустить этот шаг."
   ]
  },
  {
   "cell_type": "code",
   "execution_count": 44,
   "metadata": {
    "ExecuteTime": {
     "end_time": "2021-03-23T12:02:21.740465Z",
     "start_time": "2021-03-23T12:02:21.726147Z"
    }
   },
   "outputs": [],
   "source": [
    "from torch.utils.data import DataLoader, BatchSampler, SequentialSampler, RandomSampler"
   ]
  },
  {
   "cell_type": "code",
   "execution_count": 45,
   "metadata": {
    "ExecuteTime": {
     "end_time": "2021-03-23T12:02:21.758718Z",
     "start_time": "2021-03-23T12:02:21.742095Z"
    },
    "code_folding": [
     0
    ]
   },
   "outputs": [],
   "source": [
    "class AudioDatasetSampler:\n",
    "    def __init__(self, dataset, batch_size):\n",
    "        self.epoch = 0\n",
    "        self.dataset = dataset\n",
    "        self.batch_size = batch_size\n",
    "\n",
    "        # Assume that data in dataset is sorted w.r. to duration\n",
    "        self.batches = list(BatchSampler(SequentialSampler(self.dataset), batch_size=self.batch_size, drop_last=False))\n",
    "    \n",
    "    def __iter__(self):\n",
    "        if self.epoch == 0:\n",
    "            for batch_idx in SequentialSampler(self.batches):\n",
    "                for idx in self.batches[batch_idx]:\n",
    "                    yield idx\n",
    "        else:\n",
    "            for batch_idx in RandomSampler(self.batches):\n",
    "                for idx in self.batches[batch_idx]:\n",
    "                    yield idx\n",
    "        self.epoch += 1\n",
    "        \n",
    "    def __len__(self):\n",
    "        return len(self.dataset)"
   ]
  },
  {
   "cell_type": "code",
   "execution_count": 46,
   "metadata": {
    "ExecuteTime": {
     "end_time": "2021-03-23T12:02:21.786502Z",
     "start_time": "2021-03-23T12:02:21.760287Z"
    },
    "scrolled": true
   },
   "outputs": [],
   "source": [
    "# YOUR CODE\n",
    "common_voice_val_dataloader = DataLoader(\n",
    "    common_voice_val_dataset, batch_size=batch_size, shuffle=False, \n",
    "    num_workers=num_workers, pin_memory=True, collate_fn=collate_fn\n",
    ")\n",
    "# YOUR CODE\n",
    "common_voice_test_dataloader = DataLoader(\n",
    "    common_voice_test_dataset, batch_size=batch_size, shuffle=False, \n",
    "    num_workers=num_workers, pin_memory=True, collate_fn=collate_fn\n",
    ")\n",
    "# YOUR CODE\n",
    "common_voice_train_dataloader = DataLoader(\n",
    "    common_voice_train_dataset, batch_size=batch_size, \n",
    "    sampler=AudioDatasetSampler(common_voice_train_dataset, batch_size=batch_size),\n",
    "    num_workers=num_workers, pin_memory=True, collate_fn=collate_fn\n",
    ")"
   ]
  },
  {
   "cell_type": "code",
   "execution_count": 47,
   "metadata": {
    "ExecuteTime": {
     "end_time": "2021-03-23T12:02:21.813331Z",
     "start_time": "2021-03-23T12:02:21.788229Z"
    }
   },
   "outputs": [],
   "source": [
    "ls_dev_dataloader = DataLoader(\n",
    "    ls_dev_dataset, batch_size=batch_size, shuffle=False, \n",
    "    num_workers=num_workers, pin_memory=True, collate_fn=collate_fn\n",
    ")\n",
    "ls_test_dataloader = DataLoader(\n",
    "    ls_test_dataset, batch_size=batch_size, shuffle=False, \n",
    "    num_workers=num_workers, pin_memory=True, collate_fn=collate_fn\n",
    ")\n",
    "ls_train_dataloader = DataLoader(\n",
    "    ls_train_dataset, batch_size=batch_size, \n",
    "    sampler=AudioDatasetSampler(ls_train_dataset, batch_size=batch_size),\n",
    "    num_workers=num_workers, pin_memory=True, collate_fn=collate_fn\n",
    ")"
   ]
  },
  {
   "cell_type": "code",
   "execution_count": 48,
   "metadata": {
    "ExecuteTime": {
     "end_time": "2021-03-23T12:02:21.908691Z",
     "start_time": "2021-03-23T12:02:21.814886Z"
    }
   },
   "outputs": [],
   "source": [
    "open_stt_test_dataloader = DataLoader(\n",
    "    open_stt_test_dataset, batch_size=batch_size, shuffle=False, \n",
    "    num_workers=num_workers, pin_memory=True, collate_fn=collate_fn\n",
    ")\n",
    "open_stt_train_dataloader = DataLoader(\n",
    "    open_stt_train_dataset, batch_size=batch_size, \n",
    "    sampler=AudioDatasetSampler(open_stt_train_dataset, batch_size=batch_size),\n",
    "    num_workers=num_workers, pin_memory=True, collate_fn=collate_fn\n",
    ")"
   ]
  },
  {
   "cell_type": "markdown",
   "metadata": {},
   "source": [
    "Давайте посмотрим, что у нас хранится в даталоадере. Обратите внимание, что из-за `batch_size=90` выведется достаточно много значений. Можно уменьшить `batch_size`, чтобы посмотреть на выход, но обучать сеть лучше с `batch_size=90`."
   ]
  },
  {
   "cell_type": "code",
   "execution_count": 49,
   "metadata": {
    "ExecuteTime": {
     "end_time": "2021-03-23T12:02:21.927772Z",
     "start_time": "2021-03-23T12:02:21.910335Z"
    }
   },
   "outputs": [
    {
     "name": "stdout",
     "output_type": "stream",
     "text": [
      "OpenSTT (Test/Train) 22 4282\n",
      "LibreSpeech (dev/test/train): 13 13 528\n",
      "CommonVoice (val/test/train):  56 112 553\n"
     ]
    }
   ],
   "source": [
    "print('OpenSTT (Test/Train)', len(open_stt_test_dataloader), len(open_stt_train_dataloader))\n",
    "print('LibreSpeech (dev/test/train):', len(ls_dev_dataloader), len(ls_test_dataloader), len(ls_train_dataloader))\n",
    "print('CommonVoice (val/test/train): ', \n",
    "      len(common_voice_val_dataloader), len(common_voice_test_dataloader), len(common_voice_train_dataloader))"
   ]
  },
  {
   "cell_type": "code",
   "execution_count": 50,
   "metadata": {
    "ExecuteTime": {
     "end_time": "2021-03-23T12:02:30.360395Z",
     "start_time": "2021-03-23T12:02:21.929525Z"
    },
    "scrolled": true
   },
   "outputs": [
    {
     "name": "stdout",
     "output_type": "stream",
     "text": [
      "LibreSpeech:  {'audios': tensor([[-6.1725e-05, -1.0613e-04, -1.2939e-05,  ...,  0.0000e+00,\n",
      "          0.0000e+00,  0.0000e+00],\n",
      "        [-2.0116e-03, -2.4842e-03, -2.4598e-03,  ...,  0.0000e+00,\n",
      "          0.0000e+00,  0.0000e+00],\n",
      "        [-3.8061e-02, -7.4427e-02, -7.2082e-02,  ...,  0.0000e+00,\n",
      "          0.0000e+00,  0.0000e+00],\n",
      "        ...,\n",
      "        [ 6.7447e-04,  4.9093e-04,  1.1680e-04,  ..., -1.5934e-05,\n",
      "          5.0583e-04,  6.1139e-04],\n",
      "        [ 2.8555e-06,  9.5998e-06,  1.8589e-05,  ...,  2.1231e-05,\n",
      "          9.6354e-06,  3.4373e-05],\n",
      "        [ 3.2359e-04,  4.8952e-04,  6.7874e-04,  ...,  6.8900e-04,\n",
      "          4.3350e-04,  4.6143e-04]]), 'audio_lens': tensor([ 8160,  9520,  9680, 10000, 10160, 10240, 10480, 10640, 10720, 10720,\n",
      "        10880, 10880, 10960, 11040, 11040, 11040, 11040, 11120, 11120, 11200,\n",
      "        11200, 11280, 11360, 11360, 11360, 11360, 11440, 11520, 11520, 11520,\n",
      "        11600, 11680, 11680, 11680, 11680, 11760, 11840, 11840, 11840, 11840,\n",
      "        11840, 11920, 11920, 12000, 12000, 12000, 12000, 12080, 12080, 12160,\n",
      "        12160, 12160, 12240, 12240, 12320, 12320, 12320, 12320, 12320, 12320,\n",
      "        12320, 12400, 12400, 12400, 12480, 12480, 12480, 12480, 12480, 12480,\n",
      "        12480, 12480, 12560, 12560, 12560, 12560, 12640, 12640, 12640, 12640,\n",
      "        12640, 12720, 12720, 12720, 12720, 12720, 12720, 12800, 12800, 12800]), 'texts': ['однако довольно', 'ну братец выходи', 'господи удержи его', 'я в сумасшедшем доме', 'я очень очень рад', 'ну это посмотрим', 'сестра встрепенулась', 'теперь мол понял', 'спрашивает пастух', 'раздалось в толпе', 'что хочу то л сделаю', 'быть может еще успею', 'дай ее мне я спрячу', 'а хочется на войну', 'вдруг заговорил седок', 'ну да содержания', 'ни кости ни артерии', 'воскликнул больной', 'разобрал я наконец', 'чего ж тебе чудно', 'послушай кудряшов', 'не все так счастливы', 'все равно умирать', 'кто же другой как не я', 'а василий петрович', 'разве он уже не знает', 'вы связали мне руки', 'позвольте закурить', 'мы сидели и молчали', 'стой стой василий петрович', 'не мог его удержать', 'разве я войну начал', 'а нам какое дело до господ', 'ты говоришь нечестно', 'спрашивает начальник', 'вставайте вставайте', 'он взглянул на часы', 'он самый и есть с', 'только бы позволили', 'а мне нисколько', 'но теперь было не то', 'перебила ольга павловна', 'потом я побежал дальше', 'говорила марья петровна', 'чего тебе надобно', 'мы осматривали больницу', 'хоть в три сажени', 'когда из нее можно сделать все', 'она не могла говорить', 'робко спросил кузьма', 'закричал кудряшов', 'странное название', 'я еще погромче повторил', 'за дедова я очень рад', 'мартинов еще пиши', 'сказала марья петровна', 'надежда николаевна', 'город почти опустел', 'отчитываешь что ли', 'о вы угадали с первого раза', 'я не сержусь иван иваныч', 'постойте постойте леонид', 'и шкуры может быть', 'на кавказе служил тогда', 'здравствуй бачка', 'какой бачка вздор', 'за каким же делом', 'они все ближе и ближе', 'читай читай дружок', 'неужели собственная', 'спросил василий петрович', 'как же бачка хорошо', 'оставьте довольно не говорите', 'но ведь она неизбежна', 'он повернулся к двери', 'сердце у меня разорвется', 'а что ж кузьма фомич', 'вы вздумали спасать меня', 'не лучше ли кончить', 'да что конечно годен', 'живи себе по своему', 'необыкновенная картина', 'ну и пишем куда следует', 'если бы я вышла за него', 'вот не думал не гадал', 'да тут их и не увидишь', 'сын подал ему винтовку', 'но впрочем что же', 'обратился он к львову', 'ты как сюда попал'], 'text_lens': tensor([15, 16, 18, 20, 17, 16, 20, 16, 17, 17, 20, 20, 19, 18, 21, 16, 19, 18,\n",
      "        18, 17, 17, 20, 17, 22, 18, 21, 19, 18, 19, 26, 19, 19, 26, 20, 20, 19,\n",
      "        19, 17, 19, 15, 20, 23, 22, 23, 17, 23, 17, 30, 21, 20, 17, 17, 23, 21,\n",
      "        17, 22, 18, 19, 18, 27, 24, 24, 18, 23, 16, 17, 17, 21, 18, 19, 24, 19,\n",
      "        29, 21, 21, 24, 20, 24, 19, 20, 19, 22, 23, 23, 21, 22, 22, 17, 21, 17]), 'tokens': tensor([[15,  4, 14,  ...,  0,  0,  0],\n",
      "        [14, 20, 33,  ...,  0,  0,  0],\n",
      "        [ 3, 15, 18,  ...,  0,  0,  0],\n",
      "        ...,\n",
      "        [14, 15, 33,  ...,  0,  0,  0],\n",
      "        [15,  1, 17,  ...,  0,  0,  0],\n",
      "        [19, 28, 33,  ...,  0,  0,  0]]), 'memory_usage': 1154880.0} \n",
      "\n",
      "OpenSTT:  {'audios': tensor([[-1.3151e-01, -1.9459e-01, -1.6044e-01,  ..., -7.9530e-03,\n",
      "         -9.7857e-03, -1.0878e-02],\n",
      "        [ 3.5161e-03,  5.0513e-03,  4.7674e-03,  ...,  2.3321e-03,\n",
      "          1.6212e-03, -1.6420e-04],\n",
      "        [-5.4266e-03, -7.1821e-03, -6.1743e-03,  ..., -5.6393e-03,\n",
      "         -6.3484e-03, -6.6561e-03],\n",
      "        ...,\n",
      "        [ 8.7351e-03,  1.2168e-02,  1.2205e-02,  ...,  1.4283e-02,\n",
      "          1.3073e-02,  1.3986e-02],\n",
      "        [-4.0768e-03, -6.2382e-03, -5.1741e-03,  ...,  5.4082e-03,\n",
      "          5.1124e-03,  4.8548e-03],\n",
      "        [-1.1339e-03, -1.0429e-03, -1.9176e-04,  ..., -3.0665e-03,\n",
      "         -1.8145e-03, -1.6334e-03]]), 'audio_lens': tensor([16160, 16160, 16160, 16160, 16160, 16160, 16160, 16160, 16160, 16160,\n",
      "        16160, 16160, 16160, 16160, 16160, 16160, 16160, 16160, 16160, 16160,\n",
      "        16160, 16160, 16160, 16160, 16160, 16160, 16160, 16160, 16160, 16160,\n",
      "        16160, 16160, 16160, 16160, 16160, 16160, 16160, 16160, 16160, 16160,\n",
      "        16160, 16160, 16160, 16160, 16160, 16160, 16160, 16160, 16160, 16160,\n",
      "        16160, 16160, 16160, 16160, 16160, 16160, 16160, 16160, 16160, 16160,\n",
      "        16160, 16160, 16160, 16160, 16160, 16160, 16160, 16160, 16160, 16160,\n",
      "        16160, 16160, 16160, 16160, 16160, 16160, 16160, 16160, 16160, 16160,\n",
      "        16160, 16160, 16160, 16160, 16160, 16160, 16160, 16160, 16160, 16160]), 'texts': ['не потепление а использование нас', 'е что не занимается контрпропагандой', 'я можно этим шансом воспользоваться', 'но это уже совсем теоретический вопрос дава', 'т и они задают вопросы это', 'и такое ощущение что действительно у них', 'так сейчас когда идешь по эрмитажу там', 'я вы то с экранов не слезали', 'то демонстративные законы', 'о то такое про человека знаешь что', 'т если у него нет возможности найти работу', 'так вот этого механизма нет', 'к выводу что не тех бомбили', 'ы ему сделали потрясающую рекламу', 'у милиционеры о заказных делах', 'й в крыму было легко', 'и что должен быть военный настоя', 'именно в кон', 'се возможности все ходы дума', 'мы помним этот безумный проект', 'ре монополий не бывает но', 'переворачивающая шахматы что', 'чит что они имели в виду понятно', 'и будут стоять и никуда не', 'о на самом деле проблема не пло', 'е говорит что мы будем готовы', 'и уничтожали друг друга словесно это', 'в основном преступники среди иностранцев', 'почему они не успели скажи мне пожалуйста', 'когда заявление о том что', 'а еще есть третий момент что', 'ось заручиться поддержкой', 'и голосовать так как тебе велит сов', 'то те цветы на обломках как', 'ейчас большинство из них не хотят жить', 'го лицемерного ханжества', 'но я не буду против этого протестовать', ' это же правда мы ж это знаем ну', 'я говорю у тебя какие то проблемы были ицха', 'и фундаментальный тренд', 'торый в своей речи', 'и в этом смысле наверное', 'и не только ваши радиослушатели ну', 'е это они стали говорить', 'о миру было немало понимаете в', 'необходимо обновление', 'которую теперь в чем то обвиняют', 'да этих людей надо лечить меха', 'баланс все что мы говорили', ' ходорковский не терминатор', 'торы кому то из них позвонили', 'еженедельно', 'и мне показалось тогда что', 'на каком месте оказался бы путин', 'а хорошо швеция европа', 'ка уже не будет совсем плохо', 'вообще чем больше публичности тем больше порядка', 'я человек который попадает на первый пост', 'кал естественно песков', 'то это было бы на руку партии сейчас', 'рассказывал что два года назад', 'ям ошибочно было бы изучать', 'кого то из миллиардеров видимо попросят', ' но что ее именно сейчас в', 'чти любой борец за права человека', 'годы в частности например нео', 'году пришел на территорию нашей страны при', 'существует разрыв', 'казались здесь сулит', 'б чего там они хотели я не знаю но', 'ня наибольшее восхищение', 'х они должны составить', 'а явиться в условленное вре', 'м христианином рабом божием', 'ми программа особое мнение меня зовут ольга', 'дев люди которые действительно', 'четыреста рабочих мест если правительству', 'кт подтвержден решением суда', 'ну для меня по крайней мере про', 'е два грабителя влезли через балкон', 'сталин давно помер слава богу и', 'большевизм стали', 'брано то о чем мы говорим в конце концов', 'ло бойкот это вообще така', 'человеку как гражданину важно что', 'истинную выборность', 'ли и это было тоже правильно', 'ет удача сопутствует нам в', 'т вы захотите я да', 'уже говорить о том что'], 'text_lens': tensor([33, 36, 35, 43, 26, 40, 38, 28, 25, 34, 42, 27, 27, 33, 30, 20, 32, 12,\n",
      "        28, 30, 25, 28, 32, 26, 31, 29, 36, 40, 41, 25, 28, 25, 35, 27, 38, 24,\n",
      "        38, 32, 43, 23, 18, 24, 34, 24, 30, 21, 32, 30, 26, 27, 29, 11, 26, 32,\n",
      "        22, 28, 48, 41, 22, 36, 30, 27, 39, 26, 33, 29, 42, 17, 20, 34, 24, 22,\n",
      "        27, 27, 43, 30, 41, 28, 31, 35, 31, 16, 40, 25, 33, 19, 28, 26, 18, 22]), 'tokens': tensor([[14,  5, 33,  ...,  0,  0,  0],\n",
      "        [ 5, 33, 24,  ...,  0,  0,  0],\n",
      "        [32, 33, 13,  ...,  0,  0,  0],\n",
      "        ...,\n",
      "        [ 5, 19, 33,  ...,  0,  0,  0],\n",
      "        [19, 33,  2,  ...,  0,  0,  0],\n",
      "        [20,  7,  5,  ...,  0,  0,  0]]), 'memory_usage': 1458900.0} \n",
      "\n"
     ]
    },
    {
     "name": "stdout",
     "output_type": "stream",
     "text": [
      "CommonVoice:  {'audios': tensor([[ 0.0000e+00,  0.0000e+00,  0.0000e+00,  ...,  0.0000e+00,\n",
      "          0.0000e+00,  0.0000e+00],\n",
      "        [-1.3758e-09, -2.2855e-09, -1.3640e-09,  ...,  0.0000e+00,\n",
      "          0.0000e+00,  0.0000e+00],\n",
      "        [ 0.0000e+00,  0.0000e+00,  0.0000e+00,  ...,  0.0000e+00,\n",
      "          0.0000e+00,  0.0000e+00],\n",
      "        ...,\n",
      "        [-1.5817e-10, -1.1054e-09, -8.6849e-10,  ..., -6.0157e-05,\n",
      "         -9.4994e-05, -6.6298e-05],\n",
      "        [-3.5852e-10, -1.5307e-09, -1.0943e-09,  ..., -6.4747e-06,\n",
      "          7.2469e-05, -8.5404e-06],\n",
      "        [-1.3421e-10, -1.5815e-09, -1.3563e-09,  ...,  2.1040e-03,\n",
      "          1.7100e-03,  1.6340e-03]]), 'audio_lens': tensor([ 8360,  8640,  8987,  9196,  9196,  9405,  9405,  9600,  9823, 10032,\n",
      "        10176, 10176, 10368, 10449, 10560, 10560, 10560, 10560, 10560, 10560,\n",
      "        10560, 10560, 10560, 10560, 10658, 10752, 10752, 11136, 11136, 11136,\n",
      "        11136, 11285, 11328, 11328, 11520, 11520, 11520, 11520, 11520, 11520,\n",
      "        11520, 11520, 11712, 11712, 11712, 11712, 11703, 11904, 11904, 11904,\n",
      "        12096, 12096, 12096, 12096, 12096, 12096, 12096, 12096, 12096, 12096,\n",
      "        12096, 12096, 12096, 12096, 12096, 12096, 12096, 12096, 12096, 12096,\n",
      "        12096, 12288, 12288, 12288, 12288, 12288, 12330, 12480, 12480, 12480,\n",
      "        12480, 12480, 12480, 12480, 12480, 12480, 12480, 12480, 12480, 12480]), 'texts': ['один', 'ноль', 'два', 'шесть', 'нет', 'пять', 'три', 'два', 'шесть', 'ноль', 'да', 'пять', 'нет', 'четыре', 'пять', 'нет', 'четыре', 'пять', 'два', 'нет', 'три', 'два', 'восемь', 'девять', 'два', 'пять', 'да', 'да', 'один', 'один', 'ноль', 'шесть', 'шесть', 'да', 'шесть', 'два', 'восемь', 'да', 'пять', 'один', 'пять', 'четыре', 'девять', 'да', 'да', 'один', 'да', 'шесть', 'два', 'шесть', 'семь', 'шесть', 'шесть', 'эй', 'ноль', 'да', 'эй', 'один', 'да', 'да', 'семь', 'один', 'семь', 'ноль', 'эй', 'пять', 'девять', 'пять', 'два', 'каких', 'с дороги', 'семь', 'шесть', 'семь', 'эй', 'семь', 'восемь', 'ноль', 'три', 'семь', 'ноль', 'два', 'восемь', 'нет', 'да', 'ноль', 'дура', 'девять', 'пять', 'два'], 'text_lens': tensor([4, 4, 3, 5, 3, 4, 3, 3, 5, 4, 2, 4, 3, 6, 4, 3, 6, 4, 3, 3, 3, 3, 6, 6,\n",
      "        3, 4, 2, 2, 4, 4, 4, 5, 5, 2, 5, 3, 6, 2, 4, 4, 4, 6, 6, 2, 2, 4, 2, 5,\n",
      "        3, 5, 4, 5, 5, 2, 4, 2, 2, 4, 2, 2, 4, 4, 4, 4, 2, 4, 6, 4, 3, 5, 8, 4,\n",
      "        5, 4, 2, 4, 6, 4, 3, 4, 4, 3, 6, 3, 2, 4, 4, 6, 4, 3]), 'tokens': tensor([[15,  4,  9, 14,  0,  0,  0,  0],\n",
      "        [14, 15, 12, 27,  0,  0,  0,  0],\n",
      "        [ 4,  2,  0,  0,  0,  0,  0,  0],\n",
      "        [25,  5, 18, 19, 27,  0,  0,  0],\n",
      "        [14,  5, 19,  0,  0,  0,  0,  0],\n",
      "        [16, 32, 19, 27,  0,  0,  0,  0],\n",
      "        [19, 17,  9,  0,  0,  0,  0,  0],\n",
      "        [ 4,  2,  0,  0,  0,  0,  0,  0],\n",
      "        [25,  5, 18, 19, 27,  0,  0,  0],\n",
      "        [14, 15, 12, 27,  0,  0,  0,  0],\n",
      "        [ 4,  0,  0,  0,  0,  0,  0,  0],\n",
      "        [16, 32, 19, 27,  0,  0,  0,  0],\n",
      "        [14,  5, 19,  0,  0,  0,  0,  0],\n",
      "        [24,  5, 19, 28, 17,  5,  0,  0],\n",
      "        [16, 32, 19, 27,  0,  0,  0,  0],\n",
      "        [14,  5, 19,  0,  0,  0,  0,  0],\n",
      "        [24,  5, 19, 28, 17,  5,  0,  0],\n",
      "        [16, 32, 19, 27,  0,  0,  0,  0],\n",
      "        [ 4,  2,  0,  0,  0,  0,  0,  0],\n",
      "        [14,  5, 19,  0,  0,  0,  0,  0],\n",
      "        [19, 17,  9,  0,  0,  0,  0,  0],\n",
      "        [ 4,  2,  0,  0,  0,  0,  0,  0],\n",
      "        [ 2, 15, 18,  5, 13, 27,  0,  0],\n",
      "        [ 4,  5,  2, 32, 19, 27,  0,  0],\n",
      "        [ 4,  2,  0,  0,  0,  0,  0,  0],\n",
      "        [16, 32, 19, 27,  0,  0,  0,  0],\n",
      "        [ 4,  0,  0,  0,  0,  0,  0,  0],\n",
      "        [ 4,  0,  0,  0,  0,  0,  0,  0],\n",
      "        [15,  4,  9, 14,  0,  0,  0,  0],\n",
      "        [15,  4,  9, 14,  0,  0,  0,  0],\n",
      "        [14, 15, 12, 27,  0,  0,  0,  0],\n",
      "        [25,  5, 18, 19, 27,  0,  0,  0],\n",
      "        [25,  5, 18, 19, 27,  0,  0,  0],\n",
      "        [ 4,  0,  0,  0,  0,  0,  0,  0],\n",
      "        [25,  5, 18, 19, 27,  0,  0,  0],\n",
      "        [ 4,  2,  0,  0,  0,  0,  0,  0],\n",
      "        [ 2, 15, 18,  5, 13, 27,  0,  0],\n",
      "        [ 4,  0,  0,  0,  0,  0,  0,  0],\n",
      "        [16, 32, 19, 27,  0,  0,  0,  0],\n",
      "        [15,  4,  9, 14,  0,  0,  0,  0],\n",
      "        [16, 32, 19, 27,  0,  0,  0,  0],\n",
      "        [24,  5, 19, 28, 17,  5,  0,  0],\n",
      "        [ 4,  5,  2, 32, 19, 27,  0,  0],\n",
      "        [ 4,  0,  0,  0,  0,  0,  0,  0],\n",
      "        [ 4,  0,  0,  0,  0,  0,  0,  0],\n",
      "        [15,  4,  9, 14,  0,  0,  0,  0],\n",
      "        [ 4,  0,  0,  0,  0,  0,  0,  0],\n",
      "        [25,  5, 18, 19, 27,  0,  0,  0],\n",
      "        [ 4,  2,  0,  0,  0,  0,  0,  0],\n",
      "        [25,  5, 18, 19, 27,  0,  0,  0],\n",
      "        [18,  5, 13, 27,  0,  0,  0,  0],\n",
      "        [25,  5, 18, 19, 27,  0,  0,  0],\n",
      "        [25,  5, 18, 19, 27,  0,  0,  0],\n",
      "        [30, 10,  0,  0,  0,  0,  0,  0],\n",
      "        [14, 15, 12, 27,  0,  0,  0,  0],\n",
      "        [ 4,  0,  0,  0,  0,  0,  0,  0],\n",
      "        [30, 10,  0,  0,  0,  0,  0,  0],\n",
      "        [15,  4,  9, 14,  0,  0,  0,  0],\n",
      "        [ 4,  0,  0,  0,  0,  0,  0,  0],\n",
      "        [ 4,  0,  0,  0,  0,  0,  0,  0],\n",
      "        [18,  5, 13, 27,  0,  0,  0,  0],\n",
      "        [15,  4,  9, 14,  0,  0,  0,  0],\n",
      "        [18,  5, 13, 27,  0,  0,  0,  0],\n",
      "        [14, 15, 12, 27,  0,  0,  0,  0],\n",
      "        [30, 10,  0,  0,  0,  0,  0,  0],\n",
      "        [16, 32, 19, 27,  0,  0,  0,  0],\n",
      "        [ 4,  5,  2, 32, 19, 27,  0,  0],\n",
      "        [16, 32, 19, 27,  0,  0,  0,  0],\n",
      "        [ 4,  2,  0,  0,  0,  0,  0,  0],\n",
      "        [11,  0, 11,  9, 22,  0,  0,  0],\n",
      "        [18, 33,  4, 15, 17, 15,  3,  9],\n",
      "        [18,  5, 13, 27,  0,  0,  0,  0],\n",
      "        [25,  5, 18, 19, 27,  0,  0,  0],\n",
      "        [18,  5, 13, 27,  0,  0,  0,  0],\n",
      "        [30, 10,  0,  0,  0,  0,  0,  0],\n",
      "        [18,  5, 13, 27,  0,  0,  0,  0],\n",
      "        [ 2, 15, 18,  5, 13, 27,  0,  0],\n",
      "        [14, 15, 12, 27,  0,  0,  0,  0],\n",
      "        [19, 17,  9,  0,  0,  0,  0,  0],\n",
      "        [18,  5, 13, 27,  0,  0,  0,  0],\n",
      "        [14, 15, 12, 27,  0,  0,  0,  0],\n",
      "        [ 4,  2,  0,  0,  0,  0,  0,  0],\n",
      "        [ 2, 15, 18,  5, 13, 27,  0,  0],\n",
      "        [14,  5, 19,  0,  0,  0,  0,  0],\n",
      "        [ 4,  0,  0,  0,  0,  0,  0,  0],\n",
      "        [14, 15, 12, 27,  0,  0,  0,  0],\n",
      "        [ 4, 20, 17,  0,  0,  0,  0,  0],\n",
      "        [ 4,  5,  2, 32, 19, 27,  0,  0],\n",
      "        [16, 32, 19, 27,  0,  0,  0,  0],\n",
      "        [ 4,  2,  0,  0,  0,  0,  0,  0]]), 'memory_usage': 1124100.0} \n",
      "\n"
     ]
    }
   ],
   "source": [
    "print('LibreSpeech: ', next(iter(ls_train_dataloader)), '\\n')\n",
    "print('OpenSTT: ', next(iter(open_stt_train_dataloader)), '\\n')\n",
    "print('CommonVoice: ', next(iter(common_voice_train_dataloader)), '\\n')"
   ]
  },
  {
   "cell_type": "markdown",
   "metadata": {},
   "source": [
    "# Акустические фичи"
   ]
  },
  {
   "cell_type": "markdown",
   "metadata": {},
   "source": [
    "Как мы обсуждали на лекциях, есть разные способы построить аудио фичи. Мы будем использовать log mel spectrogram.\n"
   ]
  },
  {
   "cell_type": "code",
   "execution_count": 51,
   "metadata": {
    "ExecuteTime": {
     "end_time": "2021-03-23T12:02:30.384868Z",
     "start_time": "2021-03-23T12:02:30.362547Z"
    }
   },
   "outputs": [],
   "source": [
    "class SpectrogramTransform(torch.nn.Module):\n",
    "    def __init__(self, freq_mask_param=10, time_mask_param=10):\n",
    "        super().__init__()\n",
    "        \n",
    "        self.freq_mask_param = freq_mask_param\n",
    "        self.time_mask_param = time_mask_param    \n",
    "        \n",
    "        self._time_masking = torchaudio.transforms.TimeMasking(self.time_mask_param)\n",
    "        self._frequency_masking = torchaudio.transforms.FrequencyMasking(self.freq_mask_param)\n",
    "        \n",
    "        self._half_time_masking = torchaudio.transforms.TimeMasking(self.time_mask_param // 2)\n",
    "        self._half_frequency_masking = torchaudio.transforms.FrequencyMasking(self.freq_mask_param // 2)\n",
    "        \n",
    "    def forward(self, spectrogram):\n",
    "        t_type = np.random.choice(['_frequency_masking', '_time_masking', '_both', '_none'])\n",
    "        \n",
    "        if t_type == '_frequency_masking':\n",
    "            return self._frequency_masking(spectrogram)\n",
    "        elif t_type == '_time_masking':\n",
    "            return self._time_masking(spectrogram)\n",
    "        elif t_type == '_both':\n",
    "            return self._half_time_masking(self._half_frequency_masking(spectrogram))\n",
    "        else:\n",
    "            return spectrogram"
   ]
  },
  {
   "cell_type": "code",
   "execution_count": 52,
   "metadata": {
    "ExecuteTime": {
     "end_time": "2021-03-23T12:02:30.404498Z",
     "start_time": "2021-03-23T12:02:30.386592Z"
    },
    "code_folding": [],
    "scrolled": true
   },
   "outputs": [],
   "source": [
    "def compute_log_mel_spectrogram(\n",
    "    audio, sequence_lengths,\n",
    "    sample_rate=8000, window_size=0.02, window_step=0.01,\n",
    "#     sample_rate=8000, window_size=0.02, window_step=0.005,\n",
    "    f_min=20, f_max=3800, n_mels=64, window_fn=torch.hamming_window,\n",
    "    power=1.0, eps=1e-6, spectrogram_transform=None\n",
    "):\n",
    "    \"\"\" Compute log-mel spectrogram.\n",
    "        Input shape:\n",
    "            audio: 3D tensor with shape (batch_size, num_timesteps)\n",
    "            sequence_lengths: 1D tensor with shape (batch_size)\n",
    "        Returns:\n",
    "            4D tensor with shape (batch_size, n_mels, new_num_timesteps)\n",
    "            1D tensor with shape (batch_size)\n",
    "    \"\"\"\n",
    "    spectrogram_transform = (lambda x: x) if spectrogram_transform is None else spectrogram_transform\n",
    "    \n",
    "    win_length = int(window_size * sample_rate)\n",
    "    hop_length = int(window_step * sample_rate)\n",
    "    \n",
    "    ### write your code here ###\n",
    "    mel_transformer = torchaudio.transforms.MelSpectrogram(\n",
    "        sample_rate=sample_rate, win_length=win_length, hop_length=hop_length, n_fft=win_length,\n",
    "        f_min=f_min, f_max=f_max, pad=0, n_mels=n_mels, power=power, window_fn=window_fn\n",
    "    ).to(device=audio.device)\n",
    "    \n",
    "    log_mel_spectrogram = torch.log(mel_transformer(audio) + eps)\n",
    "    log_mel_spectrogram = spectrogram_transform(log_mel_spectrogram)\n",
    "    seq_len = ((sequence_lengths + 2 * hop_length - win_length) // hop_length + 1).to(dtype=torch.long)    \n",
    "    \n",
    "    return log_mel_spectrogram, seq_len"
   ]
  },
  {
   "cell_type": "code",
   "execution_count": 53,
   "metadata": {
    "ExecuteTime": {
     "end_time": "2021-03-23T12:02:32.643416Z",
     "start_time": "2021-03-23T12:02:30.406161Z"
    }
   },
   "outputs": [
    {
     "name": "stdout",
     "output_type": "stream",
     "text": [
      "torch.Size([90, 64, 157]) torch.Size([90])\n"
     ]
    }
   ],
   "source": [
    "batch = next(iter(common_voice_train_dataloader))\n",
    "log_mel_spectrogram, sequence_lengths = compute_log_mel_spectrogram(\n",
    "    batch['audios'], batch['audio_lens'], sample_rate=SAMPLE_RATE\n",
    ")\n",
    "print(log_mel_spectrogram.shape, sequence_lengths.shape)"
   ]
  },
  {
   "cell_type": "code",
   "execution_count": 54,
   "metadata": {
    "ExecuteTime": {
     "end_time": "2021-03-23T12:02:35.764839Z",
     "start_time": "2021-03-23T12:02:32.645439Z"
    },
    "scrolled": true
   },
   "outputs": [
    {
     "name": "stdout",
     "output_type": "stream",
     "text": [
      "Don't forget to save Jupyter Notebook! \n",
      "\n",
      "\n",
      "\u001b[1m============================= test session starts ==============================\u001b[0m\n",
      "platform linux -- Python 3.6.9, pytest-6.2.2, py-1.10.0, pluggy-0.13.1\n",
      "rootdir: /home/mnakhodnov/sirius-stt, configfile: pytest.ini\n",
      "collected 1 item                                                               \u001b[0m\u001b[1m\n",
      "\n",
      "tests/test_compute_log_mel_spectrogram.py \u001b[32m.\u001b[0m\u001b[32m                              [100%]\u001b[0m\n",
      "\n",
      "\u001b[32m============================== \u001b[32m\u001b[1m1 passed\u001b[0m\u001b[32m in 1.79s\u001b[0m\u001b[32m ===============================\u001b[0m\n"
     ]
    }
   ],
   "source": [
    "! pytest tests/test_compute_log_mel_spectrogram.py"
   ]
  },
  {
   "cell_type": "markdown",
   "metadata": {},
   "source": [
    "Давайте посмотрим, как выглядит log-mel спектрограмма."
   ]
  },
  {
   "cell_type": "code",
   "execution_count": 55,
   "metadata": {
    "ExecuteTime": {
     "end_time": "2021-03-23T12:02:36.043004Z",
     "start_time": "2021-03-23T12:02:35.767147Z"
    },
    "scrolled": false
   },
   "outputs": [
    {
     "data": {
      "image/png": "[encoded data removed]",
      "text/plain": [
       "<Figure size 432x288 with 1 Axes>"
      ]
     },
     "metadata": {
      "needs_background": "light"
     },
     "output_type": "display_data"
    },
    {
     "data": {
      "text/html": [
       "\n",
       "                <audio  controls=\"controls\" >\n",
       "                    <source src=\"data:audio/wav;base64,UklGRiSgAABXQVZFZm10IBAAAAABAAEAQB8AAIA+AAACABAAZGF0YQCgAAAAAAAAAAAAAAAAAAAAAAAAAAAAAAAAAAAAAAAAAAAAAAAAAAAAAAAAAAAAAAAAAAAAAAAAAAAAAAAAAAAAAAAAAAAAAAAAAAAAAAAAAAAAAAAAAAAAAAAAAAAAAAAAAAAAAAAAAAAAAAAAAAAAAAAAAAAAAAAAAAAAAAAAAAAAAAAAAAAAAAAAAAAAAAAAAAAAAAAAAAAAAAAAAAAAAAAAAAAAAAAAAAAAAAAAAAAAAAAAAAAAAAAAAAAAAAAAAAAAAAAAAAAAAAAAAAAAAAAAAAAAAAAAAAABAAAAAAAAAAAAAAAAAAAAAAAAAAAAAAAAAAAAAAAAAAAAAAAAAAAAAAAAAAAAAAAAAAAAAAAAAAAAAAAAAAAAAAAAAAAAAAAAAAAAAAAAAAAAAAAAAAAAAAAAAAAAAAAAAAAAAAAAAAAAAAAAAAAAAAAAAAAAAAAAAAAAAAAAAAAAAAAAAAAAAAAAAAAAAAAAAAAAAAAAAAAAAAAAAAAAAAAAAAAAAQAAAAAAAAAAAAAAAAAAAAAAAAAAAAAAAAAAAAAAAAAAAAAAAAAAAAAAAAAAAAAAAAAAAAAAAAAAAAAAAAAAAAAAAAAAAAAAAAAAAAAAAAAAAAAAAAAAAAAAAAAAAAAAAAAAAAAAAAAAAAAAAAAAAAAAAAAAAAAAAAAAAAAAAAAAAAAAAAAAAAAAAAAAAAAAAAAAAAAAAAAAAAAAAAAAAAAAAAAAAAAAAAAAAAAAAAAAAAAAAAAAAAAAAAAAAAAAAAAAAAAAAAAAAAAAAAAAAAAAAAAAAAAAAAAAAAAAAAAAAAAAAAAAAAAAAAAAAAAAAAAAAAAAAAAAAAAAAAAAAAAAAAAAAAAAAAAAAAAA//8AAAAAAAAAAAAAAAAAAAAAAAAAAAAAAAAAAAAAAAAAAAAAAAAAAAAAAAAAAAAAAAAAAAAAAAAAAAAAAAAAAAAA//8AAAAAAAAAAAAAAAAAAAAAAAAAAAAAAAAAAAAAAAAAAAAAAAAAAAAAAAAAAAAAAAAAAAAAAAAAAAAAAAAAAAAAAAAAAAAAAAAAAAAAAAAAAAAAAAAAAAAAAAAAAAAAAAAAAAAAAAAAAAAAAAAAAAAAAAAAAAAAAAAAAAAAAAAAAAAAAAAAAAAAAAAAAAAAAAAAAAAAAAAAAAAAAAAAAAAAAAAAAAAAAAAAAAAAAAAAAAAAAAAAAAAAAAAAAAAAAAAAAAAAAAAAAAAAAAAAAAAAAAAAAAAAAAAAAAAAAAAAAAAAAAAAAAAAAAAAAAAAAAAAAAAAAAAAAAAAAAAAAAAAAAAAAAAAAAAAAAAAAAAAAAAAAAAAAAAAAAAAAAAAAAAAAAAAAAAAAAAAAAAAAAAAAAAAAAAAAAAAAAAAAAAAAAAAAAAAAAAAAAAAAAAAAAAAAAAAAAAAAAAAAAAAAAAAAAAAAAAAAAAAAAAAAAAAAAAAAAAAAAAAAAAAAAAAAAAAAAAAAAAAAAAAAAAAAAAAAAAAAAAAAAAAAAAAAAAAAAAAAAAAAAAAAAAAAAAAAAAAAAAAAAAAAAAAAAAAAAAAAAAAAAAAAAAAAAAAAAAAAAAAAAAAAAAAAAAAAAAAAAAAAAAAAAAAAAAAAAAAAAAAAAAAAAAAAAAAAAAAAAAAAAAAAAAAAAAAAAAAAAAAAAAAAAAAAAAAAAAAAAAAAAAAAAAAAAAAAAAAAAAAAAAAAAAAAAAAAAAAAAAAAAAAAAAAAAAAAAAAAAAAAAAAAAAAAAAAAAAAAAAAAAAAAAAAAAAAAAAAAAAAAAAAAAAAAAAAAAAAAAAAAAAAAAAAAAAAAAAAAAAAAAAAAAAAAAAAAAAAAAAAAAAAAAAAAAAAAAAAAAAAAAAAAAAAAAAAAAAAAAAAAAAAAAAAAAAAAAAAAAAAAAAAAAAAAAAAAAAAAAAAAAAAAAAAAAAAAAAAAAAAAAAAAAAAAAAAAAAAAAAAAAAAAAAAAAAAAAAAAAAAAAAAAAAAAAAAAAAAAAAAAAAAAAAAAAAAAAAAAAAAAAAAAAAAAAAAAAAAAAAAAAAAAAAAAAAAAAAAAAAAAAAAAAAAAAAAAAAAAAAAAAAAAAAAAAAAAAAAAAAAAAAAAAAAAAAAAAAAAAAAAAAAAAAAAAAAAAAAAAAAAAAAAAAAAAAAAAAAAAAAAAAAAAAAAAAAAAAAAAAAAAAAAAAAAAAAAAAAAAAAAAAAAAAAAAAAAAAAAAAAAAAAAAAAAAAAAAAAAAAAAAAAAAAAAAAAAAAAAAAAAAAAAAAAAAAAAAAAAAAAAAAAAAAAAAAAAAAAAAAAAAAAAAAAAAAAAAAAAAAAAAAAAAAAAAAAAAAAAAAAAAAAAAAAAAAAAAAAAAAAAAAAAAAAAAAAAAAAAAAAAAAAAAAAAAAAAAAAAAAAAAAAAAAAAAAAAAAAAAAAAAAAAAAAAAAAAAAAAAAAAAAAAAAAAAAAAAAAAAAAAAAAAAAAAAAAAAAAAAAAAAAAAAAAAAAAAAAAAAAAAAAAAAAAAAAAAAAAAAAAAAAAAAAAAAAAAAAAAAAAAAAAAAAAAAAAAAAAAAAAAAAAAAAAAAAAAAAAAAAAAAAAAAAAAAAAAAAAAAAAAAAAAAAAAAAAAAAAAAAAAAAAAAAAAAAAAAAAAAAAAAAAAAAAAAAAAAAAAAAAAAAAAAAAAAAAAAAAAAAAAAAAAAAAAAAAAAAAAAAAAAAAAAAAAAAAAAAAAAAAAAAAAAAAAAAAAAAAAAAAAAAAAAAAAAAAAAAAAAAAAAAAAAAAAAAAAAAAAAAAAAAAAAAAAAAAAAAAAAAAAAAAAAAAAAAAAAAAAAAAAAAAAAAAAAAAAAAAAAAAAAAAAAAAAAAAAAAAAAAAAAAAAAAAAAAAAAAAAAAAAAAAAAAAAAAAAAAAAAAAAAAAAAAAAAAAAAAAAAAAAAAAAAAAAAAAAAAAAAAAAAAAAAAAAAAAAAAAAAAAAAAAAAAAAAAAAAAAAAAAAAAAAAAAAAAAAAAAAAAAAAAAAAAAAAAAAAAAAAAAAAAAAAAAAAAAAAAAAAAAAAAAAAAAAAAAAAAAAAAAAAAAAAAAAAAAAAAAAAAAAAAAAAAAAAAAAAAAAAAAAAAAAAAAAAAAAAAAAAAAAAAAAAAAAAAAAAAAAAAAAAAAAAAAAAAAAAAAAAAAAAAAAAAAAAAAAAAAAAAAAAAAAAAAAAAAAAAAAAAAAAAAAAAAAAAAAAAAAAAAAAAAAAAAAAAAAAAAAAAAAAAAAAAAAAAAAAAAAAAAAAAAAAAAAAAAAAAAAAAAAAAAAAAAAAAAAAAAAAAAAAAAAAAAAAAAAAAAAAAAAAAAAAAAAAAAAAAAAAAAAAAAAAAAAAAAAAAAAAAAAAAAAAAAAAAAAAAAAAAAAAAAAAAAAAAAAAAAAAAAAAAAAAAAAAAAAAAAAAAAAAAAAAAAAAAAAAAAAAAAAAAAAAAAAAAAAAAAAAAAAAAAAAAAAAAAAAAAAAAAAAAAAAAAAAAAAAAAAAAAAAAAAAAAAAAAAAAAAAAAAAAAAAAAAAAAAAAAAAAAAAAAAAAAAAAAAAAAAAAAAAAAAAAAAAAAAAAAAAAAAAAAAAAAAAAAAAAAAAAAAAAAAAAAAAAAAAAAAAAAAAAAAAAAAAAAAAAAAAAAAAAAAAAAAAAAAAAAAAAAAAAAAAAAAAAAAAAAAAAAAAAAAAAAAAAAAAAAAAAAAAAAAAAAAAAAAAAAAAAAAAAAAAAAAAAAAAAAAAAAAAAAAAAAAAAAAAAAAAAAAAAAAAAAAAAAAAAAAAAAAAAAAAAAAAAAAAAAAAAAAAAAAAAAAAAAAAAAAAAAAAAAAAAAAAAAAAAAAAAAAAAAAAAAAAAAAAAAAAAAAAAAAAAAAAAAAAAAAAAAAAAAAAAAAAAAAAAAAAAAAAAAAAAAAAAAAAAAAAAAAAAAAAAAAAAAAAAAAAAAAAAAAAAAAAAAAAAAAAAAAAAAAAAAAAAAAAAAAAAAAAAAAAAAAAAAAAAAAAAAAAAAAAAAAAAAAAAAAAAAAAAAAAAAAAAAAAAAAAAAAAAAAAAAAAAAAAAAAAAAAAAAAAAAAAAAAAAAAAAAAAAAAAAAAAAAAAAAAAAAAAAAAAAAAAAAAAAAAAAAAAAAAAAAAAAAAAAAAAAAAAAAAAAAAAAAAAAAAAAAAAAAAAAAAAAAAAAAAAAAAAAAAAAAAAAAAAAAAAAAAAAAAAAAAAAAAAAAAAAAAAAAAAAAAAAAAAAAAAAAAAAAAAAAAAAAAAAAAAAAAAAAAAAAAAAAAAAAAAAAAAAAAAAAAAAAAAAAAAAAAAAAAAAAAAAAAAAAAAAAAAAAAAAAAAAAAAAAAAAAAAAAAAAAAAAAAAAAAAAAAAAAAAAAAAAAAAAAAAAAAAAAAAAAAAAAAAAAAAAAAAAAAAAAAAAAAAAAAAAAAAAAAAAAAAAAAAAAAAAAAAAAAAAAAAAAAAAAAAAAAAAAAAAAAAAAAAAAAAAAAAAAAAAAAAAAAAAAAAAAAAAAAAAAAAAAAAAAAAAAAAAAAAAAAAAAAAAAAAAAAAAAAAAAAAAAAAAAAAAAAAAAAAAAAAAAAAAAAAAAAAAAAAAAAAAAAAAAAAAAAAAAAAAAAAAAAAAAAAAAAAAAAAAAAAAAAAAAAAAAAAAAAAAAAAAAAAAAAAAAAAAAAAAAAAAAAAAAAAAAAAAAAAAAAAAAAAAAAAAAAAAAAAAAAAAAAAAAAAAAAAAAAAAAAAAAAAAAAAAAAAAAAAAAAAAAAAAAAAAAAAAAAAAAAAAAAAAAAAAAAAAAAAAAAAAAAAAAAAAAAAAAAAAAAAAAAAAAAAAAAAAAAAAAAAAAAAAAAAAAAAAAAAAAAAAAAAAAAAAAAAAAAAAAAAAAAAAAAAAAAAAAAAAAAAAAAAAAAAAAAAAAAAAAAAAAAAAAAAAAAAAAAAAAAAAAAAAAAAAAAAAAAAAAAAAAAAAAAAAAAAAAAAAAAAAAAAAAAAAAAAAAAAAAAAAAAAAAAAAAAAAAAAAAAAAAAAAAAAAAAAAAAAAAAAAAAAAAAAAAAAAAAAAAAAAAAAAAAAAAAAAAAAAAAAAAAAAAAAAAAAAAAAAAAAAAAAAAAAAAAAAAAAAAAAAAAAAAAAAAAAAAAAAAAAAAAAAAAAAAAAAAAAAAAAAAAAAAAAAAAAAAAAAAAAAAAAAAAAAAAAAAAAAAAAAAAAAAAAAAAAAAAAAAAAAAAAAAAAAAAAAAAAAAAAAAAAAAAAAAAAAAAAAAAAAAAAAAAAAAAAAAAAAAAAAAAAAAAAAAAAAAAAAAAAAAAAAAAAAAAAAAAAAAAAAAAAAAAAAAAAAAAAAAAAAAAAAAAAAAAAAAAAAAAAAAAAAAAAAAAAAAAAAAAAAAAAAAAAAAAAAAAAAAAAAAAAAAAAAAAAAAAAAAAAAAAAAAAAAAAAAAAAAAAAAAAAAAAAAAAAAAAAAAAAAAAAAAAAAAAAAAAAAAAAAAAAAAAAAAAAAAAAAAAAAAAAAAAAAAAAAAAAAAAAAAAAAAAAAAAAAAAAAAAAAAAAAAAAAAAAAAAAAAAAAAAAAAAAAAAAAAAAAAAAAAAAAAAAAAAAAAAAAAAAAAAAAAAAAAAAAAAAAAAAAAAAAAAAAAAAAAAAAAAAAAAAAAAAAAAAAAAAAAAAAAAAAAAAAAAAAAAAAAAAAAAAAAAAAAAAAAAAAAAAAAAAAAAAAAAAAAAAAAAAAAAAAAAAAAAAAAAAAAAAAAAAAAAAAAAAAAAAAAAAAAAAAAAAAAAAAAAAAAAAAAAAAAAAAAAAAAAAAAAAAAAAAAAAAAAAAAAAAAAAAAAAAAAAAAAAAAAAAAAAAAAAAAAAAAAAAAAAAAAAAAAAAAAAAAAAAAAAAAAAAAAAAAAAAAAAAAAAAAAAAAAAAAAAAAAAAAAAAAAAAAAAAAAAAAAAAAAAAAAAAAAAAAAAAAAAAAAAAAAAAAAAAAAAAAAAAAAAAAAAAAAAAAAAAAAAAAAAAAAAAAAAAAAAAAAAAAAAAAAAAAAAAAAAAAAAAAAAAAAAAAAAAAAAAAAAAAAAAAAAAAAAAAAAAAAAAAAAAAAAAAAAAAAAAAAAAAAAAAAAAAAAAAAAAAAAAAAAAAAAAAAAAAAAAAAAAAAAAAAAAAAAAAAAAAAAAAAAAAAAAAAAAAAAAAAAAAAAAAAAAAAAAAAAAAAAAAAAAAAAAAAAAAAAAAAAAAAAAAAAAAAAAAAAAAAAAAAAAAAAAAAAAAAAAAAAAAAAAAAAAAAAAAAAAAAAAAAAAAAAAAAAAAAAAAAAAAAAAAAAAAAAAAAAAAAAAAAAAAAAAAAAAAAAAAAAAAAAAAAAAAAAAAAAAAAAAAAAAAAAAAAAAAAAAAAAAAAAAAAAAAAAAAAAAAAAAAAAAAAAAAAAAAAAAAAAAAAAAAAAAAAAAAAAAAAAAAAAAAAAAAAAAAAAAAAAAAAAAAAAAAAAAAAAAAAAAAAAAAAAAAAAAAAAAAAAAAAAAAAAAAAAAAAAAAAAAAAAAAAAAAAAAAAAAAAAAAAAAAAAAAAAAAAAAAAAAAAAAAAAAAAAAAAAAAAAAAAAAAAAAAAAAAAAAAAAAAAAAAAAAAAAAAAAAAAAAAAAAAAAAAAAAAAAAAAAAAAAAAAAAAAAAAAAAAAAAAAAAAAAAAAAAAAAAAAAAAAAAAAAAAAAAAAAAAAAAAAAAAAAAAAAAAAAAAAAAAAAAAAAAAAAAAAAAAAAAAAAAAAAAAAAAAAAAAAAAAAAAAAAAAAAAAAAAAAAAAAAAAAAAAAAAAAAAAAAAAAAAAAAAAAAAAAAAAAAAAAAAAAAAAAAAAAAAAAAAAAAAAAAAAAAAAAAAAAAAAAAAAAAAAAAAAAAAAAAAAAAAAAAAAAAAAAAAAAAAAAAAAAAAAAAAAAAAAAAAAAAAAAAAAAAAAAAAAAAAAAAAAAAAAAAAAAAAAAAAAAAAAAAAAAAAAAAAAAAAAAAAAAAAAAAAAAAAAAAAAAAAAAAAAAAAAAAAAAAAAAAAAAAAAAAAAAAAAAAAAAAAAAAAAAAAAAAAAAAAAAAAAAAAAAAAAAAAAAAAAAAAAAAAAAAAAAAAAAAAAAAAAAAAAAAAAAAAAAAAAAAAAAAAAAAAAAAAAAAAAAAAAAAAAAAAAAAAAAAAAAAAAAAAAAAAAAAAAAAAAAAAAAAAAAAAAAAAAAAAAAAAAAAAAAAAAAAAAAAAAAAAAAAAAAAAAAAAAAAAAAAAAAAAAAAAAAAAAAAAAAAAAAAAAAAAAAAAAAAAAAAAAAAAAAAAAAAAAAAAAAAAAAAAAAAAAAAAAAAAAAAAAAAAAAAAAAAAAAAAAAAAAAAAAAAAAAAAAAAAAAAAAAAAAAAAAAAAAAAAAAAAAAAAAAAAAAAAAAAAAAAAAAAAAAAAAAAAAAAAAAAAAAAAAAAAAAAAAAAAAAAAAAAAAAAAAAAAAAAAAAAAAAAAAAAAAAAAAAAAAAAAAAAAAAAAAAAAAAAAAAAAAAAAAAAAAAAAAAAAAAAAAAAAAAAAAAAAAAAAAAAAAAAAAAAAAAAAAAAAAAAAAAAAAAAAAAAAAAAAAAAAAAAAAAAAAAAAAAAAAAAAAAAAAAAAAAAAAAAAAAAAAAAAAAAAAAAAAAAAAAAAAAAAAAAAAAAAAAAAAAAAAAAAAAAAAAAAAAAAAAAAAAAAAAAAAAAAAAAAAAAAAAAAAAAAAAAAAAAAAAAAAAAAAAAAAAAAAAAAAAAAAAAAAAAAAAAAAAAAAAAAAAAAAAAAAAAAAAAAAAAAAAAAAAAAAAAAAAAAAAAAAAAAAAAAAAAAAAAAAAAAAAAAAAAAAAAAAAAAAAAAAAAAAAAAAAAAAAAAAAAAAAAAAAAAAAAAAAAAAAAAAAAAAAAAAAAAAAAAAAAAAAAAAAAAAAAAAAAAAAAAAAAAAAAAAAAAAAAAAAAAAAAAAAAAAAAAAAAAAAAAAAAAAAAAAAAAAAAAAAAAAAAAAAAAAAAAAAAAAAAAAAAAAAAAAAAAAAAAAAAAAAAAAAAAAAAAAAAAAAAAAAAAAAAAAAAAAAAAAAAAAAAAAAAAAAAAAAAAAAAAAAAAAAAAAAQAAAAAAAAAAAAAAAAAAAAAAAAAAAAAAAAAAAAAAAAAAAAAAAAAAAAAAAAAAAAAAAAAAAAAAAAAAAAAAAAAAAAAAAAAAAAAAAAAAAAAAAAAAAAAAAAAAAAAAAAAAAAAAAAAAAAAAAAAAAAAAAAAAAAAAAAAAAAAAAAAAAAAAAAAAAAAAAAAAAAAAAAAAAAAAAAAAAAAAAAAAAAAAAAAAAAAAAAAAAAAAAAAAAAAAAAAAAAAAAAAAAAAAAAAAAAAAAAAAAAAAAAAAAAAAAAAAAAAAAAAAAAAAAAAAAAAAAAAAAAAAAAAAAAAAAAAAAAAAAAAAAAAAAAAAAAAAAAAAAAAAAAAAAAAAAAAAAAAAAAAAAAAAAAAAAAAAAAAAAAAAAAAAAAAAAAAAAAAAAAAAAAAAAAAAAAAAAAAAAAAAAAAAAAAAAAAAAAAAAAAAAAAAAAAAAAAAAAAAAAAAAAAAAAAAAAAAAAAAAAAAAAAAAAAAAAAAAAAAAAAAAAAAAAAAAAAAAAAAAAAAAAAAAAAAAAAAAAAAAAAAAAAAAAAAAAAAAAAAAAAAAAAAAAAAAAAAAAAAAAAAAAAAAAAAAAAAAAAA+f/v/+X/2f/M/8L/uv+3/7b/uP+3/8H/0f/d/+//+/8FAA4AGQAiAC0AMgAyAC8ALAArACMAGgAXABoAFQAUABcAFwAYABgAGgAZABMABQD///T/6v/f/9H/zf/E/73/v//B/8b/y//Q/9f/2//k/+//9f///wEACwAdAPX/rwAyAIT/GgDA/9L/nv/V/5//DwAiAB8AhACJALIAZgGMAHIASADe/7z/Hf8Z/7kASP9W/7X/zP88AKz/6v/V/8oA2f/n//r//P+R/4r/JP9x/xYAZv97/8v/CABEAOf/JgAAAEYAMgAlAEUATwBHAEYAPgBeAFUAoABcAGMAYgBLAPr/sv+p/2X/sv+w/+v/rP/W/8z/5/8EAK3/7v++/8X/mf/O/xMAsP+///f/EAAAALz/+P+9/xcA1/8kACUAFgAVAB4ANgAiAEEAOQB8AIUAPgA+APn/AADk/+3/ov/B/8z/nf+M/4b/mv+X/4f/h/+n/6v/sP/o/9v/GQBMAEAAVgBwAH4AagB0AFoAmAB4AGgAjQBbAFEAYgBoAFcAUgBKAEYANQDq/97/5f+5/5v/gP9n/1T/IP8k/zb/QP8p/2X/dP+f/9b/yv///zAAJABaAFgAXQB2AHQAaACOAHgAfwCLAIYAgABeAHYAJAAfAAwA2v+1/23/eP89/0L/L/8M/x7/Lf8n/2L/pv+4/wAAHAB5AJ0AzgAdAUIBRgFnAUAB7ADTAG4AEADw/3v/Iv8X/7z+sP65/pP+q/6y/mv+T/4d/q392f0g/gf+If8TAPwA6ALyA+kEKgacBk0G8wUVBY4DCwItAKf+TP3z+0f75vr/+jz7z/sU/N77aPtq+6L8yvob/Cr+Pf6SAYID7QSQB7kIYQhSCKoH0ASXA7wAVv5B/Z77kfpH+wb8Hv2+/w0B1QLKBJgEzASrA2MB//4q+0n27/Wy89bvkfQN9Sv4Xf94AlEHJw1PD4cPoxHMDk0LiAkAA13/m/wF+Ab3lvaH9nv53vvn/RgCKQTSBe0H8wZfBUoD0P7H+Xv05vP77rTt8PEY8kT4Xv9qA0sKHBCaErkTPxUjEbQN9wmkAtL+U/o49Z70tvPk86z3mvqF/ZQCPAVlB00J4gc/BmADDv6F+CDyXfFN7dzpAvBR8cT27/8JBcMLzRKCFdYVUhcCE/8NlAqgAtf9Dfpa9EzzQ/NM8z333fqo/TYDZwZRCEgK5wiQBjAD6/0k923w0u8O7GfobO9H8Qb3fAH3BsgNkBWIGK0YxBllFUAPbwumAn38u/i98kDxTPL78jn3+vv3/isEfwemB9QIAgdLAj//Qvqv8s7sie05633nffAV8874mARUCQsQaheXGUEZqRlwFQUMQAvGAqP8l/oA9DzzBfWw9An5Q/0K/4QDYQb+BbUGFQXIABv9gPgu8hvrVOoW7I3l/+1q9Mf3lgQLDCARVBnQHG0bDxsdGAMPgAuSA3X7UPnN8xvxOfOI83j2X/tj/iIBagU4BsAEDQUWAgL9s/nM89LsSelM7e3m9Olv9ET2IQEwDNIQRhnXHgMfgB2CHH0TJQ0UBxT96fgL9CfvePCf8VPzDPlO/GP//gT0BTgGEQa4A7r/6/p09t/tZ+kX7q/md+nQ86v1UgCUC5cQSBhVH+weGR0DHeQTGA5oCAT+U/oi9sDwyfHy8qHzCfrt/NL+agW7BTMG1ga6A20A2/zq9j3wjel56Vbp5uRa7KfzxPhEBKINIhPlGpcgph12HecaWhF/DMgEUPyh+GbzMPAp8eTxQvUj+jr8BQK4BaQGVAhqB/wEdAH6/Hf2ofAQ6O/ocucV4jLsrPF59zgFmg2gFOAdbyNcILEhxR2UE4AOAAUg/Gv29e/064/rr+yo7w/1n/jW/8UE1gbMCqMK1AhvBn0A6fnF8aHp1enI4nXgiOnE7Cn03wJAC+UTfyCNJLUjSCjjIRUZmxN7CN795PZS7qvozefu537qJ/B39vf8sQPJCdYMLQ5vDY8IqQKL+eztK+v44yTcm+FX5V3q5/dSA6gMHRqxJBwmzSp+KlMiehyuEtkGyPwg897q/uU75GHmyOlO75P4lP5EBiMNTA5GECoOFAhSALb14Os06PvdJdsX4X7jgOyu++gFHhI9IZ0o7ytFMUUsTCX4HbYQhwQe+ljul+Ux4i/hT+OP6GLwO/lxAVgKBg+wEasRvg0vBmn8p/AM5zrh0dbd1lDc7N807ff7lgj2F0Qn5S6PM9g3MTI4KswgPBK1BG34LOvF4dHe+NzO3t/lVO1898gBZgmSDnkS5xHCDBgGafvd7RHmSt1V00jVedgM3sPsoPozCTAagylsMSY4BTxHNksuGCTTFIYGUfhH6qfgMdxj2SLbW+ID6tnz4P9TCE4PghTfExYQKArh/rHxtek/36bVedaf19ncROod+MkG/xbIJ7sw+DdVPRw4TDGWJ8wYvgjU+QfsxN++2YTW89Z63e/k8e+W/O4Fag4EFiQXLBUUEScHA/wW8O3lfdxu1RTV/dh84JvsrfuCCzgbRCn5MkU5pDrFNSkuaCK6EpQDcPQm5/Lcvdb71QXYlt1S6Xr0jf4rC/ITLBihG3YZQxOYC4sAUvTP6X3hPtqh19/Zn99C6nD3vwSQE0whXSslMXkzRDElKYkeMRGUAjP12ed63h/ZXNZz2VXgLugT8+r+agmUERMY2hvdGvoXTRHNCDAALvZq7QTnFOMC4sPkE+pr8VL7dQUbDlgW2BwpH9Meihu7FEMN0wNi+cXxkOoG5dbk+OU16W3wRPgmABwItw6lE1MWJRZwE/YPFgphA6f9Evis80Txb/El83X1+frl/xAECwmHC0wMpQwhCk4GUAJF/e33qvSl8L/u2++L8Njy3fdl/BMBnQWzCfoMFQ4EDmsN3wrrB4cE3ACF/hP8o/pS+6L7wf26ACID4wWICLAJbgmJCFMGogI8/9n6BPet86LwzO+f71vwWfJH9eT4X/wOANYDGAaPB38JIQl3CPcHZgW5A4kCJQCP/5b/Nf+FAKEB9QLNBBQGBAc/ByYHTgavBHkCrQBI/pL7rPkW+CH2XvUh9Q31cfZA94P4Cvs3/LP95v+WAMcBzQLWAnEDSgNYA4sDSgOOA5ADZwMrBGUExQQ9BSwFRgVlBe8E4QRSBFcDBwIsAdX/+f2z/Nr6x/lP+dv32vdS+ET4wfm++0T8Zv4qALQBAAMXBNQELQXpBDcEpwMEA9wBNwGsAGUAAwANAAsBYwHiARIDaAORA1oEygOyAtYBTQDe/pX9IfwA+5z6Efpy+l77BvyU/Vv/oQBhAkkDNgTPBEsE7QPxAjQB+/+M/sX8Cvx++/P6ifv1+yL9pP6u/+8AIgLxAkIDYgPDAuQBQQHZ/wj/Jv4Z/UT9sv0p/jX/bAB/AbkC0wOFBGAEfQSyA+ABCgFO/xH90vt2+vf4z/ht+JH45Pmr+t772v1x/6gA1AHEAu0CeQNOA+gCFwMgAt0BBgLiAfIBWQIJA74DMATQBNEE1QSZBIEDnQI7AXj/Af5G/KH6oPnk+Mj3AvhH+Ej4rvnl+oD7Y/2k/jf/cQCRAS4CIgPXAxUE6QRbBU0F3AUkBiEGUwbTBaYFGQVYBFoDVgI/AZD/gP6O/Sz8R/vb+t/5Rfmg+c75APrr+kf7H/z+/Ir9SP5E/woADgF1AqQDnAQNBukGswcoCEsIaQiZB18GJAXiAwgCnQAs/yz9Mvxw+3P6/fkP+gb6yPky+pf64vqT+xj8kfz+/Hn9lP0L/uj+aP8fAGABjgLmA2UFaAZjB8cIGAnJCG0I8QaOBX4DagF3/x/9afvi+eT4H/gz+B346Pio+e/6W/yg/UP+k//vAIEAxAAYAagA0QAnAUMBvgGnAtID0ATDBdcGTQe9B/gHugZQBpAEKQKMAK7+A/wp+lz4rPbQ9UP10/bw9lr4X/qI/cICJQTEBMkGOgdbBIMC7gAn/tv96Pzh+63+TgGiAHsCkQZ+BvkGlgdvBvMFYATpAd7+K/2g+hf4gfaP9Rf2jvZO+KL5uPor/aX+OAE3AywEoAXjBnUFxQb+Be0DHQTtAlQBMQFaAeX/+P/qAMT/rwBiAZD/sgDRAG4Ajv5E/tH9nvzs+0D6pflD+eT4pPlf+pj7NP03/qUAJQTVBDkF9Qb2ByAJLgfbB30FnQLHA8kAzf93/NL9zfxa+mz++Pz8/E/+2/55/1L9Gf4q/FT7Avw2+l35vPja+mT7Nfv9/Jn/zQD+AsYFcAaBBkQIMQj/B0IIRgbVBOgDFwO5AeIADv+M/Vr/8P0l/M/95f2S/YL/Y//X/Kv+I/99/H/8L/3Y+6H8X/7S/Sr+VgC0AbkAigMpBUoFRgcVBqkI/wbcBsYGPAPHBCUAzwFP/0z8PQHb+6b8Z/1v/ff7Pfyo/eH51/zI/Pf5QfqO+nb8jvlC/Y/87v3r/msA4wESAdUFzAMDBfYJ3QWVBswGmQY5BmwBBwM1AJX/5P9F+6X/ofpL/jb99PmcAJv77f+C/Zj7oAGD+cj//v3s+Uf+dvq4/yX67/xwAYr8ogL8BHkEIAePBmkJCwQ+BzEF7v4fBJn/4P2c/u38Wv2o+4j+kfvq/M//rvsXAUL/Zv2f/+r9Jv+l+9397v1h+i3/kPxH/oQAFP7NAvcBiQPNA24EpgeoAuoFzgTIAbIDLQCr/3/++v4g/3L64fxl/a36RPtv/ND8Nf2J/TMBiQArAT4D2QHyApoB9AEyAkj+swBn/3b/6gDZ/9ECugK2BZIFfwTRB+8DdwN4Aj7/6P3a+vL7p/hb+D37jfhQ/I39sv2q/gsBGAS6AdgDcQayA9wDTgU4BDsC5QGmAYQA2ACbAOv+tf8NAXT/TAAGAcb/mf+8/3r/g/wl+8H8+frU+V/78PzI/An+UAEEAc8B7gNbA1cDGwTUBL8DGQN1BRADVgI3BTgC6f+RACH/Gfyu+tj6yPis+CH50fc1+dX38/Yd+Xz5jvoK/j4D5gYZC5AQ7BOZFXMWuxWoEkQP6gsKBjYCFAAI/ur7kfuL/Pf6T/t4+pj1MvF/6uniDdqi2BnZgdiH4zHxBv9/EO4e2SpiMD8zly8fJYobbQ1w/wD0/utM6I/mWOwK8p36twf3DyQXxxy8HS4bLBN+Csr8Ou1Q3+vQEcL8uZK9DL0KyDXfL/O3Cz8moTlLRCZKDUkGO0sssBtTBc/zB+gq4FXbs94f5wLwf/3+C6YX0CCVJqsoEyQXHi8TTgO+9VDmKNauyKu7J7FEs0+2T75g1dHtngXnI4w780oVVYBV6UouO4UpiBF8+urpPdwO1cbUm9lC4onwtwGJD7Ad1SiFLFEt1ikwH7MQQADa7G/ajsmFtTunuajXqAex8Mv94/j+6CEXPeFOVlq0XnRUQUUWNDEZ8P9M7Ebb/tCLzMDPwNck5I323gUEFJQkYir8Lmsx5icMHZAOLvs76LLTrb8bqzqkr6N4pAK7o9a98jEZRDu7VGJlk2wgZ6ZW4EPVJiUHg+7z1iDHmL8VvjnFj9N/5y784g+SIsgt1TVOOIIxoyaTFnoC4/BS3l7JHbmZq1yj2KZKrPHAMuDi/OAh7kVPXjlvi3ORavFXVT/LH0j+YOLLyrG79rWWtujAaNAt5x4AFRb4KnQ5n0B9Qr07EisjF1kC3+mh1ITC4rCIoz2gLKXlrg3IwujSBwcubVHWZsJyGHOmYzdLji5hDCTr7c8dvQ2ytLBXuVzHI9zc9ZAOgyWTONhDvEfDRF84JSTODcj1ed0GyB+1bacWnp+dD6cNtsDQUvIUE+U25VaPadFxaG8gYJZI0SxRDfzuZNcTxle92bvywYTQpOIh+V0RSiVYNAU/X0HROREuRBrxAp7uB9qjxu+2gqyEpKKiSqwNvKjUOvMqFI01o1IUZhZtsmmSXaBH5S2cEZ709NzLy3TBV739xObUb9v28vUGKhnIJ0oyiDYrM4YpwRnsB1z2ROOo0dTD57cArq2ovqzNuRXOYuldCdgqU0oqYGNqRWqrYXJO4jVHGsv8W+L+zaLAO7pmvHzFMdUP6XX/nxM2JKwwDTdRNlMvXCGjD8P+Xu1g243MJME4twuwG7EyvDHPKOehBYgmnkWEXMtolGkBYZZOODbEGXb7CeDxygi9F7ZUuInBLNH65en8oRLYJA4zEDq6Omw0PibzFFsDa/GX4LDRucS+uvK097Sxvs7RMej9BJsliUHuVVBhHGFNV5NEjyyzEMzzoNq/xqG6X7apuGDCwNN56VIAbhYFKTc2RT7qPj44LCs4GskHpfXD5ALU6sXXvEm1mbIkutLJGN6A+LgW3jF2SJ5WYliKUZ1CiyxKE7D5XOF5zcnBOL30vlfHV9ax6fj+DhVVJw00fTzbPUg4oi2lHVQL0fpU6xTccs8Ix0DAk7v7uzjD4tCW5OT7xBO9Ktw9A0eLR65A7DPkIR8O6Pm155jaBdMf0UnUcNw56eX3vgiTGZMmQTA/NfI0Li84I9wS2gGB87flE9lcz9DHgcLLv0jAd8gR13jq1gFPGoovMT9HRx9HRj9xMYUfLQzl+ZTqpN9k2l/Zj93h5TPxl/7LDM0ZMSVRK0MthirUIhkWpQY2923pDN5Z1SLP9soMyM/Gg8nH0SDfdvCiBAkZ4CobODg+HT1CNoEq5huCDMP9z/CS55Di2uEs5R7rqvNm/qcJ6hQnHlEjFiSNITcbrhCEAyb3f+wt5Cze7tn+1t7UB9NW0vLWteBU7ZT8Qg3hHGkpGzGQMX8sWyQpGgUO8AGW91rvHeqo6Knp8ezU8qz6CAQQD7cXFBzxHvIdVxiFEEYGEPtL8lDre+VJ4H7catkD1sDUBtmN4YDtY/0NC7obKyhILhQugCkEIpwX3wv//zb14+w66KPmBehZ7BHzQ/tKBZkQ0xidHR0glR9OGyoU/woWAYf5xvJN7JfnwOMT4JDcANr8243iQeun92IFEhN9HhclPidRJdwf9RfnDRIDSPlq8fvr9+k365Pu9/OR+90D4wwIFOQYPBzEHJcZOBQADXwE0vwe9kfwuOuR54XklOES3iDdouC25j7u9vgjBK8OWBYyGowbQRrBFukQMArgAlT8bfdE9NLyMfOa9Yr54/4oBacLuRDLFOUXqxebFRoRaArkBFn/uvnW9APxEe196dvkReAS4Gfi+uW47JL2/wD/CosS4RYrGW0ZEBfSESUM+gVAANP7G/kr9yX3Xfh6+mH+LgTuCRsPyhNCF0sYzBbMEvUN7QhTA0/+K/q99WvxIezq5OPeM9wl24PcDuLm6lj25QH+C4kUvRp1HfQcZBmdE4MMQgWQ/lD5hfUK8xvzY/Ux+qwAtwfHDosUhBiSGvkZ6BY0EuwM5QcKA/L9vfgE86TsSeWU3SDYCNaT1pbaduJj7X76jQfyEsQbWyE5I3wh2hwnFWQLowKm+lH0be9w7fzu1fO9+rsCCQu1EhkYpxoxGmEX3xIODSwHrAFc/JT2OPB56vHkad7W1yHVqtV/2Cjf2ugz9HoBrA4eGe0fWSP5IlseuxfdDv8D7/ph9BHvTOw07uLyM/kVArwL/hMJG7IfOSDMHVIa0xXUDu8HIwG5+nP2XPER61vm9uO34SfgaeFC5O/oVvCC+BcA5QaVDAUQeBHpENUNowr5Be8AR/2N+sz41PiS+mL+9wNwCowPmhO8FwMZJxh2FjoTUA4GCRoEOf5k+aT17fGU7mTtF+0Q7hrvhPAP8hT0Efaf9xX4i/h5+KX4aPhH+bv5yvo7/GT+JgDMAWsENQf+CGQL8w0MEHwRkBI5E0UT4xJCEaQOtgtSCHUEpwA4/Wj6hffx9bn0JPS589rzdPSn9Dz1x/WB9cj0KfTk82bzO/SH9Sn2bfd6+Zj84v71AL4CSAXYCIQLeQ2RD6kRvxIrE4sS5BASDpEKDAdJA8T/BP0T+yP55/eV95b3ZPd69k/1TPV69d/1B/Ym9vL1g/b79ir37vff+Cr6kPsX/Sb+v//IAZAEvQaHCUkMHg8AEsgT1hQPFdoTABFbDYcJ0QVNAsf///2p/Jn7f/rG+cH5nvn++MD4PPkc+V/4pvdl9t/1t/XX9UL1ZfVw9sD3GfmL+hr8oP7fAZYEkgdjC0QOPxB/EegRZhA3DpQLbAivBTUCCAAO/gT96/zv/LT9/f4SABkBdAHhAPf/lv6i/Er6Hvi49nv1ZPSU9Br1YvUq9uD3/vlz/L3++wCJA5cGsgjzCRoLfQsZC2EKgwifBhQF1gNPAp4AAQDp////bwAIAQEC9ALvAkgC1gHFAP/+Qv3M+qr48vYJ9ob1TfXP9ZX2kPfl+IL6nfwq/74BAQSbBZkGeQaEBjAGVwW1BJED1gFsAdsAhQDAADwB4QEWA+UD3gpdFJ0Vpg2aADP2T+8W7PDs8+9X9EX4wfrA+4X7Kvsq/I7+uQGhA0MCNACS/vr9R/69/hn+sP0N/6kAVQLaA0EFVwZTBnoFWATzA84DIAQfBGwDlgK7AS0BIQCe/jL9zvzY/O/89/tT+pL5pflu+vf7Vf04/vX/5wHaBpsNqQ7TCbIA9fen8mHwMPEY9FP44v0yAs0FigrkDoYQrg7HCtQG1wJf/7T84/rf+B73lvaA+Pz78v6DAWkDqwP8AioBjf7h/J38n/ym/Lb7J/vC+4H9qQFYBvgIPgk3BowDcgH+/43/2f8sAXUCBgPoA1gFiAadB2kIGwmmCBEHKgQYAeL+l/1P/a79Df7R/v/+s/5z/m/+N/78/X38Kvqb96z2sPfd+Cb63PqN+yr8Jf2//uz/ZgAaAdsB2gJxAz4D0gIjAlsCdQQ3BzoJjgoGC8YJKgjhBasDuQKYAa0AQAD1/kD9q/u4+RX4K/cO9pH1UfVa9Rb2kPeC+If4vvcs98j3EvnH+mH9oP+uAVcEawdbC4EPMRPRFWEWfRWkE3UR5g46CwAHowJL/o/6h/dK9anz1fFI8Hrv3O4H7WXqyOY64oXeYdz62jjc6+GM7bMAlBb3KZ043T/NP4Q6si+UIccRQgGi8rjn5uFp4nHplfXMBL0TOR+pJoUpVSetIBUVbQb69SvlDNcJzJPD0b1NuFmyiKw4rqi/YN48BQIsSUmoWgdh4lvlTiY8uCToCqfxx9qayk3E08ge2JHt4wMqGLIoOTRbOz491DjLLeUcRQiM9Hjkodo21jPUn9IW0ArLx8Ouu2a0Dbq/0HPwexTiNMdKtVnRXmNZwE1FO2IgDAK34mPHk7fUtFu/wdWf8EEMHyUOOcZIRlJRUX9GmTHCFRj5M99fzY3Ef8DWvMG2vK1wpAqf1Kvrzoj8HSuSUZBnknDzbR1fS0k4Lm8Mo+kBySuwoqSxp0e4NNM+8fYNPig9PjZPCFqIWpZQUTzQIHkDJOkO1OrGOMAGu6K2nLKgrRyq3KutwMHm4xL2PJJcTmxGb9FlYFGlNmMXRPOX0M+zTqCVm2WmS74H4NADQiSNP8xRm1vYXDdUMEMdKxAOePKE2jvKvcPjw5nGfMm/yfbGn8HKvNTKVuwdFNA5CVSDXX9dXlS8QpAs9xGp8V/RUbWNo2egaaznxJ7kfwS3IT07v09rXIdfDlZeQtEntQuw7q7doMgVwjfFTst60GbTb9ISz/rJmdFF6tgL1SzkRLVPLE/NSMY7sSlXFaz7Fd5jxH6ysq0xt2PK8eTQATwbzTHnQsxNnlPmT01AyiliDmD0YOAO0pnML8+O07/XYtsK3O7ZAtRJz+HcMPgvF84zfEMaRrtDeTp8LX0fEwvz8B/XD8A/tKy2k8J112PwPAZQG9kuqD3rSGRN3kUJNlYfowNU69XZc9Cl0TTXRN1A4tzjPeIJ4LXaeNlT55P9HBR8Jtou7y+4MBEtZyX/GoIJvfHb22bKD8OVxq3Qzd+M8ukDuhXXJxM4s0XPSoREejUeHwcIdvXf5jPehdmI1tPVUdfZ2A3aCNfy0enYFOyFA3YaMyrUL9gx3C+KKfch0xYYBQXxHd3NzSfIa8u/1c3kiPTIBO8WkSfCNtFBmkNdPYMvVhzOCX75Re2n5a3gEt342+XcgN4+3v/XVNHW1njlbfrrD9ge0CfLLMAsNys5Jzwexg7a++vmhtZmzizPk9h/5WzyYgAXD+0e7DAZP+1Dvj+0MT8fNwyh+lbtjOS93s7bZNue213cntu11nPS5dbe4tTzuQW0E58dpSWGKkUtjixbJtQYdwW68B7g6NdQ15XbWOJe6i/0ngHJErMlZTVkPR48FzEYIPAO9ADN96zwGenj4fzcq9lr2E7ZDtgP1EHTOtru5dn0kwN9EKYcJiZiKiErCycaHqUQowBf8OXkF98k3sThKObN7N34TwoUHWQt7jZ6OFky0CcGHPsQFAlQAQL5cPC36Ajkb+Er4Drf8N4J3Z7aI9sd4DXq7fe7BVERxBnjH6wiuSENHAYR+gO0+Czvi+hS5sDn3utW85D/4g1pHLcnZS56L3gtTyjKHsMUqQv2AS/5FPF+61zn1eQo5fLjVuI7433lEOTH6DzsXPEm+xIBBQV8B6IJXQy6C+cIGgZ8Ar7+nfuz+Wz4vPppAGoHTg/tFeMbiCDAIhYjuyBTHAYVhgveAev5GvSK8GDtEemT5UvkNOX35drno+of7BLth+7378Dw2fBu8Qb0n/fJ+Vn9OQJyBg4JwApfDKsNeg+XEJ0S9hUFGMkYRxhSGewaABrYFLQNAAVY/4P7BffG9Gj07PLV8KTv9+7u7xLyQfIK8Tzur+cz4crd095q4xnoo+w/85P6RwLkCBQO4xH3FJ0XbxnMGREZPRgUGMoXGBbpFYgUZg+UC74HmgLx/jf9qf/fASEDGgPJAD/9MPvC+6f5fPR1763p7OTk3//dRN+v4sboV+258hD4A/19AuYGfAp3DhYPrxB/E44XxRf2Ej8UABgfFa0RnAqABiQGhQSiAYEAzARPCr4MFAr6B6YH6wRX/8H5Y/Jr6GHjpOJA37XcsOLI6yLviPDW8zj5gvzm/qYBCwTXBc0GnQkbDhURLA8yDmYR5hEJD3gLBgioBiEHOQfvBeYFbwd+ChUMKwlQAiMCbgAO+nX1BfIz7EDo/ee56VjtGfEj8GLyBvTK9f34nfl6/Zj+o/41/xMDXQVKAjsEVgZ/BgEHVgYNBYgJQA34B7kIAAxFDNMMdgyODPkIoQguCFgAt/4p/r34l/Tp9CL24fTX8+PzjfKJ9Rj2IvK+8T70Mvk1+CP4JPur/pwBsgOUABECkAQdBfIFZwNVBg0LuAyzCrcLbQwXDtoO/Qx/CQYJSARKA7kDQ/71+fj6KfzG96n48ve59UD5y/Zh8mn0i/dt+vD75vg3+sP/jf+b/nL/PgKWA0D/9fyNAbgBygERBM0HpAnQCyoK8QoUDisN9gkpBcYCBQVYAmX9J/sH/W/+Nf7s/KP5fPYr+sT4g/aO+Ev3KPcz+Xz/of3G/Pv/MAD+/gz/f/9A/xT9PP78+1D64wJuCHQEIwJGCBIL0QkrChgIcQINAsoDjANVBUQAyfnO+3wBZP8C/Cn68fmp+7v+tP+A/uf9Ov+RA50EdwFm/or/uAGm/Zb4qPzp/qL8a/ub/O8AlwQLAuwC6QSFBtIGlQQdARsAUwBDAYP/Cftx+4UAegSb/ub7nQCLALT9yPpS/noBWvtz+jsBjwTdAqX+0/3W/QD/hf46+sz6yf9EAWUARf+xAt4EMgMoAfIB0QGSAmQBxv8e/3cALQBc/s792/0GA2UEwP/HAPEBnvtj+8L+If3x/eD+6vkd+6j9hAEYA5z/IvzO/XT+rP0X/778n/wPAvcCGgMFB/sFUQU6CeIH4ASDBAYC6QEl/p7+Jv0d/YYA/v64/87+IP9B/U78Cf1u+vT60f0//A/8MPsh/vMBn/v2+fcBXQNq/Or8wv6G/WH/BgX4A60CTAVzBvIHRAp0CHYD/QGtBO8DMADOAKb/Iv95/9P+N/09/Hv5+/nF+uf6I/yl+2j9/v0l+079GABKAx7/Ov1LAVcFfwRY/h8ADAEjAQEEFQUjB78FmQNQBDwIygdgBGoBugTNBk4BXQDs/ur9uv3E/Fj6jvcX+UH6cvoc9633S/0p/QX8vPsV/dz97QCyAer/wACaAvIBL/4j/6UBEwLSAbUDzQTvA3YDogUaBr0FGAa3BSsEewQZBA8CMP/1/mP/F/0t/JX6qPll+7n7K/uD+xD9jv1s/ET8fPve+0n9Zv3f/KD9AgH2ASYB6wHuAwUEigQPBlgDywDYATYD9wMCBIYDwgPoBJgFbQXjA2kCdAGiAKn/Vv5H/GH73/s++yn6r/o++4L7mfoy+Tz5aPqG+av5fPt1/CT9Rv7k/pf/vQDNAQQCtQJ1AywDbQL/AdgCMgMQBD0EowO1AzwEmwNjAtoCGQMqAjYB0v+N/yUAXf+4/VD8ivsG+xD6Mvm4+Jj4sPl8+tz6wfuc/MT95f4h/yQACgG8AYYBLAK8AXAAogDAAa0BvAG2AgMD1gJOA98CWwIXA9sCZQLQAdsAfQCSAPL/Of6W/Lb7cvux+vb5kfnZ+VP6Y/tf/EP94v7Z/xgA2ADsAZ0CzwKOAoYCtgKIAm4C8wLZA8wD3QNRBSEGgQbCBjUGWgVkBUgFmwTiAysDEQKvAdkA9P6s/az8EPz2+uD59fls+kX77/t8/AD+8P7d/5EACwFRAVgBEQLIAeoAxAAOAS8BeQGsAe4CAQSqBDIFzQUXBoAF/QQXBQsE1QKyAlwC8QBs/yL+Qvw2+yH7+PlY+WD5pvk8+sH7zfyo/Jj8VP1N/jn+wv3K/en9FP7R/Rr+T/6x/hUARwHKAcoBNAM9BPYDRgOuA+wDyQMJA0wC6wEPAjcB3/9r/v79g/2x/L/7zfsy/N/7pvtG/Jr8xPxX/dT9uf2T/dP96f26/ez9BP5J/ov+wv6q/+cAqwEMAiACiwLBAr8COgLwAWwCqgKLAggCFQI9Ag0BSgAgAEr/Z/56/mn+q/18/d79If74/fz9cf4J/2P/3/7c/Sb+D/8d/0D/T/+Y/4QAKgE/Af8BmgJ8AqACuALDAoACRALhAooDuwP5Aw4EOATlA1IDtQJdAhECNwENALf/xv/a/2D/vP88AEP/w/4//+L+OP6s/TH+hf7U/kn/X//F/zUAmwCdAJUAlADCAAMBGwEmASgB1QFhAq8ClwJ0AlECyQFQAX4ACAAxAHD/n/6i/sD+Kv7n/Rb+7v3J/aX99v15/tj9hP24/nj/fP/B//j/EQBSAIAAuwDIAHMAJwGxAdQB4AGbARcCuALgAqsCPQK7AUMBigDA/1z/Kv/r/hL/9P4G/+v+wP5h/kX+Vv7u/fL99f2t/dj9BP5w/nr+WP6K/iT+Kv5S/pL+n/5H/pL+Bf9L/1P/0v/6/40AtgBAADMAEgC8/zj/O//n/p/+/P4U/5P/d/+6/w8AMgBzAJwAMgDY/5z/8f+7/1j/uf8JAKL/DP/k/gj/Rv9l/0T/j//g/3YA1gBEAbUB3AGvAc8BfwFSAc4AzwAlAIn/e/+z//n/QABiAJ4ADQFLAcUBhwFwAWgB9wCKAHwAUQApAOb/pf/B/8P/gv9x/2T/i//B/yYAawDDADkBRgEIAd0AUAFQAawASgAUADsAIACO/3j/rv/Y/y0AJQBkAJ0AvADuANgA/gBnAS4BpAC2ALEArwCqAJwAhAAEAMj/4v/d/5f/rf8WABsAEwBzAHUA0gB2AUMBJAHpAMwAegBtALAAewBHAEAAqgB8AD4AVgBlANEA4wCSAJwAWQAvAEEAIgAWAPb/jP8z/xn/av4d/vL94v2//db9vv33/XT+u/73/hf/T/+a/6v/n/+Z/7L/i/9Z/2T/Xv9h/zb/4v72/u/+rv6k/gX/5v7s/vD+Q/8p/9T+Lv+a/6L/sv/T/+7/PAAmABAAJwD7/4AAkgBGAMAAUwGcAZMBBgIvAmACWgL/ASkChAJfAhgCYgHgANgAfAAJAJz/ZP+l/w4AGgDO/6b/7v/R/8j/HwCeAE4BRAJDAz0EtwqcD5gIGPr96dbkXe3E+b7/PvzR9jX3iv5LCGgMdghZAoT/gwCjAoQDnAO/AtcEsQggBPn5G/Dt78j9pxYSIp8UKPpA6VXw3gPKDx8Lxf+o+Vz8SQSyB0gC3fNr6JDqjfTr/Ff97fho+QEAIAZFBxYD+/ym+l79GgD2A00EMQJ/AAr/mAGsBekG/AeoCocMmwiI/j72x/cV/pkClwNZAiMEXQeYBxsG/gIXAAAAlP8z/n78gvv2/OQASwP/AvQD+AK/ACgAVwMrDNIO2ghU/7D6u/sb/Nn5VfbL9SD7PwJJB48GvAAP+tv52P5hAdL9PPUN7+LyNvtw/hX9fPqb+Yf85gCvAjICAAA+/0cBYwJ3AD7+t/xp/dwAXwQaBmEGUASlA6UFvgZYBYkCtv4g/6oDBQbeA4j+Ofru+0gAJgDb+1X2zfPv91L+OP+d+5z3/Pch/aEB1wHMAOABTAZYDCcPqQx5BsYC/gQdCbUKywfnARYA/QSYCfMGuv7+9r30ffdn+vT46PFo55XcJ9c82ZfandSU18nuYw1NKPU2nDgNNigxdySMEhwCe/dB9b75d/1A/6kBtAazEFQWARFoD9wTjhDhB24CegR5Cm8G6PdK7EbnTOKg2MbEtKpPlKyNXLIm86woJkJVTVJXlGGwVJsnxva14aPlk/C48+Lv9fL0AUAU+hpqDu38OvqmB2cYQR0QFO4NkRK4F5UPrvwX7AjieN5Q3WLXHMzUu9esOaTtpbnSEhr4RVhO60wlUHhZDE4rG3bmC9ki59X1nfZ+69bsYAIfFIEQlP6n8mX9QxxbM14yiCJlEqALlQgA+3flNNrT2zTeCtq9zgrC0boHtfWrjM+JICNXgFqGSiVCqkifRFoTh9hhyHjbJu6Z9UDwuPBDBfMQmAbe+QL1YAAtG+Yw7TJ0K8cidRltBwns5NXi0GXdouxd5A/QH8lgzkLREL3NrQfpnUOfaLlZjUCiNrY7GiYF6W699cMa3tXxFfr49a/7fg5QFtQM0/9C+R8FnSC1N9896C0OFB0CuPWn42/TvdKk4KXySPql7xDgc9q/2U+21KSn5EpEC2PzRkktNjEpQ4Un29bop9DBdu3gAT7+jfI9/CgVmBq4CWb3jvPUBTkmST7sP2wrwRCPAVn5N+ur3S3gz+7H/LABRPZw4nbW680xtVyYm8IfKlpba0K4Jg8ttUYuO2DvL7N2xdDzwAWR/GrxP/2xF9gbVQM97tfvXgTnIns+AkM/LqYYyQ/LBsv2P+O23Azrrfvw/S3yaODv08rJg7bBmd2v/hXiWkxKvy2rM0dJAUXeAxi9Db6p6Zb8K/RI69n2bBGVFt3+fOuL71IFCx9TNoFCLjjfHzINQgLD9SLm4N7V7HUDpApg+GHXDMNmwj+5Q5GBm0AKZF/AV7A0iTHIR6NHGwNzt6G5A+Vi9iHz1/CH/iAVTxXDAYzz4PJPBJcduTS5QyU9WCTUDrsEt/pB6dLaUuML/qQLBP7g45POl8Rmu+yeAYCNvfk23GLOQc0sn0AJWN84aOASrOHIg/OC+szwIfRoCwAe3RE9+H/tt/x5G54xmjqbP9g4EyM7D3v/Iu1l4knnRfVh/MT3X+oT1/DIv7+IrI6H250xENJdelQEO0E+CFIzSSAAX7eOu+LnXvz89n3zngNjG7EYEACo7/D3IhR1LPI5VEHtOrsosBQDAxDyoOG1237sjwD7/fPqj9d20S/Q2bVRiFmEf+kvVmxdRzPbK2JLaVlkHyDG6q7w2PP7OPuC7yr3JRCzGk8K7PIg8aAI7yKHM3E+mz3sMfohsw2++DLiWNQI3fHwefVe52fXOs5Mxxmy5IhzlOEEjVs5Vqg5DTyvVLZOUQXkvcu9qeEk8MLpxOrB/3YWwBN6BYP/PP9hCzIegDA7RMxBHy2kHfcPV/4d5JHLRNbP+ncDRe4V3lbZ+dqQyUWaD4WG1Hc/rFPbNA8sAEEvUC0mPOA7vzjOROS+6j3qK/ETDBIXYw7lCM4CqAjlHe0up0GnRus0LiZvGk0C4uqh2U7XzecZ8NfrPeU53WjTasKqmyeMTdqXNvtE3jBSMtJKRFO7IN3VcMMX2DDkhOKo4670fBH3GgYSSw2uCwQNpxorMLZFfEYVLmgc/BNHB8TvDti52YruHPjt7+PfsNZO2TjS0ahwhU61pBXVPiMzYyNCN6lVkUAT987J3NAD5L7kqdmq39b99xV8F4MS+wuADmgf/C/ROWI7tS+bJjsf4g5p+/DnOt+H51nwvusN4h3drNuJ0ki3ppbloqfsySCpI+AfhTNYVvdW+SHo6G3cGuE835DWBtWR6u4GbBSLG6QcYxZ5HBEtvTpuOXwj2RWbGb0VzwCX6J/faOwg96/w3eUe4Dfi4t6qyV+r66MY0JAG3xT1Eagd2z78UtM8Ugsp7GLpGOsu43DT7NRO7W4BAQrRCuMIJhTiKW40hTO2Ki0fPB9tHEgJSPer6DHs3vyf/6v3U/l5ByQOCgUy9DnrYe/g82Xwk+lp5G3oWO056wLmWeGP5ELu8fa4+4gB8Qm4D2cTNBENCSgJ/BFBGvIamhDgCskTohmOEL0ArvfL/HAHDwaq/ngARAwfFRUMuvZn67TvjfUt8hnoMeJR6K/wX+6F5VnftOFP6q7vFvBi9Ob+QAkvEFQRNww8DaYWSBwBGUcQUQ6mFzMdyRSvCDsCNwTECKIIBgP7A8wPZhidESUAMfLL7zjx7u0q6ArlB+e37envJeoT5IjmneyJ8L3w6vK1+2MFaAsdD/QNqAy5Er0YMBY/EFQLIBvpI6oYJg0vCfoJnAX6A4f/hv6EC5wREQ1jAYz1MfRx7+jr9uWn4cXeNeIF50niMeHz373m1vKj9Xn45P2PC3wRJRt2G3oXmhm3HQMboRUYDJkOxBU/E6kOZAxiCbcMFw3QB/cBTQTfClAJWf368oHtyeqi5QHdB9Piy7zGTcI6xwbZS+mW+hUQoSL4MdE2uCzMIZkdVBNYAvTyR+8/+ff+2vtmAUsTWCITIqEcBB5+IbEXlQtjBiMDhAK6/kH00+yM6HThhdflyh+++LGQpMGtUNau7y//TBzlQFFZ71MOOOglFx5FCW3po9L00Rff3+nl8E78sA8cJfos8ivkLMgtgyS+FnYNVwfjAp/9KfXf87nxSeZl20/TkctDwoeyLaKarkrdmfeNAyAejkE6XzJe0Dy+JBYdcQrW6gvOXcZ71LLizOk291cNYCTXMws5oDbZNREwriAAEGwDsvwy9WfrZOq56RLjCduY0rnObckYuKCqpMNM8VABcgS3G4BCkFoMSjom9BmrGv4ElN7dybzPXNya4ELon/8BG+8o1TBEP6VH8z2RLMQeeBNGBW7zb+iH6hTun+0P6+bnMeT63BzTFsWKs+nB+eru95T4Dgt1K/VGZj95HhATFRYaBQvlstAx0rfdV+MX6xz+nRIpIfouyj0lQgs6WC1qIeIVNASI8vHsTO+E8nDzbfG273ntjONQ0eG98bLAyr7lj+fj9coUTTWZRKEz7CLEIYsWDvqa3yXVStaU2VDdZ+q3AGASjR3dK1Y+w0bHO6QqPSAOGpcMOPck7c3x+PRH8Uznsd7v3kfaJsbOrMSxCtxz8ATxAATPKUZJ00l6M2EmUiHqC1Xob9Oc0A/S19GU2UPwqAjFE2QbRS/bRI9GtjPMIekd0hWJ/0vrtOl18S/wz+Zr4GXdH9q20OW43K6g1ITx4/OqA68jd0WPTAw26ijaJ/oTDe3G0JrNxNE0zU7NPeRLArYQVBR4IHw5tkjSPDIsYSXMH1YNMvlf75X0pfV68A/r/OLZ3EXXZ8ebtIfFAOuf9xcC7BwKPblMWkASK4Iltxle+HTVM8oXzDbMPczd2+f3/AwxFWAdUixXP/1B3jOsKWojJhccBhz32vNm9Wjzte6f55fgbtotzkm7DLgl3s/4Jft/DR0x3EyfTDEx8yJ7IAkKhuBDxovFBMrwyeXPgeX6A30X/xyqItgxzT8uOU8nwx6qGbUL4fke8tHzlPVg8z/rfeT03qjThMLTsqHLQ/Sa+c0CuCOuRcBRJT7kJ6Mi4xQe8HTMBcIHxIbDz8Xr2OL2xw2XGQQjiS+iPFQ8TCw4IQAaOw07+43rceyv8ePuKuyB6lnooOEm1IDAqL3n4qD4Y/hoCmwszEgMS0EzlievIwUMveSOy17FJMOYwFrJG+Gm+2sMyBlhKLo2QkCjPG4uFCTjG48O//oR78bwbPHp7rTuWu3N6VLj4tcvxy3JWuvH+Sv5xA7/MWdKh0VvMTkt2CU3B/7g+80JyZzBEL1nyZrhFPjBBqsWjijbN0JAXDq9LLkjWBp4Cnb3cu5F7mDtFuu96ETnLeZI3pbPrcLo10X1O/Q7+aYZtjxSSes6RzJVNEAhMvk03GfTlsjaub28e9Iy6qj4BAdAHf8y5T/sP9c2TC52JDIUygDA8nrtkup86LzoRedF5g3lMd/O0OHJ1eNm9gX0YQA+H2A7NUFTNMgyFTAsFiTzZ97L1ETGOrpbwlXWfehI9n8KRSOsNd9AdEE8OW4vSyAWD4r/vPA65dfiSONE4S/fL98/343YoMow2MTzt/Zm+PkQHjFBQZo5UjVJOd8rLQqH7QzjW9eYwm693c1E30nrFvtGE5wpAjrRQrg/Wjn7Lhwd1QuH+yzsZ+Rp4Y/dhtv93DDfEN8h1gvSYOr9+3v4OQPPFokzTj3jMTw2NDX4IWwCz+wO5f7TpsAbwWLQcN5/5QX2VxBoJis1lTgAOck4lCtRF44G5Pnk67beHdhE13DXH9Ya1nTZdNXv2xzyBvwJ/7cLPyHyNC01Gy95MastBxiq/LPuoOZb1Q7GVcY/1L/dvOK48q4LmSOWMOwzqzlLOqktcRsODXsAJvB+4WnZ1Nb41fLUjddq3Mfb5+LT9tYAMQMjDNgfojEnMRIs6y5YLLgbmANR9hPvOeDO0R7PbNix4B3k8/AwCAwhiC6TMhI7TT+6NSwmehi0ChD6teft3FTVQtBa0NnNJtNR1xjjbvQs/mAGExNlJB8vPy7LLrgucSb+E7oAxvbD7Dndy9LW0abY+97q41jxkAZYHbMqtS8KOB08MjS4J1waIgy2/CLt9uFG2tzTzdHz0zLYBtr63+Two/u0AIkJOBYVI38nUiVQJGEhkxf9CCz8OPMi6uTffdg22WreOuKt6sb7iRFbIb4nni+VN2w0VCoIHSAPogHd8YfjB9uz1VPTPNSg2T7g5OPU5zvyjP1KAvcDlQqBFjMcSReGEjoSfRDFB1H7+/M48PjqN+Zc4yTnlO/J+fkF+BLMHpoo7it1LDwrxCOOF7EKoP0n8iroR+CO3Ebdl+AU47bmveq27RP0OvjT+KT8nQFEBrYJWQslDbkOuw4dDXYHpwH9/Xj5pvPS8EvzXfo8AoEJhxKcHV0kOyf5J/skcR7GFKkKDAGv9Xbtuegz5CXjBOUg5u3lN+os7Kzpoewe8oTzEvTM93sASQkGCz4MQRGPFLoRWQsnBjcC5Pz+9134D/3lADAFjQwaFlYfLyHfH+oflxymFcQLvAE0+7b0a+536o3po+gv6JTpt+ur6x/qK+pI7GzuO+5H8bD32/5LBaAIuwttD7kRVw6FCaoHFwTMAo0BHQASA+4IJA1vETEVSRpAHDEY6hOZECULYAM8/Fn5cfYG8qTtqex5707vGOzB6zfth+x/53blEOo47CPsXO6v9Kz9awImBFYJDxCREbYPsg5IDhkN0goqCKEJCwzjDJgOqQ+BEtATphGtDSILNgsACEsDmv63+2H6E/eS8U3v0O587QvpleXM5XTmi+Nk4gDmLukb7G/wovYV/w0FYgjCDZsSEBT6EjMSrRGcD1UNowvxCiILiQvDC2sM4AyiDEsMxAzjCz4KcQcRBW8B/fy6+vn1sfDc7IrpZOiw5fLimuIt4aPiFOX+6MHtqfJy+BcA4AYQC0sO0BJ4FXYV8hMFE6cRcw5GDDALwQrECsoJMQoFDaEOpA6TD+gPlQ18Cv4GMQKN/mH5C/Uj8lHvQ+2F6kjp1OgX6LLnHuhI6x3ucfGO9q77r//yBOIJHg08D4QRGBOpEgoRFhGIEAAPfA1uDccNog3TDKcMWQwiDQQMCggPB38FaAI7/h/6g/ny+PL0PPF+7tHtO+2U6QvnDemy6wzu6+0H8eT2FPvK/dsAYgVGCcMJZQsoD7IQyw/JDlUPcA+VDdkLkQuJDBUKMwjLBpMGewRgAlgChQH+/+z+7PyP+nT3s/NS8Gzs8eqK6QzozOdi6kfrDezf7VPxLfWb9hf5Ef71AgIGIQnNDFIRTBOfE08UHROfEdAP+A2cC7wJNwhJBVIEwQNnAtUB1QFfAdUBBP83/pH73vZt9eTxZu7F63Lp0unE6LHoZ+iQ6QLszuul8MP00PZz/WUCzgefC0EPtRSWFvMVNxXnFDUTuQ6PDHkLzQi9ByEGlwVbB04ImQbPBhwIfwbHA4sAvv0Z/IL4bvTA8Pruru3o6yXp1Ohv6XPoGujz6vPuSfK09cf6UQEQCbINCRLbFjcabRo5GUQXkBThEBkMIQhiBcQEsAOvBDgGnAdKCo8KnQpRCoEI1QZWA5j9XPtN9wjyee6j7GrqZOi95OTitOON4x/jw+Sd6+TwjvWn/agGExBNFdkYHx4/ILQe1RmpFPwQ6gpIBFQA+f4DAGMAFQR6BwgLKA8dEAQPzgwBCrME3/5E+QX1se927SXr8OnC6prpHegB5qzmreTJ4r7k+unB7/j1jf7qCXkVAB2zIGIkgyYpIhgZLxEiCzQEWPsz9jb2Hfl5/IkCFwnODhgUphW0FC0RUgufA2H7J/Mu7iLqceZX5cPlG+hd6RvpB+ky6tDnyeJz4eDls+oK7rH2LAO0EOQbZSLOKIkt9ioRIz4amBAHBcz41fEq72fvdvJH+HMCHQ1SFecaVh3GHPoXORDQBqf7Z/KD6mPk0OG34fLi/eWE6G7qv+pY6IzmMOHm4PLoserp8Sn/Hw7yHd8mES9yNno2YC92JJkaMw6O/XbxPuu+6k3sbPCg/LYKlhalH7UlSiknJpAbrBD/A6H25egY3ZHXt9Vq1uvauuBZ5SzmOeaU533hhd2T5fDpLu4b+a8KQx6qJwcuJDkNPtM27iioHvYTwgE28W3pLen06VLsjvn0CTEYPSRVLGQx1S4nJZQZiAl/+GTpbNwl1ArPec4U1CTbdOIs6KrqOewA5iLfP+V452PliO2F/n4RpxwwJRA0MzvWNTkslSTNGbcGj/Vp7iXsTOms6vT2dgbCEWwdKCrnMNstLyXMHLMQ+v3h7NPhe9i+zyvMT9Fo1xPbjOCy5mfpneVt3z7ec+RG5FnkBe8c/0QNjhc1INArmTHNLm0rPicIHgcRWgV1AC/6iPQP9O/23P04BkQRDxzzIHMjfCT2HjQVLghs/D/weuMF2OvZr9go1s3c7eUM78n0kvnn/O773vnA+EX1h/Pv9H/45vwjAsAGYgyQEoAWghkUG00aOhh0FYcSgxAYDR8KEwm8CO4I0wcjBh4FEAQuAjL/yvv89+X0F/LX7sbtm+6w72Px0PGD8on0UfWN9OjzQfRA9KvySfOm9Xn3s/gN+wL/9wI4BaUHBAslDWEOKA86D3IPvQ7/DZINEwytCvsJlwhhBmAE7QIIAr3/Svzq+Sn5xvgA97n1rfYp93f2R/a/9rD2ePaN9dP1ePYJ9gD27Pbq9sL5r/5YAt0HwgraCqQNpQ8EENAR2BLxEOoOmg37DE4MGAyyDFcNkQwKC6kJ2gcwBdwBjf5K+0H49/TM8tfxaPDD73nwGPJx8zL0TfUa9zT4u/hr+ur7SPyo/Nb+NQFPAhgD8gTLBqQH9QfeCMEJmQkqCXQJWQnWCA4JJAkvCQsIWwbiBcoEVwIiALb+jv1b+6P5oPgZ+Oz2HPZC9g72jfX19K71U/ZV9mb2s/c1+Vb6Mfw5/nIAKQIvBLgFbgYYBggGXwaNBY8EBARcAy8DvgIOA/UDWQToBDUFagXSBaAFuQRIBDoDfQF6AAT/Gf0Q+zD5DPhQ9972hPaE9hD3nvYJ93P4q/mx+sz7bv1H/lD+ev+7AFgBWwHJATIDawP7AnIDDgQlBOIDZQMxBB8EOwNQA24DiAPmAqwC8gJ0AgICjwEpAbIA8f+i/sT97fzQ+/H6YvoH+qb57vhm+ej5a/qt+pr7KP0Q/nT/4gCEAYkCCwOIA88DDwO9AuECDwNjAsABbQIyAy4DPgPMA2kEmgSdBLoE5AReBMID7wI5Ak0B8P9//rf9ofyC+xD7lPoC+h76U/ou+r/67Pv4/PH9T//VAEICgwNRBNwEUQXdBY4FAQW9BDsETANCAhACkQIdAvUBugIuA14DnQMZBCkE+wNLA70CawInAfT/xP6h/Q38YPrG+Sj5XPgF+AX4Jfhu+C/5nfrk+0L9iP7o/2AB7wFzAmQDogOYAxUDbQIoAmABrgAmADwAdQBdACgBAgIjApkCtALDAlQCogDj/0//S/4K/cD7Fvs6+gj5yPjn+Bj59/jv+AH6wfop+zX8Hv1w/mz/zf+qAGMBywG7AQECvQL+AqICJwOfA5cDoQPaA/YDCgQhBEsEgwRTBAAEKwShA1gClwHTAE8AJP+U/bP86vsf++T5n/m++Tr6VPrA+pv7n/xj/fL9Df/N/zkAcgCxAPEAbgH7AVECqwIjA2kDzgP3Ax0E7AOpA44DLwO1ApMCWwKOAvEC+gIfAwED1QJjArMBXAD9/qX9ZvxC+4L6mvpC+/v7pfyB/cb+1P8GAE4AgACGAKEAbwCmAKsBOQL9Ag4ELAUpBnIGCwY7BskFcQQmAwMCDAEqAMD/sP8XAHoAqAC3AL8ArQBEAH7/L/5s/Ov6pPnv+Iz4/fj6+R/79/tU/VX+dv8kAE4AtQDEAKkA7wAjAWgBKwLoApcDVQSgBHYEHATbAzoDewIzATgAqf/V/jD+Ev5R/oL+af5N/kL+I/6U/SL9UPy++6X61fmY+cj5U/rP+p37hvwr/UD+Qv86AL8ARwG6AfsBQQLWAkkDuQP8AysEQATgA4cDYQOtAhgCswFUAd0ARgDf/2b/ZP+H/zv/4f7U/tT+cf75/Yj9Lf3P/Gr8UfxO/ML84fwd/az9+v1U/mb+jP75/ir/b/99/9n/fAD+APMBoQLoAloDhQOvA7IDoQMLA5wCMAJeAYQAu/96/7b+4/2X/WX9VP1E/ff8sfzb/Ij8Vfxj/Pj8P/2o/Zf+QP85AMAAcAFZAXQBvAFTAcUAcACTAB0BYwEwAu0CdQMsBNwEIgXdBIYEUQTZA6sCvQEKAUwAdP/f/pv+fv4l/kL+Hv6S/vD+6/7p/ub+9v49/zz/ef+4/8n/HACIANAAgQGtAawBgwEAAbQAdgBXACoABwAYAFIAzQBOAbYBxAHjATwCQgLdAYoBRwHRABYAgv8H/5j+Nv78/d/97v2j/cn94/0S/v393v0J/uj9LP7e/nr/2P9AAGMAfgC/ADABkgFhAUIBEwEjAWkBawH3ACEBhwGGAd0BwwFdAbIAYgQ6FGMKX/8QCFMOLQoRCJn/jvde+aD3RvSH75vrJOqj7nPx9fur/aP5Pf5NCfsHLQdmAzX+6f1i/M/5qvjd9cz0Evqn/JMAaQSbBoUJ8Q2uDWsOnQyfCBsGKARV/8j8g/qO92X2J/YT9gH3Tfqj+6T7kv4bADj/Hf8I/Z/7XPog+JT4bvkH+tn+BgSwCDoPhxTxGAwdOBzjGi4a+hT5Df0HUwF3/BH40fM58T7xfvLc9Jr1svcg+uD5V/kP+SL1+e4M6ufjMd3934zjI+R48Cn/6wxaG34oiDGzNUE0My/6JU0X8AdI+97tu+PM3z7fUuLl6Fvz7gAmDd8Wsh5KI8gk6SGwGdYQwwYM+zrxc+p35fPiN+PI5THqIu0/8B3y8fD37VrnweAU5yLtO+qz9NUIPBThHUYrrTW7NjcwQSjBHHULOfpE7KTg59hD1+bbNeUA8oABTBJhIIAqujDmMc4t3CMBFjgJ6Psb7dzib93t2tHbtOHt6fbxhPolAZQD7QHT+oDxLeRe2GfbCdv21hTl+fvXCz4bky1NO+w/6zwfNfUouRbhAhnzieRQ2lXY9dkT4Vjvq//BD2McPyZuLOwsFibIG8MOFQFe8vrmg94l2MDWwtpr4bvnZfGq+Jf6nfjS8o/uOuaj4NzlVeUY6tz7wwypG8QpmDYUPn089DQLKSgZ8AYd9qnnC9/l29Pc1OLd7vH8NgxpF5oe9CNRIp4a5g9sAqn0Derl4JrcJt5+4rjn9/Ac+9EAdwPIBdEBbPle8d3nkN3l3j3kROXl8ncGJxdpJQ4wjzlAPd43QS7aIeYRjwBU8yfrdeSs4dPmYu9f+ecCCA5eGAEcsBolF2kSGgg/+9XyJ+5P6Fzj+OW968vtW/K5+Vn8svp/+OL1OvDL5zzk6ugD7K3uKfwqCLwURCBPJ7ItHzAYLFolJBzhENsGrfym9LXx9fB68pP3hfxfAbMGzQnSCTMIDwRR/un4xvIU7A3qkOvE6+LtMfIV+J78Bf1I/uf95vkM9qL0hvDr6gLrQ/Do86n5tgEYC74Rgxb7GyMewBwQGhEW+BLYD8UJ7wWbBjUEAAItAlECMwLI/zn+Wv4K/QL6w/fg9j/1d/Pv8030VfUp9Qj2HvbG9xP4ifby9WH00vGi8eHxGPTz9er2wfrSAPgDMwb4CRwNzA0SDagMUw7qDBcLnAxYDW8MDwvNC4kLmAkoBWcFTwM2/i360/uW+GH23vZU+Jn2xfdS+H/6A/pD+3D+ff7b91v+/AHl/Lb9Xv/wAgwDQwArARoHcwHz/90CoASBAMj/KAJYBq8DdwDdBKMIEQa0AeYDKwauAa78of1T/J36WvaX9dT4p/kr9gj3YPwV/Hr+j/0eAfcDqf+nAc4C4QPWAVD+uAFXAfT/nABfAUgDOgM0AdoCwQSyA8IBZACDBPsElAT8AUsHpAhlBdkCZQW/A34Bzfz8+4b+8Pcr+Hr4Bvnr+WX6wfee/o/83vpQ+sH7Lv52+t/7NPox/sX8Tfya+n8AhQE3/YkAxQXzBlAB3gd0CdsJ/AKrBdQIQwWgBbYDkARLBrQEv/7IBwgFpAIvA0IAGgKcAVf8f/eF/7T5bvdQ9Fj7Jfqn+K31dPquAHD2k/uV/ywDgPvK/tkD4gS+AIX85AhxABMDcQAnBJoD5AD6+7gCsAX6+TX93QJwA3n+f/wSAyECAgEh/TT/JQE6/u35vwGF/cL9Mfsx/YsDUP3Q/Q4BfgGvAiwBXwHBBur+yf5//l0Dwv+W+af+2AP8+17/tf7e/7kDqfmKAxwA3QFX/Zb/UgHj/+H9CAD8/iQAGf84AF8Cbv5d/0cBzP79Aer7gP+cBPH7NAEtBJD/tgMvBBEDXwV2AlQAWAMxBDD/Af8UA+/+lQFPAL39pgZYAN398AGiBbr+wgIW/G8Dnvwg/FH9W/7m+1L7ofypAA3/Av8w/6oDvQPm/NkBGgSZ/e39FP5e+wMAGPsg/cP8DADa/Z/+DQNFArD+UgP+Ag3/ygWu/wMBCgKFBX0AIQKhBRQFXwEkBZ//fQRxAs/88/sx+/oAfflZ+l795fz7+yoEKvsjAsACyf/+AJ//MQVj+7oCxvwsAa7/mPzBA6T7/AVU+7QAjggM/MsExv5RBVcCuveOBSr9yALMAMD8Pgjc/q4FBgND/5QHA/zC/j/9FPvt/Tvycf2q+ZH8cf2P+ksEKwCPATcEpACnBsD/uv/MBBkA1fzr/fH9tQBJ/k37LAXC+4UHI/xyBEMCzv3hBRL65wNu+7YCvwFl/h8EbwDHBXoDkQLiA5L+qgGC/mz7c//N9oD80/q8+5j9zfjYAkj+sf7KBCX9FwWY/3cBmAJt/+X/GPtAAzX+h/2e/0T7HwXc+RQAiABM/PEDwvXfBE/8sP2M/jv7QwfS/aoBCwQ+BfwECQKWAD8GAABe+/b+qPy3/QH7rPlzApj8y/1PA/f/lgjX/vQFcQRCB9sBDwFsBaIAbwK0+Z4GVPwF/lb+PP7KBOj5cwKq/68E5gAC/0AFoQIfAzYC8QIQBmgBbwWrAjQDXgSc/cwFsfgOA478U/gXArj4ov7r+x/9JQAm/Yr/6QNU/IUHBP5tBOEDJfylBnr8JQGhAVb6DgHf/Kj8LwIG994Fi/qUAa79ff3cAbX7/P+XALb8PQP4+rcBKQHx/6YBtP4TBLj/bAE5/tkABP6i/xn+Bf60/MX/Rf7T/d8APwIvBG8CogWPAiUFggSYAKADpv0xAn79w/q7AOL6s/8L+y38JARz9nYFMPfmAoQA+PlsBDH4rAW8/uT6TwS5/f4CJABx/RcH1/t6/zEBCv6LARH5Jv+T/eX66gBD+XoDEv2YAh3/+gKoBFUAWAQY/lgICf3xAbb/0wH2/dL9Sf+xAvH/nvppA7n6SAmq9rsEHAHq/nIA1v1iBJj8LQB+/X0DLAAP/fkAqwFRAXr9oQFyAfr+r/7Q/c3/yAEk+tgCcAB9AVUD+v1KBxcClAP6AiADjgOTAV3/JQG0/dcCAv0J/ZMAm/0K/roAePzf//oA4/vQATX9fP+8/538OQBj/4X8RP6a/qP+tf6v/0X8wQLj/KYAcAOJ/ZgCkf/oAX8CHQCdAc8CdQE4Ar8ChAIyAhEC7wBvAwMBzv1AAoP9XP8C/pUBWvq0Ajb+wP6zAsH9twMo/qECQP9NAz//MgIuAPT/QAXo/vMFCvzRBSUB2ADwARv+jwJVATv+bAFlAcsB5v2MAVABpQJI/Sj/PgEeA9X9KPq0BLz6tQER98v/OwCH+pP8bP1xAmb8AwDc/Nz//wTw+JQEWPyRAqEADPveA47+AANC+0MDxP7+BKH9a/93Aq0BSAFY/NcDjv/fAdr6twTPANQBJ/y1ABQCTwLV+AAC8gD9/SgCW/TbCi77MP+Z/sj/XAGvAJv5kAT5AMv7hQHg+xEDXwDz+wkDkgA0/48EfvvLBsz8qABTAib96AO//J0B6fxEA2n+Qv34AEgCov0XAGUCkfzOBTL7VP9BBFX7ZwHX/7f8ygGtAGz6qwPn/335rAeo9oAEsP4Z/x8BAAB2/6kAygIB/DkGy/uYBBAAzwDr/1kE6P3XAkYBlf8QBXL+mQFIA5sBzwST/ZcDGgQB/5cBqvxeBAMAef+S/moAygGo/g3+I/4HBJT/h/oGAUMAGv5L/yX8E/+qAOn8ufyBAKT/zf6K/g7+3wbW+UAB1v6Z/0UBDv94+3cF3P3J+j4CifyjAt35JgUz/ekDRvyBAH4C+f5CAHz9zQQw/dMChftUAhcCe/3dAfgASwKgAZv+MgLrA6f/3wOG/u0BbgUP/f4ENP+R/7QEb/zAAgUAGAAAAMP+hv0VB4r4fAIb/0n+bgbI+n4CBQPyAWH9awSA/jYG3ftN/jgDEALY/qz6DAQaBKv7uP01AEkBWQIp+nEA2v81AI782vljAkwC1vir/N8Crf9PAHj7O/7lAc//lPlP/0kB1gB5+4n88wJW/3//QPo2AcoAOwAg/J/+LQPxAMT7GQCaAaYBa/qH//z+6wH5/Q/7bgKa/CsGZvdgAYMBAAF3AKn5YQbx/sH/+gCf/VQE9P5y/wf/eQEIAqz+sP79Adn/SgLM/pX+3gSX/FQCaf59/x0BUv7G/JQDD/6v/7IClvtPBqP6lgMY/gIASAAn/DUDo/1RAfT+oAJAAFsGF/y2BhkAHgEiBar9XwOV/w4Ctv/dAQsCKAPvAO8D4f9U/9gDxf4UAsn61gJS/XL/vgD5/LcAqAHA/9j/dQOf/z0AuwChALsBdP+q/kYB0AEc/+3+QwFmAE4BJwHAA8MAYwMfABwFAAAQBbb8zgIEAq39AAEJ/j0BnP7z/4n+HwH7/sr/xfzAAPT83v/t/c/9Qv7G/m79Qv5PAFz86v5y/Eb/LP5y/VP+JP05/rn+B/7S/9H9zP3O/mL+qwB9/wv+AQCm/w4Bbf0TALwCtf9iART/9QE8AMUBwP4CAVkCiv9I/SYASgDF/QT++/7l/TMAxf29/BgApv0j/s7/Uv7kAdL8EQKC/1sA1gAi/6oA6v5CAXn+ewFX/twDOwAHAckBJgBvApf+rQAsABEB//7W/53/9ADG/q79UwMhABQD2wD6AHAESwEJA8EBLwHVATEBPgCNADAAJQH3AZP/bALeACoBmQEBARsA5QHE/qgCYv/s/yUBsP79AOUAMv8nAbgB1/1fAGv+XACZ/z/8yQCK/88ATf9x/6UCkgDhAGgADgF0AvkBkv/1AMH/Vv5T/zX+Uf2m/qP/cv/x/eL/v/8yALEBeP+RADT/bwC2/jf+o/5N/uX/I/38/sf8CgBw/2H8gv4b/nsBev4E/Rf+hgFx//j9Qfxd/iYAk/wE/ln/lQAiANT+yADWA3UAYP86ANcCrQJL/+v/TwDAAjoAtf4UAeYC9QKQAL//dQKNBPr/LQAoAVkC9QGg/84A2gEXArX/ZP+QAcYACP42/oL/2wFqACr+bP9aAf4AsP7j/V8ATwBn/eT8+P3Z/7f+/Ptn/h8BawGN/hz/1gE7AyYACv8uAMEBzQF2/ej/QgFOAvIAw/8SA+cC/AHpABwBuwEpAsD/j/7xAIj/AADc/2T+wf/E/3b/Xv+//l7/x/87/g//iP5p/7X//v44ANL/AADL/8b//P+X/xT+CgBmAJD9JP+AADoAcf8m/yoASQKvAKv/vwDUAqwCHv+6/9r/kACN/5f9A//6/4f+9P2s/aL+3/5t/GX8Gv4W/lv9d/x8/hb/3f6Q/oL+WwBIAKP+Kf9oAIz/9v8qAI4CeALDAM8CWgThA4YD+QOwBdMEzQLaAsMCFgLoAJ0AvwBKAR4ASv/6ALb/Q/7h/BH98Pze+vb4UPl9+hz6Bvly+Kn64fsZ+fL3Zfk9+Sf4fveL+Qj+twADBMIHDw7PEk0UsBQVFgwXAxLbC+gHCQbmAhj/+PuR/BT+zf3u/cn+hgHVAHP/zv1D/En6rPS+7jDqQ+gF4Q3bA9g22WHl5/N5/EoKxRrmKMYvLC7rK/kl5BrSC//+Bffh78npmejC7wT5YQCPBz8P9hesGkkYJxWPEJEJDQFL+cT1U/LP7ibuJ/HU9E/2iPeb+qz8/fsl+3L5MfiH80js3egX5PLdctZK2g7trPl6/8oMCCLBMdAwBSohKcMjbxNI/3L2RvRN7PbjRenk9kQBZgTVC/8ZKiHSHfgXHxUBEEsET/pi9uvzGfFw8Of0j/mg+1f9KAH0AuAAIf3C+of27+2s5eLeftji0v7O5di870X+MQmvHTY1r0GYP/c4zTKhJZgO6PkZ7zDngd692knkK/Qb/zIHJxJkH7Ym7iIcG1cUWwqj/Lvwpegr5l/llufE7HX0Ifth/70DzwenCEQHCwX+AIj9uvgr8vnsGunn5EzhkttT3FftOP7bBYgR5yfeOV47LTTYMDMqzRefARLz6Olx3hzUp9Uu4XrryfP9/zgRjRuAHSkeURw2FMgHiv4U+fbxfOv76vzvyvTL9zn+fAYICpcJtAjYCdgIAgIu+wv2cO+t5lLf/tgy1mfgG/Ks/CAIJB1cL1I0CTA1LLQkKhNT/TfvjeUi2yzU8tcR5Hzu/vZ0BPUT+BpvHOsbfhkOEt0Fif0n94byZe1F7jbzhve3+pMB+QdgCtIISAoyC/UG7AEa/UP50PF56Knjm98W15nXrOmv+FsAjwwAItAwlC8DKvwnwh73CS34oPCe6OTcLtlk4mfujPYCAcERTh3tIZ4j2SIoHUIRygWA/tj3de9z7EHvKvIf9Kj5QgE6BZ8FvQbEBwkF+v8z+9/2Q+9z5hnhrtwH1dPUOuas9b//RQ+qJYc1rjcRNBoxoyfpEoP+a/Ns6EfbSdZ53Wjnb+8K+2kLPhnvH7oizCRbIMUUOwnjAKf4f+4D6rXs0PAz9Of55wHJCNgKiAoPDbgMEAa9/7f7hPV07NTidN5Q2mjSGNh26ir3XQHXEjcl9S8MMosvLSrNHfULU/x/8frlZ9w722/iKOt38+YA7xC2GZodVCESIF8Ydg0FBR/8T/FP6gvqR+3Z7c3vYfgtAEgCzATtBscELwIZ/8b6UvQ07cTmYeK03YfWGNvw7Mv2if7CEmQmVy4vMuozgy4EIVYQcQLX9ejm1dyY2pDdC+XI7uj5HAjPFKgcVSCwH2IbYBRSDNcB+veg8tfvvu+w8Ej0V/t1AfMFrwkiCzwLIwk2BTwB4PuZ84Pro+f+4gjbod1l7ML1Wv3DDiQfKSVsKBMq2iU2GiwNLAOn+p3wPerG6qbtQ/JP+hcB4wdWDjcSaxRnE6cP7Qu3B/4A8vpU+G/2l/Qi9ev2dvla+0v9MQCTABQAnABR/0D9B/u+9Vfvy+qG5qvfq9xq5xbyqff2BcEYliJEJ1ssJC1QJL4Xbg6EBK73ee4a6xvqo+y78n74hv+IBkYL5A7CDlgMsgkBBTIAj/z4+Bn2DPfu9274f/u2/wUBnAEiA0kDOAGA/xb+nvrg88rtIOt35hLfrt1b6mzzBfgGB5gYCSHZI5on6iebHpMSFgnjAIT3pu6K7JHsiu7489T5wP0hBAYKgAzjC5sL0wpZBl0CJf+q+nD4Vvh4+YD6b/sn/toA7AGMAqYCRQCu/o38EPgN8VPsTuml4/bgiuqE9Z359gZBGBQhWSStJ78n6x9vFEQLdwIg963vgO4W7TztovHa96z8hQFlB0ILKQsXCnIJqAVRAMD9Dftu+Fv3UPiw+s37MPyQ/6sBEQAIACkB9f4P/eH6b/Wl8enumOnl43jmjfHt9QP8MAx7GZ0eyiIYJU8ifhnaD4IIO/++9aLxu/Di7wDx5/Ta+hYAwQN8CHAL7wv/CnwHWgXLAgj+Efs6+0f5D/il+az6hvu9/O/8IP0P/m/9HPsX+Nj0QvBu68znVOOg5cfwKPeb/m8OZhsrIQolPiZnIkUa+A+oB///5/cM8zLyTvMP9eP3WPzAAK0FpAlhCwULZAmfBmoCkv7R+sn3rPZx9+/3kPfc+YX9BP/Y/hEACADK/Jr4e/Rd7zTpguWH4SHhuOxc93b+OQ3yHfAmKisbLuMrPiI7Fq8NdARW+KTygfOi8nTyT/is/kUBYQMvCFUMvQrFB2QGQwPM/c34OPb+833y5fOc9Uf2J/cu+fv6w/pw+ez4t/SF7VrpP+Yb32vareOe8B32ZgI2FiojnSjeLhUy8CvPICEXaA3U/yb01vEz8bDu0/F0+UL+twG/BokLvAuYCe4HkASR/zT64/UR853yuPJi80b2Yfiy+Y76svpT+mf5o/Wu8PbsdeiF4zveHOBj7Qr2sv3cD+YfCin/Lrcx9TDMKTUf6hUoC0b+Q/dc9HXxNPKf92z95wCWBLMJEgxBCRMGzgNv/+r5pfUc9Bjz0vBM8oj2GPdJ9mH4hfnX9+HzSPAK7rrq0+fE5Z7kY+3H+dIBNA3XGmElaSw3LyMvUSvzHf0Y5hFDBzv+Ifog9072jvcQ+vH81v86AugDxwR1AwIB1/2F+rH2M/MC8ffvAvE688D0d/VA9t32BPe29M7v8evA6ZjmfOLU4XfrIPolA94N7xymJh8r+Sz8KnwlUR1FFBkMsQSm/Vn56/gI/Dv+qf4YARQDtQHQ/8v+Xfw1+dX2nPWM9I7yKfHn8sr02vRs9tL3Y/ee9aDyRO5+6OHiHeAq3x/cYuIf8rD8JAe1F8Qlli2IL6MtAiqJIb0VFw1PBrj/pvtu+zD/bwNpBuIHkgphDB0KVwY3AtP9Avh681Tx+O7D7SrvkvHd8031XvbH9xX3M/Pd7Y/p0ef/46Df5uFK7EX3DP92CiMYICMRKRksGyypJw4h/hl8EjULogXFAu0BsAIhBW4HAwhOCeIJ0gc0BJ//7vvg+F/0pu5m7BLtvewt7ATtTu+48E/wQe49603o9eb55Hji3uTi7qr6agTADiMaISNqKDMqqSjdJHgemBgbE10NrQmABugDeQUTCWgKiwgPCLwISQfiAWT8iPgi9XnwQOxx6mXqTepf6qLr8ezZ7ODrlunS5kfl9uNF4tXi8OlA9Tv+MQdSEsEelSYvKf0opiYdIlwblRSRDtwJVAbfAyMD6wNHBSYG7AbuB2kJiAhOBdMBc/1N93nxn+xB6DvlgeQx5Zjlqub359voHOnI6Cvp4ulQ6+PwAPgy/mgEpg3SFzUfPiT+JrknyiYGI+kdTBlcE2MMoQjqBsgEHAPXAw0E0APbBOIEFgMOAeL+Ofvu9mPy/eyP6OHja+GZ3kDcRdwi3Ube4d3d3+/mJvDU9kn+cgmKFWEe3CQZKUYqqCkqJ6EhmhtgFUEPpAk1Bk4DdAH5AC0DvAU6BxAI6gcCCJcFXQEm/ML1k++U6LTjFN4C2jzUGNrF2ELUZNdo27Tlje7Z9mUADgxrFpEePSSYJvImNCbJI3Me5xg/E7QNZgqQBzIEcQOuBIkGFQh9CdoJUgktCBwGTwI7/VX4o/Li66nlW+Bx24zWhtOL0hPS8tSb3efnQvGE+50H+hLwG98hSCTrI2IicR9PGnYUFQ82CuQGdAVMBf8FFQiJC/0ObBEHE2USrQ/5C8MG6v8s+K7wMep/5PTeRdof19nVVNac2KLeNOhS8Yr6qgQ4DwAX1RuUHfIcjho7F8MSZA0aCDoEuQHH/7//RAEXBCgI6Qz7EUEV3xUqFd4TiA/yB/P/8/gP8rPqjuNO3hPbGdgi16DZJ+Cd6MHxuvvnBjIRMhjNG64ckxsnGDMSWwudBQkAePvA95v2i/eX+cX8ogFyB6MMhBB9EmET6BE9DfcGHAB3+T/yRuuz5QviNt/h3dDgEuiy7773agG9C+oTwxiVG4kblxm/FW0PKQiFAVX7svXR8UrwnvCP8nf3lv31AuAHjQwlEEkR0Q+aC90FqP+z+H3xsOrK5PPgKOC04sTo4fD1+usFvRGyHDojxiXIJXwihhu2EuoH9v239Z3uNOlm5rTmIeqf75L1yvvuAb4HVwveC2IKWQerAgH9fPZ88B3sK+ko6CnqCPCk92sA7goXFrEfIyYYKq0q+CZwIOoXvg3oAmj5dfHG6gvn2+bn6A/sGfDs9CT6u/6kAVAC+wC3/kn7wfa28VvtLeoG6dnpxu3M9EL9mwf2Eg8eFCdkLdEw7zC2LSgngB6rE/YHx/wm8jPpg+Lq3pLeJ+B24/7oXO/n9P/4Z/xD/gz+avsy98nyMu837IbqTuz78eL4QgFICxgW8h/WJ6otKjCPL8EreyTYG0kSoAcy/Tz0MO275yXkMeNE5GXmiOm57K/vRvJA82b0ivTR8O7w6u8P8C3yJvaz+ywC6wk0Eg4abyA9JdAo9Cl5KIYkWB+wGKYQNAjL/3H4hfFc6/zmG+S94nPivOIv5B/mS+jY6qDsK+678NnzmPaY+XT+8gOxCDAN3RHpFjEaohu+HNAcGhtaGJ8VBRNpD6MLrQcIBGQAFPym917zfO5x6QTl/uBZ3UvbZdo2213eduMh6p/xAPrxAm4LCRPTGO0cax+YH8sdShutF9QT8g+fDAYKWAgQB4MGagZEBpUFHgTHAUf+9Pnm9F3vB+pD5Qji9t9C4KDiBOfr7I70HP2zBUQNxRI3FhgYLhiqFrUT/A8LDIQIowUIBK4CeQJKAzAEDQVRBfoEWAPdAID9N/mx9MLwx+2A627qHOuP7V3x+fUy+6oAhQYnC+cOtBCiEb4Ryw94DZIKjwcUBYYCiwCs/yH/Pv93/73/8/9w/4T+rP0x/GP6N/hN9lD1/vTO9XP3Qvp4/S0BKQU1CZsM6A5eEHYQqA/TDU0LCQlABq8DlwHt//L+Yv7L/Sb9rPzN/OD7EPqY9/H1BfRn8VLvoe7r7k/v7fBH9OP47v1xAucGPAtwDvgQ6xFREUkQcA7NC7sIPwY/BFUCuQBo/83+c/50/vz9g/2w/DH7avlr9+D0ufLW8Jfv7u7R7tjv/fEX9YP4oPzXAAQFhwk6DAoOARC9ENAPEg50DPwJkQdSBRYDKQEPAHX/U/91/9f/7v+f//z+Qf74/Iz7avnM91n22vTR8+/z5fR59u/30/on/iABnAPCBa8H6wgjCXcI0AdIB/oFxgTxA5oD8gJ2AkcCIwKfAkkC+QHnAdMBAQKBASABcADy/7P/VP/e/p7+ov6B/nL+sf7U/uL+lf4y/r39mP07/bv8k/yT/LT8Sfxi/BD9pf1N/kX/awB3AZgBigJNA60DrAO9AzUEzQQGBZQFLgaHBpQGcQYFBtgFEAXLA38CBAGH/4r97ftO+vf4f/cB9nD1mPXR9Tr2Kvcm+NP5Cfvk/Ob+egD/ATsDYQQSBYMFfwYQBz8HAwhnCHII5wjFCCkIUwcjBo4EEwNjASD/tvxr+rv4Z/cQ9pH1i/WB9gT33fe/+Oz5e/sS/JP8o/2d/gz/sf+qADsBDgKlAvECxANVBH4EqAThBPwEXQTCAwoDIAKiAFL/If70/AD8T/sp+xb7vfrJ+t775Pxz/SD+VP+3ABsB/ADuADwBegEpAZ0ASgBcAPX/ov+D//j/HgDb/3D//P4A/43+1P0f/RX90/yF/D78j/wW/bf9j/6H/50ASwKhA8ME1wXQBl0HUAeXBtcF2QR7AxkCmAD+/s79kvzB+yz7wvol+sj5l/k3+Qj5Rfko+dX5ifpS+/774vyQ/vf/UgHpAlUEtAVOB7EIYwmBCcMJPAo8CokJvgg8CLkHcgZnBJIC/ACz/m/8bvqB+Hr3T/ar9SD1Y/UM9j/3RPgk+fX64/yR/vH/WwE3A7AE5AUMB2sIuAlBCoEKfwrqCqQKogmKCO4H+AYoBSEDbQG5/1L+f/zq+gT6EvlL+FD3Xvem9zH40/gp+TL6wvtH/ab+AAAOASsCOQMVBHwEuwTYBAsFLgVOBe4EZAQ/BGcDggJeAUwAg/9c/vf8AvzG+sf56fiU+J749PgT+bH5vfog/F39d/6I/2kAEgGTAS0CrwLyAgADJwNLAzgDpwIeAlgBzwCZANP/P/+5/tz9hv17/IH7I/vW+rP6Ivrq+cH6bfvP+5P8eP3r/iQA1AD0ARMDtwMsBFwElAQ3BLIDGQMiAnEBqgAAAB3/b/4+/p/9z/xS/Hf8SPxs/DT8QfyS/ML80PyP/XH+x/6V/3YA2QDfAcYChwOCBHYF6gV2BjYGKQY6BhEGjgX1BCkEUQP7AaoAnv+J/qH95fxe/Mr7dvuD+9/7kvzf/A794v3p/rn/VQDKAHQBNwLkAtgCMQPMA0YEhARRBFkETQTwA50DHAOfAiUCgwGyADwAiv8G/9H9h/zu++r7oPtS+6P7/Ptd/Pn8Fv26/fP+c/8vAI0AvwC/AbYC4gIdA8UDQAQkBM4DNQRlBAsEeQPLAlICzAGsAMD/Av8m/pn90Pzp+yn7ofri9y37BP5X/Nb7f/16/Bj9ef1e/iT/nABLAQECJQIUAkICKgKYAQkBhABeAKkAxwBkAB0AgwDhAIsAHgAYAH//Xv5N/iD+j/1X/Vf8gvxA/uL9cP3j/e399v06/s7+hf9HAIUAQQHqARYCTwLjAeMBowGyAeUB8wFpAkUChAJaAjYCLgLHASAB6ADbAEEA8/+R/4D/GP8M/9j+lf7f/g3/Hv/I/qX+gf4w/ln+W/74/nn/yP+KAGEBlwEKAosC5QKLAvcBSgIJAAP78/PM8vf4tQR0BIMBOgEtApQAygRoBBUFBAULA8oALv+M/tn+2v+LAHwAhgC1ANkAuAB9AB8BegEXAXwALgB+AOsA/wA2ATABPwHiAEkA9/86/2L+5f3E/TH9EfwY/E38Ivxf/D38dvzm/CL9tv1E/lX+1f4x/5D/tv8DABMA+/88AGgAwADWABoBOwHkARkC6gG+AYoBvgEuAbYAkQAwANr/YP/t/p7+UP5p/tf+8/5U/6T/GwCUAD8BoQESAqMCIwOIA2wDMQMtA5QC5gFpAQMBeQAlAKL/P/8J/7L+2v5O/jD+h/4L/tX9sv1G/f78Sf1q/Zf96P1G/oT+KP+8/zsAEwGUASgCcQK9AvQCHAMbA28DcwN7AuEC/AGvASABbwAMAFz/jf4K/n79zPyD/N/7SPyy/K38u/wr/aT9Cf5g/qX+ef/t/zQAnADEAH4BwQH9AYwCzQKrAgAD2AJRAq8BUQEJAZwAEwDk/wz/NP7D/aX9Lv1S/Vn9j/2t/d79Gf5W/sn+xP5i/0UAsgDCAAoBcAFJAVABdgHcAUACXgJtAioCNgLOAasAQgBkAPX/Kf9o/qj9e/3w/KX8h/w+/Fb8v/xr/JH8ovxS/QP+Hv5V/h3/iP+z/ycAxwAUAc8BzAL4Ai0DaANWA4ADDgQJBC0D0wJKAoMBxQBbAO//0P+b/6n/Fv+j/gn/l/88/4L/IAAjADkAYwCfAPEAagGiAawB8AHpAZsBtQHkAY4BJwHqABkB/QDw/9H/AADm/+b/2f+R/3L/O//y/u7+LP9O/4n/5v/2////HwBgAJ8ABgGpAcIBTQKnAiICPwJmAkMCMAIWAvUBNQGYAG0A0P9m/xH/5/61/rH+rf5c/ln+u/51/vH9s/2c/ZD9zP2Q/Zz9R/6C/s/+If/K/3MAEAFSAcYBIwI5Aj8CEAK/AacBOgEOAWgACAAXAOr/Df+Q/qD+aP5H/iv+VP4G/5X+F/7h/fD93P11/Sv9ff2H/av9G/65/n//8f9PAK0A7wB7AW0BHgH0ACABEwGNADcAAwBYALUAYQByAMwAmABWAI0AWgBJANb/Pv/t/sn+h/5V/jD+Rv6U/qD+E/+G//b/GAAAAFcAlgDZAJ8AzACXALcA6wCaAHEAlwBdAD8ASQCdAL8AYwBDADMA+P+G/2b/Lv8d/xX/m/4p/oP+Tv9B/+n+B/9c/0f/nf9IAAIBNAFzAeYAEwEhAkwCCQL/AfMBUQJKAlMCJAIqAp8BHgFUAS0BsQCKAEIAZABuADwAFwAAAMH/s/+J/zX/bv8m/x3/Rf9e/zf/BP87/2z/dv9L/3n/2P9cACQA+f+k/8r/ZQChAOQAkACiALkAAgF6ABQA5v/Y/73/3f8cAAEAmP92/9X/CgD4/9H/of+Z/8L/2P8DAFAANABmAJUATADU/5L/v/9dAHsA+/9z/+/+o/7c/h3/T//6/tP+gP6G/p3+4v4B/+n+2f6Q/qD+hP68/ir/jv8BAE4AdAC/AIoAXwBnAGkAkABsAGkAqgDTAMEA6wBbAf0AngCAAFUAjQBkADAAhv8W/0n/Y/+G/yn/qv4M/jf+tf6G/kf+Yv7p/if/t/8zADQAswCNASkCJAJUAmUCygEOAQMB1wC0ANUA3ADPAH0AcAC4AFgB3AEkAmABzgB9ACUAVv9U/lD+Dv5y/g3/Tf/G/+7/hQDmAKYB2gHQAR0CWQKTAmQC0AHoAQ0CGgKhAVEBPwGeAO//7v6f/jn/Jv8C/sP8/vsx/Eb9H/6v/oH+9v0o/qv/KAAbABkADQIrBxEKegenAr//Z/4V/hr+cf6V/Tj84vo++hH7ifzO/YT+/P6b/ln+Gv4F/uX9Fv7E/Yr9Iv7W/m7/g/8cAFIAhADsABEBRQFMAZUB1wHxAeQBkQL6AvYCDQPHAkoCUgIVAgQCHAJiAcUAZgDw/9L/wP9w/0//EP/Y/pr+6v7y/pj+1/7o/sr+Kv/m/zgAcQBfAE0AgADfABIBHwH0AOwAlQAyADUAOAD4//D/q/9t/2X/+f4d/yP/Cf8H/7D+m/6F/o7+rv7H/uz+Kv+V/4v/n/+5/wwA6P8KAMf/4/8mAEwATQB4AIsAowDLAM0A8ADWALIAPwD6/9L/tv9E/zP/Ef/5/rf+b/7v/kj/Nf8M/7T/OQA9AAcANQBNALwA1QCnAMcA3QDWANsAuwA4AWcBVAFhAXoBQAHyAG4AIwBNAFsAPgALAN3/+f/6/5n/s//Y/0sAxgDzANIAAQENAeoAAwFMAUcBWgGdAXkB1gCKAJ0AagAnAC0AZwA4AAUAAgDr/5z/hf+b/2//Gf+i/qX+2f6K/pT+6P5L/1//d//j/wMAOAA5AEoAggCsAKsAqQC9ABcBZgF1AVABkgFrAcUAeABLAD0ASgBrAGoATABIAAgAsP/J/9D/2v/T/4b/cf81/0j/Hv9E/3n/Y/8k/1//nv99/3j/i//W////8P/I/ywAPQAhAIEAjACWAK0ArgBrAHYANgCWAG4AIAAOAP//mv8m/yP/Lf9E/zz/jv+h/6D/1f8JAPL/DAAvADwANgA5AEYAJAD1/8z/x/+t/8f/uv/M/7b/wv+Y/43/Wf9R/1T/Qv9S/7P/9P8zAEgAJAAaACMADQAsAPj/KwAwAOj/nP/d/9L/2v8CAA0APgAlADwAXQATANj/rv/3/+L/Tv9u/0v/If///hP/Kf8X/zT/Uf8//1P/gP+r/5X/pf/q/w0A4f/8//v/+/8SAPT/JAAhADwAcACqAMMAngA4AFIAMABDAFUAVQBPACYAHAAoADUAMwASABwAPQAuADoANwAeAGcAkQBgAMsAEgHzAMwAkQDVAOAArQB7AHMAxQB8AGsAtQDKALMAeABTAG0AfgBDAL3/vv+0/7H/x/+h/7L/af9G/2n/o/8MADsAGQBGAD8ADwDI/xoALQAeADYAFAAYADwAQgA0AFYArwCFAIkAfQDAAJ0AnABtAHIAfwBPADUA4f/o/4v/N/9q/z//P/89/wD///76/sT+8P48/wr/H/86/0r/WP8//yD/Pv86/+D+1P7G/qn++v4u/w//Fv9S/2j/f/+6/3z/r/+t/5n/t/+n/67/jv87/wD/4v7m/hb/Jv9E/7r/AAA9AGQAiQCqAPkA3QDXAKwAaQAlAOz/wv/I/5n/mP+o/7j/s/+V/87//P+b/5//sP+M/3L/bf9i/0r/jf+v/+L/PAAzABsAOABMALYA+gAIARsBSwFfAUwBpgGdAVMBUQEsAW0BVQH0APYAMgFWAf8ACwHZAM4A7QDpAD8BKQGtALEArwCWAJ0AKAAqAGIAkwCwAMsABgEpAW8BWQFlAaQBSQHyALUAtwCeAF0AEAAQAAwAJQAgAAAA+//r/9j/4/8UAO3/ov+L/43/3P/J/9v/AgD3/9//3f/4/+//2v8eACgALQAxACAAFAAeAAQA9v/i/6j/T//q/vD+6v5U/ir+Rf5r/oH+fP6M/pf+iP6s/rj+Df8t/0z/zv8+AHMAkwBNAMYA/gD6AN4AwQCiAFQAHQCj/1D/Mv8J/+r+7f4L//v+x/7d/sv+u/65/pb+gf62/vf+HP8c/xH/Z//L/xoABAAhAD0AbQBDAEkAPQAOAP3/xP+R/8//5v/V/7v/sf8CAOX/JAAyADMAYQB6ADYAOAB4AEoARQBLAEYAZQCEAIEAuABDASYBjQH2AeIBAQIHAi8CkQKxArACnAKXAoMCGwLhAeEBvgFcAd4ArQBoABcAzP+E/6n/Nv/9/ln+Yv5w/kr+Ff4G/vf93v3v/fL9Dv4v/n7+zP7B/sT+Mf/S/xwAPgBMAEUAlAB3AFMAYQBaAEQAKgAnAEEAAwD0/yoA9//1/9r/ov98/7z/sf9J/zn/T/9D/w//x/7q/uj+Gf8u/0D/Rf+S/8X/pf/f/zAA9/8ZAAQA3f/P/8X/xf/h/6//kf/I/9b/b/98/9f/RABZAEsAdwCOAC0ATQBEAEQAKwAAAPf/FwBAAFIApADUAPsAIAHaALoA3gDiANgA8gAtAQcB9gDQANAAHAHdAOoAQwFRAX0BawFwAXQBawFgAfQAnACmAI4ANwAcABEALgAuACsAYQCIAGoAiQB/AHUAnACWAIEARwBIAB0AGwAsAEkANwDw/8v//P8RAO3/JAAqAC4AGgAUADgANgBVAEUAzv/r/93/av8e/+L+Av/j/rv+hP6O/qr+j/6r/rb+eP6e/qn+hP5y/nL+MP5B/q7+rP7z/gn/xP73/jL/cf/T/xgAMAAQAAkA/P9UAIEAKgAiADcAJgBAAFgA2QAEAeMABwHtAAwBnwBMADUAJACv/1L/VP8d//L+1/6z/qb+tv76/q/+sf7k/gT/5f7q/sf+zv43/yf/LP+c/8P/n//B/wUAEwBVAIoAzACiAPYAbAFCAU8BZAHuAJAA1ACvAIQAUwA+AFYAowDxACcBXgFkAWgBfgEhAdAArgBvAE0ASAAvACIA2v+7/9v/BABFAH4AkgCjAE8AHgAxADMALgBLADwALAA+AIgAqwCFAMYAQgEpAT8BpQFrATYBJgEvARgB7wDOALQAQwAxADEAWQBTAEoAGAAEAK7/Zf9r/2z/b/80/0//Av8A/yD/9/4i/yf/xv5z/lP+KP4d/rL9r/3g/Rz+QP5P/mn+a/6N/rD+Zf6Y/sH+vv7z/iL/d/9l/zz/Vv86/3v/uf+8/w0A/f/V/yMABwDh//v/2v8pAFMAbABYAHEAnACiAOwA4gDzAPoAKgE7ASoB/wDdAOEAwgCXAFwAVQAyABQADgDw/yoANAArABMAe/9u/w//Sv9H/yv/Gv/i/uj+Mv8o/1v/kP+p/6n/nP9u/5r/DQAbAEkAVABFAHYAUgBEAE8AUQA1AFwAagAuACgAhwC2AGQAXADOAOgA3QC0AIAANQAGAB0ARQAyANT/3/8RAA0AEQAhADIAhAD8ANYAZQD+AEkBWgEkAcAAzQC4AIEARwAwAFYAPQAeAHIAtgCEAJcAzgDdAIgASwBTAFIASwAaAA0AAAD4/yYADACF/5T/r/+K/zf/QP84/93+w/6X/ob+o/70/j//Yv8z/0H/df+I/1X/dv9u/y3/O/9M/17/n//q/yMAhAChAKkA6wAYAeAAsQC6AKgAmwCKAFoAJABCAHoA3ADVAMUACQHeALsAXgA8AHAAfACdAIEALwArAGwAbwBfAH0A1wDsAIwAXABcAFsAawCLAEcARgAoAC0AJwDi//z/of+Q/5j/U/9n/2f/hv+p/1X/QP9C/w7/8/7o/gP/7/7f/gL/Cf8q/wT/Lv9G/wf/6P77/iD/Tf9E/1j/sP/r/w4ATAAvACwAPgA/AGMAYgBzAH8AYwBCAAsAl/+N/6P/k/+6/5//Yf8p/2n/kP+c/6H/ev9R/4//i/+P/6//sP/e////+f8yADIANwBFAJIAygDnAOYAzQDnAPgA2wD/ABwBnwCfAIIAZgCBAKIAgwBkAE4ARwD7/+L/6/+s/0P/9/62/ob+d/5s/lj+aP6t/jT/tf+i/8z/AgAWAO7/+v88ANz/Zv9U/0H/k//R/6L/2f/f/wAAGwBYAGwAsADaANgArACSALoAugCyANQA0AA0AUYB6AAoAfkAFwFtAUwBcQFnAewA9QD7ADcB8wCYAIwAgQBoAIMAVQAyAEIAEgDz/wAA1f+s/5j/qv+h/5X/q/+S/7v/1f+h/5f/4v/G/5T/q/9H/w//Gv/I/tD+L/93/2r/K/90/2b/QP8a/x7/8f7c/lj/Z/+G/8T///8bAAgA/P/W/8D/jv+W//L/DwAZADoAHQASAEUAKQA0AB8ALADq/7P/y/+p/6P/h/+O/8L/HQAhABIAQQDu/+X/CAD4//f/1f8HAL//vv+b/yX/gf++/3f/lv+0/5z/tP/f/wsACQAWAAkACwD3/wgAIgALAAwANAAuACQAKQAWADQALAD2/0oATAD4/2b/Hv8w/3X/lf+B/z//JP8A/yL/5f4f/2H/hf97/4z/p/+w/7b/CAA1ACQASwB1AF4AaQCOAKcA5gD6ABUBUgGkAYABgwHaAbEBaQEhAQMBBwHeANAAtgC0AMoA2wAlARABKQFHASEBEgEOASEBawGMATsBEAEEAecAsgC+AJ0ATABMAFcAKADU/wgABwAVAO//sP/n/9r/of+o/9b/wv+f/6L/V/9J/1//SP+O/4L/MP/3/gD/Bv8n/0T/Of9W/23/cf+S/7D/o/+G/6z/jP99/5z/nv90/2//zf/u/+T/EADh/+3/3/8GACsAJAAaAFkAnQCrAH4ARAA/ADgAIgACAFwAZAATAC0ANQA5AGcAYQBEADgANwAxAOv/nv/O/6L/b/+H/2r/PP9D/yf/4v7a/pr+hP53/jf+Y/5E/lP+ev7b/h7/JP80/zP/HP8d/+3+4/77/gL/EP8z/zn/lP+7//z/7/8LABUAJACuABoB9QBnAJ8AAgHGALkAtQBqAHUAdQCiABMB/wA4ATkBEgEKAVsBoAGNAYEBdQEoAfwA1wCdAIkAewBdADUATgAnABkA9f+f/6v/2/+B/1j/lf+H/0T/bP+O/6j/wP/q/+H/+P8CAC8ARQBEAFYAJAARACUALQAEALb/zf+2/9f/3v+z/3j/WP9o/0X/Of9u/9v/JADz/9f//P8pAAgAtf8lAKEAlgDWAMEAngDVACwBaAFhAUIBRwFgAWoBUAEjAQQBewBZAG8ATgAgADQA5P/U/+n/BgDP/5b/s//A/5T/ov++/+//GgBfAJIAmwCdAHsAkwB6AIwAdQCSAG4AYQByACAASgAeACQAOwAwAOL/gv8Y/xX/N//w/uT+2v4I//b+wP7K/tn+0f7d/vX+y/6X/o7+fP6p/u/+U//0/tL+0v71/kX/bf+//wcAFQA0ADUAWABKAFEAPwAtACYAIwAcAAYAYgCJAFUAXgCnAOAAmQATAP//IQD6//v/5f+E/4j/cf9o/47/cf9z/0v/Kv9x/9n+t/7g/vn+bf+v/0P/O/9G/1H/Lf+j/nb+kP6L/o/+yf4h/3L/m/8aAA0ANgCgANkAGAE5ATkBVgFaAcgAoACrAG4AnQByACsAHAAlADQAIAA+AG4AcABaAGcAcQA7AA4AHAAQAPH/4f/Q/wsAEQAFADgAVgCIAJQAkwC8AMoAxQAeAWoBlAF5AYYB0gGhAVQBJgHCAKgA3gDcAKQAiwCtAIgAgwBmAE0AWgBVAD8AegBKACkADAAYACMAIwAIABgAMwBKAD0AWwBmAE8AUAAjAP7/JADm/6L/nP+E/3n/hf87/xH/4/7U/vP+Fv/K/qb+h/6A/nz+Vv5h/qn+e/6M/v/+I/90/8n/EAAzAJMAzQDTALQA+wCWAGMAzgDOAKwAbQA2AFsAfgCnAGUAfQCNAB8A3/8FADMAGQDq/4b/dv8n/zP/Lv8T/wH/I/8g/wn/L/9E/1f/GP/1/jH/Dv85/6//bv+H/8z/vv/E/+n/MQDr//b/DAAHANv/FAAWAA4ACAAYACQAcgCTAKIATgA9AHIAkgBlAFMAbgB1AEEAUABVADIABAAPAAoAHwAQAPD/k/9X/5X/5P/e/7T/q/+t/7P/wP/7/7D/i/+P/6b/xP/o/87/4f8cAC0ARABMAHQAggCLAKkAbwBpAI0AvwB9AIIAbABOAGEAlACpAKsAXwBKAC0AIgAvADMAIwA/ACUAyP+7/97/1f+X/0P/8f7I/t/+Cv+s/wgACgD1/8//+f9QADsALQALALb/oP+N/yD/H/93/3z/V/9m/7T//v9CAHsAlQDQAPcAKgEjAfIABwEYAQwB8AADAQwBGgFmATIBXgFqATgCCQKFAWEBUgFkAZQBswGFATgBAgHuAE0AMAANAOH/zP/i/+X/FQDZ/8T/7f8iAPH/tP/B/0v/Nf84///+Kf9A/zP/b/+c/+L/CwDz//j/KgAtAPH/w//Z/+v/rP9O/1b/MP///gj/4f6W/qr+/P41/zn/Df/4/s7+Mv8P/6b+iP5N/gH+v/33/fn92f38/Sf+fv7D/q7+vf7N/rf+lv6x/hX/0v45/jX+VP5c/kT+dv6f/iD/av95/5n/kf/i/y4ABADv/wUA7f+y/87/9//J/xgAgAB1AJkAxwCfABcBwAH8ASYC/AHIAXkBTgFIAQYBkwBqAIoAdAAUABEAWwBHAE4ATABVAGAAVwA6AEYAkACTAH0AeQCTAKYAbQDFANIA9QAJATsBjwECAjgCLwJhAlcC8gG6AfAB8AERAgACrQHSAaIBSgE2AVcBOgHpACkBIQENATgBXwHuAOAARwFVAQEBFAH4AJwApQDsANYAowBgAKMApgAxAA4ADgCe/4L/ff9d/1X/Wv9s/2n/UP81/5X/Wf9N/4j//f7u/jX/0/68/uL+sP7q/vX+jv6t/vb+Bf+8/sz+vP55/nn+IP5l/lP+Y/5k/kj+Nv5d/kb+Gf4S/rr9Rf00/UD9Jv0Q/Tn9k/1z/db97v1b/tf+w/7//mv/if+a/zYAcgBIAEQAkACOAFoAQQAZABgATgACALj/CAAmAA0A8P/n/zoAQQA6AFAA3wAOAUkBUgHWAOMAJQECATQBGAE3AWwBbAF+AWMBiQHrAQYCywGdAYkBWQGNAYMBIAEDAc4AnQBUAB4ABgD8/+//1/9v/2//iv++//7/1/8WAIMAlQB0AI0A0QAFAdIA3ACBACoAdADVAN8AGgFrAT4BTQGuAcgBGwLUAV0BXQEvAWwAcQAZAAwARQDu/9z/AQB6/x3/Cv8L/x7/Bv8t/qv+0P6o/rX+g/4P/8/+7v7w/q7+B//Q/gb+3/4AAOr/gv+e/6H/9P8VALT/ZP/a/0MAcf9q/1v/h/89/67+b/7D/un+//7J/mH/m/9b/xH/i/+k/2H/af9V/2T/eP9r/1j/W/9O/+X+gv7x/uj+A/+P/+//1v/s/ykAIQBDAD0A4/8DACkAQAA1AEsAiwCBAKgA9gAoAQYBAgFUAbQBJwE3AdABjAFOAdoBxAHJAfsB0wEzAUUBFwHHAK0AcABUALUAugCOAHQAiAA9AGkAagAdABoAWQBmAC4A4/8uAFQALwBIAEgATgBNADMAMwCE/3f/hv91/9P+1f6+/tT+if5z/rH+7f7X/rv+9/7n/in/H/8T/wr/2/78/vv+9v5o/3r/lv/y/y4AQAA3AFIAgwBxADsAVQCOAGEAOQAdADsAUwAIAP3/2P/p/ykAAwDQ/wEAIgDP/+P/6v+F/03/JP9J/wf/d/9x/wEAo/9EAOv/EwBMANP/JACaAI0ARwBtAFsAOwBZAGQACwC4/xcATAAeAAAAGAA2APb/7P8IAC4AMwDo/7H/5v8JAJT/6P/1/+D/1v+s/5L/LP8j/23/Rf8P/2D/sP+p/7D/8v/+/zYAVgBAAIAA5QA4AWcBjgG7AXkBOAG+AHMAvgDqAIYAgABzAJQAvACaAG4AywA5AWUBUgHzAO0A+gD0AN8AxADYABsBHAEqAQ0BpgDoAHQApwDsAJMAeABYAAMA5P+6/77/tv/O/xEAyP9p/2D/l/9C/zL/h/9Z/zb/H/88/xf//f5V/yn/3f4M/0v/1f78/n//Yv83/0n/ff9w/0z/pv/2/6T/jP/d//L/7v/0/9H/if+U/7D/4//Q/+D/vv99/4//w//6//H/IQAYADcALAAcADYAXAB5AGwAbgA6APj//f8WAPr/zf/m/xAAEQAmAPj/oP/2/zYAOgBQABQAEADQ/+j/2v/U/9f/4f/F/33/TP+n/4z/Pv88/0j/av9N/5r/7f/l/xEAMwA8ADcA9//O/5r/M/8J/zv/H//d/g//SP8a/zD/p/8AACMAJABCAKAAhQA4ACwAOABEAD0ALABTAEYAXQCIAEoAQwAvAE8AgQAsAEYAOADO/woAHgAnAC8A5P/i/7X/j//w//z/4/9cAIUA9gDjAAcBDgEOAWwBcwFvAWcBhQFzASwBMwEUAQoBGgHUAE0APQAsAAkABAAQAB8A4f+u/5H/Pf/c/o/+bf4l/kj+cP53/oL+qP61/gv/WP+X/wcAJQAfAD4ADQAVAD8ANQAcAEQAUABOAFoALQB/ACQAFgBaACoAMwDw//j/MAAjAAAAov+Q/5H/Wv9g/3j/b/8h/2H/af95/3//jf+j/7r/2/8RACYAIQA6AEMARgBNACYAfAC3AHwAsQCnAKQA2wDeANgA/wDEAGEAPgA+AC4Ayf++//n/9v/q/9H/8f8TAAUACQAOAOT/5f8hAM7/zf+y/2r/dP9r/3D/Iv8r/0T/Iv/A/sj++P44/2//l/9t/3z/sP9+/33/df+X/6//df97/3v/nP+d/2j/zP8QAFMAYgB1ALgArwDfAPkADQGsAJUAzwDSAOEA\" type=\"audio/wav\" />\n",
       "                    Your browser does not support the audio element.\n",
       "                </audio>\n",
       "              "
      ],
      "text/plain": [
       "<IPython.lib.display.Audio object>"
      ]
     },
     "execution_count": 55,
     "metadata": {},
     "output_type": "execute_result"
    }
   ],
   "source": [
    "audio, audio_len = open_audio('test_files/test_audio.opus', SAMPLE_RATE)\n",
    "spectrogram, new_len = compute_log_mel_spectrogram(audio, torch.tensor(audio_len), sample_rate=SAMPLE_RATE)\n",
    "plt.pcolormesh(spectrogram)\n",
    "plt.xlabel('T')\n",
    "plt.ylabel('mels')\n",
    "plt.show()\n",
    "Audio(data=audio.numpy(), rate=sample_rate)"
   ]
  },
  {
   "cell_type": "code",
   "execution_count": 56,
   "metadata": {
    "ExecuteTime": {
     "end_time": "2021-03-23T12:02:36.230286Z",
     "start_time": "2021-03-23T12:02:36.044609Z"
    }
   },
   "outputs": [
    {
     "data": {
      "image/png": "[encoded data removed]",
      "text/plain": [
       "<Figure size 432x288 with 1 Axes>"
      ]
     },
     "metadata": {
      "needs_background": "light"
     },
     "output_type": "display_data"
    },
    {
     "data": {
      "text/html": [
       "\n",
       "                <audio  controls=\"controls\" >\n",
       "                    <source src=\"data:audio/wav;base64,UklGRiSgAABXQVZFZm10IBAAAAABAAEAQB8AAIA+AAACABAAZGF0YQCgAAAAAAAAAAAAAAAAAAAAAAAAAAAAAAAAAAAAAAAAAAAAAAAAAAAAAAAAAAAAAAAAAAAAAAAAAAAAAAAAAAAAAAAAAAAAAAAAAAAAAAAAAAAAAAAAAAAAAAAAAAAAAAAAAAAAAAAAAAAAAAAAAAAAAAAAAAAAAAAAAAAAAAAAAAAAAAAAAAAAAAAAAAAAAAAAAAAAAAAAAAAAAAAAAAAAAAAAAAAAAAAAAAAAAAAAAAAAAAAAAAAAAAAAAAAAAAAAAAAAAAAAAAAAAAAAAAAAAAAAAAAAAAAAAAABAAAAAAAAAAAAAAAAAAAAAAAAAAAAAAAAAAAAAAAAAAAAAAAAAAAAAAAAAAAAAAAAAAAAAAAAAAAAAAAAAAAAAAAAAAAAAAAAAAAAAAAAAAAAAAAAAAAAAAAAAAAAAAAAAAAAAAAAAAAAAAAAAAAAAAAAAAAAAAAAAAAAAAAAAAAAAAAAAAAAAAAAAAAAAAAAAAAAAAAAAAAAAAAAAAAAAAAAAAAAAQAAAAAAAAAAAAAAAAAAAAAAAAAAAAAAAAAAAAAAAAAAAAAAAAAAAAAAAAAAAAAAAAAAAAAAAAAAAAAAAAAAAAAAAAAAAAAAAAAAAAAAAAAAAAAAAAAAAAAAAAAAAAAAAAAAAAAAAAAAAAAAAAAAAAAAAAAAAAAAAAAAAAAAAAAAAAAAAAAAAAAAAAAAAAAAAAAAAAAAAAAAAAAAAAAAAAAAAAAAAAAAAAAAAAAAAAAAAAAAAAAAAAAAAAAAAAAAAAAAAAAAAAAAAAAAAAAAAAAAAAAAAAAAAAAAAAAAAAAAAAAAAAAAAAAAAAAAAAAAAAAAAAAAAAAAAAAAAAAAAAAAAAAAAAAAAAAAAAAA//8AAAAAAAAAAAAAAAAAAAAAAAAAAAAAAAAAAAAAAAAAAAAAAAAAAAAAAAAAAAAAAAAAAAAAAAAAAAAAAAAAAAAA//8AAAAAAAAAAAAAAAAAAAAAAAAAAAAAAAAAAAAAAAAAAAAAAAAAAAAAAAAAAAAAAAAAAAAAAAAAAAAAAAAAAAAAAAAAAAAAAAAAAAAAAAAAAAAAAAAAAAAAAAAAAAAAAAAAAAAAAAAAAAAAAAAAAAAAAAAAAAAAAAAAAAAAAAAAAAAAAAAAAAAAAAAAAAAAAAAAAAAAAAAAAAAAAAAAAAAAAAAAAAAAAAAAAAAAAAAAAAAAAAAAAAAAAAAAAAAAAAAAAAAAAAAAAAAAAAAAAAAAAAAAAAAAAAAAAAAAAAAAAAAAAAAAAAAAAAAAAAAAAAAAAAAAAAAAAAAAAAAAAAAAAAAAAAAAAAAAAAAAAAAAAAAAAAAAAAAAAAAAAAAAAAAAAAAAAAAAAAAAAAAAAAAAAAAAAAAAAAAAAAAAAAAAAAAAAAAAAAAAAAAAAAAAAAAAAAAAAAAAAAAAAAAAAAAAAAAAAAAAAAAAAAAAAAAAAAAAAAAAAAAAAAAAAAAAAAAAAAAAAAAAAAAAAAAAAAAAAAAAAAAAAAAAAAAAAAAAAAAAAAAAAAAAAAAAAAAAAAAAAAAAAAAAAAAAAAAAAAAAAAAAAAAAAAAAAAAAAAAAAAAAAAAAAAAAAAAAAAAAAAAAAAAAAAAAAAAAAAAAAAAAAAAAAAAAAAAAAAAAAAAAAAAAAAAAAAAAAAAAAAAAAAAAAAAAAAAAAAAAAAAAAAAAAAAAAAAAAAAAAAAAAAAAAAAAAAAAAAAAAAAAAAAAAAAAAAAAAAAAAAAAAAAAAAAAAAAAAAAAAAAAAAAAAAAAAAAAAAAAAAAAAAAAAAAAAAAAAAAAAAAAAAAAAAAAAAAAAAAAAAAAAAAAAAAAAAAAAAAAAAAAAAAAAAAAAAAAAAAAAAAAAAAAAAAAAAAAAAAAAAAAAAAAAAAAAAAAAAAAAAAAAAAAAAAAAAAAAAAAAAAAAAAAAAAAAAAAAAAAAAAAAAAAAAAAAAAAAAAAAAAAAAAAAAAAAAAAAAAAAAAAAAAAAAAAAAAAAAAAAAAAAAAAAAAAAAAAAAAAAAAAAAAAAAAAAAAAAAAAAAAAAAAAAAAAAAAAAAAAAAAAAAAAAAAAAAAAAAAAAAAAAAAAAAAAAAAAAAAAAAAAAAAAAAAAAAAAAAAAAAAAAAAAAAAAAAAAAAAAAAAAAAAAAAAAAAAAAAAAAAAAAAAAAAAAAAAAAAAAAAAAAAAAAAAAAAAAAAAAAAAAAAAAAAAAAAAAAAAAAAAAAAAAAAAAAAAAAAAAAAAAAAAAAAAAAAAAAAAAAAAAAAAAAAAAAAAAAAAAAAAAAAAAAAAAAAAAAAAAAAAAAAAAAAAAAAAAAAAAAAAAAAAAAAAAAAAAAAAAAAAAAAAAAAAAAAAAAAAAAAAAAAAAAAAAAAAAAAAAAAAAAAAAAAAAAAAAAAAAAAAAAAAAAAAAAAAAAAAAAAAAAAAAAAAAAAAAAAAAAAAAAAAAAAAAAAAAAAAAAAAAAAAAAAAAAAAAAAAAAAAAAAAAAAAAAAAAAAAAAAAAAAAAAAAAAAAAAAAAAAAAAAAAAAAAAAAAAAAAAAAAAAAAAAAAAAAAAAAAAAAAAAAAAAAAAAAAAAAAAAAAAAAAAAAAAAAAAAAAAAAAAAAAAAAAAAAAAAAAAAAAAAAAAAAAAAAAAAAAAAAAAAAAAAAAAAAAAAAAAAAAAAAAAAAAAAAAAAAAAAAAAAAAAAAAAAAAAAAAAAAAAAAAAAAAAAAAAAAAAAAAAAAAAAAAAAAAAAAAAAAAAAAAAAAAAAAAAAAAAAAAAAAAAAAAAAAAAAAAAAAAAAAAAAAAAAAAAAAAAAAAAAAAAAAAAAAAAAAAAAAAAAAAAAAAAAAAAAAAAAAAAAAAAAAAAAAAAAAAAAAAAAAAAAAAAAAAAAAAAAAAAAAAAAAAAAAAAAAAAAAAAAAAAAAAAAAAAAAAAAAAAAAAAAAAAAAAAAAAAAAAAAAAAAAAAAAAAAAAAAAAAAAAAAAAAAAAAAAAAAAAAAAAAAAAAAAAAAAAAAAAAAAAAAAAAAAAAAAAAAAAAAAAAAAAAAAAAAAAAAAAAAAAAAAAAAAAAAAAAAAAAAAAAAAAAAAAAAAAAAAAAAAAAAAAAAAAAAAAAAAAAAAAAAAAAAAAAAAAAAAAAAAAAAAAAAAAAAAAAAAAAAAAAAAAAAAAAAAAAAAAAAAAAAAAAAAAAAAAAAAAAAAAAAAAAAAAAAAAAAAAAAAAAAAAAAAAAAAAAAAAAAAAAAAAAAAAAAAAAAAAAAAAAAAAAAAAAAAAAAAAAAAAAAAAAAAAAAAAAAAAAAAAAAAAAAAAAAAAAAAAAAAAAAAAAAAAAAAAAAAAAAAAAAAAAAAAAAAAAAAAAAAAAAAAAAAAAAAAAAAAAAAAAAAAAAAAAAAAAAAAAAAAAAAAAAAAAAAAAAAAAAAAAAAAAAAAAAAAAAAAAAAAAAAAAAAAAAAAAAAAAAAAAAAAAAAAAAAAAAAAAAAAAAAAAAAAAAAAAAAAAAAAAAAAAAAAAAAAAAAAAAAAAAAAAAAAAAAAAAAAAAAAAAAAAAAAAAAAAAAAAAAAAAAAAAAAAAAAAAAAAAAAAAAAAAAAAAAAAAAAAAAAAAAAAAAAAAAAAAAAAAAAAAAAAAAAAAAAAAAAAAAAAAAAAAAAAAAAAAAAAAAAAAAAAAAAAAAAAAAAAAAAAAAAAAAAAAAAAAAAAAAAAAAAAAAAAAAAAAAAAAAAAAAAAAAAAAAAAAAAAAAAAAAAAAAAAAAAAAAAAAAAAAAAAAAAAAAAAAAAAAAAAAAAAAAAAAAAAAAAAAAAAAAAAAAAAAAAAAAAAAAAAAAAAAAAAAAAAAAAAAAAAAAAAAAAAAAAAAAAAAAAAAAAAAAAAAAAAAAAAAAAAAAAAAAAAAAAAAAAAAAAAAAAAAAAAAAAAAAAAAAAAAAAAAAAAAAAAAAAAAAAAAAAAAAAAAAAAAAAAAAAAAAAAAAAAAAAAAAAAAAAAAAAAAAAAAAAAAAAAAAAAAAAAAAAAAAAAAAAAAAAAAAAAAAAAAAAAAAAAAAAAAAAAAAAAAAAAAAAAAAAAAAAAAAAAAAAAAAAAAAAAAAAAAAAAAAAAAAAAAAAAAAAAAAAAAAAAAAAAAAAAAAAAAAAAAAAAAAAAAAAAAAAAAAAAAAAAAAAAAAAAAAAAAAAAAAAAAAAAAAAAAAAAAAAAAAAAAAAAAAAAAAAAAAAAAAAAAAAAAAAAAAAAAAAAAAAAAAAAAAAAAAAAAAAAAAAAAAAAAAAAAAAAAAAAAAAAAAAAAAAAAAAAAAAAAAAAAAAAAAAAAAAAAAAAAAAAAAAAAAAAAAAAAAAAAAAAAAAAAAAAAAAAAAAAAAAAAAAAAAAAAAAAAAAAAAAAAAAAAAAAAAAAAAAAAAAAAAAAAAAAAAAAAAAAAAAAAAAAAAAAAAAAAAAAAAAAAAAAAAAAAAAAAAAAAAAAAAAAAAAAAAAAAAAAAAAAAAAAAAAAAAAAAAAAAAAAAAAAAAAAAAAAAAAAAAAAAAAAAAAAAAAAAAAAAAAAAAAAAAAAAAAAAAAAAAAAAAAAAAAAAAAAAAAAAAAAAAAAAAAAAAAAAAAAAAAAAAAAAAAAAAAAAAAAAAAAAAAAAAAAAAAAAAAAAAAAAAAAAAAAAAAAAAAAAAAAAAAAAAAAAAAAAAAAAAAAAAAAAAAAAAAAAAAAAAAAAAAAAAAAAAAAAAAAAAAAAAAAAAAAAAAAAAAAAAAAAAAAAAAAAAAAAAAAAAAAAAAAAAAAAAAAAAAAAAAAAAAAAAAAAAAAAAAAAAAAAAAAAAAAAAAAAAAAAAAAAAAAAAAAAAAAAAAAAAAAAAAAAAAAAAAAAAAAAAAAAAAAAAAAAAAAAAAAAAAAAAAAAAAAAAAAAAAAAAAAAAAAAAAAAAAAAAAAAAAAAAAAAAAAAAAAAAAAAAAAAAAAAAAAAAAAAAAAAAAAAAAAAAAAAAAAAAAAAAAAAAAAAAAAAAAAAAAAAAAAAAAAAAAAAAAAAAAAAAAAAAAAAAAAAAAAAAAAAAAAAAAAAAAAAAAAAAAAAAAAAAAAAAAAAAAAAAAAAAAAAAAAAAAAAAAAAAAAAAAAAAAAAAAAAAAAAAAAAAAAAAAAAAAAAAAAAAAAAAAAAAAAAAAAAAAAAAAAAAAAAAAAAAAAAAAAAAAAAAAAAAAAAAAAAAAAAAAAAAAAAAAAAAAAAAAAAAAAAAAAAAAAAAAAAAAAAAAAAAAAAAAAAAAAAAAAAAAAAAAAAAAAAAAAAAAAAAAAAAAAAAAAAAAAAAAAAAAAAAAAAAAAAAAAAAAAAAAAAAAAAAAAAAAAAAAAAAAAAAAAAAAAAAAAAAAAAAAAAAAAAAAAAAAAAAAAAAAAAAAAAAAAAAAAAAAAAAAAAAAAAAAAAAAAAAAAAAAAAAAAAAAAAAAAAAAAAAAAAAAAAAAAAAAAAAAAAAAAAAAAAAAAAAAAAAAAAAAAAAAAAAAAAAAAAAAAAAAAAAAAAAAAAAAAAAAAAAAAAAAAAAAAAAAAAAAAAAAAAAAAAAAAAAAAAAAAAAAAAAAAAAAAAAAAAAAAAAAAAAAAAAAAAAAAAAAAAAAAAAAAAAAAAAAAAAAAAAAAAAAAAAAAAAAAAAAAAAAAAAAAAAAAAAAAAAAAAAAAAAAAAAAAAAAAAAAAAAAAAAAAAAAAAAAAAAAAAAAAAAAAAAAAAAAAAAAAAAAAAAAAAAAAAAAAAAAAAAAAAAAAAAAAAAAAAAAAAAAAAAAAAAAAAAAAAAAAAAAAAAAAAAAAAAAAAAAAAAAAAAAAAAAAAAAAAAAAAAAAAAAAAAAAAAAAAAAAAAAAAAAAAAAAAAAAAAAAAAAAAAAAAAAAAAAAAAAAAAAAAAAAAAAAAAAAAAAAAAAAAAAAAAAAAAAAAAAAAAAAAAAAAAAAAAAAAAAAAAAAAAAAAAAAAAAAAAAAAAAAAAAAAAAAAAAAAAAAAAAAAAAAAAAAAAAAAAAAAAAAAAAAAAAAAAAAAAAAAAAAAAAAAAAAAAAAAAAAAAAAAAAAAAAAAAAAAAAAAAAAAAAAAAAAAAAAAAAAAAAAAAAAAAAAAAAAAAAAAAAAAAAAAAAAAAAAAAAAAAAAAAAAAAAAAAAAAAAAAAAAAAAAAAAAAAAAAAAAAAAAAAAAAAAAAAAAAAAAAAAAAAAAAAAAAAAAAAAAAAAAAAAAAAAAAAAAAAAAAAAAAAAAAAAAAAAAAAAAAAAAAAAAAAAAAAAAAAAAAAAAAAAAAAAAAAAAAAAAAAAAAAAAAAAAAAAAAAAAAAAAAAAAAAAAAAAAAAAAAAAAAAAAAAAAAAAAAAAAAAAAAAAAAAAAAAAAAAAAAAAAAAAAAAAAAAAAAAAAAAAAAAAAAAAAAAAAAAAAAAAAAAAAAAAAAAAAAAAAAAAAAAAAAAAAAAAAAAAAAAAAAAAAAAAAAAAAAAAAAAAAAAAAAAAAAAAAAAAAAAAAAAAAAAAAAAAAAAAAAAAAAAAAAAAAAAAAAAAAAAAAAAAAAAAAAAAAAAAAAAAAAAAAAAAAAAAAAAAAAAAAAAAAAAAAAAAAAAAAAAAAAAAAAAAAAAAAAAAAAAAAAAAAAAAAAAAAAAAAAAAAAAAAAAAAAAAAAAAAAAAAAAAAAAAAAAAAAAAAAAAAAAAAAAAAAAAAAAAAAAAAAAAAAAAAAAAAAAAAAAAAAAAAAAAAAAAAAAAAAAAAAAAAAAAAAAAAAAAAAAAAAAAAAAAAAAAAAAAAAAAAAAAAAAAAAAAAAAAAAAAAAAAAAAAAAAAAAAAAAAAAAAAAAAAAAAAAAAAAAAAAAAAAAAAAAAAAAAAAAAAAAAAAAAAAAAAAAAAAAAAAAAAAAAAAAAAAAAAAAAAAAAAAAAAAAAAAAAAAAAAAAAAAAAAAAAAAAAAAAAAAAAAAAAAAAAAAAAAAAAAAAAAAAAAAAAAAAAAAAAAAAAAAAAAAAAAAAAAAAAAAAAAAAAAAAAAAAAAAAAAAAAAAAAAAAAAAAAAAAAAAAAAAAAAAAAAAAAAAAAAAAAAAAAAAAAAAAAAAAAAAAAAAAAAAAAAAAAAAAAAAAAAAAAAAAAAAAAAAAAAAAAAAAAAAAAAAAAAAAAAAAAAAAAAAAAAAAAAAAAAAAAAAAAAAAAAAAAAAAAAAAAAAAAAAAAAAAAAAAAAAAAAAAAAAAAAAAAAAAAAAAAAAAAAAAAAAAAAAAAAAAAAAAAAAAAAAAAAAAAAAAAAAAAAAAAAAAAAAAAAAAAAAAAAAAAAAAAAAAAAAAAAAAAAAAAAAAAAAAAAAAAAAAAAAAAAAAAAAAAAAAAAAAAAAAAAAAAAAAAAAAAAAAAAAAAAAAAAAAAAAAAAAAAAAAAAAAAAAAAAAAAAAAAAAAAAAAAAAAAAAAAAAAAAAAAAAAAAAAAAAAAAAAAAAAAAAAAAAAAAAAAAAAAAAAAAAAAAAAAAAAAAAAAAAAAAAAAAAAAAAAAAAAAAAAAAAAAAAAAAAAAAAAAAAAAAAAAAAAAAAAAAAAAAAAAAAAAAAAAAAAAAAAAAAAAAAAAAAAAAAAAAAAAAAAAAAAAAAAAAAAAAAAAAAAAAAAAAAAAAAAAAAAAAAAAAAAAAAAAAAAAAAAAAAAAAAAAAAAAAAAAAAAAAAAAAAAAAAAAAAAAAAAAAAAAAAAAAAAAAAAAAAAAAAAAAAAAAAAAAAAAAAAAAAAAAAAAAAAAAAAAAAAAAAAAAAAAAAAAAAAAAAAAAAAAAAAAAAAAAAAAAAAAAAAAAAAAAAAAAAAAAAAAAAAAAAAAAAAAAAAAAAAAAAAAAAAAAAAAAAAAAAAAAAAAAAAAAAAAAAAAAAAAAAAAAAAAAAAAAAAAAAAAAAAAAAAAAAAAAAAAAAAAAAAAAAAAAAAAAAAAAAAAAAAAAAAAAAAAAAAAAAAAAAAAAAAAAAAAAAAAAAAAAAAAAAAAAAAAAAAAAAAAAAAAAAAAAAAAAAAAAAAAAAAAAAAAAAAAAAAAAAAAAAAAAAAAAAAAAAAAAAAAAAAAAAAAAAAAAAAAAAAAAAAAAAAAAAAAAAAAAAAAAAAAAAAAAAAAAAAAAAAAAAAAAAAAAAAAAAAAAAQAAAAAAAAAAAAAAAAAAAAAAAAAAAAAAAAAAAAAAAAAAAAAAAAAAAAAAAAAAAAAAAAAAAAAAAAAAAAAAAAAAAAAAAAAAAAAAAAAAAAAAAAAAAAAAAAAAAAAAAAAAAAAAAAAAAAAAAAAAAAAAAAAAAAAAAAAAAAAAAAAAAAAAAAAAAAAAAAAAAAAAAAAAAAAAAAAAAAAAAAAAAAAAAAAAAAAAAAAAAAAAAAAAAAAAAAAAAAAAAAAAAAAAAAAAAAAAAAAAAAAAAAAAAAAAAAAAAAAAAAAAAAAAAAAAAAAAAAAAAAAAAAAAAAAAAAAAAAAAAAAAAAAAAAAAAAAAAAAAAAAAAAAAAAAAAAAAAAAAAAAAAAAAAAAAAAAAAAAAAAAAAAAAAAAAAAAAAAAAAAAAAAAAAAAAAAAAAAAAAAAAAAAAAAAAAAAAAAAAAAAAAAAAAAAAAAAAAAAAAAAAAAAAAAAAAAAAAAAAAAAAAAAAAAAAAAAAAAAAAAAAAAAAAAAAAAAAAAAAAAAAAAAAAAAAAAAAAAAAAAAAAAAAAAAAAAAAAAAAAAAAAAAAAAAAAAAAAAAAAAAAAAAAAAAAAAAAAAAA+f/v/+X/2f/M/8L/uv+3/7b/uP+3/8H/0f/d/+//+/8FAA4AGQAiAC0AMgAyAC8ALAArACMAGgAXABoAFQAUABcAFwAYABgAGgAZABMABQD///T/6v/f/9H/zf/E/73/v//B/8b/y//Q/9f/2//k/+//9f///wEACwAdAPX/rwAyAIT/GgDA/9L/nv/V/5//DwAiAB8AhACJALIAZgGMAHIASADe/7z/Hf8Z/7kASP9W/7X/zP88AKz/6v/V/8oA2f/n//r//P+R/4r/JP9x/xYAZv97/8v/CABEAOf/JgAAAEYAMgAlAEUATwBHAEYAPgBeAFUAoABcAGMAYgBLAPr/sv+p/2X/sv+w/+v/rP/W/8z/5/8EAK3/7v++/8X/mf/O/xMAsP+///f/EAAAALz/+P+9/xcA1/8kACUAFgAVAB4ANgAiAEEAOQB8AIUAPgA+APn/AADk/+3/ov/B/8z/nf+M/4b/mv+X/4f/h/+n/6v/sP/o/9v/GQBMAEAAVgBwAH4AagB0AFoAmAB4AGgAjQBbAFEAYgBoAFcAUgBKAEYANQDq/97/5f+5/5v/gP9n/1T/IP8k/zb/QP8p/2X/dP+f/9b/yv///zAAJABaAFgAXQB2AHQAaACOAHgAfwCLAIYAgABeAHYAJAAfAAwA2v+1/23/eP89/0L/L/8M/x7/Lf8n/2L/pv+4/wAAHAB5AJ0AzgAdAUIBRgFnAUAB7ADTAG4AEADw/3v/Iv8X/7z+sP65/pP+q/6y/mv+T/4d/q392f0g/gf+If8TAPwA6ALyA+kEKgacBk0G8wUVBY4DCwItAKf+TP3z+0f75vr/+jz7z/sU/N77aPtq+6L8yvob/Cr+Pf6SAYID7QSQB7kIYQhSCKoH0ASXA7wAVv5B/Z77kfpH+wb8Hv2+/w0B1QLKBJgEzASrA2MB//4q+0n27/Wy89bvkfQN9Sv4Xf94AlEHJw1PD4cPoxHMDk0LiAkAA13/m/wF+Ab3lvaH9nv53vvn/RgCKQTSBe0H8wZfBUoD0P7H+Xv05vP77rTt8PEY8kT4Xv9qA0sKHBCaErkTPxUjEbQN9wmkAtL+U/o49Z70tvPk86z3mvqF/ZQCPAVlB00J4gc/BmADDv6F+CDyXfFN7dzpAvBR8cT27/8JBcMLzRKCFdYVUhcCE/8NlAqgAtf9Dfpa9EzzQ/NM8z333fqo/TYDZwZRCEgK5wiQBjAD6/0k923w0u8O7GfobO9H8Qb3fAH3BsgNkBWIGK0YxBllFUAPbwumAn38u/i98kDxTPL78jn3+vv3/isEfwemB9QIAgdLAj//Qvqv8s7sie05633nffAV8874mARUCQsQaheXGUEZqRlwFQUMQAvGAqP8l/oA9DzzBfWw9An5Q/0K/4QDYQb+BbUGFQXIABv9gPgu8hvrVOoW7I3l/+1q9Mf3lgQLDCARVBnQHG0bDxsdGAMPgAuSA3X7UPnN8xvxOfOI83j2X/tj/iIBagU4BsAEDQUWAgL9s/nM89LsSelM7e3m9Olv9ET2IQEwDNIQRhnXHgMfgB2CHH0TJQ0UBxT96fgL9CfvePCf8VPzDPlO/GP//gT0BTgGEQa4A7r/6/p09t/tZ+kX7q/md+nQ86v1UgCUC5cQSBhVH+weGR0DHeQTGA5oCAT+U/oi9sDwyfHy8qHzCfrt/NL+agW7BTMG1ga6A20A2/zq9j3wjel56Vbp5uRa7KfzxPhEBKINIhPlGpcgph12HecaWhF/DMgEUPyh+GbzMPAp8eTxQvUj+jr8BQK4BaQGVAhqB/wEdAH6/Hf2ofAQ6O/ocucV4jLsrPF59zgFmg2gFOAdbyNcILEhxR2UE4AOAAUg/Gv29e/064/rr+yo7w/1n/jW/8UE1gbMCqMK1AhvBn0A6fnF8aHp1enI4nXgiOnE7Cn03wJAC+UTfyCNJLUjSCjjIRUZmxN7CN795PZS7qvozefu537qJ/B39vf8sQPJCdYMLQ5vDY8IqQKL+eztK+v44yTcm+FX5V3q5/dSA6gMHRqxJBwmzSp+KlMiehyuEtkGyPwg897q/uU75GHmyOlO75P4lP5EBiMNTA5GECoOFAhSALb14Os06PvdJdsX4X7jgOyu++gFHhI9IZ0o7ytFMUUsTCX4HbYQhwQe+ljul+Ux4i/hT+OP6GLwO/lxAVgKBg+wEasRvg0vBmn8p/AM5zrh0dbd1lDc7N807ff7lgj2F0Qn5S6PM9g3MTI4KswgPBK1BG34LOvF4dHe+NzO3t/lVO1898gBZgmSDnkS5xHCDBgGafvd7RHmSt1V00jVedgM3sPsoPozCTAagylsMSY4BTxHNksuGCTTFIYGUfhH6qfgMdxj2SLbW+ID6tnz4P9TCE4PghTfExYQKArh/rHxtek/36bVedaf19ncROod+MkG/xbIJ7sw+DdVPRw4TDGWJ8wYvgjU+QfsxN++2YTW89Z63e/k8e+W/O4Fag4EFiQXLBUUEScHA/wW8O3lfdxu1RTV/dh84JvsrfuCCzgbRCn5MkU5pDrFNSkuaCK6EpQDcPQm5/Lcvdb71QXYlt1S6Xr0jf4rC/ITLBihG3YZQxOYC4sAUvTP6X3hPtqh19/Zn99C6nD3vwSQE0whXSslMXkzRDElKYkeMRGUAjP12ed63h/ZXNZz2VXgLugT8+r+agmUERMY2hvdGvoXTRHNCDAALvZq7QTnFOMC4sPkE+pr8VL7dQUbDlgW2BwpH9Meihu7FEMN0wNi+cXxkOoG5dbk+OU16W3wRPgmABwItw6lE1MWJRZwE/YPFgphA6f9Evis80Txb/El83X1+frl/xAECwmHC0wMpQwhCk4GUAJF/e33qvSl8L/u2++L8Njy3fdl/BMBnQWzCfoMFQ4EDmsN3wrrB4cE3ACF/hP8o/pS+6L7wf26ACID4wWICLAJbgmJCFMGogI8/9n6BPet86LwzO+f71vwWfJH9eT4X/wOANYDGAaPB38JIQl3CPcHZgW5A4kCJQCP/5b/Nf+FAKEB9QLNBBQGBAc/ByYHTgavBHkCrQBI/pL7rPkW+CH2XvUh9Q31cfZA94P4Cvs3/LP95v+WAMcBzQLWAnEDSgNYA4sDSgOOA5ADZwMrBGUExQQ9BSwFRgVlBe8E4QRSBFcDBwIsAdX/+f2z/Nr6x/lP+dv32vdS+ET4wfm++0T8Zv4qALQBAAMXBNQELQXpBDcEpwMEA9wBNwGsAGUAAwANAAsBYwHiARIDaAORA1oEygOyAtYBTQDe/pX9IfwA+5z6Efpy+l77BvyU/Vv/oQBhAkkDNgTPBEsE7QPxAjQB+/+M/sX8Cvx++/P6ifv1+yL9pP6u/+8AIgLxAkIDYgPDAuQBQQHZ/wj/Jv4Z/UT9sv0p/jX/bAB/AbkC0wOFBGAEfQSyA+ABCgFO/xH90vt2+vf4z/ht+JH45Pmr+t772v1x/6gA1AHEAu0CeQNOA+gCFwMgAt0BBgLiAfIBWQIJA74DMATQBNEE1QSZBIEDnQI7AXj/Af5G/KH6oPnk+Mj3AvhH+Ej4rvnl+oD7Y/2k/jf/cQCRAS4CIgPXAxUE6QRbBU0F3AUkBiEGUwbTBaYFGQVYBFoDVgI/AZD/gP6O/Sz8R/vb+t/5Rfmg+c75APrr+kf7H/z+/Ir9SP5E/woADgF1AqQDnAQNBukGswcoCEsIaQiZB18GJAXiAwgCnQAs/yz9Mvxw+3P6/fkP+gb6yPky+pf64vqT+xj8kfz+/Hn9lP0L/uj+aP8fAGABjgLmA2UFaAZjB8cIGAnJCG0I8QaOBX4DagF3/x/9afvi+eT4H/gz+B346Pio+e/6W/yg/UP+k//vAIEAxAAYAagA0QAnAUMBvgGnAtID0ATDBdcGTQe9B/gHugZQBpAEKQKMAK7+A/wp+lz4rPbQ9UP10/bw9lr4X/qI/cICJQTEBMkGOgdbBIMC7gAn/tv96Pzh+63+TgGiAHsCkQZ+BvkGlgdvBvMFYATpAd7+K/2g+hf4gfaP9Rf2jvZO+KL5uPor/aX+OAE3AywEoAXjBnUFxQb+Be0DHQTtAlQBMQFaAeX/+P/qAMT/rwBiAZD/sgDRAG4Ajv5E/tH9nvzs+0D6pflD+eT4pPlf+pj7NP03/qUAJQTVBDkF9Qb2ByAJLgfbB30FnQLHA8kAzf93/NL9zfxa+mz++Pz8/E/+2/55/1L9Gf4q/FT7Avw2+l35vPja+mT7Nfv9/Jn/zQD+AsYFcAaBBkQIMQj/B0IIRgbVBOgDFwO5AeIADv+M/Vr/8P0l/M/95f2S/YL/Y//X/Kv+I/99/H/8L/3Y+6H8X/7S/Sr+VgC0AbkAigMpBUoFRgcVBqkI/wbcBsYGPAPHBCUAzwFP/0z8PQHb+6b8Z/1v/ff7Pfyo/eH51/zI/Pf5QfqO+nb8jvlC/Y/87v3r/msA4wESAdUFzAMDBfYJ3QWVBswGmQY5BmwBBwM1AJX/5P9F+6X/ofpL/jb99PmcAJv77f+C/Zj7oAGD+cj//v3s+Uf+dvq4/yX67/xwAYr8ogL8BHkEIAePBmkJCwQ+BzEF7v4fBJn/4P2c/u38Wv2o+4j+kfvq/M//rvsXAUL/Zv2f/+r9Jv+l+9397v1h+i3/kPxH/oQAFP7NAvcBiQPNA24EpgeoAuoFzgTIAbIDLQCr/3/++v4g/3L64fxl/a36RPtv/ND8Nf2J/TMBiQArAT4D2QHyApoB9AEyAkj+swBn/3b/6gDZ/9ECugK2BZIFfwTRB+8DdwN4Aj7/6P3a+vL7p/hb+D37jfhQ/I39sv2q/gsBGAS6AdgDcQayA9wDTgU4BDsC5QGmAYQA2ACbAOv+tf8NAXT/TAAGAcb/mf+8/3r/g/wl+8H8+frU+V/78PzI/An+UAEEAc8B7gNbA1cDGwTUBL8DGQN1BRADVgI3BTgC6f+RACH/Gfyu+tj6yPis+CH50fc1+dX38/Yd+Xz5jvoK/j4D5gYZC5AQ7BOZFXMWuxWoEkQP6gsKBjYCFAAI/ur7kfuL/Pf6T/t4+pj1MvF/6uniDdqi2BnZgdiH4zHxBv9/EO4e2SpiMD8zly8fJYobbQ1w/wD0/utM6I/mWOwK8p36twf3DyQXxxy8HS4bLBN+Csr8Ou1Q3+vQEcL8uZK9DL0KyDXfL/O3Cz8moTlLRCZKDUkGO0sssBtTBc/zB+gq4FXbs94f5wLwf/3+C6YX0CCVJqsoEyQXHi8TTgO+9VDmKNauyKu7J7FEs0+2T75g1dHtngXnI4w780oVVYBV6UouO4UpiBF8+urpPdwO1cbUm9lC4onwtwGJD7Ad1SiFLFEt1ikwH7MQQADa7G/ajsmFtTunuajXqAex8Mv94/j+6CEXPeFOVlq0XnRUQUUWNDEZ8P9M7Ebb/tCLzMDPwNck5I323gUEFJQkYir8Lmsx5icMHZAOLvs76LLTrb8bqzqkr6N4pAK7o9a98jEZRDu7VGJlk2wgZ6ZW4EPVJiUHg+7z1iDHmL8VvjnFj9N/5y784g+SIsgt1TVOOIIxoyaTFnoC4/BS3l7JHbmZq1yj2KZKrPHAMuDi/OAh7kVPXjlvi3ORavFXVT/LH0j+YOLLyrG79rWWtujAaNAt5x4AFRb4KnQ5n0B9Qr07EisjF1kC3+mh1ITC4rCIoz2gLKXlrg3IwujSBwcubVHWZsJyGHOmYzdLji5hDCTr7c8dvQ2ytLBXuVzHI9zc9ZAOgyWTONhDvEfDRF84JSTODcj1ed0GyB+1bacWnp+dD6cNtsDQUvIUE+U25VaPadFxaG8gYJZI0SxRDfzuZNcTxle92bvywYTQpOIh+V0RSiVYNAU/X0HROREuRBrxAp7uB9qjxu+2gqyEpKKiSqwNvKjUOvMqFI01o1IUZhZtsmmSXaBH5S2cEZ709NzLy3TBV739xObUb9v28vUGKhnIJ0oyiDYrM4YpwRnsB1z2ROOo0dTD57cArq2ovqzNuRXOYuldCdgqU0oqYGNqRWqrYXJO4jVHGsv8W+L+zaLAO7pmvHzFMdUP6XX/nxM2JKwwDTdRNlMvXCGjD8P+Xu1g243MJME4twuwG7EyvDHPKOehBYgmnkWEXMtolGkBYZZOODbEGXb7CeDxygi9F7ZUuInBLNH65en8oRLYJA4zEDq6Omw0PibzFFsDa/GX4LDRucS+uvK097Sxvs7RMej9BJsliUHuVVBhHGFNV5NEjyyzEMzzoNq/xqG6X7apuGDCwNN56VIAbhYFKTc2RT7qPj44LCs4GskHpfXD5ALU6sXXvEm1mbIkutLJGN6A+LgW3jF2SJ5WYliKUZ1CiyxKE7D5XOF5zcnBOL30vlfHV9ax6fj+DhVVJw00fTzbPUg4oi2lHVQL0fpU6xTccs8Ix0DAk7v7uzjD4tCW5OT7xBO9Ktw9A0eLR65A7DPkIR8O6Pm155jaBdMf0UnUcNw56eX3vgiTGZMmQTA/NfI0Li84I9wS2gGB87flE9lcz9DHgcLLv0jAd8gR13jq1gFPGoovMT9HRx9HRj9xMYUfLQzl+ZTqpN9k2l/Zj93h5TPxl/7LDM0ZMSVRK0MthirUIhkWpQY2923pDN5Z1SLP9soMyM/Gg8nH0SDfdvCiBAkZ4CobODg+HT1CNoEq5huCDMP9z/CS55Di2uEs5R7rqvNm/qcJ6hQnHlEjFiSNITcbrhCEAyb3f+wt5Cze7tn+1t7UB9NW0vLWteBU7ZT8Qg3hHGkpGzGQMX8sWyQpGgUO8AGW91rvHeqo6Knp8ezU8qz6CAQQD7cXFBzxHvIdVxiFEEYGEPtL8lDre+VJ4H7catkD1sDUBtmN4YDtY/0NC7obKyhILhQugCkEIpwX3wv//zb14+w66KPmBehZ7BHzQ/tKBZkQ0xidHR0glR9OGyoU/woWAYf5xvJN7JfnwOMT4JDcANr8243iQeun92IFEhN9HhclPidRJdwf9RfnDRIDSPlq8fvr9+k365Pu9/OR+90D4wwIFOQYPBzEHJcZOBQADXwE0vwe9kfwuOuR54XklOES3iDdouC25j7u9vgjBK8OWBYyGowbQRrBFukQMArgAlT8bfdE9NLyMfOa9Yr54/4oBacLuRDLFOUXqxebFRoRaArkBFn/uvnW9APxEe196dvkReAS4Gfi+uW47JL2/wD/CosS4RYrGW0ZEBfSESUM+gVAANP7G/kr9yX3Xfh6+mH+LgTuCRsPyhNCF0sYzBbMEvUN7QhTA0/+K/q99WvxIezq5OPeM9wl24PcDuLm6lj25QH+C4kUvRp1HfQcZBmdE4MMQgWQ/lD5hfUK8xvzY/Ux+qwAtwfHDosUhBiSGvkZ6BY0EuwM5QcKA/L9vfgE86TsSeWU3SDYCNaT1pbaduJj7X76jQfyEsQbWyE5I3wh2hwnFWQLowKm+lH0be9w7fzu1fO9+rsCCQu1EhkYpxoxGmEX3xIODSwHrAFc/JT2OPB56vHkad7W1yHVqtV/2Cjf2ugz9HoBrA4eGe0fWSP5IlseuxfdDv8D7/ph9BHvTOw07uLyM/kVArwL/hMJG7IfOSDMHVIa0xXUDu8HIwG5+nP2XPER61vm9uO34SfgaeFC5O/oVvCC+BcA5QaVDAUQeBHpENUNowr5Be8AR/2N+sz41PiS+mL+9wNwCowPmhO8FwMZJxh2FjoTUA4GCRoEOf5k+aT17fGU7mTtF+0Q7hrvhPAP8hT0Efaf9xX4i/h5+KX4aPhH+bv5yvo7/GT+JgDMAWsENQf+CGQL8w0MEHwRkBI5E0UT4xJCEaQOtgtSCHUEpwA4/Wj6hffx9bn0JPS589rzdPSn9Dz1x/WB9cj0KfTk82bzO/SH9Sn2bfd6+Zj84v71AL4CSAXYCIQLeQ2RD6kRvxIrE4sS5BASDpEKDAdJA8T/BP0T+yP55/eV95b3ZPd69k/1TPV69d/1B/Ym9vL1g/b79ir37vff+Cr6kPsX/Sb+v//IAZAEvQaHCUkMHg8AEsgT1hQPFdoTABFbDYcJ0QVNAsf///2p/Jn7f/rG+cH5nvn++MD4PPkc+V/4pvdl9t/1t/XX9UL1ZfVw9sD3GfmL+hr8oP7fAZYEkgdjC0QOPxB/EegRZhA3DpQLbAivBTUCCAAO/gT96/zv/LT9/f4SABkBdAHhAPf/lv6i/Er6Hvi49nv1ZPSU9Br1YvUq9uD3/vlz/L3++wCJA5cGsgjzCRoLfQsZC2EKgwifBhQF1gNPAp4AAQDp////bwAIAQEC9ALvAkgC1gHFAP/+Qv3M+qr48vYJ9ob1TfXP9ZX2kPfl+IL6nfwq/74BAQSbBZkGeQaEBjAGVwW1BJED1gFsAdsAhQDAADwB4QEWA+UD3gpdFJ0Vpg2aADP2T+8W7PDs8+9X9EX4wfrA+4X7Kvsq/I7+uQGhA0MCNACS/vr9R/69/hn+sP0N/6kAVQLaA0EFVwZTBnoFWATzA84DIAQfBGwDlgK7AS0BIQCe/jL9zvzY/O/89/tT+pL5pflu+vf7Vf04/vX/5wHaBpsNqQ7TCbIA9fen8mHwMPEY9FP44v0yAs0FigrkDoYQrg7HCtQG1wJf/7T84/rf+B73lvaA+Pz78v6DAWkDqwP8AioBjf7h/J38n/ym/Lb7J/vC+4H9qQFYBvgIPgk3BowDcgH+/43/2f8sAXUCBgPoA1gFiAadB2kIGwmmCBEHKgQYAeL+l/1P/a79Df7R/v/+s/5z/m/+N/78/X38Kvqb96z2sPfd+Cb63PqN+yr8Jf2//uz/ZgAaAdsB2gJxAz4D0gIjAlsCdQQ3BzoJjgoGC8YJKgjhBasDuQKYAa0AQAD1/kD9q/u4+RX4K/cO9pH1UfVa9Rb2kPeC+If4vvcs98j3EvnH+mH9oP+uAVcEawdbC4EPMRPRFWEWfRWkE3UR5g46CwAHowJL/o/6h/dK9anz1fFI8Hrv3O4H7WXqyOY64oXeYdz62jjc6+GM7bMAlBb3KZ043T/NP4Q6si+UIccRQgGi8rjn5uFp4nHplfXMBL0TOR+pJoUpVSetIBUVbQb69SvlDNcJzJPD0b1NuFmyiKw4rqi/YN48BQIsSUmoWgdh4lvlTiY8uCToCqfxx9qayk3E08ge2JHt4wMqGLIoOTRbOz491DjLLeUcRQiM9Hjkodo21jPUn9IW0ArLx8Ouu2a0Dbq/0HPwexTiNMdKtVnRXmNZwE1FO2IgDAK34mPHk7fUtFu/wdWf8EEMHyUOOcZIRlJRUX9GmTHCFRj5M99fzY3Ef8DWvMG2vK1wpAqf1Kvrzoj8HSuSUZBnknDzbR1fS0k4Lm8Mo+kBySuwoqSxp0e4NNM+8fYNPig9PjZPCFqIWpZQUTzQIHkDJOkO1OrGOMAGu6K2nLKgrRyq3KutwMHm4xL2PJJcTmxGb9FlYFGlNmMXRPOX0M+zTqCVm2WmS74H4NADQiSNP8xRm1vYXDdUMEMdKxAOePKE2jvKvcPjw5nGfMm/yfbGn8HKvNTKVuwdFNA5CVSDXX9dXlS8QpAs9xGp8V/RUbWNo2egaaznxJ7kfwS3IT07v09rXIdfDlZeQtEntQuw7q7doMgVwjfFTst60GbTb9ISz/rJmdFF6tgL1SzkRLVPLE/NSMY7sSlXFaz7Fd5jxH6ysq0xt2PK8eTQATwbzTHnQsxNnlPmT01AyiliDmD0YOAO0pnML8+O07/XYtsK3O7ZAtRJz+HcMPgvF84zfEMaRrtDeTp8LX0fEwvz8B/XD8A/tKy2k8J112PwPAZQG9kuqD3rSGRN3kUJNlYfowNU69XZc9Cl0TTXRN1A4tzjPeIJ4LXaeNlT55P9HBR8Jtou7y+4MBEtZyX/GoIJvfHb22bKD8OVxq3Qzd+M8ukDuhXXJxM4s0XPSoREejUeHwcIdvXf5jPehdmI1tPVUdfZ2A3aCNfy0enYFOyFA3YaMyrUL9gx3C+KKfch0xYYBQXxHd3NzSfIa8u/1c3kiPTIBO8WkSfCNtFBmkNdPYMvVhzOCX75Re2n5a3gEt342+XcgN4+3v/XVNHW1njlbfrrD9ge0CfLLMAsNys5Jzwexg7a++vmhtZmzizPk9h/5WzyYgAXD+0e7DAZP+1Dvj+0MT8fNwyh+lbtjOS93s7bZNue213cntu11nPS5dbe4tTzuQW0E58dpSWGKkUtjixbJtQYdwW68B7g6NdQ15XbWOJe6i/0ngHJErMlZTVkPR48FzEYIPAO9ADN96zwGenj4fzcq9lr2E7ZDtgP1EHTOtru5dn0kwN9EKYcJiZiKiErCycaHqUQowBf8OXkF98k3sThKObN7N34TwoUHWQt7jZ6OFky0CcGHPsQFAlQAQL5cPC36Ajkb+Er4Drf8N4J3Z7aI9sd4DXq7fe7BVERxBnjH6wiuSENHAYR+gO0+Czvi+hS5sDn3utW85D/4g1pHLcnZS56L3gtTyjKHsMUqQv2AS/5FPF+61zn1eQo5fLjVuI7433lEOTH6DzsXPEm+xIBBQV8B6IJXQy6C+cIGgZ8Ar7+nfuz+Wz4vPppAGoHTg/tFeMbiCDAIhYjuyBTHAYVhgveAev5GvSK8GDtEemT5UvkNOX35drno+of7BLth+7378Dw2fBu8Qb0n/fJ+Vn9OQJyBg4JwApfDKsNeg+XEJ0S9hUFGMkYRxhSGewaABrYFLQNAAVY/4P7BffG9Gj07PLV8KTv9+7u7xLyQfIK8Tzur+cz4crd095q4xnoo+w/85P6RwLkCBQO4xH3FJ0XbxnMGREZPRgUGMoXGBbpFYgUZg+UC74HmgLx/jf9qf/fASEDGgPJAD/9MPvC+6f5fPR1763p7OTk3//dRN+v4sboV+258hD4A/19AuYGfAp3DhYPrxB/E44XxRf2Ej8UABgfFa0RnAqABiQGhQSiAYEAzARPCr4MFAr6B6YH6wRX/8H5Y/Jr6GHjpOJA37XcsOLI6yLviPDW8zj5gvzm/qYBCwTXBc0GnQkbDhURLA8yDmYR5hEJD3gLBgioBiEHOQfvBeYFbwd+ChUMKwlQAiMCbgAO+nX1BfIz7EDo/ee56VjtGfEj8GLyBvTK9f34nfl6/Zj+o/41/xMDXQVKAjsEVgZ/BgEHVgYNBYgJQA34B7kIAAxFDNMMdgyODPkIoQguCFgAt/4p/r34l/Tp9CL24fTX8+PzjfKJ9Rj2IvK+8T70Mvk1+CP4JPur/pwBsgOUABECkAQdBfIFZwNVBg0LuAyzCrcLbQwXDtoO/Qx/CQYJSARKA7kDQ/71+fj6KfzG96n48ve59UD5y/Zh8mn0i/dt+vD75vg3+sP/jf+b/nL/PgKWA0D/9fyNAbgBygERBM0HpAnQCyoK8QoUDisN9gkpBcYCBQVYAmX9J/sH/W/+Nf7s/KP5fPYr+sT4g/aO+Ev3KPcz+Xz/of3G/Pv/MAD+/gz/f/9A/xT9PP78+1D64wJuCHQEIwJGCBIL0QkrChgIcQINAsoDjANVBUQAyfnO+3wBZP8C/Cn68fmp+7v+tP+A/uf9Ov+RA50EdwFm/or/uAGm/Zb4qPzp/qL8a/ub/O8AlwQLAuwC6QSFBtIGlQQdARsAUwBDAYP/Cftx+4UAegSb/ub7nQCLALT9yPpS/noBWvtz+jsBjwTdAqX+0/3W/QD/hf46+sz6yf9EAWUARf+xAt4EMgMoAfIB0QGSAmQBxv8e/3cALQBc/s792/0GA2UEwP/HAPEBnvtj+8L+If3x/eD+6vkd+6j9hAEYA5z/IvzO/XT+rP0X/778n/wPAvcCGgMFB/sFUQU6CeIH4ASDBAYC6QEl/p7+Jv0d/YYA/v64/87+IP9B/U78Cf1u+vT60f0//A/8MPsh/vMBn/v2+fcBXQNq/Or8wv6G/WH/BgX4A60CTAVzBvIHRAp0CHYD/QGtBO8DMADOAKb/Iv95/9P+N/09/Hv5+/nF+uf6I/yl+2j9/v0l+079GABKAx7/Ov1LAVcFfwRY/h8ADAEjAQEEFQUjB78FmQNQBDwIygdgBGoBugTNBk4BXQDs/ur9uv3E/Fj6jvcX+UH6cvoc9633S/0p/QX8vPsV/dz97QCyAer/wACaAvIBL/4j/6UBEwLSAbUDzQTvA3YDogUaBr0FGAa3BSsEewQZBA8CMP/1/mP/F/0t/JX6qPll+7n7K/uD+xD9jv1s/ET8fPve+0n9Zv3f/KD9AgH2ASYB6wHuAwUEigQPBlgDywDYATYD9wMCBIYDwgPoBJgFbQXjA2kCdAGiAKn/Vv5H/GH73/s++yn6r/o++4L7mfoy+Tz5aPqG+av5fPt1/CT9Rv7k/pf/vQDNAQQCtQJ1AywDbQL/AdgCMgMQBD0EowO1AzwEmwNjAtoCGQMqAjYB0v+N/yUAXf+4/VD8ivsG+xD6Mvm4+Jj4sPl8+tz6wfuc/MT95f4h/yQACgG8AYYBLAK8AXAAogDAAa0BvAG2AgMD1gJOA98CWwIXA9sCZQLQAdsAfQCSAPL/Of6W/Lb7cvux+vb5kfnZ+VP6Y/tf/EP94v7Z/xgA2ADsAZ0CzwKOAoYCtgKIAm4C8wLZA8wD3QNRBSEGgQbCBjUGWgVkBUgFmwTiAysDEQKvAdkA9P6s/az8EPz2+uD59fls+kX77/t8/AD+8P7d/5EACwFRAVgBEQLIAeoAxAAOAS8BeQGsAe4CAQSqBDIFzQUXBoAF/QQXBQsE1QKyAlwC8QBs/yL+Qvw2+yH7+PlY+WD5pvk8+sH7zfyo/Jj8VP1N/jn+wv3K/en9FP7R/Rr+T/6x/hUARwHKAcoBNAM9BPYDRgOuA+wDyQMJA0wC6wEPAjcB3/9r/v79g/2x/L/7zfsy/N/7pvtG/Jr8xPxX/dT9uf2T/dP96f26/ez9BP5J/ov+wv6q/+cAqwEMAiACiwLBAr8COgLwAWwCqgKLAggCFQI9Ag0BSgAgAEr/Z/56/mn+q/18/d79If74/fz9cf4J/2P/3/7c/Sb+D/8d/0D/T/+Y/4QAKgE/Af8BmgJ8AqACuALDAoACRALhAooDuwP5Aw4EOATlA1IDtQJdAhECNwENALf/xv/a/2D/vP88AEP/w/4//+L+OP6s/TH+hf7U/kn/X//F/zUAmwCdAJUAlADCAAMBGwEmASgB1QFhAq8ClwJ0AlECyQFQAX4ACAAxAHD/n/6i/sD+Kv7n/Rb+7v3J/aX99v15/tj9hP24/nj/fP/B//j/EQBSAIAAuwDIAHMAJwGxAdQB4AGbARcCuALgAqsCPQK7AUMBigDA/1z/Kv/r/hL/9P4G/+v+wP5h/kX+Vv7u/fL99f2t/dj9BP5w/nr+WP6K/iT+Kv5S/pL+n/5H/pL+Bf9L/1P/0v/6/40AtgBAADMAEgC8/zj/O//n/p/+/P4U/5P/d/+6/w8AMgBzAJwAMgDY/5z/8f+7/1j/uf8JAKL/DP/k/gj/Rv9l/0T/j//g/3YA1gBEAbUB3AGvAc8BfwFSAc4AzwAlAIn/e/+z//n/QABiAJ4ADQFLAcUBhwFwAWgB9wCKAHwAUQApAOb/pf/B/8P/gv9x/2T/i//B/yYAawDDADkBRgEIAd0AUAFQAawASgAUADsAIACO/3j/rv/Y/y0AJQBkAJ0AvADuANgA/gBnAS4BpAC2ALEArwCqAJwAhAAEAMj/4v/d/5f/rf8WABsAEwBzAHUA0gB2AUMBJAHpAMwAegBtALAAewBHAEAAqgB8AD4AVgBlANEA4wCSAJwAWQAvAEEAIgAWAPb/jP8z/xn/av4d/vL94v2//db9vv33/XT+u/73/hf/T/+a/6v/n/+Z/7L/i/9Z/2T/Xv9h/zb/4v72/u/+rv6k/gX/5v7s/vD+Q/8p/9T+Lv+a/6L/sv/T/+7/PAAmABAAJwD7/4AAkgBGAMAAUwGcAZMBBgIvAmACWgL/ASkChAJfAhgCYgHgANgAfAAJAJz/ZP+l/w4AGgDO/6b/7v/R/8j/HwCeAE4BRAJDAz0EtwqcD5gIGPr96dbkXe3E+b7/PvzR9jX3iv5LCGgMdghZAoT/gwCjAoQDnAO/AtcEsQggBPn5G/Dt78j9pxYSIp8UKPpA6VXw3gPKDx8Lxf+o+Vz8SQSyB0gC3fNr6JDqjfTr/Ff97fho+QEAIAZFBxYD+/ym+l79GgD2A00EMQJ/AAr/mAGsBekG/AeoCocMmwiI/j72x/cV/pkClwNZAiMEXQeYBxsG/gIXAAAAlP8z/n78gvv2/OQASwP/AvQD+AK/ACgAVwMrDNIO2ghU/7D6u/sb/Nn5VfbL9SD7PwJJB48GvAAP+tv52P5hAdL9PPUN7+LyNvtw/hX9fPqb+Yf85gCvAjICAAA+/0cBYwJ3AD7+t/xp/dwAXwQaBmEGUASlA6UFvgZYBYkCtv4g/6oDBQbeA4j+Ofru+0gAJgDb+1X2zfPv91L+OP+d+5z3/Pch/aEB1wHMAOABTAZYDCcPqQx5BsYC/gQdCbUKywfnARYA/QSYCfMGuv7+9r30ffdn+vT46PFo55XcJ9c82ZfandSU18nuYw1NKPU2nDgNNigxdySMEhwCe/dB9b75d/1A/6kBtAazEFQWARFoD9wTjhDhB24CegR5Cm8G6PdK7EbnTOKg2MbEtKpPlKyNXLIm86woJkJVTVJXlGGwVJsnxva14aPlk/C48+Lv9fL0AUAU+hpqDu38OvqmB2cYQR0QFO4NkRK4F5UPrvwX7AjieN5Q3WLXHMzUu9esOaTtpbnSEhr4RVhO60wlUHhZDE4rG3bmC9ki59X1nfZ+69bsYAIfFIEQlP6n8mX9QxxbM14yiCJlEqALlQgA+3flNNrT2zTeCtq9zgrC0boHtfWrjM+JICNXgFqGSiVCqkifRFoTh9hhyHjbJu6Z9UDwuPBDBfMQmAbe+QL1YAAtG+Yw7TJ0K8cidRltBwns5NXi0GXdouxd5A/QH8lgzkLREL3NrQfpnUOfaLlZjUCiNrY7GiYF6W699cMa3tXxFfr49a/7fg5QFtQM0/9C+R8FnSC1N9896C0OFB0CuPWn42/TvdKk4KXySPql7xDgc9q/2U+21KSn5EpEC2PzRkktNjEpQ4Un29bop9DBdu3gAT7+jfI9/CgVmBq4CWb3jvPUBTkmST7sP2wrwRCPAVn5N+ur3S3gz+7H/LABRPZw4nbW680xtVyYm8IfKlpba0K4Jg8ttUYuO2DvL7N2xdDzwAWR/GrxP/2xF9gbVQM97tfvXgTnIns+AkM/LqYYyQ/LBsv2P+O23Azrrfvw/S3yaODv08rJg7bBmd2v/hXiWkxKvy2rM0dJAUXeAxi9Db6p6Zb8K/RI69n2bBGVFt3+fOuL71IFCx9TNoFCLjjfHzINQgLD9SLm4N7V7HUDpApg+GHXDMNmwj+5Q5GBm0AKZF/AV7A0iTHIR6NHGwNzt6G5A+Vi9iHz1/CH/iAVTxXDAYzz4PJPBJcduTS5QyU9WCTUDrsEt/pB6dLaUuML/qQLBP7g45POl8Rmu+yeAYCNvfk23GLOQc0sn0AJWN84aOASrOHIg/OC+szwIfRoCwAe3RE9+H/tt/x5G54xmjqbP9g4EyM7D3v/Iu1l4knnRfVh/MT3X+oT1/DIv7+IrI6H250xENJdelQEO0E+CFIzSSAAX7eOu+LnXvz89n3zngNjG7EYEACo7/D3IhR1LPI5VEHtOrsosBQDAxDyoOG1237sjwD7/fPqj9d20S/Q2bVRiFmEf+kvVmxdRzPbK2JLaVlkHyDG6q7w2PP7OPuC7yr3JRCzGk8K7PIg8aAI7yKHM3E+mz3sMfohsw2++DLiWNQI3fHwefVe52fXOs5Mxxmy5IhzlOEEjVs5Vqg5DTyvVLZOUQXkvcu9qeEk8MLpxOrB/3YWwBN6BYP/PP9hCzIegDA7RMxBHy2kHfcPV/4d5JHLRNbP+ncDRe4V3lbZ+dqQyUWaD4WG1Hc/rFPbNA8sAEEvUC0mPOA7vzjOROS+6j3qK/ETDBIXYw7lCM4CqAjlHe0up0GnRus0LiZvGk0C4uqh2U7XzecZ8NfrPeU53WjTasKqmyeMTdqXNvtE3jBSMtJKRFO7IN3VcMMX2DDkhOKo4670fBH3GgYSSw2uCwQNpxorMLZFfEYVLmgc/BNHB8TvDti52YruHPjt7+PfsNZO2TjS0ahwhU61pBXVPiMzYyNCN6lVkUAT987J3NAD5L7kqdmq39b99xV8F4MS+wuADmgf/C/ROWI7tS+bJjsf4g5p+/DnOt+H51nwvusN4h3drNuJ0ki3ppbloqfsySCpI+AfhTNYVvdW+SHo6G3cGuE835DWBtWR6u4GbBSLG6QcYxZ5HBEtvTpuOXwj2RWbGb0VzwCX6J/faOwg96/w3eUe4Dfi4t6qyV+r66MY0JAG3xT1Eagd2z78UtM8Ugsp7GLpGOsu43DT7NRO7W4BAQrRCuMIJhTiKW40hTO2Ki0fPB9tHEgJSPer6DHs3vyf/6v3U/l5ByQOCgUy9DnrYe/g82Xwk+lp5G3oWO056wLmWeGP5ELu8fa4+4gB8Qm4D2cTNBENCSgJ/BFBGvIamhDgCskTohmOEL0ArvfL/HAHDwaq/ngARAwfFRUMuvZn67TvjfUt8hnoMeJR6K/wX+6F5VnftOFP6q7vFvBi9Ob+QAkvEFQRNww8DaYWSBwBGUcQUQ6mFzMdyRSvCDsCNwTECKIIBgP7A8wPZhidESUAMfLL7zjx7u0q6ArlB+e37envJeoT5IjmneyJ8L3w6vK1+2MFaAsdD/QNqAy5Er0YMBY/EFQLIBvpI6oYJg0vCfoJnAX6A4f/hv6EC5wREQ1jAYz1MfRx7+jr9uWn4cXeNeIF50niMeHz373m1vKj9Xn45P2PC3wRJRt2G3oXmhm3HQMboRUYDJkOxBU/E6kOZAxiCbcMFw3QB/cBTQTfClAJWf368oHtyeqi5QHdB9Piy7zGTcI6xwbZS+mW+hUQoSL4MdE2uCzMIZkdVBNYAvTyR+8/+ff+2vtmAUsTWCITIqEcBB5+IbEXlQtjBiMDhAK6/kH00+yM6HThhdflyh+++LGQpMGtUNau7y//TBzlQFFZ71MOOOglFx5FCW3po9L00Rff3+nl8E78sA8cJfos8ivkLMgtgyS+FnYNVwfjAp/9KfXf87nxSeZl20/TkctDwoeyLaKarkrdmfeNAyAejkE6XzJe0Dy+JBYdcQrW6gvOXcZ71LLizOk291cNYCTXMws5oDbZNREwriAAEGwDsvwy9WfrZOq56RLjCduY0rnObckYuKCqpMNM8VABcgS3G4BCkFoMSjom9BmrGv4ElN7dybzPXNya4ELon/8BG+8o1TBEP6VH8z2RLMQeeBNGBW7zb+iH6hTun+0P6+bnMeT63BzTFsWKs+nB+eru95T4Dgt1K/VGZj95HhATFRYaBQvlstAx0rfdV+MX6xz+nRIpIfouyj0lQgs6WC1qIeIVNASI8vHsTO+E8nDzbfG273ntjONQ0eG98bLAyr7lj+fj9coUTTWZRKEz7CLEIYsWDvqa3yXVStaU2VDdZ+q3AGASjR3dK1Y+w0bHO6QqPSAOGpcMOPck7c3x+PRH8Uznsd7v3kfaJsbOrMSxCtxz8ATxAATPKUZJ00l6M2EmUiHqC1Xob9Oc0A/S19GU2UPwqAjFE2QbRS/bRI9GtjPMIekd0hWJ/0vrtOl18S/wz+Zr4GXdH9q20OW43K6g1ITx4/OqA68jd0WPTAw26ijaJ/oTDe3G0JrNxNE0zU7NPeRLArYQVBR4IHw5tkjSPDIsYSXMH1YNMvlf75X0pfV68A/r/OLZ3EXXZ8ebtIfFAOuf9xcC7BwKPblMWkASK4Iltxle+HTVM8oXzDbMPczd2+f3/AwxFWAdUixXP/1B3jOsKWojJhccBhz32vNm9Wjzte6f55fgbtotzkm7DLgl3s/4Jft/DR0x3EyfTDEx8yJ7IAkKhuBDxovFBMrwyeXPgeX6A30X/xyqItgxzT8uOU8nwx6qGbUL4fke8tHzlPVg8z/rfeT03qjThMLTsqHLQ/Sa+c0CuCOuRcBRJT7kJ6Mi4xQe8HTMBcIHxIbDz8Xr2OL2xw2XGQQjiS+iPFQ8TCw4IQAaOw07+43rceyv8ePuKuyB6lnooOEm1IDAqL3n4qD4Y/hoCmwszEgMS0EzlievIwUMveSOy17FJMOYwFrJG+Gm+2sMyBlhKLo2QkCjPG4uFCTjG48O//oR78bwbPHp7rTuWu3N6VLj4tcvxy3JWuvH+Sv5xA7/MWdKh0VvMTkt2CU3B/7g+80JyZzBEL1nyZrhFPjBBqsWjijbN0JAXDq9LLkjWBp4Cnb3cu5F7mDtFuu96ETnLeZI3pbPrcLo10X1O/Q7+aYZtjxSSes6RzJVNEAhMvk03GfTlsjaub28e9Iy6qj4BAdAHf8y5T/sP9c2TC52JDIUygDA8nrtkup86LzoRedF5g3lMd/O0OHJ1eNm9gX0YQA+H2A7NUFTNMgyFTAsFiTzZ97L1ETGOrpbwlXWfehI9n8KRSOsNd9AdEE8OW4vSyAWD4r/vPA65dfiSONE4S/fL98/343YoMow2MTzt/Zm+PkQHjFBQZo5UjVJOd8rLQqH7QzjW9eYwm693c1E30nrFvtGE5wpAjrRQrg/Wjn7Lhwd1QuH+yzsZ+Rp4Y/dhtv93DDfEN8h1gvSYOr9+3v4OQPPFokzTj3jMTw2NDX4IWwCz+wO5f7TpsAbwWLQcN5/5QX2VxBoJis1lTgAOck4lCtRF44G5Pnk67beHdhE13DXH9Ya1nTZdNXv2xzyBvwJ/7cLPyHyNC01Gy95MastBxiq/LPuoOZb1Q7GVcY/1L/dvOK48q4LmSOWMOwzqzlLOqktcRsODXsAJvB+4WnZ1Nb41fLUjddq3Mfb5+LT9tYAMQMjDNgfojEnMRIs6y5YLLgbmANR9hPvOeDO0R7PbNix4B3k8/AwCAwhiC6TMhI7TT+6NSwmehi0ChD6teft3FTVQtBa0NnNJtNR1xjjbvQs/mAGExNlJB8vPy7LLrgucSb+E7oAxvbD7Dndy9LW0abY+97q41jxkAZYHbMqtS8KOB08MjS4J1waIgy2/CLt9uFG2tzTzdHz0zLYBtr63+Two/u0AIkJOBYVI38nUiVQJGEhkxf9CCz8OPMi6uTffdg22WreOuKt6sb7iRFbIb4nni+VN2w0VCoIHSAPogHd8YfjB9uz1VPTPNSg2T7g5OPU5zvyjP1KAvcDlQqBFjMcSReGEjoSfRDFB1H7+/M48PjqN+Zc4yTnlO/J+fkF+BLMHpoo7it1LDwrxCOOF7EKoP0n8iroR+CO3Ebdl+AU47bmveq27RP0OvjT+KT8nQFEBrYJWQslDbkOuw4dDXYHpwH9/Xj5pvPS8EvzXfo8AoEJhxKcHV0kOyf5J/skcR7GFKkKDAGv9Xbtuegz5CXjBOUg5u3lN+os7Kzpoewe8oTzEvTM93sASQkGCz4MQRGPFLoRWQsnBjcC5Pz+9134D/3lADAFjQwaFlYfLyHfH+oflxymFcQLvAE0+7b0a+536o3po+gv6JTpt+ur6x/qK+pI7GzuO+5H8bD32/5LBaAIuwttD7kRVw6FCaoHFwTMAo0BHQASA+4IJA1vETEVSRpAHDEY6hOZECULYAM8/Fn5cfYG8qTtqex5707vGOzB6zfth+x/53blEOo47CPsXO6v9Kz9awImBFYJDxCREbYPsg5IDhkN0goqCKEJCwzjDJgOqQ+BEtATphGtDSILNgsACEsDmv63+2H6E/eS8U3v0O587QvpleXM5XTmi+Nk4gDmLukb7G/wovYV/w0FYgjCDZsSEBT6EjMSrRGcD1UNowvxCiILiQvDC2sM4AyiDEsMxAzjCz4KcQcRBW8B/fy6+vn1sfDc7IrpZOiw5fLimuIt4aPiFOX+6MHtqfJy+BcA4AYQC0sO0BJ4FXYV8hMFE6cRcw5GDDALwQrECsoJMQoFDaEOpA6TD+gPlQ18Cv4GMQKN/mH5C/Uj8lHvQ+2F6kjp1OgX6LLnHuhI6x3ucfGO9q77r//yBOIJHg08D4QRGBOpEgoRFhGIEAAPfA1uDccNog3TDKcMWQwiDQQMCggPB38FaAI7/h/6g/ny+PL0PPF+7tHtO+2U6QvnDemy6wzu6+0H8eT2FPvK/dsAYgVGCcMJZQsoD7IQyw/JDlUPcA+VDdkLkQuJDBUKMwjLBpMGewRgAlgChQH+/+z+7PyP+nT3s/NS8Gzs8eqK6QzozOdi6kfrDezf7VPxLfWb9hf5Ef71AgIGIQnNDFIRTBOfE08UHROfEdAP+A2cC7wJNwhJBVIEwQNnAtUB1QFfAdUBBP83/pH73vZt9eTxZu7F63Lp0unE6LHoZ+iQ6QLszuul8MP00PZz/WUCzgefC0EPtRSWFvMVNxXnFDUTuQ6PDHkLzQi9ByEGlwVbB04ImQbPBhwIfwbHA4sAvv0Z/IL4bvTA8Pruru3o6yXp1Ohv6XPoGujz6vPuSfK09cf6UQEQCbINCRLbFjcabRo5GUQXkBThEBkMIQhiBcQEsAOvBDgGnAdKCo8KnQpRCoEI1QZWA5j9XPtN9wjyee6j7GrqZOi95OTitOON4x/jw+Sd6+TwjvWn/agGExBNFdkYHx4/ILQe1RmpFPwQ6gpIBFQA+f4DAGMAFQR6BwgLKA8dEAQPzgwBCrME3/5E+QX1se927SXr8OnC6prpHegB5qzmreTJ4r7k+unB7/j1jf7qCXkVAB2zIGIkgyYpIhgZLxEiCzQEWPsz9jb2Hfl5/IkCFwnODhgUphW0FC0RUgufA2H7J/Mu7iLqceZX5cPlG+hd6RvpB+ky6tDnyeJz4eDls+oK7rH2LAO0EOQbZSLOKIkt9ioRIz4amBAHBcz41fEq72fvdvJH+HMCHQ1SFecaVh3GHPoXORDQBqf7Z/KD6mPk0OG34fLi/eWE6G7qv+pY6IzmMOHm4PLoserp8Sn/Hw7yHd8mES9yNno2YC92JJkaMw6O/XbxPuu+6k3sbPCg/LYKlhalH7UlSiknJpAbrBD/A6H25egY3ZHXt9Vq1uvauuBZ5SzmOeaU533hhd2T5fDpLu4b+a8KQx6qJwcuJDkNPtM27iioHvYTwgE28W3pLen06VLsjvn0CTEYPSRVLGQx1S4nJZQZiAl/+GTpbNwl1ArPec4U1CTbdOIs6KrqOewA5iLfP+V452PliO2F/n4RpxwwJRA0MzvWNTkslSTNGbcGj/Vp7iXsTOms6vT2dgbCEWwdKCrnMNstLyXMHLMQ+v3h7NPhe9i+zyvMT9Fo1xPbjOCy5mfpneVt3z7ec+RG5FnkBe8c/0QNjhc1INArmTHNLm0rPicIHgcRWgV1AC/6iPQP9O/23P04BkQRDxzzIHMjfCT2HjQVLghs/D/weuMF2OvZr9go1s3c7eUM78n0kvnn/O773vnA+EX1h/Pv9H/45vwjAsAGYgyQEoAWghkUG00aOhh0FYcSgxAYDR8KEwm8CO4I0wcjBh4FEAQuAjL/yvv89+X0F/LX7sbtm+6w72Px0PGD8on0UfWN9OjzQfRA9KvySfOm9Xn3s/gN+wL/9wI4BaUHBAslDWEOKA86D3IPvQ7/DZINEwytCvsJlwhhBmAE7QIIAr3/Svzq+Sn5xvgA97n1rfYp93f2R/a/9rD2ePaN9dP1ePYJ9gD27Pbq9sL5r/5YAt0HwgraCqQNpQ8EENAR2BLxEOoOmg37DE4MGAyyDFcNkQwKC6kJ2gcwBdwBjf5K+0H49/TM8tfxaPDD73nwGPJx8zL0TfUa9zT4u/hr+ur7SPyo/Nb+NQFPAhgD8gTLBqQH9QfeCMEJmQkqCXQJWQnWCA4JJAkvCQsIWwbiBcoEVwIiALb+jv1b+6P5oPgZ+Oz2HPZC9g72jfX19K71U/ZV9mb2s/c1+Vb6Mfw5/nIAKQIvBLgFbgYYBggGXwaNBY8EBARcAy8DvgIOA/UDWQToBDUFagXSBaAFuQRIBDoDfQF6AAT/Gf0Q+zD5DPhQ9972hPaE9hD3nvYJ93P4q/mx+sz7bv1H/lD+ev+7AFgBWwHJATIDawP7AnIDDgQlBOIDZQMxBB8EOwNQA24DiAPmAqwC8gJ0AgICjwEpAbIA8f+i/sT97fzQ+/H6YvoH+qb57vhm+ej5a/qt+pr7KP0Q/nT/4gCEAYkCCwOIA88DDwO9AuECDwNjAsABbQIyAy4DPgPMA2kEmgSdBLoE5AReBMID7wI5Ak0B8P9//rf9ofyC+xD7lPoC+h76U/ou+r/67Pv4/PH9T//VAEICgwNRBNwEUQXdBY4FAQW9BDsETANCAhACkQIdAvUBugIuA14DnQMZBCkE+wNLA70CawInAfT/xP6h/Q38YPrG+Sj5XPgF+AX4Jfhu+C/5nfrk+0L9iP7o/2AB7wFzAmQDogOYAxUDbQIoAmABrgAmADwAdQBdACgBAgIjApkCtALDAlQCogDj/0//S/4K/cD7Fvs6+gj5yPjn+Bj59/jv+AH6wfop+zX8Hv1w/mz/zf+qAGMBywG7AQECvQL+AqICJwOfA5cDoQPaA/YDCgQhBEsEgwRTBAAEKwShA1gClwHTAE8AJP+U/bP86vsf++T5n/m++Tr6VPrA+pv7n/xj/fL9Df/N/zkAcgCxAPEAbgH7AVECqwIjA2kDzgP3Ax0E7AOpA44DLwO1ApMCWwKOAvEC+gIfAwED1QJjArMBXAD9/qX9ZvxC+4L6mvpC+/v7pfyB/cb+1P8GAE4AgACGAKEAbwCmAKsBOQL9Ag4ELAUpBnIGCwY7BskFcQQmAwMCDAEqAMD/sP8XAHoAqAC3AL8ArQBEAH7/L/5s/Ov6pPnv+Iz4/fj6+R/79/tU/VX+dv8kAE4AtQDEAKkA7wAjAWgBKwLoApcDVQSgBHYEHATbAzoDewIzATgAqf/V/jD+Ev5R/oL+af5N/kL+I/6U/SL9UPy++6X61fmY+cj5U/rP+p37hvwr/UD+Qv86AL8ARwG6AfsBQQLWAkkDuQP8AysEQATgA4cDYQOtAhgCswFUAd0ARgDf/2b/ZP+H/zv/4f7U/tT+cf75/Yj9Lf3P/Gr8UfxO/ML84fwd/az9+v1U/mb+jP75/ir/b/99/9n/fAD+APMBoQLoAloDhQOvA7IDoQMLA5wCMAJeAYQAu/96/7b+4/2X/WX9VP1E/ff8sfzb/Ij8Vfxj/Pj8P/2o/Zf+QP85AMAAcAFZAXQBvAFTAcUAcACTAB0BYwEwAu0CdQMsBNwEIgXdBIYEUQTZA6sCvQEKAUwAdP/f/pv+fv4l/kL+Hv6S/vD+6/7p/ub+9v49/zz/ef+4/8n/HACIANAAgQGtAawBgwEAAbQAdgBXACoABwAYAFIAzQBOAbYBxAHjATwCQgLdAYoBRwHRABYAgv8H/5j+Nv78/d/97v2j/cn94/0S/v393v0J/uj9LP7e/nr/2P9AAGMAfgC/ADABkgFhAUIBEwEjAWkBawH3ACEBhwGGAd0BwwFdAbIAYgQ6FGMKX/8QCFMOLQoRCJn/jvde+aD3RvSH75vrJOqj7nPx9fur/aP5Pf5NCfsHLQdmAzX+6f1i/M/5qvjd9cz0Evqn/JMAaQSbBoUJ8Q2uDWsOnQyfCBsGKARV/8j8g/qO92X2J/YT9gH3Tfqj+6T7kv4bADj/Hf8I/Z/7XPog+JT4bvkH+tn+BgSwCDoPhxTxGAwdOBzjGi4a+hT5Df0HUwF3/BH40fM58T7xfvLc9Jr1svcg+uD5V/kP+SL1+e4M6ufjMd3934zjI+R48Cn/6wxaG34oiDGzNUE0My/6JU0X8AdI+97tu+PM3z7fUuLl6Fvz7gAmDd8Wsh5KI8gk6SGwGdYQwwYM+zrxc+p35fPiN+PI5THqIu0/8B3y8fD37VrnweAU5yLtO+qz9NUIPBThHUYrrTW7NjcwQSjBHHULOfpE7KTg59hD1+bbNeUA8oABTBJhIIAqujDmMc4t3CMBFjgJ6Psb7dzib93t2tHbtOHt6fbxhPolAZQD7QHT+oDxLeRe2GfbCdv21hTl+fvXCz4bky1NO+w/6zwfNfUouRbhAhnzieRQ2lXY9dkT4Vjvq//BD2McPyZuLOwsFibIG8MOFQFe8vrmg94l2MDWwtpr4bvnZfGq+Jf6nfjS8o/uOuaj4NzlVeUY6tz7wwypG8QpmDYUPn089DQLKSgZ8AYd9qnnC9/l29Pc1OLd7vH8NgxpF5oe9CNRIp4a5g9sAqn0Derl4JrcJt5+4rjn9/Ac+9EAdwPIBdEBbPle8d3nkN3l3j3kROXl8ncGJxdpJQ4wjzlAPd43QS7aIeYRjwBU8yfrdeSs4dPmYu9f+ecCCA5eGAEcsBolF2kSGgg/+9XyJ+5P6Fzj+OW968vtW/K5+Vn8svp/+OL1OvDL5zzk6ugD7K3uKfwqCLwURCBPJ7ItHzAYLFolJBzhENsGrfym9LXx9fB68pP3hfxfAbMGzQnSCTMIDwRR/un4xvIU7A3qkOvE6+LtMfIV+J78Bf1I/uf95vkM9qL0hvDr6gLrQ/Do86n5tgEYC74Rgxb7GyMewBwQGhEW+BLYD8UJ7wWbBjUEAAItAlECMwLI/zn+Wv4K/QL6w/fg9j/1d/Pv8030VfUp9Qj2HvbG9xP4ifby9WH00vGi8eHxGPTz9er2wfrSAPgDMwb4CRwNzA0SDagMUw7qDBcLnAxYDW8MDwvNC4kLmAkoBWcFTwM2/i360/uW+GH23vZU+Jn2xfdS+H/6A/pD+3D+ff7b91v+/AHl/Lb9Xv/wAgwDQwArARoHcwHz/90CoASBAMj/KAJYBq8DdwDdBKMIEQa0AeYDKwauAa78of1T/J36WvaX9dT4p/kr9gj3YPwV/Hr+j/0eAfcDqf+nAc4C4QPWAVD+uAFXAfT/nABfAUgDOgM0AdoCwQSyA8IBZACDBPsElAT8AUsHpAhlBdkCZQW/A34Bzfz8+4b+8Pcr+Hr4Bvnr+WX6wfee/o/83vpQ+sH7Lv52+t/7NPox/sX8Tfya+n8AhQE3/YkAxQXzBlAB3gd0CdsJ/AKrBdQIQwWgBbYDkARLBrQEv/7IBwgFpAIvA0IAGgKcAVf8f/eF/7T5bvdQ9Fj7Jfqn+K31dPquAHD2k/uV/ywDgPvK/tkD4gS+AIX85AhxABMDcQAnBJoD5AD6+7gCsAX6+TX93QJwA3n+f/wSAyECAgEh/TT/JQE6/u35vwGF/cL9Mfsx/YsDUP3Q/Q4BfgGvAiwBXwHBBur+yf5//l0Dwv+W+af+2AP8+17/tf7e/7kDqfmKAxwA3QFX/Zb/UgHj/+H9CAD8/iQAGf84AF8Cbv5d/0cBzP79Aer7gP+cBPH7NAEtBJD/tgMvBBEDXwV2AlQAWAMxBDD/Af8UA+/+lQFPAL39pgZYAN398AGiBbr+wgIW/G8Dnvwg/FH9W/7m+1L7ofypAA3/Av8w/6oDvQPm/NkBGgSZ/e39FP5e+wMAGPsg/cP8DADa/Z/+DQNFArD+UgP+Ag3/ygWu/wMBCgKFBX0AIQKhBRQFXwEkBZ//fQRxAs/88/sx+/oAfflZ+l795fz7+yoEKvsjAsACyf/+AJ//MQVj+7oCxvwsAa7/mPzBA6T7/AVU+7QAjggM/MsExv5RBVcCuveOBSr9yALMAMD8Pgjc/q4FBgND/5QHA/zC/j/9FPvt/Tvycf2q+ZH8cf2P+ksEKwCPATcEpACnBsD/uv/MBBkA1fzr/fH9tQBJ/k37LAXC+4UHI/xyBEMCzv3hBRL65wNu+7YCvwFl/h8EbwDHBXoDkQLiA5L+qgGC/mz7c//N9oD80/q8+5j9zfjYAkj+sf7KBCX9FwWY/3cBmAJt/+X/GPtAAzX+h/2e/0T7HwXc+RQAiABM/PEDwvXfBE/8sP2M/jv7QwfS/aoBCwQ+BfwECQKWAD8GAABe+/b+qPy3/QH7rPlzApj8y/1PA/f/lgjX/vQFcQRCB9sBDwFsBaIAbwK0+Z4GVPwF/lb+PP7KBOj5cwKq/68E5gAC/0AFoQIfAzYC8QIQBmgBbwWrAjQDXgSc/cwFsfgOA478U/gXArj4ov7r+x/9JQAm/Yr/6QNU/IUHBP5tBOEDJfylBnr8JQGhAVb6DgHf/Kj8LwIG994Fi/qUAa79ff3cAbX7/P+XALb8PQP4+rcBKQHx/6YBtP4TBLj/bAE5/tkABP6i/xn+Bf60/MX/Rf7T/d8APwIvBG8CogWPAiUFggSYAKADpv0xAn79w/q7AOL6s/8L+y38JARz9nYFMPfmAoQA+PlsBDH4rAW8/uT6TwS5/f4CJABx/RcH1/t6/zEBCv6LARH5Jv+T/eX66gBD+XoDEv2YAh3/+gKoBFUAWAQY/lgICf3xAbb/0wH2/dL9Sf+xAvH/nvppA7n6SAmq9rsEHAHq/nIA1v1iBJj8LQB+/X0DLAAP/fkAqwFRAXr9oQFyAfr+r/7Q/c3/yAEk+tgCcAB9AVUD+v1KBxcClAP6AiADjgOTAV3/JQG0/dcCAv0J/ZMAm/0K/roAePzf//oA4/vQATX9fP+8/538OQBj/4X8RP6a/qP+tf6v/0X8wQLj/KYAcAOJ/ZgCkf/oAX8CHQCdAc8CdQE4Ar8ChAIyAhEC7wBvAwMBzv1AAoP9XP8C/pUBWvq0Ajb+wP6zAsH9twMo/qECQP9NAz//MgIuAPT/QAXo/vMFCvzRBSUB2ADwARv+jwJVATv+bAFlAcsB5v2MAVABpQJI/Sj/PgEeA9X9KPq0BLz6tQER98v/OwCH+pP8bP1xAmb8AwDc/Nz//wTw+JQEWPyRAqEADPveA47+AANC+0MDxP7+BKH9a/93Aq0BSAFY/NcDjv/fAdr6twTPANQBJ/y1ABQCTwLV+AAC8gD9/SgCW/TbCi77MP+Z/sj/XAGvAJv5kAT5AMv7hQHg+xEDXwDz+wkDkgA0/48EfvvLBsz8qABTAib96AO//J0B6fxEA2n+Qv34AEgCov0XAGUCkfzOBTL7VP9BBFX7ZwHX/7f8ygGtAGz6qwPn/335rAeo9oAEsP4Z/x8BAAB2/6kAygIB/DkGy/uYBBAAzwDr/1kE6P3XAkYBlf8QBXL+mQFIA5sBzwST/ZcDGgQB/5cBqvxeBAMAef+S/moAygGo/g3+I/4HBJT/h/oGAUMAGv5L/yX8E/+qAOn8ufyBAKT/zf6K/g7+3wbW+UAB1v6Z/0UBDv94+3cF3P3J+j4CifyjAt35JgUz/ekDRvyBAH4C+f5CAHz9zQQw/dMChftUAhcCe/3dAfgASwKgAZv+MgLrA6f/3wOG/u0BbgUP/f4ENP+R/7QEb/zAAgUAGAAAAMP+hv0VB4r4fAIb/0n+bgbI+n4CBQPyAWH9awSA/jYG3ftN/jgDEALY/qz6DAQaBKv7uP01AEkBWQIp+nEA2v81AI782vljAkwC1vir/N8Crf9PAHj7O/7lAc//lPlP/0kB1gB5+4n88wJW/3//QPo2AcoAOwAg/J/+LQPxAMT7GQCaAaYBa/qH//z+6wH5/Q/7bgKa/CsGZvdgAYMBAAF3AKn5YQbx/sH/+gCf/VQE9P5y/wf/eQEIAqz+sP79Adn/SgLM/pX+3gSX/FQCaf59/x0BUv7G/JQDD/6v/7IClvtPBqP6lgMY/gIASAAn/DUDo/1RAfT+oAJAAFsGF/y2BhkAHgEiBar9XwOV/w4Ctv/dAQsCKAPvAO8D4f9U/9gDxf4UAsn61gJS/XL/vgD5/LcAqAHA/9j/dQOf/z0AuwChALsBdP+q/kYB0AEc/+3+QwFmAE4BJwHAA8MAYwMfABwFAAAQBbb8zgIEAq39AAEJ/j0BnP7z/4n+HwH7/sr/xfzAAPT83v/t/c/9Qv7G/m79Qv5PAFz86v5y/Eb/LP5y/VP+JP05/rn+B/7S/9H9zP3O/mL+qwB9/wv+AQCm/w4Bbf0TALwCtf9iART/9QE8AMUBwP4CAVkCiv9I/SYASgDF/QT++/7l/TMAxf29/BgApv0j/s7/Uv7kAdL8EQKC/1sA1gAi/6oA6v5CAXn+ewFX/twDOwAHAckBJgBvApf+rQAsABEB//7W/53/9ADG/q79UwMhABQD2wD6AHAESwEJA8EBLwHVATEBPgCNADAAJQH3AZP/bALeACoBmQEBARsA5QHE/qgCYv/s/yUBsP79AOUAMv8nAbgB1/1fAGv+XACZ/z/8yQCK/88ATf9x/6UCkgDhAGgADgF0AvkBkv/1AMH/Vv5T/zX+Uf2m/qP/cv/x/eL/v/8yALEBeP+RADT/bwC2/jf+o/5N/uX/I/38/sf8CgBw/2H8gv4b/nsBev4E/Rf+hgFx//j9Qfxd/iYAk/wE/ln/lQAiANT+yADWA3UAYP86ANcCrQJL/+v/TwDAAjoAtf4UAeYC9QKQAL//dQKNBPr/LQAoAVkC9QGg/84A2gEXArX/ZP+QAcYACP42/oL/2wFqACr+bP9aAf4AsP7j/V8ATwBn/eT8+P3Z/7f+/Ptn/h8BawGN/hz/1gE7AyYACv8uAMEBzQF2/ej/QgFOAvIAw/8SA+cC/AHpABwBuwEpAsD/j/7xAIj/AADc/2T+wf/E/3b/Xv+//l7/x/87/g//iP5p/7X//v44ANL/AADL/8b//P+X/xT+CgBmAJD9JP+AADoAcf8m/yoASQKvAKv/vwDUAqwCHv+6/9r/kACN/5f9A//6/4f+9P2s/aL+3/5t/GX8Gv4W/lv9d/x8/hb/3f6Q/oL+WwBIAKP+Kf9oAIz/9v8qAI4CeALDAM8CWgThA4YD+QOwBdMEzQLaAsMCFgLoAJ0AvwBKAR4ASv/6ALb/Q/7h/BH98Pze+vb4UPl9+hz6Bvly+Kn64fsZ+fL3Zfk9+Sf4fveL+Qj+twADBMIHDw7PEk0UsBQVFgwXAxLbC+gHCQbmAhj/+PuR/BT+zf3u/cn+hgHVAHP/zv1D/En6rPS+7jDqQ+gF4Q3bA9g22WHl5/N5/EoKxRrmKMYvLC7rK/kl5BrSC//+Bffh78npmejC7wT5YQCPBz8P9hesGkkYJxWPEJEJDQFL+cT1U/LP7ibuJ/HU9E/2iPeb+qz8/fsl+3L5MfiH80js3egX5PLdctZK2g7trPl6/8oMCCLBMdAwBSohKcMjbxNI/3L2RvRN7PbjRenk9kQBZgTVC/8ZKiHSHfgXHxUBEEsET/pi9uvzGfFw8Of0j/mg+1f9KAH0AuAAIf3C+of27+2s5eLeftji0v7O5di870X+MQmvHTY1r0GYP/c4zTKhJZgO6PkZ7zDngd692knkK/Qb/zIHJxJkH7Ym7iIcG1cUWwqj/Lvwpegr5l/llufE7HX0Ifth/70DzwenCEQHCwX+AIj9uvgr8vnsGunn5EzhkttT3FftOP7bBYgR5yfeOV47LTTYMDMqzRefARLz6Olx3hzUp9Uu4XrryfP9/zgRjRuAHSkeURw2FMgHiv4U+fbxfOv76vzvyvTL9zn+fAYICpcJtAjYCdgIAgIu+wv2cO+t5lLf/tgy1mfgG/Ks/CAIJB1cL1I0CTA1LLQkKhNT/TfvjeUi2yzU8tcR5Hzu/vZ0BPUT+BpvHOsbfhkOEt0Fif0n94byZe1F7jbzhve3+pMB+QdgCtIISAoyC/UG7AEa/UP50PF56Knjm98W15nXrOmv+FsAjwwAItAwlC8DKvwnwh73CS34oPCe6OTcLtlk4mfujPYCAcERTh3tIZ4j2SIoHUIRygWA/tj3de9z7EHvKvIf9Kj5QgE6BZ8FvQbEBwkF+v8z+9/2Q+9z5hnhrtwH1dPUOuas9b//RQ+qJYc1rjcRNBoxoyfpEoP+a/Ns6EfbSdZ53Wjnb+8K+2kLPhnvH7oizCRbIMUUOwnjAKf4f+4D6rXs0PAz9Of55wHJCNgKiAoPDbgMEAa9/7f7hPV07NTidN5Q2mjSGNh26ir3XQHXEjcl9S8MMosvLSrNHfULU/x/8frlZ9w722/iKOt38+YA7xC2GZodVCESIF8Ydg0FBR/8T/FP6gvqR+3Z7c3vYfgtAEgCzATtBscELwIZ/8b6UvQ07cTmYeK03YfWGNvw7Mv2if7CEmQmVy4vMuozgy4EIVYQcQLX9ejm1dyY2pDdC+XI7uj5HAjPFKgcVSCwH2IbYBRSDNcB+veg8tfvvu+w8Ej0V/t1AfMFrwkiCzwLIwk2BTwB4PuZ84Pro+f+4gjbod1l7ML1Wv3DDiQfKSVsKBMq2iU2GiwNLAOn+p3wPerG6qbtQ/JP+hcB4wdWDjcSaxRnE6cP7Qu3B/4A8vpU+G/2l/Qi9ev2dvla+0v9MQCTABQAnABR/0D9B/u+9Vfvy+qG5qvfq9xq5xbyqff2BcEYliJEJ1ssJC1QJL4Xbg6EBK73ee4a6xvqo+y78n74hv+IBkYL5A7CDlgMsgkBBTIAj/z4+Bn2DPfu9274f/u2/wUBnAEiA0kDOAGA/xb+nvrg88rtIOt35hLfrt1b6mzzBfgGB5gYCSHZI5on6iebHpMSFgnjAIT3pu6K7JHsiu7489T5wP0hBAYKgAzjC5sL0wpZBl0CJf+q+nD4Vvh4+YD6b/sn/toA7AGMAqYCRQCu/o38EPgN8VPsTuml4/bgiuqE9Z359gZBGBQhWSStJ78n6x9vFEQLdwIg963vgO4W7TztovHa96z8hQFlB0ILKQsXCnIJqAVRAMD9Dftu+Fv3UPiw+s37MPyQ/6sBEQAIACkB9f4P/eH6b/Wl8enumOnl43jmjfHt9QP8MAx7GZ0eyiIYJU8ifhnaD4IIO/++9aLxu/Di7wDx5/Ta+hYAwQN8CHAL7wv/CnwHWgXLAgj+Efs6+0f5D/il+az6hvu9/O/8IP0P/m/9HPsX+Nj0QvBu68znVOOg5cfwKPeb/m8OZhsrIQolPiZnIkUa+A+oB///5/cM8zLyTvMP9eP3WPzAAK0FpAlhCwULZAmfBmoCkv7R+sn3rPZx9+/3kPfc+YX9BP/Y/hEACADK/Jr4e/Rd7zTpguWH4SHhuOxc93b+OQ3yHfAmKisbLuMrPiI7Fq8NdARW+KTygfOi8nTyT/is/kUBYQMvCFUMvQrFB2QGQwPM/c34OPb+833y5fOc9Uf2J/cu+fv6w/pw+ez4t/SF7VrpP+Yb32vareOe8B32ZgI2FiojnSjeLhUy8CvPICEXaA3U/yb01vEz8bDu0/F0+UL+twG/BokLvAuYCe4HkASR/zT64/UR853yuPJi80b2Yfiy+Y76svpT+mf5o/Wu8PbsdeiF4zveHOBj7Qr2sv3cD+YfCin/Lrcx9TDMKTUf6hUoC0b+Q/dc9HXxNPKf92z95wCWBLMJEgxBCRMGzgNv/+r5pfUc9Bjz0vBM8oj2GPdJ9mH4hfnX9+HzSPAK7rrq0+fE5Z7kY+3H+dIBNA3XGmElaSw3LyMvUSvzHf0Y5hFDBzv+Ifog9072jvcQ+vH81v86AugDxwR1AwIB1/2F+rH2M/MC8ffvAvE688D0d/VA9t32BPe29M7v8evA6ZjmfOLU4XfrIPolA94N7xymJh8r+Sz8KnwlUR1FFBkMsQSm/Vn56/gI/Dv+qf4YARQDtQHQ/8v+Xfw1+dX2nPWM9I7yKfHn8sr02vRs9tL3Y/ee9aDyRO5+6OHiHeAq3x/cYuIf8rD8JAe1F8Qlli2IL6MtAiqJIb0VFw1PBrj/pvtu+zD/bwNpBuIHkgphDB0KVwY3AtP9Avh681Tx+O7D7SrvkvHd8031XvbH9xX3M/Pd7Y/p0ef/46Df5uFK7EX3DP92CiMYICMRKRksGyypJw4h/hl8EjULogXFAu0BsAIhBW4HAwhOCeIJ0gc0BJ//7vvg+F/0pu5m7BLtvewt7ATtTu+48E/wQe49603o9eb55Hji3uTi7qr6agTADiMaISNqKDMqqSjdJHgemBgbE10NrQmABugDeQUTCWgKiwgPCLwISQfiAWT8iPgi9XnwQOxx6mXqTepf6qLr8ezZ7ODrlunS5kfl9uNF4tXi8OlA9Tv+MQdSEsEelSYvKf0opiYdIlwblRSRDtwJVAbfAyMD6wNHBSYG7AbuB2kJiAhOBdMBc/1N93nxn+xB6DvlgeQx5Zjlqub359voHOnI6Cvp4ulQ6+PwAPgy/mgEpg3SFzUfPiT+JrknyiYGI+kdTBlcE2MMoQjqBsgEHAPXAw0E0APbBOIEFgMOAeL+Ofvu9mPy/eyP6OHja+GZ3kDcRdwi3Ube4d3d3+/mJvDU9kn+cgmKFWEe3CQZKUYqqCkqJ6EhmhtgFUEPpAk1Bk4DdAH5AC0DvAU6BxAI6gcCCJcFXQEm/ML1k++U6LTjFN4C2jzUGNrF2ELUZNdo27Tlje7Z9mUADgxrFpEePSSYJvImNCbJI3Me5xg/E7QNZgqQBzIEcQOuBIkGFQh9CdoJUgktCBwGTwI7/VX4o/Li66nlW+Bx24zWhtOL0hPS8tSb3efnQvGE+50H+hLwG98hSCTrI2IicR9PGnYUFQ82CuQGdAVMBf8FFQiJC/0ObBEHE2USrQ/5C8MG6v8s+K7wMep/5PTeRdof19nVVNac2KLeNOhS8Yr6qgQ4DwAX1RuUHfIcjho7F8MSZA0aCDoEuQHH/7//RAEXBCgI6Qz7EUEV3xUqFd4TiA/yB/P/8/gP8rPqjuNO3hPbGdgi16DZJ+Cd6MHxuvvnBjIRMhjNG64ckxsnGDMSWwudBQkAePvA95v2i/eX+cX8ogFyB6MMhBB9EmET6BE9DfcGHAB3+T/yRuuz5QviNt/h3dDgEuiy7773agG9C+oTwxiVG4kblxm/FW0PKQiFAVX7svXR8UrwnvCP8nf3lv31AuAHjQwlEEkR0Q+aC90FqP+z+H3xsOrK5PPgKOC04sTo4fD1+usFvRGyHDojxiXIJXwihhu2EuoH9v239Z3uNOlm5rTmIeqf75L1yvvuAb4HVwveC2IKWQerAgH9fPZ88B3sK+ko6CnqCPCk92sA7goXFrEfIyYYKq0q+CZwIOoXvg3oAmj5dfHG6gvn2+bn6A/sGfDs9CT6u/6kAVAC+wC3/kn7wfa28VvtLeoG6dnpxu3M9EL9mwf2Eg8eFCdkLdEw7zC2LSgngB6rE/YHx/wm8jPpg+Lq3pLeJ+B24/7oXO/n9P/4Z/xD/gz+avsy98nyMu837IbqTuz78eL4QgFICxgW8h/WJ6otKjCPL8EreyTYG0kSoAcy/Tz0MO275yXkMeNE5GXmiOm57K/vRvJA82b0ivTR8O7w6u8P8C3yJvaz+ywC6wk0Eg4abyA9JdAo9Cl5KIYkWB+wGKYQNAjL/3H4hfFc6/zmG+S94nPivOIv5B/mS+jY6qDsK+678NnzmPaY+XT+8gOxCDAN3RHpFjEaohu+HNAcGhtaGJ8VBRNpD6MLrQcIBGQAFPym917zfO5x6QTl/uBZ3UvbZdo2213eduMh6p/xAPrxAm4LCRPTGO0cax+YH8sdShutF9QT8g+fDAYKWAgQB4MGagZEBpUFHgTHAUf+9Pnm9F3vB+pD5Qji9t9C4KDiBOfr7I70HP2zBUQNxRI3FhgYLhiqFrUT/A8LDIQIowUIBK4CeQJKAzAEDQVRBfoEWAPdAID9N/mx9MLwx+2A627qHOuP7V3x+fUy+6oAhQYnC+cOtBCiEb4Ryw94DZIKjwcUBYYCiwCs/yH/Pv93/73/8/9w/4T+rP0x/GP6N/hN9lD1/vTO9XP3Qvp4/S0BKQU1CZsM6A5eEHYQqA/TDU0LCQlABq8DlwHt//L+Yv7L/Sb9rPzN/OD7EPqY9/H1BfRn8VLvoe7r7k/v7fBH9OP47v1xAucGPAtwDvgQ6xFREUkQcA7NC7sIPwY/BFUCuQBo/83+c/50/vz9g/2w/DH7avlr9+D0ufLW8Jfv7u7R7tjv/fEX9YP4oPzXAAQFhwk6DAoOARC9ENAPEg50DPwJkQdSBRYDKQEPAHX/U/91/9f/7v+f//z+Qf74/Iz7avnM91n22vTR8+/z5fR59u/30/on/iABnAPCBa8H6wgjCXcI0AdIB/oFxgTxA5oD8gJ2AkcCIwKfAkkC+QHnAdMBAQKBASABcADy/7P/VP/e/p7+ov6B/nL+sf7U/uL+lf4y/r39mP07/bv8k/yT/LT8Sfxi/BD9pf1N/kX/awB3AZgBigJNA60DrAO9AzUEzQQGBZQFLgaHBpQGcQYFBtgFEAXLA38CBAGH/4r97ftO+vf4f/cB9nD1mPXR9Tr2Kvcm+NP5Cfvk/Ob+egD/ATsDYQQSBYMFfwYQBz8HAwhnCHII5wjFCCkIUwcjBo4EEwNjASD/tvxr+rv4Z/cQ9pH1i/WB9gT33fe/+Oz5e/sS/JP8o/2d/gz/sf+qADsBDgKlAvECxANVBH4EqAThBPwEXQTCAwoDIAKiAFL/If70/AD8T/sp+xb7vfrJ+t775Pxz/SD+VP+3ABsB/ADuADwBegEpAZ0ASgBcAPX/ov+D//j/HgDb/3D//P4A/43+1P0f/RX90/yF/D78j/wW/bf9j/6H/50ASwKhA8ME1wXQBl0HUAeXBtcF2QR7AxkCmAD+/s79kvzB+yz7wvol+sj5l/k3+Qj5Rfko+dX5ifpS+/774vyQ/vf/UgHpAlUEtAVOB7EIYwmBCcMJPAo8CokJvgg8CLkHcgZnBJIC/ACz/m/8bvqB+Hr3T/ar9SD1Y/UM9j/3RPgk+fX64/yR/vH/WwE3A7AE5AUMB2sIuAlBCoEKfwrqCqQKogmKCO4H+AYoBSEDbQG5/1L+f/zq+gT6EvlL+FD3Xvem9zH40/gp+TL6wvtH/ab+AAAOASsCOQMVBHwEuwTYBAsFLgVOBe4EZAQ/BGcDggJeAUwAg/9c/vf8AvzG+sf56fiU+J749PgT+bH5vfog/F39d/6I/2kAEgGTAS0CrwLyAgADJwNLAzgDpwIeAlgBzwCZANP/P/+5/tz9hv17/IH7I/vW+rP6Ivrq+cH6bfvP+5P8eP3r/iQA1AD0ARMDtwMsBFwElAQ3BLIDGQMiAnEBqgAAAB3/b/4+/p/9z/xS/Hf8SPxs/DT8QfyS/ML80PyP/XH+x/6V/3YA2QDfAcYChwOCBHYF6gV2BjYGKQY6BhEGjgX1BCkEUQP7AaoAnv+J/qH95fxe/Mr7dvuD+9/7kvzf/A794v3p/rn/VQDKAHQBNwLkAtgCMQPMA0YEhARRBFkETQTwA50DHAOfAiUCgwGyADwAiv8G/9H9h/zu++r7oPtS+6P7/Ptd/Pn8Fv26/fP+c/8vAI0AvwC/AbYC4gIdA8UDQAQkBM4DNQRlBAsEeQPLAlICzAGsAMD/Av8m/pn90Pzp+yn7ofri9y37BP5X/Nb7f/16/Bj9ef1e/iT/nABLAQECJQIUAkICKgKYAQkBhABeAKkAxwBkAB0AgwDhAIsAHgAYAH//Xv5N/iD+j/1X/Vf8gvxA/uL9cP3j/e399v06/s7+hf9HAIUAQQHqARYCTwLjAeMBowGyAeUB8wFpAkUChAJaAjYCLgLHASAB6ADbAEEA8/+R/4D/GP8M/9j+lf7f/g3/Hv/I/qX+gf4w/ln+W/74/nn/yP+KAGEBlwEKAosC5QKLAvcBSgIJAAP78/PM8vf4tQR0BIMBOgEtApQAygRoBBUFBAULA8oALv+M/tn+2v+LAHwAhgC1ANkAuAB9AB8BegEXAXwALgB+AOsA/wA2ATABPwHiAEkA9/86/2L+5f3E/TH9EfwY/E38Ivxf/D38dvzm/CL9tv1E/lX+1f4x/5D/tv8DABMA+/88AGgAwADWABoBOwHkARkC6gG+AYoBvgEuAbYAkQAwANr/YP/t/p7+UP5p/tf+8/5U/6T/GwCUAD8BoQESAqMCIwOIA2wDMQMtA5QC5gFpAQMBeQAlAKL/P/8J/7L+2v5O/jD+h/4L/tX9sv1G/f78Sf1q/Zf96P1G/oT+KP+8/zsAEwGUASgCcQK9AvQCHAMbA28DcwN7AuEC/AGvASABbwAMAFz/jf4K/n79zPyD/N/7SPyy/K38u/wr/aT9Cf5g/qX+ef/t/zQAnADEAH4BwQH9AYwCzQKrAgAD2AJRAq8BUQEJAZwAEwDk/wz/NP7D/aX9Lv1S/Vn9j/2t/d79Gf5W/sn+xP5i/0UAsgDCAAoBcAFJAVABdgHcAUACXgJtAioCNgLOAasAQgBkAPX/Kf9o/qj9e/3w/KX8h/w+/Fb8v/xr/JH8ovxS/QP+Hv5V/h3/iP+z/ycAxwAUAc8BzAL4Ai0DaANWA4ADDgQJBC0D0wJKAoMBxQBbAO//0P+b/6n/Fv+j/gn/l/88/4L/IAAjADkAYwCfAPEAagGiAawB8AHpAZsBtQHkAY4BJwHqABkB/QDw/9H/AADm/+b/2f+R/3L/O//y/u7+LP9O/4n/5v/2////HwBgAJ8ABgGpAcIBTQKnAiICPwJmAkMCMAIWAvUBNQGYAG0A0P9m/xH/5/61/rH+rf5c/ln+u/51/vH9s/2c/ZD9zP2Q/Zz9R/6C/s/+If/K/3MAEAFSAcYBIwI5Aj8CEAK/AacBOgEOAWgACAAXAOr/Df+Q/qD+aP5H/iv+VP4G/5X+F/7h/fD93P11/Sv9ff2H/av9G/65/n//8f9PAK0A7wB7AW0BHgH0ACABEwGNADcAAwBYALUAYQByAMwAmABWAI0AWgBJANb/Pv/t/sn+h/5V/jD+Rv6U/qD+E/+G//b/GAAAAFcAlgDZAJ8AzACXALcA6wCaAHEAlwBdAD8ASQCdAL8AYwBDADMA+P+G/2b/Lv8d/xX/m/4p/oP+Tv9B/+n+B/9c/0f/nf9IAAIBNAFzAeYAEwEhAkwCCQL/AfMBUQJKAlMCJAIqAp8BHgFUAS0BsQCKAEIAZABuADwAFwAAAMH/s/+J/zX/bv8m/x3/Rf9e/zf/BP87/2z/dv9L/3n/2P9cACQA+f+k/8r/ZQChAOQAkACiALkAAgF6ABQA5v/Y/73/3f8cAAEAmP92/9X/CgD4/9H/of+Z/8L/2P8DAFAANABmAJUATADU/5L/v/9dAHsA+/9z/+/+o/7c/h3/T//6/tP+gP6G/p3+4v4B/+n+2f6Q/qD+hP68/ir/jv8BAE4AdAC/AIoAXwBnAGkAkABsAGkAqgDTAMEA6wBbAf0AngCAAFUAjQBkADAAhv8W/0n/Y/+G/yn/qv4M/jf+tf6G/kf+Yv7p/if/t/8zADQAswCNASkCJAJUAmUCygEOAQMB1wC0ANUA3ADPAH0AcAC4AFgB3AEkAmABzgB9ACUAVv9U/lD+Dv5y/g3/Tf/G/+7/hQDmAKYB2gHQAR0CWQKTAmQC0AHoAQ0CGgKhAVEBPwGeAO//7v6f/jn/Jv8C/sP8/vsx/Eb9H/6v/oH+9v0o/qv/KAAbABkADQIrBxEKegenAr//Z/4V/hr+cf6V/Tj84vo++hH7ifzO/YT+/P6b/ln+Gv4F/uX9Fv7E/Yr9Iv7W/m7/g/8cAFIAhADsABEBRQFMAZUB1wHxAeQBkQL6AvYCDQPHAkoCUgIVAgQCHAJiAcUAZgDw/9L/wP9w/0//EP/Y/pr+6v7y/pj+1/7o/sr+Kv/m/zgAcQBfAE0AgADfABIBHwH0AOwAlQAyADUAOAD4//D/q/9t/2X/+f4d/yP/Cf8H/7D+m/6F/o7+rv7H/uz+Kv+V/4v/n/+5/wwA6P8KAMf/4/8mAEwATQB4AIsAowDLAM0A8ADWALIAPwD6/9L/tv9E/zP/Ef/5/rf+b/7v/kj/Nf8M/7T/OQA9AAcANQBNALwA1QCnAMcA3QDWANsAuwA4AWcBVAFhAXoBQAHyAG4AIwBNAFsAPgALAN3/+f/6/5n/s//Y/0sAxgDzANIAAQENAeoAAwFMAUcBWgGdAXkB1gCKAJ0AagAnAC0AZwA4AAUAAgDr/5z/hf+b/2//Gf+i/qX+2f6K/pT+6P5L/1//d//j/wMAOAA5AEoAggCsAKsAqQC9ABcBZgF1AVABkgFrAcUAeABLAD0ASgBrAGoATABIAAgAsP/J/9D/2v/T/4b/cf81/0j/Hv9E/3n/Y/8k/1//nv99/3j/i//W////8P/I/ywAPQAhAIEAjACWAK0ArgBrAHYANgCWAG4AIAAOAP//mv8m/yP/Lf9E/zz/jv+h/6D/1f8JAPL/DAAvADwANgA5AEYAJAD1/8z/x/+t/8f/uv/M/7b/wv+Y/43/Wf9R/1T/Qv9S/7P/9P8zAEgAJAAaACMADQAsAPj/KwAwAOj/nP/d/9L/2v8CAA0APgAlADwAXQATANj/rv/3/+L/Tv9u/0v/If///hP/Kf8X/zT/Uf8//1P/gP+r/5X/pf/q/w0A4f/8//v/+/8SAPT/JAAhADwAcACqAMMAngA4AFIAMABDAFUAVQBPACYAHAAoADUAMwASABwAPQAuADoANwAeAGcAkQBgAMsAEgHzAMwAkQDVAOAArQB7AHMAxQB8AGsAtQDKALMAeABTAG0AfgBDAL3/vv+0/7H/x/+h/7L/af9G/2n/o/8MADsAGQBGAD8ADwDI/xoALQAeADYAFAAYADwAQgA0AFYArwCFAIkAfQDAAJ0AnABtAHIAfwBPADUA4f/o/4v/N/9q/z//P/89/wD///76/sT+8P48/wr/H/86/0r/WP8//yD/Pv86/+D+1P7G/qn++v4u/w//Fv9S/2j/f/+6/3z/r/+t/5n/t/+n/67/jv87/wD/4v7m/hb/Jv9E/7r/AAA9AGQAiQCqAPkA3QDXAKwAaQAlAOz/wv/I/5n/mP+o/7j/s/+V/87//P+b/5//sP+M/3L/bf9i/0r/jf+v/+L/PAAzABsAOABMALYA+gAIARsBSwFfAUwBpgGdAVMBUQEsAW0BVQH0APYAMgFWAf8ACwHZAM4A7QDpAD8BKQGtALEArwCWAJ0AKAAqAGIAkwCwAMsABgEpAW8BWQFlAaQBSQHyALUAtwCeAF0AEAAQAAwAJQAgAAAA+//r/9j/4/8UAO3/ov+L/43/3P/J/9v/AgD3/9//3f/4/+//2v8eACgALQAxACAAFAAeAAQA9v/i/6j/T//q/vD+6v5U/ir+Rf5r/oH+fP6M/pf+iP6s/rj+Df8t/0z/zv8+AHMAkwBNAMYA/gD6AN4AwQCiAFQAHQCj/1D/Mv8J/+r+7f4L//v+x/7d/sv+u/65/pb+gf62/vf+HP8c/xH/Z//L/xoABAAhAD0AbQBDAEkAPQAOAP3/xP+R/8//5v/V/7v/sf8CAOX/JAAyADMAYQB6ADYAOAB4AEoARQBLAEYAZQCEAIEAuABDASYBjQH2AeIBAQIHAi8CkQKxArACnAKXAoMCGwLhAeEBvgFcAd4ArQBoABcAzP+E/6n/Nv/9/ln+Yv5w/kr+Ff4G/vf93v3v/fL9Dv4v/n7+zP7B/sT+Mf/S/xwAPgBMAEUAlAB3AFMAYQBaAEQAKgAnAEEAAwD0/yoA9//1/9r/ov98/7z/sf9J/zn/T/9D/w//x/7q/uj+Gf8u/0D/Rf+S/8X/pf/f/zAA9/8ZAAQA3f/P/8X/xf/h/6//kf/I/9b/b/98/9f/RABZAEsAdwCOAC0ATQBEAEQAKwAAAPf/FwBAAFIApADUAPsAIAHaALoA3gDiANgA8gAtAQcB9gDQANAAHAHdAOoAQwFRAX0BawFwAXQBawFgAfQAnACmAI4ANwAcABEALgAuACsAYQCIAGoAiQB/AHUAnACWAIEARwBIAB0AGwAsAEkANwDw/8v//P8RAO3/JAAqAC4AGgAUADgANgBVAEUAzv/r/93/av8e/+L+Av/j/rv+hP6O/qr+j/6r/rb+eP6e/qn+hP5y/nL+MP5B/q7+rP7z/gn/xP73/jL/cf/T/xgAMAAQAAkA/P9UAIEAKgAiADcAJgBAAFgA2QAEAeMABwHtAAwBnwBMADUAJACv/1L/VP8d//L+1/6z/qb+tv76/q/+sf7k/gT/5f7q/sf+zv43/yf/LP+c/8P/n//B/wUAEwBVAIoAzACiAPYAbAFCAU8BZAHuAJAA1ACvAIQAUwA+AFYAowDxACcBXgFkAWgBfgEhAdAArgBvAE0ASAAvACIA2v+7/9v/BABFAH4AkgCjAE8AHgAxADMALgBLADwALAA+AIgAqwCFAMYAQgEpAT8BpQFrATYBJgEvARgB7wDOALQAQwAxADEAWQBTAEoAGAAEAK7/Zf9r/2z/b/80/0//Av8A/yD/9/4i/yf/xv5z/lP+KP4d/rL9r/3g/Rz+QP5P/mn+a/6N/rD+Zf6Y/sH+vv7z/iL/d/9l/zz/Vv86/3v/uf+8/w0A/f/V/yMABwDh//v/2v8pAFMAbABYAHEAnACiAOwA4gDzAPoAKgE7ASoB/wDdAOEAwgCXAFwAVQAyABQADgDw/yoANAArABMAe/9u/w//Sv9H/yv/Gv/i/uj+Mv8o/1v/kP+p/6n/nP9u/5r/DQAbAEkAVABFAHYAUgBEAE8AUQA1AFwAagAuACgAhwC2AGQAXADOAOgA3QC0AIAANQAGAB0ARQAyANT/3/8RAA0AEQAhADIAhAD8ANYAZQD+AEkBWgEkAcAAzQC4AIEARwAwAFYAPQAeAHIAtgCEAJcAzgDdAIgASwBTAFIASwAaAA0AAAD4/yYADACF/5T/r/+K/zf/QP84/93+w/6X/ob+o/70/j//Yv8z/0H/df+I/1X/dv9u/y3/O/9M/17/n//q/yMAhAChAKkA6wAYAeAAsQC6AKgAmwCKAFoAJABCAHoA3ADVAMUACQHeALsAXgA8AHAAfACdAIEALwArAGwAbwBfAH0A1wDsAIwAXABcAFsAawCLAEcARgAoAC0AJwDi//z/of+Q/5j/U/9n/2f/hv+p/1X/QP9C/w7/8/7o/gP/7/7f/gL/Cf8q/wT/Lv9G/wf/6P77/iD/Tf9E/1j/sP/r/w4ATAAvACwAPgA/AGMAYgBzAH8AYwBCAAsAl/+N/6P/k/+6/5//Yf8p/2n/kP+c/6H/ev9R/4//i/+P/6//sP/e////+f8yADIANwBFAJIAygDnAOYAzQDnAPgA2wD/ABwBnwCfAIIAZgCBAKIAgwBkAE4ARwD7/+L/6/+s/0P/9/62/ob+d/5s/lj+aP6t/jT/tf+i/8z/AgAWAO7/+v88ANz/Zv9U/0H/k//R/6L/2f/f/wAAGwBYAGwAsADaANgArACSALoAugCyANQA0AA0AUYB6AAoAfkAFwFtAUwBcQFnAewA9QD7ADcB8wCYAIwAgQBoAIMAVQAyAEIAEgDz/wAA1f+s/5j/qv+h/5X/q/+S/7v/1f+h/5f/4v/G/5T/q/9H/w//Gv/I/tD+L/93/2r/K/90/2b/QP8a/x7/8f7c/lj/Z/+G/8T///8bAAgA/P/W/8D/jv+W//L/DwAZADoAHQASAEUAKQA0AB8ALADq/7P/y/+p/6P/h/+O/8L/HQAhABIAQQDu/+X/CAD4//f/1f8HAL//vv+b/yX/gf++/3f/lv+0/5z/tP/f/wsACQAWAAkACwD3/wgAIgALAAwANAAuACQAKQAWADQALAD2/0oATAD4/2b/Hv8w/3X/lf+B/z//JP8A/yL/5f4f/2H/hf97/4z/p/+w/7b/CAA1ACQASwB1AF4AaQCOAKcA5gD6ABUBUgGkAYABgwHaAbEBaQEhAQMBBwHeANAAtgC0AMoA2wAlARABKQFHASEBEgEOASEBawGMATsBEAEEAecAsgC+AJ0ATABMAFcAKADU/wgABwAVAO//sP/n/9r/of+o/9b/wv+f/6L/V/9J/1//SP+O/4L/MP/3/gD/Bv8n/0T/Of9W/23/cf+S/7D/o/+G/6z/jP99/5z/nv90/2//zf/u/+T/EADh/+3/3/8GACsAJAAaAFkAnQCrAH4ARAA/ADgAIgACAFwAZAATAC0ANQA5AGcAYQBEADgANwAxAOv/nv/O/6L/b/+H/2r/PP9D/yf/4v7a/pr+hP53/jf+Y/5E/lP+ev7b/h7/JP80/zP/HP8d/+3+4/77/gL/EP8z/zn/lP+7//z/7/8LABUAJACuABoB9QBnAJ8AAgHGALkAtQBqAHUAdQCiABMB/wA4ATkBEgEKAVsBoAGNAYEBdQEoAfwA1wCdAIkAewBdADUATgAnABkA9f+f/6v/2/+B/1j/lf+H/0T/bP+O/6j/wP/q/+H/+P8CAC8ARQBEAFYAJAARACUALQAEALb/zf+2/9f/3v+z/3j/WP9o/0X/Of9u/9v/JADz/9f//P8pAAgAtf8lAKEAlgDWAMEAngDVACwBaAFhAUIBRwFgAWoBUAEjAQQBewBZAG8ATgAgADQA5P/U/+n/BgDP/5b/s//A/5T/ov++/+//GgBfAJIAmwCdAHsAkwB6AIwAdQCSAG4AYQByACAASgAeACQAOwAwAOL/gv8Y/xX/N//w/uT+2v4I//b+wP7K/tn+0f7d/vX+y/6X/o7+fP6p/u/+U//0/tL+0v71/kX/bf+//wcAFQA0ADUAWABKAFEAPwAtACYAIwAcAAYAYgCJAFUAXgCnAOAAmQATAP//IQD6//v/5f+E/4j/cf9o/47/cf9z/0v/Kv9x/9n+t/7g/vn+bf+v/0P/O/9G/1H/Lf+j/nb+kP6L/o/+yf4h/3L/m/8aAA0ANgCgANkAGAE5ATkBVgFaAcgAoACrAG4AnQByACsAHAAlADQAIAA+AG4AcABaAGcAcQA7AA4AHAAQAPH/4f/Q/wsAEQAFADgAVgCIAJQAkwC8AMoAxQAeAWoBlAF5AYYB0gGhAVQBJgHCAKgA3gDcAKQAiwCtAIgAgwBmAE0AWgBVAD8AegBKACkADAAYACMAIwAIABgAMwBKAD0AWwBmAE8AUAAjAP7/JADm/6L/nP+E/3n/hf87/xH/4/7U/vP+Fv/K/qb+h/6A/nz+Vv5h/qn+e/6M/v/+I/90/8n/EAAzAJMAzQDTALQA+wCWAGMAzgDOAKwAbQA2AFsAfgCnAGUAfQCNAB8A3/8FADMAGQDq/4b/dv8n/zP/Lv8T/wH/I/8g/wn/L/9E/1f/GP/1/jH/Dv85/6//bv+H/8z/vv/E/+n/MQDr//b/DAAHANv/FAAWAA4ACAAYACQAcgCTAKIATgA9AHIAkgBlAFMAbgB1AEEAUABVADIABAAPAAoAHwAQAPD/k/9X/5X/5P/e/7T/q/+t/7P/wP/7/7D/i/+P/6b/xP/o/87/4f8cAC0ARABMAHQAggCLAKkAbwBpAI0AvwB9AIIAbABOAGEAlACpAKsAXwBKAC0AIgAvADMAIwA/ACUAyP+7/97/1f+X/0P/8f7I/t/+Cv+s/wgACgD1/8//+f9QADsALQALALb/oP+N/yD/H/93/3z/V/9m/7T//v9CAHsAlQDQAPcAKgEjAfIABwEYAQwB8AADAQwBGgFmATIBXgFqATgCCQKFAWEBUgFkAZQBswGFATgBAgHuAE0AMAANAOH/zP/i/+X/FQDZ/8T/7f8iAPH/tP/B/0v/Nf84///+Kf9A/zP/b/+c/+L/CwDz//j/KgAtAPH/w//Z/+v/rP9O/1b/MP///gj/4f6W/qr+/P41/zn/Df/4/s7+Mv8P/6b+iP5N/gH+v/33/fn92f38/Sf+fv7D/q7+vf7N/rf+lv6x/hX/0v45/jX+VP5c/kT+dv6f/iD/av95/5n/kf/i/y4ABADv/wUA7f+y/87/9//J/xgAgAB1AJkAxwCfABcBwAH8ASYC/AHIAXkBTgFIAQYBkwBqAIoAdAAUABEAWwBHAE4ATABVAGAAVwA6AEYAkACTAH0AeQCTAKYAbQDFANIA9QAJATsBjwECAjgCLwJhAlcC8gG6AfAB8AERAgACrQHSAaIBSgE2AVcBOgHpACkBIQENATgBXwHuAOAARwFVAQEBFAH4AJwApQDsANYAowBgAKMApgAxAA4ADgCe/4L/ff9d/1X/Wv9s/2n/UP81/5X/Wf9N/4j//f7u/jX/0/68/uL+sP7q/vX+jv6t/vb+Bf+8/sz+vP55/nn+IP5l/lP+Y/5k/kj+Nv5d/kb+Gf4S/rr9Rf00/UD9Jv0Q/Tn9k/1z/db97v1b/tf+w/7//mv/if+a/zYAcgBIAEQAkACOAFoAQQAZABgATgACALj/CAAmAA0A8P/n/zoAQQA6AFAA3wAOAUkBUgHWAOMAJQECATQBGAE3AWwBbAF+AWMBiQHrAQYCywGdAYkBWQGNAYMBIAEDAc4AnQBUAB4ABgD8/+//1/9v/2//iv++//7/1/8WAIMAlQB0AI0A0QAFAdIA3ACBACoAdADVAN8AGgFrAT4BTQGuAcgBGwLUAV0BXQEvAWwAcQAZAAwARQDu/9z/AQB6/x3/Cv8L/x7/Bv8t/qv+0P6o/rX+g/4P/8/+7v7w/q7+B//Q/gb+3/4AAOr/gv+e/6H/9P8VALT/ZP/a/0MAcf9q/1v/h/89/67+b/7D/un+//7J/mH/m/9b/xH/i/+k/2H/af9V/2T/eP9r/1j/W/9O/+X+gv7x/uj+A/+P/+//1v/s/ykAIQBDAD0A4/8DACkAQAA1AEsAiwCBAKgA9gAoAQYBAgFUAbQBJwE3AdABjAFOAdoBxAHJAfsB0wEzAUUBFwHHAK0AcABUALUAugCOAHQAiAA9AGkAagAdABoAWQBmAC4A4/8uAFQALwBIAEgATgBNADMAMwCE/3f/hv91/9P+1f6+/tT+if5z/rH+7f7X/rv+9/7n/in/H/8T/wr/2/78/vv+9v5o/3r/lv/y/y4AQAA3AFIAgwBxADsAVQCOAGEAOQAdADsAUwAIAP3/2P/p/ykAAwDQ/wEAIgDP/+P/6v+F/03/JP9J/wf/d/9x/wEAo/9EAOv/EwBMANP/JACaAI0ARwBtAFsAOwBZAGQACwC4/xcATAAeAAAAGAA2APb/7P8IAC4AMwDo/7H/5v8JAJT/6P/1/+D/1v+s/5L/LP8j/23/Rf8P/2D/sP+p/7D/8v/+/zYAVgBAAIAA5QA4AWcBjgG7AXkBOAG+AHMAvgDqAIYAgABzAJQAvACaAG4AywA5AWUBUgHzAO0A+gD0AN8AxADYABsBHAEqAQ0BpgDoAHQApwDsAJMAeABYAAMA5P+6/77/tv/O/xEAyP9p/2D/l/9C/zL/h/9Z/zb/H/88/xf//f5V/yn/3f4M/0v/1f78/n//Yv83/0n/ff9w/0z/pv/2/6T/jP/d//L/7v/0/9H/if+U/7D/4//Q/+D/vv99/4//w//6//H/IQAYADcALAAcADYAXAB5AGwAbgA6APj//f8WAPr/zf/m/xAAEQAmAPj/oP/2/zYAOgBQABQAEADQ/+j/2v/U/9f/4f/F/33/TP+n/4z/Pv88/0j/av9N/5r/7f/l/xEAMwA8ADcA9//O/5r/M/8J/zv/H//d/g//SP8a/zD/p/8AACMAJABCAKAAhQA4ACwAOABEAD0ALABTAEYAXQCIAEoAQwAvAE8AgQAsAEYAOADO/woAHgAnAC8A5P/i/7X/j//w//z/4/9cAIUA9gDjAAcBDgEOAWwBcwFvAWcBhQFzASwBMwEUAQoBGgHUAE0APQAsAAkABAAQAB8A4f+u/5H/Pf/c/o/+bf4l/kj+cP53/oL+qP61/gv/WP+X/wcAJQAfAD4ADQAVAD8ANQAcAEQAUABOAFoALQB/ACQAFgBaACoAMwDw//j/MAAjAAAAov+Q/5H/Wv9g/3j/b/8h/2H/af95/3//jf+j/7r/2/8RACYAIQA6AEMARgBNACYAfAC3AHwAsQCnAKQA2wDeANgA/wDEAGEAPgA+AC4Ayf++//n/9v/q/9H/8f8TAAUACQAOAOT/5f8hAM7/zf+y/2r/dP9r/3D/Iv8r/0T/Iv/A/sj++P44/2//l/9t/3z/sP9+/33/df+X/6//df97/3v/nP+d/2j/zP8QAFMAYgB1ALgArwDfAPkADQGsAJUAzwDSAOEA\" type=\"audio/wav\" />\n",
       "                    Your browser does not support the audio element.\n",
       "                </audio>\n",
       "              "
      ],
      "text/plain": [
       "<IPython.lib.display.Audio object>"
      ]
     },
     "execution_count": 56,
     "metadata": {},
     "output_type": "execute_result"
    }
   ],
   "source": [
    "audio, audio_len = open_audio('test_files/test_audio.opus', SAMPLE_RATE)\n",
    "spectrogram, new_len = compute_log_mel_spectrogram(\n",
    "    audio, torch.tensor(audio_len), sample_rate=SAMPLE_RATE,\n",
    "    spectrogram_transform=SpectrogramTransform(freq_mask_param=10, time_mask_param=20)\n",
    ")\n",
    "plt.pcolormesh(spectrogram)\n",
    "plt.xlabel('T')\n",
    "plt.ylabel('mels')\n",
    "plt.show()\n",
    "Audio(data=audio.numpy(), rate=sample_rate)"
   ]
  },
  {
   "cell_type": "markdown",
   "metadata": {},
   "source": [
    "# Нейронная сеть"
   ]
  },
  {
   "cell_type": "markdown",
   "metadata": {},
   "source": [
    "Мы подготовили все данные, теперь можно заняться реализацией нейронной сети. Будем реализовывать архитектуру [Deepspeech 2](https://arxiv.org/pdf/1512.02595.pdf) в немного упрощенном виде.\n",
    "\n",
    "\n",
    "<img src=\"images/cat_reproduction.jpg\" width=\"400\" height=\"400\">\n"
   ]
  },
  {
   "cell_type": "markdown",
   "metadata": {},
   "source": [
    "Вот так будет выглядеть архитектура сети:\n",
    "\n",
    "\n",
    "<img src=\"images/deepspeech.jpg\" width=\"200\" height=\"150\">"
   ]
  },
  {
   "cell_type": "code",
   "execution_count": 57,
   "metadata": {
    "ExecuteTime": {
     "end_time": "2021-03-23T12:02:36.246566Z",
     "start_time": "2021-03-23T12:02:36.231836Z"
    },
    "scrolled": true
   },
   "outputs": [],
   "source": [
    "import torch.nn as nn\n",
    "import torch.nn.functional as F"
   ]
  },
  {
   "cell_type": "code",
   "execution_count": 58,
   "metadata": {
    "ExecuteTime": {
     "end_time": "2021-03-23T12:02:36.264387Z",
     "start_time": "2021-03-23T12:02:36.248247Z"
    },
    "code_folding": []
   },
   "outputs": [],
   "source": [
    "def _calculate_fan(dimentions, conv_params, axis):\n",
    "    stride = conv_params.get('stride', [1, 1])[axis]\n",
    "    padding = conv_params.get('padding', [0, 0])[axis]\n",
    "    kernel_size = conv_params.get('kernel_size')[axis]\n",
    "    dillation = conv_params.get('dillation', [1, 1])[axis]\n",
    "    \n",
    "    return torch.floor((dimentions + 2 * padding - dillation * (kernel_size - 1) - 1) / stride + 1).to(dtype=torch.long)"
   ]
  },
  {
   "cell_type": "code",
   "execution_count": 59,
   "metadata": {
    "ExecuteTime": {
     "end_time": "2021-03-23T12:02:36.294207Z",
     "start_time": "2021-03-23T12:02:36.266115Z"
    },
    "code_folding": [],
    "scrolled": true
   },
   "outputs": [],
   "source": [
    "class Model(torch.nn.Module):\n",
    "    def __init__(self, num_mel_bins, hidden_size, num_layers, num_tokens):\n",
    "        super(Model, self).__init__()\n",
    "        \n",
    "        self.num_tokens = num_tokens\n",
    "        self.num_layers = num_layers\n",
    "        self.hidden_size = hidden_size\n",
    "        \n",
    "        self.bidirectional = True\n",
    "        self.num_directions = 2 if self.bidirectional else 1\n",
    "        \n",
    "        self.num_mel_bins = num_mel_bins\n",
    "        \n",
    "        conv1_params = AttrDict(\n",
    "            {\n",
    "                \"in_channels\": 1,\n",
    "                \"out_channels\": 32,\n",
    "                \"kernel_size\": [21, 11],\n",
    "                \"stride\": [1, 1] \n",
    "            })                             \n",
    "        conv2_params = AttrDict(\n",
    "            {\n",
    "                \"in_channels\": conv1_params['out_channels'],\n",
    "                \"out_channels\": 64,\n",
    "                \"kernel_size\": [11, 11],\n",
    "                \"stride\": [1, 3]                \n",
    "            }\n",
    "        )\n",
    "        \n",
    "        self.conv1_params = conv1_params\n",
    "        self.conv2_params = conv2_params\n",
    "        \n",
    "        # [batch_size x 1 X num_mel_bins x time] -> [batch_size x conv2.out_channels x fan_num_mel_bins x fan_time]\n",
    "        self.conv = torch.nn.Sequential(\n",
    "            ### write your code here ###\n",
    "        \n",
    "            # CONV 1\n",
    "            torch.nn.Conv2d(**self.conv1_params, bias=False),\n",
    "            # BATCH NORM 1\n",
    "            torch.nn.BatchNorm2d(num_features=self.conv1_params['out_channels'], momentum=0.9),\n",
    "            # RELU\n",
    "            torch.nn.ReLU(inplace=True),\n",
    "            \n",
    "            # CONV 2\n",
    "            torch.nn.Conv2d(**self.conv2_params, bias=False),\n",
    "            # BATCH NORM 2\n",
    "            torch.nn.BatchNorm2d(num_features=self.conv2_params['out_channels'], momentum=0.9),\n",
    "            # RELU\n",
    "            torch.nn.ReLU(inplace=True),            \n",
    "        )\n",
    "        \n",
    "        # YOUR CODE\n",
    "        fan_num_mel_bins = _calculate_fan(\n",
    "            _calculate_fan(torch.tensor(num_mel_bins), conv1_params, axis=0), \n",
    "            conv2_params, axis=0\n",
    "        ).item()\n",
    "        rnn_input_size = self.conv2_params['out_channels'] * fan_num_mel_bins\n",
    "\n",
    "        # 4 слоя бидир lstm\n",
    "        # YOUR CODE\n",
    "        # [batch_size x fan_time x rnn_input_size] -> [batch_size x fan_time x num_directions * hidden_size], (h_n, c_n)\n",
    "        self.lstm = torch.nn.LSTM(\n",
    "            input_size=rnn_input_size, hidden_size=hidden_size, num_layers=self.num_layers,\n",
    "            bias=True, batch_first=True, bidirectional=self.bidirectional\n",
    "        )\n",
    "        \n",
    "         # YOUR CODE\n",
    "        # [batch_size x num_directions * hidden_size] -> [batch_size, num_tokens]\n",
    "        self.output_layer = torch.nn.Linear(self.num_directions * self.hidden_size, self.num_tokens)\n",
    "    \n",
    "    def forward(self, inputs, seq_lens, state=None):\n",
    "        \"\"\"\n",
    "            Input shape:\n",
    "                audio: 3D tensor with shape (batch_size, num_mel_bins, num_timesteps)\n",
    "                sequence_lengths: 1D tensor with shape (batch_size)\n",
    "            Returns:\n",
    "                3D tensor with shape (new_num_timesteps, batch_size, alphabet_len)\n",
    "                1D tensor with shape (batch_size)\n",
    "            \"\"\"\n",
    "        \n",
    "        outputs = inputs.unsqueeze(1) # conv2d input should be four-dimensional\n",
    "        \n",
    "        ### write your code here ###\n",
    "        seq_lens = _calculate_fan(_calculate_fan(seq_lens, self.conv1_params, axis=1), self.conv2_params, axis=1)\n",
    "        \n",
    "        outputs = self.conv(outputs)\n",
    "\n",
    "        outputs = self.transpose_and_reshape(outputs)\n",
    "        outputs, (h_n, c_n) = self.lstm(outputs)\n",
    "\n",
    "        outputs = self.output_layer(outputs)\n",
    "        outputs = torch.transpose(outputs, 0, 1)\n",
    "        outputs = torch.nn.functional.log_softmax(outputs, dim=-1)\n",
    "\n",
    "        return outputs, seq_lens\n",
    "\n",
    "    @staticmethod\n",
    "    def transpose_and_reshape(inputs):\n",
    "    \n",
    "        \"\"\" This function will be very useful for converting the output of a convolutional layer \n",
    "            to the input of a lstm layer\n",
    "            \n",
    "            Input shape:\n",
    "                inputs: 4D tensor with shape (batch_size, num_filters, num_features, num_timesteps)\n",
    "            Returns:\n",
    "                3D tensor with shape (batch_size, num_timesteps, new_num_features)\n",
    "            \"\"\"\n",
    "            \n",
    "        sizes = inputs.size()\n",
    "                \n",
    "        # reshape # YOUR CODE\n",
    "        # (batch_size, num_filters * num_features, num_timesteps)\n",
    "        outputs = inputs.reshape(inputs.shape[0], inputs.shape[1] * inputs.shape[2], inputs.shape[3])\n",
    "        # transpose # YOUR CODE\n",
    "        # (batch_size, num_timesteps, new_num_features)\n",
    "        outputs = torch.transpose(outputs, 1, 2)\n",
    "        return outputs\n",
    "           \n",
    "    @staticmethod\n",
    "    def get_new_seq_lens(seq_lens, conv1_kernel_size, conv1_stride, conv2_kernel_size, conv2_stride):\n",
    "    \n",
    "        \"\"\" Compute sequence_lengths after convolutions\n",
    "            \"\"\"\n",
    "            \n",
    "        ### write your code here ###\n",
    "        seq_lens = _calculate_fan(seq_lens, {'kernel_size': [conv1_kernel_size], 'stride': [conv1_stride]}, axis=0)\n",
    "        seq_lens = _calculate_fan(seq_lens, {'kernel_size': [conv2_kernel_size], 'stride': [conv2_stride]}, axis=0)\n",
    "        return seq_lens"
   ]
  },
  {
   "cell_type": "code",
   "execution_count": 60,
   "metadata": {
    "ExecuteTime": {
     "end_time": "2021-03-23T12:02:36.310579Z",
     "start_time": "2021-03-23T12:02:36.295832Z"
    },
    "scrolled": true
   },
   "outputs": [],
   "source": [
    "num_tokens = len(vocab.tokens2indices()) - 1\n",
    "num_mel_bins = 64\n",
    "hidden_size= 512\n",
    "num_layers = 4"
   ]
  },
  {
   "cell_type": "code",
   "execution_count": 61,
   "metadata": {
    "ExecuteTime": {
     "end_time": "2021-03-23T12:02:36.601338Z",
     "start_time": "2021-03-23T12:02:36.314941Z"
    }
   },
   "outputs": [],
   "source": [
    "model = Model(num_mel_bins=num_mel_bins,\n",
    "              hidden_size=hidden_size,\n",
    "              num_layers=num_layers,\n",
    "              num_tokens=num_tokens)"
   ]
  },
  {
   "cell_type": "code",
   "execution_count": 62,
   "metadata": {
    "ExecuteTime": {
     "end_time": "2021-03-23T12:02:40.926601Z",
     "start_time": "2021-03-23T12:02:36.603618Z"
    }
   },
   "outputs": [
    {
     "name": "stdout",
     "output_type": "stream",
     "text": [
      "Don't forget to save Jupyter Notebook! \n",
      "\n",
      "\n",
      "\u001b[1m============================= test session starts ==============================\u001b[0m\n",
      "platform linux -- Python 3.6.9, pytest-6.2.2, py-1.10.0, pluggy-0.13.1\n",
      "rootdir: /home/mnakhodnov/sirius-stt, configfile: pytest.ini\n",
      "collected 5 items                                                              \u001b[0m\u001b[1m\n",
      "\n",
      "tests/test_model.py \u001b[32m.\u001b[0m\u001b[32m.\u001b[0m\u001b[32m.\u001b[0m\u001b[32m.\u001b[0m\u001b[32m.\u001b[0m\u001b[32m                                                [100%]\u001b[0m\n",
      "\n",
      "\u001b[32m============================== \u001b[32m\u001b[1m5 passed\u001b[0m\u001b[32m in 2.96s\u001b[0m\u001b[32m ===============================\u001b[0m\n"
     ]
    }
   ],
   "source": [
    "! pytest tests/test_model.py"
   ]
  },
  {
   "cell_type": "markdown",
   "metadata": {},
   "source": [
    "Инициализируем модель из чекпоинта, чтобы она обучилась быстрее."
   ]
  },
  {
   "cell_type": "code",
   "execution_count": 63,
   "metadata": {
    "ExecuteTime": {
     "end_time": "2021-03-23T12:02:40.947538Z",
     "start_time": "2021-03-23T12:02:40.928692Z"
    },
    "scrolled": true
   },
   "outputs": [],
   "source": [
    "def load_from_ckpt(model, ckpt_path):\n",
    "    checkpoint = torch.load(ckpt_path, map_location='cpu')\n",
    "    model.load_state_dict(checkpoint['model_state_dict'])"
   ]
  },
  {
   "cell_type": "code",
   "execution_count": 64,
   "metadata": {
    "ExecuteTime": {
     "end_time": "2021-03-23T12:02:41.065552Z",
     "start_time": "2021-03-23T12:02:40.949101Z"
    },
    "scrolled": true
   },
   "outputs": [],
   "source": [
    "load_from_ckpt(model, '/home/e.chuykova/data/ckpt.pt')"
   ]
  },
  {
   "cell_type": "markdown",
   "metadata": {},
   "source": [
    "Тест, чтобы проверить, что код модели корректно написан, модель правильно восстановилась из чекпоинта"
   ]
  },
  {
   "cell_type": "code",
   "execution_count": 65,
   "metadata": {
    "ExecuteTime": {
     "end_time": "2021-03-23T12:02:41.572010Z",
     "start_time": "2021-03-23T12:02:41.067254Z"
    }
   },
   "outputs": [],
   "source": [
    "audio, audio_len = open_audio('test_files/test_audio.mp3', 8000)\n",
    "output = model(*compute_log_mel_spectrogram(\n",
    "    torch.unsqueeze(audio, 0), torch.unsqueeze(torch.tensor([audio_len]), 0), window_step=0.01\n",
    "))\n",
    "assert torch.isclose(output[0][0][0][0], torch.tensor(-3.53916406))\n",
    "assert torch.isclose(output[0][15][0][30], torch.tensor(-3.605963468))"
   ]
  },
  {
   "cell_type": "markdown",
   "metadata": {},
   "source": [
    "Отправим модель на гпу.\n",
    "\n",
    "<img src=\"images/cuda_is_important.jpg\" width=\"400\" height=\"400\">\n"
   ]
  },
  {
   "cell_type": "markdown",
   "metadata": {},
   "source": [
    "# Обучаем модельку"
   ]
  },
  {
   "cell_type": "markdown",
   "metadata": {},
   "source": [
    "## Декодинг"
   ]
  },
  {
   "cell_type": "code",
   "execution_count": 66,
   "metadata": {
    "ExecuteTime": {
     "end_time": "2021-03-23T12:02:41.589943Z",
     "start_time": "2021-03-23T12:02:41.573759Z"
    },
    "scrolled": true
   },
   "outputs": [],
   "source": [
    "from time import time\n",
    "from tqdm import tqdm_notebook as tqdm\n",
    "import os"
   ]
  },
  {
   "cell_type": "markdown",
   "metadata": {},
   "source": [
    "Давайте напишем несколько вспомогательных функций, которые будут нам нужны для обучения модели.\n",
    "\n",
    "Для начала займемся метриками. Основная метрика - wer (word error rate).\n",
    "\n",
    "Тут поможет библиотека `editdistance`."
   ]
  },
  {
   "cell_type": "code",
   "execution_count": 67,
   "metadata": {
    "ExecuteTime": {
     "end_time": "2021-03-23T12:02:41.606244Z",
     "start_time": "2021-03-23T12:02:41.591538Z"
    },
    "scrolled": true
   },
   "outputs": [],
   "source": [
    "import editdistance"
   ]
  },
  {
   "cell_type": "code",
   "execution_count": 68,
   "metadata": {
    "ExecuteTime": {
     "end_time": "2021-03-23T12:02:41.622730Z",
     "start_time": "2021-03-23T12:02:41.607783Z"
    }
   },
   "outputs": [],
   "source": [
    "import regex"
   ]
  },
  {
   "cell_type": "code",
   "execution_count": 69,
   "metadata": {
    "ExecuteTime": {
     "end_time": "2021-03-23T12:02:41.641249Z",
     "start_time": "2021-03-23T12:02:41.624452Z"
    },
    "code_folding": [
     0,
     22
    ],
    "scrolled": true
   },
   "outputs": [],
   "source": [
    "def calc_wer(predicted_text, gt_text):\n",
    "    \"\"\" Compute wer.\n",
    "        Inputs:\n",
    "            predicted_text: str\n",
    "            gt_text: str\n",
    "        Returns:\n",
    "            wer: int\n",
    "    \"\"\"\n",
    "    ### write your code here ###\n",
    "    words_split_pattern = regex.compile(r'\\b\\w+\\b')\n",
    "    \n",
    "    gt_words = regex.findall(words_split_pattern, gt_text)\n",
    "    predicted_words = regex.findall(words_split_pattern, predicted_text)\n",
    "    \n",
    "    if len(gt_words) == len(predicted_words) == 0:\n",
    "        return 0.0\n",
    "    if len(gt_words) == 0:\n",
    "        return 1.0\n",
    "    wer = editdistance.eval(predicted_words, gt_words) / len(gt_words)\n",
    "    return wer\n",
    "\n",
    "\n",
    "def calc_wer_for_batch(list_of_predicted_text, list_of_gt_text):\n",
    "    \"\"\" Compute mean wer for batch.\n",
    "            Inputs:\n",
    "                list_of_predicted_text: list\n",
    "                list_of_gt_text: list\n",
    "            Returns:int\n",
    "            \n",
    "    \"\"\"\n",
    "    \n",
    "    ### write your code here ###\n",
    "    mean_wer = np.mean([calc_wer(_, __) for _, __ in zip(list_of_predicted_text, list_of_gt_text)])\n",
    "    return mean_wer"
   ]
  },
  {
   "cell_type": "code",
   "execution_count": 70,
   "metadata": {
    "ExecuteTime": {
     "end_time": "2021-03-23T12:02:44.768705Z",
     "start_time": "2021-03-23T12:02:41.642917Z"
    },
    "scrolled": true
   },
   "outputs": [
    {
     "name": "stdout",
     "output_type": "stream",
     "text": [
      "Don't forget to save Jupyter Notebook! \n",
      "\n",
      "\n",
      "\u001b[1m============================= test session starts ==============================\u001b[0m\n",
      "platform linux -- Python 3.6.9, pytest-6.2.2, py-1.10.0, pluggy-0.13.1\n",
      "rootdir: /home/mnakhodnov/sirius-stt, configfile: pytest.ini\n",
      "collected 7 items                                                              \u001b[0m\u001b[1m\n",
      "\n",
      "tests/test_compute_wer.py \u001b[32m.\u001b[0m\u001b[32m.\u001b[0m\u001b[32m.\u001b[0m\u001b[32m.\u001b[0m\u001b[32m.\u001b[0m\u001b[32m.\u001b[0m\u001b[32m.\u001b[0m\u001b[32m                                        [100%]\u001b[0m\n",
      "\n",
      "\u001b[32m============================== \u001b[32m\u001b[1m7 passed\u001b[0m\u001b[32m in 1.79s\u001b[0m\u001b[32m ===============================\u001b[0m\n"
     ]
    }
   ],
   "source": [
    "! pytest tests/test_compute_wer.py"
   ]
  },
  {
   "cell_type": "markdown",
   "metadata": {},
   "source": [
    "Давайте реализуем greedy decoding. \n",
    "\n",
    "Сначала научимся получать greedy trn из выравниваний. Можно использовать `itertools`.\n",
    "\n",
    "Не забудьте выкинуть лишние пробелы в начале и конце полученного текста!"
   ]
  },
  {
   "cell_type": "code",
   "execution_count": 71,
   "metadata": {
    "ExecuteTime": {
     "end_time": "2021-03-23T12:02:44.790650Z",
     "start_time": "2021-03-23T12:02:44.771114Z"
    },
    "scrolled": true
   },
   "outputs": [],
   "source": [
    "import itertools"
   ]
  },
  {
   "cell_type": "code",
   "execution_count": 72,
   "metadata": {
    "ExecuteTime": {
     "end_time": "2021-03-23T12:02:44.808461Z",
     "start_time": "2021-03-23T12:02:44.792558Z"
    },
    "code_folding": [],
    "scrolled": true
   },
   "outputs": [],
   "source": [
    "def decode(alignment):\n",
    "    \"\"\" Get text from alignment.\n",
    "        Inputs:\n",
    "            alignment: str\n",
    "        Returns:\n",
    "            text: srt\n",
    "    \"\"\"\n",
    "    ### write your code here ###\n",
    "    alignment = regex.sub(r'(\\p{L})\\1+', r'\\1', alignment)\n",
    "    alignment = alignment.replace('<blank>', '')\n",
    "    alignment = regex.sub(' +', ' ', alignment)\n",
    "    text = alignment.strip()\n",
    "    return text"
   ]
  },
  {
   "cell_type": "code",
   "execution_count": 73,
   "metadata": {
    "ExecuteTime": {
     "end_time": "2021-03-23T12:02:47.929881Z",
     "start_time": "2021-03-23T12:02:44.810297Z"
    },
    "scrolled": true
   },
   "outputs": [
    {
     "name": "stdout",
     "output_type": "stream",
     "text": [
      "Don't forget to save Jupyter Notebook! \n",
      "\n",
      "\n",
      "\u001b[1m============================= test session starts ==============================\u001b[0m\n",
      "platform linux -- Python 3.6.9, pytest-6.2.2, py-1.10.0, pluggy-0.13.1\n",
      "rootdir: /home/mnakhodnov/sirius-stt, configfile: pytest.ini\n",
      "collected 4 items                                                              \u001b[0m\u001b[1m\n",
      "\n",
      "tests/test_decode.py \u001b[32m.\u001b[0m\u001b[32m.\u001b[0m\u001b[32m.\u001b[0m\u001b[32m.\u001b[0m\u001b[32m                                                [100%]\u001b[0m\n",
      "\n",
      "\u001b[32m============================== \u001b[32m\u001b[1m4 passed\u001b[0m\u001b[32m in 1.78s\u001b[0m\u001b[32m ===============================\u001b[0m\n"
     ]
    }
   ],
   "source": [
    "! pytest tests/test_decode.py"
   ]
  },
  {
   "cell_type": "markdown",
   "metadata": {},
   "source": [
    "Получим greedy text из выхода акустической модели (logprobs)."
   ]
  },
  {
   "cell_type": "code",
   "execution_count": 74,
   "metadata": {
    "ExecuteTime": {
     "end_time": "2021-03-23T12:02:47.953437Z",
     "start_time": "2021-03-23T12:02:47.932145Z"
    },
    "code_folding": [
     0
    ]
   },
   "outputs": [],
   "source": [
    "def greedy_decoder(logprobs, logprobs_lens, vocab):\n",
    "    predictions = []\n",
    "    \n",
    "    tokens = torch.argmax(logprobs, dim=-1)\n",
    "    for idx in range(logprobs.shape[1]):        \n",
    "        alligmnet_tokens = vocab.lookup_tokens(tokens[:, idx][:logprobs_lens[idx]].detach().cpu().numpy())\n",
    "        alligmnet = ''.join(alligmnet_tokens)\n",
    "        hypo = decode(alligmnet)\n",
    "        predictions += [[(hypo, 1.0)]]\n",
    "    \n",
    "    return predictions"
   ]
  },
  {
   "cell_type": "code",
   "execution_count": 75,
   "metadata": {
    "ExecuteTime": {
     "end_time": "2021-03-23T12:02:47.969603Z",
     "start_time": "2021-03-23T12:02:47.955243Z"
    }
   },
   "outputs": [],
   "source": [
    "from collections import defaultdict"
   ]
  },
  {
   "cell_type": "code",
   "execution_count": 76,
   "metadata": {
    "ExecuteTime": {
     "end_time": "2021-03-23T12:02:47.998848Z",
     "start_time": "2021-03-23T12:02:47.971366Z"
    },
    "code_folding": [
     0
    ]
   },
   "outputs": [],
   "source": [
    "def beam_search_decode(logprobs, logprobs_lens, vocab, beam_size, cutoff_top_n, cutoff_prob, ext_scoring_func, alpha):\n",
    "    '''\n",
    "    logprobs: [num_timesteps, alphabet_len]\n",
    "    '''\n",
    "    def _beam_search_decode(\n",
    "        _logprobs, _logprobs_len, \n",
    "        vocab, beam_size, cutoff_top_n, cutoff_prob, ext_scoring_func, alpha\n",
    "    ):\n",
    "        assert (cutoff_top_n is None) or (cutoff_prob is None)\n",
    "        if (cutoff_top_n is None) and (cutoff_prob is None):\n",
    "            cutoff_prob = 1.0\n",
    "\n",
    "        hypos = set()\n",
    "        indices2tokens = vocab.indices2tokens()\n",
    "        probs_b, probs_nb = defaultdict(float), defaultdict(float)\n",
    "\n",
    "        hypos.add('')\n",
    "        probs_b[''], probs_nb[''] = 1.0, 0.0\n",
    "        for t in range(_logprobs_len):\n",
    "            hypos_new = set()\n",
    "            probs_b_new, probs_nb_new = defaultdict(float), defaultdict(float)\n",
    "\n",
    "            probs_t = torch.exp(_logprobs[t]).detach().cpu()\n",
    "            decreace_idxs = torch.argsort(-probs_t).detach().cpu().numpy()\n",
    "            if cutoff_prob is not None:\n",
    "                cond_idxs = torch.where(torch.cumsum(probs_t[decreace_idxs], dim=0) > cutoff_prob)[0]\n",
    "                if len(cond_idxs) == 0:\n",
    "                    cutoff_top_n = len(decreace_idxs)\n",
    "                else:\n",
    "                    cutoff_top_n = cond_idxs[0].item()\n",
    "                if cutoff_top_n == 0:\n",
    "                    cutoff_top_n = 1\n",
    "\n",
    "            for l in hypos:\n",
    "                for c_idx in decreace_idxs[:cutoff_top_n]:\n",
    "                    c, c_prob = indices2tokens[c_idx], probs_t[c_idx]\n",
    "\n",
    "                    if c == '<blank>':\n",
    "                        probs_b_new[l] += c_prob * (probs_b[l] + probs_nb[l])\n",
    "                    else:\n",
    "                        l_end = l[-1] if len(l) > 0 else ''\n",
    "                        l_plus = l + c\n",
    "                        if c == l_end:\n",
    "                            probs_nb_new[l] += c_prob * probs_nb[l]\n",
    "                            probs_nb_new[l_plus] += c_prob * probs_b[l]\n",
    "                        elif c == ' ':\n",
    "                            if ext_scoring_func is None:\n",
    "                                p_W = 1.0\n",
    "                            else:\n",
    "                                p_W = ext_scoring_func(l)\n",
    "                            probs_b_new[l_plus] += np.power(p_W, alpha) * c_prob * (probs_b[l] + probs_nb[l])\n",
    "                        else:\n",
    "                            probs_nb_new[l_plus] += c_prob * (probs_b[l] + probs_nb[l])\n",
    "                        hypos_new.add(l_plus)                                        \n",
    "                hypos_new.add(l)\n",
    "\n",
    "\n",
    "            hypos_new = list(\n",
    "                sorted(hypos_new, key=lambda hypo: probs_b_new[hypo] + probs_nb_new[hypo], reverse=True)\n",
    "            )[:min(beam_size, len(hypos_new))]\n",
    "\n",
    "            hypos, probs_b, probs_nb = hypos_new, probs_b_new, probs_nb_new\n",
    "\n",
    "        return sorted(\n",
    "            [(hypo, probs_b_new[hypo] + probs_nb_new[hypo]) for hypo in hypos],\n",
    "            key=lambda key_value: key_value[1], reverse=True\n",
    "        )\n",
    "    \n",
    "    predictions = []\n",
    "    for idx in range(logprobs.shape[1]):\n",
    "        hypos =  _beam_search_decode(\n",
    "            logprobs[:, idx], logprobs_lens[idx],\n",
    "            vocab=vocab, beam_size=beam_size,\n",
    "            cutoff_top_n=cutoff_top_n, cutoff_prob=cutoff_prob,\n",
    "            ext_scoring_func=ext_scoring_func, alpha=alpha\n",
    "        )\n",
    "        predictions.append(hypos)\n",
    "\n",
    "    return predictions"
   ]
  },
  {
   "cell_type": "code",
   "execution_count": 77,
   "metadata": {
    "ExecuteTime": {
     "end_time": "2021-03-23T12:02:48.017797Z",
     "start_time": "2021-03-23T12:02:48.000484Z"
    }
   },
   "outputs": [],
   "source": [
    "from ctcdecode import CTCBeamDecoder"
   ]
  },
  {
   "cell_type": "code",
   "execution_count": 78,
   "metadata": {
    "ExecuteTime": {
     "end_time": "2021-03-23T12:02:48.037693Z",
     "start_time": "2021-03-23T12:02:48.019484Z"
    },
    "code_folding": [
     2
    ]
   },
   "outputs": [],
   "source": [
    "def fast_beam_search_decode(\n",
    "    logprobs, logprobs_lens, vocab, beam_size, cutoff_top_n, cutoff_prob, ext_scoring_func, alpha, beta, num_processes\n",
    "):\n",
    "    labels = ''.join(vocab.indices2tokens()).replace('<blank>', '_').replace('<unk>', '')\n",
    "    decoder = CTCBeamDecoder(\n",
    "        labels=labels, blank_id=blank_index,\n",
    "        cutoff_top_n=cutoff_top_n, cutoff_prob=cutoff_prob, beam_width=beam_size,\n",
    "        model_path=ext_scoring_func, alpha=alpha, beta=beta,\n",
    "        num_processes=num_processes,\n",
    "        log_probs_input=False\n",
    "    )\n",
    "    probs = torch.exp(logprobs)\n",
    "    beam_results, beam_scores, timesteps, out_lens = decoder.decode(torch.transpose(probs, 0, 1), logprobs_lens)\n",
    "    beam_probas = torch.exp(-beam_scores)\n",
    "    \n",
    "    predictions = []\n",
    "    for idx in range(beam_results.shape[0]):\n",
    "        beam = []\n",
    "        for jdx in range(beam_results.shape[1]):\n",
    "            hypo = ''.join(vocab.lookup_tokens(beam_results[idx, jdx, :out_lens[idx, jdx]].tolist()))\n",
    "            hypo_score = beam_probas[idx, jdx]\n",
    "            beam.append((hypo, hypo_score))\n",
    "        predictions.append(beam)\n",
    "        \n",
    "    return predictions"
   ]
  },
  {
   "cell_type": "code",
   "execution_count": 79,
   "metadata": {
    "ExecuteTime": {
     "end_time": "2021-03-23T12:02:48.054990Z",
     "start_time": "2021-03-23T12:02:48.039261Z"
    },
    "code_folding": [
     0
    ]
   },
   "outputs": [],
   "source": [
    "def get_prediction(logprobs, logprobs_lens, vocab, decoder=greedy_decoder, decoder_kwargs=None):\n",
    "    \"\"\" Compute greedy text from loglikes.\n",
    "            Input shape:\n",
    "                logprobs: 3D tensor with shape (num_timesteps, batch_size, alphabet_len)\n",
    "                logprobs_lens: 1D tensor with shape (batch_size)\n",
    "            Returns:\n",
    "                list of texts with len (batch_size)\n",
    "    \"\"\"\n",
    "    if decoder_kwargs is None:\n",
    "        decoder_kwargs = dict()\n",
    "        \n",
    "    predictions = decoder(logprobs=logprobs, logprobs_lens=logprobs_lens, vocab=vocab, **decoder_kwargs)\n",
    "    predictions = [sorted(hypos, key=lambda key_value: key_value[1], reverse=True)[0][0] for hypos in predictions]\n",
    "\n",
    "    return predictions"
   ]
  },
  {
   "cell_type": "code",
   "execution_count": 80,
   "metadata": {
    "ExecuteTime": {
     "end_time": "2021-03-23T12:02:48.360594Z",
     "start_time": "2021-03-23T12:02:48.056588Z"
    }
   },
   "outputs": [],
   "source": [
    "if os.path.exists('./models/1/epoch_6.pt'):\n",
    "    load_from_ckpt(model, './models/1/epoch_6.pt')"
   ]
  },
  {
   "cell_type": "code",
   "execution_count": 80,
   "metadata": {
    "ExecuteTime": {
     "end_time": "2021-03-22T19:42:57.886103Z",
     "start_time": "2021-03-22T19:42:50.069355Z"
    }
   },
   "outputs": [],
   "source": [
    "# batch = next(iter(common_voice_val_dataloader))\n",
    "batch = next(iter(open_stt_test_dataloader))\n",
    "# batch = next(iter(ls_train_dataloader))\n",
    "\n",
    "log_mel_spectrogram, seq_lens = compute_log_mel_spectrogram(batch['audios'], batch['audio_lens'], sample_rate=SAMPLE_RATE)\n",
    "logprobs, seq_lens = model(log_mel_spectrogram, seq_lens)"
   ]
  },
  {
   "cell_type": "code",
   "execution_count": 81,
   "metadata": {
    "ExecuteTime": {
     "end_time": "2021-03-22T19:42:59.214397Z",
     "start_time": "2021-03-22T19:42:59.174080Z"
    }
   },
   "outputs": [
    {
     "name": "stdout",
     "output_type": "stream",
     "text": [
      "['савиети', 'егиепвнст', 'дловникомы', 'сельнности', 'прерь', 'шестляет', 'свади', 'ете', 'на оноец', 'шинолет', 'мреканцид', 'ло шире', 'честост', 'серьзны', 'октору', 'ш', 'вобирай', 'ровям мерика', 'что', 'мо его твит', 'личетно', 'оторый', 'ватьницов', 'члоену', 'никоотих', 'тульбы', 'во', 'крорествпи', 'нывестит', 'вкорание', 'лучея', 'рхоит', 'вдруг', 'вольнорек', 'равосстви', 'полимер', 'вишкаторах', 'нузнать', 'пордвлам мени', 'рмажены равершить', 'работыт то нее', 'начинает потом', 'ран', 'развильна', 'вго', 'дурова', 'ае что нея', 'бления', 'кк мождно', 'ровонесказано', 'долуже', 'каккумсь', 'осремена', 'брограмасобы', 'нужденно', 'несобмненно', 'они главе', 'скант непро', 'се гадости', 'нажиттк', 'окторишеть', 'это дже', 'даестпочетае', 'оватие си зравнени', 'атисит', 'истестеоно', 'раждан', 'ользвотелии', 'удебгы харкстов', 'нискем тот', 'злишении', 'на гоужрелов', 'решет', 'нет твяжитюься', 'разброс', 'норлезодвть', 'том честле', 'вот ет вен', 'стомы нила там', 'пынимю', 'ороват', 'очен ного', 'оцениввь рк', 'амой выво', 'оч део вере', 'овдном', 'гаранти сообствность', 'ому зоволоь', 'разное люги', 'омтр']\n"
     ]
    }
   ],
   "source": [
    "print(get_prediction(logprobs=logprobs, logprobs_lens=seq_lens, vocab=vocab, decoder=greedy_decoder))"
   ]
  },
  {
   "cell_type": "code",
   "execution_count": 82,
   "metadata": {
    "ExecuteTime": {
     "end_time": "2021-03-22T19:42:59.700154Z",
     "start_time": "2021-03-22T19:42:59.684346Z"
    }
   },
   "outputs": [],
   "source": [
    "beam_kwargs = {'beam_size': 10, 'cutoff_top_n': 1, 'cutoff_prob': None, 'ext_scoring_func': None, 'alpha': 1.0}"
   ]
  },
  {
   "cell_type": "code",
   "execution_count": 83,
   "metadata": {
    "ExecuteTime": {
     "end_time": "2021-03-22T19:43:04.021378Z",
     "start_time": "2021-03-22T19:43:00.252076Z"
    }
   },
   "outputs": [
    {
     "name": "stdout",
     "output_type": "stream",
     "text": [
      "['савиети', 'егиепвнст', 'дловникомы', 'сельнности', 'прерь', 'шестляет', 'свади', 'ете', 'на  оноец', 'шинолет', 'мреканцид', 'ло  шире', 'честост', '  серьзны', ' октору', 'ш', 'вобирай', 'ровям мерика', '  что', 'мо  его  твит', 'личетно', 'оторый', 'ватьницов', 'члоену', '  никоотих', 'тульбы', 'во', 'крорествпи', 'нывестит', '  вкорание', 'лучея', 'рхоит', 'вдруг', 'вольнорек', ' равосстви', 'полимер', 'вишкаторах', 'нузнать', 'пордвлам мени', 'рмажены  равершить', 'работыт  то  нее', 'начинает  потом', 'ран', 'развильна', 'вго', ' дурова', '  ае  что  нея', 'бления', 'кк  мождно', ' ровонесказано', 'долуже', 'каккумсь', 'осремена', 'брограмасобы', 'нужденно', 'несобмненно', '  они  главе', ' скант  непро', 'се  гадости', 'нажиттк', 'окторишеть', ' это  дже', 'даестпочетае', 'оватие си зравнени', 'атисит', 'истестеоно', 'раждан', 'ользвотелии', 'удебгы  харкстов', 'нискем  тот', 'злишении', 'на  гоужрелов', 'решет', 'нет  твяжитюься', ' разброс', 'норлезодвть', 'том  честле', 'вот  ет  вен', 'стомы нила там', 'пынимю', 'ороват', 'очен  ного', 'оцениввь  рк', 'амой  выво', 'оч  део  вере', ' овдном', ' гаранти  сообствность', 'ому зоволоь', 'разное  люги', 'омтр']\n"
     ]
    }
   ],
   "source": [
    "print(get_prediction(\n",
    "    logprobs=logprobs, logprobs_lens=seq_lens, vocab=vocab, \n",
    "    decoder=beam_search_decode, decoder_kwargs=beam_kwargs\n",
    "))"
   ]
  },
  {
   "cell_type": "code",
   "execution_count": 84,
   "metadata": {
    "ExecuteTime": {
     "end_time": "2021-03-22T19:43:04.043210Z",
     "start_time": "2021-03-22T19:43:04.023883Z"
    }
   },
   "outputs": [],
   "source": [
    "fast_beam_kwargs = {\n",
    "    'beam_size': 10, 'cutoff_top_n': 1, 'cutoff_prob': 1.0, \n",
    "    'ext_scoring_func': None, 'alpha': 1.0, 'beta': 0.0, 'num_processes': 16\n",
    "}"
   ]
  },
  {
   "cell_type": "code",
   "execution_count": 85,
   "metadata": {
    "ExecuteTime": {
     "end_time": "2021-03-22T19:43:04.111693Z",
     "start_time": "2021-03-22T19:43:04.045645Z"
    }
   },
   "outputs": [
    {
     "name": "stdout",
     "output_type": "stream",
     "text": [
      "['савиети', 'егиепвнст', 'дловникомы', 'сельнности', 'прерь', 'шестляет', 'свади', 'ете', 'на оноец', 'шинолет', 'мреканцид', 'ло шире', 'честост', ' серьзны', ' октору', '', 'вобирай', 'ровям мерика', ' что', 'мо его твит', 'личетно', 'оторый', 'ватьницов', 'члоену', ' никоотих', 'тульбы', '', 'крорествпи', 'нывестит', ' вкорание', 'лучея', 'рхоит', 'вдруг', 'вольнорек', ' равосстви', 'полимер', 'вишкаторах', 'нузнать', 'пордвлам мени', 'рмажены равершить', 'работыт то нее', 'начинает потом', 'ран', 'развильна', 'вго', ' дурова', ' ае что нея', 'бления', 'кк мождно', ' ровонесказано', 'долуже', 'каккумсь', 'осремена', 'брограмасобы', 'нужденно', 'несобмненно', ' они главе', ' скант непро', 'се гадости', 'нажиттк', 'окторишеть', ' это дже', 'даестпочетае', 'оватие си зравнени', 'атисит', 'истестеоно', 'раждан', 'ользвотелии', 'удебгы харкстов', 'нискем тот', 'злишении', 'на гоужрелов', 'решет', 'нет твяжитюься', ' разброс', 'норлезодвть', 'том честле', 'вот ет вен', 'стомы нила там', 'пынимю', 'ороват', 'очен ного', 'оцениввь рк', 'амой выво', 'оч део вере', ' овдном', ' гаранти сообствность', 'ому зоволоь', 'разное люги', 'омтр']\n"
     ]
    }
   ],
   "source": [
    "print(get_prediction(\n",
    "    logprobs=logprobs, logprobs_lens=seq_lens, vocab=vocab, \n",
    "    decoder=fast_beam_search_decode, decoder_kwargs=fast_beam_kwargs\n",
    "))"
   ]
  },
  {
   "cell_type": "code",
   "execution_count": 86,
   "metadata": {
    "ExecuteTime": {
     "end_time": "2021-03-22T19:43:07.302651Z",
     "start_time": "2021-03-22T19:43:04.113877Z"
    },
    "scrolled": true
   },
   "outputs": [
    {
     "name": "stdout",
     "output_type": "stream",
     "text": [
      "Don't forget to save Jupyter Notebook! \n",
      "\n",
      "\n",
      "\u001b[1m============================= test session starts ==============================\u001b[0m\n",
      "platform linux -- Python 3.6.9, pytest-6.2.2, py-1.10.0, pluggy-0.13.1\n",
      "rootdir: /home/mnakhodnov/sirius-stt, configfile: pytest.ini\n",
      "collected 1 item                                                               \u001b[0m\u001b[1m\n",
      "\n",
      "tests/test_get_prediction.py \u001b[32m.\u001b[0m\u001b[32m                                           [100%]\u001b[0m\n",
      "\n",
      "\u001b[32m============================== \u001b[32m\u001b[1m1 passed\u001b[0m\u001b[32m in 1.78s\u001b[0m\u001b[32m ===============================\u001b[0m\n"
     ]
    }
   ],
   "source": [
    "! pytest tests/test_get_prediction.py"
   ]
  },
  {
   "cell_type": "markdown",
   "metadata": {},
   "source": [
    "В этой функции надо из сырых данных, извлеченных из датасета, получить спектрограмму, прогнать через модель, посчитать средний лосс и wer для батча, list с текстами предсказанных гипотез для батча."
   ]
  },
  {
   "cell_type": "code",
   "execution_count": 81,
   "metadata": {
    "ExecuteTime": {
     "end_time": "2021-03-23T12:02:48.380644Z",
     "start_time": "2021-03-23T12:02:48.362397Z"
    },
    "scrolled": true
   },
   "outputs": [],
   "source": [
    "def get_model_results(\n",
    "    model, audios, audio_lens, tokens, texts, text_lens, \n",
    "    vocab, loss_fn, decoder, decoder_kwargs\n",
    "):\n",
    "    global _idx\n",
    "    \"\"\" get mean loss, mean wer and prediction list for batch\n",
    "        Returns:\n",
    "            loss: int\n",
    "            wer: int\n",
    "            prediction: list of str\n",
    "            \n",
    "    \"\"\"\n",
    "    ### write your code here ###\n",
    "    log_mel_spectrogram, seq_lens = compute_log_mel_spectrogram(audios, audio_lens, sample_rate=SAMPLE_RATE)\n",
    "    logprobs, seq_lens = model(log_mel_spectrogram, seq_lens)\n",
    "    loss = loss_fn(logprobs, tokens, seq_lens, text_lens)\n",
    "    \n",
    "    with torch.no_grad():\n",
    "        predictions = get_prediction(logprobs, seq_lens, vocab, decoder=decoder, decoder_kwargs=decoder_kwargs)\n",
    "        wer = calc_wer_for_batch(predictions, texts)\n",
    "    return loss, wer, predictions"
   ]
  },
  {
   "cell_type": "markdown",
   "metadata": {},
   "source": [
    "Для удобства будем логировать метрики в [tensorboard](https://pytorch.org/docs/stable/tensorboard.html)."
   ]
  },
  {
   "cell_type": "code",
   "execution_count": 82,
   "metadata": {
    "ExecuteTime": {
     "end_time": "2021-03-23T12:02:48.466339Z",
     "start_time": "2021-03-23T12:02:48.382222Z"
    },
    "scrolled": true
   },
   "outputs": [],
   "source": [
    "from torch.utils.tensorboard import SummaryWriter"
   ]
  },
  {
   "cell_type": "code",
   "execution_count": 83,
   "metadata": {
    "ExecuteTime": {
     "end_time": "2021-03-23T12:02:48.486058Z",
     "start_time": "2021-03-23T12:02:48.467981Z"
    },
    "code_folding": [
     0
    ],
    "scrolled": true
   },
   "outputs": [],
   "source": [
    "class TensorboardLogger:\n",
    "    def __init__(self, tensorboard_path):\n",
    "        self.writer = SummaryWriter(tensorboard_path)\n",
    "\n",
    "    def log(self, step, loss, wer, mode):\n",
    "        ### write your code here ###\n",
    "        \n",
    "        # add loss to tb \n",
    "        # add wer to tb \n",
    "        self.writer.add_scalar(f'wer/{mode}', wer, global_step=step)\n",
    "        self.writer.add_scalar(f'loss/{mode}', loss, global_step=step)\n",
    "\n",
    "    def log_text(self, step, pred_texts, gt_texts, mode):\n",
    "        \n",
    "        ### write your code here ###\n",
    "        \n",
    "        for pred_text in pred_texts:\n",
    "            # add pred text to tb \n",
    "            self.writer.add_text(f'predict/{mode}', pred_text, global_step=step)\n",
    "            \n",
    "        for gt_text in gt_texts:\n",
    "            # add gt text to tb \n",
    "            self.writer.add_text(f'ground truth/{mode}', gt_text, global_step=step)\n",
    "      \n",
    "    def close(self):\n",
    "        self.writer.close()"
   ]
  },
  {
   "cell_type": "markdown",
   "metadata": {},
   "source": [
    " "
   ]
  },
  {
   "cell_type": "markdown",
   "metadata": {},
   "source": [
    "Теперь можем собрать функции в train loop. "
   ]
  },
  {
   "cell_type": "markdown",
   "metadata": {},
   "source": [
    "## Training parameters"
   ]
  },
  {
   "cell_type": "code",
   "execution_count": 84,
   "metadata": {
    "ExecuteTime": {
     "end_time": "2021-03-23T12:02:48.505986Z",
     "start_time": "2021-03-23T12:02:48.487652Z"
    },
    "code_folding": [
     0
    ]
   },
   "outputs": [],
   "source": [
    "def validate(model, dataloader, vocab, loss_fn, decoder, decoder_kwargs):\n",
    "    loss, wer = 0.0, 0.0\n",
    "    with torch.no_grad():\n",
    "        for batch in tqdm(dataloader, total=len(dataloader)):\n",
    "            batch = {\n",
    "                key: value.to(device=device) if isinstance(value, torch.Tensor) else value for key, value in batch.items()\n",
    "            }\n",
    "            loss_batch, wer_batch, prediction = get_model_results(\n",
    "                model, batch[\"audios\"], batch[\"audio_lens\"],\n",
    "                batch[\"tokens\"], batch[\"texts\"], batch[\"text_lens\"], vocab, loss_fn,\n",
    "                decoder=decoder, decoder_kwargs=decoder_kwargs\n",
    "            )\n",
    "\n",
    "            loss += loss_batch.item() * batch['audio_lens'].shape[0]\n",
    "            wer += wer_batch * batch['audio_lens'].shape[0]\n",
    "\n",
    "        loss /= len(dataloader.dataset)\n",
    "        wer /= len(dataloader.dataset)\n",
    "    return loss, wer"
   ]
  },
  {
   "cell_type": "code",
   "execution_count": 85,
   "metadata": {
    "ExecuteTime": {
     "end_time": "2021-03-23T12:02:48.536007Z",
     "start_time": "2021-03-23T12:02:48.507701Z"
    },
    "code_folding": []
   },
   "outputs": [],
   "source": [
    "def training(\n",
    "    model, optimizer, loss_fn, num_epochs, \n",
    "    train_dataloader, val_dataloaders, log_every_n_batch, model_dir,\n",
    "    vocab, beam_kwargs\n",
    "):\n",
    "\n",
    "    logger = TensorboardLogger(model_dir)\n",
    "\n",
    "    for epoch in range(num_epochs):\n",
    "        start_time = time()\n",
    "        train_loss, train_wer = 0, 0\n",
    "        \n",
    "        if isinstance(train_dataloader, list):\n",
    "            train_dataloader, train_dataloader_name = train_dataloader\n",
    "        else:\n",
    "            train_dataloader, train_dataloader_name = train_dataloader, 'train'\n",
    "        \n",
    "        model.train(True)    \n",
    "        for iteration, batch in enumerate(tqdm(train_dataloader, total=len(train_dataloader))):\n",
    "            batch = {\n",
    "                key: value.to(device=device) if isinstance(value, torch.Tensor) else value for key, value in batch.items()\n",
    "            }\n",
    "            loss, wer, prediction = get_model_results(\n",
    "                model, batch[\"audios\"], batch[\"audio_lens\"], \n",
    "                batch[\"tokens\"], batch[\"texts\"], batch[\"text_lens\"], vocab, loss_fn,\n",
    "                decoder=greedy_decoder, decoder_kwargs=dict()\n",
    "            )\n",
    "\n",
    "            # optimizer step\n",
    "            ### write your code here ###\n",
    "            optimizer.zero_grad()\n",
    "            loss.backward()\n",
    "\n",
    "            gradient_norm = torch.sqrt(sum((torch.square(torch.norm(p.grad)) for p in model.parameters()))).item()\n",
    "            torch.nn.utils.clip_grad_norm_(model.parameters(), max_norm=1000.0, norm_type=2.0)\n",
    "            gradient_norm_clipped = torch.sqrt(sum((torch.square(torch.norm(p.grad)) for p in model.parameters()))).item()\n",
    "          \n",
    "            optimizer.step()\n",
    "\n",
    "            train_loss += loss.item() * batch['audio_lens'].shape[0]\n",
    "            train_wer += wer * batch['audio_lens'].shape[0]\n",
    "\n",
    "            step = len(train_dataloader) * epoch + iteration\n",
    "\n",
    "            logger.writer.add_scalar(f'grad_norm/non_clipped', gradient_norm, global_step=step)\n",
    "            logger.writer.add_scalar(f'grad_norm/clipped', gradient_norm_clipped, global_step=step)\n",
    "            if step % log_every_n_batch == 0:\n",
    "                logger.log(step, loss, wer, train_dataloader_name)\n",
    "                logger.log_text(step, prediction, batch[\"texts\"], train_dataloader_name)\n",
    "                \n",
    "            del batch, loss, wer, prediction\n",
    "        train_loss /= len(train_dataloader.dataset)\n",
    "        train_wer /= len(train_dataloader.dataset)\n",
    "        \n",
    "        model.train(False)      \n",
    "        val_losses, val_wers = dict(), dict()\n",
    "        for name, val_dataloader in val_dataloaders.items():\n",
    "            val_loss, val_wer = validate(\n",
    "                model=model, dataloader=val_dataloader, vocab=vocab, loss_fn=loss_fn,\n",
    "                decoder=fast_beam_search_decode, decoder_kwargs=beam_kwargs\n",
    "            )\n",
    "            val_wers[name] = val_wer\n",
    "            val_losses[name] = val_loss\n",
    "            \n",
    "            logger.log(step, val_loss, val_wer, f'{name}')\n",
    "            logger.log_text(step, prediction, batch[\"texts\"], f\"{name}\")\n",
    "\n",
    "        torch.save({\n",
    "            'epoch': epoch,\n",
    "            'model_state_dict': model.state_dict(),\n",
    "            'optimizer_state_dict': optimizer.state_dict(),\n",
    "            'loss': loss,\n",
    "        }, os.path.join(model_dir, f'epoch_{epoch}.pt'))\n",
    "\n",
    "        common_voice_val_wer, common_voice_val_loss = val_wers['common_voice/val'], val_losses['common_voice/val']\n",
    "        print(\n",
    "            f'\\nEpoch {epoch + 1} of {num_epochs} took {time() - start_time}s, ' + \\\n",
    "            f'train loss: {train_loss}, val loss: {common_voice_val_loss}, ' + \\\n",
    "            f'train wer: {train_wer}, val wer: {common_voice_val_wer}'\n",
    "        )\n",
    "\n",
    "    logger.close()\n",
    "    print(\"Finished!\")"
   ]
  },
  {
   "cell_type": "markdown",
   "metadata": {},
   "source": [
    "## Train LM model for beam search"
   ]
  },
  {
   "cell_type": "code",
   "execution_count": 86,
   "metadata": {
    "ExecuteTime": {
     "end_time": "2021-03-23T12:02:48.564729Z",
     "start_time": "2021-03-23T12:02:48.537693Z"
    }
   },
   "outputs": [],
   "source": [
    "with open('/data/mnakhodnov/language_data/common_voice/train.txt', 'w') as lm_data_file:\n",
    "    for text in common_voice_test_dataset.data['text']:\n",
    "        lm_data_file.write(text + '\\n')"
   ]
  },
  {
   "cell_type": "code",
   "execution_count": 87,
   "metadata": {
    "ExecuteTime": {
     "end_time": "2021-03-23T12:02:48.581554Z",
     "start_time": "2021-03-23T12:02:48.566325Z"
    }
   },
   "outputs": [],
   "source": [
    "def preprocess_for_lm(document):\n",
    "    document = document.lower()\n",
    "    document = regex.sub(r'\\P{Cyrillic}', ' ', document)\n",
    "    document = regex.sub(' +', ' ', document)\n",
    "    return document"
   ]
  },
  {
   "cell_type": "code",
   "execution_count": null,
   "metadata": {
    "ExecuteTime": {
     "end_time": "2021-03-22T13:05:30.658152Z",
     "start_time": "2021-03-22T12:38:36.485685Z"
    },
    "deletable": false,
    "editable": false,
    "run_control": {
     "frozen": true
    }
   },
   "outputs": [],
   "source": [
    "in_path = '/data/mnakhodnov/language_data/cc100/xaa'\n",
    "with open(in_path, 'r') as data_file:\n",
    "    with open(in_path + '.processed', 'w') as lm_data_file:\n",
    "        n_documnets, current_document = 0, []\n",
    "        for idx, line in enumerate(data_file):\n",
    "            line = line.strip()\n",
    "            if line == '':\n",
    "                # End of document\n",
    "                n_documnets += 1\n",
    "                current_document = preprocess_for_lm(' '.join(current_document))\n",
    "                if current_document != '':\n",
    "                    lm_data_file.write(current_document + '\\n')\n",
    "                current_document = []\n",
    "            else:\n",
    "                # New paragraph in document\n",
    "                current_document.append(line)"
   ]
  },
  {
   "cell_type": "code",
   "execution_count": 88,
   "metadata": {
    "ExecuteTime": {
     "end_time": "2021-03-23T12:02:48.598047Z",
     "start_time": "2021-03-23T12:02:48.583093Z"
    }
   },
   "outputs": [],
   "source": [
    "kenlm_bin_path = '/home/mnakhodnov/kenlm/build/bin'\n",
    "\n",
    "# kenlm_data_path = '/data/mnakhodnov/language_data/cc100/xaa.processed.4'\n",
    "kenlm_data_path = '/data/mnakhodnov/language_data/common_voice/train.txt'\n",
    "kenlm_arpa_path, kenlm_binary_path = kenlm_data_path + '.arpa', kenlm_data_path + '.binary'"
   ]
  },
  {
   "cell_type": "code",
   "execution_count": 119,
   "metadata": {
    "ExecuteTime": {
     "end_time": "2021-03-22T18:00:47.494607Z",
     "start_time": "2021-03-22T18:00:23.276467Z"
    },
    "deletable": false,
    "editable": false,
    "run_control": {
     "frozen": true
    },
    "scrolled": false
   },
   "outputs": [
    {
     "name": "stdout",
     "output_type": "stream",
     "text": [
      "=== 1/5 Counting and sorting n-grams ===\n",
      "Reading /data/mnakhodnov/language_data/cc100/xaa.processed.4\n",
      "----5---10---15---20---25---30---35---40---45---50---55---60---65---70---75---80---85---90---95--100\n",
      "****************************************************************************************************\n",
      "Unigram tokens 331074 types 51186\n",
      "=== 2/5 Calculating and sorting adjusted counts ===\n",
      "Chain sizes: 1:614232 2:20103364608 3:37693812736 4:60310097920 5:87952228352\n",
      "Statistics:\n",
      "1 51186 D1=0.652332 D2=1.10365 D3+=1.4757\n",
      "2 227275 D1=0.871749 D2=1.19501 D3+=1.48887\n",
      "3 304511 D1=0.960632 D2=1.38513 D3+=1.60137\n",
      "4 319924 D1=0.987147 D2=1.59434 D3+=1.60474\n",
      "5 323468 D1=0.977654 D2=1.68627 D3+=1.24524\n",
      "Memory estimate for binary LM:\n",
      "type       kB\n",
      "probing 26947 assuming -p 1.5\n",
      "probing 32137 assuming -r models -p 1.5\n",
      "trie    13244 without quantization\n",
      "trie     7456 assuming -q 8 -b 8 quantization \n",
      "trie    12008 assuming -a 22 array pointer compression\n",
      "trie     6220 assuming -a 22 -q 8 -b 8 array pointer compression and quantization\n",
      "=== 3/5 Calculating and sorting initial probabilities ===\n",
      "Chain sizes: 1:614232 2:3636400 3:6090220 4:7678176 5:9057104\n",
      "----5---10---15---20---25---30---35---40---45---50---55---60---65---70---75---80---85---90---95--100\n",
      "####################################################################################################\n",
      "=== 4/5 Calculating and writing order-interpolated probabilities ===\n",
      "Chain sizes: 1:614232 2:3636400 3:6090220 4:7678176 5:9057104\n",
      "----5---10---15---20---25---30---35---40---45---50---55---60---65---70---75---80---85---90---95--100\n",
      "####################################################################################################\n",
      "=== 5/5 Writing ARPA model ===\n",
      "----5---10---15---20---25---30---35---40---45---50---55---60---65---70---75---80---85---90---95--100\n",
      "****************************************************************************************************\n",
      "Name:lmplz\tVmPeak:201422912 kB\tVmRSS:8188 kB\tRSSMax:35545664 kB\tuser:6.35034\tsys:17.4688\tCPU:23.8192\treal:23.3643\n"
     ]
    }
   ],
   "source": [
    "! $kenlm_bin_path/lmplz -o 5 -S 80% -T /data/mnakhodnov/language_data/tmp <$kenlm_data_path > $kenlm_arpa_path"
   ]
  },
  {
   "cell_type": "code",
   "execution_count": 120,
   "metadata": {
    "ExecuteTime": {
     "end_time": "2021-03-22T18:00:52.251366Z",
     "start_time": "2021-03-22T18:00:50.852531Z"
    },
    "deletable": false,
    "editable": false,
    "run_control": {
     "frozen": true
    }
   },
   "outputs": [
    {
     "name": "stdout",
     "output_type": "stream",
     "text": [
      "Reading /data/mnakhodnov/language_data/cc100/xaa.processed.4.arpa\n",
      "----5---10---15---20---25---30---35---40---45---50---55---60---65---70---75---80---85---90---95--100\n",
      "****************************************************************************************************\n",
      "SUCCESS\n"
     ]
    }
   ],
   "source": [
    "! $kenlm_bin_path/build_binary $kenlm_arpa_path $kenlm_binary_path"
   ]
  },
  {
   "cell_type": "code",
   "execution_count": 89,
   "metadata": {
    "ExecuteTime": {
     "end_time": "2021-03-23T12:02:48.614212Z",
     "start_time": "2021-03-23T12:02:48.599594Z"
    }
   },
   "outputs": [],
   "source": [
    "# load_from_ckpt(model, './models/2/epoch_6.pt')"
   ]
  },
  {
   "cell_type": "code",
   "execution_count": 90,
   "metadata": {
    "ExecuteTime": {
     "end_time": "2021-03-23T12:02:48.631276Z",
     "start_time": "2021-03-23T12:02:48.615753Z"
    }
   },
   "outputs": [],
   "source": [
    "beam_kwargs = {\n",
    "    'beam_size': 10, 'cutoff_top_n': 5, 'cutoff_prob': None, \n",
    "    'ext_scoring_func': None, 'alpha': 1.0\n",
    "}\n",
    "fast_beam_kwargs = {\n",
    "    'beam_size': 10, 'cutoff_top_n': 5, 'cutoff_prob': 1.0, \n",
    "    'ext_scoring_func': kenlm_binary_path, 'alpha': 1.0, 'beta': 0.3, 'num_processes': 32\n",
    "}"
   ]
  },
  {
   "cell_type": "code",
   "execution_count": 210,
   "metadata": {
    "ExecuteTime": {
     "end_time": "2021-03-23T10:04:01.675214Z",
     "start_time": "2021-03-23T10:04:01.639146Z"
    }
   },
   "outputs": [],
   "source": [
    "model.eval()\n",
    "loss, wer = validate(\n",
    "    model, common_voice_val_dataloader, vocab, loss_fn,\n",
    "#     decoder=greedy_decoder, decoder_kwargs={}\n",
    "#     decoder=beam_search_decode, decoder_kwargs=beam_kwargs  \n",
    "    decoder=fast_beam_search_decode, decoder_kwargs=fast_beam_kwargs\n",
    ")\n",
    "model.train()\n",
    "\n",
    "print(f'Loss: {loss}, WER: {wer}')\n",
    "\n",
    "# greedy -> Loss: 0.2857444478869438, WER: 0.3258212143412143\n",
    "# fast_beam_search -> Loss: 0.2857444478869438, WER: 0.3172471955821956\n",
    "# fast_beam_search + LM (1.0, 0.0) -> Loss: 0.2857444478869438, WER: 0.26591688394938395\n",
    "# fast_beam_search + LM (1.0, 0.3) -> Loss: 0.2857444478869438, WER: 0.2645809271284272"
   ]
  },
  {
   "cell_type": "markdown",
   "metadata": {},
   "source": [
    "## And for now we finally train model"
   ]
  },
  {
   "cell_type": "code",
   "execution_count": 91,
   "metadata": {
    "ExecuteTime": {
     "end_time": "2021-03-23T12:03:16.106749Z",
     "start_time": "2021-03-23T12:03:15.673928Z"
    }
   },
   "outputs": [],
   "source": [
    "num_epochs = 7\n",
    "model_dir = 'models/4'\n",
    "log_every_n_batch = 10\n",
    "\n",
    "model = Model(\n",
    "    num_mel_bins=num_mel_bins,\n",
    "    hidden_size=hidden_size,\n",
    "    num_layers=num_layers,\n",
    "    num_tokens=num_tokens\n",
    ")\n",
    "load_from_ckpt(model, '/home/e.chuykova/data/ckpt.pt')\n",
    "# load_from_ckpt(model, '/home/mnakhodnov/sirius-stt/models/2/epoch_5.pt')\n",
    "model = model.to(device=device)"
   ]
  },
  {
   "cell_type": "code",
   "execution_count": 92,
   "metadata": {
    "ExecuteTime": {
     "end_time": "2021-03-23T12:03:16.352707Z",
     "start_time": "2021-03-23T12:03:16.331234Z"
    }
   },
   "outputs": [],
   "source": [
    "learning_rate = 2e-4\n",
    "opt = torch.optim.Adam(model.parameters(), lr=learning_rate)\n",
    "loss_fn = torch.nn.CTCLoss(blank=blank_index, reduction='mean')"
   ]
  },
  {
   "cell_type": "markdown",
   "metadata": {},
   "source": [
    "Про ctc loss очень хорошо написано [тут](https://distill.pub/2017/ctc/). А [это](https://www.cs.toronto.edu/~graves/icml_2006.pdf) исходная статья."
   ]
  },
  {
   "cell_type": "markdown",
   "metadata": {},
   "source": [
    "Если не используете перемешивание батчей (шафл), то при подборе batch size обратите внимание, что данные отсортированы (обучение будет замедляться с увеличением длины аудио)."
   ]
  },
  {
   "cell_type": "code",
   "execution_count": 103,
   "metadata": {
    "ExecuteTime": {
     "end_time": "2021-03-23T12:06:11.807537Z",
     "start_time": "2021-03-23T12:06:11.790758Z"
    }
   },
   "outputs": [],
   "source": [
    "# ls_train_dataloader.sampler.epoch = 0\n",
    "# open_stt_train_dataloader.sampler.epoch = 0\n",
    "# common_voice_train_dataloader.sampler.epoch = 0"
   ]
  },
  {
   "cell_type": "code",
   "execution_count": null,
   "metadata": {
    "ExecuteTime": {
     "start_time": "2021-03-23T12:06:28.281Z"
    },
    "scrolled": true
   },
   "outputs": [
    {
     "data": {
      "application/vnd.jupyter.widget-view+json": {
       "model_id": "51a359d1f50140488e3e516500f6d0f1",
       "version_major": 2,
       "version_minor": 0
      },
      "text/plain": [
       "  0%|          | 0/4282 [00:00<?, ?it/s]"
      ]
     },
     "metadata": {},
     "output_type": "display_data"
    }
   ],
   "source": [
    "num_epochs = 100\n",
    "\n",
    "training(\n",
    "    model=model, optimizer=opt, loss_fn=loss_fn, num_epochs=num_epochs, \n",
    "#     train_dataloader=[common_voice_train_dataloader, 'common_voice/train'],\n",
    "#     train_dataloader=[ls_train_dataloader, 'libre_speech/train'],\n",
    "    train_dataloader=[open_stt_train_dataloader, 'open_stt/train'],\n",
    "    val_dataloaders={\n",
    "        'open_stt/test': ls_test_dataloader,\n",
    "        'libre_speech/dev': ls_dev_dataloader,\n",
    "        'libre_speech/test': ls_test_dataloader,\n",
    "        'common_voice/val': common_voice_val_dataloader,\n",
    "    }, log_every_n_batch=log_every_n_batch, model_dir=model_dir, vocab=vocab,\n",
    "    beam_kwargs=fast_beam_kwargs\n",
    ")"
   ]
  },
  {
   "cell_type": "markdown",
   "metadata": {},
   "source": [
    " "
   ]
  },
  {
   "cell_type": "markdown",
   "metadata": {},
   "source": [
    "<img src=\"images/training.jpeg\" width=\"400\" height=\"400\">\n",
    "\n",
    "\n",
    "После того, как напишете весь код и запустите обучение вашей первой модели, примерно после 5-6 эпох качество модели достигнет 30-35% WER.\n",
    "\n",
    "# Как можно улучшить полученные результаты\n",
    "\n",
    "<img src=\"images/pronunciation_or_not.jpg\" width=\"400\" height=\"400\">\n",
    "\n",
    "Далее описаны несколько способов, которые могут помочь улучшить качество. Потенциальный прирост обозначим ★, чем больше звездочек, тем более хорошее улучшение качества можно ожидать."
   ]
  },
  {
   "cell_type": "markdown",
   "metadata": {},
   "source": [
    " "
   ]
  },
  {
   "cell_type": "markdown",
   "metadata": {},
   "source": [
    "## Beam search ★★\n",
    "\n",
    "На лекции обсуждали, что beam search помогает достичь более хорошего качества, чем greedy декодирование.\n",
    "\n",
    "Изучить алгоритм можно [тут](https://medium.com/corti-ai/ctc-networks-and-language-models-prefix-beam-search-explained-c11d1ee23306) и [тут](https://drive.google.com/viewerng/viewer?url=https://arxiv.org/pdf/1408.2873.pdf)\n",
    "\n",
    "Код для beam search посмотреть [тут](https://github.com/PaddlePaddle/DeepSpeech/blob/master/decoders/decoders_deprecated.py). (Отредактировать при необходимости )"
   ]
  },
  {
   "cell_type": "markdown",
   "metadata": {},
   "source": [
    " "
   ]
  },
  {
   "cell_type": "markdown",
   "metadata": {},
   "source": [
    "## Внешняя языковая модель ★★★\n",
    "\n",
    "\n",
    "Внешняя языковая модель позволяет улучшить качество, т.к. убирает условную независимость соседних символов, которая свойственна ctc лоссу.\n",
    "\n",
    "Этот пункт состоит из двух этапов: сначала надо обучить языковую модель, затем встроить ее в beam search.\n",
    "\n",
    "#### Обучение\n",
    "\n",
    "Для обучения n-gram языковой модели можно использовать фреймворк kenlm.\n",
    "Документация: \n",
    "* https://kheafield.com/code/kenlm/\n",
    "* https://github.com/kpu/kenlm\n",
    "\n",
    "Модель сначала строится в формате arpa, затем ее лучше перевести в формат trie. Вызывать полученную модель можно через питон [ссылка](https://github.com/kpu/kenlm#python-module)\n",
    "\n",
    "\n",
    "#### Данные\n",
    "\n",
    "Для обучения модели конечно нужны данные :) Тут есть варианты:\n",
    "\n",
    "1. Можно обучить маленькую языковую модель на текстах из акустических обучающих данных (из трейна!).\n",
    "\n",
    "минусы: этих данных мало\n",
    "\n",
    "плюсы: домен остается таким же\n",
    "\n",
    "2. Можно взять внешние данные, например, [отсюда](http://data.statmt.org/cc-100/). (46G).\n",
    "\n",
    "минусы: тексты из другого (произвольного) домена\n",
    "\n",
    "плюсы: данных много\n",
    "\n",
    "При необходимости, данные надо предобработать - привести к нижнему регистру, разделить на предложения. Убрать предложения, которые содержат символы не из русского алфавита \n",
    "\n",
    "\n",
    "#### Внедрение в beam search\n",
    "\n",
    "В разделе про beam search есть ссылки на алгоритм.\n",
    "\n",
    "Можно использовать аргумент `ext_scoring_func` [тут](https://github.com/PaddlePaddle/DeepSpeech/blob/master/decoders/decoders_deprecated.py#L47).\n",
    "\n",
    "Пример скорера можно найти [тут](https://github.com/PaddlePaddle/DeepSpeech/blob/master/decoders/scorer_deprecated.py)"
   ]
  },
  {
   "cell_type": "markdown",
   "metadata": {},
   "source": [
    " "
   ]
  },
  {
   "cell_type": "markdown",
   "metadata": {},
   "source": [
    "## Аугментации ★\n",
    "\n",
    "\n",
    "Позволяют искусственно увеличь размер обучающей выборки, сделать его более разнообразным.\n",
    "\n",
    "### Аугментации аудио \n",
    "\n",
    "Применяются к аудиосигналу. Аугментации обычно реализуются через [sox](https://ru.wikipedia.org/wiki/SoX_(%D0%BF%D1%80%D0%BE%D0%B3%D1%80%D0%B0%D0%BC%D0%BC%D0%B0)). [Тут](http://sox.sourceforge.net/sox.html#EFFECTS) можно посмотротреть полный список sox эффектов с описанием. \n",
    "\n",
    "Полный список sox эффектов, доступных в torchaudio, можно посмотреть [тут](https://github.com/pytorch/audio/issues/260).\n",
    "\n",
    "Эффекты можно комбинировать.\n",
    "\n",
    "Внимание!\n",
    "\n",
    "* Аугментации надо применять очень аккуратно (!) - слишком сильные аугментации только ухудшат качество. Лучше применять аугментации с некоторой вероятностью.\n",
    "* Применять **только на обучающую выборку, не на валидацию!**\n",
    "* Некоторые аугментации меняют sample rate и длину аудио.\n",
    "* Можно применять не открывая предварительно аудиофайл [ссылка](https://pytorch.org/audio/stable/sox_effects.html#applying-effects-on-file).\n",
    "\n",
    "\n",
    "Примеры:"
   ]
  },
  {
   "cell_type": "code",
   "execution_count": null,
   "metadata": {
    "ExecuteTime": {
     "end_time": "2021-03-21T08:34:11.739128Z",
     "start_time": "2021-03-21T08:34:11.722298Z"
    }
   },
   "outputs": [],
   "source": [
    "def augment_audio(audio, sample_rate, effects):\n",
    "    \n",
    "    effects = [effects, ['rate', '8000']]\n",
    "\n",
    "    augmented_audio, sample_rate = torchaudio.sox_effects.apply_effects_tensor(\n",
    "        torch.unsqueeze(audio, 0),\n",
    "        sample_rate=sample_rate,\n",
    "        effects=effects,\n",
    "        channels_first=True)\n",
    "    \n",
    "    return augmented_audio"
   ]
  },
  {
   "cell_type": "code",
   "execution_count": null,
   "metadata": {
    "ExecuteTime": {
     "end_time": "2021-03-21T08:34:27.027263Z",
     "start_time": "2021-03-21T08:34:26.995944Z"
    }
   },
   "outputs": [],
   "source": [
    "sample_rate = 8000\n",
    "audio, audio_len = open_audio('test_files/test_audio.mp3', sample_rate)\n",
    "Audio(data=audio.numpy(), rate=sample_rate)"
   ]
  },
  {
   "cell_type": "code",
   "execution_count": null,
   "metadata": {
    "ExecuteTime": {
     "end_time": "2021-03-21T08:34:14.607281Z",
     "start_time": "2021-03-21T08:34:14.588493Z"
    }
   },
   "outputs": [],
   "source": [
    "augmented_audio = augment_audio(audio, sample_rate, ['treble', '20'])\n",
    "Audio(data=augmented_audio.numpy(), rate=sample_rate)"
   ]
  },
  {
   "cell_type": "code",
   "execution_count": null,
   "metadata": {
    "ExecuteTime": {
     "end_time": "2021-03-21T08:36:13.483037Z",
     "start_time": "2021-03-21T08:36:13.461561Z"
    }
   },
   "outputs": [],
   "source": [
    "augmented_audio = augment_audio(audio, sample_rate, ['bass', '20'])\n",
    "Audio(data=augmented_audio.numpy(), rate=sample_rate)"
   ]
  },
  {
   "cell_type": "code",
   "execution_count": null,
   "metadata": {
    "ExecuteTime": {
     "end_time": "2021-03-21T08:34:15.040078Z",
     "start_time": "2021-03-21T08:34:15.017892Z"
    }
   },
   "outputs": [],
   "source": [
    "augmented_audio = augment_audio(audio, sample_rate, ['pitch', '400'])\n",
    "Audio(data=augmented_audio.numpy(), rate=sample_rate)"
   ]
  },
  {
   "cell_type": "code",
   "execution_count": null,
   "metadata": {
    "ExecuteTime": {
     "end_time": "2021-03-21T08:34:15.232224Z",
     "start_time": "2021-03-21T08:34:15.213735Z"
    }
   },
   "outputs": [],
   "source": [
    "augmented_audio = augment_audio(audio, sample_rate, ['speed', '1.5'])\n",
    "Audio(data=augmented_audio.numpy(), rate=sample_rate)"
   ]
  },
  {
   "cell_type": "code",
   "execution_count": null,
   "metadata": {
    "ExecuteTime": {
     "end_time": "2021-03-21T08:34:15.447809Z",
     "start_time": "2021-03-21T08:34:15.430075Z"
    }
   },
   "outputs": [],
   "source": [
    "augmented_audio = augment_audio(audio, sample_rate, ['tempo', '1.5'])\n",
    "Audio(data=augmented_audio.numpy(), rate=sample_rate)"
   ]
  },
  {
   "cell_type": "markdown",
   "metadata": {},
   "source": [
    " "
   ]
  },
  {
   "cell_type": "markdown",
   "metadata": {},
   "source": [
    "### Аугментации спектрограммы\n",
    "\n",
    "[SpecAugment: A Simple Data Augmentation Method for Automatic Speech Recognition](https://arxiv.org/pdf/1904.08779.pdf)\n",
    "\n",
    "Методов [Frequency masking](https://pytorch.org/audio/stable/transforms.html#frequencymasking) и [Time masking](https://pytorch.org/audio/stable/transforms.html#timemasking) должно быть достаточно."
   ]
  },
  {
   "cell_type": "markdown",
   "metadata": {},
   "source": [
    " "
   ]
  },
  {
   "cell_type": "markdown",
   "metadata": {},
   "source": [
    "# Что еще можно попробовать: \n",
    "\n",
    "1. Поэкспериментировать с learning rate, оптимайзером (например, взять SGD). Можно добавить [lr decay](https://pytorch.org/docs/stable/optim.html#torch.optim.lr_scheduler.ExponentialLR) ★\n",
    "2. Поэкспериментировать с нейронной сетью и восттановлением из чекпоинта. Например, зафиксировать предобученные слои и дообучить остальные, потом с маленьким learning rate дообучить всю модель. ★\n",
    "3. Добавить новые слои в нейронную сеть. ★★\n",
    "4. Использовать больше данных. ★★★\n",
    "<img src=\"images/more_data.jpg\" width=\"400\" height=\"400\">\n",
    "\n",
    "В этом случае для ускорения можно запустить распределенное обучение на нескольких gpu с помощью [horovod](https://github.com/horovod/horovod). Данные можно взять тут:\n",
    "\n",
    "* [open_stt](https://github.com/snakers4/open_stt) (до 2.5 TB данных!)\n",
    "* [Russian LibriSpeech](https://openslr.org/96/) (9 GB данных)\n"
   ]
  },
  {
   "cell_type": "markdown",
   "metadata": {},
   "source": [
    "5\\. Не использовать чекпоинт и обучить свою сеть :) ★ (потребуется больше данных!)\n",
    "\n",
    "6\\. Shallow fusion - можно обучить дополнительную языковую модель и использовать в качестве рескорера \n",
    "[ссылка](https://arxiv.org/pdf/1503.03535.pdf). ★\n",
    "\n",
    "7\\. Реализовать перемешивание батчей. ★\n"
   ]
  },
  {
   "cell_type": "code",
   "execution_count": null,
   "metadata": {},
   "outputs": [],
   "source": []
  }
 ],
 "metadata": {
  "kernelspec": {
   "display_name": "Python 3",
   "language": "python",
   "name": "python3"
  },
  "language_info": {
   "codemirror_mode": {
    "name": "ipython",
    "version": 3
   },
   "file_extension": ".py",
   "mimetype": "text/x-python",
   "name": "python",
   "nbconvert_exporter": "python",
   "pygments_lexer": "ipython3",
   "version": "3.6.9"
  }
 },
 "nbformat": 4,
 "nbformat_minor": 4
}
