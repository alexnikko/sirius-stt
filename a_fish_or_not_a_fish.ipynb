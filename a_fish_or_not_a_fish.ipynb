{
 "cells": [
  {
   "cell_type": "code",
   "execution_count": 1,
   "metadata": {
    "ExecuteTime": {
     "end_time": "2021-03-21T08:15:31.909139Z",
     "start_time": "2021-03-21T08:15:31.884224Z"
    }
   },
   "outputs": [],
   "source": [
    "%config Completer.use_jedi = False\n",
    "%load_ext autoreload\n",
    "%autoreload 2"
   ]
  },
  {
   "cell_type": "code",
   "execution_count": 2,
   "metadata": {
    "ExecuteTime": {
     "end_time": "2021-03-21T08:15:32.109613Z",
     "start_time": "2021-03-21T08:15:32.102263Z"
    }
   },
   "outputs": [],
   "source": [
    "import warnings\n",
    "from pprint import pprint\n",
    "\n",
    "warnings.filterwarnings(\"ignore\", category=DeprecationWarning) \n",
    "warnings.filterwarnings(\"ignore\", category=UserWarning)"
   ]
  },
  {
   "cell_type": "code",
   "execution_count": 3,
   "metadata": {
    "ExecuteTime": {
     "end_time": "2021-03-21T08:15:32.860137Z",
     "start_time": "2021-03-21T08:15:32.298818Z"
    },
    "tags": [
     "torch"
    ]
   },
   "outputs": [],
   "source": [
    "import os\n",
    "import torch\n",
    "import numpy as np"
   ]
  },
  {
   "cell_type": "markdown",
   "metadata": {},
   "source": [
    "Распределите в команде гпу, задайте свой номер."
   ]
  },
  {
   "cell_type": "code",
   "execution_count": 4,
   "metadata": {
    "ExecuteTime": {
     "end_time": "2021-03-21T08:15:33.760134Z",
     "start_time": "2021-03-21T08:15:32.862159Z"
    }
   },
   "outputs": [
    {
     "name": "stdout",
     "output_type": "stream",
     "text": [
      "Sun Mar 21 08:15:33 2021       \n",
      "+-----------------------------------------------------------------------------+\n",
      "| NVIDIA-SMI 450.80.02    Driver Version: 450.80.02    CUDA Version: 11.0     |\n",
      "|-------------------------------+----------------------+----------------------+\n",
      "| GPU  Name        Persistence-M| Bus-Id        Disp.A | Volatile Uncorr. ECC |\n",
      "| Fan  Temp  Perf  Pwr:Usage/Cap|         Memory-Usage | GPU-Util  Compute M. |\n",
      "|                               |                      |               MIG M. |\n",
      "|===============================+======================+======================|\n",
      "|   0  Tesla V100-SXM2...  On   | 00000000:00:1B.0 Off |                    0 |\n",
      "| N/A   48C    P0    37W / 300W |      5MiB / 16160MiB |      0%      Default |\n",
      "|                               |                      |                  N/A |\n",
      "+-------------------------------+----------------------+----------------------+\n",
      "|   1  Tesla V100-SXM2...  On   | 00000000:00:1C.0 Off |                    0 |\n",
      "| N/A   44C    P0    56W / 300W |   1472MiB / 16160MiB |      0%      Default |\n",
      "|                               |                      |                  N/A |\n",
      "+-------------------------------+----------------------+----------------------+\n",
      "|   2  Tesla V100-SXM2...  On   | 00000000:00:1D.0 Off |                    0 |\n",
      "| N/A   40C    P0    40W / 300W |      5MiB / 16160MiB |      0%      Default |\n",
      "|                               |                      |                  N/A |\n",
      "+-------------------------------+----------------------+----------------------+\n",
      "|   3  Tesla V100-SXM2...  On   | 00000000:00:1E.0 Off |                    0 |\n",
      "| N/A   49C    P0    59W / 300W |   7372MiB / 16160MiB |      0%      Default |\n",
      "|                               |                      |                  N/A |\n",
      "+-------------------------------+----------------------+----------------------+\n",
      "                                                                               \n",
      "+-----------------------------------------------------------------------------+\n",
      "| Processes:                                                                  |\n",
      "|  GPU   GI   CI        PID   Type   Process name                  GPU Memory |\n",
      "|        ID   ID                                                   Usage      |\n",
      "|=============================================================================|\n",
      "+-----------------------------------------------------------------------------+\n"
     ]
    }
   ],
   "source": [
    "! nvidia-smi"
   ]
  },
  {
   "cell_type": "code",
   "execution_count": 5,
   "metadata": {
    "ExecuteTime": {
     "end_time": "2021-03-21T08:15:33.834811Z",
     "start_time": "2021-03-21T08:15:33.762417Z"
    },
    "scrolled": true,
    "tags": [
     "torch"
    ]
   },
   "outputs": [
    {
     "name": "stdout",
     "output_type": "stream",
     "text": [
      "dtype: torch.float32, device: cuda:0, cuda_device_id 0\n"
     ]
    }
   ],
   "source": [
    "# Set proper device for computations,\n",
    "dtype, device, cuda_device_id = torch.float32, None, 0\n",
    "os.environ[\"CUDA_VISIBLE_DEVICES\"] = '{0}'.format(str(cuda_device_id) if cuda_device_id is not None else '')\n",
    "if cuda_device_id is not None and torch.cuda.is_available():\n",
    "    device = 'cuda:{0:d}'.format(0)\n",
    "else:\n",
    "    device = torch.device('cpu')\n",
    "    \n",
    "print(f'dtype: {dtype}, device: {device}, cuda_device_id {cuda_device_id}')"
   ]
  },
  {
   "cell_type": "markdown",
   "metadata": {},
   "source": [
    "Импортируем полезную либу `attrdict`. Чем она хороша: позволяет обращаться к элементам словаря, как к его атрибутам"
   ]
  },
  {
   "cell_type": "code",
   "execution_count": 6,
   "metadata": {
    "ExecuteTime": {
     "end_time": "2021-03-21T08:15:33.848621Z",
     "start_time": "2021-03-21T08:15:33.836470Z"
    },
    "scrolled": true
   },
   "outputs": [],
   "source": [
    "from attrdict import AttrDict"
   ]
  },
  {
   "cell_type": "markdown",
   "metadata": {},
   "source": [
    "# Работа с аудио и текстом"
   ]
  },
  {
   "cell_type": "markdown",
   "metadata": {},
   "source": [
    "В распознавании речи нейронная сеть обучается на парах аудио+текст.\n",
    "\n",
    "Давайте научимся открывать аудиофайлы и подготавливать их для работы с нейронной сетью.\n"
   ]
  },
  {
   "cell_type": "markdown",
   "metadata": {},
   "source": [
    "\n",
    "На лекциях мы обсуждали, что аудио может быть записано с разной частотой дискретизации (sample rate), но для обучения нейронной сети обычно все аудио приводят к одной частоте дискретизации. (В этом проекте мы будем использовать sample rate 8000).\n",
    "\n",
    "Так же аудио может быть одноканальным или многоканальным. Проблема с многоканальным аудио может быть в том, что речь в двух каналах может звучать одновременно, такие аудио надо разделять на 2 дорожки. В нашем же случае данные подобраны таким образом, что такой ситуации не возникет, поэтому несколько каналов можно просто усреднить.\n",
    "\n",
    "\n",
    "Будем использовать библиотеку `torchaudio` [docs](https://pytorch.org/audio/).\n",
    "\n",
    "Реализуйте функцию `open_audio`, которая открывает аудио (искать [тут](https://pytorch.org/audio/stable/torchaudio.html)), усредняет аудио по всем каналам (это можно сделать обычным усреднением) и приводит к необходимой частоте дискретизации (искать [тут](https://pytorch.org/audio/stable/transforms.html))."
   ]
  },
  {
   "cell_type": "code",
   "execution_count": 7,
   "metadata": {
    "ExecuteTime": {
     "end_time": "2021-03-21T08:15:35.215949Z",
     "start_time": "2021-03-21T08:15:35.182224Z"
    },
    "scrolled": true,
    "tags": [
     "torchaudio"
    ]
   },
   "outputs": [],
   "source": [
    "import torchaudio"
   ]
  },
  {
   "cell_type": "code",
   "execution_count": 18,
   "metadata": {
    "ExecuteTime": {
     "end_time": "2021-03-21T08:18:50.138265Z",
     "start_time": "2021-03-21T08:18:49.460491Z"
    }
   },
   "outputs": [
    {
     "name": "stdout",
     "output_type": "stream",
     "text": [
      "spectrogram.npy  test_dataset.txt\t   test_open_audio.npy\r\n",
      "test_audio.mp3\t test_open_audio16000.npy\r\n",
      "test_audio.opus  test_open_audio2.npy\r\n"
     ]
    }
   ],
   "source": [
    "! ls test_files/"
   ]
  },
  {
   "cell_type": "code",
   "execution_count": 32,
   "metadata": {
    "ExecuteTime": {
     "end_time": "2021-03-21T08:26:42.603518Z",
     "start_time": "2021-03-21T08:26:42.588496Z"
    },
    "code_folding": [],
    "scrolled": true,
    "tags": [
     "open_audio"
    ]
   },
   "outputs": [],
   "source": [
    "def open_audio(audio_path, desired_sample_rate, effects=None):\n",
    "    \n",
    "    \"\"\" Open and resample audio, average across channels\n",
    "        Inputs:\n",
    "\n",
    "            audio_path: str, path to audio\n",
    "            desired_sample_rate: int, the sampling rate to which we would like to convert the audio\n",
    "        Returns:\n",
    "            audio: 1D tensor with shape (num_timesteps)\n",
    "            audio_len: int, len of audio\n",
    "    \"\"\"\n",
    "    ### write your code here ###\n",
    "    if effects is None:\n",
    "        audio_data, orig_sample_rate = torchaudio.load(audio_path, channels_first=True)\n",
    "        resampler = torchaudio.transforms.Resample(orig_freq=orig_sample_rate, new_freq=desired_sample_rate)\n",
    "        audio_data = resampler(audio_data)\n",
    "    else:\n",
    "        # Sampling method is inconsistent with torchaudio.transforms.Resample\n",
    "        audio_data, _ = torchaudio.sox_effects.apply_effects_file(\n",
    "            audio_path, effects=[*effects, ['rate', str(desired_sample_rate)]], channels_first=True\n",
    "        )\n",
    "    \n",
    "    audio_data = torch.mean(audio_data, axis=0)\n",
    "    return audio_data, audio_data.shape[0]"
   ]
  },
  {
   "cell_type": "markdown",
   "metadata": {},
   "source": [
    "Запустите тесты, чтобы проверить себя.\n",
    "<img src=\"images/tests_are_all_we_need.png\" width=\"400\" height=\"600\">\n",
    "\n",
    "\n",
    "**Перед каждым запуском тестов не забывайте сохранять ноутбук.**"
   ]
  },
  {
   "cell_type": "code",
   "execution_count": 33,
   "metadata": {
    "ExecuteTime": {
     "end_time": "2021-03-21T08:26:47.399246Z",
     "start_time": "2021-03-21T08:26:44.394476Z"
    },
    "scrolled": true
   },
   "outputs": [
    {
     "name": "stdout",
     "output_type": "stream",
     "text": [
      "Don't forget to save Jupyter Notebook! \n",
      "\n",
      "\n",
      "\u001b[1m============================= test session starts ==============================\u001b[0m\n",
      "platform linux -- Python 3.6.9, pytest-6.2.2, py-1.10.0, pluggy-0.13.1\n",
      "rootdir: /home/mnakhodnov/sirius-stt, configfile: pytest.ini\n",
      "collected 2 items                                                              \u001b[0m\u001b[1m\n",
      "\n",
      "tests/test_open_audio.py \u001b[32m.\u001b[0m\u001b[32m.\u001b[0m\u001b[32m                                              [100%]\u001b[0m\n",
      "\n",
      "\u001b[32m============================== \u001b[32m\u001b[1m2 passed\u001b[0m\u001b[32m in 1.80s\u001b[0m\u001b[32m ===============================\u001b[0m\n"
     ]
    }
   ],
   "source": [
    "! pytest tests/test_open_audio.py"
   ]
  },
  {
   "cell_type": "markdown",
   "metadata": {},
   "source": [
    " "
   ]
  },
  {
   "cell_type": "markdown",
   "metadata": {},
   "source": [
    "Теперь давайте откроем аудио, и послушаем, что у нас получилось."
   ]
  },
  {
   "cell_type": "code",
   "execution_count": 34,
   "metadata": {
    "ExecuteTime": {
     "end_time": "2021-03-21T08:26:48.584345Z",
     "start_time": "2021-03-21T08:26:48.569736Z"
    },
    "scrolled": true
   },
   "outputs": [],
   "source": [
    "from IPython.display import Audio"
   ]
  },
  {
   "cell_type": "code",
   "execution_count": 35,
   "metadata": {
    "ExecuteTime": {
     "end_time": "2021-03-21T08:26:48.817131Z",
     "start_time": "2021-03-21T08:26:48.785167Z"
    },
    "scrolled": true
   },
   "outputs": [
    {
     "data": {
      "text/html": [
       "\n",
       "                <audio  controls=\"controls\" >\n",
       "                    <source src=\"data:audio/wav;base64,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"
      ],
      "text/plain": [
       "<IPython.lib.display.Audio object>"
      ]
     },
     "execution_count": 35,
     "metadata": {},
     "output_type": "execute_result"
    },
    {
     "data": {
      "text/html": [
       "<b>limit_output extension: Maximum message size of 10000 exceeded with 104740 characters</b>"
      ]
     },
     "metadata": {},
     "output_type": "display_data"
    }
   ],
   "source": [
    "sample_rate = 8000\n",
    "audio, audio_len = open_audio('test_files/test_audio.mp3', sample_rate)\n",
    "Audio(data=audio.numpy(), rate=sample_rate)"
   ]
  },
  {
   "cell_type": "markdown",
   "metadata": {},
   "source": [
    "Так же послушать аудио можно через путь к аудио файлу.\n",
    "\n",
    "Можно заметить, что звучание немного поменялось. Это произошло из-за того, что мы поменяли оригинальный sample rate 48000Hz на 8000Hz."
   ]
  },
  {
   "cell_type": "code",
   "execution_count": 36,
   "metadata": {
    "ExecuteTime": {
     "end_time": "2021-03-21T08:26:51.192271Z",
     "start_time": "2021-03-21T08:26:51.176095Z"
    },
    "scrolled": true
   },
   "outputs": [
    {
     "data": {
      "text/html": [
       "\n",
       "                <audio  controls=\"controls\" >\n",
       "                    <source src=\"data:audio/mpeg;base64,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"
      ],
      "text/plain": [
       "<IPython.lib.display.Audio object>"
      ]
     },
     "execution_count": 36,
     "metadata": {},
     "output_type": "execute_result"
    },
    {
     "data": {
      "text/html": [
       "<b>limit_output extension: Maximum message size of 10000 exceeded with 52774 characters</b>"
      ]
     },
     "metadata": {},
     "output_type": "display_data"
    }
   ],
   "source": [
    "Audio('test_files/test_audio.mp3')"
   ]
  },
  {
   "cell_type": "markdown",
   "metadata": {},
   "source": [
    " "
   ]
  },
  {
   "cell_type": "markdown",
   "metadata": {},
   "source": [
    " "
   ]
  },
  {
   "cell_type": "markdown",
   "metadata": {},
   "source": [
    "Speech2text  —  это не только speech, но и text, поэтому теперь давайте поговорим о предобработке текста. \n",
    "\n",
    "Первым шагом необходимо привести текст к нижнему регистру и удалить пунктуацию. Если на этом этапе в тексте содержатся символы кроме русского алфавита и пробела (например, цифры), то такие примеры лучше вообще убрать из обучающей выборки (если просто убрать символ из строки, то может нарушиться соответствие аудио-текст).\n",
    "\n",
    "В размеченных данных для обучения и валидации уже произедена очистка и удаление ненужных символов, поэтому нам надо только извлечь токены из текста.\n",
    "\n",
    "В качестве токенов для обучения нейронной сети будем использовать буквы русского алфавита и пробел. Так же, как было сказано в лекциях, нам потребуется специальный символ `<blank>` для построения выравниваний."
   ]
  },
  {
   "cell_type": "code",
   "execution_count": 37,
   "metadata": {
    "ExecuteTime": {
     "end_time": "2021-03-21T08:26:54.283417Z",
     "start_time": "2021-03-21T08:26:54.269608Z"
    },
    "scrolled": true,
    "tags": [
     "alphabet"
    ]
   },
   "outputs": [],
   "source": [
    "alphabet = ['а', 'б', 'в', 'г', 'д', 'е', 'ё', 'ж', 'з', 'и', 'й', 'к',\n",
    "            'л', 'м', 'н', 'о', 'п', 'р', 'с', 'т', 'у', 'ф', 'х', 'ц',\n",
    "            'ч', 'ш', 'щ', 'ь', 'ы', 'ъ', 'э', 'ю', 'я',\n",
    "            ' ', '<blank>']"
   ]
  },
  {
   "cell_type": "markdown",
   "metadata": {},
   "source": [
    "Но, естественно, в таком виде передавать буквы в нейронную сеть мы не можем — их нужно закодировать в числа. Для этого будем использовать уже готовую функцию Vocab.\n",
    "\n",
    "Обратите внимание, что Vocab добавляет дополнительный токен `<unk>`, ответственный за все символы, которых нет в словаре."
   ]
  },
  {
   "cell_type": "code",
   "execution_count": 38,
   "metadata": {
    "ExecuteTime": {
     "end_time": "2021-03-21T08:26:54.698215Z",
     "start_time": "2021-03-21T08:26:54.616797Z"
    },
    "scrolled": true,
    "tags": [
     "vocab"
    ]
   },
   "outputs": [
    {
     "name": "stdout",
     "output_type": "stream",
     "text": [
      "The `unk_token` '<unk>' wasn't found in the tokens. Adding the `unk_token` to the end of the Vocab.\n"
     ]
    }
   ],
   "source": [
    "from vocabulary import Vocab\n",
    "vocab = Vocab(alphabet)"
   ]
  },
  {
   "cell_type": "markdown",
   "metadata": {},
   "source": [
    "Попрактикуйтесь с Vocab. Для того, чтобы понять все возможности Vocab можно заглянуть в код vocabulary.py и почитать докстринги.\n",
    "\n",
    "* переведите \"привет\" в индексы\n",
    "* переведите [11, 0, 11, 33, 4, 5, 12, 0] в текст\n",
    "* что будет если перевести в индексы слово \"hi\"?\n",
    "* а [44, 5] в текст?\n"
   ]
  },
  {
   "cell_type": "code",
   "execution_count": 39,
   "metadata": {
    "ExecuteTime": {
     "end_time": "2021-03-21T08:26:55.433590Z",
     "start_time": "2021-03-21T08:26:55.419872Z"
    }
   },
   "outputs": [
    {
     "data": {
      "text/plain": [
       "[16, 17, 9, 2, 5, 19]"
      ]
     },
     "execution_count": 39,
     "metadata": {},
     "output_type": "execute_result"
    }
   ],
   "source": [
    "vocab.lookup_indices('привет')"
   ]
  },
  {
   "cell_type": "code",
   "execution_count": 40,
   "metadata": {
    "ExecuteTime": {
     "end_time": "2021-03-21T08:26:55.650815Z",
     "start_time": "2021-03-21T08:26:55.637105Z"
    }
   },
   "outputs": [
    {
     "data": {
      "text/plain": [
       "['к', 'а', 'к', ' ', 'д', 'е', 'л', 'а']"
      ]
     },
     "execution_count": 40,
     "metadata": {},
     "output_type": "execute_result"
    }
   ],
   "source": [
    "vocab.lookup_tokens([11, 0, 11, 33, 4, 5, 12, 0])"
   ]
  },
  {
   "cell_type": "code",
   "execution_count": 41,
   "metadata": {
    "ExecuteTime": {
     "end_time": "2021-03-21T08:26:55.803264Z",
     "start_time": "2021-03-21T08:26:55.790132Z"
    }
   },
   "outputs": [
    {
     "data": {
      "text/plain": [
       "[35, 35]"
      ]
     },
     "execution_count": 41,
     "metadata": {},
     "output_type": "execute_result"
    }
   ],
   "source": [
    "vocab.lookup_indices('hi')"
   ]
  },
  {
   "cell_type": "code",
   "execution_count": 42,
   "metadata": {
    "ExecuteTime": {
     "end_time": "2021-03-21T08:26:55.986991Z",
     "start_time": "2021-03-21T08:26:55.973933Z"
    }
   },
   "outputs": [
    {
     "name": "stdout",
     "output_type": "stream",
     "text": [
      "lookup_indices() Expected a value of type 'List[str]' for argument '_1' but instead found type 'list'.\n",
      "Position: 1\n",
      "Value: [45, 5]\n",
      "Declaration: lookup_indices(__torch__.torch.classes.torchtext.Vocab _0, str[] _1) -> (int[] _0)\n",
      "Cast error details: Unable to cast Python instance to C++ type (compile in debug mode for details)\n"
     ]
    }
   ],
   "source": [
    "try:\n",
    "    vocab.lookup_indices([45, 5])\n",
    "except Exception as ex:\n",
    "    print(ex)"
   ]
  },
  {
   "cell_type": "markdown",
   "metadata": {},
   "source": [
    "Какие еще у Vocab возможности?\n",
    "\n",
    "Если в процессе исследования вы изменили текущий vocab (путем добавления нового токена, например), не забудьте вернуть vocab к начальному состоянию  `vocab = Vocab(alphabet)`"
   ]
  },
  {
   "cell_type": "markdown",
   "metadata": {},
   "source": [
    "Давайте извлечем из Vocab и сохраним в переменные два важных значения - длину алфавита и значения индекса `<blank>`.\n",
    "    \n",
    "Эти значения нам еще много раз пригодятся."
   ]
  },
  {
   "cell_type": "code",
   "execution_count": 43,
   "metadata": {
    "ExecuteTime": {
     "end_time": "2021-03-21T08:26:56.717118Z",
     "start_time": "2021-03-21T08:26:56.702415Z"
    },
    "scrolled": true,
    "tags": [
     "get_num_tokens",
     "get_blank_index"
    ]
   },
   "outputs": [],
   "source": [
    "def get_num_tokens(vocab):\n",
    "    ### write your code here ###\n",
    "    num_tokens = len(vocab.tokens2indices())\n",
    "    return num_tokens\n",
    "\n",
    "def get_blank_index(vocab):\n",
    "    ### write your code here ###\n",
    "    blank_index = vocab['<blank>']\n",
    "    return blank_index"
   ]
  },
  {
   "cell_type": "code",
   "execution_count": 44,
   "metadata": {
    "ExecuteTime": {
     "end_time": "2021-03-21T08:27:03.549592Z",
     "start_time": "2021-03-21T08:26:57.729686Z"
    },
    "scrolled": true
   },
   "outputs": [
    {
     "name": "stdout",
     "output_type": "stream",
     "text": [
      "Don't forget to save Jupyter Notebook! \n",
      "\n",
      "\n",
      "\u001b[1m============================= test session starts ==============================\u001b[0m\n",
      "platform linux -- Python 3.6.9, pytest-6.2.2, py-1.10.0, pluggy-0.13.1\n",
      "rootdir: /home/mnakhodnov/sirius-stt, configfile: pytest.ini\n",
      "collected 1 item                                                               \u001b[0m\u001b[1m\n",
      "\n",
      "tests/test_num_tokens.py \u001b[32m.\u001b[0m\u001b[32m                                               [100%]\u001b[0m\n",
      "\n",
      "\u001b[32m============================== \u001b[32m\u001b[1m1 passed\u001b[0m\u001b[32m in 1.73s\u001b[0m\u001b[32m ===============================\u001b[0m\n",
      "Don't forget to save Jupyter Notebook! \n",
      "\n",
      "\n",
      "\u001b[1m============================= test session starts ==============================\u001b[0m\n",
      "platform linux -- Python 3.6.9, pytest-6.2.2, py-1.10.0, pluggy-0.13.1\n",
      "rootdir: /home/mnakhodnov/sirius-stt, configfile: pytest.ini\n",
      "collected 1 item                                                               \u001b[0m\u001b[1m\n",
      "\n",
      "tests/test_blank_index.py \u001b[32m.\u001b[0m\u001b[32m                                              [100%]\u001b[0m\n",
      "\n",
      "\u001b[32m============================== \u001b[32m\u001b[1m1 passed\u001b[0m\u001b[32m in 1.73s\u001b[0m\u001b[32m ===============================\u001b[0m\n"
     ]
    }
   ],
   "source": [
    "! pytest tests/test_num_tokens.py\n",
    "! pytest tests/test_blank_index.py"
   ]
  },
  {
   "cell_type": "code",
   "execution_count": 45,
   "metadata": {
    "ExecuteTime": {
     "end_time": "2021-03-21T08:27:03.567697Z",
     "start_time": "2021-03-21T08:27:03.551775Z"
    },
    "scrolled": true
   },
   "outputs": [],
   "source": [
    "num_tokens = get_num_tokens(vocab) \n",
    "blank_index = get_blank_index(vocab)"
   ]
  },
  {
   "cell_type": "markdown",
   "metadata": {},
   "source": [
    "# Подготовка датасета"
   ]
  },
  {
   "cell_type": "markdown",
   "metadata": {},
   "source": [
    "Обучать нейронную сеть мы будем на подготовленном датасете. Для удобства мы сгруппировали обучающие и валидационные данные в текстовые файлы, где в каждой строке через запятую указан путь к файлу, соответствующий текст, длина аудио (в секундах).\n",
    "\n",
    "\n",
    "Давайте реализуем функцию AudioDataset, которая подготавливает текст и аудио для каждого элемента датастета.\n",
    "\n",
    "\n",
    "На этих данных мы будем обучать модель с помощью ctc лосса, а мы уже знаем, что для обучения с ctc аудио лучше отсортировать по длине - так модели будет проще обучиться.\n",
    "\n",
    "Изучить документацию по Dataset и DataLoader (пригодится далее) можно найти [тут](https://pytorch.org/docs/stable/data.html)."
   ]
  },
  {
   "cell_type": "code",
   "execution_count": 46,
   "metadata": {
    "ExecuteTime": {
     "end_time": "2021-03-21T08:27:03.827643Z",
     "start_time": "2021-03-21T08:27:03.569541Z"
    },
    "scrolled": true
   },
   "outputs": [],
   "source": [
    "import pandas as pd"
   ]
  },
  {
   "cell_type": "code",
   "execution_count": 63,
   "metadata": {
    "ExecuteTime": {
     "end_time": "2021-03-21T08:32:03.688934Z",
     "start_time": "2021-03-21T08:32:03.666166Z"
    },
    "code_folding": [],
    "scrolled": true
   },
   "outputs": [],
   "source": [
    " class AudioDataset(torch.utils.data.Dataset):\n",
    "    def __init__(self, dataset_path, vocab, sample_rate=8000, audio_tranforms=None):\n",
    "        self.vocab = vocab\n",
    "        self.sample_rate = sample_rate\n",
    "        self.audio_tranforms = audio_tranforms\n",
    "        \n",
    "        data = pd.read_csv(dataset_path, header=None, names=['audio_path', 'text', 'duration'])\n",
    "        data['duration'] = data['duration'].astype(float)\n",
    "        self.data = data.sort_values(by='duration')\n",
    "        \n",
    "        self.idx_to_text_len = dict()\n",
    "        self.idx_to_audio_len = dict()\n",
    "#         for idx in range(self.data.shape[0]):\n",
    "#             self.idx_to_text_len[idx] = len(self.data.iloc[idx]['text'])\n",
    "#             self.idx_to_audio_len[idx] = self.data.iloc[idx]['duration']\n",
    "        \n",
    "    def __len__(self):\n",
    "        return self.data.shape[0]\n",
    "\n",
    "    def __getitem__(self, idx):\n",
    "        audio_path = self.data.audio_path[idx]\n",
    "        text = self.data.text[idx]\n",
    "\n",
    "        ### write your code here ###\n",
    "        text_len = len(text)\n",
    "        tokens = torch.tensor(self.vocab.lookup_indices(text))\n",
    "        audio, audio_len = open_audio(audio_path, self.sample_rate, effects=self.audio_tranforms.sample())\n",
    "        \n",
    "        return {\"audio\":  audio,  # torch tensor, (num_timesteps)\n",
    "                \"audio_len\": audio_len, # int\n",
    "                \"text\": text, # str\n",
    "                \"text_len\": text_len, # int\n",
    "                'tokens': tokens, # torch tensor, (text_len)\n",
    "               }\n",
    "    \n",
    "class AudioTransform(torch.nn.Module):\n",
    "    def __init__(self, effects=None):\n",
    "        super().__init__()\n",
    "        self.effects = [] if effects is None else effects\n",
    "        \n",
    "    def sample(self):\n",
    "        sampled_effects = []\n",
    "        for effect_name, lower, upper in self.effects:\n",
    "            magnitude = np.random.uniform(low=lower, high=upper)\n",
    "            sampled_effects.append([effect_name, str(magnitude)])\n",
    "            \n",
    "        return sampled_effects"
   ]
  },
  {
   "cell_type": "code",
   "execution_count": 64,
   "metadata": {
    "ExecuteTime": {
     "end_time": "2021-03-21T08:32:04.790017Z",
     "start_time": "2021-03-21T08:32:04.773147Z"
    }
   },
   "outputs": [
    {
     "data": {
      "text/plain": [
       "[['test', '0.4146022632518763']]"
      ]
     },
     "execution_count": 64,
     "metadata": {},
     "output_type": "execute_result"
    }
   ],
   "source": [
    "AudioTransform([\n",
    "    ['test', 0, 1]\n",
    "]).sample()"
   ]
  },
  {
   "cell_type": "code",
   "execution_count": 65,
   "metadata": {
    "ExecuteTime": {
     "end_time": "2021-03-21T08:32:05.782453Z",
     "start_time": "2021-03-21T08:32:05.640361Z"
    }
   },
   "outputs": [],
   "source": [
    "ds = AudioDataset(\n",
    "    train_dataset_path, vocab,\n",
    "    audio_tranforms=AudioTransform([\n",
    "        \n",
    "        ['delay', 0.0, 1.0]\n",
    "    ])\n",
    ")"
   ]
  },
  {
   "cell_type": "code",
   "execution_count": 80,
   "metadata": {
    "ExecuteTime": {
     "end_time": "2021-03-21T08:32:22.707363Z",
     "start_time": "2021-03-21T08:32:22.687793Z"
    }
   },
   "outputs": [
    {
     "data": {
      "text/plain": [
       "{'audio': tensor([ 0.0000,  0.0000,  0.0000,  ...,  0.0004,  0.0005, -0.0009]),\n",
       " 'audio_len': 13901,\n",
       " 'text': 'один',\n",
       " 'text_len': 4,\n",
       " 'tokens': tensor([15,  4,  9, 14])}"
      ]
     },
     "execution_count": 80,
     "metadata": {},
     "output_type": "execute_result"
    }
   ],
   "source": [
    "ds[0]"
   ]
  },
  {
   "cell_type": "code",
   "execution_count": 58,
   "metadata": {
    "ExecuteTime": {
     "end_time": "2021-03-21T08:31:23.702373Z",
     "start_time": "2021-03-21T08:31:23.685497Z"
    }
   },
   "outputs": [
    {
     "name": "stdout",
     "output_type": "stream",
     "text": [
      "['allpass', 'band', 'bandpass', 'bandreject', 'bass', 'bend', 'biquad', 'chorus', 'channels', 'compand', 'contrast', 'dcshift', 'deemph', 'delay', 'dither', 'divide', 'downsample', 'earwax', 'echo', 'echos', 'equalizer', 'fade', 'fir', 'firfit', 'flanger', 'gain', 'highpass', 'hilbert', 'loudness', 'lowpass', 'mcompand', 'norm', 'oops', 'overdrive', 'pad', 'phaser', 'pitch', 'rate', 'remix', 'repeat', 'reverb', 'reverse', 'riaa', 'silence', 'sinc', 'speed', 'stat', 'stats', 'stretch', 'swap', 'synth', 'tempo', 'treble', 'tremolo', 'trim', 'upsample', 'vad', 'vol']\n"
     ]
    }
   ],
   "source": [
    "print(torchaudio.sox_effects.effect_names())"
   ]
  },
  {
   "cell_type": "code",
   "execution_count": null,
   "metadata": {},
   "outputs": [],
   "source": []
  },
  {
   "cell_type": "code",
   "execution_count": null,
   "metadata": {},
   "outputs": [],
   "source": []
  },
  {
   "cell_type": "code",
   "execution_count": 29,
   "metadata": {
    "ExecuteTime": {
     "end_time": "2021-03-19T23:26:29.314188Z",
     "start_time": "2021-03-19T23:26:26.245048Z"
    },
    "scrolled": true
   },
   "outputs": [
    {
     "name": "stdout",
     "output_type": "stream",
     "text": [
      "Don't forget to save Jupyter Notebook! \n",
      "\n",
      "\n",
      "\u001b[1m============================= test session starts ==============================\u001b[0m\n",
      "platform linux -- Python 3.6.9, pytest-6.2.2, py-1.10.0, pluggy-0.13.1\n",
      "rootdir: /home/mnakhodnov/sirius-stt, configfile: pytest.ini\n",
      "collected 2 items                                                              \u001b[0m\u001b[1m\n",
      "\n",
      "tests/test_dataset.py \u001b[32m.\u001b[0m\u001b[32m.\u001b[0m\u001b[32m                                                 [100%]\u001b[0m\n",
      "\n",
      "\u001b[32m============================== \u001b[32m\u001b[1m2 passed\u001b[0m\u001b[32m in 1.89s\u001b[0m\u001b[32m ===============================\u001b[0m\n"
     ]
    }
   ],
   "source": [
    "! pytest tests/test_dataset.py"
   ]
  },
  {
   "cell_type": "markdown",
   "metadata": {},
   "source": [
    "Давайте посмотрим, как будут выглядеть элементы полученного датасета."
   ]
  },
  {
   "cell_type": "code",
   "execution_count": 59,
   "metadata": {
    "ExecuteTime": {
     "end_time": "2021-03-21T08:31:27.137503Z",
     "start_time": "2021-03-21T08:31:26.938934Z"
    }
   },
   "outputs": [],
   "source": [
    "train_dataset_path = '/home/e.chuykova/data/train.txt'\n",
    "test_dataset_path = '/home/e.chuykova/data/test.txt'\n",
    "val_dataset_path = '/home/e.chuykova/data/val.txt'\n",
    "\n",
    "train_dataset = AudioDataset(train_dataset_path, vocab)\n",
    "test_dataset = AudioDataset(test_dataset_path, vocab)\n",
    "val_dataset = AudioDataset(val_dataset_path,vocab)"
   ]
  },
  {
   "cell_type": "code",
   "execution_count": 25,
   "metadata": {
    "ExecuteTime": {
     "end_time": "2021-03-21T08:20:05.591800Z",
     "start_time": "2021-03-21T08:20:05.389899Z"
    }
   },
   "outputs": [],
   "source": [
    "import matplotlib.pyplot as plt"
   ]
  },
  {
   "cell_type": "code",
   "execution_count": 31,
   "metadata": {
    "ExecuteTime": {
     "end_time": "2021-03-19T23:26:58.683173Z",
     "start_time": "2021-03-19T23:26:56.724477Z"
    }
   },
   "outputs": [
    {
     "data": {
      "image/png": "[encoded data removed]",
      "text/plain": [
       "<Figure size 1080x432 with 2 Axes>"
      ]
     },
     "metadata": {
      "needs_background": "light"
     },
     "output_type": "display_data"
    }
   ],
   "source": [
    "fig, axes = plt.subplots(1, 2, figsize=(15, 6))\n",
    "_ = axes[0].hist(train_dataset.idx_to_text_len.values(), bins=50, label='train', density=True)\n",
    "_ = axes[0].hist(test_dataset.idx_to_text_len.values(), bins=50, label='test', density=True)\n",
    "_ = axes[0].hist(val_dataset.idx_to_text_len.values(), bins=50, label='val', density=True)\n",
    "\n",
    "_ = axes[1].hist(train_dataset.idx_to_audio_len.values(), bins=50, label='train', density=True)\n",
    "_ = axes[1].hist(test_dataset.idx_to_audio_len.values(), bins=50, label='test', density=True)\n",
    "_ = axes[1].hist(val_dataset.idx_to_audio_len.values(), bins=50, label='val', density=True)\n",
    "\n",
    "axes[0].set_title('Text length')\n",
    "axes[1].set_title('Audio length')\n",
    "\n",
    "axes[0].legend()\n",
    "axes[1].legend()\n",
    "\n",
    "plt.show()"
   ]
  },
  {
   "cell_type": "code",
   "execution_count": 32,
   "metadata": {
    "ExecuteTime": {
     "end_time": "2021-03-19T23:26:58.797242Z",
     "start_time": "2021-03-19T23:26:58.684967Z"
    }
   },
   "outputs": [
    {
     "name": "stdout",
     "output_type": "stream",
     "text": [
      "element number: 0\n",
      "{'audio': tensor([ 0.0000,  0.0000,  0.0000,  ...,  0.0005, -0.0008, -0.0006]),\n",
      " 'audio_len': 8360,\n",
      " 'text': 'один',\n",
      " 'text_len': 4,\n",
      " 'tokens': tensor([15,  4,  9, 14])}\n",
      "\n",
      "element number: 1\n",
      "{'audio': tensor([-1.3758e-09, -2.2855e-09, -1.3640e-09,  ..., -2.1114e-04,\n",
      "        -4.1249e-04, -2.6402e-04]),\n",
      " 'audio_len': 8640,\n",
      " 'text': 'ноль',\n",
      " 'text_len': 4,\n",
      " 'tokens': tensor([14, 15, 12, 27])}\n",
      "\n",
      "element number: 2\n",
      "{'audio': tensor([0.0000, 0.0000, 0.0000,  ..., 0.0068, 0.0080, 0.0038]),\n",
      " 'audio_len': 8987,\n",
      " 'text': 'два',\n",
      " 'text_len': 3,\n",
      " 'tokens': tensor([4, 2, 0])}\n",
      "\n"
     ]
    }
   ],
   "source": [
    "for i, element in enumerate(train_dataset):\n",
    "    print(f'element number: {i}')\n",
    "    pprint(element)\n",
    "    print()\n",
    "    if i > 1:\n",
    "        break"
   ]
  },
  {
   "cell_type": "markdown",
   "metadata": {},
   "source": [
    " "
   ]
  },
  {
   "cell_type": "markdown",
   "metadata": {},
   "source": [
    "Чтобы эффективно обучать нейронную сеть, необходимо подавать в нее данные батчами. В этом нам поможет функция `torch.utils.data.DataLoader`. \n",
    "\n",
    "Обратите внимание, что некоторые данные в датасете разной длины (например, `audio`), для формирования батча из таких данных  необходимо использовать паддинг. Для этого можно реализовать фукцию `collate_fn`. Подробнее про то, как именно использовать `collate_fn` можно почитатать в доках к `torch.utils.data.DataLoader`."
   ]
  },
  {
   "cell_type": "code",
   "execution_count": 33,
   "metadata": {
    "ExecuteTime": {
     "end_time": "2021-03-19T23:27:02.657167Z",
     "start_time": "2021-03-19T23:27:02.654372Z"
    },
    "scrolled": true
   },
   "outputs": [],
   "source": [
    "from torch.nn.utils.rnn import pad_sequence"
   ]
  },
  {
   "cell_type": "code",
   "execution_count": 34,
   "metadata": {
    "ExecuteTime": {
     "end_time": "2021-03-19T23:27:03.160566Z",
     "start_time": "2021-03-19T23:27:03.155048Z"
    },
    "code_folding": [
     0
    ],
    "scrolled": true
   },
   "outputs": [],
   "source": [
    "def collate_fn(batch):\n",
    "    \"\"\" \n",
    "        Inputs:\n",
    "            batch: list of elements with length=batch_ize\n",
    "        Returns:\n",
    "            dict\n",
    "    \"\"\"\n",
    "    ### write your code here ###\n",
    "    audios = torch.nn.utils.rnn.pad_sequence(\n",
    "        [obj['audio'] for obj in batch], batch_first=True, padding_value=0.0\n",
    "    )\n",
    "    audio_lens = torch.tensor([obj['audio'].shape[0] for obj in batch])\n",
    "    \n",
    "    texts = [obj['text'] for obj in batch]\n",
    "    text_lens = torch.tensor([len(obj['text']) for obj in batch])\n",
    "    tokens = torch.nn.utils.rnn.pad_sequence(\n",
    "        [obj['tokens'] for obj in batch], batch_first=True, padding_value=0.0\n",
    "    )\n",
    "    \n",
    "    return {'audios': audios, # torch tensor, (batch_size, max_num_timesteps)\n",
    "            'audio_lens': audio_lens, # torch tensor, (batch_size)\n",
    "            'texts': texts,  # list, len=(batch_size)\n",
    "            \"text_lens\": text_lens, # torch tensor, (batch_size)\n",
    "            'tokens': tokens,  # torch tensor, (batch_size, max_text_len)\n",
    "           }"
   ]
  },
  {
   "cell_type": "code",
   "execution_count": 35,
   "metadata": {
    "ExecuteTime": {
     "end_time": "2021-03-19T23:27:06.371182Z",
     "start_time": "2021-03-19T23:27:03.403848Z"
    },
    "scrolled": true
   },
   "outputs": [
    {
     "name": "stdout",
     "output_type": "stream",
     "text": [
      "Don't forget to save Jupyter Notebook! \n",
      "\n",
      "\n",
      "\u001b[1m============================= test session starts ==============================\u001b[0m\n",
      "platform linux -- Python 3.6.9, pytest-6.2.2, py-1.10.0, pluggy-0.13.1\n",
      "rootdir: /home/mnakhodnov/sirius-stt, configfile: pytest.ini\n",
      "collected 1 item                                                               \u001b[0m\u001b[1m\n",
      "\n",
      "tests/test_collate_fn.py \u001b[32m.\u001b[0m\u001b[32m                                               [100%]\u001b[0m\n",
      "\n",
      "\u001b[32m============================== \u001b[32m\u001b[1m1 passed\u001b[0m\u001b[32m in 1.79s\u001b[0m\u001b[32m ===============================\u001b[0m\n"
     ]
    }
   ],
   "source": [
    "! pytest tests/test_collate_fn.py"
   ]
  },
  {
   "cell_type": "code",
   "execution_count": 36,
   "metadata": {
    "ExecuteTime": {
     "end_time": "2021-03-19T23:27:06.376297Z",
     "start_time": "2021-03-19T23:27:06.373512Z"
    },
    "scrolled": true
   },
   "outputs": [],
   "source": [
    "batch_size = 90\n",
    "num_workers = 8"
   ]
  },
  {
   "cell_type": "markdown",
   "metadata": {},
   "source": [
    "При создании DataLoader не забудьте использовать параметры `batch_size`, `num_workers`.\n",
    "\n",
    "Так же в DataLoader есть параметр `shuffle`, который используется для перемешивания данных. Сейчас наши аудио отсортированы по длине, т.е. длины аудио внутри одного батча максимально близки друг другу - и это самый эффективный способ формировать батчи в распознавании речи. Если включить shuffle=True, то короткие аудио могут попасть в один батч с длинными, средний размер батча увеличится, это будет менее эффективно. Поэтому необходимо **перемешивать сформированные батчи**, а не элементы датасета.\n",
    "    \n",
    "Реализовать перемешивание батчей в PyTorch - это не самая простая задача, поэтому советую сейчас пропустить этот шаг."
   ]
  },
  {
   "cell_type": "code",
   "execution_count": 37,
   "metadata": {
    "ExecuteTime": {
     "end_time": "2021-03-19T23:27:06.747344Z",
     "start_time": "2021-03-19T23:27:06.744561Z"
    }
   },
   "outputs": [],
   "source": [
    "from torch.utils.data import DataLoader, BatchSampler, SequentialSampler, RandomSampler"
   ]
  },
  {
   "cell_type": "code",
   "execution_count": 38,
   "metadata": {
    "ExecuteTime": {
     "end_time": "2021-03-19T23:27:07.621938Z",
     "start_time": "2021-03-19T23:27:07.616315Z"
    },
    "code_folding": [
     0
    ]
   },
   "outputs": [],
   "source": [
    "class AudioDatasetSampler:\n",
    "    def __init__(self, dataset, batch_size):\n",
    "        self.epoch = 0\n",
    "        self.dataset = dataset\n",
    "        self.batch_size = batch_size\n",
    "\n",
    "        # Assume that data in dataset is sorted w.r. to duration\n",
    "        self.batches = list(BatchSampler(SequentialSampler(self.dataset), batch_size=self.batch_size, drop_last=False))\n",
    "    \n",
    "    def __iter__(self):\n",
    "        if self.epoch == 0:\n",
    "            for batch_idx in SequentialSampler(self.batches):\n",
    "                for idx in self.batches[batch_idx]:\n",
    "                    yield idx\n",
    "        else:\n",
    "            for batch_idx in RandomSampler(self.batches):\n",
    "                for idx in self.batches[batch_idx]:\n",
    "                    yield idx\n",
    "        self.epoch += 1\n",
    "        \n",
    "    def __len__(self):\n",
    "        return len(self.dataset)"
   ]
  },
  {
   "cell_type": "code",
   "execution_count": 39,
   "metadata": {
    "ExecuteTime": {
     "end_time": "2021-03-19T23:27:07.886730Z",
     "start_time": "2021-03-19T23:27:07.873618Z"
    },
    "scrolled": true
   },
   "outputs": [],
   "source": [
    "# YOUR CODE\n",
    "train_dataloader = DataLoader(\n",
    "    train_dataset, batch_size=batch_size, sampler=AudioDatasetSampler(train_dataset, batch_size=batch_size),\n",
    "    num_workers=num_workers, pin_memory=True, collate_fn=collate_fn\n",
    ")\n",
    "# YOUR CODE\n",
    "val_dataloader = DataLoader(\n",
    "    val_dataset, batch_size=batch_size, shuffle=False, num_workers=num_workers, pin_memory=True, collate_fn=collate_fn\n",
    ")"
   ]
  },
  {
   "cell_type": "markdown",
   "metadata": {},
   "source": [
    "Давайте посмотрим, что у нас хранится в даталоадере. Обратите внимание, что из-за `batch_size=90` выведется достаточно много значений. Можно уменьшить `batch_size`, чтобы посмотреть на выход, но обучать сеть лучше с `batch_size=90`."
   ]
  },
  {
   "cell_type": "code",
   "execution_count": 40,
   "metadata": {
    "ExecuteTime": {
     "end_time": "2021-03-19T23:27:13.939898Z",
     "start_time": "2021-03-19T23:27:09.086135Z"
    },
    "scrolled": true
   },
   "outputs": [
    {
     "name": "stdout",
     "output_type": "stream",
     "text": [
      "element number: 0\n",
      "{'audio_lens': tensor([ 8360,  8640,  8987,  9196,  9196,  9405,  9405,  9600,  9823, 10032,\n",
      "        10176, 10176, 10368, 10449, 10560, 10560, 10560, 10560, 10560, 10560,\n",
      "        10560, 10560, 10560, 10560, 10658, 10752, 10752, 11136, 11136, 11136,\n",
      "        11136, 11285, 11328, 11328, 11520, 11520, 11520, 11520, 11520, 11520,\n",
      "        11520, 11520, 11712, 11712, 11712, 11712, 11703, 11904, 11904, 11904,\n",
      "        12096, 12096, 12096, 12096, 12096, 12096, 12096, 12096, 12096, 12096,\n",
      "        12096, 12096, 12096, 12096, 12096, 12096, 12096, 12096, 12096, 12096,\n",
      "        12096, 12288, 12288, 12288, 12288, 12288, 12330, 12480, 12480, 12480,\n",
      "        12480, 12480, 12480, 12480, 12480, 12480, 12480, 12480, 12480, 12480]),\n",
      " 'audios': tensor([[ 0.0000e+00,  0.0000e+00,  0.0000e+00,  ...,  0.0000e+00,\n",
      "          0.0000e+00,  0.0000e+00],\n",
      "        [-1.3758e-09, -2.2855e-09, -1.3640e-09,  ...,  0.0000e+00,\n",
      "          0.0000e+00,  0.0000e+00],\n",
      "        [ 0.0000e+00,  0.0000e+00,  0.0000e+00,  ...,  0.0000e+00,\n",
      "          0.0000e+00,  0.0000e+00],\n",
      "        ...,\n",
      "        [-2.3419e-11, -2.0890e-09, -1.6021e-09,  ..., -3.6762e-03,\n",
      "         -3.0726e-03, -3.9459e-03],\n",
      "        [ 0.0000e+00,  0.0000e+00,  0.0000e+00,  ..., -8.7997e-04,\n",
      "         -1.7371e-03, -1.0839e-03],\n",
      "        [-1.3403e-10, -1.5786e-09, -1.9822e-09,  ..., -1.1050e-03,\n",
      "         -9.6490e-04, -7.1196e-04]]),\n",
      " 'text_lens': tensor([4, 4, 3, 5, 3, 4, 3, 3, 5, 4, 2, 4, 3, 6, 4, 3, 6, 4, 3, 3, 3, 3, 6, 6,\n",
      "        3, 4, 2, 4, 4, 4, 2, 5, 5, 2, 3, 6, 2, 4, 4, 4, 6, 5, 2, 4, 2, 6, 2, 5,\n",
      "        3, 5, 8, 5, 3, 4, 6, 4, 2, 4, 4, 4, 4, 2, 4, 5, 5, 4, 2, 2, 2, 2, 4, 2,\n",
      "        4, 5, 4, 4, 6, 3, 2, 4, 3, 4, 4, 2, 3, 3, 4, 3, 4, 6]),\n",
      " 'texts': ['один',\n",
      "           'ноль',\n",
      "           'два',\n",
      "           'шесть',\n",
      "           'нет',\n",
      "           'пять',\n",
      "           'три',\n",
      "           'два',\n",
      "           'шесть',\n",
      "           'ноль',\n",
      "           'да',\n",
      "           'пять',\n",
      "           'нет',\n",
      "           'четыре',\n",
      "           'пять',\n",
      "           'нет',\n",
      "           'четыре',\n",
      "           'пять',\n",
      "           'два',\n",
      "           'нет',\n",
      "           'три',\n",
      "           'два',\n",
      "           'восемь',\n",
      "           'девять',\n",
      "           'два',\n",
      "           'пять',\n",
      "           'да',\n",
      "           'один',\n",
      "           'ноль',\n",
      "           'один',\n",
      "           'да',\n",
      "           'шесть',\n",
      "           'шесть',\n",
      "           'да',\n",
      "           'два',\n",
      "           'восемь',\n",
      "           'да',\n",
      "           'пять',\n",
      "           'один',\n",
      "           'пять',\n",
      "           'четыре',\n",
      "           'шесть',\n",
      "           'да',\n",
      "           'один',\n",
      "           'да',\n",
      "           'девять',\n",
      "           'да',\n",
      "           'шесть',\n",
      "           'два',\n",
      "           'шесть',\n",
      "           'с дороги',\n",
      "           'каких',\n",
      "           'два',\n",
      "           'пять',\n",
      "           'девять',\n",
      "           'семь',\n",
      "           'эй',\n",
      "           'ноль',\n",
      "           'семь',\n",
      "           'один',\n",
      "           'пять',\n",
      "           'да',\n",
      "           'ноль',\n",
      "           'шесть',\n",
      "           'шесть',\n",
      "           'семь',\n",
      "           'эй',\n",
      "           'да',\n",
      "           'да',\n",
      "           'эй',\n",
      "           'один',\n",
      "           'эй',\n",
      "           'семь',\n",
      "           'шесть',\n",
      "           'семь',\n",
      "           'семь',\n",
      "           'восемь',\n",
      "           'нет',\n",
      "           'да',\n",
      "           'пять',\n",
      "           'два',\n",
      "           'семь',\n",
      "           'а он',\n",
      "           'эй',\n",
      "           'нет',\n",
      "           'три',\n",
      "           'ноль',\n",
      "           'три',\n",
      "           'ноль',\n",
      "           'четыре'],\n",
      " 'tokens': tensor([[15,  4,  9, 14,  0,  0,  0,  0],\n",
      "        [14, 15, 12, 27,  0,  0,  0,  0],\n",
      "        [ 4,  2,  0,  0,  0,  0,  0,  0],\n",
      "        [25,  5, 18, 19, 27,  0,  0,  0],\n",
      "        [14,  5, 19,  0,  0,  0,  0,  0],\n",
      "        [16, 32, 19, 27,  0,  0,  0,  0],\n",
      "        [19, 17,  9,  0,  0,  0,  0,  0],\n",
      "        [ 4,  2,  0,  0,  0,  0,  0,  0],\n",
      "        [25,  5, 18, 19, 27,  0,  0,  0],\n",
      "        [14, 15, 12, 27,  0,  0,  0,  0],\n",
      "        [ 4,  0,  0,  0,  0,  0,  0,  0],\n",
      "        [16, 32, 19, 27,  0,  0,  0,  0],\n",
      "        [14,  5, 19,  0,  0,  0,  0,  0],\n",
      "        [24,  5, 19, 28, 17,  5,  0,  0],\n",
      "        [16, 32, 19, 27,  0,  0,  0,  0],\n",
      "        [14,  5, 19,  0,  0,  0,  0,  0],\n",
      "        [24,  5, 19, 28, 17,  5,  0,  0],\n",
      "        [16, 32, 19, 27,  0,  0,  0,  0],\n",
      "        [ 4,  2,  0,  0,  0,  0,  0,  0],\n",
      "        [14,  5, 19,  0,  0,  0,  0,  0],\n",
      "        [19, 17,  9,  0,  0,  0,  0,  0],\n",
      "        [ 4,  2,  0,  0,  0,  0,  0,  0],\n",
      "        [ 2, 15, 18,  5, 13, 27,  0,  0],\n",
      "        [ 4,  5,  2, 32, 19, 27,  0,  0],\n",
      "        [ 4,  2,  0,  0,  0,  0,  0,  0],\n",
      "        [16, 32, 19, 27,  0,  0,  0,  0],\n",
      "        [ 4,  0,  0,  0,  0,  0,  0,  0],\n",
      "        [15,  4,  9, 14,  0,  0,  0,  0],\n",
      "        [14, 15, 12, 27,  0,  0,  0,  0],\n",
      "        [15,  4,  9, 14,  0,  0,  0,  0],\n",
      "        [ 4,  0,  0,  0,  0,  0,  0,  0],\n",
      "        [25,  5, 18, 19, 27,  0,  0,  0],\n",
      "        [25,  5, 18, 19, 27,  0,  0,  0],\n",
      "        [ 4,  0,  0,  0,  0,  0,  0,  0],\n",
      "        [ 4,  2,  0,  0,  0,  0,  0,  0],\n",
      "        [ 2, 15, 18,  5, 13, 27,  0,  0],\n",
      "        [ 4,  0,  0,  0,  0,  0,  0,  0],\n",
      "        [16, 32, 19, 27,  0,  0,  0,  0],\n",
      "        [15,  4,  9, 14,  0,  0,  0,  0],\n",
      "        [16, 32, 19, 27,  0,  0,  0,  0],\n",
      "        [24,  5, 19, 28, 17,  5,  0,  0],\n",
      "        [25,  5, 18, 19, 27,  0,  0,  0],\n",
      "        [ 4,  0,  0,  0,  0,  0,  0,  0],\n",
      "        [15,  4,  9, 14,  0,  0,  0,  0],\n",
      "        [ 4,  0,  0,  0,  0,  0,  0,  0],\n",
      "        [ 4,  5,  2, 32, 19, 27,  0,  0],\n",
      "        [ 4,  0,  0,  0,  0,  0,  0,  0],\n",
      "        [25,  5, 18, 19, 27,  0,  0,  0],\n",
      "        [ 4,  2,  0,  0,  0,  0,  0,  0],\n",
      "        [25,  5, 18, 19, 27,  0,  0,  0],\n",
      "        [18, 33,  4, 15, 17, 15,  3,  9],\n",
      "        [11,  0, 11,  9, 22,  0,  0,  0],\n",
      "        [ 4,  2,  0,  0,  0,  0,  0,  0],\n",
      "        [16, 32, 19, 27,  0,  0,  0,  0],\n",
      "        [ 4,  5,  2, 32, 19, 27,  0,  0],\n",
      "        [18,  5, 13, 27,  0,  0,  0,  0],\n",
      "        [30, 10,  0,  0,  0,  0,  0,  0],\n",
      "        [14, 15, 12, 27,  0,  0,  0,  0],\n",
      "        [18,  5, 13, 27,  0,  0,  0,  0],\n",
      "        [15,  4,  9, 14,  0,  0,  0,  0],\n",
      "        [16, 32, 19, 27,  0,  0,  0,  0],\n",
      "        [ 4,  0,  0,  0,  0,  0,  0,  0],\n",
      "        [14, 15, 12, 27,  0,  0,  0,  0],\n",
      "        [25,  5, 18, 19, 27,  0,  0,  0],\n",
      "        [25,  5, 18, 19, 27,  0,  0,  0],\n",
      "        [18,  5, 13, 27,  0,  0,  0,  0],\n",
      "        [30, 10,  0,  0,  0,  0,  0,  0],\n",
      "        [ 4,  0,  0,  0,  0,  0,  0,  0],\n",
      "        [ 4,  0,  0,  0,  0,  0,  0,  0],\n",
      "        [30, 10,  0,  0,  0,  0,  0,  0],\n",
      "        [15,  4,  9, 14,  0,  0,  0,  0],\n",
      "        [30, 10,  0,  0,  0,  0,  0,  0],\n",
      "        [18,  5, 13, 27,  0,  0,  0,  0],\n",
      "        [25,  5, 18, 19, 27,  0,  0,  0],\n",
      "        [18,  5, 13, 27,  0,  0,  0,  0],\n",
      "        [18,  5, 13, 27,  0,  0,  0,  0],\n",
      "        [ 2, 15, 18,  5, 13, 27,  0,  0],\n",
      "        [14,  5, 19,  0,  0,  0,  0,  0],\n",
      "        [ 4,  0,  0,  0,  0,  0,  0,  0],\n",
      "        [16, 32, 19, 27,  0,  0,  0,  0],\n",
      "        [ 4,  2,  0,  0,  0,  0,  0,  0],\n",
      "        [18,  5, 13, 27,  0,  0,  0,  0],\n",
      "        [ 0, 33, 15, 14,  0,  0,  0,  0],\n",
      "        [30, 10,  0,  0,  0,  0,  0,  0],\n",
      "        [14,  5, 19,  0,  0,  0,  0,  0],\n",
      "        [19, 17,  9,  0,  0,  0,  0,  0],\n",
      "        [14, 15, 12, 27,  0,  0,  0,  0],\n",
      "        [19, 17,  9,  0,  0,  0,  0,  0],\n",
      "        [14, 15, 12, 27,  0,  0,  0,  0],\n",
      "        [24,  5, 19, 28, 17,  5,  0,  0]])}\n",
      "\n",
      "element number: 1\n",
      "{'audio_lens': tensor([12480, 12480, 12480, 12480, 12480, 12480, 12480, 12480, 12480, 12480,\n",
      "        12480, 12480, 12480, 12480, 12480, 12539, 12672, 12672, 12672, 12672,\n",
      "        12672, 12672, 12672, 12672, 12672, 12672, 12748, 12748, 12864, 12864,\n",
      "        12864, 12864, 12864, 12864, 12864, 12957, 13056, 13056, 13056, 13056,\n",
      "        13056, 13056, 13056, 13056, 13056, 13056, 13056, 13056, 13056, 13056,\n",
      "        13056, 13056, 13056, 13056, 13056, 13056, 13056, 13056, 13056, 13056,\n",
      "        13056, 13056, 13056, 13056, 13248, 13248, 13248, 13248, 13248, 13248,\n",
      "        13248, 13248, 13248, 13375, 13440, 13440, 13440, 13440, 13440, 13440,\n",
      "        13440, 13440, 13440, 13440, 13440, 13440, 13440, 13440, 13440, 13440]),\n",
      " 'audios': tensor([[-1.2158e-10,  2.9273e-10, -2.1168e-09,  ...,  0.0000e+00,\n",
      "          0.0000e+00,  0.0000e+00],\n",
      "        [ 0.0000e+00,  0.0000e+00,  0.0000e+00,  ...,  0.0000e+00,\n",
      "          0.0000e+00,  0.0000e+00],\n",
      "        [-3.5852e-10, -1.5307e-09, -1.0943e-09,  ...,  0.0000e+00,\n",
      "          0.0000e+00,  0.0000e+00],\n",
      "        ...,\n",
      "        [-4.6291e-10, -2.6118e-09, -1.3767e-09,  ..., -1.5512e-03,\n",
      "         -2.6215e-03, -2.5480e-04],\n",
      "        [ 0.0000e+00,  0.0000e+00,  0.0000e+00,  ...,  0.0000e+00,\n",
      "          0.0000e+00,  0.0000e+00],\n",
      "        [-7.0829e-10, -2.4083e-09, -3.4318e-09,  ...,  1.3470e-03,\n",
      "          1.4858e-03,  9.4302e-04]]),\n",
      " 'text_lens': tensor([ 3,  6,  4,  4,  3,  4,  3,  6,  3,  3,  2,  4,  4,  6,  4,  2,  2,  3,\n",
      "         4,  6,  4,  4,  4,  5,  4,  3,  2,  6,  4,  4,  4,  3,  5,  2,  3,  6,\n",
      "         3,  6,  4,  4,  5,  3,  6,  5,  4,  3,  3,  3,  3,  4,  3,  3,  4,  2,\n",
      "         3,  3,  3,  4,  6,  4,  5,  4,  3,  2,  3,  3,  4, 13,  5, 12,  2,  4,\n",
      "         2,  4,  3,  2,  3,  6,  3,  2,  4,  2,  5,  6,  3,  4,  4, 11,  3,  7]),\n",
      " 'texts': ['нет',\n",
      "           'девять',\n",
      "           'пять',\n",
      "           'ноль',\n",
      "           'три',\n",
      "           'семь',\n",
      "           'два',\n",
      "           'восемь',\n",
      "           'нет',\n",
      "           'два',\n",
      "           'да',\n",
      "           'ноль',\n",
      "           'дура',\n",
      "           'девять',\n",
      "           'ноль',\n",
      "           'да',\n",
      "           'эй',\n",
      "           'три',\n",
      "           'ноль',\n",
      "           'девять',\n",
      "           'пять',\n",
      "           'ноль',\n",
      "           'один',\n",
      "           'шесть',\n",
      "           'один',\n",
      "           'два',\n",
      "           'эй',\n",
      "           'девять',\n",
      "           'пять',\n",
      "           'вами',\n",
      "           'пять',\n",
      "           'три',\n",
      "           'шесть',\n",
      "           'эй',\n",
      "           'три',\n",
      "           'восемь',\n",
      "           'три',\n",
      "           'я слаб',\n",
      "           'семь',\n",
      "           'ноль',\n",
      "           'шесть',\n",
      "           'два',\n",
      "           'девять',\n",
      "           'шесть',\n",
      "           'один',\n",
      "           'два',\n",
      "           'три',\n",
      "           'три',\n",
      "           'три',\n",
      "           'один',\n",
      "           'два',\n",
      "           'нет',\n",
      "           'ноль',\n",
      "           'да',\n"
     ]
    },
    {
     "data": {
      "text/html": [
       "<b>limit_output extension: Maximum message size of 10000 exceeded with 10965 characters</b>"
      ]
     },
     "metadata": {},
     "output_type": "display_data"
    }
   ],
   "source": [
    "for i, element in enumerate(train_dataloader):\n",
    "    print(f'element number: {i}')\n",
    "    pprint(element)\n",
    "    print()\n",
    "    if i > 0:\n",
    "        break"
   ]
  },
  {
   "cell_type": "markdown",
   "metadata": {},
   "source": [
    "# Акустические фичи"
   ]
  },
  {
   "cell_type": "markdown",
   "metadata": {},
   "source": [
    "Как мы обсуждали на лекциях, есть разные способы построить аудио фичи. Мы будем использовать log mel spectrogram.\n"
   ]
  },
  {
   "cell_type": "code",
   "execution_count": 41,
   "metadata": {
    "ExecuteTime": {
     "end_time": "2021-03-19T23:27:13.948305Z",
     "start_time": "2021-03-19T23:27:13.942127Z"
    },
    "code_folding": [
     0
    ],
    "scrolled": true
   },
   "outputs": [],
   "source": [
    "def compute_log_mel_spectrogram(audio, sequence_lengths,\n",
    "                            sample_rate=8000,\n",
    "                            window_size=0.02,\n",
    "                            window_step=0.01,\n",
    "                            f_min=20,\n",
    "                            f_max=3800,\n",
    "                            n_mels=64,\n",
    "                            window_fn=torch.hamming_window,\n",
    "                            power=1.0,\n",
    "                            eps=1e-6\n",
    "                            ):\n",
    "    \"\"\" Compute log-mel spectrogram.\n",
    "        Input shape:\n",
    "            audio: 3D tensor with shape (batch_size, num_timesteps)\n",
    "            sequence_lengths: 1D tensor with shape (batch_size)\n",
    "        Returns:\n",
    "            4D tensor with shape (batch_size, n_mels, new_num_timesteps)\n",
    "            1D tensor with shape (batch_size)\n",
    "    \"\"\"\n",
    "\n",
    "    win_length = int(window_size * sample_rate)\n",
    "    hop_length = int(window_step * sample_rate)\n",
    "    \n",
    "    ### write your code here ###\n",
    "    mel_transformer = torchaudio.transforms.MelSpectrogram(\n",
    "        sample_rate=sample_rate, win_length=win_length, hop_length=hop_length, n_fft=win_length,\n",
    "        f_min=f_min, f_max=f_max, pad=0, n_mels=n_mels, power=power, window_fn=window_fn\n",
    "    ).to(device=audio.device)\n",
    "\n",
    "    log_mel_spectrogram = torch.log(mel_transformer(audio) + eps)\n",
    "    seq_len = ((sequence_lengths + 2 * hop_length - win_length) // hop_length + 1).to(dtype=torch.long)    \n",
    "    \n",
    "    return log_mel_spectrogram, seq_len"
   ]
  },
  {
   "cell_type": "code",
   "execution_count": 42,
   "metadata": {
    "ExecuteTime": {
     "end_time": "2021-03-19T23:27:15.856346Z",
     "start_time": "2021-03-19T23:27:14.066421Z"
    }
   },
   "outputs": [
    {
     "name": "stdout",
     "output_type": "stream",
     "text": [
      "torch.Size([90, 64, 157]) torch.Size([90])\n"
     ]
    }
   ],
   "source": [
    "batch = next(iter(train_dataloader))\n",
    "log_mel_spectrogram, sequence_lengths = compute_log_mel_spectrogram(batch['audios'], batch['audio_lens'])\n",
    "print(log_mel_spectrogram.shape, sequence_lengths.shape)"
   ]
  },
  {
   "cell_type": "code",
   "execution_count": 43,
   "metadata": {
    "ExecuteTime": {
     "end_time": "2021-03-19T23:27:18.845756Z",
     "start_time": "2021-03-19T23:27:15.858514Z"
    },
    "scrolled": true
   },
   "outputs": [
    {
     "name": "stdout",
     "output_type": "stream",
     "text": [
      "Don't forget to save Jupyter Notebook! \n",
      "\n",
      "\n",
      "\u001b[1m============================= test session starts ==============================\u001b[0m\n",
      "platform linux -- Python 3.6.9, pytest-6.2.2, py-1.10.0, pluggy-0.13.1\n",
      "rootdir: /home/mnakhodnov/sirius-stt, configfile: pytest.ini\n",
      "collected 1 item                                                               \u001b[0m\u001b[1m\n",
      "\n",
      "tests/test_compute_log_mel_spectrogram.py \u001b[32m.\u001b[0m\u001b[32m                              [100%]\u001b[0m\n",
      "\n",
      "\u001b[32m============================== \u001b[32m\u001b[1m1 passed\u001b[0m\u001b[32m in 1.74s\u001b[0m\u001b[32m ===============================\u001b[0m\n"
     ]
    }
   ],
   "source": [
    "! pytest tests/test_compute_log_mel_spectrogram.py"
   ]
  },
  {
   "cell_type": "markdown",
   "metadata": {},
   "source": [
    "Давайте посмотрим, как выглядит log-mel спектрограмма."
   ]
  },
  {
   "cell_type": "code",
   "execution_count": 44,
   "metadata": {
    "ExecuteTime": {
     "end_time": "2021-03-19T23:27:19.033550Z",
     "start_time": "2021-03-19T23:27:18.848322Z"
    },
    "scrolled": false
   },
   "outputs": [
    {
     "data": {
      "image/png": "[encoded data removed]",
      "text/plain": [
       "<Figure size 432x288 with 1 Axes>"
      ]
     },
     "metadata": {
      "needs_background": "light"
     },
     "output_type": "display_data"
    },
    {
     "data": {
      "text/html": [
       "\n",
       "                <audio  controls=\"controls\" >\n",
       "                    <source src=\"data:audio/wav;base64,UklGRiSgAABXQVZFZm10IBAAAAABAAEAQB8AAIA+AAACABAAZGF0YQCgAAAAAAAAAAAAAAAAAAAAAAAAAAAAAAAAAAAAAAAAAAAAAAAAAAAAAAAAAAAAAAAAAAAAAAAAAAAAAAAAAAAAAAAAAAAAAAAAAAAAAAAAAAAAAAAAAAAAAAAAAAAAAAAAAAAAAAAAAAAAAAAAAAAAAAAAAAAAAAAAAAAAAAAAAAAAAAAAAAAAAAAAAAAAAAAAAAAAAAAAAAAAAAAAAAAAAAAAAAAAAAAAAAAAAAAAAAAAAAAAAAAAAAAAAAAAAAAAAAAAAAAAAAAAAAAAAAAAAAAAAAAAAAAAAAABAAAAAAAAAAAAAAAAAAAAAAAAAAAAAAAAAAAAAAAAAAAAAAAAAAAAAAAAAAAAAAAAAAAAAAAAAAAAAAAAAAAAAAAAAAAAAAAAAAAAAAAAAAAAAAAAAAAAAAAAAAAAAAAAAAAAAAAAAAAAAAAAAAAAAAAAAAAAAAAAAAAAAAAAAAAAAAAAAAAAAAAAAAAAAAAAAAAAAAAAAAAAAAAAAAAAAAAAAAAAAQAAAAAAAAAAAAAAAAAAAAAAAAAAAAAAAAAAAAAAAAAAAAAAAAAAAAAAAAAAAAAAAAAAAAAAAAAAAAAAAAAAAAAAAAAAAAAAAAAAAAAAAAAAAAAAAAAAAAAAAAAAAAAAAAAAAAAAAAAAAAAAAAAAAAAAAAAAAAAAAAAAAAAAAAAAAAAAAAAAAAAAAAAAAAAAAAAAAAAAAAAAAAAAAAAAAAAAAAAAAAAAAAAAAAAAAAAAAAAAAAAAAAAAAAAAAAAAAAAAAAAAAAAAAAAAAAAAAAAAAAAAAAAAAAAAAAAAAAAAAAAAAAAAAAAAAAAAAAAAAAAAAAAAAAAAAAAAAAAAAAAAAAAAAAAAAAAAAAAA//8AAAAAAAAAAAAAAAAAAAAAAAAAAAAAAAAAAAAAAAAAAAAAAAAAAAAAAAAAAAAAAAAAAAAAAAAAAAAAAAAAAAAA//8AAAAAAAAAAAAAAAAAAAAAAAAAAAAAAAAAAAAAAAAAAAAAAAAAAAAAAAAAAAAAAAAAAAAAAAAAAAAAAAAAAAAAAAAAAAAAAAAAAAAAAAAAAAAAAAAAAAAAAAAAAAAAAAAAAAAAAAAAAAAAAAAAAAAAAAAAAAAAAAAAAAAAAAAAAAAAAAAAAAAAAAAAAAAAAAAAAAAAAAAAAAAAAAAAAAAAAAAAAAAAAAAAAAAAAAAAAAAAAAAAAAAAAAAAAAAAAAAAAAAAAAAAAAAAAAAAAAAAAAAAAAAAAAAAAAAAAAAAAAAAAAAAAAAAAAAAAAAAAAAAAAAAAAAAAAAAAAAAAAAAAAAAAAAAAAAAAAAAAAAAAAAAAAAAAAAAAAAAAAAAAAAAAAAAAAAAAAAAAAAAAAAAAAAAAAAAAAAAAAAAAAAAAAAAAAAAAAAAAAAAAAAAAAAAAAAAAAAAAAAAAAAAAAAAAAAAAAAAAAAAAAAAAAAAAAAAAAAAAAAAAAAAAAAAAAAAAAAAAAAAAAAAAAAAAAAAAAAAAAAAAAAAAAAAAAAAAAAAAAAAAAAAAAAAAAAAAAAAAAAAAAAAAAAAAAAAAAAAAAAAAAAAAAAAAAAAAAAAAAAAAAAAAAAAAAAAAAAAAAAAAAAAAAAAAAAAAAAAAAAAAAAAAAAAAAAAAAAAAAAAAAAAAAAAAAAAAAAAAAAAAAAAAAAAAAAAAAAAAAAAAAAAAAAAAAAAAAAAAAAAAAAAAAAAAAAAAAAAAAAAAAAAAAAAAAAAAAAAAAAAAAAAAAAAAAAAAAAAAAAAAAAAAAAAAAAAAAAAAAAAAAAAAAAAAAAAAAAAAAAAAAAAAAAAAAAAAAAAAAAAAAAAAAAAAAAAAAAAAAAAAAAAAAAAAAAAAAAAAAAAAAAAAAAAAAAAAAAAAAAAAAAAAAAAAAAAAAAAAAAAAAAAAAAAAAAAAAAAAAAAAAAAAAAAAAAAAAAAAAAAAAAAAAAAAAAAAAAAAAAAAAAAAAAAAAAAAAAAAAAAAAAAAAAAAAAAAAAAAAAAAAAAAAAAAAAAAAAAAAAAAAAAAAAAAAAAAAAAAAAAAAAAAAAAAAAAAAAAAAAAAAAAAAAAAAAAAAAAAAAAAAAAAAAAAAAAAAAAAAAAAAAAAAAAAAAAAAAAAAAAAAAAAAAAAAAAAAAAAAAAAAAAAAAAAAAAAAAAAAAAAAAAAAAAAAAAAAAAAAAAAAAAAAAAAAAAAAAAAAAAAAAAAAAAAAAAAAAAAAAAAAAAAAAAAAAAAAAAAAAAAAAAAAAAAAAAAAAAAAAAAAAAAAAAAAAAAAAAAAAAAAAAAAAAAAAAAAAAAAAAAAAAAAAAAAAAAAAAAAAAAAAAAAAAAAAAAAAAAAAAAAAAAAAAAAAAAAAAAAAAAAAAAAAAAAAAAAAAAAAAAAAAAAAAAAAAAAAAAAAAAAAAAAAAAAAAAAAAAAAAAAAAAAAAAAAAAAAAAAAAAAAAAAAAAAAAAAAAAAAAAAAAAAAAAAAAAAAAAAAAAAAAAAAAAAAAAAAAAAAAAAAAAAAAAAAAAAAAAAAAAAAAAAAAAAAAAAAAAAAAAAAAAAAAAAAAAAAAAAAAAAAAAAAAAAAAAAAAAAAAAAAAAAAAAAAAAAAAAAAAAAAAAAAAAAAAAAAAAAAAAAAAAAAAAAAAAAAAAAAAAAAAAAAAAAAAAAAAAAAAAAAAAAAAAAAAAAAAAAAAAAAAAAAAAAAAAAAAAAAAAAAAAAAAAAAAAAAAAAAAAAAAAAAAAAAAAAAAAAAAAAAAAAAAAAAAAAAAAAAAAAAAAAAAAAAAAAAAAAAAAAAAAAAAAAAAAAAAAAAAAAAAAAAAAAAAAAAAAAAAAAAAAAAAAAAAAAAAAAAAAAAAAAAAAAAAAAAAAAAAAAAAAAAAAAAAAAAAAAAAAAAAAAAAAAAAAAAAAAAAAAAAAAAAAAAAAAAAAAAAAAAAAAAAAAAAAAAAAAAAAAAAAAAAAAAAAAAAAAAAAAAAAAAAAAAAAAAAAAAAAAAAAAAAAAAAAAAAAAAAAAAAAAAAAAAAAAAAAAAAAAAAAAAAAAAAAAAAAAAAAAAAAAAAAAAAAAAAAAAAAAAAAAAAAAAAAAAAAAAAAAAAAAAAAAAAAAAAAAAAAAAAAAAAAAAAAAAAAAAAAAAAAAAAAAAAAAAAAAAAAAAAAAAAAAAAAAAAAAAAAAAAAAAAAAAAAAAAAAAAAAAAAAAAAAAAAAAAAAAAAAAAAAAAAAAAAAAAAAAAAAAAAAAAAAAAAAAAAAAAAAAAAAAAAAAAAAAAAAAAAAAAAAAAAAAAAAAAAAAAAAAAAAAAAAAAAAAAAAAAAAAAAAAAAAAAAAAAAAAAAAAAAAAAAAAAAAAAAAAAAAAAAAAAAAAAAAAAAAAAAAAAAAAAAAAAAAAAAAAAAAAAAAAAAAAAAAAAAAAAAAAAAAAAAAAAAAAAAAAAAAAAAAAAAAAAAAAAAAAAAAAAAAAAAAAAAAAAAAAAAAAAAAAAAAAAAAAAAAAAAAAAAAAAAAAAAAAAAAAAAAAAAAAAAAAAAAAAAAAAAAAAAAAAAAAAAAAAAAAAAAAAAAAAAAAAAAAAAAAAAAAAAAAAAAAAAAAAAAAAAAAAAAAAAAAAAAAAAAAAAAAAAAAAAAAAAAAAAAAAAAAAAAAAAAAAAAAAAAAAAAAAAAAAAAAAAAAAAAAAAAAAAAAAAAAAAAAAAAAAAAAAAAAAAAAAAAAAAAAAAAAAAAAAAAAAAAAAAAAAAAAAAAAAAAAAAAAAAAAAAAAAAAAAAAAAAAAAAAAAAAAAAAAAAAAAAAAAAAAAAAAAAAAAAAAAAAAAAAAAAAAAAAAAAAAAAAAAAAAAAAAAAAAAAAAAAAAAAAAAAAAAAAAAAAAAAAAAAAAAAAAAAAAAAAAAAAAAAAAAAAAAAAAAAAAAAAAAAAAAAAAAAAAAAAAAAAAAAAAAAAAAAAAAAAAAAAAAAAAAAAAAAAAAAAAAAAAAAAAAAAAAAAAAAAAAAAAAAAAAAAAAAAAAAAAAAAAAAAAAAAAAAAAAAAAAAAAAAAAAAAAAAAAAAAAAAAAAAAAAAAAAAAAAAAAAAAAAAAAAAAAAAAAAAAAAAAAAAAAAAAAAAAAAAAAAAAAAAAAAAAAAAAAAAAAAAAAAAAAAAAAAAAAAAAAAAAAAAAAAAAAAAAAAAAAAAAAAAAAAAAAAAAAAAAAAAAAAAAAAAAAAAAAAAAAAAAAAAAAAAAAAAAAAAAAAAAAAAAAAAAAAAAAAAAAAAAAAAAAAAAAAAAAAAAAAAAAAAAAAAAAAAAAAAAAAAAAAAAAAAAAAAAAAAAAAAAAAAAAAAAAAAAAAAAAAAAAAAAAAAAAAAAAAAAAAAAAAAAAAAAAAAAAAAAAAAAAAAAAAAAAAAAAAAAAAAAAAAAAAAAAAAAAAAAAAAAAAAAAAAAAAAAAAAAAAAAAAAAAAAAAAAAAAAAAAAAAAAAAAAAAAAAAAAAAAAAAAAAAAAAAAAAAAAAAAAAAAAAAAAAAAAAAAAAAAAAAAAAAAAAAAAAAAAAAAAAAAAAAAAAAAAAAAAAAAAAAAAAAAAAAAAAAAAAAAAAAAAAAAAAAAAAAAAAAAAAAAAAAAAAAAAAAAAAAAAAAAAAAAAAAAAAAAAAAAAAAAAAAAAAAAAAAAAAAAAAAAAAAAAAAAAAAAAAAAAAAAAAAAAAAAAAAAAAAAAAAAAAAAAAAAAAAAAAAAAAAAAAAAAAAAAAAAAAAAAAAAAAAAAAAAAAAAAAAAAAAAAAAAAAAAAAAAAAAAAAAAAAAAAAAAAAAAAAAAAAAAAAAAAAAAAAAAAAAAAAAAAAAAAAAAAAAAAAAAAAAAAAAAAAAAAAAAAAAAAAAAAAAAAAAAAAAAAAAAAAAAAAAAAAAAAAAAAAAAAAAAAAAAAAAAAAAAAAAAAAAAAAAAAAAAAAAAAAAAAAAAAAAAAAAAAAAAAAAAAAAAAAAAAAAAAAAAAAAAAAAAAAAAAAAAAAAAAAAAAAAAAAAAAAAAAAAAAAAAAAAAAAAAAAAAAAAAAAAAAAAAAAAAAAAAAAAAAAAAAAAAAAAAAAAAAAAAAAAAAAAAAAAAAAAAAAAAAAAAAAAAAAAAAAAAAAAAAAAAAAAAAAAAAAAAAAAAAAAAAAAAAAAAAAAAAAAAAAAAAAAAAAAAAAAAAAAAAAAAAAAAAAAAAAAAAAAAAAAAAAAAAAAAAAAAAAAAAAAAAAAAAAAAAAAAAAAAAAAAAAAAAAAAAAAAAAAAAAAAAAAAAAAAAAAAAAAAAAAAAAAAAAAAAAAAAAAAAAAAAAAAAAAAAAAAAAAAAAAAAAAAAAAAAAAAAAAAAAAAAAAAAAAAAAAAAAAAAAAAAAAAAAAAAAAAAAAAAAAAAAAAAAAAAAAAAAAAAAAAAAAAAAAAAAAAAAAAAAAAAAAAAAAAAAAAAAAAAAAAAAAAAAAAAAAAAAAAAAAAAAAAAAAAAAAAAAAAAAAAAAAAAAAAAAAAAAAAAAAAAAAAAAAAAAAAAAAAAAAAAAAAAAAAAAAAAAAAAAAAAAAAAAAAAAAAAAAAAAAAAAAAAAAAAAAAAAAAAAAAAAAAAAAAAAAAAAAAAAAAAAAAAAAAAAAAAAAAAAAAAAAAAAAAAAAAAAAAAAAAAAAAAAAAAAAAAAAAAAAAAAAAAAAAAAAAAAAAAAAAAAAAAAAAAAAAAAAAAAAAAAAAAAAAAAAAAAAAAAAAAAAAAAAAAAAAAAAAAAAAAAAAAAAAAAAAAAAAAAAAAAAAAAAAAAAAAAAAAAAAAAAAAAAAAAAAAAAAAAAAAAAAAAAAAAAAAAAAAAAAAAAAAAAAAAAAAAAAAAAAAAAAAAAAAAAAAAAAAAAAAAAAAAAAAAAAAAAAAAAAAAAAAAAAAAAAAAAAAAAAAAAAAAAAAAAAAAAAAAAAAAAAAAAAAAAAAAAAAAAAAAAAAAAAAAAAAAAAAAAAAAAAAAAAAAAAAAAAAAAAAAAAAAAAAAAAAAAAAAAAAAAAAAAAAAAAAAAAAAAAAAAAAAAAAAAAAAAAAAAAAAAAAAAAAAAAAAAAAAAAAAAAAAAAAAAAAAAAAAAAAAAAAAAAAAAAAAAAAAAAAAAAAAAAAAAAAAAAAAAAAAAAAAAAAAAAAAAAAAAAAAAAAAAAAAAAAAAAAAAAAAAAAAAAAAAAAAAAAAAAAAAAAAAAAAAAAAAAAAAAAAAAAAAAAAAAAAAAAAAAAAAAAAAAAAAAAAAAAAAAAAAAAAAAAAAAAAAAAAAAAAAAAAAAAAAAAAAAAAAAAAAAAAAAAAAAAAAAAAAAAAAAAAAAAAAAAAAAAAAAAAAAAAAAAAAAAAAAAAAAAAAAAAAAAAAAAAAAAAAAAAAAAAAAAAAAAAAAAAAAAAAAAAAAAAAAAAAAAAAAAAAAAAAAAAAAAAAAAAAAAAAAAAAAAAAAAAAAAAAAAAAAAAAAAAAAAAAAAAAAAAAAAAAAAAAAAAAAAAAAAAAAAAAAAAAAAAAAAAAAAAAAAAAAAAAAAAAAAAAAAAAAAAAAAAAAAAAAAAAAAAAAAAAAAAAAAAAAAAAAAAAAAAAAAAAAAAAAAAAAAAAAAAAAAAAAAAAAAAAAAAAAAAAAAAAAAAAAAAAAAAAAAAAAAAAAAAAAAAAAAAAAAAAAAAAAAAAAAAAAAAAAAAAAAAAAAAAAAAAAAAAAAAAAAAAAAAAAAAAAAAAAAAAAAAAAAAAAAAAAAAAAAAAAAAAAAAAAAAAAAAAAAAAAAAAAAAAAAAAAAAAAAAAAAAAAAAAAAAAAAAAAAAAAAAAAAAAAAAAAAAAAAAAAAAAAAAAAAAAAAAAAAAAAAAAAAAAAAAAAAAAAAAAAAAAAAAAAAAAAAAAAAAAAAAAAAAAAAAAAAAAAAAAAAAAAAAAAAAAAAAAAAAAAAAAAAAAAAAAAAAAAAAAAAAAAAAAAAAAAAAAAAAAAAAAAAAAAAAAAAAAAAAAAAAAAAAAAAAAAAAAAAAAAAAAAAAAAAAAAAAAAAAAAAAAAAAAAAAAAAAAAAAAAAAAAAAAAAAAAAAAAAAAAAAAAAAAAAAAAAAAAAAAAAAAAAAAAAAAAAAAAAAAAAAAAAAAAAAAAAAAAAAAAAAAAAAAAAAAAAAAAAAAAAAAAAAAAAAAAAAAAAAAAAAAAAAAAAAAAAAAAAAAAAAAAAAAAAAAAAAAAAAAAAAAAAAAAAAAAAAAAAAAAAAAAAAAAAAAAAAAAAAAAAAAAAAAAAAAAAAAAAAAAAAAAAAAAAAAAAAAAAAAAAAAAAAAAAAAAAAAAAAAAAAAAAAAAAAAAAAAAAAAAAAAAAAAAAAAAAAAAAAAAAAAAAAAAAAAAAAAAAAAAAAAAAAAAAAAAAAAAAAAAAAAAAAAAAAAAAAAAAAAAAAAAAAAAAAAAAAAAAAAAAAAAAAAAAAAAAAAAAAAAAAAAAAAAAAAAAAAAAAAAAAAAAAAAAAAAAAAAAAAAAAAAAAAAAAAAAAAAAAAAAAAAAAAAAAAAAAAAAAAAAAAAAAAAAAAAAAAAAAAAAAAAAAAAAAAAAAAAAAAAAAAAAAAAAAAAAAAAAAAAAAAAAAAAAAAAAAAAAAAAAAAAAAAAAAAAAAAAAAAAAAAAAAAAAAAAAAAAAAAAAAAAAAAAAAAAAAAAAAAAAAAAAAAAAAAAAAAAAAAAAAAAAAAAAAAAAAAAAAAAAAAAAAAAAAAAAAAAAAAAAAAAAAAAAAAAAAAAAAAAAAAAAAAAAAAAAAAAAAAAAAAAAAAAAAAAAAAAAAAAAAAAAAAAAAAAAAAAAAAAAAAAAAAAAAAAAAAAAAAAAAAAAAAAAAAAAAAAAAAAAAAAAAAAAAAAAAAAAAAAAAAAAAAAAAAAAAAAAAAAAAAAAAAAAAAAAAAAAAAAAAAAAAAAAAAAAAAAAAAAAAAAAAAAAAAAAAAAAAAAAAAAAAAAAAAAAAAAAAAAAAAAAAAAAAAAAAAAAAAAAAAAAAAAAAAAAAAAAAAAAAAAAAAAAAAAAAAAAAAAAAAAAAAAAAAAAAAAAAAAAAAAAAAAAAAAAAAAAAAAAAAAAAAAAAAAAAAAAAAAAAAAAAAAAAAAAAAAAAAAAAAAAAAAAAAAAAAAAQAAAAAAAAAAAAAAAAAAAAAAAAAAAAAAAAAAAAAAAAAAAAAAAAAAAAAAAAAAAAAAAAAAAAAAAAAAAAAAAAAAAAAAAAAAAAAAAAAAAAAAAAAAAAAAAAAAAAAAAAAAAAAAAAAAAAAAAAAAAAAAAAAAAAAAAAAAAAAAAAAAAAAAAAAAAAAAAAAAAAAAAAAAAAAAAAAAAAAAAAAAAAAAAAAAAAAAAAAAAAAAAAAAAAAAAAAAAAAAAAAAAAAAAAAAAAAAAAAAAAAAAAAAAAAAAAAAAAAAAAAAAAAAAAAAAAAAAAAAAAAAAAAAAAAAAAAAAAAAAAAAAAAAAAAAAAAAAAAAAAAAAAAAAAAAAAAAAAAAAAAAAAAAAAAAAAAAAAAAAAAAAAAAAAAAAAAAAAAAAAAAAAAAAAAAAAAAAAAAAAAAAAAAAAAAAAAAAAAAAAAAAAAAAAAAAAAAAAAAAAAAAAAAAAAAAAAAAAAAAAAAAAAAAAAAAAAAAAAAAAAAAAAAAAAAAAAAAAAAAAAAAAAAAAAAAAAAAAAAAAAAAAAAAAAAAAAAAAAAAAAAAAAAAAAAAAAAAAAAAAAAAAAAAAAAAAAAAAAA+f/v/+X/2f/M/8L/uv+3/7b/uP+3/8H/0f/d/+//+/8FAA4AGQAiAC0AMgAyAC8ALAArACMAGgAXABoAFQAUABcAFwAYABgAGgAZABMABQD///T/6v/f/9H/zf/E/73/v//B/8b/y//Q/9f/2//k/+//9f///wEACwAdAPX/rwAyAIT/GgDA/9L/nv/V/5//DwAiAB8AhACJALIAZgGMAHIASADe/7z/Hf8Z/7kASP9W/7X/zP88AKz/6v/V/8oA2f/n//r//P+R/4r/JP9x/xYAZv97/8v/CABEAOf/JgAAAEYAMgAlAEUATwBHAEYAPgBeAFUAoABcAGMAYgBLAPr/sv+p/2X/sv+w/+v/rP/W/8z/5/8EAK3/7v++/8X/mf/O/xMAsP+///f/EAAAALz/+P+9/xcA1/8kACUAFgAVAB4ANgAiAEEAOQB8AIUAPgA+APn/AADk/+3/ov/B/8z/nf+M/4b/mv+X/4f/h/+n/6v/sP/o/9v/GQBMAEAAVgBwAH4AagB0AFoAmAB4AGgAjQBbAFEAYgBoAFcAUgBKAEYANQDq/97/5f+5/5v/gP9n/1T/IP8k/zb/QP8p/2X/dP+f/9b/yv///zAAJABaAFgAXQB2AHQAaACOAHgAfwCLAIYAgABeAHYAJAAfAAwA2v+1/23/eP89/0L/L/8M/x7/Lf8n/2L/pv+4/wAAHAB5AJ0AzgAdAUIBRgFnAUAB7ADTAG4AEADw/3v/Iv8X/7z+sP65/pP+q/6y/mv+T/4d/q392f0g/gf+If8TAPwA6ALyA+kEKgacBk0G8wUVBY4DCwItAKf+TP3z+0f75vr/+jz7z/sU/N77aPtq+6L8yvob/Cr+Pf6SAYID7QSQB7kIYQhSCKoH0ASXA7wAVv5B/Z77kfpH+wb8Hv2+/w0B1QLKBJgEzASrA2MB//4q+0n27/Wy89bvkfQN9Sv4Xf94AlEHJw1PD4cPoxHMDk0LiAkAA13/m/wF+Ab3lvaH9nv53vvn/RgCKQTSBe0H8wZfBUoD0P7H+Xv05vP77rTt8PEY8kT4Xv9qA0sKHBCaErkTPxUjEbQN9wmkAtL+U/o49Z70tvPk86z3mvqF/ZQCPAVlB00J4gc/BmADDv6F+CDyXfFN7dzpAvBR8cT27/8JBcMLzR"
      ],
      "text/plain": [
       "<IPython.lib.display.Audio object>"
      ]
     },
     "execution_count": 44,
     "metadata": {},
     "output_type": "execute_result"
    },
    {
     "data": {
      "text/html": [
       "<b>limit_output extension: Maximum message size of 10000 exceeded with 54904 characters</b>"
      ]
     },
     "metadata": {},
     "output_type": "display_data"
    }
   ],
   "source": [
    "audio, audio_len = open_audio('test_files/test_audio.opus', 8000)\n",
    "spectrogram, new_len = compute_log_mel_spectrogram(audio, torch.tensor(audio_len))\n",
    "plt.pcolormesh(spectrogram)\n",
    "plt.xlabel('T')\n",
    "plt.ylabel('mels')\n",
    "plt.show()\n",
    "Audio(data=audio.numpy(), rate=sample_rate)"
   ]
  },
  {
   "cell_type": "markdown",
   "metadata": {},
   "source": [
    "# Нейронная сеть"
   ]
  },
  {
   "cell_type": "markdown",
   "metadata": {},
   "source": [
    "Мы подготовили все данные, теперь можно заняться реализацией нейронной сети. Будем реализовывать архитектуру [Deepspeech 2](https://arxiv.org/pdf/1512.02595.pdf) в немного упрощенном виде.\n",
    "\n",
    "\n",
    "<img src=\"images/cat_reproduction.jpg\" width=\"400\" height=\"400\">\n"
   ]
  },
  {
   "cell_type": "markdown",
   "metadata": {},
   "source": [
    "Вот так будет выглядеть архитектура сети:\n",
    "\n",
    "\n",
    "<img src=\"images/deepspeech.jpg\" width=\"200\" height=\"150\">"
   ]
  },
  {
   "cell_type": "code",
   "execution_count": 45,
   "metadata": {
    "ExecuteTime": {
     "end_time": "2021-03-19T23:27:20.438698Z",
     "start_time": "2021-03-19T23:27:20.435544Z"
    },
    "scrolled": true
   },
   "outputs": [],
   "source": [
    "import torch.nn as nn\n",
    "import torch.nn.functional as F"
   ]
  },
  {
   "cell_type": "code",
   "execution_count": 46,
   "metadata": {
    "ExecuteTime": {
     "end_time": "2021-03-19T23:27:20.930455Z",
     "start_time": "2021-03-19T23:27:20.912230Z"
    },
    "code_folding": [
     8
    ],
    "scrolled": true
   },
   "outputs": [],
   "source": [
    "def _calculate_fan(dimentions, conv_params, axis):\n",
    "    stride = conv_params.get('stride', [1, 1])[axis]\n",
    "    padding = conv_params.get('padding', [0, 0])[axis]\n",
    "    kernel_size = conv_params.get('kernel_size')[axis]\n",
    "    dillation = conv_params.get('dillation', [1, 1])[axis]\n",
    "    \n",
    "    return torch.floor((dimentions + 2 * padding - dillation * (kernel_size - 1) - 1) / stride + 1).to(dtype=torch.long)\n",
    "    \n",
    "class Model(nn.Module):\n",
    "    def __init__(self, num_mel_bins, hidden_size, num_layers, num_tokens):\n",
    "        super(Model, self).__init__()\n",
    "        \n",
    "        self.num_tokens = num_tokens\n",
    "        self.num_layers = num_layers\n",
    "        self.hidden_size = hidden_size\n",
    "        \n",
    "        self.bidirectional = True\n",
    "        self.num_directions = 2 if self.bidirectional else 1\n",
    "        \n",
    "        self.num_mel_bins = num_mel_bins\n",
    "        \n",
    "        conv1_params = AttrDict(\n",
    "            {\n",
    "                \"in_channels\": 1,\n",
    "                \"out_channels\": 32,\n",
    "                \"kernel_size\": [21, 11],\n",
    "                \"stride\": [1, 1] \n",
    "            })                             \n",
    "        conv2_params = AttrDict(\n",
    "            {\n",
    "                \"in_channels\": conv1_params['out_channels'],\n",
    "                \"out_channels\": 64,\n",
    "                \"kernel_size\": [11, 11],\n",
    "                \"stride\": [1, 3]\n",
    "            }\n",
    "        )\n",
    "        \n",
    "        self.conv1_params = conv1_params\n",
    "        self.conv2_params = conv2_params\n",
    "        \n",
    "        # [batch_size x 1 X num_mel_bins x time] -> [batch_size x conv2.out_channels x fan_num_mel_bins x fan_time]\n",
    "        self.conv = nn.Sequential(\n",
    "            ### write your code here ###\n",
    "        \n",
    "            # CONV 1\n",
    "            torch.nn.Conv2d(**self.conv1_params, bias=False),\n",
    "            # BATCH NORM 1\n",
    "            torch.nn.BatchNorm2d(num_features=self.conv1_params['out_channels'], momentum=0.9),\n",
    "            # RELU\n",
    "            torch.nn.ReLU(inplace=True),\n",
    "            \n",
    "            # CONV 2\n",
    "            torch.nn.Conv2d(**self.conv2_params, bias=False),\n",
    "            # BATCH NORM 2\n",
    "            torch.nn.BatchNorm2d(num_features=self.conv2_params['out_channels'], momentum=0.9),\n",
    "            # RELU\n",
    "            torch.nn.ReLU(inplace=True),            \n",
    "        )\n",
    "        \n",
    "        # YOUR CODE\n",
    "        fan_num_mel_bins = _calculate_fan(\n",
    "            _calculate_fan(torch.tensor(num_mel_bins), conv1_params, axis=0), \n",
    "            conv2_params, axis=0\n",
    "        ).item()\n",
    "        rnn_input_size = self.conv2_params['out_channels'] * fan_num_mel_bins\n",
    "\n",
    "        # 4 слоя бидир lstm\n",
    "        # YOUR CODE\n",
    "        # [batch_size x fan_time x rnn_input_size] -> [batch_size x fan_time x num_directions * hidden_size], (h_n, c_n)\n",
    "        self.lstm = torch.nn.LSTM(\n",
    "            input_size=rnn_input_size, hidden_size=hidden_size, num_layers=self.num_layers,\n",
    "            bias=True, batch_first=True, bidirectional=self.bidirectional\n",
    "        )\n",
    "        \n",
    "         # YOUR CODE\n",
    "        # [batch_size x num_directions * hidden_size] -> [batch_size, num_tokens]\n",
    "        self.output_layer = torch.nn.Linear(self.num_directions * self.hidden_size, self.num_tokens)\n",
    "    \n",
    "    def forward(self, inputs, seq_lens, state=None):\n",
    "        \"\"\"\n",
    "            Input shape:\n",
    "                audio: 3D tensor with shape (batch_size, num_mel_bins, num_timesteps)\n",
    "                sequence_lengths: 1D tensor with shape (batch_size)\n",
    "            Returns:\n",
    "                3D tensor with shape (new_num_timesteps, batch_size, alphabet_len)\n",
    "                1D tensor with shape (batch_size)\n",
    "            \"\"\"\n",
    "        \n",
    "        outputs = inputs.unsqueeze(1) # conv2d input should be four-dimensional\n",
    "        \n",
    "        ### write your code here ###\n",
    "        seq_lens = _calculate_fan(_calculate_fan(seq_lens, self.conv1_params, axis=1), self.conv2_params, axis=1)\n",
    "        \n",
    "        outputs = self.conv(outputs)\n",
    "\n",
    "        outputs = self.transpose_and_reshape(outputs)\n",
    "        outputs, (h_n, c_n) = self.lstm(outputs)\n",
    "\n",
    "        outputs = self.output_layer(outputs)\n",
    "        outputs = torch.transpose(outputs, 0, 1)\n",
    "        outputs = F.log_softmax(outputs, dim=-1)\n",
    "        \n",
    "        return outputs, seq_lens\n",
    "\n",
    "    @staticmethod\n",
    "    def transpose_and_reshape(inputs):\n",
    "    \n",
    "        \"\"\" This function will be very useful for converting the output of a convolutional layer \n",
    "            to the input of a lstm layer\n",
    "            \n",
    "            Input shape:\n",
    "                inputs: 4D tensor with shape (batch_size, num_filters, num_features, num_timesteps)\n",
    "            Returns:\n",
    "                3D tensor with shape (batch_size, num_timesteps, new_num_features)\n",
    "            \"\"\"\n",
    "            \n",
    "        sizes = inputs.size()\n",
    "                \n",
    "        # reshape # YOUR CODE\n",
    "        # (batch_size, num_filters * num_features, num_timesteps)\n",
    "        outputs = inputs.reshape(inputs.shape[0], inputs.shape[1] * inputs.shape[2], inputs.shape[3])\n",
    "        # transpose # YOUR CODE\n",
    "        # (batch_size, num_timesteps, new_num_features)\n",
    "        outputs = torch.transpose(outputs, 1, 2)\n",
    "        return outputs\n",
    "           \n",
    "    @staticmethod\n",
    "    def get_new_seq_lens(seq_lens, conv1_kernel_size, conv1_stride, conv2_kernel_size, conv2_stride):\n",
    "    \n",
    "        \"\"\" Compute sequence_lengths after convolutions\n",
    "            \"\"\"\n",
    "            \n",
    "        ### write your code here ###\n",
    "        seq_lens = _calculate_fan(seq_lens, {'kernel_size': [conv1_kernel_size], 'stride': [conv1_stride]}, axis=0)\n",
    "        seq_lens = _calculate_fan(seq_lens, {'kernel_size': [conv2_kernel_size], 'stride': [conv2_stride]}, axis=0)\n",
    "        return seq_lens"
   ]
  },
  {
   "cell_type": "code",
   "execution_count": 47,
   "metadata": {
    "ExecuteTime": {
     "end_time": "2021-03-19T23:27:22.010829Z",
     "start_time": "2021-03-19T23:27:22.007226Z"
    },
    "scrolled": true
   },
   "outputs": [],
   "source": [
    "num_tokens = len(vocab.tokens2indices()) - 1\n",
    "num_mel_bins = 64\n",
    "hidden_size= 512\n",
    "num_layers = 4"
   ]
  },
  {
   "cell_type": "code",
   "execution_count": 48,
   "metadata": {
    "ExecuteTime": {
     "end_time": "2021-03-19T23:27:22.656889Z",
     "start_time": "2021-03-19T23:27:22.386430Z"
    }
   },
   "outputs": [],
   "source": [
    "model = Model(num_mel_bins=num_mel_bins,\n",
    "              hidden_size=hidden_size,\n",
    "              num_layers=num_layers,\n",
    "              num_tokens=num_tokens)"
   ]
  },
  {
   "cell_type": "code",
   "execution_count": 49,
   "metadata": {
    "ExecuteTime": {
     "end_time": "2021-03-19T23:27:26.748666Z",
     "start_time": "2021-03-19T23:27:22.714793Z"
    }
   },
   "outputs": [
    {
     "name": "stdout",
     "output_type": "stream",
     "text": [
      "Don't forget to save Jupyter Notebook! \n",
      "\n",
      "\n",
      "\u001b[1m============================= test session starts ==============================\u001b[0m\n",
      "platform linux -- Python 3.6.9, pytest-6.2.2, py-1.10.0, pluggy-0.13.1\n",
      "rootdir: /home/mnakhodnov/sirius-stt, configfile: pytest.ini\n",
      "collected 5 items                                                              \u001b[0m\u001b[1m\n",
      "\n",
      "tests/test_model.py \u001b[32m.\u001b[0m\u001b[32m.\u001b[0m\u001b[32m.\u001b[0m\u001b[32m.\u001b[0m\u001b[32m.\u001b[0m\u001b[32m                                                [100%]\u001b[0m\n",
      "\n",
      "\u001b[32m============================== \u001b[32m\u001b[1m5 passed\u001b[0m\u001b[32m in 2.78s\u001b[0m\u001b[32m ===============================\u001b[0m\n"
     ]
    }
   ],
   "source": [
    "! pytest tests/test_model.py"
   ]
  },
  {
   "cell_type": "markdown",
   "metadata": {},
   "source": [
    "Инициализируем модель из чекпоинта, чтобы она обучилась быстрее."
   ]
  },
  {
   "cell_type": "code",
   "execution_count": 50,
   "metadata": {
    "ExecuteTime": {
     "end_time": "2021-03-19T23:27:26.754558Z",
     "start_time": "2021-03-19T23:27:26.751001Z"
    },
    "scrolled": true
   },
   "outputs": [],
   "source": [
    "def load_from_ckpt(model, ckpt_path):\n",
    "    checkpoint = torch.load(ckpt_path, map_location='cpu')\n",
    "    model.load_state_dict(checkpoint['model_state_dict'])"
   ]
  },
  {
   "cell_type": "code",
   "execution_count": 51,
   "metadata": {
    "ExecuteTime": {
     "end_time": "2021-03-19T23:27:27.602374Z",
     "start_time": "2021-03-19T23:27:27.511633Z"
    },
    "scrolled": true
   },
   "outputs": [],
   "source": [
    "load_from_ckpt(model, '/home/e.chuykova/data/ckpt.pt')"
   ]
  },
  {
   "cell_type": "markdown",
   "metadata": {},
   "source": [
    "Тест, чтобы проверить, что код модели корректно написан, модель правильно восстановилась из чекпоинта"
   ]
  },
  {
   "cell_type": "code",
   "execution_count": 52,
   "metadata": {
    "ExecuteTime": {
     "end_time": "2021-03-19T23:27:29.128903Z",
     "start_time": "2021-03-19T23:27:28.677303Z"
    }
   },
   "outputs": [],
   "source": [
    "audio, audio_len = open_audio('test_files/test_audio.mp3', sample_rate)\n",
    "output = model(*compute_log_mel_spectrogram(torch.unsqueeze(audio, 0), torch.unsqueeze(torch.tensor([audio_len]), 0)))\n",
    "assert torch.isclose(output[0][0][0][0], torch.tensor(-3.53916406))\n",
    "assert torch.isclose(output[0][15][0][30], torch.tensor(-3.605963468))"
   ]
  },
  {
   "cell_type": "markdown",
   "metadata": {},
   "source": [
    "Отправим модель на гпу.\n",
    "\n",
    "<img src=\"images/cuda_is_important.jpg\" width=\"400\" height=\"400\">\n"
   ]
  },
  {
   "cell_type": "code",
   "execution_count": 53,
   "metadata": {
    "ExecuteTime": {
     "end_time": "2021-03-19T23:27:31.352788Z",
     "start_time": "2021-03-19T23:27:31.321756Z"
    }
   },
   "outputs": [
    {
     "data": {
      "text/plain": [
       "Model(\n",
       "  (conv): Sequential(\n",
       "    (0): Conv2d(1, 32, kernel_size=[21, 11], stride=[1, 1], bias=False)\n",
       "    (1): BatchNorm2d(32, eps=1e-05, momentum=0.9, affine=True, track_running_stats=True)\n",
       "    (2): ReLU(inplace=True)\n",
       "    (3): Conv2d(32, 64, kernel_size=[11, 11], stride=[1, 3], bias=False)\n",
       "    (4): BatchNorm2d(64, eps=1e-05, momentum=0.9, affine=True, track_running_stats=True)\n",
       "    (5): ReLU(inplace=True)\n",
       "  )\n",
       "  (lstm): LSTM(2176, 512, num_layers=4, batch_first=True, bidirectional=True)\n",
       "  (output_layer): Linear(in_features=1024, out_features=35, bias=True)\n",
       ")"
      ]
     },
     "execution_count": 53,
     "metadata": {},
     "output_type": "execute_result"
    }
   ],
   "source": [
    "model.to(device=device)"
   ]
  },
  {
   "cell_type": "markdown",
   "metadata": {},
   "source": [
    "# Обучаем модельку"
   ]
  },
  {
   "cell_type": "code",
   "execution_count": 54,
   "metadata": {
    "ExecuteTime": {
     "end_time": "2021-03-19T23:27:32.778779Z",
     "start_time": "2021-03-19T23:27:32.776222Z"
    },
    "scrolled": true
   },
   "outputs": [],
   "source": [
    "from time import time\n",
    "from tqdm import tqdm_notebook as tqdm\n",
    "import os"
   ]
  },
  {
   "cell_type": "markdown",
   "metadata": {},
   "source": [
    "Давайте напишем несколько вспомогательных функций, которые будут нам нужны для обучения модели.\n",
    "\n",
    "Для начала займемся метриками. Основная метрика - wer (word error rate).\n",
    "\n",
    "Тут поможет библиотека `editdistance`."
   ]
  },
  {
   "cell_type": "code",
   "execution_count": 55,
   "metadata": {
    "ExecuteTime": {
     "end_time": "2021-03-19T23:27:34.031399Z",
     "start_time": "2021-03-19T23:27:34.027481Z"
    },
    "scrolled": true
   },
   "outputs": [],
   "source": [
    "import editdistance"
   ]
  },
  {
   "cell_type": "code",
   "execution_count": 56,
   "metadata": {
    "ExecuteTime": {
     "end_time": "2021-03-19T23:27:34.292530Z",
     "start_time": "2021-03-19T23:27:34.278808Z"
    }
   },
   "outputs": [],
   "source": [
    "import regex"
   ]
  },
  {
   "cell_type": "code",
   "execution_count": 57,
   "metadata": {
    "ExecuteTime": {
     "end_time": "2021-03-19T23:27:35.492950Z",
     "start_time": "2021-03-19T23:27:35.487095Z"
    },
    "scrolled": true
   },
   "outputs": [],
   "source": [
    "def calc_wer(predicted_text, gt_text):\n",
    "    \"\"\" Compute wer.\n",
    "        Inputs:\n",
    "            predicted_text: str\n",
    "            gt_text: str\n",
    "        Returns:\n",
    "            wer: int\n",
    "    \"\"\"\n",
    "    ### write your code here ###\n",
    "    words_split_pattern = regex.compile(r'\\b\\w+\\b')\n",
    "    \n",
    "    gt_words = regex.findall(words_split_pattern, gt_text)\n",
    "    predicted_words = regex.findall(words_split_pattern, predicted_text)\n",
    "    \n",
    "    if len(gt_words) == len(predicted_words) == 0:\n",
    "        return 0.0\n",
    "    if len(gt_words) == 0:\n",
    "        return 1.0\n",
    "    wer = editdistance.eval(predicted_words, gt_words) / len(gt_words)\n",
    "    return wer\n",
    "\n",
    "\n",
    "def calc_wer_for_batch(list_of_predicted_text, list_of_gt_text):\n",
    "    \"\"\" Compute mean wer for batch.\n",
    "            Inputs:\n",
    "                list_of_predicted_text: list\n",
    "                list_of_gt_text: list\n",
    "            Returns:int\n",
    "            \n",
    "    \"\"\"\n",
    "    \n",
    "    ### write your code here ###\n",
    "    mean_wer = np.mean([calc_wer(_, __) for _, __ in zip(list_of_predicted_text, list_of_gt_text)])\n",
    "    return mean_wer"
   ]
  },
  {
   "cell_type": "code",
   "execution_count": 58,
   "metadata": {
    "ExecuteTime": {
     "end_time": "2021-03-19T23:27:38.670926Z",
     "start_time": "2021-03-19T23:27:35.685765Z"
    },
    "scrolled": true
   },
   "outputs": [
    {
     "name": "stdout",
     "output_type": "stream",
     "text": [
      "Don't forget to save Jupyter Notebook! \n",
      "\n",
      "\n",
      "\u001b[1m============================= test session starts ==============================\u001b[0m\n",
      "platform linux -- Python 3.6.9, pytest-6.2.2, py-1.10.0, pluggy-0.13.1\n",
      "rootdir: /home/mnakhodnov/sirius-stt, configfile: pytest.ini\n",
      "collected 7 items                                                              \u001b[0m\u001b[1m\n",
      "\n",
      "tests/test_compute_wer.py \u001b[32m.\u001b[0m\u001b[32m.\u001b[0m\u001b[32m.\u001b[0m\u001b[32m.\u001b[0m\u001b[32m.\u001b[0m\u001b[32m.\u001b[0m\u001b[32m.\u001b[0m\u001b[32m                                        [100%]\u001b[0m\n",
      "\n",
      "\u001b[32m============================== \u001b[32m\u001b[1m7 passed\u001b[0m\u001b[32m in 1.74s\u001b[0m\u001b[32m ===============================\u001b[0m\n"
     ]
    }
   ],
   "source": [
    "! pytest tests/test_compute_wer.py"
   ]
  },
  {
   "cell_type": "markdown",
   "metadata": {},
   "source": [
    "Давайте реализуем greedy decoding. \n",
    "\n",
    "Сначала научимся получать greedy trn из выравниваний. Можно использовать `itertools`.\n",
    "\n",
    "Не забудьте выкинуть лишние пробелы в начале и конце полученного текста!"
   ]
  },
  {
   "cell_type": "code",
   "execution_count": 59,
   "metadata": {
    "ExecuteTime": {
     "end_time": "2021-03-19T23:27:39.492324Z",
     "start_time": "2021-03-19T23:27:39.488935Z"
    },
    "scrolled": true
   },
   "outputs": [],
   "source": [
    "import itertools"
   ]
  },
  {
   "cell_type": "code",
   "execution_count": 60,
   "metadata": {
    "ExecuteTime": {
     "end_time": "2021-03-19T23:27:39.717056Z",
     "start_time": "2021-03-19T23:27:39.712980Z"
    },
    "scrolled": true
   },
   "outputs": [],
   "source": [
    "def decode(alignment):\n",
    "    \"\"\" Get text from alignment.\n",
    "        Inputs:\n",
    "            alignment: str\n",
    "        Returns:\n",
    "            text: srt\n",
    "    \"\"\"\n",
    "    ### write your code here ###\n",
    "    alignment = regex.sub(r'(\\p{L})\\1+', r'\\1', alignment)\n",
    "    alignment = alignment.replace('<blank>', '')\n",
    "    alignment = regex.sub(' +', ' ', alignment)\n",
    "    text = alignment.strip()\n",
    "    return text"
   ]
  },
  {
   "cell_type": "code",
   "execution_count": 61,
   "metadata": {
    "ExecuteTime": {
     "end_time": "2021-03-19T23:27:42.931451Z",
     "start_time": "2021-03-19T23:27:39.954294Z"
    },
    "scrolled": true
   },
   "outputs": [
    {
     "name": "stdout",
     "output_type": "stream",
     "text": [
      "Don't forget to save Jupyter Notebook! \n",
      "\n",
      "\n",
      "\u001b[1m============================= test session starts ==============================\u001b[0m\n",
      "platform linux -- Python 3.6.9, pytest-6.2.2, py-1.10.0, pluggy-0.13.1\n",
      "rootdir: /home/mnakhodnov/sirius-stt, configfile: pytest.ini\n",
      "collected 4 items                                                              \u001b[0m\u001b[1m\n",
      "\n",
      "tests/test_decode.py \u001b[32m.\u001b[0m\u001b[32m.\u001b[0m\u001b[32m.\u001b[0m\u001b[32m.\u001b[0m\u001b[32m                                                [100%]\u001b[0m\n",
      "\n",
      "\u001b[32m============================== \u001b[32m\u001b[1m4 passed\u001b[0m\u001b[32m in 1.73s\u001b[0m\u001b[32m ===============================\u001b[0m\n"
     ]
    }
   ],
   "source": [
    "! pytest tests/test_decode.py"
   ]
  },
  {
   "cell_type": "markdown",
   "metadata": {},
   "source": [
    "Получим greedy text из выхода акустической модели (logprobs)."
   ]
  },
  {
   "cell_type": "code",
   "execution_count": 62,
   "metadata": {
    "ExecuteTime": {
     "end_time": "2021-03-19T23:27:43.515883Z",
     "start_time": "2021-03-19T23:27:43.510318Z"
    },
    "code_folding": [
     0
    ]
   },
   "outputs": [],
   "source": [
    "def greedy_decoder(logprobs, logprobs_lens, vocab):\n",
    "    predictions = []\n",
    "    \n",
    "    tokens = torch.argmax(logprobs, dim=-1)\n",
    "    for idx in range(logprobs.shape[1]):        \n",
    "        alligmnet_tokens = vocab.lookup_tokens(tokens[:, idx][:logprobs_lens[idx]].detach().cpu().numpy())\n",
    "        alligmnet = ''.join(alligmnet_tokens)\n",
    "        hypo = decode(alligmnet)\n",
    "        predictions += [[(hypo, 1.0)]]\n",
    "    \n",
    "    return predictions"
   ]
  },
  {
   "cell_type": "code",
   "execution_count": 63,
   "metadata": {
    "ExecuteTime": {
     "end_time": "2021-03-19T23:27:43.816696Z",
     "start_time": "2021-03-19T23:27:43.813558Z"
    }
   },
   "outputs": [],
   "source": [
    "from collections import defaultdict"
   ]
  },
  {
   "cell_type": "code",
   "execution_count": 64,
   "metadata": {
    "ExecuteTime": {
     "end_time": "2021-03-19T23:27:45.727871Z",
     "start_time": "2021-03-19T23:27:45.711506Z"
    },
    "code_folding": [
     0
    ]
   },
   "outputs": [],
   "source": [
    "def beam_search_decode(logprobs, logprobs_lens, vocab, beam_size, cutoff_top_n, cutoff_prob, ext_scoring_func, alpha):\n",
    "    '''\n",
    "    logprobs: [num_timesteps, alphabet_len]\n",
    "    '''\n",
    "    def _beam_search_decode(\n",
    "        _logprobs, _logprobs_len, \n",
    "        vocab, beam_size, cutoff_top_n, cutoff_prob, ext_scoring_func, alpha\n",
    "    ):\n",
    "        assert (cutoff_top_n is None) or (cutoff_prob is None)\n",
    "        if (cutoff_top_n is None) and (cutoff_prob is None):\n",
    "            cutoff_prob = 1.0\n",
    "\n",
    "        hypos = set()\n",
    "        indices2tokens = vocab.indices2tokens()\n",
    "        probs_b, probs_nb = defaultdict(float), defaultdict(float)\n",
    "\n",
    "        hypos.add('')\n",
    "        probs_b[''], probs_nb[''] = 1.0, 0.0\n",
    "        for t in range(_logprobs_len):\n",
    "            hypos_new = set()\n",
    "            probs_b_new, probs_nb_new = defaultdict(float), defaultdict(float)\n",
    "\n",
    "            probs_t = torch.exp(_logprobs[t]).detach().cpu()\n",
    "            decreace_idxs = torch.argsort(-probs_t).detach().cpu().numpy()\n",
    "            if cutoff_prob is not None:\n",
    "                cond_idxs = torch.where(torch.cumsum(probs_t[decreace_idxs], dim=0) > cutoff_prob)[0]\n",
    "                if len(cond_idxs) == 0:\n",
    "                    cutoff_top_n = len(decreace_idxs)\n",
    "                else:\n",
    "                    cutoff_top_n = cond_idxs[0].item()\n",
    "                if cutoff_top_n == 0:\n",
    "                    cutoff_top_n = 1\n",
    "\n",
    "            for l in hypos:\n",
    "                for c_idx in decreace_idxs[:cutoff_top_n]:\n",
    "                    c, c_prob = indices2tokens[c_idx], probs_t[c_idx]\n",
    "\n",
    "                    if c == '<blank>':\n",
    "                        probs_b_new[l] += c_prob * (probs_b[l] + probs_nb[l])\n",
    "                    else:\n",
    "                        l_end = l[-1] if len(l) > 0 else ''\n",
    "                        l_plus = l + c\n",
    "                        if c == l_end:\n",
    "                            probs_nb_new[l] += c_prob * probs_nb[l]\n",
    "                            probs_nb_new[l_plus] += c_prob * probs_b[l]\n",
    "                        elif c == ' ':\n",
    "                            if ext_scoring_func is None:\n",
    "                                p_W = 1.0\n",
    "                            else:\n",
    "                                p_W = ext_scoring_func(l)\n",
    "                            probs_b_new[l_plus] += np.power(p_W, alpha) * c_prob * (probs_b[l] + probs_nb[l])\n",
    "                        else:\n",
    "                            probs_nb_new[l_plus] += c_prob * (probs_b[l] + probs_nb[l])\n",
    "                        hypos_new.add(l_plus)                                        \n",
    "                hypos_new.add(l)\n",
    "\n",
    "\n",
    "            hypos_new = list(\n",
    "                sorted(hypos_new, key=lambda hypo: probs_b_new[hypo] + probs_nb_new[hypo], reverse=True)\n",
    "            )[:min(beam_size, len(hypos_new))]\n",
    "\n",
    "            hypos, probs_b, probs_nb = hypos_new, probs_b_new, probs_nb_new\n",
    "\n",
    "        return sorted(\n",
    "            [(hypo, probs_b_new[hypo] + probs_nb_new[hypo]) for hypo in hypos],\n",
    "            key=lambda key_value: key_value[1], reverse=True\n",
    "        )\n",
    "    \n",
    "    predictions = []\n",
    "    for idx in range(logprobs.shape[1]):\n",
    "        hypos =  _beam_search_decode(\n",
    "            logprobs[:, idx], logprobs_lens[idx],\n",
    "            vocab=vocab, beam_size=beam_size,\n",
    "            cutoff_top_n=cutoff_top_n, cutoff_prob=cutoff_prob,\n",
    "            ext_scoring_func=ext_scoring_func, alpha=alpha\n",
    "        )\n",
    "        predictions.append(hypos)\n",
    "\n",
    "    return predictions"
   ]
  },
  {
   "cell_type": "code",
   "execution_count": 65,
   "metadata": {
    "ExecuteTime": {
     "end_time": "2021-03-19T23:27:46.116564Z",
     "start_time": "2021-03-19T23:27:46.110659Z"
    }
   },
   "outputs": [],
   "source": [
    "from ctcdecode import CTCBeamDecoder"
   ]
  },
  {
   "cell_type": "code",
   "execution_count": 66,
   "metadata": {
    "ExecuteTime": {
     "end_time": "2021-03-19T23:27:46.373218Z",
     "start_time": "2021-03-19T23:27:46.365710Z"
    },
    "code_folding": [
     2
    ]
   },
   "outputs": [],
   "source": [
    "def fast_beam_search_decode(\n",
    "    logprobs, logprobs_lens, vocab, beam_size, cutoff_top_n, cutoff_prob, ext_scoring_func, alpha, beta, num_processes\n",
    "):\n",
    "    labels = ''.join(vocab.indices2tokens()).replace('<blank>', '_').replace('<unk>', '')\n",
    "    decoder = CTCBeamDecoder(\n",
    "        labels=labels, blank_id=blank_index,\n",
    "        cutoff_top_n=cutoff_top_n, cutoff_prob=cutoff_prob, beam_width=beam_size,\n",
    "        model_path=ext_scoring_func, alpha=alpha, beta=beta,\n",
    "        num_processes=num_processes,\n",
    "        log_probs_input=False\n",
    "    )\n",
    "    probs = torch.exp(logprobs)\n",
    "    beam_results, beam_scores, timesteps, out_lens = decoder.decode(torch.transpose(probs, 0, 1), logprobs_lens)\n",
    "    beam_probas = torch.exp(-beam_scores)\n",
    "    \n",
    "    predictions = []\n",
    "    for idx in range(beam_results.shape[0]):\n",
    "        beam = []\n",
    "        for jdx in range(beam_results.shape[1]):\n",
    "            hypo = ''.join(vocab.lookup_tokens(beam_results[idx, jdx, :out_lens[idx, jdx]].tolist()))\n",
    "            hypo_score = beam_probas[idx, jdx]\n",
    "            beam.append((hypo, hypo_score))\n",
    "        predictions.append(beam)\n",
    "        \n",
    "    return predictions"
   ]
  },
  {
   "cell_type": "code",
   "execution_count": 67,
   "metadata": {
    "ExecuteTime": {
     "end_time": "2021-03-19T23:27:46.659579Z",
     "start_time": "2021-03-19T23:27:46.655479Z"
    },
    "code_folding": [
     0
    ]
   },
   "outputs": [],
   "source": [
    "def get_prediction(logprobs, logprobs_lens, vocab, decoder=greedy_decoder, decoder_kwargs=None):\n",
    "    \"\"\" Compute greedy text from loglikes.\n",
    "            Input shape:\n",
    "                logprobs: 3D tensor with shape (num_timesteps, batch_size, alphabet_len)\n",
    "                logprobs_lens: 1D tensor with shape (batch_size)\n",
    "            Returns:\n",
    "                list of texts with len (batch_size)\n",
    "    \"\"\"\n",
    "    if decoder_kwargs is None:\n",
    "        decoder_kwargs = dict()\n",
    "        \n",
    "    predictions = decoder(logprobs=logprobs, logprobs_lens=logprobs_lens, vocab=vocab, **decoder_kwargs)\n",
    "    predictions = [sorted(hypos, key=lambda key_value: key_value[1], reverse=True)[0][0] for hypos in predictions]\n",
    "\n",
    "    return predictions"
   ]
  },
  {
   "cell_type": "code",
   "execution_count": 119,
   "metadata": {
    "ExecuteTime": {
     "end_time": "2021-03-20T00:04:57.719012Z",
     "start_time": "2021-03-20T00:04:55.699208Z"
    }
   },
   "outputs": [],
   "source": [
    "batch = next(iter(val_dataloader))\n",
    "batch = {\n",
    "    key: value.to(device=device) if isinstance(value, torch.Tensor) else value for key, value in batch.items()\n",
    "}\n",
    "\n",
    "log_mel_spectrogram, seq_lens = compute_log_mel_spectrogram(batch['audios'], batch['audio_lens'])\n",
    "logprobs, seq_lens = model(log_mel_spectrogram, seq_lens)"
   ]
  },
  {
   "cell_type": "code",
   "execution_count": 120,
   "metadata": {
    "ExecuteTime": {
     "end_time": "2021-03-20T00:04:58.484713Z",
     "start_time": "2021-03-20T00:04:58.415115Z"
    }
   },
   "outputs": [
    {
     "name": "stdout",
     "output_type": "stream",
     "text": [
      "['нет', 'нет', 'да', 'пять', 'эй', 'фемь', 'ноль', 'три', 'три', 'эй', 'семь', 'восемь', 'вот так', 'вами', 'ноль', 'три', 'пять', 'девять', 'четыре', 'восемь', 'два', 'четыре', 'вот чта я предлагаю', 'оставь', 'вот так', 'ну и что же', 'пять', 'эй', 'девять', 'ноль', 'ноль', 'ноль', 'пять', 'парки было шумна', 'нольли', 'и точно', 'хоту с вами', 'шесть', 'три', 'и точно', 'эй', 'семь', 'два', 'украйны несключенияе', 'восемь', 'эй', 'ноль', 'ван слово посеол', 'семь', 'вот смотри', 'девять', 'восемь', 'четыре', 'го', 'да', 'позе', 'восемь', 'благодарю вас за внимание', 'семь', 'нет', 'вось есть рецепт', 'и тимур вз дохнул', 'эй', 'показать список', 'вапо прижс крий', 'да', 'босемь', 'четыре', 'девять', 'ти морушл', 'эй', 'три', 'и это тоже факт', 'нет', 'я очень люблю летать', 'акко хорошо', 'не так ли', 'мы непросит за это прощения', 'он вновь не ответил', 'это тревога', 'мы здесь одни', 'лишнего мне не надо', 'этй', 'три', 'три', 'мир праху его', 'он в порядке', 'шесть', 'пять', 'один']\n"
     ]
    }
   ],
   "source": [
    "print(get_prediction(logprobs=logprobs, logprobs_lens=seq_lens, vocab=vocab, decoder=greedy_decoder))"
   ]
  },
  {
   "cell_type": "code",
   "execution_count": 121,
   "metadata": {
    "ExecuteTime": {
     "end_time": "2021-03-20T00:04:59.671378Z",
     "start_time": "2021-03-20T00:04:59.638509Z"
    }
   },
   "outputs": [],
   "source": [
    "beam_kwargs = {'beam_size': 10, 'cutoff_top_n': 1, 'cutoff_prob': None, 'ext_scoring_func': None, 'alpha': 1.0}"
   ]
  },
  {
   "cell_type": "code",
   "execution_count": 122,
   "metadata": {
    "ExecuteTime": {
     "end_time": "2021-03-20T00:05:03.553728Z",
     "start_time": "2021-03-20T00:04:59.961062Z"
    }
   },
   "outputs": [
    {
     "name": "stdout",
     "output_type": "stream",
     "text": [
      "['нет', 'нет', 'да', 'пять', 'эй', 'фемь', 'ноль', 'три', 'три', 'эй', 'семь', 'восемь', 'вот  так', 'вами', 'ноль', 'три', 'пять', 'девять', 'четыре', 'восемь', 'два', 'четыре', 'вот чта я предлагаю', 'оставь', 'вот  так', 'ну и что же', 'пять', 'эй', 'девять', 'ноль', 'ноль', 'ноль', 'пять', 'парки  было шумна', 'нольли', 'и  точно', ' хоту  с  вами', 'шесть', 'три', 'и  точно', 'эй', 'семь', 'два', 'украйны  несключенияе', 'восемь', 'эй', 'ноль', 'ван  слово  посеол', 'семь', 'вот  смотри', 'девять', 'восемь', 'четыре', 'го', 'да', 'позе', 'восемь', 'благодарю вас за внимание', 'семь', 'нет', 'вось  есть  рецепт', 'и тимур вз дохнул', 'эй', 'показать список', 'вапо  прижс  крий', 'да', 'босемь', 'четыре', 'девять', 'ти морушл', 'эй', 'три', 'и  это  тоже  факт', 'нет', 'я  очень  люблю  летать', 'акко  хорошо', 'не  так  ли', 'мы  непросит  за это прощения', 'он  вновь  не ответил', 'это  тревога', 'мы  здесь одни', 'лишнего мне  не  надо', 'этй', 'три', 'три', 'мир  праху его', 'он  в порядке', 'шесть', 'пять', 'один']\n"
     ]
    }
   ],
   "source": [
    "print(get_prediction(\n",
    "    logprobs=logprobs, logprobs_lens=seq_lens, vocab=vocab, \n",
    "    decoder=beam_search_decode, decoder_kwargs=beam_kwargs\n",
    "))"
   ]
  },
  {
   "cell_type": "code",
   "execution_count": 123,
   "metadata": {
    "ExecuteTime": {
     "end_time": "2021-03-20T00:05:03.589344Z",
     "start_time": "2021-03-20T00:05:03.555614Z"
    }
   },
   "outputs": [],
   "source": [
    "fast_beam_kwargs = {\n",
    "    'beam_size': 10, 'cutoff_top_n': 1, 'cutoff_prob': 1.0, \n",
    "    'ext_scoring_func': None, 'alpha': 1.0, 'beta': 0.0, 'num_processes': 16\n",
    "}"
   ]
  },
  {
   "cell_type": "code",
   "execution_count": 124,
   "metadata": {
    "ExecuteTime": {
     "end_time": "2021-03-20T00:05:03.666469Z",
     "start_time": "2021-03-20T00:05:03.591226Z"
    }
   },
   "outputs": [
    {
     "name": "stdout",
     "output_type": "stream",
     "text": [
      "['нет', 'нет', '', 'пять', 'эй', 'фемь', 'ноль', 'три', 'три', 'эй', 'семь', 'восемь', 'вот так', 'вами', 'ноль', 'три', 'пять', 'девять', 'четыре', 'восемь', 'два', 'четыре', 'вот чта я предлагаю', 'оставь', 'вот так', 'ну и что же', 'пять', 'эй', 'девять', 'ноль', 'ноль', 'ноль', 'пять', 'парки было шумна', 'нольли', 'и точно', ' хоту с вами', 'шесть', 'три', 'и точно', 'эй', 'семь', 'два', 'украйны несключенияе', 'восемь', 'эй', 'ноль', 'ван слово посеол', 'семь', 'вот смотри', 'девять', 'восемь', 'четыре', '', '', 'позе', 'восемь', 'благодарю вас за внимание', 'семь', 'нет', 'вось есть рецепт', 'и тимур вз дохнул', 'эй', 'показать список', 'вапо прижс крий', '', 'босемь', 'четыре', 'девять', 'ти морушл', 'эй', 'три', 'и это тоже факт', 'нет', 'я очень люблю летать', 'акко хорошо', 'не так ли', 'мы непросит за это прощения', 'он вновь не ответил', 'это тревога', 'мы здесь одни', 'лишнего мне не надо', 'этй', 'три', 'три', 'мир праху его', 'он в порядке', 'шесть', 'пять', 'один']\n"
     ]
    }
   ],
   "source": [
    "print(get_prediction(\n",
    "    logprobs=logprobs, logprobs_lens=seq_lens, vocab=vocab, \n",
    "    decoder=fast_beam_search_decode, decoder_kwargs=fast_beam_kwargs\n",
    "))"
   ]
  },
  {
   "cell_type": "code",
   "execution_count": 74,
   "metadata": {
    "ExecuteTime": {
     "end_time": "2021-03-19T23:28:15.546852Z",
     "start_time": "2021-03-19T23:28:12.609887Z"
    },
    "scrolled": true
   },
   "outputs": [
    {
     "name": "stdout",
     "output_type": "stream",
     "text": [
      "Don't forget to save Jupyter Notebook! \n",
      "\n",
      "\n",
      "\u001b[1m============================= test session starts ==============================\u001b[0m\n",
      "platform linux -- Python 3.6.9, pytest-6.2.2, py-1.10.0, pluggy-0.13.1\n",
      "rootdir: /home/mnakhodnov/sirius-stt, configfile: pytest.ini\n",
      "collected 1 item                                                               \u001b[0m\u001b[1m\n",
      "\n",
      "tests/test_get_prediction.py \u001b[32m.\u001b[0m\u001b[32m                                           [100%]\u001b[0m\n",
      "\n",
      "\u001b[32m============================== \u001b[32m\u001b[1m1 passed\u001b[0m\u001b[32m in 1.69s\u001b[0m\u001b[32m ===============================\u001b[0m\n"
     ]
    }
   ],
   "source": [
    "! pytest tests/test_get_prediction.py"
   ]
  },
  {
   "cell_type": "markdown",
   "metadata": {},
   "source": [
    "В этой функции надо из сырых данных, извлеченных из датасета, получить спектрограмму, прогнать через модель, посчитать средний лосс и wer для батча, list с текстами предсказанных гипотез для батча."
   ]
  },
  {
   "cell_type": "code",
   "execution_count": 75,
   "metadata": {
    "ExecuteTime": {
     "end_time": "2021-03-19T23:28:16.501842Z",
     "start_time": "2021-03-19T23:28:16.496113Z"
    },
    "scrolled": true
   },
   "outputs": [],
   "source": [
    "def get_model_results(\n",
    "    model, audios, audio_lens, tokens, texts, text_lens, \n",
    "    vocab, loss_fn, decoder, decoder_kwargs\n",
    "):\n",
    "    \"\"\" get mean loss, mean wer and prediction list for batch\n",
    "        Returns:\n",
    "            loss: int\n",
    "            wer: int\n",
    "            prediction: list of str\n",
    "            \n",
    "    \"\"\"\n",
    "    ### write your code here ###\n",
    "    log_mel_spectrogram, seq_lens = compute_log_mel_spectrogram(audios, audio_lens)\n",
    "    logprobs, seq_lens = model(log_mel_spectrogram, seq_lens)\n",
    "    loss = loss_fn(logprobs, tokens, seq_lens, text_lens)\n",
    "\n",
    "    with torch.no_grad():\n",
    "        predictions = get_prediction(logprobs, seq_lens, vocab, decoder=decoder, decoder_kwargs=decoder_kwargs)\n",
    "        wer = calc_wer_for_batch(predictions, texts)\n",
    "    \n",
    "    return loss, wer, predictions"
   ]
  },
  {
   "cell_type": "markdown",
   "metadata": {},
   "source": [
    "Для удобства будем логировать метрики в [tensorboard](https://pytorch.org/docs/stable/tensorboard.html)."
   ]
  },
  {
   "cell_type": "code",
   "execution_count": 76,
   "metadata": {
    "ExecuteTime": {
     "end_time": "2021-03-19T23:28:17.923120Z",
     "start_time": "2021-03-19T23:28:17.859242Z"
    },
    "scrolled": true
   },
   "outputs": [],
   "source": [
    "from torch.utils.tensorboard import SummaryWriter"
   ]
  },
  {
   "cell_type": "code",
   "execution_count": 77,
   "metadata": {
    "ExecuteTime": {
     "end_time": "2021-03-19T23:28:18.091672Z",
     "start_time": "2021-03-19T23:28:18.085734Z"
    },
    "code_folding": [
     0
    ],
    "scrolled": true
   },
   "outputs": [],
   "source": [
    "class TensorboardLogger:\n",
    "    def __init__(self, tensorboard_path):\n",
    "        self.writer = SummaryWriter(tensorboard_path)\n",
    "\n",
    "    def log(self, step, loss, wer, mode):\n",
    "        assert mode in ('train', 'val')\n",
    "        \n",
    "        ### write your code here ###\n",
    "        \n",
    "        # add loss to tb \n",
    "        # add wer to tb \n",
    "        self.writer.add_scalar(f'wer/{mode}', wer, global_step=step)\n",
    "        self.writer.add_scalar(f'loss/{mode}', loss, global_step=step)\n",
    "\n",
    "    def log_text(self, step, pred_texts, gt_texts, mode):\n",
    "        \n",
    "        ### write your code here ###\n",
    "        \n",
    "        for pred_text in pred_texts:\n",
    "            # add pred text to tb \n",
    "            self.writer.add_text(f'predict/{mode}', pred_text, global_step=step)\n",
    "            \n",
    "        for gt_text in gt_texts:\n",
    "            # add gt text to tb \n",
    "            self.writer.add_text(f'ground truth/{mode}', gt_text, global_step=step)\n",
    "      \n",
    "    def close(self):\n",
    "        self.writer.close()"
   ]
  },
  {
   "cell_type": "markdown",
   "metadata": {},
   "source": [
    " "
   ]
  },
  {
   "cell_type": "markdown",
   "metadata": {},
   "source": [
    "Теперь можем собрать функции в train loop. "
   ]
  },
  {
   "cell_type": "markdown",
   "metadata": {},
   "source": [
    "## Training parameters"
   ]
  },
  {
   "cell_type": "code",
   "execution_count": 78,
   "metadata": {
    "ExecuteTime": {
     "end_time": "2021-03-19T23:28:19.635905Z",
     "start_time": "2021-03-19T23:28:19.629442Z"
    },
    "code_folding": [
     0
    ]
   },
   "outputs": [],
   "source": [
    "def validate(model, dataloader, vocab, loss_fn, decoder, decoder_kwargs):\n",
    "    loss, wer = 0.0, 0.0\n",
    "    with torch.no_grad():\n",
    "        for batch in tqdm(dataloader, total=len(dataloader)):\n",
    "            batch = {\n",
    "                key: value.to(device=device) if isinstance(value, torch.Tensor) else value for key, value in batch.items()\n",
    "            }\n",
    "            loss_batch, wer_batch, prediction = get_model_results(\n",
    "                model, batch[\"audios\"], batch[\"audio_lens\"],\n",
    "                batch[\"tokens\"], batch[\"texts\"], batch[\"text_lens\"], vocab, loss_fn,\n",
    "                decoder=decoder, decoder_kwargs=decoder_kwargs\n",
    "            )\n",
    "\n",
    "            loss += loss_batch.item() * batch['audio_lens'].shape[0]\n",
    "            wer += wer_batch * batch['audio_lens'].shape[0]\n",
    "\n",
    "        loss /= len(dataloader.dataset)\n",
    "        wer /= len(dataloader.dataset)\n",
    "    return loss, wer"
   ]
  },
  {
   "cell_type": "code",
   "execution_count": 133,
   "metadata": {
    "ExecuteTime": {
     "end_time": "2021-03-20T00:09:04.452762Z",
     "start_time": "2021-03-20T00:09:04.407487Z"
    },
    "code_folding": [
     4
    ]
   },
   "outputs": [],
   "source": [
    "def training(\n",
    "    model, optimizer, loss_fn, num_epochs, \n",
    "    train_dataloader, val_dataloader, log_every_n_batch, model_dir,\n",
    "    vocab, beam_kwargs\n",
    "):\n",
    "\n",
    "    logger = TensorboardLogger(model_dir)\n",
    "\n",
    "    for epoch in range(num_epochs):\n",
    "        start_time = time()\n",
    "        train_loss, train_wer = 0, 0\n",
    "        \n",
    "        model.train(True)\n",
    "        for iteration, batch in enumerate(tqdm(train_dataloader, total=len(train_dataloader))):\n",
    "            batch = {\n",
    "                key: value.to(device=device) if isinstance(value, torch.Tensor) else value for key, value in batch.items()\n",
    "            }\n",
    "            loss, wer, prediction = get_model_results(\n",
    "                model, batch[\"audios\"], batch[\"audio_lens\"], \n",
    "                batch[\"tokens\"], batch[\"texts\"], batch[\"text_lens\"], vocab, loss_fn,\n",
    "                decoder=greedy_decoder, decoder_kwargs=dict()\n",
    "            )\n",
    "\n",
    "            # optimizer step\n",
    "            ### write your code here ###\n",
    "            optimizer.zero_grad()\n",
    "            loss.backward()\n",
    "            optimizer.step()\n",
    "\n",
    "            train_loss += loss.item() * batch['audio_lens'].shape[0]\n",
    "            train_wer += wer * batch['audio_lens'].shape[0]\n",
    "\n",
    "            step = len(train_dataloader) * epoch + iteration\n",
    "            if step % log_every_n_batch == 0:\n",
    "                logger.log(step, loss, wer, 'train')\n",
    "                logger.log_text(step, prediction, batch[\"texts\"], \"train\")\n",
    "        train_loss /= len(train_dataloader.dataset)\n",
    "        train_wer /= len(train_dataloader.dataset)\n",
    "\n",
    "        model.train(False)        \n",
    "        val_loss, val_wer = validate(\n",
    "            model=model, dataloader=val_dataloader, vocab=vocab, loss_fn=loss_fn,\n",
    "            decoder=fast_beam_search_decode, decoder_kwargs=beam_kwargs\n",
    "        )\n",
    "\n",
    "        logger.log(step, val_loss, val_wer, 'val')\n",
    "        logger.log_text(step, prediction, batch[\"texts\"], \"val\")\n",
    "\n",
    "        torch.save({\n",
    "            'epoch': epoch,\n",
    "            'model_state_dict': model.state_dict(),\n",
    "            'optimizer_state_dict': optimizer.state_dict(),\n",
    "            'loss': loss,\n",
    "        }, os.path.join(model_dir, f'epoch_{epoch}.pt'))\n",
    "\n",
    "        print(f'\\nEpoch {epoch + 1} of {num_epochs} took {time() - start_time}s, ' + \\\n",
    "              f'train loss: {train_loss}, val loss: {val_loss}, train wer: {train_wer}, val wer: {val_wer}')\n",
    "\n",
    "    logger.close()\n",
    "    print(\"Finished!\")"
   ]
  },
  {
   "cell_type": "code",
   "execution_count": 125,
   "metadata": {
    "ExecuteTime": {
     "end_time": "2021-03-20T00:05:30.263782Z",
     "start_time": "2021-03-20T00:05:30.225847Z"
    },
    "scrolled": true
   },
   "outputs": [],
   "source": [
    "num_epochs = 7\n",
    "model_dir = 'models/3'\n",
    "log_every_n_batch = 10"
   ]
  },
  {
   "cell_type": "code",
   "execution_count": 135,
   "metadata": {
    "ExecuteTime": {
     "end_time": "2021-03-20T00:09:11.737765Z",
     "start_time": "2021-03-20T00:09:11.703705Z"
    }
   },
   "outputs": [],
   "source": [
    "learning_rate = 6e-5\n",
    "opt = torch.optim.Adam(model.parameters(), lr=learning_rate)"
   ]
  },
  {
   "cell_type": "code",
   "execution_count": 136,
   "metadata": {
    "ExecuteTime": {
     "end_time": "2021-03-20T00:09:11.904274Z",
     "start_time": "2021-03-20T00:09:11.875204Z"
    },
    "scrolled": true
   },
   "outputs": [],
   "source": [
    "loss_fn = torch.nn.CTCLoss(blank=blank_index, reduction='mean')"
   ]
  },
  {
   "cell_type": "markdown",
   "metadata": {},
   "source": [
    "Про ctc loss очень хорошо написано [тут](https://distill.pub/2017/ctc/). А [это](https://www.cs.toronto.edu/~graves/icml_2006.pdf) исходная статья."
   ]
  },
  {
   "cell_type": "markdown",
   "metadata": {},
   "source": [
    "Если не используете перемешивание батчей (шафл), то при подборе batch size обратите внимание, что данные отсортированы (обучение будет замедляться с увеличением длины аудио)."
   ]
  },
  {
   "cell_type": "markdown",
   "metadata": {},
   "source": [
    "## Load LibriSpeech dataset"
   ]
  },
  {
   "cell_type": "code",
   "execution_count": 179,
   "metadata": {
    "ExecuteTime": {
     "end_time": "2021-03-21T07:40:36.007036Z",
     "start_time": "2021-03-21T07:40:35.970236Z"
    }
   },
   "outputs": [],
   "source": [
    "def convert_libri_manifest_to_common_voice(manifest_path):\n",
    "    with open(manifest_path, 'r') as in_file:\n",
    "        with open(manifest_path.replace('.json', '.csv'), 'w') as out_file:    \n",
    "            for line in in_file:\n",
    "                sample = json.loads(line, parse_float=lambda x: x)\n",
    "                audio_filepath = os.path.join(\n",
    "                    os.path.dirname(os.path.abspath(manifest_path)), sample['audio_filepath']\n",
    "                )\n",
    "                out_file.write(','.join([audio_filepath, sample['text'], sample['duration']]) + '\\n')\n",
    "    \n",
    "    return manifest_path.replace('.json', '.csv')"
   ]
  },
  {
   "cell_type": "code",
   "execution_count": 180,
   "metadata": {
    "ExecuteTime": {
     "end_time": "2021-03-21T07:40:38.245084Z",
     "start_time": "2021-03-21T07:40:36.895327Z"
    }
   },
   "outputs": [],
   "source": [
    "ls_dev_dataset_path = './../voice_data/libri_speech/dev/manifest.json'\n",
    "ls_test_dataset_path = './../voice_data/libri_speech/test/manifest.json'\n",
    "ls_train_dataset_path = './../voice_data/libri_speech/train/manifest.json'\n",
    "\n",
    "ls_dev_dataset_path = convert_libri_manifest_to_common_voice(ls_dev_dataset_path)\n",
    "ls_test_dataset_path = convert_libri_manifest_to_common_voice(ls_test_dataset_path)\n",
    "ls_train_dataset_path = convert_libri_manifest_to_common_voice(ls_train_dataset_path)"
   ]
  },
  {
   "cell_type": "code",
   "execution_count": 183,
   "metadata": {
    "ExecuteTime": {
     "end_time": "2021-03-21T07:41:57.808975Z",
     "start_time": "2021-03-21T07:41:37.238835Z"
    }
   },
   "outputs": [],
   "source": [
    "ls_dev_dataset = AudioDataset(ls_dev_dataset_path, vocab=vocab, sample_rate=8000)\n",
    "ls_test_dataset = AudioDataset(ls_test_dataset_path, vocab=vocab, sample_rate=8000)\n",
    "ls_train_dataset = AudioDataset(ls_train_dataset_path, vocab=vocab, sample_rate=8000)"
   ]
  },
  {
   "cell_type": "code",
   "execution_count": 184,
   "metadata": {
    "ExecuteTime": {
     "end_time": "2021-03-21T07:44:48.277567Z",
     "start_time": "2021-03-21T07:44:48.230760Z"
    }
   },
   "outputs": [],
   "source": [
    "ls_dev_dataloader = DataLoader(\n",
    "    ls_dev_dataset, batch_size=batch_size, shuffle=False, num_workers=num_workers, pin_memory=True, collate_fn=collate_fn\n",
    ")\n",
    "ls_dev_dataloader = DataLoader(\n",
    "    ls_test_dataset, batch_size=batch_size, shuffle=False, num_workers=num_workers, pin_memory=True, collate_fn=collate_fn\n",
    ")\n",
    "ls_train_dataloader = DataLoader(\n",
    "    ls_train_dataset, batch_size=batch_size, sampler=AudioDatasetSampler(ls_train_dataset, batch_size=batch_size),\n",
    "    num_workers=num_workers, pin_memory=True, collate_fn=collate_fn\n",
    ")"
   ]
  },
  {
   "cell_type": "markdown",
   "metadata": {},
   "source": [
    "## Train LM model for beam search"
   ]
  },
  {
   "cell_type": "code",
   "execution_count": 100,
   "metadata": {
    "ExecuteTime": {
     "end_time": "2021-03-19T23:36:38.762402Z",
     "start_time": "2021-03-19T23:36:38.683650Z"
    }
   },
   "outputs": [],
   "source": [
    "with open('./../language_data/train.txt', 'w') as lm_data_file:\n",
    "    for text in train_dataset.data['text']:\n",
    "        lm_data_file.write(text + '\\n')"
   ]
  },
  {
   "cell_type": "code",
   "execution_count": 143,
   "metadata": {
    "ExecuteTime": {
     "end_time": "2021-03-21T07:17:35.747019Z",
     "start_time": "2021-03-21T07:17:35.700754Z"
    }
   },
   "outputs": [],
   "source": [
    "# with open('./../voice_data/libri_speech/test/manifest.json', 'r') as file:\n",
    "#     with open('./../language_data/libri_speech_train.txt', 'w') as lm_data_file:\n",
    "#         for line in file:\n",
    "#             sample = json.loads(line)\n",
    "#             lm_data_file.write(sample['text'] + '\\n')"
   ]
  },
  {
   "cell_type": "code",
   "execution_count": 108,
   "metadata": {
    "ExecuteTime": {
     "end_time": "2021-03-19T23:44:15.006975Z",
     "start_time": "2021-03-19T23:43:44.664751Z"
    }
   },
   "outputs": [
    {
     "name": "stdout",
     "output_type": "stream",
     "text": [
      "=== 1/5 Counting and sorting n-grams ===\n",
      "Reading /home/mnakhodnov/language_data/train.txt\n",
      "----5---10---15---20---25---30---35---40---45---50---55---60---65---70---75---80---85---90---95--100\n",
      "****************************************************************************************************\n",
      "Unigram tokens 459788 types 30024\n",
      "=== 2/5 Calculating and sorting adjusted counts ===\n",
      "Chain sizes: 1:360288 2:71672954880 3:134386794496\n",
      "Statistics:\n",
      "1 30024 D1=0.649994 D2=1.08171 D3+=1.43642\n",
      "2 137335 D1=0.825257 D2=1.16211 D3+=1.22321\n",
      "3 190087 D1=0.409086 D2=1.76738 D3+=0.79414\n",
      "Memory estimate for binary LM:\n",
      "type      kB\n",
      "probing 7322 assuming -p 1.5\n",
      "probing 8244 assuming -r models -p 1.5\n",
      "trie    3380 without quantization\n",
      "trie    2061 assuming -q 8 -b 8 quantization \n",
      "trie    3202 assuming -a 22 array pointer compression\n",
      "trie    1883 assuming -a 22 -q 8 -b 8 array pointer compression and quantization\n",
      "=== 3/5 Calculating and sorting initial probabilities ===\n",
      "Chain sizes: 1:360288 2:2197360 3:3801740\n",
      "----5---10---15---20---25---30---35---40---45---50---55---60---65---70---75---80---85---90---95--100\n",
      "####################################################################################################\n",
      "=== 4/5 Calculating and writing order-interpolated probabilities ===\n",
      "Chain sizes: 1:360288 2:2197360 3:3801740\n",
      "----5---10---15---20---25---30---35---40---45---50---55---60---65---70---75---80---85---90---95--100\n",
      "####################################################################################################\n",
      "=== 5/5 Writing ARPA model ===\n",
      "----5---10---15---20---25---30---35---40---45---50---55---60---65---70---75---80---85---90---95--100\n",
      "****************************************************************************************************\n",
      "Name:lmplz\tVmPeak:201399316 kB\tVmRSS:12904 kB\tRSSMax:46465756 kB\tuser:7.17734\tsys:21.524\tCPU:28.7014\treal:28.6318\n",
      "Reading ./../language_data/train_lm_model.arpa\n",
      "----5---10---15---20---25---30---35---40---45---50---55---60---65---70---75---80---85---90---95--100\n",
      "****************************************************************************************************\n",
      "SUCCESS\n"
     ]
    }
   ],
   "source": [
    "! ./../kenlm/build/bin/lmplz -o 3 <./../language_data/train.txt >./../language_data/train_lm_model.arpa\n",
    "# ! ./../kenlm/build/bin/lmplz -o 5 <./../language_data/libri_speech_train.txt >./../language_data/train_lm_model.arpa\n",
    "! ./../kenlm/build/bin/build_binary ./../language_data/train_lm_model.arpa ./../language_data/train_lm_model.binary"
   ]
  },
  {
   "cell_type": "code",
   "execution_count": 134,
   "metadata": {
    "ExecuteTime": {
     "end_time": "2021-03-20T00:09:08.750582Z",
     "start_time": "2021-03-20T00:09:08.455645Z"
    }
   },
   "outputs": [],
   "source": [
    "load_from_ckpt(model, './models/2/epoch_6.pt')"
   ]
  },
  {
   "cell_type": "code",
   "execution_count": 131,
   "metadata": {
    "ExecuteTime": {
     "end_time": "2021-03-20T00:05:52.747965Z",
     "start_time": "2021-03-20T00:05:52.709664Z"
    }
   },
   "outputs": [],
   "source": [
    "beam_kwargs = {'beam_size': 10, 'cutoff_top_n': 5, 'cutoff_prob': None, 'ext_scoring_func': None, 'alpha': 1.0}\n",
    "fast_beam_kwargs = {\n",
    "    'beam_size': 10, 'cutoff_top_n': 5, 'cutoff_prob': 1.0, \n",
    "    'ext_scoring_func': './../language_data/train_lm_model.binary', 'alpha': 1.0, 'beta': 0.3, 'num_processes': 32\n",
    "}"
   ]
  },
  {
   "cell_type": "code",
   "execution_count": 106,
   "metadata": {
    "ExecuteTime": {
     "end_time": "2021-03-19T23:42:37.937742Z",
     "start_time": "2021-03-19T23:38:51.536846Z"
    }
   },
   "outputs": [
    {
     "data": {
      "application/vnd.jupyter.widget-view+json": {
       "model_id": "1a905564134a429fb33fc88c546e4864",
       "version_major": 2,
       "version_minor": 0
      },
      "text/plain": [
       "  0%|          | 0/56 [00:00<?, ?it/s]"
      ]
     },
     "metadata": {},
     "output_type": "display_data"
    },
    {
     "name": "stdout",
     "output_type": "stream",
     "text": [
      "Loss: 0.2857444478869438, WER: 0.4667327680652679\n"
     ]
    }
   ],
   "source": [
    "model.eval()\n",
    "loss, wer = validate(\n",
    "    model, val_dataloader, vocab, loss_fn,\n",
    "#     decoder=greedy_decoder, decoder_kwargs={}\n",
    "#     decoder=beam_search_decode, decoder_kwargs=beam_kwargs  \n",
    "    decoder=fast_beam_search_decode, decoder_kwargs=fast_beam_kwargs\n",
    ")\n",
    "model.train()\n",
    "\n",
    "print(f'Loss: {loss}, WER: {wer}')\n",
    "\n",
    "# greedy -> Loss: 0.2857444478869438, WER: 0.3258212143412143\n",
    "# fast_beam_search -> Loss: 0.2857444478869438, WER: 0.3172471955821956\n",
    "# fast_beam_search + LM (1.0, 0.0) -> Loss: 0.2857444478869438, WER: 0.26591688394938395\n",
    "# fast_beam_search + LM (1.0, 0.3) -> Loss: 0.2857444478869438, WER: 0.2645809271284272"
   ]
  },
  {
   "cell_type": "markdown",
   "metadata": {},
   "source": [
    "## And for now we finally train model"
   ]
  },
  {
   "cell_type": "code",
   "execution_count": 137,
   "metadata": {
    "ExecuteTime": {
     "end_time": "2021-03-20T06:40:01.672496Z",
     "start_time": "2021-03-20T00:09:26.271502Z"
    },
    "scrolled": true
   },
   "outputs": [
    {
     "data": {
      "application/vnd.jupyter.widget-view+json": {
       "model_id": "86c595799b7545b5bf8475c96d238ba8",
       "version_major": 2,
       "version_minor": 0
      },
      "text/plain": [
       "  0%|          | 0/553 [00:00<?, ?it/s]"
      ]
     },
     "metadata": {},
     "output_type": "display_data"
    },
    {
     "data": {
      "application/vnd.jupyter.widget-view+json": {
       "model_id": "374c61153bb14c9eaad70394ef338b47",
       "version_major": 2,
       "version_minor": 0
      },
      "text/plain": [
       "  0%|          | 0/56 [00:00<?, ?it/s]"
      ]
     },
     "metadata": {},
     "output_type": "display_data"
    },
    {
     "name": "stdout",
     "output_type": "stream",
     "text": [
      "\n",
      "Epoch 1 of 100 took 437.465989112854s, train loss: 0.04672805504859559, val loss: 0.3109671565592289, train wer: 0.07052799605821077, val wer: 0.2696103127428127\n"
     ]
    },
    {
     "data": {
      "application/vnd.jupyter.widget-view+json": {
       "model_id": "f2acf1e4fec14893aabf0bd642f81129",
       "version_major": 2,
       "version_minor": 0
      },
      "text/plain": [
       "  0%|          | 0/553 [00:00<?, ?it/s]"
      ]
     },
     "metadata": {},
     "output_type": "display_data"
    },
    {
     "data": {
      "application/vnd.jupyter.widget-view+json": {
       "model_id": "c88c892618824077991bf3ef3e549439",
       "version_major": 2,
       "version_minor": 0
      },
      "text/plain": [
       "  0%|          | 0/56 [00:00<?, ?it/s]"
      ]
     },
     "metadata": {},
     "output_type": "display_data"
    },
    {
     "name": "stdout",
     "output_type": "stream",
     "text": [
      "\n",
      "Epoch 2 of 100 took 419.8621027469635s, train loss: 0.03291329995946919, val loss: 0.30157077679038047, train wer: 0.04534452181605609, val wer: 0.26147449689199687\n"
     ]
    },
    {
     "data": {
      "application/vnd.jupyter.widget-view+json": {
       "model_id": "e49a01d9a7514c62a0df5f79bd66dd90",
       "version_major": 2,
       "version_minor": 0
      },
      "text/plain": [
       "  0%|          | 0/553 [00:00<?, ?it/s]"
      ]
     },
     "metadata": {},
     "output_type": "display_data"
    },
    {
     "data": {
      "application/vnd.jupyter.widget-view+json": {
       "model_id": "807cc0784651428e8d49fb4887f82684",
       "version_major": 2,
       "version_minor": 0
      },
      "text/plain": [
       "  0%|          | 0/56 [00:00<?, ?it/s]"
      ]
     },
     "metadata": {},
     "output_type": "display_data"
    },
    {
     "name": "stdout",
     "output_type": "stream",
     "text": [
      "\n",
      "Epoch 3 of 100 took 447.90864515304565s, train loss: 0.025469095309665016, val loss: 0.3156160186231136, train wer: 0.0329409066930175, val wer: 0.2627017413142413\n"
     ]
    },
    {
     "data": {
      "application/vnd.jupyter.widget-view+json": {
       "model_id": "6353c9ce7ea34928b753e92db5b08520",
       "version_major": 2,
       "version_minor": 0
      },
      "text/plain": [
       "  0%|          | 0/553 [00:00<?, ?it/s]"
      ]
     },
     "metadata": {},
     "output_type": "display_data"
    },
    {
     "data": {
      "application/vnd.jupyter.widget-view+json": {
       "model_id": "06ee04078b3e45529d0d6598b5a02aa6",
       "version_major": 2,
       "version_minor": 0
      },
      "text/plain": [
       "  0%|          | 0/56 [00:00<?, ?it/s]"
      ]
     },
     "metadata": {},
     "output_type": "display_data"
    },
    {
     "name": "stdout",
     "output_type": "stream",
     "text": [
      "\n",
      "Epoch 4 of 100 took 429.82770323753357s, train loss: 0.01947722843475108, val loss: 0.3327148035466671, train wer: 0.022805462407977286, val wer: 0.2644207922632921\n"
     ]
    },
    {
     "data": {
      "application/vnd.jupyter.widget-view+json": {
       "model_id": "4747d6489bb74e28b66cd8b29ff9397e",
       "version_major": 2,
       "version_minor": 0
      },
      "text/plain": [
       "  0%|          | 0/553 [00:00<?, ?it/s]"
      ]
     },
     "metadata": {},
     "output_type": "display_data"
    },
    {
     "name": "stderr",
     "output_type": "stream",
     "text": [
      "IOPub message rate exceeded.\n",
      "The notebook server will temporarily stop sending output\n",
      "to the client in order to avoid crashing it.\n",
      "To change this limit, set the config variable\n",
      "`--NotebookApp.iopub_msg_rate_limit`.\n",
      "\n",
      "Current values:\n",
      "NotebookApp.iopub_msg_rate_limit=1000.0 (msgs/sec)\n",
      "NotebookApp.rate_limit_window=3.0 (secs)\n",
      "\n"
     ]
    },
    {
     "data": {
      "application/vnd.jupyter.widget-view+json": {
       "model_id": "f6d91c86d8b244148963625396c82a37",
       "version_major": 2,
       "version_minor": 0
      },
      "text/plain": [
       "  0%|          | 0/56 [00:00<?, ?it/s]"
      ]
     },
     "metadata": {},
     "output_type": "display_data"
    },
    {
     "name": "stdout",
     "output_type": "stream",
     "text": [
      "\n",
      "Epoch 9 of 100 took 403.2232356071472s, train loss: 0.005938899862722661, val loss: 0.38911972534656525, train wer: 0.004831154927146402, val wer: 0.2684389801864802\n"
     ]
    },
    {
     "data": {
      "application/vnd.jupyter.widget-view+json": {
       "model_id": "5a3c7d28241347d8ae16862deb46794c",
       "version_major": 2,
       "version_minor": 0
      },
      "text/plain": [
       "  0%|          | 0/553 [00:00<?, ?it/s]"
      ]
     },
     "metadata": {},
     "output_type": "display_data"
    },
    {
     "data": {
      "application/vnd.jupyter.widget-view+json": {
       "model_id": "894eea6bcb314a0db88500f2609088d2",
       "version_major": 2,
       "version_minor": 0
      },
      "text/plain": [
       "  0%|          | 0/56 [00:00<?, ?it/s]"
      ]
     },
     "metadata": {},
     "output_type": "display_data"
    },
    {
     "name": "stdout",
     "output_type": "stream",
     "text": [
      "\n",
      "Epoch 10 of 100 took 404.9786205291748s, train loss: 0.004624581745737706, val loss: 0.4060340143442154, train wer: 0.0032979229947708577, val wer: 0.2702422213897214\n"
     ]
    },
    {
     "data": {
      "application/vnd.jupyter.widget-view+json": {
       "model_id": "2c6ce000c2a24d92a46c31e5b872848f",
       "version_major": 2,
       "version_minor": 0
      },
      "text/plain": [
       "  0%|          | 0/553 [00:00<?, ?it/s]"
      ]
     },
     "metadata": {},
     "output_type": "display_data"
    },
    {
     "name": "stderr",
     "output_type": "stream",
     "text": [
      "IOPub message rate exceeded.\n",
      "The notebook server will temporarily stop sending output\n",
      "to the client in order to avoid crashing it.\n",
      "To change this limit, set the config variable\n",
      "`--NotebookApp.iopub_msg_rate_limit`.\n",
      "\n",
      "Current values:\n",
      "NotebookApp.iopub_msg_rate_limit=1000.0 (msgs/sec)\n",
      "NotebookApp.rate_limit_window=3.0 (secs)\n",
      "\n"
     ]
    },
    {
     "data": {
      "application/vnd.jupyter.widget-view+json": {
       "model_id": "8c818465a23a41aba622c202e8304dd4",
       "version_major": 2,
       "version_minor": 0
      },
      "text/plain": [
       "  0%|          | 0/56 [00:00<?, ?it/s]"
      ]
     },
     "metadata": {},
     "output_type": "display_data"
    },
    {
     "name": "stdout",
     "output_type": "stream",
     "text": [
      "\n",
      "Epoch 14 of 100 took 452.3337230682373s, train loss: 0.0031548403837026954, val loss: 0.4411610639989376, train wer: 0.002614895981935223, val wer: 0.272904671994672\n"
     ]
    },
    {
     "data": {
      "application/vnd.jupyter.widget-view+json": {
       "model_id": "97069fe4d68a4630a5aa98f1a0dff185",
       "version_major": 2,
       "version_minor": 0
      },
      "text/plain": [
       "  0%|          | 0/553 [00:00<?, ?it/s]"
      ]
     },
     "metadata": {},
     "output_type": "display_data"
    },
    {
     "data": {
      "application/vnd.jupyter.widget-view+json": {
       "model_id": "516371bfd4e144f7bae59d8af5398ea6",
       "version_major": 2,
       "version_minor": 0
      },
      "text/plain": [
       "  0%|          | 0/56 [00:00<?, ?it/s]"
      ]
     },
     "metadata": {},
     "output_type": "display_data"
    },
    {
     "name": "stdout",
     "output_type": "stream",
     "text": [
      "\n",
      "Epoch 15 of 100 took 431.91887617111206s, train loss: 0.0026846694158703744, val loss: 0.44976906076073647, train wer: 0.002240803025822326, val wer: 0.2738764824064823\n"
     ]
    },
    {
     "data": {
      "application/vnd.jupyter.widget-view+json": {
       "model_id": "942c15fd69504937917c04249b28f4e1",
       "version_major": 2,
       "version_minor": 0
      },
      "text/plain": [
       "  0%|          | 0/553 [00:00<?, ?it/s]"
      ]
     },
     "metadata": {},
     "output_type": "display_data"
    },
    {
     "name": "stderr",
     "output_type": "stream",
     "text": [
      "IOPub message rate exceeded.\n",
      "The notebook server will temporarily stop sending output\n",
      "to the client in order to avoid crashing it.\n",
      "To change this limit, set the config variable\n",
      "`--NotebookApp.iopub_msg_rate_limit`.\n",
      "\n",
      "Current values:\n",
      "NotebookApp.iopub_msg_rate_limit=1000.0 (msgs/sec)\n",
      "NotebookApp.rate_limit_window=3.0 (secs)\n",
      "\n"
     ]
    },
    {
     "data": {
      "application/vnd.jupyter.widget-view+json": {
       "model_id": "6daeef648ce348c99d514c4af717cdac",
       "version_major": 2,
       "version_minor": 0
      },
      "text/plain": [
       "  0%|          | 0/56 [00:00<?, ?it/s]"
      ]
     },
     "metadata": {},
     "output_type": "display_data"
    },
    {
     "name": "stdout",
     "output_type": "stream",
     "text": [
      "\n",
      "Epoch 20 of 100 took 433.27441692352295s, train loss: 0.0024899811019389426, val loss: 0.48154886084794996, train wer: 0.003126851582444218, val wer: 0.277321126096126\n"
     ]
    },
    {
     "data": {
      "application/vnd.jupyter.widget-view+json": {
       "model_id": "0f56316fdf244f11bd9c0a45e318b7a3",
       "version_major": 2,
       "version_minor": 0
      },
      "text/plain": [
       "  0%|          | 0/553 [00:00<?, ?it/s]"
      ]
     },
     "metadata": {},
     "output_type": "display_data"
    },
    {
     "data": {
      "application/vnd.jupyter.widget-view+json": {
       "model_id": "cc2ec9a03b534537bd5746b8dc8540f5",
       "version_major": 2,
       "version_minor": 0
      },
      "text/plain": [
       "  0%|          | 0/56 [00:00<?, ?it/s]"
      ]
     },
     "metadata": {},
     "output_type": "display_data"
    },
    {
     "name": "stdout",
     "output_type": "stream",
     "text": [
      "\n",
      "Epoch 21 of 100 took 417.6137647628784s, train loss: 0.002046950100167643, val loss: 0.49366719436645506, train wer: 0.001975153467293224, val wer: 0.2789253971028971\n"
     ]
    },
    {
     "data": {
      "application/vnd.jupyter.widget-view+json": {
       "model_id": "17c2b8d77b97454ebae15b4d0a6002a7",
       "version_major": 2,
       "version_minor": 0
      },
      "text/plain": [
       "  0%|          | 0/553 [00:00<?, ?it/s]"
      ]
     },
     "metadata": {},
     "output_type": "display_data"
    },
    {
     "name": "stderr",
     "output_type": "stream",
     "text": [
      "IOPub message rate exceeded.\n",
      "The notebook server will temporarily stop sending output\n",
      "to the client in order to avoid crashing it.\n",
      "To change this limit, set the config variable\n",
      "`--NotebookApp.iopub_msg_rate_limit`.\n",
      "\n",
      "Current values:\n",
      "NotebookApp.iopub_msg_rate_limit=1000.0 (msgs/sec)\n",
      "NotebookApp.rate_limit_window=3.0 (secs)\n",
      "\n"
     ]
    },
    {
     "data": {
      "application/vnd.jupyter.widget-view+json": {
       "model_id": "33db1509e60f4ceba0dda360c57495a0",
       "version_major": 2,
       "version_minor": 0
      },
      "text/plain": [
       "  0%|          | 0/56 [00:00<?, ?it/s]"
      ]
     },
     "metadata": {},
     "output_type": "display_data"
    },
    {
     "name": "stdout",
     "output_type": "stream",
     "text": [
      "\n",
      "Epoch 25 of 100 took 412.54444909095764s, train loss: 0.0015450919067095108, val loss: 0.5067362834811211, train wer: 0.0017946542753554673, val wer: 0.27742904512154526\n"
     ]
    },
    {
     "data": {
      "application/vnd.jupyter.widget-view+json": {
       "model_id": "5ec96822f8a043d185b03b46fbb40325",
       "version_major": 2,
       "version_minor": 0
      },
      "text/plain": [
       "  0%|          | 0/553 [00:00<?, ?it/s]"
      ]
     },
     "metadata": {},
     "output_type": "display_data"
    },
    {
     "data": {
      "application/vnd.jupyter.widget-view+json": {
       "model_id": "83b2dee582dc4a02b2409b1f9db6b3e8",
       "version_major": 2,
       "version_minor": 0
      },
      "text/plain": [
       "  0%|          | 0/56 [00:00<?, ?it/s]"
      ]
     },
     "metadata": {},
     "output_type": "display_data"
    },
    {
     "name": "stdout",
     "output_type": "stream",
     "text": [
      "\n",
      "Epoch 26 of 100 took 409.2083435058594s, train loss: 0.0016578379338808948, val loss: 0.5143418534696103, train wer: 0.0019414716368117801, val wer: 0.2795189568764567\n"
     ]
    },
    {
     "data": {
      "application/vnd.jupyter.widget-view+json": {
       "model_id": "97940b65f0be4b24ae427c4d3003b80d",
       "version_major": 2,
       "version_minor": 0
      },
      "text/plain": [
       "  0%|          | 0/553 [00:00<?, ?it/s]"
      ]
     },
     "metadata": {},
     "output_type": "display_data"
    },
    {
     "name": "stderr",
     "output_type": "stream",
     "text": [
      "IOPub message rate exceeded.\n",
      "The notebook server will temporarily stop sending output\n",
      "to the client in order to avoid crashing it.\n",
      "To change this limit, set the config variable\n",
      "`--NotebookApp.iopub_msg_rate_limit`.\n",
      "\n",
      "Current values:\n",
      "NotebookApp.iopub_msg_rate_limit=1000.0 (msgs/sec)\n",
      "NotebookApp.rate_limit_window=3.0 (secs)\n",
      "\n"
     ]
    },
    {
     "name": "stdout",
     "output_type": "stream",
     "text": [
      "\n",
      "Epoch 30 of 100 took 429.09705924987793s, train loss: 0.0011275113274167347, val loss: 0.528838775575161, train wer: 0.0011877560250228326, val wer: 0.27791775585525585\n"
     ]
    },
    {
     "data": {
      "application/vnd.jupyter.widget-view+json": {
       "model_id": "f939895bc8ae4a06afe9f5f83fb6f8df",
       "version_major": 2,
       "version_minor": 0
      },
      "text/plain": [
       "  0%|          | 0/553 [00:00<?, ?it/s]"
      ]
     },
     "metadata": {},
     "output_type": "display_data"
    },
    {
     "data": {
      "application/vnd.jupyter.widget-view+json": {
       "model_id": "1c5932f26bdd46c4b7ef7a867330b632",
       "version_major": 2,
       "version_minor": 0
      },
      "text/plain": [
       "  0%|          | 0/56 [00:00<?, ?it/s]"
      ]
     },
     "metadata": {},
     "output_type": "display_data"
    },
    {
     "name": "stdout",
     "output_type": "stream",
     "text": [
      "\n",
      "Epoch 31 of 100 took 402.3787727355957s, train loss: 0.0007498564803939228, val loss: 0.5297184148728847, train wer: 0.0005533795905499025, val wer: 0.2775634512709512\n"
     ]
    },
    {
     "data": {
      "application/vnd.jupyter.widget-view+json": {
       "model_id": "1742542b14e94551942702d303bddca3",
       "version_major": 2,
       "version_minor": 0
      },
      "text/plain": [
       "  0%|          | 0/553 [00:00<?, ?it/s]"
      ]
     },
     "metadata": {},
     "output_type": "display_data"
    },
    {
     "data": {
      "application/vnd.jupyter.widget-view+json": {
       "model_id": "741decebbff945a29d9bc22b70ad6110",
       "version_major": 2,
       "version_minor": 0
      },
      "text/plain": [
       "  0%|          | 0/56 [00:00<?, ?it/s]"
      ]
     },
     "metadata": {},
     "output_type": "display_data"
    },
    {
     "name": "stdout",
     "output_type": "stream",
     "text": [
      "\n",
      "Epoch 32 of 100 took 443.630056142807s, train loss: 0.0011400003124411983, val loss: 0.5314865635931492, train wer: 0.0014109360025450419, val wer: 0.27945598401598404\n"
     ]
    },
    {
     "data": {
      "application/vnd.jupyter.widget-view+json": {
       "model_id": "a86b051ff62c4d6f8120a93cbb399d66",
       "version_major": 2,
       "version_minor": 0
      },
      "text/plain": [
       "  0%|          | 0/553 [00:00<?, ?it/s]"
      ]
     },
     "metadata": {},
     "output_type": "display_data"
    },
    {
     "name": "stderr",
     "output_type": "stream",
     "text": [
      "IOPub message rate exceeded.\n",
      "The notebook server will temporarily stop sending output\n",
      "to the client in order to avoid crashing it.\n",
      "To change this limit, set the config variable\n",
      "`--NotebookApp.iopub_msg_rate_limit`.\n",
      "\n",
      "Current values:\n",
      "NotebookApp.iopub_msg_rate_limit=1000.0 (msgs/sec)\n",
      "NotebookApp.rate_limit_window=3.0 (secs)\n",
      "\n"
     ]
    },
    {
     "data": {
      "application/vnd.jupyter.widget-view+json": {
       "model_id": "90c0e980adcf46d8a45f293de4c69d73",
       "version_major": 2,
       "version_minor": 0
      },
      "text/plain": [
       "  0%|          | 0/56 [00:00<?, ?it/s]"
      ]
     },
     "metadata": {},
     "output_type": "display_data"
    },
    {
     "name": "stdout",
     "output_type": "stream",
     "text": [
      "\n",
      "Epoch 36 of 100 took 444.40804290771484s, train loss: 0.001643142284904457, val loss: 0.5471574314832688, train wer: 0.0024019648934211517, val wer: 0.2801416541791542\n"
     ]
    },
    {
     "data": {
      "application/vnd.jupyter.widget-view+json": {
       "model_id": "a322d711212a45149feb3903b14802e0",
       "version_major": 2,
       "version_minor": 0
      },
      "text/plain": [
       "  0%|          | 0/553 [00:00<?, ?it/s]"
      ]
     },
     "metadata": {},
     "output_type": "display_data"
    },
    {
     "name": "stdout",
     "output_type": "stream",
     "text": [
      "\n",
      "Epoch 54 of 100 took 401.21378087997437s, train loss: 0.0006587285126428339, val loss: 0.581526175737381, train wer: 0.0008759317123139902, val wer: 0.2787805405705405\n"
     ]
    },
    {
     "data": {
      "application/vnd.jupyter.widget-view+json": {
       "model_id": "04461557237148bda6f80908e167777f",
       "version_major": 2,
       "version_minor": 0
      },
      "text/plain": [
       "  0%|          | 0/553 [00:00<?, ?it/s]"
      ]
     },
     "metadata": {},
     "output_type": "display_data"
    },
    {
     "data": {
      "application/vnd.jupyter.widget-view+json": {
       "model_id": "bcf11cc3de4145559c76579e6c0c99fc",
       "version_major": 2,
       "version_minor": 0
      },
      "text/plain": [
       "  0%|          | 0/56 [00:00<?, ?it/s]"
      ]
     },
     "metadata": {},
     "output_type": "display_data"
    },
    {
     "name": "stdout",
     "output_type": "stream",
     "text": [
      "\n",
      "Epoch 55 of 100 took 406.69397926330566s, train loss: 0.0012521836184397313, val loss: 0.582623540341854, train wer: 0.0021417439508063527, val wer: 0.28225443889443896\n"
     ]
    },
    {
     "data": {
      "application/vnd.jupyter.widget-view+json": {
       "model_id": "f41e2bda8cb14e54b326e54f8435a5d6",
       "version_major": 2,
       "version_minor": 0
      },
      "text/plain": [
       "  0%|          | 0/553 [00:00<?, ?it/s]"
      ]
     },
     "metadata": {},
     "output_type": "display_data"
    },
    {
     "ename": "KeyboardInterrupt",
     "evalue": "",
     "output_type": "error",
     "traceback": [
      "\u001b[0;31m---------------------------------------------------------------------------\u001b[0m",
      "\u001b[0;31mKeyboardInterrupt\u001b[0m                         Traceback (most recent call last)",
      "\u001b[0;32m<ipython-input-137-12d4f3d7a4c4>\u001b[0m in \u001b[0;36m<module>\u001b[0;34m\u001b[0m\n\u001b[1;32m      4\u001b[0m     \u001b[0mtrain_dataloader\u001b[0m\u001b[0;34m,\u001b[0m \u001b[0mval_dataloader\u001b[0m\u001b[0;34m,\u001b[0m\u001b[0;34m\u001b[0m\u001b[0;34m\u001b[0m\u001b[0m\n\u001b[1;32m      5\u001b[0m     \u001b[0mlog_every_n_batch\u001b[0m\u001b[0;34m,\u001b[0m \u001b[0mmodel_dir\u001b[0m\u001b[0;34m,\u001b[0m \u001b[0mvocab\u001b[0m\u001b[0;34m,\u001b[0m\u001b[0;34m\u001b[0m\u001b[0;34m\u001b[0m\u001b[0m\n\u001b[0;32m----> 6\u001b[0;31m     \u001b[0mbeam_kwargs\u001b[0m\u001b[0;34m=\u001b[0m\u001b[0mfast_beam_kwargs\u001b[0m\u001b[0;34m\u001b[0m\u001b[0;34m\u001b[0m\u001b[0m\n\u001b[0m\u001b[1;32m      7\u001b[0m )\n",
      "\u001b[0;32m<ipython-input-133-9fef30d92dbf>\u001b[0m in \u001b[0;36mtraining\u001b[0;34m(model, optimizer, loss_fn, num_epochs, train_dataloader, val_dataloader, log_every_n_batch, model_dir, vocab, beam_kwargs)\u001b[0m\n\u001b[1;32m     19\u001b[0m                 \u001b[0mmodel\u001b[0m\u001b[0;34m,\u001b[0m \u001b[0mbatch\u001b[0m\u001b[0;34m[\u001b[0m\u001b[0;34m\"audios\"\u001b[0m\u001b[0;34m]\u001b[0m\u001b[0;34m,\u001b[0m \u001b[0mbatch\u001b[0m\u001b[0;34m[\u001b[0m\u001b[0;34m\"audio_lens\"\u001b[0m\u001b[0;34m]\u001b[0m\u001b[0;34m,\u001b[0m\u001b[0;34m\u001b[0m\u001b[0;34m\u001b[0m\u001b[0m\n\u001b[1;32m     20\u001b[0m                 \u001b[0mbatch\u001b[0m\u001b[0;34m[\u001b[0m\u001b[0;34m\"tokens\"\u001b[0m\u001b[0;34m]\u001b[0m\u001b[0;34m,\u001b[0m \u001b[0mbatch\u001b[0m\u001b[0;34m[\u001b[0m\u001b[0;34m\"texts\"\u001b[0m\u001b[0;34m]\u001b[0m\u001b[0;34m,\u001b[0m \u001b[0mbatch\u001b[0m\u001b[0;34m[\u001b[0m\u001b[0;34m\"text_lens\"\u001b[0m\u001b[0;34m]\u001b[0m\u001b[0;34m,\u001b[0m \u001b[0mvocab\u001b[0m\u001b[0;34m,\u001b[0m \u001b[0mloss_fn\u001b[0m\u001b[0;34m,\u001b[0m\u001b[0;34m\u001b[0m\u001b[0;34m\u001b[0m\u001b[0m\n\u001b[0;32m---> 21\u001b[0;31m                 \u001b[0mdecoder\u001b[0m\u001b[0;34m=\u001b[0m\u001b[0mgreedy_decoder\u001b[0m\u001b[0;34m,\u001b[0m \u001b[0mdecoder_kwargs\u001b[0m\u001b[0;34m=\u001b[0m\u001b[0mdict\u001b[0m\u001b[0;34m(\u001b[0m\u001b[0;34m)\u001b[0m\u001b[0;34m\u001b[0m\u001b[0;34m\u001b[0m\u001b[0m\n\u001b[0m\u001b[1;32m     22\u001b[0m             )\n\u001b[1;32m     23\u001b[0m \u001b[0;34m\u001b[0m\u001b[0m\n",
      "\u001b[0;32m<ipython-input-75-2014c0579e17>\u001b[0m in \u001b[0;36mget_model_results\u001b[0;34m(model, audios, audio_lens, tokens, texts, text_lens, vocab, loss_fn, decoder, decoder_kwargs)\u001b[0m\n\u001b[1;32m     16\u001b[0m \u001b[0;34m\u001b[0m\u001b[0m\n\u001b[1;32m     17\u001b[0m     \u001b[0;32mwith\u001b[0m \u001b[0mtorch\u001b[0m\u001b[0;34m.\u001b[0m\u001b[0mno_grad\u001b[0m\u001b[0;34m(\u001b[0m\u001b[0;34m)\u001b[0m\u001b[0;34m:\u001b[0m\u001b[0;34m\u001b[0m\u001b[0;34m\u001b[0m\u001b[0m\n\u001b[0;32m---> 18\u001b[0;31m         \u001b[0mpredictions\u001b[0m \u001b[0;34m=\u001b[0m \u001b[0mget_prediction\u001b[0m\u001b[0;34m(\u001b[0m\u001b[0mlogprobs\u001b[0m\u001b[0;34m,\u001b[0m \u001b[0mseq_lens\u001b[0m\u001b[0;34m,\u001b[0m \u001b[0mvocab\u001b[0m\u001b[0;34m,\u001b[0m \u001b[0mdecoder\u001b[0m\u001b[0;34m=\u001b[0m\u001b[0mdecoder\u001b[0m\u001b[0;34m,\u001b[0m \u001b[0mdecoder_kwargs\u001b[0m\u001b[0;34m=\u001b[0m\u001b[0mdecoder_kwargs\u001b[0m\u001b[0;34m)\u001b[0m\u001b[0;34m\u001b[0m\u001b[0;34m\u001b[0m\u001b[0m\n\u001b[0m\u001b[1;32m     19\u001b[0m         \u001b[0mwer\u001b[0m \u001b[0;34m=\u001b[0m \u001b[0mcalc_wer_for_batch\u001b[0m\u001b[0;34m(\u001b[0m\u001b[0mpredictions\u001b[0m\u001b[0;34m,\u001b[0m \u001b[0mtexts\u001b[0m\u001b[0;34m)\u001b[0m\u001b[0;34m\u001b[0m\u001b[0;34m\u001b[0m\u001b[0m\n\u001b[1;32m     20\u001b[0m \u001b[0;34m\u001b[0m\u001b[0m\n",
      "\u001b[0;32m<ipython-input-67-318d14390f89>\u001b[0m in \u001b[0;36mget_prediction\u001b[0;34m(logprobs, logprobs_lens, vocab, decoder, decoder_kwargs)\u001b[0m\n\u001b[1;32m     10\u001b[0m         \u001b[0mdecoder_kwargs\u001b[0m \u001b[0;34m=\u001b[0m \u001b[0mdict\u001b[0m\u001b[0;34m(\u001b[0m\u001b[0;34m)\u001b[0m\u001b[0;34m\u001b[0m\u001b[0;34m\u001b[0m\u001b[0m\n\u001b[1;32m     11\u001b[0m \u001b[0;34m\u001b[0m\u001b[0m\n\u001b[0;32m---> 12\u001b[0;31m     \u001b[0mpredictions\u001b[0m \u001b[0;34m=\u001b[0m \u001b[0mdecoder\u001b[0m\u001b[0;34m(\u001b[0m\u001b[0mlogprobs\u001b[0m\u001b[0;34m=\u001b[0m\u001b[0mlogprobs\u001b[0m\u001b[0;34m,\u001b[0m \u001b[0mlogprobs_lens\u001b[0m\u001b[0;34m=\u001b[0m\u001b[0mlogprobs_lens\u001b[0m\u001b[0;34m,\u001b[0m \u001b[0mvocab\u001b[0m\u001b[0;34m=\u001b[0m\u001b[0mvocab\u001b[0m\u001b[0;34m,\u001b[0m \u001b[0;34m**\u001b[0m\u001b[0mdecoder_kwargs\u001b[0m\u001b[0;34m)\u001b[0m\u001b[0;34m\u001b[0m\u001b[0;34m\u001b[0m\u001b[0m\n\u001b[0m\u001b[1;32m     13\u001b[0m     \u001b[0mpredictions\u001b[0m \u001b[0;34m=\u001b[0m \u001b[0;34m[\u001b[0m\u001b[0msorted\u001b[0m\u001b[0;34m(\u001b[0m\u001b[0mhypos\u001b[0m\u001b[0;34m,\u001b[0m \u001b[0mkey\u001b[0m\u001b[0;34m=\u001b[0m\u001b[0;32mlambda\u001b[0m \u001b[0mkey_value\u001b[0m\u001b[0;34m:\u001b[0m \u001b[0mkey_value\u001b[0m\u001b[0;34m[\u001b[0m\u001b[0;36m1\u001b[0m\u001b[0;34m]\u001b[0m\u001b[0;34m,\u001b[0m \u001b[0mreverse\u001b[0m\u001b[0;34m=\u001b[0m\u001b[0;32mTrue\u001b[0m\u001b[0;34m)\u001b[0m\u001b[0;34m[\u001b[0m\u001b[0;36m0\u001b[0m\u001b[0;34m]\u001b[0m\u001b[0;34m[\u001b[0m\u001b[0;36m0\u001b[0m\u001b[0;34m]\u001b[0m \u001b[0;32mfor\u001b[0m \u001b[0mhypos\u001b[0m \u001b[0;32min\u001b[0m \u001b[0mpredictions\u001b[0m\u001b[0;34m]\u001b[0m\u001b[0;34m\u001b[0m\u001b[0;34m\u001b[0m\u001b[0m\n\u001b[1;32m     14\u001b[0m \u001b[0;34m\u001b[0m\u001b[0m\n",
      "\u001b[0;32m<ipython-input-62-bb1f3cf818b4>\u001b[0m in \u001b[0;36mgreedy_decoder\u001b[0;34m(logprobs, logprobs_lens, vocab)\u001b[0m\n\u001b[1;32m      6\u001b[0m         \u001b[0malligmnet_tokens\u001b[0m \u001b[0;34m=\u001b[0m \u001b[0mvocab\u001b[0m\u001b[0;34m.\u001b[0m\u001b[0mlookup_tokens\u001b[0m\u001b[0;34m(\u001b[0m\u001b[0mtokens\u001b[0m\u001b[0;34m[\u001b[0m\u001b[0;34m:\u001b[0m\u001b[0;34m,\u001b[0m \u001b[0midx\u001b[0m\u001b[0;34m]\u001b[0m\u001b[0;34m[\u001b[0m\u001b[0;34m:\u001b[0m\u001b[0mlogprobs_lens\u001b[0m\u001b[0;34m[\u001b[0m\u001b[0midx\u001b[0m\u001b[0;34m]\u001b[0m\u001b[0;34m]\u001b[0m\u001b[0;34m.\u001b[0m\u001b[0mdetach\u001b[0m\u001b[0;34m(\u001b[0m\u001b[0;34m)\u001b[0m\u001b[0;34m.\u001b[0m\u001b[0mcpu\u001b[0m\u001b[0;34m(\u001b[0m\u001b[0;34m)\u001b[0m\u001b[0;34m.\u001b[0m\u001b[0mnumpy\u001b[0m\u001b[0;34m(\u001b[0m\u001b[0;34m)\u001b[0m\u001b[0;34m)\u001b[0m\u001b[0;34m\u001b[0m\u001b[0;34m\u001b[0m\u001b[0m\n\u001b[1;32m      7\u001b[0m         \u001b[0malligmnet\u001b[0m \u001b[0;34m=\u001b[0m \u001b[0;34m''\u001b[0m\u001b[0;34m.\u001b[0m\u001b[0mjoin\u001b[0m\u001b[0;34m(\u001b[0m\u001b[0malligmnet_tokens\u001b[0m\u001b[0;34m)\u001b[0m\u001b[0;34m\u001b[0m\u001b[0;34m\u001b[0m\u001b[0m\n\u001b[0;32m----> 8\u001b[0;31m         \u001b[0mhypo\u001b[0m \u001b[0;34m=\u001b[0m \u001b[0mdecode\u001b[0m\u001b[0;34m(\u001b[0m\u001b[0malligmnet\u001b[0m\u001b[0;34m)\u001b[0m\u001b[0;34m\u001b[0m\u001b[0;34m\u001b[0m\u001b[0m\n\u001b[0m\u001b[1;32m      9\u001b[0m         \u001b[0mpredictions\u001b[0m \u001b[0;34m+=\u001b[0m \u001b[0;34m[\u001b[0m\u001b[0;34m[\u001b[0m\u001b[0;34m(\u001b[0m\u001b[0mhypo\u001b[0m\u001b[0;34m,\u001b[0m \u001b[0;36m1.0\u001b[0m\u001b[0;34m)\u001b[0m\u001b[0;34m]\u001b[0m\u001b[0;34m]\u001b[0m\u001b[0;34m\u001b[0m\u001b[0;34m\u001b[0m\u001b[0m\n\u001b[1;32m     10\u001b[0m \u001b[0;34m\u001b[0m\u001b[0m\n",
      "\u001b[0;32m<ipython-input-60-537c0c2a7873>\u001b[0m in \u001b[0;36mdecode\u001b[0;34m(alignment)\u001b[0m\n\u001b[1;32m      7\u001b[0m     \"\"\"\n\u001b[1;32m      8\u001b[0m     \u001b[0;31m### write your code here ###\u001b[0m\u001b[0;34m\u001b[0m\u001b[0;34m\u001b[0m\u001b[0;34m\u001b[0m\u001b[0m\n\u001b[0;32m----> 9\u001b[0;31m     \u001b[0malignment\u001b[0m \u001b[0;34m=\u001b[0m \u001b[0mregex\u001b[0m\u001b[0;34m.\u001b[0m\u001b[0msub\u001b[0m\u001b[0;34m(\u001b[0m\u001b[0;34mr'(\\p{L})\\1+'\u001b[0m\u001b[0;34m,\u001b[0m \u001b[0;34mr'\\1'\u001b[0m\u001b[0;34m,\u001b[0m \u001b[0malignment\u001b[0m\u001b[0;34m)\u001b[0m\u001b[0;34m\u001b[0m\u001b[0;34m\u001b[0m\u001b[0m\n\u001b[0m\u001b[1;32m     10\u001b[0m     \u001b[0malignment\u001b[0m \u001b[0;34m=\u001b[0m \u001b[0malignment\u001b[0m\u001b[0;34m.\u001b[0m\u001b[0mreplace\u001b[0m\u001b[0;34m(\u001b[0m\u001b[0;34m'<blank>'\u001b[0m\u001b[0;34m,\u001b[0m \u001b[0;34m''\u001b[0m\u001b[0;34m)\u001b[0m\u001b[0;34m\u001b[0m\u001b[0;34m\u001b[0m\u001b[0m\n\u001b[1;32m     11\u001b[0m     \u001b[0malignment\u001b[0m \u001b[0;34m=\u001b[0m \u001b[0mregex\u001b[0m\u001b[0;34m.\u001b[0m\u001b[0msub\u001b[0m\u001b[0;34m(\u001b[0m\u001b[0;34m' +'\u001b[0m\u001b[0;34m,\u001b[0m \u001b[0;34m' '\u001b[0m\u001b[0;34m,\u001b[0m \u001b[0malignment\u001b[0m\u001b[0;34m)\u001b[0m\u001b[0;34m\u001b[0m\u001b[0;34m\u001b[0m\u001b[0m\n",
      "\u001b[0;32m/usr/local/lib/python3.6/dist-packages/regex/regex.py\u001b[0m in \u001b[0;36msub\u001b[0;34m(pattern, repl, string, count, flags, pos, endpos, concurrent, timeout, ignore_unused, **kwargs)\u001b[0m\n\u001b[1;32m    276\u001b[0m     object and must return a replacement string to be used.\"\"\"\n\u001b[1;32m    277\u001b[0m     \u001b[0mpat\u001b[0m \u001b[0;34m=\u001b[0m \u001b[0m_compile\u001b[0m\u001b[0;34m(\u001b[0m\u001b[0mpattern\u001b[0m\u001b[0;34m,\u001b[0m \u001b[0mflags\u001b[0m\u001b[0;34m,\u001b[0m \u001b[0mignore_unused\u001b[0m\u001b[0;34m,\u001b[0m \u001b[0mkwargs\u001b[0m\u001b[0;34m,\u001b[0m \u001b[0;32mTrue\u001b[0m\u001b[0;34m)\u001b[0m\u001b[0;34m\u001b[0m\u001b[0;34m\u001b[0m\u001b[0m\n\u001b[0;32m--> 278\u001b[0;31m     \u001b[0;32mreturn\u001b[0m \u001b[0mpat\u001b[0m\u001b[0;34m.\u001b[0m\u001b[0msub\u001b[0m\u001b[0;34m(\u001b[0m\u001b[0mrepl\u001b[0m\u001b[0;34m,\u001b[0m \u001b[0mstring\u001b[0m\u001b[0;34m,\u001b[0m \u001b[0mcount\u001b[0m\u001b[0;34m,\u001b[0m \u001b[0mpos\u001b[0m\u001b[0;34m,\u001b[0m \u001b[0mendpos\u001b[0m\u001b[0;34m,\u001b[0m \u001b[0mconcurrent\u001b[0m\u001b[0;34m,\u001b[0m \u001b[0mtimeout\u001b[0m\u001b[0;34m)\u001b[0m\u001b[0;34m\u001b[0m\u001b[0;34m\u001b[0m\u001b[0m\n\u001b[0m\u001b[1;32m    279\u001b[0m \u001b[0;34m\u001b[0m\u001b[0m\n\u001b[1;32m    280\u001b[0m def subf(pattern, format, string, count=0, flags=0, pos=None, endpos=None,\n",
      "\u001b[0;31mKeyboardInterrupt\u001b[0m: "
     ]
    }
   ],
   "source": [
    "num_epochs = 100\n",
    "training(\n",
    "    model, opt, loss_fn, num_epochs, \n",
    "    train_dataloader, val_dataloader, \n",
    "    log_every_n_batch, model_dir, vocab,\n",
    "    beam_kwargs=fast_beam_kwargs\n",
    ")"
   ]
  },
  {
   "cell_type": "markdown",
   "metadata": {},
   "source": [
    " "
   ]
  },
  {
   "cell_type": "markdown",
   "metadata": {},
   "source": [
    "<img src=\"images/training.jpeg\" width=\"400\" height=\"400\">\n",
    "\n",
    "\n",
    "После того, как напишете весь код и запустите обучение вашей первой модели, примерно после 5-6 эпох качество модели достигнет 30-35% WER.\n",
    "\n",
    "# Как можно улучшить полученные результаты\n",
    "\n",
    "<img src=\"images/pronunciation_or_not.jpg\" width=\"400\" height=\"400\">\n",
    "\n",
    "Далее описаны несколько способов, которые могут помочь улучшить качество. Потенциальный прирост обозначим ★, чем больше звездочек, тем более хорошее улучшение качества можно ожидать."
   ]
  },
  {
   "cell_type": "markdown",
   "metadata": {},
   "source": [
    " "
   ]
  },
  {
   "cell_type": "markdown",
   "metadata": {},
   "source": [
    "## Beam search ★★\n",
    "\n",
    "На лекции обсуждали, что beam search помогает достичь более хорошего качества, чем greedy декодирование.\n",
    "\n",
    "Изучить алгоритм можно [тут](https://medium.com/corti-ai/ctc-networks-and-language-models-prefix-beam-search-explained-c11d1ee23306) и [тут](https://drive.google.com/viewerng/viewer?url=https://arxiv.org/pdf/1408.2873.pdf)\n",
    "\n",
    "Код для beam search посмотреть [тут](https://github.com/PaddlePaddle/DeepSpeech/blob/master/decoders/decoders_deprecated.py). (Отредактировать при необходимости )"
   ]
  },
  {
   "cell_type": "markdown",
   "metadata": {},
   "source": [
    " "
   ]
  },
  {
   "cell_type": "markdown",
   "metadata": {},
   "source": [
    "## Внешняя языковая модель ★★★\n",
    "\n",
    "\n",
    "Внешняя языковая модель позволяет улучшить качество, т.к. убирает условную независимость соседних символов, которая свойственна ctc лоссу.\n",
    "\n",
    "Этот пункт состоит из двух этапов: сначала надо обучить языковую модель, затем встроить ее в beam search.\n",
    "\n",
    "#### Обучение\n",
    "\n",
    "Для обучения n-gram языковой модели можно использовать фреймворк kenlm.\n",
    "Документация: \n",
    "* https://kheafield.com/code/kenlm/\n",
    "* https://github.com/kpu/kenlm\n",
    "\n",
    "Модель сначала строится в формате arpa, затем ее лучше перевести в формат trie. Вызывать полученную модель можно через питон [ссылка](https://github.com/kpu/kenlm#python-module)\n",
    "\n",
    "\n",
    "#### Данные\n",
    "\n",
    "Для обучения модели конечно нужны данные :) Тут есть варианты:\n",
    "\n",
    "1. Можно обучить маленькую языковую модель на текстах из акустических обучающих данных (из трейна!).\n",
    "\n",
    "минусы: этих данных мало\n",
    "\n",
    "плюсы: домен остается таким же\n",
    "\n",
    "2. Можно взять внешние данные, например, [отсюда](http://data.statmt.org/cc-100/). (46G).\n",
    "\n",
    "минусы: тексты из другого (произвольного) домена\n",
    "\n",
    "плюсы: данных много\n",
    "\n",
    "При необходимости, данные надо предобработать - привести к нижнему регистру, разделить на предложения. Убрать предложения, которые содержат символы не из русского алфавита \n",
    "\n",
    "\n",
    "#### Внедрение в beam search\n",
    "\n",
    "В разделе про beam search есть ссылки на алгоритм.\n",
    "\n",
    "Можно использовать аргумент `ext_scoring_func` [тут](https://github.com/PaddlePaddle/DeepSpeech/blob/master/decoders/decoders_deprecated.py#L47).\n",
    "\n",
    "Пример скорера можно найти [тут](https://github.com/PaddlePaddle/DeepSpeech/blob/master/decoders/scorer_deprecated.py)"
   ]
  },
  {
   "cell_type": "markdown",
   "metadata": {},
   "source": [
    " "
   ]
  },
  {
   "cell_type": "markdown",
   "metadata": {},
   "source": [
    "## Аугментации ★\n",
    "\n",
    "\n",
    "Позволяют искусственно увеличь размер обучающей выборки, сделать его более разнообразным.\n",
    "\n",
    "### Аугментации аудио \n",
    "\n",
    "Применяются к аудиосигналу. Аугментации обычно реализуются через [sox](https://ru.wikipedia.org/wiki/SoX_(%D0%BF%D1%80%D0%BE%D0%B3%D1%80%D0%B0%D0%BC%D0%BC%D0%B0)). [Тут](http://sox.sourceforge.net/sox.html#EFFECTS) можно посмотротреть полный список sox эффектов с описанием. \n",
    "\n",
    "Полный список sox эффектов, доступных в torchaudio, можно посмотреть [тут](https://github.com/pytorch/audio/issues/260).\n",
    "\n",
    "Эффекты можно комбинировать.\n",
    "\n",
    "Внимание!\n",
    "\n",
    "* Аугментации надо применять очень аккуратно (!) - слишком сильные аугментации только ухудшат качество. Лучше применять аугментации с некоторой вероятностью.\n",
    "* Применять **только на обучающую выборку, не на валидацию!**\n",
    "* Некоторые аугментации меняют sample rate и длину аудио.\n",
    "* Можно применять не открывая предварительно аудиофайл [ссылка](https://pytorch.org/audio/stable/sox_effects.html#applying-effects-on-file).\n",
    "\n",
    "\n",
    "Примеры:"
   ]
  },
  {
   "cell_type": "code",
   "execution_count": 81,
   "metadata": {
    "ExecuteTime": {
     "end_time": "2021-03-21T08:34:11.739128Z",
     "start_time": "2021-03-21T08:34:11.722298Z"
    }
   },
   "outputs": [],
   "source": [
    "def augment_audio(audio, sample_rate, effects):\n",
    "    \n",
    "    effects = [effects, ['rate', '8000']]\n",
    "\n",
    "    augmented_audio, sample_rate = torchaudio.sox_effects.apply_effects_tensor(\n",
    "        torch.unsqueeze(audio, 0),\n",
    "        sample_rate=sample_rate,\n",
    "        effects=effects,\n",
    "        channels_first=True)\n",
    "    \n",
    "    return augmented_audio"
   ]
  },
  {
   "cell_type": "code",
   "execution_count": 88,
   "metadata": {
    "ExecuteTime": {
     "end_time": "2021-03-21T08:34:27.027263Z",
     "start_time": "2021-03-21T08:34:26.995944Z"
    }
   },
   "outputs": [
    {
     "data": {
      "text/html": [
       "\n",
       "                <audio  controls=\"controls\" >\n",
       "                    <source src=\"data:audio/wav;base64,UklGRiQyAQBXQVZFZm10IBAAAAABAAEAQB8AAIA+AAACABAAZGF0YQAyAQAAAAAAAAAAAAAAAAAAAAAAAAAAAAAAAAAAAAAAAAAAAAAAAAAAAAAAAAAAAAAAAAAAAAAAAAAAAAAAAAAAAAAAAAAAAAAAAAAAAAAAAAAAAAAAAAAAAAAAAAAAAAAAAAAAAAAAAAAAAAAAAAAAAAAAAAAAAAAAAAAAAAAAAAAAAAAAAAAAAAAAAAAAAAAAAAAAAAAAAAAAAAAAAAAAAAAAAAAAAAAAAAAAAAAAAAAAAAAAAAAAAAAAAAAAAAAAAAAAAAAAAAAAAAAAAAAAAAAAAAAAAAAAAAAAAAAAAAAAAAAAAAAAAAAAAAAAAAAAAAAAAAAAAAAAAAAAAAAAAAAAAAAAAAAAAAAAAAAAAAAAAAAAAAAAAAAAAAAAAAAAAAAAAAAAAAAAAAAAAAAAAAAAAAAAAAAAAAAAAAAAAAAAAAAAAAAAAAAAAAAAAAAAAAAAAAAAAAAAAAAAAAAAAAAAAAAAAAAAAAAAAAAAAAAAAAAAAAAAAAAAAAAAAAEAAAAAAP3/AQAAAAQAAAABAP3/+v8AAAMAAgD+/wAA//8EAAEAAAD///////8DAA0AAAD+//T/9v8HAAUACQAMAAUA9f/y//n/EwAWAPr/BwAjAAMA6f80AP//SQDC/2v/i/+YAD4AgP+a/1MAbQAv/+j/HAGOAIb/GADXAekAOv/o/7IB1wDO/ff+KAFTAAv+L/+iAS4AJP4Z/1cBLgCJ/vf/KgGs/1n+sf/tAZYACP93ADACeABa/rgAngHC/x/+VABdAfP+PP7v/2wBTf/e/Yv/pAF6AFv+jv9wAeMAhv6C/8QBUgFw/s//kAGTAH3++/+6AVYAsv6J/3gAtP+3/gX/ZQBFAL3/0P9JAJgAUQB3ALf/8f/cAL4Az/4M/9EAlwAW/4j/LwH8ABT/Kf8ZAMb/wf7m/uAAcgAW/yL/FwFUAPr+BABHAeIAGgD8/7MAVAAPAJn/mP+0AC4ApP/i/t7/pQAbAHD/cv8qAWQBmv/j/l4AIQHH/8T+aQBBAT0Afv6//3wBy/9h/tD/VgG4/9z+kgDmAGT/FP92APIAr/+4//f/3v99/7j/rQCW/1f/JABMAK/+NP5GAEcAHf9d/6cAYQGt/6X/uAAOAdb/Sv4wANUA2wCn/7X/JQHHAMX/EP/RAK8BY/+U/mAAWAEp/6D+kAGBAYn+Gf7wADUC5v4n/iQBVQJv/8X9bwCYAT7/8f2s/28BKv8C/gAARQJeANv91P94AgsB4/1E/8UBpQAi/4j/4wDPAAsAr/+Y/1IAzQCO/yT/1P9qAHP/Ev8fAF8A1v/g/zQAXQDG//H/9v+o/9D///8cAC4AwABUAHf/fQDZAIb/zP6yAEABbf9F/3MA4gBl/5f/VgCg/2L/QQC/AAgA//44ACsB9P+g/ub/JgHh/0v+LP9QAb0AsP4x/60BZwG+/u3+jAEgAen+1f68ABgByv8r/83/mQH4AF/+JP/bAXMAQf3j/tkBSAAC/rj/qwHRAC//vP/SAGYANv/+/igAwgDu/07/hQA4ARIAcv9yAMsA3v/e/zkAQwAeAAoA1P8cALcA4f9r/6sAMwF9/63+iwBdAVT/Nv6YAEkBo/9d/gcA9AAjAE//p/+HAO//jP+q//r/6v+8//H/v//p/7P/sf/9/yIAwv8DAD4AAADd/wYAyf+x/yoA6/9i/9L/jgAmAHX/3P9OACcAef/t/2oA3f+c/zcAjwC3/7H/CgBTANj/lP9fAIQAFAB2/0MAFAFlAFD/8f+1ABkAVv/+/7EASwD4/w0A7//2/20A9P9L/9f/kAAgAJX/+P/f/+L/QwAkADH/BgDcAF8AT//o/8oAQQCN/xAAngA3AMz/2f+IAHoAhP+W/7wAnwAJ/yf/uQCbAFj/jv8SAM//4//J/8r/LQCGAL7/s/9OACYAof8qAMoAxP9O/xUAjwD+/+n/+v/u/0EA6v86/7X/CQErANf+PwAaATL/1/7YAMoAC/9G/3oAZAAAANX/dP9SAPsACQAH//P/8wAGAPn+v/+PAOj/FP+O/3MA//8A/yX/fQBZADP/FP+gAMAAh/+U/+EA6wDR/4v/TACnABIAmf8SAL8AEwCR/xcAowDJ/zz/+f9ZAMb/dP8LAH4AnQA1AM//9v+uAK8Akf98/1UAIwCy/8n/cgBMADUA5P/q//P/OwAOAAQAVQAVAGP/SP9GAKgAgv8p/x0ATACq/8j/RwAfAO3/VAAsANL/8v83AAcANgBGAAsAPAA7AO//DgBMANn/v/+vAHIA0v86AFgAeP+p/6EAAQAG/6D/SgAKAKH/zP8jADAAOACv/wAAggBeABr/Vf98ACUAIv+f/3AASQAc/1z/+v94AKL/r/8GADoAHADu/4X/wf81AD0A0/+2/9P/WQBIANT/9/81ANj/f//q/xwAwP+2//3/5f/R/08AcwC+//X/VwAxAMb/MwANAOn/QABbALj/mv/g/+H/PQBrAJL/Sv8DAGMAe/+D/2EAqgBSADgANQDY//3/HgC+/x4ApQDw/4H/fwBcAHT/5f+jAAEA1P8jACEAxv/H/+z/CgA7AFEAQgBAADYAPADz/yoAIAASAJkAwAA2AJ3/QwArAM//tv++/93/tP8yAKj/O/8dAGcAbgCo/z4ADwDn//D/vP8dAF8AYADf/8z/XQC3/37/xP9rAKr/V/8yAFYA3P+0/+T/NwBiABQAbv8EAFgAmf9h/yYAJACk/+b/LgAEACAAuf8a//j//gAuADz/UgChAMb/l/8cAEwACwDf/wAABABrANP/RP///7cAzP8e/zsANwBr/57/CwDJ/xYARQBv/6b/nwAJAE//qf+4ADIAdv++/8n/t/8ZACQAav8TAAMB6//4/tr/RACI//r/RAD4/1YA2AAnAI7/3f9nAO7/8/9ZANf/vP/3/0IACwC3/zIASAA9AOT/yP8YANT/sv+///P/TwA0APb/7P8HALb/gf8SAHYA/f/D/0EAkwDh/37/0/8LAEQALwCm/9f/jABsAKv/PQCuAAAAu/8zAIgAHQDi/zgAwQCnAMb/zP9IALAA2P9D/0cABgEzAA//8v/7AIAAh/+r/4sAhACG/4H/HwBsAAAAgP/W/wMBkwAD/5X/ZACQ/9H+pv85AC8ADQCi/9z/UQB2/93+9v9LANP/bf8kAGwA+f+H/73/tgA3AG7/b/9OAHEAQP9w/2AAaQDL/7z/EgD4/9n/UP+j/44AIACZ/0MAMwExANr+kP/rAP8AaP8U/+AADgEOAGj/9P8nAcAAPP9G/wQBBwFm/1T/dAAVATkAov8HAFQAv/+M/7X/4P8bAP7/tv8JAGIAkv++/7oAYgDR/00AnQDp/2H/UP/V/ywAnP8h/3T/OQAsADD/C/8IADIAsf/s/40ABQAxAEQAp//f/6YAHgCi/50AjQC7/5H/4P9aACIAp/99/2IAgACp/5j/JwCAAAMAS/9qAPEABwCV/zYApQAuAL//of9uALYAr//m/iQA5ADP//3+KQAbAR4AXP8mACEAgP+C/2//1v9uAPn/Vv8BAIUAwv92/3v/gv+k/+v/2v8EACwAPQBUAID/of/fAKkAy//6/8sA3QBdAAAA+f/SANkA+P9m/1wACgFrAD3/e/+aAC4Ay//5/8r/awBgAHj/X/9UAIAAzP8JADcA6v88AEQAuv+k/+L/CAALAPj/4v+V/+n/QgCx/4r/7P/s/wQAPwBAAIH/hf8QAP3/7P/7/9T/7v8UACMA6v8xAOH/uP8aABkABQADAAIAnf8FAHUAAgCk/wAAawByAMX/av/p/2YAFgBj/6//1gC6AFr/Qf+5AJ4Ar/9C/4z/lwCLAEv/A/8uAJkAy/9h/67/dQAzAJv/KADqANH/GP/i/7oAzwC+/0P/gAAUAbz/w/4nAAwBfAB9/+//GwFlAA//wf93ACAAp/9+/7f/YgDb/03/zv9XAOj/kv9fAD4AkP+d/yMA7f+M/27/EAA9ANj/nv+e/x0AowDq/yf/DQA4AV8AIP/f//4AiADB/+z/bwB3ABQAY/97/3kAfABj/zH/kwBwAKn/sv9LAGQAIgCp/8f/lgCDAIP/M/+DAAwBs/8M/2YA6ADa/47/3f9DAOQADAAW/8f/8QBzAKz/BACIAD4Ah/91//3/PgC8/1T/2P9sAPz/Of8PAAwBIgCE/wIAogASABP/aP+JAIEAtf+D//v/4wBcAGv/qf+BAIIA8//S/wQAawDy/83/GwAgACEA8P/Z/8j/y/+q/6H/JgD9/8r/CAA5AGUAUwDq/zwARwC4/8b/+P/P/97/FQDU/8j/QAD9/8j/SgBzAAcAW//n/3oAxf+l//T/QAASAAIAvv9a/14AmQBd/2H/MwAdAIX/l/8ZAB8A4f/1/8r/s/8uAOj/hf/0/5YAo/+h/8gAQgBz/ywAqQDn/1v/AQAPAMr/3f+5/6X/IABqACIAs/8jANoARwC0/xwAWABUABcAMQAAAA0ASADf/7v///9rAAoA+f9jAAkAxf+3/7n/3v8DADsAzv/X/yQAuf+Z/wUAJADs/ykA1/8CAA0AJADz/+f/8v8FAFYAHQDq/wQAKgCoAKP/fP9dAGoA9//J/2oACwD0/wMAzf8hAGMA0f/D/xcANAAVAAAA2//y/yQA+/+4/wMAagBjAMj/rv9aAIQAw/+p/93/UQBgAN3/xf9uAGkAc/99/18AXADl/4r/7v8OAA8AJQDN/8v/WgBNAGD/av9qADkAsf/2//n/EABNAFAA6P8EAEwAUgDf/8j/DAAgAO//uf/x/zEA3/9D/4L/TADk/43/CQBjAC0A9f/P/7X/CQAeAGr/j/8+AFMAz/+G//3/KwDy/5L/RAB4AP7/+v8sAB0Ayv+i/5f/s/8ZAAsAjv+2/1QA+v+F/6j/QAAmAAoABwDp/+P/XgAjAOH/6v8/AE0AIwAKAAcAdQANAPz/OQBFABAAEQA6AOD/0P84ABoAAwAmAEwAcQA/AA0A7f///zAANgDf/9T/MAA/APL/kv/r/0MAMgDV/8L/MgAGAMb/pf/H/xwARAAXAOf//P/0/9v/wv+6/+L/QgANANX/z/8IAOn/yf/P/+X/RgAyAPD/+f8aAAcAEwD4/ycAOABCADcAMABJABQABAASABwA//8LAAAAEgD9/w0A5v+h/9v/WAAmAMj/u//u/yQAJgDY/wcA9/89ACMA4P+w/+z/8//F/5f/rf/6/zAA1P94/ykAAQCr/9X/LQASACoAMgAMAPf/HAAzAM3/5f/n/wgAtP/e//z/GQA+ACgA9//M/z8AaACn/27/9P9xAA4Apf+m/yMAWAD+/17/ev9FAHkA4P+1/wEALgD6/+f/vP+O/wkAJwD//7P/+/8aAAcApP+t/8f/OwB5AOP/cf+9/z4ALgDu/+v/+v9DAFgACACv/w8AeABBAMf/GwA1ADQADgAjAGgALQALACwAnQCMAEEA0/86AIEASgDi/wYAPwArANr/wv9AAF8AGgDA/7X/1v/W/8f/8P8EAKb/gv/c/xkAsP91/+T/MwD7/9f/4f9LAGAACgCA/6L/fgA0AI3/Wv/8//3/vP+q/8X/JgBuAA8AY//e/8gAmQCA/1j/7f+PACwAl/9x/xIAmAAdAKP/y/91AGIA6//Z/zIAYAANAIX/8v+RAGoA4//K/1EAhQBTANL/wf97AG8Ax/+r/zcAXgDX/3//EgB9ADEAw/+C/xkAmAAyAIf/xv9zAB8Ahv9p/8z/HwD0/9X/6v8OACAAyv+n////DADD/5b/1P/z/6z/eP+l/ycASQCn/0X/k/9CADEAbP9e/yIAhQDe/4j/JwBuABMAa/+x/1QAoQA9AKn/1//MAKwA6/+k/3UAvwAeAK7/vP8cAKwAoQD3/7P/cQCxAOj/nf/+/0AA0f+z/9b/JgA3AAUAqP/c/3EAcADm/6j/GwAPALf/z/8OAPz///8LAOz/GABIAAAAn/+w/xcAFwCf/6//SQBgAAYAkf/A/zYAbQDD/2j/FAC3ACkARP+H/5gAeQCd/7n/WwClADgAhf9s/2QA9QAEAI3/HAB6AEEAEQAVAPn/EwAmAAUA5P/r/woADwAjACgAFwATAAAA8v/X/+v/CADe/4D/6v8/AEEA6P/J/xwAEwD4/77/pP/6/zgAAADR//P/DQDN/9D/AAArADEA5/99/6j/CwAEAJn/pf8JADgA4f/A/wwAMgD9/8//wf8nAH0AJQDG/wAAXwAVAIj/wv8kAB0A6//l//7/AAAiADIACAAJACgAFAD0/xcA///v/yAAJQDv/+r/LwBqACUAAQD//wgAJAAnAOz//f9RAFsA+v/n/yMABADm/+z//P8AAN//yf/0/0AAIADx/9n/AAAAALz/nv/i/woA6f+f/8v/HQAdANn/2/8HAB8A8//D/4j/z/81AAkAzf/5/1QAEQD+/wEAEwD8/+7/CwAgAP//9//k/+3/AwACADgAbwAzANn/yf8PAAgA4v8RAC8AHgD1/+D/RwBEAAsAzv8NAEoANQDS/8j/NgB2AAgA8P8MABoA5v/L//7/FgD7/+j/zv8PABsAAQDv//r/AgDh/8D/AgDy/wwAAwArAA0A4f/f/xcA5v/V/9P/DAA6ABcAEQDV/wwAOwDD/6X/EwBVABAAzP/5/2EAXADj/+n/HgABAMX/mv/K/0MAJADQ//n/QQApAMf/pf/X/0oAKACt/9D/XABTANr/pv/8/1oAGACa/63/5f8KAPH/7f/8/zkAFQDk/8H/xv/Y/+j/8f/s/+z/9f/0/+3/xv/v/z4AIAAGABYAHQAjAPv/7f8pAGIAJADP/wYARwBYAFgADQAfAEMAOQDo/+X/IwBhADMABwAfAEYAFAD6/wEAHQAJABEA/v/2//f/1P/g/wMANQD+/8n/9/8KALr/pv/S/wIAAQDa/7D/qf8IACEA5f/z/+z/0/8CAA8Awf96/8b/LwAgAKL/1f/5/wcA8/+a/23/8f9QAPH/jf/H/10AVgDl/8j/OQCUAFUA//8JAC0AXAAQAP7/GQABAPX/DgAdAAAA7P/6/wIAFQAdAAAACQAhACkAGgAIAEsAZgDw/7n/IABsAF4ACQD6/yIALgAHAO3/6P8TAC8AEwDE/77/+P8JAAYA8f/t/yIASAAEALr/wP8BAP///P/6/+D/3/8BAOT/yP/J/xAA8/+//wgARwAVAM7/5f9AADsAGQDZ/8j/IwBnACUA4v/U/xsAKADS/7P/2P8wAE4AGgDx/xcAKwDz/+//JAAtAP3/HwBLACoA8f8XAC0A/v/9/xMA/P/p/8f/xP/y/ycAHADl/6z/AABIAPf/m//D/wwAHwDx/+//HgAtABoA2//R/xMAJAC+/7n/FgBrAPz/sf/d/yIALwAnAOX/3f8gABYA6v/4/xMAEAD+/wYA8f/a/wAAEADA/5j/AAA2AO7/r//z/yUADQDR/8n/+/8IAOH/5P8qAFMAOAD7/xEALwAFAP3/7//b//7/1f/P/w0AMgAPAOb/8/8qACwA///Y/wQATgAxAMv/6P8xAEQA/v/r/zcAYgBEANf/nf8PAEkAEwDJ/+z/IgBMAOj/pv8AACYA7v/N/+P/TwCCAOv/wf8tAGQAFwCm/5j/FwCFANv/V/+4/5cAWACx/2//9P9DAP7/ev+J/y8AfADi/6P/TACYACIAy/8HAAkACgDY/5f/wf8cANz/P/9d/zIALQCS/7//LAArABYAIADP/wEAXQA5AOj/NgA/ALf/v/9PAFUA8P/m/xYA/f8kAPf/iP+3/3QAQgCR/9r/XwB+ACYA3//y/yIAMgAiAOj/+P9SAG8AEQDa/+b/GAAtAOv/tP/e/yUA9f+8/5//5v8hABMA0//W/xEACQDh/9n/CABGAAIAqv/V/xYABQDM/8D/CgBHAAYAkP/a/1EALwD4/wAALAAnAAIAzf8EAE0AJQDD/+z/sgC0AOv/o/8XAGoAGgCc/5b/KwBzAOr/Vf8EALMALgBy/5r/PwBfAP3/pf/p/6wAwgDy/6P/SgCOANH/i//N/yAAQADp/1n/nP9kAB8AYP+a/zAAKQDU/+7/OQA5AEQAHADm//z/FADu/7X/0v8cAAwA+f8AAA0A5P/q/w8ACgAFAPj/2P/r//3/2P+x////NAAOAOj/DwASAPP/HwDr/6X/AwB3ABoAxf/3/0IALADw/9T/6f93AKcA9v9q/yEAoQAFAIn/3/8vACQA4P+O/9v/eAA/AKj/ov9DAE0AqP9c//n/UAAmAOb/CwA1ADoAyv8+/7D/XABFAMn/9f9CAE8A7f+D/4z/DQBRAAEAnf/h/3wAGgBx/9L/VgBXABUA+//k/10AZQD1/6//SQCEAAcA3P8pACIA9v/S/8f/EAA0AOb/xf8AADsAJQD1/9L/+f8aAO3/1f8PACkA6/+g//f/KADy/+L/0P++/wIAJACv/9P/fQBgAKn/pP8ZADUAzP/B/xMAZwBUANj/s/8qAG4AHQCn/wgAbQAsAI7/tv8YABIA4f/u/wAASABHANH/g//g/ywABADB/xIAUwAGAMn/3P/3/ycAJwAVAAEAPQBKAOj/2/9TAEgAzv8CADcA8P+1/wwA6P+0/9b/FQD9/93/1P/k/wAACgDu/5f/5/8xAPn/9f8pABgA0/+0/83/8f8LAAcA4f8PADYAAwDO/0YAcAAHAML/BgAwAA0Au//D//H/MQABAIL/2v93ADcAv/+Y//X/WwA0AM3/FwCVAEQAvf+1/xoAOQASAM7/8P80ADIAz/+x/xsAVADo/7r/9v82AOz/xP/i/yEAXAAyAJP/ov8IAAIAtv/+/y8AHgAcAB0A9v8DAB8ACADs/x0AOQAQANX/EQAmAOL/5P8dABsADAAfAPj/wP/p/xEAzf/P/ysAJQDj/+r/yv/G/wEA9v/d/xkAcABgAAgACAA6ABAA1/8DAC4ANAAcAPj/yf/1/xoA1f+k/wAAIgDc/7T//f8jAPv/wf/X/1IAXAASAMj/0v8vACcA4//i/0sAXgASAPz/IQAhAAsA0//Y/z8AUwDm/9X/FwAlAOn/yf/N/+//FAD0/7P/s/8JAAcAwv/B//X/FwDo/9D/EgA0ABUAEgAVAPz/6/8ZAPr/7v8sAEsALgAWABsABQD+/wsACAADAPX/6v/U/7//w//4/yMAIgAfAAoAAAD3/8v/+v8RAOX/FgBiAEIABwDo/9f/9P8gAAoA+v/y/xMAJAAFAN//xv/X//z/CADh/8H/rP+X/7b/+//u/6L/7f82AOf/oP/R/9f/q//u/xcA/f8BADYANgDy/wEAKgAjACoALQAdACgAKAAzAA8ADQBRAE8AAQAFAEwALQAMABAAKgBSACMA5//n/z8AWQACAM7/IAA7APn/AwANAP3/BAD//+j/CQAqAAUA6v/p/xcA//+v/73/AAAaAOv/xP/M/9//2v/m/+D/7P/v/+j/9P/0//3/EQAhAB8AQQBCABYAJwBRADYACAAAAPD/7P8IAAIAz//Q/w8ACwDp/9v/8f8WABYA8//k//3/CQAIACQAKwApADEANwAWAAIAJgBFAC4ADQAKABQA1P/C/97/8//2/9b/0v/6/xAA4P/L/wEAGADS/5T/5f88ADMACADz/wYAJAAkAPL/3P8HABcA7v/o/w0AIADu/+v/EgAQAAYA5/8NACUA1//Z/wkA6f/Z//b//P8DAAQA0//X/w4ABQC4/7//+f8gABAA7//4/yUAHQAFAAAADQApACgAAAAAABsAAADe/9v/CQASAOv/6v8GACAAFwDu/9T/CgASALf/rf/W/+n/6//g/7v/4/8vAP3///8aAPf//f8WAPX/3v8GAA4AHQ"
      ],
      "text/plain": [
       "<IPython.lib.display.Audio object>"
      ]
     },
     "execution_count": 88,
     "metadata": {},
     "output_type": "execute_result"
    },
    {
     "data": {
      "text/html": [
       "<b>limit_output extension: Maximum message size of 10000 exceeded with 104740 characters</b>"
      ]
     },
     "metadata": {},
     "output_type": "display_data"
    }
   ],
   "source": [
    "sample_rate = 8000\n",
    "audio, audio_len = open_audio('test_files/test_audio.mp3', sample_rate)\n",
    "Audio(data=audio.numpy(), rate=sample_rate)"
   ]
  },
  {
   "cell_type": "code",
   "execution_count": 83,
   "metadata": {
    "ExecuteTime": {
     "end_time": "2021-03-21T08:34:14.607281Z",
     "start_time": "2021-03-21T08:34:14.588493Z"
    }
   },
   "outputs": [
    {
     "data": {
      "text/html": [
       "\n",
       "                <audio  controls=\"controls\" >\n",
       "                    <source src=\"data:audio/wav;base64,UklGRiQyAQBXQVZFZm10IBAAAAABAAEAQB8AAIA+AAACABAAZGF0YQAyAQAAAAAAAAAAAAAAAAAAAAAAAAAAAAAAAAAAAAAAAAAAAAAAAAAAAAAAAAAAAAAAAAAAAAAAAAAAAAAAAAAAAAAAAAAAAAAAAAAAAAAAAAAAAAAAAAAAAAAAAAAAAAAAAAAAAAAAAAAAAAAAAAAAAAAAAAAAAAAAAAAAAAAAAAAAAAAAAAAAAAAAAAAAAAAAAAAAAAAAAAAAAAAAAAAAAAAAAAAAAAAAAAAAAAAAAAAAAAAAAAAAAAAAAAAAAAAAAAAAAAAAAAAAAAAAAAAAAAAAAAAAAAAAAAAAAAAAAAAAAAAAAAAAAAAAAAAAAAAAAAAAAAAAAAAAAAAAAAAAAAAAAAAAAAAAAAAAAAAAAAAAAAAAAAAAAAAAAAAAAAAAAAAAAAAAAAAAAAAAAAAAAAAAAAAAAAAAAAAAAAAAAAAAAAAAAAAAAAAAAAAAAAAAAAAAAAAAAAAAAAAAAAAAAAAAAAAAAAAAAAABAAAAAAAAAAAAAAD//wAAAAAAAAIA/f8BAPr/BwD6/wsA9v8KAPP/AQAAAAQAAAD8/wIA/P8JAPr/BAD8/wEA/f8HAAwA8/8HAOn/BQAIAAAADAAHAAAA7//8//3/IQADAPH/GAAfAOb/8v9cAK3/qwAT/+n/hP9UATn/0/+o/9AA7//I/vUA5QDo/0X/zAAMAmX/Kf+pAPsBYP8f/SEBBAF3/3/9HQGvAaj+Sv5cANkBlv7s/g8B4wCc/rr+2QA2Asj+af9SARQCqf6J/n8CSwAb/wH+YgIWACP+Ef/3AFcBrP3S/qcA+gHc/mP+6AB8AeD/xv1HAa4BSQA//SQCqgAGAKv9DgLxAG7/ev7AADIAUv+2/tH/6ACf/9z/4/+KAGQACwCVAAv/tAC5AFsA2P2AAP0A8f+a/pEAYQEkAFv+OAAkAIr/lv67/7IBLv83/4X/IQKi/n7/nQBiAfr/AAD1/w4Bif9hABz/KwD5AGH/7P+B/iwBDwD8/y3/8P/aAWAA3P5W/0MBmgD+/gb/lwGGALT//P15ARQBlP7G/vsAOwFi/qP/VQEtAM3+s/8WAXMAAv9qALD/DgA9/0YA0wCh/iwANAA/ANX9Tv9KAV3/Jf/o/yYB/gB+/rMAlAD0ANL+c/7NAcv/PwFd/uUACQEdAGz/If8LArgAOf5q/0YB5wDR/df/rALV/7X9R/9LAkMB//zW/ycChQGM/cH+BwKuAA/+pv72AGkBav1A//cAkAIg/j/+gwF2AiX/YP1bAa4BTv8m/yMARwEGAOT/n//D/7sAiwDH/sf/FgCTAK3+xv+KABsAm/8nADQAVABX/3cAmP/S//D/FAAaACoA7QCg/3L/PgEuAAD/Hf/uATQAw/4AAMsAlgB+/q4ADABa/63/vgB2AIz/4f5hAZkAPv+X/jQBxAAC/07+bQC+AXz/WP5ZAFUC7P/1/UAARgKX/4P+qf+QAT8ASv9g/1kAGQJ+/9X9ugBPAoX+Df0uAQECg/4x/l4BbwHE/9T+rAC7ANz/4/6M/8cAegBh/3v/SwGtAFn/r/8BAUsAbP9HACQAOwDx/xQArv9yAK4AKf/S/zoBqwCB/lL/kwGqAD3+4f4UAikAGP9i/psBJgDn/wr/XgCNAF//1v+5/z4AsP/f/xAAl/88AGb/EgD8/zYAdf97APz/+f/S/zQAhv/1/1YAlv9v/0oAnwCi/3f/TwA7AP7/Nv+ZACkAmf/F/5EAVQA4/zQA9/9+AFT/7/+tACgA5f9I/wsBtgDS/xD/xQBzAKn/R/+sAH8A6v/3/xwAzv8aAIwAbv9s/1kAlgCg/6n/SwCX/ysARgDz/9b+FgFpAA4A4P7dAIEA1f9t/58AaADi/8D/AwDMAPv/N/8YABMB8P+F/hcAJgHc/wn/OAAGAK//HACg/wUASQCCACL/RwBKAO//fP+2AJIAEP/B/3MAdACH/zsAzf8NAFkAjv89/1AAUwEH/wf/VgGHADT+2v+SAcf/oP4uALIA8v/5/8f/aP8IAZIAbf8F/98AuQBM/wv/kABvAGv/H/80AJYAdf/3/r//FAGW/xX/hf93Adn/SP8IAFYBIwBz/8z/rwBeALP/ov94ALcAa//N/18AnwAW/6L/ZAA3AHD/r/9qAGMAgADO/9X/GwDqACkAHf8EAJIAs//D/+//vwDG/2wAeP9NALX/kwCZ/1MAPADh/y//tP/FAE8A6f62/44A/P92/ykAUwDf//f/hgDK/97/DQBJAMj/eQD//wQAUgAKANT/OwA+AIn/BQAIAbr/3f94ABgAF/9OAMAAUP8b/1QAPQDS/5f/FgAsABwAMwBX/5IATgA0AHb+YwCLALT/8P5vAGAACQCe/k0A3P/MAML+kACr/5YAq/8gADf/VgAYAD0Ag//9/9D/sADQ/9b/GwA7AI7/pP8/AP3/n//s/xkAxf/v/4sALQBm/3IAKQAXAI//rQCE/zoANQBPAEj/BgDg//L/agA+ABv/vf9cAEkA8v4yAH8AgwDy/0wABwC1/zwAAACb/4cAgwBj/8P/AQGp/2X/awCgAGf/NAATABkAkf8NAOT/KAA1AEEAHQA5ABcAOwCz/3wAyP8/AKsAdgDP/4v/0ACT/wMAm//9/93/tP+TAAX/tP+LACUAbwAV/yABLf95AJD/9/8/AFUAOACR/xAAhgAc/wAAwv/XAMj+CgBiACgAm//m//r/WwA9ANv/RP+zAPf/YP+n/5sAtv+r/ywAJgDh/0YAXP8+/7UA6QBg/1X/IQH9/4//yf9oABkA7//b/yMA6/+sACT/oP9tALcAA/+E/+EAmP9r/wAAIwCT/38AAAAg/0QAxQBY/37/BwAXAU//tf/1/8X/zv9ZAOz/Lv/cAMwAEf87/5MA+v9I/5sA7//0/4kAwAB8/7n/GQCJAGj/ZQA3AIf/AQD//2MAuP/M/38A/v9OAI//CQAmAJ3/4//I/yUAWAD5/+z/9f8XAID/uP9qAFYAov/w/3gAbQBi/8P/BgAVAFAA+v95/zwApgACAGz/3ABIAKf/4f9wAGcAwv///1kAygAyAGT/OABJALoAE/+s/84A0AB4/wD/3wDEAPP/Qv8tALgAGAAi/wkAPwBmAJ7/kf8xAFwBmf/C/okAPgAa/w7/cQANAC4A5/+J/zkAUQDo/kv/tADl/8T/Yv/MAPr/5f9m/ysA9gBw/4//oP/ZAO//3/4xAIMAIgCD/wYAIwDW/+n/Gf9NAKYAk/+3/64AKwEn//H+ZQAdAWkAn/7W/5QBJgDD/1D/kwA+Aer/zv4DAJwBDwDh/gAAywDhAHD/2v87AEsAVv/m/77/EgAfAN//rv9cAEcAFv9oAMwAz//P/58AWwB6/4X/fv9IABEAWP9R/+b/gwDR/+3+mP+NANz/nv88AKIAb/+2AM7/mP8xANMAav/l/wwB4v+X/73/GwB1AMf/o/+a//cA6v95/+L/ZQBlAJ7/Q/9QAUgApf+o/6gAZQDV/7r/uf/pAEEANP8S/yMBZAA+/yb/FwG9AGP/g/+4AJv/jP+7/3v/RQBzAIf/aP+YAE0AUf/K/4P/w//C/yEAs/9KAAYASwA1AA3/SQAfAe7/n/9MAO4AYwAPAOL/DAArAS0Apv9n/xoBmQDz/9n+RgDEAI//AAAAALP/4wDK/1L/tv/UAAcAlf9pAP7/1/98APj/k//c/wIAEAACAPD/4v+B/1UAJABk/9z/FQDW/yoAOwAkAB7/FAAhAN///f/+/8P/HQALACYAu/+BAGb/EwAmAAIAAAADAAAAb/+LAD4Avv+t/1AAXgBJAFv/sf84AG4Auf9P/zEAIgEGAOX+5P9IAcf/l/9L/wYA7QD4/+P+jv/OADgAav+X//j/wACh/63/jwDeAOL+lP9UANQAZwAp/5//KwGSAPf+C/80AZIAEQAb/7AAGQGF/+z+pgA5AOz/iP+x/+3/rAAy/6L/IQBvAHf/zv/GALD/jv/e/2AAkv+w/4D/mADh/9L/nf/R/2MAnABI/1b/wAAwAWX/Hv+pAPUA2f+o/zIAgAA1AN3/Mv/7/88A/v8F/7L/OwGV/73/0/+fAAkAFgBp/zEAwAANACX/lv85AXwA+/50/zABUwBb/+H//P9tAOoAMf9I/2cAGwGf/7n/TgCJANf/Y//F/0QAJgBz/4D/SQBtAJH/Nf/aANsAVv/H/0cAtQBw/xL/BwDgAPb/gf+7/0UAFwGE/3X/CQDGAAwAyf/q/yAAggBz/yQAFQAZABcAz//x/8L/7v+b/9T/awCh//v/GwA8AFkAIQC1/5YA6v+a/wgA+f/A/wkAHgCj//7/agCc//z/ewA6AMj/Of+UAEUAXf8DAP7/YQDE/y4Ae/+C/wsBAAD1/gUAZQDU/2j/8/9DAPb/1f8WAKP/4v9qAIL/s/9BAKsA1/5rAOQAi/+A/78AWgB1/4D/hQCx/+z/6P+z/8X/bwA/AO3/mf+RAMcApf/K/2IALwBFAN3/XgCu/1IAJwCj/+n/HACGAJP/RwBaALb/4f+4/97/9v8UAEYAdf84ABEAhP/Y/zsABgDW/2EAcf96ALb/awCT/zAAy/8zAFQA2f/5/xAAMQDGAL/+RwBrADYAtf/s/7UAcf9ZAMT/4/9SAEsAbv8gABUANwDr/wwAwf8jAB0A2/+0/00AXwAzAHT/AACTAD0AXv8JANf/nQADALf/6v++APL/Kf8CAKIA+P/O/4D/XgDR/zkABwCo/wAAjgDx/xT/+v+9AK7/wf8xANH/PgA9ADYApP9SAC4ARQCK/w8AEgAeAMr/xf8kAC4Ao/88/wMAhgBh/9n/QgBcAOj/+f/A/87/QwD3/yf/HwBYACgAiP+0/00ABADf/3v/3wD3/+z/BgA8APT/tf+8/67/5P9KANT/ev8RAHwAh/+s/9n/jQC//zoA3f/4/+H/qACh/xUA1v+BAAEAIwDu/xYAmACH/1QAEwBLANL/OgAkAKn/AgBaANb/IQAdAFAAVwADAAQA3v8bADIAHwCt/wYASgAaAMv/jf9PACkAGwCi//b/XQC3/+L/nv8KAC0AOwDn/+v/DwDk/+L/xP/U/wMAZAC6//T/y/8/AKz/9P/N/wkAZQDu/+3/CAAhAOz/KwDP/2EAAABWAAEAOgA0AOj/FQAJAB4A4f8pAN3/NgDO/zsAqv+9/w8AewDI/9L/yv8cACIAFgCs/1QAsP+YALP/BQCN/0sAtv/m/4f/+P8NAD4Ahv+h/58AgP/m/+b/XgDK/2QA9f8QAOP/QgARAJ7/LQC+/0QAW/9bALr/XAAPACIA0f/a/4QAJQBN/8b/NwB9AJ//xP+9/3kAHADW/zX/+v+FAD0Aiv/0/xsALQDL/wUAnf+0/14A7/8DAI3/XwDf/x8AYf8TAK7/oQAoAJ7/gf8bAFIA+P/j//v/AABkACcA3v+j/24AVwAEAJ3/fwDn/1UAyv9bAEsA9f8QADIAtgAhACkAkv+yACcANQCd/1sAFAAjAKb/9P9zACQA+P+k/+f/5v/g/87/GQD3/4P/uv8aABgAdP+y/y4ALQDM/+3/6v+GABYA6/9U/xMAuwCl/5X/eP+BAJj/7v+e/wUAPwBoALH/Vv9vANQAFQAW/9j/IwC5AJf/r/+D/5YAZgC+/6b/CgCtAPT/2P/q/2IANwDX/2r/dgB7ACAAp//7/4UATAAlAJD/AgC+APj/nv/b/34AHQCb/5r/gwBNAPT/p/+Z/40AbADZ/2X/OQCHALD/hv+a/x8AIADP/+n/+v8eABUAmv/Y/y4A7/+y/67/FADm/53/l//o/10AGgBc/4D/6P+IANP/Qf/D/4EAVwBx/8X/fgA3ANz/P/89AFoAlQDI/6H/HgAaAfv/xP+t//0APQDY/6H/9v8/AMQAMgCs/9L/1wBHAIT/1P8yADcAg//6/9f/YAAAAP7/gf8+AH0ALQCh/87/XwDJ/73/+v8kANz/GgD8/+T/PAA2AMn/nv/r/0IA6/9+/wAAegAfAN//d/8hAEEAYgBG/77/bgCyAJD/PP8KAO0A3v9y/xkAfgB9ANL/Zv+3/+cAoABc/9b/YABjAPz/EAAOAOb/MgAMAPf/3v8BABIABgArABIACwAPAPH/+P/O/w8ABADI/3j/YQAVAEIAnf8BADMA8P/9/6T/zv8vAC8A0P/h/w4ACwCp/wUABAA7ABEAxP91/wQAHgDt/3j/+f8kADMAoP/z/ygAKADS/9z/yv9vAFkA2f/C/zoAXgDE/3v/IwAmAAcA1f/+/wMA/v8zABoA7/8ZACQA+//v/zIA0/8KACsADgDV/wQARQBcANv/FgDt/xwAHQAbAMf/KgBWADIAvv8PAC0A3f/0//H/CQD7/9X/2P8XAE4A5v/4/9D/LQDc/7n/tv8fAP7/3f+S/xoAIQAKALr/BgANACEAzP/S/4D/MgAvAOD/zf8mAF8Awf8qAOP/MwDP/wsACwAkANz/DwDN/xEA/P8GAEwAWwDw/8n/4v84AN//7P8uAB0ADADh/+z/fQD1/wwArP9eACEAJQCV/wkAUwBhAKv/JwD4/yoAtP/y/xIAEgDm//L/yP9LAOz/DADe/xQA9f/c/8X/PgC7/0oAy/9oALv/BADS/0wAm/8TALj/UgATAAcADwCx/1gAEACP/97/SQBAANb/0f8kAHMAGgCw/yEAFwDr/7r/rf8FAGkA1//T/yEARwD6/6r/yf8AAHMA1P+h/xIAgQAEALX/vv8+AFUA0f+K//X/8v8fAM//DAD0/14Ay//7/67/+P/Y/wIA7f/1//D/AADy//P/uv8nAEAA8v8OABMAFwAbAN3/AAA/AFYA4P/K/zwANwBIADcA2f9KACMAKgCx/xkAJgBpAOj/FAAdAEkA2P8SAPb/MgDi/y4A1f8SAOf/1f/6/w8AQQDA/+L/FAABAJf/2//r/x0A6//Y/7H/zf9FAPr/1/8QANn/4f8kAPr/pv+P/xwAOwD5/3b/PQDP/zIAxP+c/4r/YAAtALj/k/8WAIIABwDC/+P/dABzAAcA6P8hACcAXgC9/y0AAgD8//P/IAAOAO//8P8HAP//HwAOAPH/GAAbAB8ABgACAGoANACt/9z/WQBTADUA0/8XACEAIgDo//b/6f8yABoAAACl//H/DAAFAAMA5v/7/zoANQDP/8D/4/8lAOD/EQDq/+T/7P8XAMT/4v/S/0YAtP/f/zIAPwDh/8z/CQBbAAMAFgCx//P/SABYAN7/5//Z/04A+v+6/8//+/9TACgA+P/r/zUAEADX/wgAMQAVAOL/RQAyAAcA3P9AAAwA6v8MABMA5//z/7z/6P8IADUA+f/Y/6r/UQAqAMT/nf8HABgAGQDR/w4AIwAgAAQAwf/0/y8ADACO//3/MQBxAI//5f/x/0QACQApALH/DwApAPr/4P8RABAACADz/xUA2f/q/xgABACc/8L/RAAaAMb/u/8xABMA/v+6/+//EAAAANH/AQBDADwAEgDe/zQAGADs/wgA4f/m/xcAsP///x8ALwDp/+n/AwA+AAgA7//U/zAATAD+/6v/JwAuADYAxv8NAEkASwAWAKb/vf9eAB8A9/+z/ygAFgBXAIv/2/8tABUAzv/g//j/fwBMAI3/AABOAE0A0/+b/8j/YQBzAFf/lP8KAOIAtv+0/3f/cwAMAOb/Uf/z/2YAXAB1/+n/kwBdAMz/0/84AOH/JQCm/7X/8v9AAJX/Qf/M/5IAyf+C/xcAOgAJABAAHgCa/1kAQwANAMf/gADw/5b/AQB+AAsAzv8DACMA3P9RAK3/k/8AALcAvv+E/z0AZABYAN3/5P8GAC8AHQARAMn/IwBfAEkAy//u/+//NgATAMn/wP8NADMAwf/Q/6T/MwAOAAoAsv8HABwA9P/a/+r/JABIAL//tP8MAB8A6//E/9v/OAA6AND/gf8/AEwA+v/w/w0ANgAGAPb/vf9EADoA+/+j/zUA3gA5AJL/0v9ZAFEA0/+M/9P/dgBEAJT/X/+kAIYAu/9d/wQAbAAqAMj/qP80ANcAVACE/9v/mgBJAGf/1f/u/0gAIAC4/0n/GwCQAKz/Uv8QAE0A+P+//x8APwAYAEUA5v/o/xAAEQDU/7n/AQAxAOf/BQD//xUAxP8UAAoABAADAPH/0/8LAPj/zf+8/0IAGQD3/+H/MwDx//X/OQCv/77/SQB1ALX/4P8WAFEA9v/p/9b/BwCsAFcAjf+A/7AAXACi/5r/NgAiABEAvf+U/zIAkADW/5T/3P+QAPX/ef+K/28AIAAPAMf/QgAYADcAe/9X/zMAbwD+/6T/QQAwAEAAo/+V/8P/WQAvAM//lv83AI8AoP90/0MAUwAuAOv/BADU/68A/P/g/6b/wAAeANr/5/9WAOn//f/B/+f/NgAeALj/5v8gAD4A+//s/8//JQAMANb/5v80ABEAzP+h/04AAADk/+z/0P/O/zYACQB7/zQAlgAAAG7//P86ABsAlP8BACgAcwAOAKv/2v9qAEYA4P+S/3IARgD1/1v/KQARAAgAyP8WAPT/cwABAKz/lP89ABcA7P+y/2MAKQDb/8z//v/8/z4AAQAXAOz/aAAQAMP//v+DAPT/s/9IABgAy/+//1IAm//k/+j/OgDK//f/zv8GAAEADQDZ/4n/TAASAN7/CwA1APP/w//J/+//AAASAPv/1f8+ABwA5f/M/5gAIADc/8H/RgAOAAAAmf8EAPL/VgC3/4D/QgCCANX/uP+t/0QAUgD7/6//agCDAOP/qP/k/0wAFAAAALP/LQAtABwAmf/m/0oAOwCe/+r/DwBEAKP/9P/q/0gASAD//1j/DQAUAPP/n/9VAAMAIAAKAB4A1P8pAA0A/f/j/0UAGAD7/8L/UQD2/9T///8yAPz/EAAeANf/xP8ZAAoAqv8DAEUA+f/T/wcAsP/0/xcA3v/p/z4AbwAhAOD/IwA3AOP/1/8sACAAKgD+//D/vv8tAAUAuf+5/0kA+v/J/8L/OQAIAOv/tv8KAHgAGgD1/7T/AgBMAPb/1v/7/3gAHgDx/wIALwAGAAUAt/8HAF4AJQCt/wYAJAAVAMf/4P/Z/w4AFgDY/7D/3f83AN//vv/j/xEAFgDH/+z/NAAhAPz/GwAHAPD/7/82AMj/EQA2ADsABgASABQA8/8FAA0AAAADAO3/8f/Q/8//2f8dAB4AFAAYAPf/BADv/8L/MAD2/93/QgBXAAkA9//i/+D/DwAlAO3/AwDq/zAADAD4/9X/1P/y/wsAAwDO/9L/tv+w/+b/GgDR/5//QAAhALf/sv8KAMb/uf8tAAMA9f8LAEUADgDW/yUAIAATACgAGgANACsAEQA0AOT/JgBWACEA2f8mAFEA9f8SAAcANABHAO3/5P/2/2gAJQDW/9f/WQAKAOL/HQD8//z/CgD2/+X/KAAdAOn/8f/v/zMA0v+u/+3/HAAQAND/0v/k/+//3P/+/9j/BwDm//X//P/0/wcAFAAdABEASwAaAAAANQBFAAoA+v8EAOX/+/8UAPP/wv/0/ykA7v/q/+D/CQAcAAYA5P/w/wwABAAGAC4AEwAkACQAKgD2/wcAMQA3AAoAAgAKABMArv/u/+n/BQDw/9H/6v8RAAsAxf/m/yAACgCw/6r/MAA4ABMA9P/0/xUAIwASANb/7v8fAAcA2//+/xoAFwDN/wsAFQADAAMA1/84AAkAtv8IAA4A0v/v/wUA+P8NAPz/wf/+/x8A7v+l//b/CQAoAPP/7v8FADMA/P8GAPz/FwAoABQA6v8RABsA5f/j/+f/JwD7/+L//P8RACAAAwDe/93/MwDy/53/4f/r//f/7f/k/7j/GgA3AMf/KgAFAOn/DwAWANr/7v8eAP3/Kw"
      ],
      "text/plain": [
       "<IPython.lib.display.Audio object>"
      ]
     },
     "execution_count": 83,
     "metadata": {},
     "output_type": "execute_result"
    },
    {
     "data": {
      "text/html": [
       "<b>limit_output extension: Maximum message size of 10000 exceeded with 104740 characters</b>"
      ]
     },
     "metadata": {},
     "output_type": "display_data"
    }
   ],
   "source": [
    "augmented_audio = augment_audio(audio, sample_rate, ['treble', '20'])\n",
    "Audio(data=augmented_audio.numpy(), rate=sample_rate)"
   ]
  },
  {
   "cell_type": "code",
   "execution_count": 90,
   "metadata": {
    "ExecuteTime": {
     "end_time": "2021-03-21T08:36:13.483037Z",
     "start_time": "2021-03-21T08:36:13.461561Z"
    }
   },
   "outputs": [
    {
     "data": {
      "text/html": [
       "\n",
       "                <audio  controls=\"controls\" >\n",
       "                    <source src=\"data:audio/wav;base64,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"
      ],
      "text/plain": [
       "<IPython.lib.display.Audio object>"
      ]
     },
     "execution_count": 90,
     "metadata": {},
     "output_type": "execute_result"
    },
    {
     "data": {
      "text/html": [
       "<b>limit_output extension: Maximum message size of 10000 exceeded with 104740 characters</b>"
      ]
     },
     "metadata": {},
     "output_type": "display_data"
    }
   ],
   "source": [
    "augmented_audio = augment_audio(audio, sample_rate, ['bass', '20'])\n",
    "Audio(data=augmented_audio.numpy(), rate=sample_rate)"
   ]
  },
  {
   "cell_type": "code",
   "execution_count": 85,
   "metadata": {
    "ExecuteTime": {
     "end_time": "2021-03-21T08:34:15.040078Z",
     "start_time": "2021-03-21T08:34:15.017892Z"
    }
   },
   "outputs": [
    {
     "data": {
      "text/html": [
       "\n",
       "                <audio  controls=\"controls\" >\n",
       "                    <source src=\"data:audio/wav;base64,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"
      ],
      "text/plain": [
       "<IPython.lib.display.Audio object>"
      ]
     },
     "execution_count": 85,
     "metadata": {},
     "output_type": "execute_result"
    },
    {
     "data": {
      "text/html": [
       "<b>limit_output extension: Maximum message size of 10000 exceeded with 104740 characters</b>"
      ]
     },
     "metadata": {},
     "output_type": "display_data"
    }
   ],
   "source": [
    "augmented_audio = augment_audio(audio, sample_rate, ['pitch', '400'])\n",
    "Audio(data=augmented_audio.numpy(), rate=sample_rate)"
   ]
  },
  {
   "cell_type": "code",
   "execution_count": 86,
   "metadata": {
    "ExecuteTime": {
     "end_time": "2021-03-21T08:34:15.232224Z",
     "start_time": "2021-03-21T08:34:15.213735Z"
    }
   },
   "outputs": [
    {
     "data": {
      "text/html": [
       "\n",
       "                <audio  controls=\"controls\" >\n",
       "                    <source src=\"data:audio/wav;base64,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"
      ],
      "text/plain": [
       "<IPython.lib.display.Audio object>"
      ]
     },
     "execution_count": 86,
     "metadata": {},
     "output_type": "execute_result"
    },
    {
     "data": {
      "text/html": [
       "<b>limit_output extension: Maximum message size of 10000 exceeded with 69924 characters</b>"
      ]
     },
     "metadata": {},
     "output_type": "display_data"
    }
   ],
   "source": [
    "augmented_audio = augment_audio(audio, sample_rate, ['speed', '1.5'])\n",
    "Audio(data=augmented_audio.numpy(), rate=sample_rate)"
   ]
  },
  {
   "cell_type": "code",
   "execution_count": 87,
   "metadata": {
    "ExecuteTime": {
     "end_time": "2021-03-21T08:34:15.447809Z",
     "start_time": "2021-03-21T08:34:15.430075Z"
    }
   },
   "outputs": [
    {
     "data": {
      "text/html": [
       "\n",
       "                <audio  controls=\"controls\" >\n",
       "                    <source src=\"data:audio/wav;base64,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"
      ],
      "text/plain": [
       "<IPython.lib.display.Audio object>"
      ]
     },
     "execution_count": 87,
     "metadata": {},
     "output_type": "execute_result"
    },
    {
     "data": {
      "text/html": [
       "<b>limit_output extension: Maximum message size of 10000 exceeded with 69924 characters</b>"
      ]
     },
     "metadata": {},
     "output_type": "display_data"
    }
   ],
   "source": [
    "augmented_audio = augment_audio(audio, sample_rate, ['tempo', '1.5'])\n",
    "Audio(data=augmented_audio.numpy(), rate=sample_rate)"
   ]
  },
  {
   "cell_type": "markdown",
   "metadata": {},
   "source": [
    " "
   ]
  },
  {
   "cell_type": "markdown",
   "metadata": {},
   "source": [
    "### Аугментации спектрограммы\n",
    "\n",
    "[SpecAugment: A Simple Data Augmentation Method for Automatic Speech Recognition](https://arxiv.org/pdf/1904.08779.pdf)\n",
    "\n",
    "Методов [Frequency masking](https://pytorch.org/audio/stable/transforms.html#frequencymasking) и [Time masking](https://pytorch.org/audio/stable/transforms.html#timemasking) должно быть достаточно."
   ]
  },
  {
   "cell_type": "markdown",
   "metadata": {},
   "source": [
    " "
   ]
  },
  {
   "cell_type": "markdown",
   "metadata": {},
   "source": [
    "# Что еще можно попробовать: \n",
    "\n",
    "1. Поэкспериментировать с learning rate, оптимайзером (например, взять SGD). Можно добавить [lr decay](https://pytorch.org/docs/stable/optim.html#torch.optim.lr_scheduler.ExponentialLR) ★\n",
    "2. Поэкспериментировать с нейронной сетью и восттановлением из чекпоинта. Например, зафиксировать предобученные слои и дообучить остальные, потом с маленьким learning rate дообучить всю модель. ★\n",
    "3. Добавить новые слои в нейронную сеть. ★★\n",
    "4. Использовать больше данных. ★★★\n",
    "<img src=\"images/more_data.jpg\" width=\"400\" height=\"400\">\n",
    "\n",
    "В этом случае для ускорения можно запустить распределенное обучение на нескольких gpu с помощью [horovod](https://github.com/horovod/horovod). Данные можно взять тут:\n",
    "\n",
    "* [open_stt](https://github.com/snakers4/open_stt) (до 2.5 TB данных!)\n",
    "* [Russian LibriSpeech](https://openslr.org/96/) (9 GB данных)\n"
   ]
  },
  {
   "cell_type": "markdown",
   "metadata": {},
   "source": [
    "5\\. Не использовать чекпоинт и обучить свою сеть :) ★ (потребуется больше данных!)\n",
    "\n",
    "6\\. Shallow fusion - можно обучить дополнительную языковую модель и использовать в качестве рескорера \n",
    "[ссылка](https://arxiv.org/pdf/1503.03535.pdf). ★\n",
    "\n",
    "7\\. Реализовать перемешивание батчей. ★\n"
   ]
  },
  {
   "cell_type": "code",
   "execution_count": null,
   "metadata": {},
   "outputs": [],
   "source": []
  }
 ],
 "metadata": {
  "kernelspec": {
   "display_name": "Python 3",
   "language": "python",
   "name": "python3"
  },
  "language_info": {
   "codemirror_mode": {
    "name": "ipython",
    "version": 3
   },
   "file_extension": ".py",
   "mimetype": "text/x-python",
   "name": "python",
   "nbconvert_exporter": "python",
   "pygments_lexer": "ipython3",
   "version": "3.6.9"
  }
 },
 "nbformat": 4,
 "nbformat_minor": 4
}
